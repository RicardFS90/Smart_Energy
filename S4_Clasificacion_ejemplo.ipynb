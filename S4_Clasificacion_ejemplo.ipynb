{
 "cells": [
  {
   "cell_type": "markdown",
   "metadata": {},
   "source": [
    "<img src=\"Figures/top_ML.png\" alt=\"Drawing\" style=\"width: 1000px;\"/>"
   ]
  },
  {
   "cell_type": "markdown",
   "metadata": {},
   "source": [
    "# Sesión 4. Ejemplo de aprendizaje supervisado: clasificación.\n",
    "\n",
    "## *Clasificación binaria de precios de electricidad en el Mercado Diario.*"
   ]
  },
  {
   "cell_type": "markdown",
   "metadata": {},
   "source": [
    "**Objetivo:** predecir en qué horas el precio de la electricidad en el Mercado Diario será elevado, siendo la **clase 0** para valores menores al cuartil superior Q3, y **clase 1** para valores mayores al cuartil superior Q3 (precio electricidad > Q3 = 59 €/MWh).  Se utilizarán datos históricos de la variable target que queremos clasificar y de otros atributos (features) que pueden ayudar a predecir modelo.\n",
    "\n",
    "\n",
    "**Contexto:** Una empresa que compre energía directamente en el mercado diario, quiere conocer el día anterior en que franjas horarias del dia siguiente el coste de la electricidad va a ser excesivamente elevado. Así pueden re-organizar (si es pobible) el consumo de las cargas o descargar baterías durante esas horas, reduciendo el coste de la factura eléctrica.\n",
    "\n",
    "### Antes de empezar:\n",
    "\n",
    "* En el archivo **S4_ejemplo.csv** se encuentra el conjunto de datos de entrada de este ejemplo (atributos + etiqueta). \n"
   ]
  },
  {
   "cell_type": "markdown",
   "metadata": {},
   "source": [
    "## **1. Importar librerías y datos**\n"
   ]
  },
  {
   "cell_type": "code",
   "execution_count": 2,
   "metadata": {},
   "outputs": [],
   "source": [
    "# Importamos las librerías\n",
    "import sklearn\n",
    "import pandas as pd\n",
    "import matplotlib.pyplot as plt\n",
    "import numpy as np\n",
    "\n",
    "# Cargamos el conjunto de datos de entrada\n",
    "dataset = pd.read_csv('Data/S4_ejemplo.csv', delimiter=';')"
   ]
  },
  {
   "cell_type": "markdown",
   "metadata": {},
   "source": [
    "## **2. Comprender los datos**\n",
    "\n",
    "Es necesario visualizar y comprender los datos con los que vamos a trabajar, así como conocer sus características. \n",
    "\n",
    "1. ¿Cuántos datos hay? ¿Cuántos atributos hay en los datos?  \n",
    "2. ¿Qué significan?\n",
    "3. ¿Falta algún dato?\n",
    "4. ¿Están balanceadas las etiquetas? \n",
    "4. Resumen estadístico del conjunto de datos de entrada."
   ]
  },
  {
   "cell_type": "markdown",
   "metadata": {},
   "source": [
    "**1. ¿Cuántos datos hay?**  Hay 21551 filas y 10 columnas en total.  **¿Cuántos atributos hay en los datos?** Existen 9 atrubutos y 1 etiqueta (lo que queremos clasificar)."
   ]
  },
  {
   "cell_type": "code",
   "execution_count": 32,
   "metadata": {},
   "outputs": [
    {
     "data": {
      "text/plain": [
       "(21551, 10)"
      ]
     },
     "execution_count": 32,
     "metadata": {},
     "output_type": "execute_result"
    }
   ],
   "source": [
    "# Filasxcolumnas de los datos\n",
    "dataset.shape\n"
   ]
  },
  {
   "cell_type": "code",
   "execution_count": 29,
   "metadata": {},
   "outputs": [
    {
     "data": {
      "text/html": [
       "<div>\n",
       "<style scoped>\n",
       "    .dataframe tbody tr th:only-of-type {\n",
       "        vertical-align: middle;\n",
       "    }\n",
       "\n",
       "    .dataframe tbody tr th {\n",
       "        vertical-align: top;\n",
       "    }\n",
       "\n",
       "    .dataframe thead th {\n",
       "        text-align: right;\n",
       "    }\n",
       "</style>\n",
       "<table border=\"1\" class=\"dataframe\">\n",
       "  <thead>\n",
       "    <tr style=\"text-align: right;\">\n",
       "      <th></th>\n",
       "      <th>Hora</th>\n",
       "      <th>Mes</th>\n",
       "      <th>Hidraul</th>\n",
       "      <th>Eolica</th>\n",
       "      <th>Demanda</th>\n",
       "      <th>Ciclocomb</th>\n",
       "      <th>Cogener</th>\n",
       "      <th>Nuclear</th>\n",
       "      <th>Carbon</th>\n",
       "      <th>Clases</th>\n",
       "    </tr>\n",
       "  </thead>\n",
       "  <tbody>\n",
       "    <tr>\n",
       "      <th>0</th>\n",
       "      <td>0</td>\n",
       "      <td>1</td>\n",
       "      <td>1061.0</td>\n",
       "      <td>12613.0</td>\n",
       "      <td>19596.0</td>\n",
       "      <td>1322.6</td>\n",
       "      <td>2099.9</td>\n",
       "      <td>7101.5</td>\n",
       "      <td>773.0</td>\n",
       "      <td>0</td>\n",
       "    </tr>\n",
       "    <tr>\n",
       "      <th>1</th>\n",
       "      <td>1</td>\n",
       "      <td>1</td>\n",
       "      <td>1073.0</td>\n",
       "      <td>11423.1</td>\n",
       "      <td>18027.1</td>\n",
       "      <td>1322.6</td>\n",
       "      <td>2087.4</td>\n",
       "      <td>7102.5</td>\n",
       "      <td>772.0</td>\n",
       "      <td>0</td>\n",
       "    </tr>\n",
       "    <tr>\n",
       "      <th>2</th>\n",
       "      <td>2</td>\n",
       "      <td>1</td>\n",
       "      <td>932.8</td>\n",
       "      <td>11052.1</td>\n",
       "      <td>17202.5</td>\n",
       "      <td>1322.6</td>\n",
       "      <td>2124.9</td>\n",
       "      <td>7102.5</td>\n",
       "      <td>701.0</td>\n",
       "      <td>0</td>\n",
       "    </tr>\n",
       "    <tr>\n",
       "      <th>3</th>\n",
       "      <td>3</td>\n",
       "      <td>1</td>\n",
       "      <td>889.7</td>\n",
       "      <td>8176.0</td>\n",
       "      <td>16788.2</td>\n",
       "      <td>1149.6</td>\n",
       "      <td>2123.0</td>\n",
       "      <td>7102.5</td>\n",
       "      <td>521.0</td>\n",
       "      <td>0</td>\n",
       "    </tr>\n",
       "    <tr>\n",
       "      <th>4</th>\n",
       "      <td>4</td>\n",
       "      <td>1</td>\n",
       "      <td>869.6</td>\n",
       "      <td>7748.0</td>\n",
       "      <td>16438.7</td>\n",
       "      <td>1149.6</td>\n",
       "      <td>2119.8</td>\n",
       "      <td>7102.5</td>\n",
       "      <td>521.0</td>\n",
       "      <td>0</td>\n",
       "    </tr>\n",
       "  </tbody>\n",
       "</table>\n",
       "</div>"
      ],
      "text/plain": [
       "   Hora  Mes  Hidraul   Eolica  Demanda  Ciclocomb  Cogener  Nuclear  Carbon  \\\n",
       "0     0    1   1061.0  12613.0  19596.0     1322.6   2099.9   7101.5   773.0   \n",
       "1     1    1   1073.0  11423.1  18027.1     1322.6   2087.4   7102.5   772.0   \n",
       "2     2    1    932.8  11052.1  17202.5     1322.6   2124.9   7102.5   701.0   \n",
       "3     3    1    889.7   8176.0  16788.2     1149.6   2123.0   7102.5   521.0   \n",
       "4     4    1    869.6   7748.0  16438.7     1149.6   2119.8   7102.5   521.0   \n",
       "\n",
       "   Clases  \n",
       "0       0  \n",
       "1       0  \n",
       "2       0  \n",
       "3       0  \n",
       "4       0  "
      ]
     },
     "execution_count": 29,
     "metadata": {},
     "output_type": "execute_result"
    }
   ],
   "source": [
    "# Observa las primeras 5 filas de datos\n",
    "dataset.head()"
   ]
  },
  {
   "cell_type": "code",
   "execution_count": 5,
   "metadata": {},
   "outputs": [
    {
     "data": {
      "text/html": [
       "<div>\n",
       "<style scoped>\n",
       "    .dataframe tbody tr th:only-of-type {\n",
       "        vertical-align: middle;\n",
       "    }\n",
       "\n",
       "    .dataframe tbody tr th {\n",
       "        vertical-align: top;\n",
       "    }\n",
       "\n",
       "    .dataframe thead th {\n",
       "        text-align: right;\n",
       "    }\n",
       "</style>\n",
       "<table border=\"1\" class=\"dataframe\">\n",
       "  <thead>\n",
       "    <tr style=\"text-align: right;\">\n",
       "      <th></th>\n",
       "      <th>Hora</th>\n",
       "      <th>Mes</th>\n",
       "      <th>Hidraul</th>\n",
       "      <th>Eolica</th>\n",
       "      <th>Demanda</th>\n",
       "      <th>Ciclocomb</th>\n",
       "      <th>Cogener</th>\n",
       "      <th>Nuclear</th>\n",
       "      <th>Carbon</th>\n",
       "      <th>Clases</th>\n",
       "    </tr>\n",
       "  </thead>\n",
       "  <tbody>\n",
       "    <tr>\n",
       "      <th>21546</th>\n",
       "      <td>19</td>\n",
       "      <td>6</td>\n",
       "      <td>1867.8</td>\n",
       "      <td>7577.2</td>\n",
       "      <td>20392.4</td>\n",
       "      <td>4808.0</td>\n",
       "      <td>3307.3</td>\n",
       "      <td>4818.7</td>\n",
       "      <td>423.0</td>\n",
       "      <td>0</td>\n",
       "    </tr>\n",
       "    <tr>\n",
       "      <th>21547</th>\n",
       "      <td>20</td>\n",
       "      <td>6</td>\n",
       "      <td>2445.6</td>\n",
       "      <td>7229.4</td>\n",
       "      <td>19657.0</td>\n",
       "      <td>5438.9</td>\n",
       "      <td>3319.9</td>\n",
       "      <td>4818.7</td>\n",
       "      <td>423.0</td>\n",
       "      <td>0</td>\n",
       "    </tr>\n",
       "    <tr>\n",
       "      <th>21548</th>\n",
       "      <td>21</td>\n",
       "      <td>6</td>\n",
       "      <td>2647.0</td>\n",
       "      <td>6403.7</td>\n",
       "      <td>18653.7</td>\n",
       "      <td>4824.0</td>\n",
       "      <td>3318.8</td>\n",
       "      <td>4820.7</td>\n",
       "      <td>423.0</td>\n",
       "      <td>0</td>\n",
       "    </tr>\n",
       "    <tr>\n",
       "      <th>21549</th>\n",
       "      <td>22</td>\n",
       "      <td>6</td>\n",
       "      <td>2574.5</td>\n",
       "      <td>5808.8</td>\n",
       "      <td>18284.9</td>\n",
       "      <td>4788.8</td>\n",
       "      <td>3311.8</td>\n",
       "      <td>4821.7</td>\n",
       "      <td>423.0</td>\n",
       "      <td>0</td>\n",
       "    </tr>\n",
       "    <tr>\n",
       "      <th>21550</th>\n",
       "      <td>23</td>\n",
       "      <td>6</td>\n",
       "      <td>1767.0</td>\n",
       "      <td>5544.1</td>\n",
       "      <td>17126.2</td>\n",
       "      <td>4166.0</td>\n",
       "      <td>3302.0</td>\n",
       "      <td>4822.7</td>\n",
       "      <td>423.0</td>\n",
       "      <td>0</td>\n",
       "    </tr>\n",
       "  </tbody>\n",
       "</table>\n",
       "</div>"
      ],
      "text/plain": [
       "       Hora  Mes  Hidraul  Eolica  Demanda  Ciclocomb  Cogener  Nuclear  \\\n",
       "21546    19    6   1867.8  7577.2  20392.4     4808.0   3307.3   4818.7   \n",
       "21547    20    6   2445.6  7229.4  19657.0     5438.9   3319.9   4818.7   \n",
       "21548    21    6   2647.0  6403.7  18653.7     4824.0   3318.8   4820.7   \n",
       "21549    22    6   2574.5  5808.8  18284.9     4788.8   3311.8   4821.7   \n",
       "21550    23    6   1767.0  5544.1  17126.2     4166.0   3302.0   4822.7   \n",
       "\n",
       "       Carbon  Clases  \n",
       "21546   423.0       0  \n",
       "21547   423.0       0  \n",
       "21548   423.0       0  \n",
       "21549   423.0       0  \n",
       "21550   423.0       0  "
      ]
     },
     "execution_count": 5,
     "metadata": {},
     "output_type": "execute_result"
    }
   ],
   "source": [
    "# Observa las últimas 5 filas de datos\n",
    "dataset.tail()"
   ]
  },
  {
   "cell_type": "markdown",
   "metadata": {},
   "source": [
    "**2. ¿Qué significan?** \n",
    "* ***[Hora, Mes]*** Hora y mes de cada una de las observaciones. Son valores enteros *int64*.\n",
    "\n",
    "* ***[Hidraul, Eolica, Ciclocomb, Cogener, Nuclear, Carbon]*** se refiere a la energía programada horaria en el mercado diario por tipo de producción.  Son valores reales *float*.\n",
    "\n",
    "* ***[Demanda]*** es la totalidad de energía programada en el mercado diario eléctrico en España.  Son valores reales *float*.\n",
    "\n",
    "* ***[Clases]*** son las etiquetas de precio que queremos predecir. Son valores enteros *int64*.\n",
    "\n",
    "\n"
   ]
  },
  {
   "cell_type": "code",
   "execution_count": 6,
   "metadata": {},
   "outputs": [
    {
     "data": {
      "text/plain": [
       "Hora           int64\n",
       "Mes            int64\n",
       "Hidraul      float64\n",
       "Eolica       float64\n",
       "Demanda      float64\n",
       "Ciclocomb    float64\n",
       "Cogener      float64\n",
       "Nuclear      float64\n",
       "Carbon       float64\n",
       "Clases         int64\n",
       "dtype: object"
      ]
     },
     "execution_count": 6,
     "metadata": {},
     "output_type": "execute_result"
    }
   ],
   "source": [
    "# Formato de los datos\n",
    "dataset.dtypes"
   ]
  },
  {
   "cell_type": "markdown",
   "metadata": {},
   "source": [
    "**3. ¿Falta algún dato?** Se comprueba si falta algún dato, y de ser así, se realiza el recuento de celdas vacías en cada atributo. En este caso, no falta ningún dato en el conjunto de datos de entrada (no existen valores *Nan*)."
   ]
  },
  {
   "cell_type": "code",
   "execution_count": 7,
   "metadata": {},
   "outputs": [
    {
     "data": {
      "text/plain": [
       "Hora         0\n",
       "Mes          0\n",
       "Hidraul      0\n",
       "Eolica       0\n",
       "Demanda      0\n",
       "Ciclocomb    0\n",
       "Cogener      0\n",
       "Nuclear      0\n",
       "Carbon       0\n",
       "Clases       0\n",
       "dtype: int64"
      ]
     },
     "execution_count": 7,
     "metadata": {},
     "output_type": "execute_result"
    }
   ],
   "source": [
    "# Comprobar si falta algún dato y en qué atributo\n",
    "dataset.isna().sum()"
   ]
  },
  {
   "cell_type": "markdown",
   "metadata": {},
   "source": [
    "**4. ¿Están balanceadas las etiquetas?** Existe un desbalance de las etiquetas. La etiqueta 0 abarca un 74% de las muestras, mientras que la 1, un 26%. "
   ]
  },
  {
   "cell_type": "code",
   "execution_count": 8,
   "metadata": {},
   "outputs": [
    {
     "data": {
      "text/plain": [
       "0    16165\n",
       "1     5386\n",
       "Name: Clases, dtype: int64"
      ]
     },
     "execution_count": 8,
     "metadata": {},
     "output_type": "execute_result"
    }
   ],
   "source": [
    "# Comprobar si las etiquetas están desvalanceadas\n",
    "dataset['Clases'].value_counts()"
   ]
  },
  {
   "cell_type": "markdown",
   "metadata": {},
   "source": [
    "**5. Resumen estadístico del conjunto de datos de entrada:** La estadística descriptiva recolecta y analiza el conjunto de datos de entrada con el objetivo de describir las características y comportamientos de este conjunto mediante las siguientes medidas resumen: número total de observaciones (count), media (mean), desviación estándar (std), valor mínimo (min), valor máximo (max) y los valores de los diferentes cuartiles (25%, 50%, 75%)."
   ]
  },
  {
   "cell_type": "code",
   "execution_count": 9,
   "metadata": {},
   "outputs": [
    {
     "data": {
      "text/html": [
       "<div>\n",
       "<style scoped>\n",
       "    .dataframe tbody tr th:only-of-type {\n",
       "        vertical-align: middle;\n",
       "    }\n",
       "\n",
       "    .dataframe tbody tr th {\n",
       "        vertical-align: top;\n",
       "    }\n",
       "\n",
       "    .dataframe thead th {\n",
       "        text-align: right;\n",
       "    }\n",
       "</style>\n",
       "<table border=\"1\" class=\"dataframe\">\n",
       "  <thead>\n",
       "    <tr style=\"text-align: right;\">\n",
       "      <th></th>\n",
       "      <th>Hora</th>\n",
       "      <th>Mes</th>\n",
       "      <th>Hidraul</th>\n",
       "      <th>Eolica</th>\n",
       "      <th>Demanda</th>\n",
       "      <th>Ciclocomb</th>\n",
       "      <th>Cogener</th>\n",
       "      <th>Nuclear</th>\n",
       "      <th>Carbon</th>\n",
       "      <th>Clases</th>\n",
       "    </tr>\n",
       "  </thead>\n",
       "  <tbody>\n",
       "    <tr>\n",
       "      <th>count</th>\n",
       "      <td>21551.000000</td>\n",
       "      <td>21551.000000</td>\n",
       "      <td>21551.000000</td>\n",
       "      <td>21551.000000</td>\n",
       "      <td>21551.000000</td>\n",
       "      <td>21551.000000</td>\n",
       "      <td>21551.000000</td>\n",
       "      <td>21551.000000</td>\n",
       "      <td>21551.000000</td>\n",
       "      <td>21551.000000</td>\n",
       "    </tr>\n",
       "    <tr>\n",
       "      <th>mean</th>\n",
       "      <td>11.500441</td>\n",
       "      <td>5.921721</td>\n",
       "      <td>2688.799629</td>\n",
       "      <td>6217.348364</td>\n",
       "      <td>21068.828235</td>\n",
       "      <td>2918.136193</td>\n",
       "      <td>3293.181746</td>\n",
       "      <td>6207.869858</td>\n",
       "      <td>1954.463320</td>\n",
       "      <td>0.249919</td>\n",
       "    </tr>\n",
       "    <tr>\n",
       "      <th>std</th>\n",
       "      <td>6.922205</td>\n",
       "      <td>3.426720</td>\n",
       "      <td>1566.705309</td>\n",
       "      <td>3398.182648</td>\n",
       "      <td>3709.090479</td>\n",
       "      <td>2647.884985</td>\n",
       "      <td>286.246492</td>\n",
       "      <td>931.505669</td>\n",
       "      <td>1916.907903</td>\n",
       "      <td>0.432976</td>\n",
       "    </tr>\n",
       "    <tr>\n",
       "      <th>min</th>\n",
       "      <td>0.000000</td>\n",
       "      <td>1.000000</td>\n",
       "      <td>276.200000</td>\n",
       "      <td>515.900000</td>\n",
       "      <td>11950.400000</td>\n",
       "      <td>157.000000</td>\n",
       "      <td>1825.500000</td>\n",
       "      <td>3410.200000</td>\n",
       "      <td>0.000000</td>\n",
       "      <td>0.000000</td>\n",
       "    </tr>\n",
       "    <tr>\n",
       "      <th>25%</th>\n",
       "      <td>6.000000</td>\n",
       "      <td>3.000000</td>\n",
       "      <td>1416.100000</td>\n",
       "      <td>3581.500000</td>\n",
       "      <td>18119.750000</td>\n",
       "      <td>1090.950000</td>\n",
       "      <td>3126.300000</td>\n",
       "      <td>5483.350000</td>\n",
       "      <td>545.000000</td>\n",
       "      <td>0.000000</td>\n",
       "    </tr>\n",
       "    <tr>\n",
       "      <th>50%</th>\n",
       "      <td>12.000000</td>\n",
       "      <td>5.000000</td>\n",
       "      <td>2324.100000</td>\n",
       "      <td>5543.500000</td>\n",
       "      <td>20966.000000</td>\n",
       "      <td>1776.300000</td>\n",
       "      <td>3325.300000</td>\n",
       "      <td>6477.500000</td>\n",
       "      <td>993.000000</td>\n",
       "      <td>0.000000</td>\n",
       "    </tr>\n",
       "    <tr>\n",
       "      <th>75%</th>\n",
       "      <td>17.500000</td>\n",
       "      <td>9.000000</td>\n",
       "      <td>3732.250000</td>\n",
       "      <td>8296.100000</td>\n",
       "      <td>23816.450000</td>\n",
       "      <td>3976.400000</td>\n",
       "      <td>3493.000000</td>\n",
       "      <td>7028.000000</td>\n",
       "      <td>3190.250000</td>\n",
       "      <td>0.000000</td>\n",
       "    </tr>\n",
       "    <tr>\n",
       "      <th>max</th>\n",
       "      <td>23.000000</td>\n",
       "      <td>12.000000</td>\n",
       "      <td>8504.300000</td>\n",
       "      <td>18996.300000</td>\n",
       "      <td>35458.900000</td>\n",
       "      <td>13789.200000</td>\n",
       "      <td>3936.100000</td>\n",
       "      <td>7115.400000</td>\n",
       "      <td>7465.100000</td>\n",
       "      <td>1.000000</td>\n",
       "    </tr>\n",
       "  </tbody>\n",
       "</table>\n",
       "</div>"
      ],
      "text/plain": [
       "               Hora           Mes       Hidraul        Eolica       Demanda  \\\n",
       "count  21551.000000  21551.000000  21551.000000  21551.000000  21551.000000   \n",
       "mean      11.500441      5.921721   2688.799629   6217.348364  21068.828235   \n",
       "std        6.922205      3.426720   1566.705309   3398.182648   3709.090479   \n",
       "min        0.000000      1.000000    276.200000    515.900000  11950.400000   \n",
       "25%        6.000000      3.000000   1416.100000   3581.500000  18119.750000   \n",
       "50%       12.000000      5.000000   2324.100000   5543.500000  20966.000000   \n",
       "75%       17.500000      9.000000   3732.250000   8296.100000  23816.450000   \n",
       "max       23.000000     12.000000   8504.300000  18996.300000  35458.900000   \n",
       "\n",
       "          Ciclocomb       Cogener       Nuclear        Carbon        Clases  \n",
       "count  21551.000000  21551.000000  21551.000000  21551.000000  21551.000000  \n",
       "mean    2918.136193   3293.181746   6207.869858   1954.463320      0.249919  \n",
       "std     2647.884985    286.246492    931.505669   1916.907903      0.432976  \n",
       "min      157.000000   1825.500000   3410.200000      0.000000      0.000000  \n",
       "25%     1090.950000   3126.300000   5483.350000    545.000000      0.000000  \n",
       "50%     1776.300000   3325.300000   6477.500000    993.000000      0.000000  \n",
       "75%     3976.400000   3493.000000   7028.000000   3190.250000      0.000000  \n",
       "max    13789.200000   3936.100000   7115.400000   7465.100000      1.000000  "
      ]
     },
     "execution_count": 9,
     "metadata": {},
     "output_type": "execute_result"
    }
   ],
   "source": [
    "# Datos estadísticos de cada uno de los atributos\n",
    "dataset.describe()"
   ]
  },
  {
   "cell_type": "markdown",
   "metadata": {},
   "source": [
    "## **3. Visualizar los datos**\n",
    "\n",
    "Una manera visual de entender los datos de entrada. \n",
    "1. Histograma\n",
    "2. Curva de densidad\n",
    "3. Boxplots\n",
    "4. Matriz de correlación\n"
   ]
  },
  {
   "cell_type": "markdown",
   "metadata": {},
   "source": [
    "**1. Histograma**\n",
    "\n",
    "Respresentación gráfica de cada uno de los atributos en forma de barras, donde la superficie de la barra es proporcional a la frecuencia de los valores representados."
   ]
  },
  {
   "cell_type": "code",
   "execution_count": 10,
   "metadata": {},
   "outputs": [
    {
     "data": {
      "image/png": "[encoded data removed]",
      "text/plain": [
       "<Figure size 720x720 with 12 Axes>"
      ]
     },
     "metadata": {
      "needs_background": "light"
     },
     "output_type": "display_data"
    }
   ],
   "source": [
    "histograma = dataset.hist(xlabelsize=10, ylabelsize=10, bins=100, figsize=(10, 10))"
   ]
  },
  {
   "cell_type": "markdown",
   "metadata": {},
   "source": [
    "**2. Gráfico de densidades**\n",
    "\n",
    "Visualiza la distribución de los datos. Es una variable del histograma, pero elimina el ruido, por lo que son mejores para determinar la forma de distribución de un atributo. Lo spicos del gráfico de densidad ayudan a mostrar dónde los valores se concentran más. "
   ]
  },
  {
   "cell_type": "code",
   "execution_count": 11,
   "metadata": {},
   "outputs": [
    {
     "data": {
      "image/png": "[encoded data removed]",
      "text/plain": [
       "<Figure size 720x720 with 12 Axes>"
      ]
     },
     "metadata": {
      "needs_background": "light"
     },
     "output_type": "display_data"
    }
   ],
   "source": [
    "density = dataset.plot(kind='kde', x=4, subplots=True, legend=True, layout=(4, 3), figsize=(10, 10), sharex=False,\n",
    "                        fontsize=8, stacked=True) "
   ]
  },
  {
   "cell_type": "markdown",
   "metadata": {},
   "source": [
    "**3. Boxplots** \n",
    "\n",
    "El boxplot (diagrama de caja) nos permite identificar los valores atípicos y comparar distribuciones. Además, se conoce como se distribuyen el 50% de los valores (dentro de la caja). \n",
    "\n",
    "En este caso, los outliers aportan bastante información, como por ejemplo un dia sin viento, que provoca un aumento considerable de la energía térmica de carbón. "
   ]
  },
  {
   "cell_type": "code",
   "execution_count": 12,
   "metadata": {},
   "outputs": [
    {
     "data": {
      "image/png": "[encoded data removed]",
      "text/plain": [
       "<Figure size 792x792 with 12 Axes>"
      ]
     },
     "metadata": {
      "needs_background": "light"
     },
     "output_type": "display_data"
    }
   ],
   "source": [
    "atributos_boxplot = dataset.plot(kind='box', subplots=True, layout=(4, 3), figsize=(11, 11), sharex=False,\n",
    "                                 sharey=False, fontsize=10)"
   ]
  },
  {
   "cell_type": "markdown",
   "metadata": {},
   "source": [
    "**¿Cómo ha cambiado la distribución de las fuentes de generación en el último año?** "
   ]
  },
  {
   "cell_type": "code",
   "execution_count": 14,
   "metadata": {},
   "outputs": [
    {
     "data": {
      "image/png": "[encoded data removed]",
      "text/plain": [
       "<Figure size 792x792 with 12 Axes>"
      ]
     },
     "metadata": {
      "needs_background": "light"
     },
     "output_type": "display_data"
    }
   ],
   "source": [
    "atributos_boxplot = dataset[12910:].plot(kind='box', subplots=True, layout=(4, 3), figsize=(11, 11), sharex=False,\n",
    "                                 sharey=False, fontsize=10)"
   ]
  },
  {
   "cell_type": "markdown",
   "metadata": {},
   "source": [
    "**4. Matriz de correlación** \n",
    "\n",
    "Tabla de doble entrada de los atributos"
   ]
  },
  {
   "cell_type": "code",
   "execution_count": 15,
   "metadata": {
    "scrolled": false
   },
   "outputs": [
    {
     "data": {
      "image/png": "[encoded data removed]",
      "text/plain": [
       "<Figure size 792x720 with 2 Axes>"
      ]
     },
     "metadata": {
      "needs_background": "light"
     },
     "output_type": "display_data"
    }
   ],
   "source": [
    "# Cálculo de coeficientes de correlación\n",
    "corr_matrix = dataset.corr(method='pearson') \n",
    "\n",
    "# Matriz de correlación\n",
    "fig = plt.figure(figsize=(11, 10))\n",
    "ax = fig.add_subplot(111)\n",
    "cax = ax.matshow(corr_matrix, vmin=-1, vmax=1)\n",
    "fig.colorbar(cax)\n",
    "ticks = np.arange(0, 10, 1)\n",
    "ax.set_xticks(ticks)\n",
    "ax.set_yticks(ticks)\n",
    "ax.set_xticklabels(corr_matrix.columns)\n",
    "ax.set_yticklabels(corr_matrix.columns)\n",
    "plt.show()\n"
   ]
  },
  {
   "cell_type": "markdown",
   "metadata": {},
   "source": [
    "## *4. Preparar los datos*\n",
    "\n",
    "1. Limpieza de datos (data cleaning)\n",
    "2. Transformación"
   ]
  },
  {
   "cell_type": "markdown",
   "metadata": {},
   "source": [
    "Primero, divido los datos en **atributos**: X (features) y **etiquetas**: y (target)"
   ]
  },
  {
   "cell_type": "code",
   "execution_count": 16,
   "metadata": {},
   "outputs": [],
   "source": [
    "# Atributos X (features); etiquetas y (target)\n",
    "X = dataset.drop(['Clases'], axis=1) \n",
    "y = dataset['Clases']"
   ]
  },
  {
   "cell_type": "markdown",
   "metadata": {},
   "source": [
    "**1. Limpieza de datos (data cleaning)**\n",
    "\n",
    "No exisiten Nan en los datos de entrada y no se eliminarán los outliers en este ejemplo. Esto se tratará en la práctica. \n",
    "\n"
   ]
  },
  {
   "cell_type": "markdown",
   "metadata": {},
   "source": [
    "**2. Transformación**. \n",
    "\n",
    "Se escalan los datos utilizando el método de *MinMaxScaler()*, que escala y traduce cada atributo individualmente de tal manera que está dentro del rango [0,1]. Esto es necesario hacerlo cuando las escalas de los atributos son diferentes (eg. mes [0, 11], eólica [515.5, 18996.3])"
   ]
  },
  {
   "cell_type": "code",
   "execution_count": 17,
   "metadata": {},
   "outputs": [
    {
     "data": {
      "text/html": [
       "<div>\n",
       "<style scoped>\n",
       "    .dataframe tbody tr th:only-of-type {\n",
       "        vertical-align: middle;\n",
       "    }\n",
       "\n",
       "    .dataframe tbody tr th {\n",
       "        vertical-align: top;\n",
       "    }\n",
       "\n",
       "    .dataframe thead th {\n",
       "        text-align: right;\n",
       "    }\n",
       "</style>\n",
       "<table border=\"1\" class=\"dataframe\">\n",
       "  <thead>\n",
       "    <tr style=\"text-align: right;\">\n",
       "      <th></th>\n",
       "      <th>Hora</th>\n",
       "      <th>Mes</th>\n",
       "      <th>Hidraul</th>\n",
       "      <th>Eolica</th>\n",
       "      <th>Demanda</th>\n",
       "      <th>Ciclocomb</th>\n",
       "      <th>Cogener</th>\n",
       "      <th>Nuclear</th>\n",
       "      <th>Carbon</th>\n",
       "    </tr>\n",
       "  </thead>\n",
       "  <tbody>\n",
       "    <tr>\n",
       "      <th>0</th>\n",
       "      <td>0.000000</td>\n",
       "      <td>0.0</td>\n",
       "      <td>0.095380</td>\n",
       "      <td>0.654591</td>\n",
       "      <td>0.325227</td>\n",
       "      <td>0.085503</td>\n",
       "      <td>0.130010</td>\n",
       "      <td>0.996249</td>\n",
       "      <td>0.103549</td>\n",
       "    </tr>\n",
       "    <tr>\n",
       "      <th>1</th>\n",
       "      <td>0.043478</td>\n",
       "      <td>0.0</td>\n",
       "      <td>0.096839</td>\n",
       "      <td>0.590204</td>\n",
       "      <td>0.258489</td>\n",
       "      <td>0.085503</td>\n",
       "      <td>0.124088</td>\n",
       "      <td>0.996518</td>\n",
       "      <td>0.103415</td>\n",
       "    </tr>\n",
       "    <tr>\n",
       "      <th>2</th>\n",
       "      <td>0.086957</td>\n",
       "      <td>0.0</td>\n",
       "      <td>0.079800</td>\n",
       "      <td>0.570128</td>\n",
       "      <td>0.223413</td>\n",
       "      <td>0.085503</td>\n",
       "      <td>0.141855</td>\n",
       "      <td>0.996518</td>\n",
       "      <td>0.093904</td>\n",
       "    </tr>\n",
       "    <tr>\n",
       "      <th>3</th>\n",
       "      <td>0.130435</td>\n",
       "      <td>0.0</td>\n",
       "      <td>0.074562</td>\n",
       "      <td>0.414499</td>\n",
       "      <td>0.205789</td>\n",
       "      <td>0.072813</td>\n",
       "      <td>0.140955</td>\n",
       "      <td>0.996518</td>\n",
       "      <td>0.069791</td>\n",
       "    </tr>\n",
       "    <tr>\n",
       "      <th>4</th>\n",
       "      <td>0.173913</td>\n",
       "      <td>0.0</td>\n",
       "      <td>0.072119</td>\n",
       "      <td>0.391339</td>\n",
       "      <td>0.190922</td>\n",
       "      <td>0.072813</td>\n",
       "      <td>0.139439</td>\n",
       "      <td>0.996518</td>\n",
       "      <td>0.069791</td>\n",
       "    </tr>\n",
       "  </tbody>\n",
       "</table>\n",
       "</div>"
      ],
      "text/plain": [
       "       Hora  Mes   Hidraul    Eolica   Demanda  Ciclocomb   Cogener   Nuclear  \\\n",
       "0  0.000000  0.0  0.095380  0.654591  0.325227   0.085503  0.130010  0.996249   \n",
       "1  0.043478  0.0  0.096839  0.590204  0.258489   0.085503  0.124088  0.996518   \n",
       "2  0.086957  0.0  0.079800  0.570128  0.223413   0.085503  0.141855  0.996518   \n",
       "3  0.130435  0.0  0.074562  0.414499  0.205789   0.072813  0.140955  0.996518   \n",
       "4  0.173913  0.0  0.072119  0.391339  0.190922   0.072813  0.139439  0.996518   \n",
       "\n",
       "     Carbon  \n",
       "0  0.103549  \n",
       "1  0.103415  \n",
       "2  0.093904  \n",
       "3  0.069791  \n",
       "4  0.069791  "
      ]
     },
     "execution_count": 17,
     "metadata": {},
     "output_type": "execute_result"
    }
   ],
   "source": [
    "from sklearn.preprocessing import MinMaxScaler\n",
    "\n",
    "scaler = MinMaxScaler()\n",
    "df_scaled = X.copy()\n",
    "X_scaled = pd.DataFrame(scaler.fit_transform(df_scaled))\n",
    "X_scaled.columns = df_scaled.columns\n",
    "X_scaled.head()"
   ]
  },
  {
   "cell_type": "markdown",
   "metadata": {},
   "source": [
    "## *5. Dividir los datos*\n",
    "\n",
    "Se utiliza la semilla ***randome_state=0*** para todos los ejercicios. ***Suffle=True*** indica que los datos se reparten de forma aleatoria entre entreno y prueba. Esto reduce la varianza y evita que el modelo no cree un sobreajuste (overfitting). "
   ]
  },
  {
   "cell_type": "code",
   "execution_count": 18,
   "metadata": {},
   "outputs": [],
   "source": [
    "from sklearn.model_selection import train_test_split\n",
    "\n",
    "test_size = 0.2  # porcentaje de los datos de entrada que utilizaré para validar el modelo\n",
    "\n",
    "# Divido los datos en datos de entreno, validación y prueba\n",
    "X_train, X_test, y_train, y_test = train_test_split(X_scaled, y, test_size=test_size, random_state=0,\n",
    "                                                    shuffle=True)\n",
    "\n",
    "X_train, X_val, y_train, y_val = train_test_split(X_train, y_train, test_size=test_size, random_state=0,\n",
    "                                                    shuffle=True)"
   ]
  },
  {
   "cell_type": "markdown",
   "metadata": {},
   "source": [
    "## *6. Construcción y evaluación de modelos*"
   ]
  },
  {
   "cell_type": "markdown",
   "metadata": {},
   "source": [
    "* La métrica de evaluacion seleccionada es **balanced_accuracy**. En los problemas de clasificación binaria sirve para evaluar a los conjuntos de datos desequilibrados. Se define como el promedio de **Recall** obtenido de cada clase.\n",
    "* Se evaluan los siguientes algoritmos: \n",
    "    * **Logistic Regression** *LogisticRegression()*\n",
    "    * **Support Vector Machine** Classifier *SVC()*\n",
    "    * **K-nearest neighbors Classifier** *KNeighborsClassifier()*\n",
    "    * **Decision Tree Classifier** *DecisionTreeClassifier()*"
   ]
  },
  {
   "cell_type": "code",
   "execution_count": 20,
   "metadata": {},
   "outputs": [],
   "source": [
    "from sklearn.linear_model import LogisticRegression\n",
    "from sklearn.svm import SVC\n",
    "from sklearn.neighbors import KNeighborsClassifier\n",
    "from sklearn.tree import DecisionTreeClassifier\n",
    "\n",
    "num_folds = 5\n",
    "error_metrics = {'balanced_accuracy'}\n",
    "models = {('LR', LogisticRegression()), ('SVC', SVC()), ('KNN', KNeighborsClassifier()),\n",
    "           ('DTC', DecisionTreeClassifier())}\n",
    "\n",
    "results = [] # guarda los resultados de las métricas de evaluación\n",
    "names = []  # Nombre de cada algoritmo\n",
    "msg = []  # imprime el resumen del método de cross-validation\n"
   ]
  },
  {
   "cell_type": "markdown",
   "metadata": {},
   "source": [
    "Se entrenan cada uno de los modelos, se guarda su resultado y se comparan gráficamente. El que mejor resultado da es el **KNN**, ya que su balanced_accuracy es la más alta y su desviación típica es menor (más preciso)."
   ]
  },
  {
   "cell_type": "code",
   "execution_count": 33,
   "metadata": {},
   "outputs": [
    {
     "name": "stdout",
     "output_type": "stream",
     "text": [
      "Métrica de evaluación:  balanced_accuracy\n",
      "Modelo  LR\n",
      "Modelo  DTC\n",
      "Modelo  KNN\n",
      "Modelo  SVC\n",
      "[('LR', 0.8663782393428766, 0.007829785667330523), ('DTC', 0.9314418820473247, 0.005336903488914106), ('KNN', 0.9328957869488272, 0.00522752577398162), ('SVC', 0.9083425864391146, 0.0065441715939557376), ('LR', 0.8663782393428766, 0.007829785667330523), ('DTC', 0.9312764683304472, 0.0055870815298901646), ('KNN', 0.9328957869488272, 0.00522752577398162), ('SVC', 0.9083425864391146, 0.0065441715939557376)]\n"
     ]
    },
    {
     "data": {
      "image/png": "[encoded data removed]",
      "text/plain": [
       "<Figure size 432x288 with 1 Axes>"
      ]
     },
     "metadata": {
      "needs_background": "light"
     },
     "output_type": "display_data"
    }
   ],
   "source": [
    "from sklearn.model_selection import KFold, cross_val_score, GridSearchCV\n",
    "\n",
    "# Entreno con validación cruzada\n",
    "for scoring in error_metrics:\n",
    "    print('Métrica de evaluación: ', scoring)\n",
    "    for name, model in models:\n",
    "        print('Modelo ', name)\n",
    "        cross_validation = KFold(n_splits=num_folds, shuffle=True, random_state=0)\n",
    "        cv_results = cross_val_score(model, X_train, y_train, cv=cross_validation, scoring=scoring)\n",
    "        results.append(cv_results)\n",
    "        names.append(name)\n",
    "        resume = (name, cv_results.mean(), cv_results.std())\n",
    "        msg.append(resume)\n",
    "    print(msg)\n",
    "\n",
    "    # Comparar resultados entre algoritmos\n",
    "    fig = plt.figure()\n",
    "    fig.suptitle('Comparación de algoritmos con métrica de evaluación: %s' %scoring)\n",
    "    ax = fig.add_subplot(111)\n",
    "    ax.set_xlabel('Modelos candidatos')\n",
    "    ax.set_ylabel('%s' %scoring)\n",
    "    plt.boxplot(results)\n",
    "    ax.set_xticklabels(names)\n",
    "    plt.show()\n",
    "\n",
    "    results = []\n"
   ]
  },
  {
   "cell_type": "markdown",
   "metadata": {},
   "source": [
    "## *7. Ajustar hiperparámetros*\n",
    "\n",
    "Pasos para realizar el hiperajuste de los parámetros:\n",
    "* Especificar el modelo a ajustar: *KNeighborsClassifier()*\n",
    "* Especificar una métrica para optimizar: *balanced_accuracy*\n",
    "* Definir los rangos de los parámetros de búsqueda: *params*\n",
    "* Asignar un método de validación: *KFold*\n",
    "* Entrenar con los datos de validación: *X_val*"
   ]
  },
  {
   "cell_type": "code",
   "execution_count": 34,
   "metadata": {},
   "outputs": [
    {
     "name": "stdout",
     "output_type": "stream",
     "text": [
      "Mejor resultado: 0.912662 utilizando los siguientes hiperparámetros {'leaf_size': 30, 'n_neighbors': 5, 'p': 2, 'weights': 'distance'}\n"
     ]
    }
   ],
   "source": [
    "#KNeighborsRegressor\n",
    "\n",
    "modelo = KNeighborsClassifier()\n",
    "scoring='balanced_accuracy'\n",
    "params = {\n",
    "     'n_neighbors': [5, 20, 50], #default=5\n",
    "     'weights': ['uniform','distance'], #'uniform','distance'\n",
    "     'leaf_size': [30,40], #default=30\n",
    "     'p': [2,6], #default=2\n",
    " }\n",
    "\n",
    "# Búsqueda de la mejor combinación de hiperparámetros\n",
    "cross_validation = KFold(n_splits=5, shuffle=True, random_state=0)\n",
    "my_cv = cross_validation.split(X_val)\n",
    "gsearch = GridSearchCV(estimator=modelo, param_grid=params, scoring=scoring, cv=my_cv)\n",
    "gsearch.fit(X_val, y_val)\n",
    "\n",
    "# Imprimo el mejor resultado\n",
    "print(\"Mejor resultado: %f utilizando los siguientes hiperparámetros %s\" % (gsearch.best_score_, gsearch.best_params_))\n",
    "means = gsearch.cv_results_['mean_test_score']\n",
    "stds = gsearch.cv_results_['std_test_score']\n",
    "params = gsearch.cv_results_['params']"
   ]
  },
  {
   "cell_type": "markdown",
   "metadata": {},
   "source": [
    "## *8. Evaluación final del modelo*\n",
    "\n"
   ]
  },
  {
   "cell_type": "markdown",
   "metadata": {},
   "source": [
    "Métricas de evaluación:\n",
    "  * 1. Matriz de confusión\n",
    "  * 2. Coeficiente de Matthews (MCC)\n",
    "\n",
    "    \n",
    "Finalmente, entreno al modelo con los hiperparámetros óptimos encontrados en el apartado anterior y realizo las predicciones. "
   ]
  },
  {
   "cell_type": "code",
   "execution_count": 35,
   "metadata": {},
   "outputs": [],
   "source": [
    "\n",
    "modelo_final = KNeighborsClassifier(n_neighbors=5, weights='distance', leaf_size=30, p=2)\n",
    "modelo_final.fit(X_train,y_train)  # Se entrena al modelo KNN\n",
    "y_predict = modelo_final.predict(X_test)  # Se calculan las predicciones\n",
    "\n"
   ]
  },
  {
   "cell_type": "markdown",
   "metadata": {},
   "source": [
    "**1. Matriz de confusión**"
   ]
  },
  {
   "cell_type": "code",
   "execution_count": 36,
   "metadata": {},
   "outputs": [
    {
     "name": "stdout",
     "output_type": "stream",
     "text": [
      "              precision    recall  f1-score   support\n",
      "\n",
      "           0       0.97      0.98      0.98      3232\n",
      "           1       0.95      0.92      0.94      1079\n",
      "\n",
      "    accuracy                           0.97      4311\n",
      "   macro avg       0.96      0.95      0.96      4311\n",
      "weighted avg       0.97      0.97      0.97      4311\n",
      "\n",
      "[[3182   50]\n",
      " [  82  997]]\n"
     ]
    }
   ],
   "source": [
    "from sklearn.metrics import confusion_matrix, classification_report, plot_confusion_matrix\n",
    "\n",
    "confusion_matrix = confusion_matrix(y_test, y_predict)\n",
    "print(classification_report(y_test, y_predict))\n",
    "print(confusion_matrix)"
   ]
  },
  {
   "cell_type": "code",
   "execution_count": 37,
   "metadata": {},
   "outputs": [
    {
     "data": {
      "image/png": "[encoded data removed]",
      "text/plain": [
       "<Figure size 432x288 with 2 Axes>"
      ]
     },
     "metadata": {
      "needs_background": "light"
     },
     "output_type": "display_data"
    }
   ],
   "source": [
    "# Gráfico no normalizado de la martiz de confusión\n",
    "disp = plot_confusion_matrix(modelo_final, X_test, y_test,\n",
    "                                 cmap=plt.cm.YlGn, values_format = '')"
   ]
  },
  {
   "cell_type": "markdown",
   "metadata": {},
   "source": [
    "**2. Coeficiente de Matthews (MCC)**\n",
    "\n",
    "El MCC utiliza coeficientes de correlación entre -1 y +1. \n",
    "* Coeficiente +1 representa una predicción perfecta\n",
    "* Coeficiente 0 representa una predicción media aleatoria\n",
    "* Coeficiente -1 representa una predicción inversa. "
   ]
  },
  {
   "cell_type": "code",
   "execution_count": 38,
   "metadata": {},
   "outputs": [
    {
     "data": {
      "text/plain": [
       "0.9177806247054396"
      ]
     },
     "execution_count": 38,
     "metadata": {},
     "output_type": "execute_result"
    }
   ],
   "source": [
    "from sklearn.metrics import matthews_corrcoef\n",
    "\n",
    "matthews_corrcoef(y_test, y_predict)"
   ]
  },
  {
   "cell_type": "markdown",
   "metadata": {},
   "source": [
    "## 9. Conclusiones  \n",
    "\n",
    "* El modelo KNN tiene bastante acierto, incluso en la clase minoritaria (precios de la electricidad elevados = 1).\n",
    "* El atributo que más influye en la predicción es la generación de carbón. \n",
    "* Se pueden realizar mejoras, como por ejemplo feature selection (elegir atributos con mayor peso en la clasificación), entrenar con otros algoritmos (Random Forest), comprobar si los resultados dan mejor entrenando diferentes modelos para las diferentes estaciones del año, entrenar al modelo con StratifiesShuffle, etc. \n",
    "* MCC es 0.91, lo cual indica una predicción altamente exacta y precisa. \n",
    " "
   ]
  },
  {
   "cell_type": "code",
   "execution_count": null,
   "metadata": {},
   "outputs": [],
   "source": []
  }
 ],
 "metadata": {
  "kernelspec": {
   "display_name": "Python 3",
   "language": "python",
   "name": "python3"
  },
  "language_info": {
   "codemirror_mode": {
    "name": "ipython",
    "version": 3
   },
   "file_extension": ".py",
   "mimetype": "text/x-python",
   "name": "python",
   "nbconvert_exporter": "python",
   "pygments_lexer": "ipython3",
   "version": "3.7.3"
  }
 },
 "nbformat": 4,
 "nbformat_minor": 2
}
