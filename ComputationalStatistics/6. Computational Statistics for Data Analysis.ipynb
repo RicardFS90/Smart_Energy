{
 "cells": [
  {
   "cell_type": "markdown",
   "metadata": {},
   "source": [
    "<font color='red'> \n",
    "# Computational Statistics for Data Analysis\n",
    "<font\\>"
   ]
  },
  {
   "cell_type": "markdown",
   "metadata": {},
   "source": [
    "# <div class=\"alert alert-error\"><strong><center><small>Statistics is the discipline of using data samples to support claims about populations.<small></center></strong> </div>\n",
    "\n",
    "# Statistics is based on 2 main concepts: #\n",
    "\n",
    "* A **population** is a collection of objects, items (“units”) about which information is sought.\n",
    "\n",
    "* A **sample** is a part of the population that is observed."
   ]
  },
  {
   "cell_type": "markdown",
   "metadata": {},
   "source": [
    "# Index"
   ]
  },
  {
   "cell_type": "markdown",
   "metadata": {},
   "source": [
    "### 1 Descriptive Statistics.\n",
    "* 1.1 Getting data\n",
    "* 1.2 Data preparation\n",
    "* 1.3 Improving data as a pandas DataFrame\n",
    "* 1.4 Data cleaning and preparation\n",
    " "
   ]
  },
  {
   "cell_type": "markdown",
   "metadata": {},
   "source": [
    "### 2 Exploratory Data Analysis.\n",
    "* 2.1 Summarizing the data: mean, variance, median, quantiles & percentiles\n",
    "* 2.2 Histogram\n",
    "* 2.3 Data distributions\n",
    "    * 2.3.1 PMF\n",
    "    * 2.3.2 CDF\n",
    "* 2.4 Outliers\n",
    "* 2.5 Measuring asymmetry\n",
    "    * 2.5.1 Skewness\n",
    "    * 2.5.2 Pearson's median skewness coefficient\n",
    "* 2.6 Relative risk\n",
    "* 2.7 A firts glimpse to Conditional Probability\n"
   ]
  },
  {
   "cell_type": "markdown",
   "metadata": {},
   "source": [
    "### 3 Probabilities. \n",
    "* 3.1 Probability rules\n",
    "* 3.2 Binomial distribution\n",
    "* 3.3 Monte Carlo"
   ]
  },
  {
   "cell_type": "markdown",
   "metadata": {},
   "source": [
    "\n",
    "<center><img src=\"images/taft_puck_eggdig.jpg\">\n",
    "</center><center><img src=\"images/eggs.png\"></center>\n",
    "<center><small>Headline from Chicago Tribune June 13, 1897.</small></center>"
   ]
  },
  {
   "cell_type": "markdown",
   "metadata": {},
   "source": [
    "Read more: \"http://ptara.com/2011/12/17/never-eat-eggs-with-an-angry-stomach/\""
   ]
  },
  {
   "cell_type": "markdown",
   "metadata": {},
   "source": [
    "### \"Do firts babies arrive late?\"\n",
    "\n",
    "***From [Think Stats: Probability and Statistics for Programmers](http://www.greenteapress.com/thinkstats/), by Allen B. Downey, published by O'Reilly Media.***\n",
    "\n",
    "Some people believe it is true, but **without data analysis** to support it, this claim is a case of *anecdotal evidence*:\n",
    "\n",
    "* There are a *small number of samples* (personal experience, friends, etc.).\n",
    "* There is a *selection bias*: most *believers* are interested in this claim because their first babies were late.\n",
    "* There is a *confirmation bias*: believers might be more likely to contribute data that confirm it.\n",
    "* Sources are *innaccurate*: personal stories are subject to memory deformations. \n",
    "\n"
   ]
  },
  {
   "cell_type": "markdown",
   "metadata": {},
   "source": [
    "<font color='blue'>\n",
    "# 1 Descriptive Statistics.\n",
    "* 1.1 Getting data\n",
    "* 1.2 Data preparation\n",
    "* 1.3 Improving data as a pandas DataFrame\n",
    "* 1.4 Data cleaning \n",
    " <font\\>"
   ]
  },
  {
   "cell_type": "markdown",
   "metadata": {},
   "source": [
    "## 1.1 Getting Data\n",
    "\n",
    "There is an interesting and publicly available **data source** to check the claim of babies arrival. Since 1973 the U.S. Centers for Disease Control and Prevention (CDC) have conducted a survey, the National Survey of Family Growth (NSFG), to gather *information on family life, marriage and divorce, pregnancy, infertility, use of contraception, and men's and women's health.* \n",
    "\n",
    "Data can be downloaded from: \n",
    "\n",
    "http://www.cdc.gov/nchs/nsfg/nsfg_cycle6.htm#cyc6downdatafiles\n",
    "\n",
    "We will use this file: \n",
    "\n",
    "* Female Pregnancy Data File (2002FemPreg.dat): one record for each pregnancy reported by a respondent."
   ]
  },
  {
   "cell_type": "markdown",
   "metadata": {},
   "source": [
    "There are 13593 pregnancies in our data. The meaning of the data is (each record is in a line):\n",
    "\n",
    "+ <code>case.id</code> is the ID of the respondent. From col 1 to 12.\n",
    "+ <code>prg.lenght</code> is the duration of the pregnancy in weeks. From col 275 to 276. \n",
    "+ <code>outcome</code> is the outcome of the pregnancy (1 = live birth). Col 277.\n",
    "+ <code>birth.ord</code> is the integer birth order of each live birth. From col 278 to 279.\n"
   ]
  },
  {
   "cell_type": "markdown",
   "metadata": {},
   "source": [
    "<small> If curious: Online documentation of the survey is at http://www.icpsr.umich.edu/nsfg6.<small> "
   ]
  },
  {
   "cell_type": "markdown",
   "metadata": {},
   "source": [
    "### 1.2 Data preparation\n",
    "\n",
    "One of the reasons we are using a general-purpose language such as Python rather than a stats language like R is that for many projects the *hard* part is preparing the data, not doing the analysis.\n",
    "\n",
    "The most common steps are:\n",
    "\n",
    "1. **Getting the data**. Data can be directly read from a file or it might be necessary to scrap the web.\n",
    "2. **Parsing the data**.  Of course, this depends on what format it is in: plain text, fixed columns, CSV, XML, HTML, etc.\n",
    "3. **Cleaning the data**.  Survey responses and other data files are almost always incomplete.  Sometimes there are multiple codes for things like, *not asked*, *did not know*, and *declined to answer*. And there are almost always errors. A simple strategy is to remove or ignore incomplete records.\n",
    "4. **Building data structures**. Once you read the data, you usually want to store it in a data structure that lends itself to the analysis you want to do.\n",
    "\n",
    "If the data fits into memory, building a data structure is usually the way to go.   If not, you could build a **database**, which is an out-of-memory data structure. Most databases provide a mapping from keys to values, so they are like dictionaries."
   ]
  },
  {
   "cell_type": "code",
   "execution_count": 4,
   "metadata": {},
   "outputs": [
    {
     "ename": "ValueError",
     "evalue": "invalid literal for int() with base 10: '  '",
     "output_type": "error",
     "traceback": [
      "\u001b[0;31m---------------------------------------------------------------------------\u001b[0m",
      "\u001b[0;31mValueError\u001b[0m                                Traceback (most recent call last)",
      "\u001b[0;32m<ipython-input-4-894488deae07>\u001b[0m in \u001b[0;36m<module>\u001b[0;34m()\u001b[0m\n\u001b[1;32m      6\u001b[0m \u001b[0;32mfor\u001b[0m \u001b[0mline\u001b[0m \u001b[0;32min\u001b[0m \u001b[0mfile\u001b[0m\u001b[0;34m:\u001b[0m\u001b[0;34m\u001b[0m\u001b[0;34m\u001b[0m\u001b[0m\n\u001b[1;32m      7\u001b[0m     preg.append([int(line[:12]), int(line[274:276]), int(line[276]),\n\u001b[0;32m----> 8\u001b[0;31m                  int(line[277:279])])\n\u001b[0m",
      "\u001b[0;31mValueError\u001b[0m: invalid literal for int() with base 10: '  '"
     ]
    }
   ],
   "source": [
    "file = open('files/2002FemPreg.dat', 'r')\n",
    "\n",
    "# Let's build a list of lists.\n",
    "\n",
    "preg=[]\n",
    "for line in file:\n",
    "    preg.append([int(line[:12]), int(line[274:276]), int(line[276]),\n",
    "                 int(line[277:279])])"
   ]
  },
  {
   "cell_type": "markdown",
   "metadata": {},
   "source": [
    "Ooops! There is something wrong in the data file!\n",
    "\n",
    "By inspecting the data we can observe that there are some empty records that caused an error to the ``int`` function."
   ]
  },
  {
   "cell_type": "code",
   "execution_count": 5,
   "metadata": {
    "collapsed": true
   },
   "outputs": [],
   "source": [
    "file = open('files/2002FemPreg.dat', 'r')\n",
    "\n",
    "def chr_int(a):\n",
    "    if a == '  ':\n",
    "        return 0\n",
    "    else:\n",
    "        return int(a)\n",
    "        \n",
    "preg=[]\n",
    "for line in file:\n",
    "    lst  = [int(line[:12]), int(line[274:276]), int(line[276]), \\\n",
    "                 chr_int(line[277:279])]\n",
    "    preg.append(lst)"
   ]
  },
  {
   "cell_type": "code",
   "execution_count": 6,
   "metadata": {},
   "outputs": [
    {
     "name": "stdout",
     "output_type": "stream",
     "text": [
      "[1, 39, 1, 2]\n",
      "The number of entries is:  13593\n"
     ]
    }
   ],
   "source": [
    "print(preg[1])\n",
    "print('The number of entries is: ', len(preg))"
   ]
  },
  {
   "cell_type": "markdown",
   "metadata": {},
   "source": [
    "### 1.3 Importing data as a pandas DataFrame"
   ]
  },
  {
   "cell_type": "code",
   "execution_count": 7,
   "metadata": {},
   "outputs": [
    {
     "data": {
      "text/html": [
       "<div>\n",
       "<style>\n",
       "    .dataframe thead tr:only-child th {\n",
       "        text-align: right;\n",
       "    }\n",
       "\n",
       "    .dataframe thead th {\n",
       "        text-align: left;\n",
       "    }\n",
       "\n",
       "    .dataframe tbody tr th {\n",
       "        vertical-align: top;\n",
       "    }\n",
       "</style>\n",
       "<table border=\"1\" class=\"dataframe\">\n",
       "  <thead>\n",
       "    <tr style=\"text-align: right;\">\n",
       "      <th></th>\n",
       "      <th>caseId</th>\n",
       "      <th>prgLength</th>\n",
       "      <th>outcome</th>\n",
       "      <th>birthOrd</th>\n",
       "    </tr>\n",
       "  </thead>\n",
       "  <tbody>\n",
       "    <tr>\n",
       "      <th>0</th>\n",
       "      <td>1</td>\n",
       "      <td>39</td>\n",
       "      <td>1</td>\n",
       "      <td>1</td>\n",
       "    </tr>\n",
       "    <tr>\n",
       "      <th>1</th>\n",
       "      <td>1</td>\n",
       "      <td>39</td>\n",
       "      <td>1</td>\n",
       "      <td>2</td>\n",
       "    </tr>\n",
       "    <tr>\n",
       "      <th>2</th>\n",
       "      <td>2</td>\n",
       "      <td>39</td>\n",
       "      <td>1</td>\n",
       "      <td>1</td>\n",
       "    </tr>\n",
       "    <tr>\n",
       "      <th>3</th>\n",
       "      <td>2</td>\n",
       "      <td>39</td>\n",
       "      <td>1</td>\n",
       "      <td>2</td>\n",
       "    </tr>\n",
       "    <tr>\n",
       "      <th>4</th>\n",
       "      <td>2</td>\n",
       "      <td>39</td>\n",
       "      <td>1</td>\n",
       "      <td>3</td>\n",
       "    </tr>\n",
       "  </tbody>\n",
       "</table>\n",
       "</div>"
      ],
      "text/plain": [
       "   caseId  prgLength  outcome  birthOrd\n",
       "0       1         39        1         1\n",
       "1       1         39        1         2\n",
       "2       2         39        1         1\n",
       "3       2         39        1         2\n",
       "4       2         39        1         3"
      ]
     },
     "execution_count": 7,
     "metadata": {},
     "output_type": "execute_result"
    }
   ],
   "source": [
    "%matplotlib inline\n",
    "\n",
    "import pandas as pd\n",
    "df = pd.DataFrame(preg) #  Two-dimensional size-mutable, potentially heterogeneous tabular \n",
    "        #data structure with labeled axes \n",
    "    \n",
    "df.columns = ['caseId', 'prgLength', 'outcome', 'birthOrd']\n",
    "df.head()"
   ]
  },
  {
   "cell_type": "code",
   "execution_count": 8,
   "metadata": {},
   "outputs": [
    {
     "name": "stdout",
     "output_type": "stream",
     "text": [
      "The number of first babies is:  4413\n",
      "Number of babies according to their order:  birthOrd\n",
      "0     4445\n",
      "1     4413\n",
      "2     2874\n",
      "3     1234\n",
      "4      421\n",
      "5      126\n",
      "6       50\n",
      "7       20\n",
      "8        7\n",
      "9        2\n",
      "10       1\n",
      "dtype: int64\n"
     ]
    }
   ],
   "source": [
    "counts = df.groupby('birthOrd').size()\n",
    "print('The number of first babies is: ',counts[1])\n",
    "print('Number of babies according to their order: ',counts) \n",
    "\n",
    "# also: df.outcome.value_counts()"
   ]
  },
  {
   "cell_type": "markdown",
   "metadata": {},
   "source": [
    "Let's count the number of  births according to the order.\n",
    "\n",
    "Let's build a partition of *live births* into two groups: first babies and others."
   ]
  },
  {
   "cell_type": "code",
   "execution_count": 9,
   "metadata": {},
   "outputs": [
    {
     "name": "stdout",
     "output_type": "stream",
     "text": [
      "The number of first babies is:  4413\n"
     ]
    }
   ],
   "source": [
    "# Divide records into two lists: first babies and others.\n",
    "\n",
    "firstbirth = df[ (df.outcome == 1) & (df.birthOrd == 1)]\n",
    "print('The number of first babies is: ', firstbirth.shape[0])"
   ]
  },
  {
   "cell_type": "code",
   "execution_count": 10,
   "metadata": {},
   "outputs": [
    {
     "name": "stdout",
     "output_type": "stream",
     "text": [
      "The number of others babies is:  4735\n"
     ]
    }
   ],
   "source": [
    "othersbirth = df[(df.outcome == 1) & (df.birthOrd >= 2)]\n",
    "print('The number of others babies is: ', othersbirth.shape[0])"
   ]
  },
  {
   "cell_type": "markdown",
   "metadata": {},
   "source": [
    "### 1.4 Data Cleaning\n",
    "\n",
    "The most common steps are:\n",
    "\n",
    "+ **Sample the data**. If the amount of raw data is huge, processing all of them may require an extensive amount of processing power which may not be practical.  \n",
    "\n",
    "\n",
    "+ **Impute missing data**. It is quite common that some of the input records are incomplete in the sense that certain fields are missing or have input error.  Validate the format and value! \n",
    "\n",
    "In case of fields missing: \n",
    "<small>\n",
    "* (a) Discard the whole record if it is incomplete; \n",
    "* (b) Infer the missing value based on the data from other records (fill the missing data with the average or the median).\n",
    "<small>\n",
    "\n"
   ]
  },
  {
   "cell_type": "markdown",
   "metadata": {},
   "source": [
    "+ **Normalize numeric value**. Normalize data is about transforming numeric data into a uniform range.\n",
    "+ **Reduce dimensionality**. High dimensionality can be a problem for some machine learning methods.  There are two ways to reduce the number of input features.  One is about $removing$ $irrelevant$ input variables, another one is about $removing$ $redundant$ input variables.\n",
    "+ **Add derived features**. In some cases, we may need to compute additional attributes from existing attributes (f.e. converting a geo-location to a zip code, or converting the age to an age group).\n",
    "+ **Discretize numeric value into categories**. Discretize data is about cutting a continuous value into ranges and assigning the numeric with the corresponding bucket of the range it falls on.  For numeric attribute, a common way to generalize it is to discretize it into ranges, which can be either constant width (variable height/frequency) or variable width (constant height).\n",
    "+ **Binarize categorical attributes**. Certain machine learning models only take binary input (or numeric input).  In this case, we need to convert categorical attribute into multiple binary attributes, while each binary attribute corresponds to a particular value of the category. "
   ]
  },
  {
   "cell_type": "markdown",
   "metadata": {},
   "source": [
    "+ **Select, combine, aggregate data**. Designing the form of training data is the most important part of the whole predictive modeling exercise because the accuracy largely depends on whether the input features are structured in an appropriate form that provide strong signals to the learning algorithm. Rather than using the raw data as it is, it is quite common that multiple pieces of raw data need to be combined together, or aggregating multiple raw data records along some dimensions."
   ]
  },
  {
   "cell_type": "markdown",
   "metadata": {},
   "source": [
    "<font color='blue'>\n",
    "## 2 Exploratory Data Analysis.\n",
    "* 2.1 Summariizing the data: mean, variance, median, quantiles & percentiles\n",
    "* 2.2 Histogram\n",
    "* 2.3 Data distributions\n",
    "* 2.3.1 PMF\n",
    "* 2.3.2 CDF\n",
    "* 2.4 Outliers\n",
    "* 2.5 Measuring asymmetry\n",
    "* 2.5.1 Skewness\n",
    "* 2.5.2 Pearson's median skewness coefficient\n",
    "* 2.6 Relative risk\n",
    "* 2.7 A firts glimpse to Conditional Probability\n",
    "<font\\>"
   ]
  },
  {
   "cell_type": "markdown",
   "metadata": {},
   "source": [
    "### 2.1 Summarizing the data: \n",
    "#### 2.1.1 Sample Mean \n",
    "\n",
    "If you have a sample of $n$ values, $x_i$, the **sample mean** is the sum of the values divided by the number of values:\n",
    "\n",
    "$$ \\mu = \\frac{1}{n} \\sum_i x_i$$\n",
    "\n",
    "The **mean** is the most basic and important summary statistic. It describes the central tendency of a sample. "
   ]
  },
  {
   "cell_type": "markdown",
   "metadata": {},
   "source": [
    "Let's see if there is a difference between firstbirth and othersbirth:"
   ]
  },
  {
   "cell_type": "code",
   "execution_count": 11,
   "metadata": {},
   "outputs": [
    {
     "name": "stdout",
     "output_type": "stream",
     "text": [
      "The mean of the first birth is:  38.60095173351461\n",
      "The mean of the non first birth is:  38.52291446673706\n"
     ]
    }
   ],
   "source": [
    "print('The mean of the first birth is: ', firstbirth['prgLength'].mean())\n",
    "print('The mean of the non first birth is: ', othersbirth['prgLength'].mean())"
   ]
  },
  {
   "cell_type": "code",
   "execution_count": 12,
   "metadata": {},
   "outputs": [
    {
     "name": "stdout",
     "output_type": "stream",
     "text": [
      "0.07803726677754952 weeks\n"
     ]
    }
   ],
   "source": [
    "print(abs(firstbirth['prgLength'].mean()-\n",
    "          othersbirth['prgLength'].mean()),\"weeks\")"
   ]
  },
  {
   "cell_type": "code",
   "execution_count": 13,
   "metadata": {},
   "outputs": [
    {
     "name": "stdout",
     "output_type": "stream",
     "text": [
      "0.5462608674428466 days\n"
     ]
    }
   ],
   "source": [
    "print(abs(firstbirth['prgLength'].mean()-\n",
    "          othersbirth['prgLength'].mean())*7,\"days\")"
   ]
  },
  {
   "cell_type": "code",
   "execution_count": 14,
   "metadata": {},
   "outputs": [
    {
     "name": "stdout",
     "output_type": "stream",
     "text": [
      "13.11026081862832 hours\n"
     ]
    }
   ],
   "source": [
    "print(abs(firstbirth['prgLength'].mean()-\n",
    "          othersbirth['prgLength'].mean())*7*24, \"hours\")"
   ]
  },
  {
   "cell_type": "markdown",
   "metadata": {},
   "source": [
    "This difference in sample means can be considered a first evidence of our hypothesis!\n",
    "\n",
    "\n",
    "**Comment: ** Do not confuse both concepts: the population mean and the sample mean.  The first one is the mean of samples taken from the population and the second one is the mean of the whole population."
   ]
  },
  {
   "cell_type": "markdown",
   "metadata": {},
   "source": [
    "#### 2.1.2 Sample Variance\n",
    "\n",
    "Usually, mean is not a sufficient descriptor of the data, we can do a little better with two numbers: mean and **variance**:\n",
    "\n",
    "$$ \\sigma^2 = \\frac{1}{n} \\sum_i (x_i - \\mu)^2 $$\n",
    "\n",
    "**Variance** $\\sigma^2$ describes the *spread* of data. The term $(x_i - \\mu)$ is called the *deviation from the mean*, so variance is the mean squared deviation.\n",
    "\n",
    "The square root of variance, $\\sigma$, is called the **standard deviation**. We define standard deviation because variance is hard to interpret (in the case the units are grams, the variance is in grams squared).\n"
   ]
  },
  {
   "cell_type": "code",
   "execution_count": 15,
   "metadata": {},
   "outputs": [
    {
     "name": "stdout",
     "output_type": "stream",
     "text": [
      "Firstbirth mu1: 38.60095173351461 var1: 7.794713509229059 std1: 2.7919014146686947\n",
      "Othersbirhts mu2: 38.52291446673706 var2: 6.842683519298573 std2: 2.615852350439255\n"
     ]
    }
   ],
   "source": [
    "mu1 = firstbirth['prgLength'].mean()\n",
    "mu2 = othersbirth['prgLength'].mean()\n",
    "var1 = firstbirth['prgLength'].var()\n",
    "var2 = othersbirth['prgLength'].var()\n",
    "std1 = firstbirth['prgLength'].std()\n",
    "std2 = othersbirth['prgLength'].std()\n",
    "print('Firstbirth mu1:', mu1, 'var1:', var1, 'std1:', std1)\n",
    "print('Othersbirhts mu2:', mu2, 'var2:', var2, 'std2:', std2)"
   ]
  },
  {
   "cell_type": "markdown",
   "metadata": {},
   "source": [
    "#### 2.1.3 Sample Median\n",
    "\n",
    "The statistical median is an order statistic that gives the *middle* value of a sample. It is a value more robust to ouliers."
   ]
  },
  {
   "cell_type": "code",
   "execution_count": 16,
   "metadata": {},
   "outputs": [
    {
     "name": "stdout",
     "output_type": "stream",
     "text": [
      "The median measures of both first- and otherbirths are:  39.0 39.0\n"
     ]
    }
   ],
   "source": [
    "firstbirthmedian= firstbirth['prgLength'].median()\n",
    "othersbirthmedian= othersbirth['prgLength'].median()\n",
    "print('The median measures of both first- and otherbirths are: ', \n",
    "      firstbirthmedian, othersbirthmedian)"
   ]
  },
  {
   "cell_type": "markdown",
   "metadata": {},
   "source": [
    "<center><img src=\"images/mean_median.gif\">"
   ]
  },
  {
   "cell_type": "markdown",
   "metadata": {},
   "source": [
    "#### 2.1.4 Summarizing the data: Quantiles & Percentiles\n",
    "\n",
    "Order the sample $\\{ x_i \\}$, then find $x_p$ so that it divides the data into two parts where:\n",
    "\n",
    "+ a fraction $p$ of the data values are less than or equal to $x_p$ and\n",
    "+ the remaining fraction $(1 − p)$ are greater than $x_p$.\n",
    "\n",
    "That value $x_p$ is the pth-quantile, or 100×pth percentile.\n",
    "\n",
    "**5-number summary**: $x_{min}, Q_1, Q_2, Q_3, x_{max}$, where $Q_1$ is the 25×pth percentile,\n",
    "$Q_2$ is the 50×pth percentile and $Q_3$ is the 75×pth percentile."
   ]
  },
  {
   "cell_type": "markdown",
   "metadata": {},
   "source": [
    "### 2.2 Histogram"
   ]
  },
  {
   "cell_type": "markdown",
   "metadata": {},
   "source": [
    "The most common representation of a distribution is a **histogram**, which is a graph that shows the frequency of each value."
   ]
  },
  {
   "cell_type": "code",
   "execution_count": 17,
   "metadata": {},
   "outputs": [
    {
     "data": {
      "text/plain": [
       "<matplotlib.axes._subplots.AxesSubplot at 0x119ccacf8>"
      ]
     },
     "execution_count": 17,
     "metadata": {},
     "output_type": "execute_result"
    },
    {
     "data": {
      "image/png": "[encoded data removed]",
      "text/plain": [
       "<matplotlib.figure.Figure at 0x119cca6a0>"
      ]
     },
     "metadata": {},
     "output_type": "display_data"
    }
   ],
   "source": [
    "fb=firstbirth['prgLength']\n",
    "\n",
    "fb.hist(normed=0, histtype='stepfilled', bins=30)"
   ]
  },
  {
   "cell_type": "code",
   "execution_count": 18,
   "metadata": {},
   "outputs": [
    {
     "data": {
      "text/plain": [
       "<matplotlib.axes._subplots.AxesSubplot at 0x1086e9d30>"
      ]
     },
     "execution_count": 18,
     "metadata": {},
     "output_type": "execute_result"
    },
    {
     "data": {
      "image/png": "[encoded data removed]",
      "text/plain": [
       "<matplotlib.figure.Figure at 0x119cca940>"
      ]
     },
     "metadata": {},
     "output_type": "display_data"
    }
   ],
   "source": [
    "        \n",
    "ob=othersbirth['prgLength']\n",
    "ob.hist(normed=0, histtype='stepfilled', bins=30)"
   ]
  },
  {
   "cell_type": "code",
   "execution_count": 19,
   "metadata": {},
   "outputs": [
    {
     "data": {
      "text/plain": [
       "<matplotlib.axes._subplots.AxesSubplot at 0x1a1c16e080>"
      ]
     },
     "execution_count": 19,
     "metadata": {},
     "output_type": "execute_result"
    },
    {
     "data": {
      "image/png": "[encoded data removed]",
      "text/plain": [
       "<matplotlib.figure.Figure at 0x11a01ab70>"
      ]
     },
     "metadata": {},
     "output_type": "display_data"
    }
   ],
   "source": [
    "import seaborn as sns\n",
    "import warnings\n",
    "warnings.filterwarnings('ignore')\n",
    "\n",
    "fb.hist(normed=1, histtype='stepfilled', alpha=.5)   # default number of bins = 10\n",
    "ob.hist(normed=1, histtype='stepfilled', alpha=.5, color=sns.desaturate(\"indianred\", .75))"
   ]
  },
  {
   "cell_type": "code",
   "execution_count": 20,
   "metadata": {},
   "outputs": [
    {
     "name": "stdout",
     "output_type": "stream",
     "text": [
      "Firstbirhts:  DescribeResult(nobs=4413, minmax=(0, 48), mean=38.60095173351461, variance=7.794713509229203, skewness=-2.5904758400585424, kurtosis=15.132902638550163)\n",
      "Othersbirths:  DescribeResult(nobs=4735, minmax=(4, 50), mean=38.52291446673706, variance=6.842683519298484, skewness=-3.1536063733026825, kurtosis=20.77720107598575)\n"
     ]
    }
   ],
   "source": [
    "import scipy.stats as stats\n",
    "\n",
    "# Computes several descriptive statistics:\n",
    "# size of the data \n",
    "# minimum and maximum value of data array\n",
    "# arithmetic mean \n",
    "# unbiased variance \n",
    "# biased skewness \n",
    "# kurtosis (Fisher)\n",
    "\n",
    "print('Firstbirhts: ', stats.describe(fb.values))\n",
    "\n",
    "print('Othersbirths: ', stats.describe(ob.values))"
   ]
  },
  {
   "cell_type": "markdown",
   "metadata": {},
   "source": [
    "## 2.3 Data Distributions\n",
    "\n",
    "Summarizing can be dangerous: very different data can be described by the same statistics. It must be validated by inspecting the data.\n",
    "\n",
    "We can look at the **data distribution**, which describes how often (frequency) each value appears.\n",
    "\n",
    "\n",
    "We can normalize the frequencies of the histogram by dividing/normalizing by $n$, the number of samples. The normalized histogram is called **Probability Mass Function (PMF)**."
   ]
  },
  {
   "cell_type": "code",
   "execution_count": 21,
   "metadata": {},
   "outputs": [
    {
     "data": {
      "text/plain": [
       "<matplotlib.axes._subplots.AxesSubplot at 0x11a01a0b8>"
      ]
     },
     "execution_count": 21,
     "metadata": {},
     "output_type": "execute_result"
    },
    {
     "data": {
      "image/png": "[encoded data removed]",
      "text/plain": [
       "<matplotlib.figure.Figure at 0x11a0210b8>"
      ]
     },
     "metadata": {},
     "output_type": "display_data"
    }
   ],
   "source": [
    "# if needed, execute the command 'pip3 install seaborn'\n",
    "\n",
    "import seaborn as sns\n",
    "\n",
    "fb.hist(normed=1, histtype='stepfilled')\n",
    "ob.hist(normed=1, histtype='stepfilled', color=sns.desaturate(\"indianred\", .75))"
   ]
  },
  {
   "cell_type": "markdown",
   "metadata": {},
   "source": [
    "The **cumulative distribution function (CDF)**, or just distribution function, describes the probability that a real-valued random variable X with a given probability distribution will be found to have a value less than or equal to x. "
   ]
  },
  {
   "cell_type": "code",
   "execution_count": 22,
   "metadata": {},
   "outputs": [
    {
     "data": {
      "text/plain": [
       "<matplotlib.axes._subplots.AxesSubplot at 0x1a1c25c780>"
      ]
     },
     "execution_count": 22,
     "metadata": {},
     "output_type": "execute_result"
    },
    {
     "data": {
      "image/png": "[encoded data removed]",
      "text/plain": [
       "<matplotlib.figure.Figure at 0x10871d048>"
      ]
     },
     "metadata": {},
     "output_type": "display_data"
    }
   ],
   "source": [
    "fb.hist(normed=1, histtype='step', cumulative=True, linewidth=3.5)"
   ]
  },
  {
   "cell_type": "code",
   "execution_count": 23,
   "metadata": {},
   "outputs": [
    {
     "data": {
      "text/plain": [
       "<matplotlib.axes._subplots.AxesSubplot at 0x10871d7f0>"
      ]
     },
     "execution_count": 23,
     "metadata": {},
     "output_type": "execute_result"
    },
    {
     "data": {
      "image/png": "[encoded data removed]",
      "text/plain": [
       "<matplotlib.figure.Figure at 0x1a1c4059e8>"
      ]
     },
     "metadata": {},
     "output_type": "display_data"
    }
   ],
   "source": [
    "ob.hist(normed=1, histtype='step', cumulative=True, linewidth=3.5)"
   ]
  },
  {
   "cell_type": "code",
   "execution_count": 24,
   "metadata": {},
   "outputs": [
    {
     "data": {
      "text/plain": [
       "<matplotlib.axes._subplots.AxesSubplot at 0x1a1c43fa20>"
      ]
     },
     "execution_count": 24,
     "metadata": {},
     "output_type": "execute_result"
    },
    {
     "data": {
      "image/png": "[encoded data removed]",
      "text/plain": [
       "<matplotlib.figure.Figure at 0x1a1c336eb8>"
      ]
     },
     "metadata": {},
     "output_type": "display_data"
    }
   ],
   "source": [
    "fb.hist(bins=10, normed=1, histtype='stepfilled', alpha=.5)   # default number of bins = 10\n",
    "ob.hist(bins=10, normed=1, histtype='stepfilled', alpha=.5, color=sns.desaturate(\"indianred\", .75))\n",
    "\n",
    "# Check with 20, 30, 60 bins."
   ]
  },
  {
   "cell_type": "code",
   "execution_count": 25,
   "metadata": {},
   "outputs": [
    {
     "data": {
      "text/plain": [
       "<matplotlib.axes._subplots.AxesSubplot at 0x1a1c4e4940>"
      ]
     },
     "execution_count": 25,
     "metadata": {},
     "output_type": "execute_result"
    },
    {
     "data": {
      "image/png": "[encoded data removed]",
      "text/plain": [
       "<matplotlib.figure.Figure at 0x1a1c62c6d8>"
      ]
     },
     "metadata": {},
     "output_type": "display_data"
    }
   ],
   "source": [
    "fb.hist(normed=1, histtype='step', cumulative=True,  linewidth=3.5, bins=30)\n",
    "ob.hist(normed=1, histtype='step', cumulative=True,  linewidth=3.5, bins=30, color=sns.desaturate(\"indianred\", .75))"
   ]
  },
  {
   "cell_type": "code",
   "execution_count": 26,
   "metadata": {},
   "outputs": [
    {
     "name": "stdout",
     "output_type": "stream",
     "text": [
      "The mean sample difference is  0.07803726677754952 weeks.\n"
     ]
    }
   ],
   "source": [
    "print(\"The mean sample difference is \", fb.mean() - ob.mean(), \"weeks.\")"
   ]
  },
  {
   "cell_type": "markdown",
   "metadata": {},
   "source": [
    "## 2.4 Outliers\n",
    "\n",
    "**Ouliers** are data samples with a value that is far from the central tendency.\n",
    "\n",
    "We can find outliers by:\n",
    "\n",
    "+ Computing samples that are *far* from the median.\n",
    "+ Computing samples whose value *exceeds the mean* by 2 or 3 standard deviations."
   ]
  },
  {
   "cell_type": "code",
   "execution_count": 27,
   "metadata": {},
   "outputs": [
    {
     "data": {
      "text/html": [
       "<div>\n",
       "<style>\n",
       "    .dataframe thead tr:only-child th {\n",
       "        text-align: right;\n",
       "    }\n",
       "\n",
       "    .dataframe thead th {\n",
       "        text-align: left;\n",
       "    }\n",
       "\n",
       "    .dataframe tbody tr th {\n",
       "        vertical-align: top;\n",
       "    }\n",
       "</style>\n",
       "<table border=\"1\" class=\"dataframe\">\n",
       "  <thead>\n",
       "    <tr style=\"text-align: right;\">\n",
       "      <th></th>\n",
       "      <th>caseId</th>\n",
       "      <th>prgLength</th>\n",
       "      <th>outcome</th>\n",
       "      <th>birthOrd</th>\n",
       "    </tr>\n",
       "  </thead>\n",
       "  <tbody>\n",
       "    <tr>\n",
       "      <th>138</th>\n",
       "      <td>150</td>\n",
       "      <td>9</td>\n",
       "      <td>1</td>\n",
       "      <td>6</td>\n",
       "    </tr>\n",
       "    <tr>\n",
       "      <th>157</th>\n",
       "      <td>172</td>\n",
       "      <td>24</td>\n",
       "      <td>1</td>\n",
       "      <td>1</td>\n",
       "    </tr>\n",
       "    <tr>\n",
       "      <th>237</th>\n",
       "      <td>253</td>\n",
       "      <td>28</td>\n",
       "      <td>1</td>\n",
       "      <td>1</td>\n",
       "    </tr>\n",
       "    <tr>\n",
       "      <th>541</th>\n",
       "      <td>515</td>\n",
       "      <td>18</td>\n",
       "      <td>1</td>\n",
       "      <td>2</td>\n",
       "    </tr>\n",
       "    <tr>\n",
       "      <th>628</th>\n",
       "      <td>587</td>\n",
       "      <td>24</td>\n",
       "      <td>1</td>\n",
       "      <td>1</td>\n",
       "    </tr>\n",
       "    <tr>\n",
       "      <th>645</th>\n",
       "      <td>600</td>\n",
       "      <td>26</td>\n",
       "      <td>1</td>\n",
       "      <td>1</td>\n",
       "    </tr>\n",
       "    <tr>\n",
       "      <th>734</th>\n",
       "      <td>685</td>\n",
       "      <td>28</td>\n",
       "      <td>1</td>\n",
       "      <td>1</td>\n",
       "    </tr>\n",
       "    <tr>\n",
       "      <th>1041</th>\n",
       "      <td>928</td>\n",
       "      <td>20</td>\n",
       "      <td>1</td>\n",
       "      <td>1</td>\n",
       "    </tr>\n",
       "    <tr>\n",
       "      <th>1114</th>\n",
       "      <td>989</td>\n",
       "      <td>28</td>\n",
       "      <td>1</td>\n",
       "      <td>3</td>\n",
       "    </tr>\n",
       "    <tr>\n",
       "      <th>1169</th>\n",
       "      <td>1042</td>\n",
       "      <td>26</td>\n",
       "      <td>1</td>\n",
       "      <td>5</td>\n",
       "    </tr>\n",
       "    <tr>\n",
       "      <th>1482</th>\n",
       "      <td>1309</td>\n",
       "      <td>28</td>\n",
       "      <td>1</td>\n",
       "      <td>2</td>\n",
       "    </tr>\n",
       "    <tr>\n",
       "      <th>1529</th>\n",
       "      <td>1359</td>\n",
       "      <td>24</td>\n",
       "      <td>1</td>\n",
       "      <td>3</td>\n",
       "    </tr>\n",
       "    <tr>\n",
       "      <th>1540</th>\n",
       "      <td>1366</td>\n",
       "      <td>25</td>\n",
       "      <td>1</td>\n",
       "      <td>3</td>\n",
       "    </tr>\n",
       "    <tr>\n",
       "      <th>1720</th>\n",
       "      <td>1538</td>\n",
       "      <td>27</td>\n",
       "      <td>1</td>\n",
       "      <td>2</td>\n",
       "    </tr>\n",
       "    <tr>\n",
       "      <th>2221</th>\n",
       "      <td>1994</td>\n",
       "      <td>28</td>\n",
       "      <td>1</td>\n",
       "      <td>1</td>\n",
       "    </tr>\n",
       "    <tr>\n",
       "      <th>2345</th>\n",
       "      <td>2085</td>\n",
       "      <td>28</td>\n",
       "      <td>1</td>\n",
       "      <td>2</td>\n",
       "    </tr>\n",
       "    <tr>\n",
       "      <th>2398</th>\n",
       "      <td>2133</td>\n",
       "      <td>28</td>\n",
       "      <td>1</td>\n",
       "      <td>1</td>\n",
       "    </tr>\n",
       "    <tr>\n",
       "      <th>2440</th>\n",
       "      <td>2162</td>\n",
       "      <td>24</td>\n",
       "      <td>1</td>\n",
       "      <td>1</td>\n",
       "    </tr>\n",
       "    <tr>\n",
       "      <th>2534</th>\n",
       "      <td>2234</td>\n",
       "      <td>28</td>\n",
       "      <td>1</td>\n",
       "      <td>1</td>\n",
       "    </tr>\n",
       "    <tr>\n",
       "      <th>2678</th>\n",
       "      <td>2348</td>\n",
       "      <td>28</td>\n",
       "      <td>1</td>\n",
       "      <td>1</td>\n",
       "    </tr>\n",
       "    <tr>\n",
       "      <th>2917</th>\n",
       "      <td>2601</td>\n",
       "      <td>28</td>\n",
       "      <td>1</td>\n",
       "      <td>1</td>\n",
       "    </tr>\n",
       "    <tr>\n",
       "      <th>3165</th>\n",
       "      <td>2806</td>\n",
       "      <td>24</td>\n",
       "      <td>1</td>\n",
       "      <td>1</td>\n",
       "    </tr>\n",
       "    <tr>\n",
       "      <th>3182</th>\n",
       "      <td>2831</td>\n",
       "      <td>28</td>\n",
       "      <td>1</td>\n",
       "      <td>1</td>\n",
       "    </tr>\n",
       "    <tr>\n",
       "      <th>3361</th>\n",
       "      <td>2982</td>\n",
       "      <td>26</td>\n",
       "      <td>1</td>\n",
       "      <td>1</td>\n",
       "    </tr>\n",
       "    <tr>\n",
       "      <th>3370</th>\n",
       "      <td>2999</td>\n",
       "      <td>26</td>\n",
       "      <td>1</td>\n",
       "      <td>1</td>\n",
       "    </tr>\n",
       "    <tr>\n",
       "      <th>3579</th>\n",
       "      <td>3171</td>\n",
       "      <td>28</td>\n",
       "      <td>1</td>\n",
       "      <td>1</td>\n",
       "    </tr>\n",
       "    <tr>\n",
       "      <th>3796</th>\n",
       "      <td>3369</td>\n",
       "      <td>28</td>\n",
       "      <td>1</td>\n",
       "      <td>1</td>\n",
       "    </tr>\n",
       "    <tr>\n",
       "      <th>3833</th>\n",
       "      <td>3418</td>\n",
       "      <td>26</td>\n",
       "      <td>1</td>\n",
       "      <td>1</td>\n",
       "    </tr>\n",
       "    <tr>\n",
       "      <th>3841</th>\n",
       "      <td>3422</td>\n",
       "      <td>26</td>\n",
       "      <td>1</td>\n",
       "      <td>2</td>\n",
       "    </tr>\n",
       "    <tr>\n",
       "      <th>4007</th>\n",
       "      <td>3555</td>\n",
       "      <td>26</td>\n",
       "      <td>1</td>\n",
       "      <td>1</td>\n",
       "    </tr>\n",
       "    <tr>\n",
       "      <th>...</th>\n",
       "      <td>...</td>\n",
       "      <td>...</td>\n",
       "      <td>...</td>\n",
       "      <td>...</td>\n",
       "    </tr>\n",
       "    <tr>\n",
       "      <th>9333</th>\n",
       "      <td>8585</td>\n",
       "      <td>28</td>\n",
       "      <td>1</td>\n",
       "      <td>1</td>\n",
       "    </tr>\n",
       "    <tr>\n",
       "      <th>9567</th>\n",
       "      <td>8812</td>\n",
       "      <td>26</td>\n",
       "      <td>1</td>\n",
       "      <td>1</td>\n",
       "    </tr>\n",
       "    <tr>\n",
       "      <th>9640</th>\n",
       "      <td>8872</td>\n",
       "      <td>26</td>\n",
       "      <td>1</td>\n",
       "      <td>2</td>\n",
       "    </tr>\n",
       "    <tr>\n",
       "      <th>9743</th>\n",
       "      <td>8999</td>\n",
       "      <td>26</td>\n",
       "      <td>1</td>\n",
       "      <td>2</td>\n",
       "    </tr>\n",
       "    <tr>\n",
       "      <th>9850</th>\n",
       "      <td>9099</td>\n",
       "      <td>25</td>\n",
       "      <td>1</td>\n",
       "      <td>1</td>\n",
       "    </tr>\n",
       "    <tr>\n",
       "      <th>10003</th>\n",
       "      <td>9237</td>\n",
       "      <td>22</td>\n",
       "      <td>1</td>\n",
       "      <td>1</td>\n",
       "    </tr>\n",
       "    <tr>\n",
       "      <th>10119</th>\n",
       "      <td>9340</td>\n",
       "      <td>28</td>\n",
       "      <td>1</td>\n",
       "      <td>1</td>\n",
       "    </tr>\n",
       "    <tr>\n",
       "      <th>10156</th>\n",
       "      <td>9391</td>\n",
       "      <td>26</td>\n",
       "      <td>1</td>\n",
       "      <td>1</td>\n",
       "    </tr>\n",
       "    <tr>\n",
       "      <th>10492</th>\n",
       "      <td>9680</td>\n",
       "      <td>17</td>\n",
       "      <td>1</td>\n",
       "      <td>4</td>\n",
       "    </tr>\n",
       "    <tr>\n",
       "      <th>10539</th>\n",
       "      <td>9722</td>\n",
       "      <td>22</td>\n",
       "      <td>1</td>\n",
       "      <td>1</td>\n",
       "    </tr>\n",
       "    <tr>\n",
       "      <th>10652</th>\n",
       "      <td>9804</td>\n",
       "      <td>22</td>\n",
       "      <td>1</td>\n",
       "      <td>2</td>\n",
       "    </tr>\n",
       "    <tr>\n",
       "      <th>10663</th>\n",
       "      <td>9815</td>\n",
       "      <td>26</td>\n",
       "      <td>1</td>\n",
       "      <td>1</td>\n",
       "    </tr>\n",
       "    <tr>\n",
       "      <th>10664</th>\n",
       "      <td>9815</td>\n",
       "      <td>24</td>\n",
       "      <td>1</td>\n",
       "      <td>2</td>\n",
       "    </tr>\n",
       "    <tr>\n",
       "      <th>10665</th>\n",
       "      <td>9815</td>\n",
       "      <td>26</td>\n",
       "      <td>1</td>\n",
       "      <td>3</td>\n",
       "    </tr>\n",
       "    <tr>\n",
       "      <th>10702</th>\n",
       "      <td>9847</td>\n",
       "      <td>25</td>\n",
       "      <td>1</td>\n",
       "      <td>2</td>\n",
       "    </tr>\n",
       "    <tr>\n",
       "      <th>11189</th>\n",
       "      <td>10324</td>\n",
       "      <td>26</td>\n",
       "      <td>1</td>\n",
       "      <td>1</td>\n",
       "    </tr>\n",
       "    <tr>\n",
       "      <th>11580</th>\n",
       "      <td>10666</td>\n",
       "      <td>26</td>\n",
       "      <td>1</td>\n",
       "      <td>4</td>\n",
       "    </tr>\n",
       "    <tr>\n",
       "      <th>11623</th>\n",
       "      <td>10704</td>\n",
       "      <td>24</td>\n",
       "      <td>1</td>\n",
       "      <td>2</td>\n",
       "    </tr>\n",
       "    <tr>\n",
       "      <th>11887</th>\n",
       "      <td>10951</td>\n",
       "      <td>13</td>\n",
       "      <td>1</td>\n",
       "      <td>3</td>\n",
       "    </tr>\n",
       "    <tr>\n",
       "      <th>11947</th>\n",
       "      <td>11034</td>\n",
       "      <td>23</td>\n",
       "      <td>1</td>\n",
       "      <td>1</td>\n",
       "    </tr>\n",
       "    <tr>\n",
       "      <th>11966</th>\n",
       "      <td>11055</td>\n",
       "      <td>26</td>\n",
       "      <td>1</td>\n",
       "      <td>1</td>\n",
       "    </tr>\n",
       "    <tr>\n",
       "      <th>12197</th>\n",
       "      <td>11267</td>\n",
       "      <td>28</td>\n",
       "      <td>1</td>\n",
       "      <td>1</td>\n",
       "    </tr>\n",
       "    <tr>\n",
       "      <th>12356</th>\n",
       "      <td>11426</td>\n",
       "      <td>26</td>\n",
       "      <td>1</td>\n",
       "      <td>2</td>\n",
       "    </tr>\n",
       "    <tr>\n",
       "      <th>12472</th>\n",
       "      <td>11544</td>\n",
       "      <td>28</td>\n",
       "      <td>1</td>\n",
       "      <td>2</td>\n",
       "    </tr>\n",
       "    <tr>\n",
       "      <th>12559</th>\n",
       "      <td>11613</td>\n",
       "      <td>26</td>\n",
       "      <td>1</td>\n",
       "      <td>1</td>\n",
       "    </tr>\n",
       "    <tr>\n",
       "      <th>12717</th>\n",
       "      <td>11737</td>\n",
       "      <td>28</td>\n",
       "      <td>1</td>\n",
       "      <td>1</td>\n",
       "    </tr>\n",
       "    <tr>\n",
       "      <th>12938</th>\n",
       "      <td>11935</td>\n",
       "      <td>28</td>\n",
       "      <td>1</td>\n",
       "      <td>1</td>\n",
       "    </tr>\n",
       "    <tr>\n",
       "      <th>13093</th>\n",
       "      <td>12078</td>\n",
       "      <td>26</td>\n",
       "      <td>1</td>\n",
       "      <td>3</td>\n",
       "    </tr>\n",
       "    <tr>\n",
       "      <th>13173</th>\n",
       "      <td>12145</td>\n",
       "      <td>22</td>\n",
       "      <td>1</td>\n",
       "      <td>1</td>\n",
       "    </tr>\n",
       "    <tr>\n",
       "      <th>13309</th>\n",
       "      <td>12271</td>\n",
       "      <td>21</td>\n",
       "      <td>1</td>\n",
       "      <td>3</td>\n",
       "    </tr>\n",
       "  </tbody>\n",
       "</table>\n",
       "<p>105 rows × 4 columns</p>\n",
       "</div>"
      ],
      "text/plain": [
       "       caseId  prgLength  outcome  birthOrd\n",
       "138       150          9        1         6\n",
       "157       172         24        1         1\n",
       "237       253         28        1         1\n",
       "541       515         18        1         2\n",
       "628       587         24        1         1\n",
       "645       600         26        1         1\n",
       "734       685         28        1         1\n",
       "1041      928         20        1         1\n",
       "1114      989         28        1         3\n",
       "1169     1042         26        1         5\n",
       "1482     1309         28        1         2\n",
       "1529     1359         24        1         3\n",
       "1540     1366         25        1         3\n",
       "1720     1538         27        1         2\n",
       "2221     1994         28        1         1\n",
       "2345     2085         28        1         2\n",
       "2398     2133         28        1         1\n",
       "2440     2162         24        1         1\n",
       "2534     2234         28        1         1\n",
       "2678     2348         28        1         1\n",
       "2917     2601         28        1         1\n",
       "3165     2806         24        1         1\n",
       "3182     2831         28        1         1\n",
       "3361     2982         26        1         1\n",
       "3370     2999         26        1         1\n",
       "3579     3171         28        1         1\n",
       "3796     3369         28        1         1\n",
       "3833     3418         26        1         1\n",
       "3841     3422         26        1         2\n",
       "4007     3555         26        1         1\n",
       "...       ...        ...      ...       ...\n",
       "9333     8585         28        1         1\n",
       "9567     8812         26        1         1\n",
       "9640     8872         26        1         2\n",
       "9743     8999         26        1         2\n",
       "9850     9099         25        1         1\n",
       "10003    9237         22        1         1\n",
       "10119    9340         28        1         1\n",
       "10156    9391         26        1         1\n",
       "10492    9680         17        1         4\n",
       "10539    9722         22        1         1\n",
       "10652    9804         22        1         2\n",
       "10663    9815         26        1         1\n",
       "10664    9815         24        1         2\n",
       "10665    9815         26        1         3\n",
       "10702    9847         25        1         2\n",
       "11189   10324         26        1         1\n",
       "11580   10666         26        1         4\n",
       "11623   10704         24        1         2\n",
       "11887   10951         13        1         3\n",
       "11947   11034         23        1         1\n",
       "11966   11055         26        1         1\n",
       "12197   11267         28        1         1\n",
       "12356   11426         26        1         2\n",
       "12472   11544         28        1         2\n",
       "12559   11613         26        1         1\n",
       "12717   11737         28        1         1\n",
       "12938   11935         28        1         1\n",
       "13093   12078         26        1         3\n",
       "13173   12145         22        1         1\n",
       "13309   12271         21        1         3\n",
       "\n",
       "[105 rows x 4 columns]"
      ]
     },
     "execution_count": 27,
     "metadata": {},
     "output_type": "execute_result"
    }
   ],
   "source": [
    "df[(df.outcome == 1) & (df['prgLength'] < df['prgLength'].median() - 10)]"
   ]
  },
  {
   "cell_type": "code",
   "execution_count": 28,
   "metadata": {},
   "outputs": [
    {
     "data": {
      "text/html": [
       "<div>\n",
       "<style>\n",
       "    .dataframe thead tr:only-child th {\n",
       "        text-align: right;\n",
       "    }\n",
       "\n",
       "    .dataframe thead th {\n",
       "        text-align: left;\n",
       "    }\n",
       "\n",
       "    .dataframe tbody tr th {\n",
       "        vertical-align: top;\n",
       "    }\n",
       "</style>\n",
       "<table border=\"1\" class=\"dataframe\">\n",
       "  <thead>\n",
       "    <tr style=\"text-align: right;\">\n",
       "      <th></th>\n",
       "      <th>caseId</th>\n",
       "      <th>prgLength</th>\n",
       "      <th>outcome</th>\n",
       "      <th>birthOrd</th>\n",
       "    </tr>\n",
       "  </thead>\n",
       "  <tbody>\n",
       "    <tr>\n",
       "      <th>2416</th>\n",
       "      <td>2145</td>\n",
       "      <td>48</td>\n",
       "      <td>1</td>\n",
       "      <td>1</td>\n",
       "    </tr>\n",
       "    <tr>\n",
       "      <th>4783</th>\n",
       "      <td>4285</td>\n",
       "      <td>50</td>\n",
       "      <td>1</td>\n",
       "      <td>2</td>\n",
       "    </tr>\n",
       "    <tr>\n",
       "      <th>4920</th>\n",
       "      <td>4388</td>\n",
       "      <td>48</td>\n",
       "      <td>1</td>\n",
       "      <td>2</td>\n",
       "    </tr>\n",
       "    <tr>\n",
       "      <th>6889</th>\n",
       "      <td>6251</td>\n",
       "      <td>48</td>\n",
       "      <td>1</td>\n",
       "      <td>1</td>\n",
       "    </tr>\n",
       "    <tr>\n",
       "      <th>6890</th>\n",
       "      <td>6251</td>\n",
       "      <td>48</td>\n",
       "      <td>1</td>\n",
       "      <td>2</td>\n",
       "    </tr>\n",
       "    <tr>\n",
       "      <th>7158</th>\n",
       "      <td>6496</td>\n",
       "      <td>48</td>\n",
       "      <td>1</td>\n",
       "      <td>1</td>\n",
       "    </tr>\n",
       "    <tr>\n",
       "      <th>7161</th>\n",
       "      <td>6496</td>\n",
       "      <td>48</td>\n",
       "      <td>1</td>\n",
       "      <td>2</td>\n",
       "    </tr>\n",
       "    <tr>\n",
       "      <th>7592</th>\n",
       "      <td>6896</td>\n",
       "      <td>48</td>\n",
       "      <td>1</td>\n",
       "      <td>4</td>\n",
       "    </tr>\n",
       "    <tr>\n",
       "      <th>8998</th>\n",
       "      <td>8250</td>\n",
       "      <td>50</td>\n",
       "      <td>1</td>\n",
       "      <td>2</td>\n",
       "    </tr>\n",
       "    <tr>\n",
       "      <th>11357</th>\n",
       "      <td>10451</td>\n",
       "      <td>47</td>\n",
       "      <td>1</td>\n",
       "      <td>1</td>\n",
       "    </tr>\n",
       "    <tr>\n",
       "      <th>12028</th>\n",
       "      <td>11104</td>\n",
       "      <td>46</td>\n",
       "      <td>1</td>\n",
       "      <td>1</td>\n",
       "    </tr>\n",
       "  </tbody>\n",
       "</table>\n",
       "</div>"
      ],
      "text/plain": [
       "       caseId  prgLength  outcome  birthOrd\n",
       "2416     2145         48        1         1\n",
       "4783     4285         50        1         2\n",
       "4920     4388         48        1         2\n",
       "6889     6251         48        1         1\n",
       "6890     6251         48        1         2\n",
       "7158     6496         48        1         1\n",
       "7161     6496         48        1         2\n",
       "7592     6896         48        1         4\n",
       "8998     8250         50        1         2\n",
       "11357   10451         47        1         1\n",
       "12028   11104         46        1         1"
      ]
     },
     "execution_count": 28,
     "metadata": {},
     "output_type": "execute_result"
    }
   ],
   "source": [
    "df[(df.outcome == 1) & (df['prgLength'] > df['prgLength'].median() + 6)]"
   ]
  },
  {
   "cell_type": "markdown",
   "metadata": {},
   "source": [
    "If we think that outliers correspond to errors, an option is to trim the data by discarting the highest and lowest values."
   ]
  },
  {
   "cell_type": "code",
   "execution_count": 30,
   "metadata": {},
   "outputs": [],
   "source": [
    "df2 = df.drop(df.index[(df.outcome == 1) & \n",
    "                       (df['prgLength'] > df['prgLength'].median() + 6)])\n",
    "\n",
    "df3 = df2.drop(df2.index[(df2.outcome == 1) & \n",
    "                         (df2['prgLength'] < df2['prgLength'].median() - 10)])"
   ]
  },
  {
   "cell_type": "code",
   "execution_count": 31,
   "metadata": {},
   "outputs": [
    {
     "name": "stdout",
     "output_type": "stream",
     "text": [
      "Before outliers removing:  38.60095173351461 2.7919014146686947 39.0 0 48\n",
      "After outliers removing:  38.76212364973569 2.307150203993601 39.0 29 45\n"
     ]
    }
   ],
   "source": [
    "fb3 = df3[(df3.outcome == 1) & (df3.birthOrd == 1)]\n",
    "\n",
    "mu3fb = fb3['prgLength'].mean()\n",
    "std3fb = fb3['prgLength'].std()\n",
    "md3fb = fb3['prgLength'].median()\n",
    "\n",
    "print('Before outliers removing: ', mu1, std1, firstbirthmedian, \n",
    "          firstbirth['prgLength'].min(), firstbirth['prgLength'].max())\n",
    "print('After outliers removing: ', mu3fb, std3fb, md3fb, \n",
    "          fb3['prgLength'].min(),fb3['prgLength'].max())"
   ]
  },
  {
   "cell_type": "code",
   "execution_count": 32,
   "metadata": {},
   "outputs": [
    {
     "name": "stdout",
     "output_type": "stream",
     "text": [
      "Before outliers removing:  38.52291446673706 2.615852350439255 39.0 4 50\n",
      "After outliers removing:  38.658192693868834 2.0951260243080556 39.0 29 45\n"
     ]
    }
   ],
   "source": [
    "ob3 = df3[(df3.outcome == 1) & (df3.birthOrd >= 2)]\n",
    "\n",
    "mu3ob = ob3['prgLength'].mean()\n",
    "std3ob = ob3['prgLength'].std()\n",
    "md3ob = ob3['prgLength'].median()\n",
    "\n",
    "print('Before outliers removing: ', mu2, std2, othersbirthmedian, \n",
    "          othersbirth['prgLength'].min(),othersbirth['prgLength'].max())\n",
    "print('After outliers removing: ', mu3ob, std3ob, md3ob, \n",
    "          ob3['prgLength'].min(), ob3['prgLength'].max())"
   ]
  },
  {
   "cell_type": "code",
   "execution_count": 33,
   "metadata": {},
   "outputs": [
    {
     "data": {
      "text/plain": [
       "<matplotlib.axes._subplots.AxesSubplot at 0x1a1c5d83c8>"
      ]
     },
     "execution_count": 33,
     "metadata": {},
     "output_type": "execute_result"
    },
    {
     "data": {
      "image/png": "[encoded data removed]",
      "text/plain": [
       "<matplotlib.figure.Figure at 0x1a1c5cd748>"
      ]
     },
     "metadata": {},
     "output_type": "display_data"
    }
   ],
   "source": [
    "import matplotlib.pyplot as plt\n",
    "\n",
    "fig = plt.figure(figsize=(15,3))\n",
    "\n",
    "df3.prgLength[(df3.outcome == 1)].plot(alpha=.5, color='blue')\n",
    "df.prgLength[(df.outcome == 1)].plot(alpha=.5, \n",
    "                            color=sns.desaturate(\"indianred\", .95))\n"
   ]
  },
  {
   "cell_type": "markdown",
   "metadata": {},
   "source": [
    "Let's see what is happening near the mode:"
   ]
  },
  {
   "cell_type": "code",
   "execution_count": 34,
   "metadata": {},
   "outputs": [
    {
     "name": "stdout",
     "output_type": "stream",
     "text": [
      "[   5   -2    7    5   23 -102 -509  133  108    2]\n"
     ]
    }
   ],
   "source": [
    "import numpy as np\n",
    "\n",
    "countx,divisionx = np.histogram(fb3['prgLength']) \n",
    "county,divisiony = np.histogram(ob3['prgLength'])\n",
    "print (countx-county)\n"
   ]
  },
  {
   "cell_type": "code",
   "execution_count": 35,
   "metadata": {},
   "outputs": [
    {
     "data": {
      "text/plain": [
       "[<matplotlib.lines.Line2D at 0x1a1cc12f98>]"
      ]
     },
     "execution_count": 35,
     "metadata": {},
     "output_type": "execute_result"
    },
    {
     "data": {
      "image/png": "[encoded data removed]",
      "text/plain": [
       "<matplotlib.figure.Figure at 0x1a1cc270f0>"
      ]
     },
     "metadata": {},
     "output_type": "display_data"
    }
   ],
   "source": [
    "import matplotlib.pyplot as plt\n",
    "\n",
    "fig = plt.figure(figsize=(15,3))\n",
    "val = [(divisionx[i]+divisionx[i+1])/2 for i in range(len(divisionx)-1)]\n",
    "plt.plot(val, countx-county, 'o-') "
   ]
  },
  {
   "cell_type": "markdown",
   "metadata": {},
   "source": [
    "## There is still some evidence for our hypothesis!"
   ]
  },
  {
   "cell_type": "markdown",
   "metadata": {},
   "source": [
    "### 2.5 Measuring asymmetry.\n",
    "\n",
    "** Skewness** is a statistic that measures the asymmetry of set of $n$ data samples $x_i$:\n",
    "\n",
    "$$ g_1 = \\frac{\\frac{1}{n} \\sum_i (x_i - \\mu)^2 }{\\frac{1}{n} \\sum_i (x_i - \\mu)^3 }$$\n",
    "\n",
    "The numerator is the mean squared deviation (or variance) and the denominator the mean cubed deviation.\n",
    "\n",
    "Negative deviation indicates that the distribution \"skews left\" (it extends farther to the left than to the right).\n",
    "\n",
    "** Skewness** can be affected by outliers!!! A simpler alternative is to look at the relationship between mean ($\\mu$) and median ($\\mu_{\\frac{1}{2}}$). "
   ]
  },
  {
   "cell_type": "markdown",
   "metadata": {},
   "source": [
    "** 2.6 Pearson's median skewness coefficient** is a more robust alternative:\n",
    "\n",
    "$$ g_p = \\frac{3(\\mu - \\mu_{\\frac{1}{2}})}{\\sigma} $$"
   ]
  },
  {
   "cell_type": "markdown",
   "metadata": {},
   "source": [
    "**Exercise**:\n",
    "\n",
    "+ Read the file ``run10.txt`` from the ``files`` directory. It represents 16.924 runners who finished the 2012 Cherry Blossom 10 mile run in USA. The file is a ``tab``separated file. It can be read with the pandas ``read_table`` function.\n",
    "+ Compute the mean time.\n",
    "+ Compute the difference in mean between men and women.\n",
    "+ Visualize both distributions (normalized histogram)."
   ]
  },
  {
   "cell_type": "markdown",
   "metadata": {},
   "source": [
    "**Exercise**: Write a function to compute $g_1$ and $g_p$ of the pregnancy length."
   ]
  },
  {
   "cell_type": "code",
   "execution_count": 36,
   "metadata": {
    "collapsed": true
   },
   "outputs": [],
   "source": [
    "## Your solution here"
   ]
  },
  {
   "cell_type": "markdown",
   "metadata": {},
   "source": [
    "**Exercises**: \n",
    "\n",
    "+ Could you give a real example, where for all data samples, $x_i \\leq \\mu$? \n",
    "+ Could you give a real example, where for all data samples, $x_i \\leq \\mu_{\\frac{1}{2}}$? This is really a distribution that skews left!\n",
    "+ If we ask to a random group of people \"What is your position with respect to the average driver?\", what kind of distribution would we get? "
   ]
  },
  {
   "cell_type": "markdown",
   "metadata": {},
   "source": [
    "## 2.6 Relative Risk\n",
    "\n",
    "Let's say that a baby is \"early\" if it is born during week 37 or earlier, \"on time\" if it is born during week 38, 39 or 40, and \"late\" if it is born during week 41 or later. "
   ]
  },
  {
   "cell_type": "markdown",
   "metadata": {},
   "source": [
    "Let's compute the probability of being *early*, *on time* and *late* for first babies and the others."
   ]
  },
  {
   "cell_type": "code",
   "execution_count": null,
   "metadata": {},
   "outputs": [],
   "source": [
    "print(\"Firsts babies: \")\n",
    "print('Early: ',len(fb3[fb3['prgLength'] <38])/float(len(fb3.index)))\n",
    "\n",
    "print('Late: ', len(fb3[fb3['prgLength'] >40])/float(len(fb3.index)))\n",
    "\n",
    "print('On time: ',len(fb3[(fb3['prgLength'] >37)&(fb3['prgLength'] < 41)])/float(len(fb3.index)))"
   ]
  },
  {
   "cell_type": "code",
   "execution_count": null,
   "metadata": {},
   "outputs": [],
   "source": [
    "print(\"Other babies:\")\n",
    "print(\"Early\", len(ob3[ob3['prgLength'] <38])/float(len(ob3.index)))\n",
    "\n",
    "print(\"Late\", len(ob3[ob3['prgLength'] >40])/float(len(ob3.index)))\n",
    "\n",
    "print(\"On time\", len(ob3[(ob3['prgLength'] >37) &\n",
    "                        (ob3['prgLength']<41)])/float(len(ob3.index)))"
   ]
  },
  {
   "cell_type": "markdown",
   "metadata": {},
   "source": [
    "The **relative risk** is the ratio of two probabilities. In our case, the probability that a first baby is born early is 17%. For other babies is 16%, so the relative risk is:"
   ]
  },
  {
   "cell_type": "code",
   "execution_count": null,
   "metadata": {},
   "outputs": [],
   "source": [
    "earlyfb = len(fb3[fb3['prgLength'] <38])/float(len(fb3.index))\n",
    "earlyob = len(ob3[ob3['prgLength'] <38])/float(len(ob3.index))\n",
    "print(\"First babies are about\", earlyfb/earlyob, \"more likely to be early.\")"
   ]
  },
  {
   "cell_type": "markdown",
   "metadata": {},
   "source": [
    "That means that first babies are about 7% more likely to be early. For the case of late births:"
   ]
  },
  {
   "cell_type": "code",
   "execution_count": null,
   "metadata": {},
   "outputs": [],
   "source": [
    "latefb = len(fb3[fb3['prgLength'] >40])/float(len(fb3))\n",
    "lateob = len(ob3[ob3['prgLength'] >40])/float(len(ob3))\n",
    "print(\"First babies are about\", latefb/lateob, \"more likely to be late.\")"
   ]
  },
  {
   "cell_type": "markdown",
   "metadata": {},
   "source": [
    "That means that first babies are about 67% more likely to be late. "
   ]
  },
  {
   "cell_type": "markdown",
   "metadata": {},
   "source": [
    "## 2.7 A firts glimpse to Conditional Probability\n",
    "\n",
    "Imagine that someone you know is pregnant and it is the beginning of week 39. What is the chance that the baby will be born in the week 39? What is the chance if it is a first baby?\n",
    "\n",
    "We can ask these questions by computing a **conditional probability**, $P(X|Y)$.\n",
    "\n",
    "In our first question, the event $X$ is a birth in week 39 and the event $Y$ is that we know that the baby didn't arrive during weeks 0-38. In the second question, we also know that it is a first baby."
   ]
  },
  {
   "cell_type": "markdown",
   "metadata": {},
   "source": [
    "A simple way to compute these chances is to drop from our data the cases that do not fulfill the conditions and then renormalize."
   ]
  },
  {
   "cell_type": "code",
   "execution_count": null,
   "metadata": {},
   "outputs": [],
   "source": [
    "df4 = df3.drop(df3.index[df3['prgLength'] < 39]) "
   ]
  },
  {
   "cell_type": "markdown",
   "metadata": {},
   "source": [
    "We are ready to compute the probability that the baby will be born in the week 39 for a pregnant woman in the beginning of week 39."
   ]
  },
  {
   "cell_type": "code",
   "execution_count": null,
   "metadata": {},
   "outputs": [],
   "source": [
    "print(len(df4[(df4.prgLength == 39)].index)/float(len(df4)))"
   ]
  },
  {
   "cell_type": "markdown",
   "metadata": {},
   "source": [
    "Let's now add the second condition."
   ]
  },
  {
   "cell_type": "code",
   "execution_count": null,
   "metadata": {},
   "outputs": [],
   "source": [
    "fb39 = df4[(df4.birthOrd == 1)]\n",
    "ob39 = df4[(df4.birthOrd > 1)]\n",
    "\n",
    "fb39['prgLength'].hist(bins=6,  normed=True, histtype='stepfilled', alpha=.5)   # default number of bins = 10, blue\n",
    "ob39['prgLength'].hist(bins=6,  normed=True, histtype='stepfilled', alpha=.5, color=sns.desaturate(\"indianred\", .75))"
   ]
  },
  {
   "cell_type": "code",
   "execution_count": null,
   "metadata": {},
   "outputs": [],
   "source": [
    "print('Probability First baby to be born on week 39:', \n",
    "    len(fb39[(fb39.prgLength == 39)].index)/\n",
    "    float(len(fb39.index)))"
   ]
  },
  {
   "cell_type": "code",
   "execution_count": null,
   "metadata": {},
   "outputs": [],
   "source": [
    "print('Probability non first baby to be born on week 39:',\n",
    "    len(ob39[(ob39.prgLength == 39)].index)/\n",
    "    float(len(ob39.index)))\n"
   ]
  },
  {
   "cell_type": "markdown",
   "metadata": {},
   "source": [
    "### Discussions.\n",
    "\n",
    "After exploring the data we have seem some **appearent effects** that seem to support our first hypothesis:\n",
    "\n",
    "+ **Data description**: The mean pregnant lenght for first babies is 38.76 and for other babies is 38.65.\n",
    "\n",
    "+ **Relative risk**: First babies are about 67% more likely to be late.\n",
    "\n",
    "+ **Conditional probability**: If someone is pregnant and it is the beginning of week 39, the chance (63% vs. 72%) that the baby will be born in the week 39 is lower if it is the first baby."
   ]
  },
  {
   "cell_type": "markdown",
   "metadata": {},
   "source": [
    "\n",
    "#### Exercises: Other possible experiments\n",
    "\n",
    "We can compare the first and others for the same woman. While may be unlikely it could still be that a tendency exists for a woman's second, third, etc, child comes earlier.\n",
    "\n",
    "<small>(Result:  The second baby is born about some hours earlier, but this difference is not *statistically significant*.)<small>"
   ]
  },
  {
   "cell_type": "markdown",
   "metadata": {
    "collapsed": true
   },
   "source": [
    "\n",
    "## 3 Probabilities. \n",
    "* 3.1 Probability rules\n",
    "* 3.2 Binomial distribution\n",
    "* 3.3 Monte Carlo"
   ]
  },
  {
   "cell_type": "markdown",
   "metadata": {},
   "source": [
    "The most common definition of **probability** is a *frequency expressed as a fraction* of the universe of possible outcomes. \n",
    "\n",
    "    - Thus, it is a real value between 0 and 1 that is intended to be a measure corresponding to the idea that some things are more likely than others.\n",
    "\n",
    "**Frequentism** because it defines probability in terms of frequencies.\n",
    "\n",
    "An alternative is **Bayesianism**, which defines probability as a degree of belief that an event will occur.\n",
    "\n",
    "    - Example: What is the probability that Thaksin Shinawatra is the Prime Minister of Thailand?\n",
    "\n",
    "The *things* we assign probabilities are called **events**, $E$.  A *situation* where $E$ might or might not happen is called a **trial**.\n",
    "\n",
    "    - In the case of a six-sided die, each roll is called a **trial**. If we want to compute $P(6)$, each time a 6 appears is called a **success**. Other trials are called **failures**. \n",
    "\n",
    "If in a *finite series of $n$ identical trials* we observe $s$ successes, the **probability of the success** is $s/n$.\n",
    "\n"
   ]
  },
  {
   "cell_type": "markdown",
   "metadata": {},
   "source": [
    "### 3.1 Probability Rules \n",
    "\n",
    "\n",
    "- A rule that is true when $A$ and $B$ are **not independent**: \n",
    "\n",
    "$$ P(A|B) = \\frac{P(A \\mbox{ and } B)}{P(B)}$$\n",
    "    \n",
    "    - From that we can derive: \n",
    "\n",
    "$$P(A \\mbox{ and } B) = P(A) P(B|A) = P(B) P(A|B)$$"
   ]
  },
  {
   "cell_type": "markdown",
   "metadata": {},
   "source": [
    "- A rule that is true, when $A$ and $B$ are **independent**: $P(A \\mbox{ and } B) = P(A) P(B)$. \n",
    "\n",
    "\n",
    "$A$ and $B$ are **independent** if the fact that $A$ occurred, does not change the probability of $B$ and viceversa. Trials corresponding to tossing a coin are independent. "
   ]
  },
  {
   "cell_type": "markdown",
   "metadata": {},
   "source": [
    "**Exercises**: \n",
    "+ If I have two children, what is the probability to have 2 girls?\n",
    "+ If I have two children and we know that at least one of them is a girl, what is the probability that they are two girls?\n",
    "+ If I have two children and we know that the older one is a girl, what is the probability that they are two girls?"
   ]
  },
  {
   "cell_type": "code",
   "execution_count": null,
   "metadata": {
    "collapsed": true
   },
   "outputs": [],
   "source": [
    "## Your solutions"
   ]
  },
  {
   "cell_type": "markdown",
   "metadata": {},
   "source": [
    "### More probability rules\n",
    "\n",
    "We say that two events are **mutually exclusive** if:\n",
    "\n",
    "$$ P(A | B) = P(B | A) = 0 $$\n",
    "\n",
    "In this case it is easy to show that:\n",
    "\n",
    "$$ P(A \\mbox{ or } B) = P(A) + P(B)$$\n",
    "\n",
    "If $A$ and $B$ are not mutually exclusive:\n",
    "\n",
    "$$ P(A \\mbox{ or } B) = P(A) + P(B) - P(A \\mbox{ and } B) $$"
   ]
  },
  {
   "cell_type": "markdown",
   "metadata": {},
   "source": [
    "**Exercises**: Counting is the most basic skill to solve probability problems.\n",
    "\n",
    "+ Q: For example, if I flip two coins, the chance of getting at least one tail is: 1/2 + 1/2?!\n",
    "+ Q: If I roll two dices and the total is 8, what is the probability that one of the dice is 6?\n",
    "+ Q: If I roll 100 dice, what is the probability of getting all sixes? \n",
    "+ Q: What is the probability of getting no sixes?\n",
    "+ Q: What is the probability of getting at least one six?\n"
   ]
  },
  {
   "cell_type": "code",
   "execution_count": null,
   "metadata": {
    "collapsed": true
   },
   "outputs": [],
   "source": [
    "#Your solution here"
   ]
  },
  {
   "cell_type": "markdown",
   "metadata": {},
   "source": [
    "## 3.2 Binomial distribution\n",
    "\n",
    "More generally, the probability distribution that represents the probability of getting $k$ times a success with probability $p$ in $n$ trials is:\n",
    "\n",
    "$$ PMF(k) = {n \\choose k} p^k (1-p)^{(n-k)}$$\n",
    "\n",
    "where ${n \\choose k} = \\frac{n!}{k!(n-k)!}$. This is called **binomial distribution**."
   ]
  },
  {
   "cell_type": "markdown",
   "metadata": {},
   "source": [
    "What is the probability of having 2 successes in 5 trials?"
   ]
  },
  {
   "cell_type": "code",
   "execution_count": null,
   "metadata": {},
   "outputs": [],
   "source": [
    "import scipy.misc as sc\n",
    "n = 5\n",
    "k = 2\n",
    "print(sc.comb(n, k, exact=True)) # Chances of 2 successes in 5 trials\n",
    "p=sc.comb(n, k, exact=True)*1/2.0**2*(1-1/2.0)**(5-2)\n",
    "print(p)"
   ]
  },
  {
   "cell_type": "markdown",
   "metadata": {},
   "source": [
    "What is the probability of having 5 heads in 9 trials?\n"
   ]
  },
  {
   "cell_type": "code",
   "execution_count": null,
   "metadata": {},
   "outputs": [],
   "source": [
    "# chances of 5 heads in 9 tosses\n",
    "\n",
    "a = sc.comb(9, 5, exact=True)\n",
    "print('The combinations of 9 on 5 are: ', a)\n",
    "\n",
    "p = 0.5\n",
    "print('Prob: ', a * p**5 * (1-p)**4)"
   ]
  },
  {
   "cell_type": "markdown",
   "metadata": {},
   "source": [
    "**Exercise:** What is the probability of having 6 sixes in 9 trials?"
   ]
  },
  {
   "cell_type": "markdown",
   "metadata": {},
   "source": [
    "​\n",
    "\n",
    "## 3.3 Monte Carlo Experiments\n",
    "\n",
    "​\n",
    "\n",
    "**Monte Carlo experiments** are a broad class of computational algorithms that rely on *repeated random sampling to obtain numerical results*. Typically, one runs simulations many times over and over in order to obtain the distribution of an unknown probabilistic entity. (*Source: Wikipedia*)\n",
    "\n",
    "​\n",
    "\n",
    "**Trivial case**: What are the chances of getting a six in one trial?\n",
    "\n",
    "​"
   ]
  },
  {
   "cell_type": "code",
   "execution_count": null,
   "metadata": {},
   "outputs": [],
   "source": [
    "import random\n",
    "import sys\n",
    "\n",
    "N = 1000000 # perform N experiments\n",
    "M = 0 # number of times, we got 6\n",
    "\n",
    "for i in range(N):\n",
    "    outcome = random.randint(1, 6)\n",
    "    if outcome == 6:\n",
    "        M += 1\n",
    "\n",
    "Prob=M/float(N)\n",
    "print('I got six %d times out of %d' % (M, N), '; Prob = ', \n",
    "      Prob, 'Note that: 1/6=', 1/6.0)\n"
   ]
  },
  {
   "cell_type": "markdown",
   "metadata": {},
   "source": [
    "What are the chances of getting a six in two trials?"
   ]
  },
  {
   "cell_type": "code",
   "execution_count": null,
   "metadata": {},
   "outputs": [],
   "source": [
    "#  chances of (exactly) 1 six in 2 trials\n",
    "\n",
    "a = sc.comb(2, 1, exact=True)\n",
    "p = 1/6.0\n",
    "\n",
    "print('Prob: ', a * p * (1-p))"
   ]
  },
  {
   "cell_type": "code",
   "execution_count": null,
   "metadata": {},
   "outputs": [],
   "source": [
    "N = 10000 # perform N experiments\n",
    "M = 0 # no of times we get one 6\n",
    "\n",
    "for i in range(N):\n",
    "    outcome1 = random.randint(1, 6)\n",
    "    outcome2 = random.randint(1, 6)\n",
    "    if (outcome1 == 6 and outcome2 !=6) or (outcome1 != 6 and outcome2 == 6):\n",
    "        M += 1\n",
    "\n",
    "print('I got one six %d times out of %d' % (M, N), \n",
    "      '; Prob = ', float(M)/N)"
   ]
  },
  {
   "cell_type": "markdown",
   "metadata": {},
   "source": [
    "**Exercise**: You throw two dice, one black and one red. What is the probability that the number of eyes on the black die is larger than the number of eyes on the red die?"
   ]
  },
  {
   "cell_type": "code",
   "execution_count": null,
   "metadata": {},
   "outputs": [],
   "source": [
    "N = 10000 # perform N experiments\n",
    "M = 0 # no of times we get one 6\n",
    "\n",
    "for i in range(N):\n",
    "    outcome1 = random.randint(1, 6)\n",
    "    outcome2 = random.randint(1, 6)\n",
    "    if (outcome1 > outcome2):\n",
    "        M += 1\n",
    "        \n",
    "print('I got one six %d times out of %d' % (M, N), \n",
    "      '; Prob = ', float(M)/N)"
   ]
  },
  {
   "cell_type": "markdown",
   "metadata": {},
   "source": [
    "**A more interesting case:** If I roll a dice 100 times, what is the chance of getting at least 6 sixes in a row?"
   ]
  },
  {
   "cell_type": "code",
   "execution_count": null,
   "metadata": {},
   "outputs": [],
   "source": [
    "N = 10000 # perform N experiments\n",
    "M = 0 # no of times we get one 6\n",
    "T = 100\n",
    "success='666666'\n",
    "\n",
    "for i in range(N):\n",
    "    outcome=''\n",
    "    for i in range(T):\n",
    "\n",
    "        outcome=outcome+str(random.randint(1,6))\n",
    "\n",
    "    #print(outcome)\n",
    "\n",
    "    if (success in outcome):\n",
    "            M += 1\n",
    "\n",
    "print('I got 6 sixes in a row %d times out of %d' % (M, N), \n",
    "\n",
    "      '; Prob = ', float(M)/N)"
   ]
  },
  {
   "cell_type": "markdown",
   "metadata": {},
   "source": [
    "**Exercise**: What is the probability that Messi scores at least 1 goal in a row of 10 matches during a season? (Let's suppose that each match is an independent trial)."
   ]
  },
  {
   "cell_type": "markdown",
   "metadata": {},
   "source": [
    "**Data**: Messi scores 0.83 goals per match (323 goals in 387 matches) and CR4 scores 0.62 (329 goals in 527 matches) goals per match.\n",
    "\n",
    "There are 42 matches in a season. "
   ]
  },
  {
   "cell_type": "markdown",
   "metadata": {},
   "source": [
    "<small>(Source: https://es.answers.yahoo.com/question/index?qid=20130928103148AAFQHsC)</small>"
   ]
  },
  {
   "cell_type": "code",
   "execution_count": null,
   "metadata": {},
   "outputs": [],
   "source": [
    "N = 10000 # perform N experiments\n",
    "M = 0 # no of times we get one 6\n",
    "T = 42\n",
    "Messi_score=0.83\n",
    "Cristiano_score=0.62\n",
    "success='1111111111'\n",
    "\n",
    "for i in range(N):\n",
    "    outcome=''\n",
    "    for i in range(T):\n",
    "        res=random.random()\n",
    "        if res<Cristiano_score:\n",
    "            outcome=outcome+'1'\n",
    "        else: outcome=outcome+'0'\n",
    "\n",
    "    if (success in outcome):\n",
    "            M += 1\n",
    "\n",
    "print('Cristiano got scores at least 1 goal in a row of 10 matches during a season %d times out of %d' % (M, N), \n",
    "      '; Prob = ', float(M)/N)"
   ]
  },
  {
   "cell_type": "markdown",
   "metadata": {},
   "source": [
    "### Main reference\n",
    "\n",
    "*Think Stats: Probability and Statistics for Programmers*, by Allen B. Downey, published by O'Reilly Media.\n",
    "\n",
    "http://www.greenteapress.com/thinkstats/\n",
    "\n"
   ]
  },
  {
   "cell_type": "code",
   "execution_count": null,
   "metadata": {
    "collapsed": true
   },
   "outputs": [],
   "source": []
  }
 ],
 "metadata": {
  "kernelspec": {
   "display_name": "Python 3",
   "language": "python",
   "name": "python3"
  },
  "language_info": {
   "codemirror_mode": {
    "name": "ipython",
    "version": 3
   },
   "file_extension": ".py",
   "mimetype": "text/x-python",
   "name": "python",
   "nbconvert_exporter": "python",
   "pygments_lexer": "ipython3",
   "version": "3.6.8"
  }
 },
 "nbformat": 4,
 "nbformat_minor": 1
}
