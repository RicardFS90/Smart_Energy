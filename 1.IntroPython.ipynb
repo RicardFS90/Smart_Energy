{
 "cells": [
  {
   "cell_type": "markdown",
   "metadata": {},
   "source": [
    "<img src=\"Figures/top_ML.png\" alt=\"Drawing\" style=\"width: 1000px;\"/>"
   ]
  },
  {
   "cell_type": "markdown",
   "metadata": {
    "slideshow": {
     "slide_type": "slide"
    }
   },
   "source": [
    "# Introducción a Python    "
   ]
  },
  {
   "cell_type": "markdown",
   "metadata": {},
   "source": [
    "### CONTENIDOS\n",
    "1. Introducción a Jupyter Notebooks \n",
    "2. Variables y estructuras de datos \n",
    "3. Estructuras condicionales \n",
    "4. Listas y loops \n",
    "5. Diccionarios y tablas de frecuencia\n",
    "6. Funciones \n",
    "7. Funciones avanzadas \n",
    "8. Lenguaje orientado a objetos \n",
    "9. Introducción a NumPy \n",
    "10. Introducción a Pandas\n",
    "11. Creación de gráficos y visualización"
   ]
  },
  {
   "cell_type": "markdown",
   "metadata": {},
   "source": [
    "## 1. Introducción a Jupyter Notebooks\n",
    "\n",
    "<img src=\"Figures/Jupyter.png\" alt=\"Drawing\" style=\"width: 200px;\"/>\n",
    "\n",
    "Jupyter notebooks es un entorno (IDE) que nos permite intercalar contenido de texto (se llamará cela 'Markdown') con código Python (tipo de cela 'Code') que se puede ejecutar cela por cela como se puede ver en los siguientes ejemplos. \n",
    "\n",
    "Los comando básicos para poder seguir este curso y empezar a usar Jupyter Notebooks son:\n",
    "\n",
    "<img src=\"Figures/menu.png\" alt=\"Drawing\" style=\"width: 500px;\"/>\n",
    "\n",
    "* `Shift+Enter`: Ejecutar cela y seleccionar siguiente cela\n",
    "* `Alt+Enter`: Ejecutar cela y insertar una cela nueva\n",
    "* `ESC`: para entrar en modo 'command'. Una vez en este modo:\n",
    "    * `H` lista de comandos\n",
    "    * `A` insertar cela debajo\n",
    "    * `B` insterar cela arriba\n",
    "    * `D,D` D dos veces eleimina la cela\n",
    "    * `Y` cambiar cela a tipo 'Code'\n",
    "    * `M` cambiar cela a 'Markdown'\n",
    "    * `Enter`pasar a modo edit"
   ]
  },
  {
   "cell_type": "markdown",
   "metadata": {},
   "source": [
    "#### Ejecutar la cela de debajo usando alguno de los comandos aprendidos"
   ]
  },
  {
   "cell_type": "code",
   "execution_count": 1,
   "metadata": {
    "scrolled": true,
    "slideshow": {
     "slide_type": "subslide"
    }
   },
   "outputs": [
    {
     "data": {
      "text/plain": [
       "16"
      ]
     },
     "execution_count": 1,
     "metadata": {},
     "output_type": "execute_result"
    }
   ],
   "source": [
    "3 + 4 + 9"
   ]
  },
  {
   "cell_type": "code",
   "execution_count": 2,
   "metadata": {
    "scrolled": true
   },
   "outputs": [
    {
     "name": "stdout",
     "output_type": "stream",
     "text": [
      "El resultado de sumar 87 y 34 es 121.\n"
     ]
    }
   ],
   "source": [
    "# Ejemplo de código en Python\n",
    "# Cambiar los valores de a y b, y observar el resultado al ejecutar la cela \n",
    "\n",
    "a=87\n",
    "b=34\n",
    "c=a+b\n",
    "\n",
    "print('El resultado de sumar {} y {} es {}.'.format(a,b,c))"
   ]
  },
  {
   "cell_type": "markdown",
   "metadata": {},
   "source": [
    "## 2. Variables y estructuras de datos\n",
    "\n",
    "Las variables en Python se crean cuando se definen por primera vez, es decir, cuando se les asigna un valor por primera vez (utilizando el operador <code> = </code>). Por esta razón, en Python no hace falta declarar las variables. \n",
    "\n",
    "Los principales tipos de variables que se pueden encontrar son:\n",
    "* **Numéricas**\n",
    "    * **Integer (int):** Números naturales positivos y negativos.\n",
    "    * **Float:** Números reales.\n",
    "    * **Complex:** Números complejos. La parte imaginaria se multiplica por `j` para representar la raíz de `-1`. Por ejemplo: <code>a = 2+3j</code>\n",
    "* **Boleanas**\n",
    "    Son variables que pueden tomar como valor cierto o falso, representados en Python por `True` y `False` usando mayúsculas.\n",
    "* **Estructuras de datos (secuencias de datos)**\n",
    "    Lista ordenada de valores del mismo o distinto tipo. En Python existen:\n",
    "    * **String:** cadenas de texto\n",
    "    * **Lista:** conjuntos ordenados de elementos\n",
    "    * **Tupla:** conjuntos ordenados e inmutables de elementos\n",
    "    * **Diccionario:** conjuntos de elementos caracterizados por un identificador y un valor    "
   ]
  },
  {
   "cell_type": "markdown",
   "metadata": {},
   "source": [
    "Existen algunas reglas generales para los nombres de variables:\n",
    "+ Se usan solo letras, números y \"guiones bajos\" (_)\n",
    "+ NO se usan espacios en ningún lugar del nombre\n",
    "+ El nombre no puede empezar con un número\n",
    "+ Las letras mayúsculas se tratan como distintas de las minúsculas (es decir, Python distingue entre mayúsculas y minúsculas)"
   ]
  },
  {
   "cell_type": "code",
   "execution_count": 3,
   "metadata": {
    "scrolled": true
   },
   "outputs": [
    {
     "ename": "SyntaxError",
     "evalue": "invalid syntax (<ipython-input-3-f986eee6e224>, line 1)",
     "output_type": "error",
     "traceback": [
      "\u001b[1;36m  File \u001b[1;32m\"<ipython-input-3-f986eee6e224>\"\u001b[1;36m, line \u001b[1;32m1\u001b[0m\n\u001b[1;33m    3a = 10\u001b[0m\n\u001b[1;37m     ^\u001b[0m\n\u001b[1;31mSyntaxError\u001b[0m\u001b[1;31m:\u001b[0m invalid syntax\n"
     ]
    }
   ],
   "source": [
    "3a = 10"
   ]
  },
  {
   "cell_type": "markdown",
   "metadata": {},
   "source": [
    "Cada vez que se crea o modifica una variable, Python interpreta qué tipo de variable es. Cuando se asigna un nuevo valor a un objeto existente (*escritura dinámica*), los valores anteriores de ese objeto se borran de la memoria de la computadora. El primer valor de **a** es el número real 13.0, pero después de una nueva asignación:"
   ]
  },
  {
   "cell_type": "code",
   "execution_count": 4,
   "metadata": {},
   "outputs": [
    {
     "name": "stdout",
     "output_type": "stream",
     "text": [
      "b\n"
     ]
    }
   ],
   "source": [
    "a = 13.0\n",
    "a = 'b'\n",
    "print(a)"
   ]
  },
  {
   "cell_type": "markdown",
   "metadata": {},
   "source": [
    "La función ``type()`` muestra el TIPO del dato que le pasamos como argumento:"
   ]
  },
  {
   "cell_type": "code",
   "execution_count": 5,
   "metadata": {
    "scrolled": true
   },
   "outputs": [
    {
     "data": {
      "text/plain": [
       "int"
      ]
     },
     "execution_count": 5,
     "metadata": {},
     "output_type": "execute_result"
    }
   ],
   "source": [
    "# Declarar una variable a y mirar qué tipo de variable es utilizando \"type(nombre_variable)\"\n",
    "\n",
    "a=2\n",
    "type(a)"
   ]
  },
  {
   "cell_type": "code",
   "execution_count": 6,
   "metadata": {
    "scrolled": true
   },
   "outputs": [
    {
     "data": {
      "text/plain": [
       "float"
      ]
     },
     "execution_count": 6,
     "metadata": {},
     "output_type": "execute_result"
    }
   ],
   "source": [
    "# Probar de declarar otro tipo de variable y mirar qué tipo es\n",
    "\n",
    "a=2.0\n",
    "type(a)"
   ]
  },
  {
   "cell_type": "markdown",
   "metadata": {},
   "source": [
    "### 2.1 Tipos y operadores básicos\n",
    "\n",
    "Los operadores básicos en Python son:\n",
    "\n",
    "+ Suma (también para strings, tuplas o listas): <code>a + b</code>\n",
    "+ Resta: <code>a - b</code>\n",
    "+ Multiplicación (también para strings, tuplas y listas): <code>a * b</code>\n",
    "+ División: <code>a / b</code>\n",
    "+ Division entera: <code>a // b</code>\n",
    "+ Resto de la división o residuo: <code>a % b</code>\n",
    "+ Exponencial: <code>a ** b</code>\n",
    "+ Asignamiento: <code>=</code>, <code>-=</code>, <code>+=</code>,<code>/=</code>,<code>*=</code>, <code>%=</code>, <code>//=</code>, <code>**=</code>\n",
    "+ Comparaciones booleanas: <code>==</code>, <code>!=</code>, <code><</code>,<code>></code>,<code><=</code>, <code>>=</code>\n",
    "+ Operaciones booleanas: <code>and</code>, <code>or</code>, <code>not</code>\n",
    "+ Operaciones para comprobar pertenecencia: <code>in</code>, <code>not in</code>\n",
    "+ Operaciones para identificar objetos: <code>is</code>, <code>is not</code>\n",
    "<!-- + Bitwise operators (or, xor, and, complement): <code>|</code>, <code>^</code>, <code>&</code>, <code>~</code> -->\n",
    "<!-- + Left and right bit shift: <code><<</code>, <code>>></code> -->"
   ]
  },
  {
   "cell_type": "markdown",
   "metadata": {},
   "source": [
    "### Python como calculadora\n",
    "\n",
    "Python tiene una notación concisa para la aritmética que se parece mucho a la forma tradicional de escribir operaciones."
   ]
  },
  {
   "cell_type": "code",
   "execution_count": 7,
   "metadata": {
    "scrolled": true
   },
   "outputs": [
    {
     "name": "stdout",
     "output_type": "stream",
     "text": [
      "5 -28.0 1.6666666666666667 1.6666666666666667\n"
     ]
    }
   ],
   "source": [
    "a = 3+2\n",
    "b= 3.5 * -8\n",
    "c = 10/6\n",
    "print(a, b, c, 10./6.)"
   ]
  },
  {
   "cell_type": "code",
   "execution_count": 8,
   "metadata": {},
   "outputs": [
    {
     "name": "stdout",
     "output_type": "stream",
     "text": [
      "25.3 <class 'int'> <class 'float'> <class 'float'>\n"
     ]
    }
   ],
   "source": [
    "# Ejemplo\n",
    "\n",
    "a = 12\n",
    "b = 13.3\n",
    "c = a + b\n",
    "print (c, type(a), type(b), type(c))"
   ]
  },
  {
   "cell_type": "markdown",
   "metadata": {},
   "source": [
    "### Módulos \n",
    "\n",
    "Algunas funciones matemáticas más complejas no están disponibles en el módulo básico de Python y deben importarse desde un módulo específico. Para importar librerías, solo se debe escribir \"import + el nombre de la librería\".\n",
    "\n",
    "<img src=\"Figures/python_import.jfif\" alt=\"Drawing\" style=\"width: 250px;\"/>\n",
    "\n",
    "En cada caso se deberá leer bien la documentación de las librerías usadas para concocer sus características y saber como implementarlas. Por ejemplo, para math:\n",
    "\n",
    "https://docs.python.org/3/library/math.html"
   ]
  },
  {
   "cell_type": "code",
   "execution_count": 9,
   "metadata": {
    "scrolled": true
   },
   "outputs": [
    {
     "name": "stdout",
     "output_type": "stream",
     "text": [
      "5.635227012480034\n"
     ]
    }
   ],
   "source": [
    "import math   # solo se ejecutará si la librería no ha estado importada previamente\n",
    "print(math.pi + math.sin(100) + math.ceil(2.3))"
   ]
  },
  {
   "cell_type": "markdown",
   "metadata": {},
   "source": [
    "### Operadores booleanos"
   ]
  },
  {
   "cell_type": "code",
   "execution_count": 10,
   "metadata": {
    "scrolled": true
   },
   "outputs": [
    {
     "data": {
      "text/plain": [
       "True"
      ]
     },
     "execution_count": 10,
     "metadata": {},
     "output_type": "execute_result"
    }
   ],
   "source": [
    "a = 4\n",
    "b = 40\n",
    "(a>2) and (b>30)"
   ]
  },
  {
   "cell_type": "code",
   "execution_count": 11,
   "metadata": {
    "scrolled": true
   },
   "outputs": [
    {
     "data": {
      "text/plain": [
       "True"
      ]
     },
     "execution_count": 11,
     "metadata": {},
     "output_type": "execute_result"
    }
   ],
   "source": [
    "(a>2) or (b>100)"
   ]
  },
  {
   "cell_type": "code",
   "execution_count": 12,
   "metadata": {
    "scrolled": true
   },
   "outputs": [
    {
     "data": {
      "text/plain": [
       "False"
      ]
     },
     "execution_count": 12,
     "metadata": {},
     "output_type": "execute_result"
    }
   ],
   "source": [
    "not(a>2)"
   ]
  },
  {
   "cell_type": "markdown",
   "metadata": {},
   "source": [
    "### 2.2 Estructuras de datos\n",
    "\n",
    "### Strings o cadenas de texto\n",
    "\n",
    "El texto en Python se trata como una lista de carcateres. De esta manera, la metodología que aplica al tratamiento de listas, puede ser aplicada a las cadenas de texto."
   ]
  },
  {
   "cell_type": "code",
   "execution_count": 13,
   "metadata": {
    "scrolled": true
   },
   "outputs": [
    {
     "data": {
      "text/plain": [
       "str"
      ]
     },
     "execution_count": 13,
     "metadata": {},
     "output_type": "execute_result"
    }
   ],
   "source": [
    "a = 'python'\n",
    "type(a)"
   ]
  },
  {
   "cell_type": "code",
   "execution_count": 14,
   "metadata": {
    "scrolled": true
   },
   "outputs": [
    {
     "name": "stdout",
     "output_type": "stream",
     "text": [
      "Hello\n"
     ]
    }
   ],
   "source": [
    "print(\"Hello\" )"
   ]
  },
  {
   "cell_type": "code",
   "execution_count": 15,
   "metadata": {
    "scrolled": true
   },
   "outputs": [
    {
     "name": "stdout",
     "output_type": "stream",
     "text": [
      "Esto es 'un ejemplo' de como usar comillas dentro de un texto que se escribe entre comillas dobles\n",
      "Aquí tenemos \"otro ejemplo\" pero ahora al revés\n"
     ]
    }
   ],
   "source": [
    "print(\"Esto es 'un ejemplo' de como usar comillas dentro de un texto que se escribe entre comillas dobles\")\n",
    "print('Aquí tenemos \"otro ejemplo\" pero ahora al revés')"
   ]
  },
  {
   "cell_type": "markdown",
   "metadata": {},
   "source": [
    "Para juntar cadenas de carácteres se puede usar el operador '+':"
   ]
  },
  {
   "cell_type": "code",
   "execution_count": 16,
   "metadata": {
    "scrolled": true
   },
   "outputs": [
    {
     "name": "stdout",
     "output_type": "stream",
     "text": [
      "Hello!\n"
     ]
    }
   ],
   "source": [
    "a = 'He'\n",
    "b = 'llo'\n",
    "c = a+b+'!'\n",
    "print(c)"
   ]
  },
  {
   "cell_type": "markdown",
   "metadata": {},
   "source": [
    "Para acceder a solo una parte de una lista o, en este caso, de una *string*, se usa la técnica denominada **slicing**. El formato a seguir para coger solo una parte de la string es el siguiente:\n",
    "\n",
    "# <center>nombre_variable[indice_primer_elemento:indice_final:step]</center>\n",
    "\n",
    "Donde el funcionamiento de los índices se pueden ver en la siguiente imagen\n",
    "\n",
    "![Slicing1](Figures/slicing1.png)\n"
   ]
  },
  {
   "cell_type": "code",
   "execution_count": 17,
   "metadata": {
    "scrolled": true
   },
   "outputs": [
    {
     "name": "stdout",
     "output_type": "stream",
     "text": [
      "Python P thon Pyt th Pto yhn\n"
     ]
    }
   ],
   "source": [
    "#Ejemplos\n",
    "a = 'Python'\n",
    "print(a[:], a[0], a[2:], a[:3], a[2:4], a[::2], a[1::2])"
   ]
  },
  {
   "cell_type": "markdown",
   "metadata": {},
   "source": [
    "#### Ejercicio\n",
    "Con una línia de codigo, conseguir los siguientes sets de caracteres:\n",
    "- Primera letra.\n",
    "- De la letra 2 a la 4\n",
    "- Úlimas 3 letras\n",
    "- Solo las letras en posición par, des de la número 4 al final\n",
    "- Todo el texto al revés\n"
   ]
  },
  {
   "cell_type": "code",
   "execution_count": 18,
   "metadata": {},
   "outputs": [
    {
     "name": "stdout",
     "output_type": "stream",
     "text": [
      "T\n"
     ]
    }
   ],
   "source": [
    "texto = \"Texto de prueba para hacer el ejercicio\"\n",
    "primera_letra = print(texto[0])"
   ]
  },
  {
   "cell_type": "markdown",
   "metadata": {},
   "source": [
    "En el caso de los *strings* hay métodos en Python que vienen por defecto que nos pueden ser útiles. Por ejemplo las funciones siguientes:\n",
    "- len: devuelve la longitud el texto.\n",
    "- str: convierte eun número en string.\n",
    "- reverse: devuelve el texto al revés.\n",
    "\n",
    "Para usar una fucnión se pondrá nombre_de_la_función(nombre_variable)\n",
    "\n",
    "También podemos usar métodos propios para strings:\n",
    "- lower: convierte todo el texto en mínusculas.\n",
    "- upper: convierte todo el texto en mayúsculas.\n",
    "- capitalize: pone en mayúsculas la primera letra del string.\n",
    "- split(delimitador): devuelve una lista de substrings separados por el delimitador indicado (ver ejemplos más adelante)\n",
    "\n",
    "Para usar un método se pondrá nombre_variable.nombre_del_métdodo\n"
   ]
  },
  {
   "cell_type": "code",
   "execution_count": 19,
   "metadata": {},
   "outputs": [
    {
     "name": "stdout",
     "output_type": "stream",
     "text": [
      "61\n",
      "vamos a hacer pruebas con las funciones y métodos de strings!\n",
      "['vamos', 'a', 'hacer', 'pruebas', 'con', 'las', 'funciones', 'y', 'métodos', 'de', 'Strings!']\n"
     ]
    }
   ],
   "source": [
    "texto='vamos a hacer pruebas con las funciones y métodos de Strings!'\n",
    "print(len(texto))\n",
    "print(texto.lower())\n",
    "print(texto.split(' '))\n",
    "# En una línia, devuelve la 4a palabra del texto todo en mayúsculas!\n"
   ]
  },
  {
   "cell_type": "markdown",
   "metadata": {},
   "source": [
    "### Lists\n",
    "\n",
    "Las listas son un tipo de Python que sirven para agrupar objetos de otros tipos (incluso listas!). Por ejemplo una lista de números, de floats, de strings, de otras listas, etc. \n",
    "\n",
    "Las listas, como los strings, pueden usar la metodología de *slicing*\n"
   ]
  },
  {
   "cell_type": "code",
   "execution_count": 20,
   "metadata": {
    "scrolled": true
   },
   "outputs": [
    {
     "data": {
      "text/plain": [
       "list"
      ]
     },
     "execution_count": 20,
     "metadata": {},
     "output_type": "execute_result"
    }
   ],
   "source": [
    "l=[]\n",
    "type(l)"
   ]
  },
  {
   "cell_type": "code",
   "execution_count": 21,
   "metadata": {},
   "outputs": [
    {
     "data": {
      "text/plain": [
       "[0, 5, '6', 34, 'Hola']"
      ]
     },
     "execution_count": 21,
     "metadata": {},
     "output_type": "execute_result"
    }
   ],
   "source": [
    "# Crear lista\n",
    "mi_lista = [0,5,'6',34,'Hola']\n",
    "mi_lista"
   ]
  },
  {
   "cell_type": "code",
   "execution_count": 22,
   "metadata": {},
   "outputs": [
    {
     "data": {
      "text/plain": [
       "'6'"
      ]
     },
     "execution_count": 22,
     "metadata": {},
     "output_type": "execute_result"
    }
   ],
   "source": [
    "# Acceder a un elemento de la lista\n",
    "a = mi_lista[2]\n",
    "a"
   ]
  },
  {
   "cell_type": "code",
   "execution_count": 23,
   "metadata": {},
   "outputs": [
    {
     "data": {
      "text/plain": [
       "[0, 5, '6', 34, 'Adiós']"
      ]
     },
     "execution_count": 23,
     "metadata": {},
     "output_type": "execute_result"
    }
   ],
   "source": [
    "# Canviar un elemento de una lista\n",
    "mi_lista[-1]='Adiós'\n",
    "mi_lista"
   ]
  },
  {
   "cell_type": "code",
   "execution_count": 24,
   "metadata": {},
   "outputs": [
    {
     "name": "stdout",
     "output_type": "stream",
     "text": [
      "[45, [3, 5, 6], 'palabra', 34.6, ['a', 'b', 'c']]\n",
      "[3, 5, 6]\n",
      "6\n"
     ]
    }
   ],
   "source": [
    "# Podemos tener lista de listas!\n",
    "mi_lista=[45,[3,5,6],'palabra',34.6,['a','b','c']]\n",
    "print(mi_lista)\n",
    "print(mi_lista[1])\n",
    "print(mi_lista[1][2])\n",
    "# acceder a la letra c!"
   ]
  },
  {
   "cell_type": "markdown",
   "metadata": {},
   "source": [
    "Para las listas también hay funciones y métodos en Python que vienen por defecto que nos pueden ser útiles. Por ejemplo las funciones siguientes:\n",
    "- len: devuelve la longitud de la lista.\n",
    "- list: crear lista\n",
    "\n",
    "Para usar una fucnión se pondrá nombre_de_la_función(nombre_variable)\n",
    "\n",
    "También podemos usar métodos propios para listas:\n",
    "- append: añadir elemento al final de la lista.\n",
    "- insert: añdir un elemento en una posición particular.\n",
    "- pop: quitar el último elemento de la lista.\n",
    "- remove: quitar un elemento en particular.\n",
    "- sort: ordenar la lista\n",
    "\n",
    "Para usar un método se pondrá nombre_variable.nombre_del_métdodo"
   ]
  },
  {
   "cell_type": "code",
   "execution_count": 25,
   "metadata": {
    "scrolled": true
   },
   "outputs": [
    {
     "name": "stdout",
     "output_type": "stream",
     "text": [
      "['primero', 'hola', 'prueba', 'adiós', 'zoológico', 'máster']\n",
      "['primero', 'hola', 'prueba', 'adiós', 'zoológico', 'máster', 'último']\n",
      "['primero', 'segundo', 'hola', 'prueba', 'adiós', 'zoológico', 'máster', 'último']\n",
      "['primero', 'segundo', 'hola', 'prueba', 'adiós', 'zoológico', 'máster']\n",
      "['primero', 'segundo', 'hola', 'adiós', 'zoológico', 'máster']\n",
      "['adiós', 'hola', 'máster', 'primero', 'segundo', 'zoológico']\n"
     ]
    }
   ],
   "source": [
    "mi_lista=['primero','hola','prueba','adiós','zoológico','máster']\n",
    "print(mi_lista)\n",
    "mi_lista.append('último')\n",
    "print(mi_lista)\n",
    "mi_lista.insert(1,'segundo')\n",
    "print(mi_lista)\n",
    "mi_lista.pop()\n",
    "print(mi_lista)\n",
    "mi_lista.remove('prueba')\n",
    "print(mi_lista)\n",
    "mi_lista.sort()\n",
    "print(mi_lista)"
   ]
  },
  {
   "cell_type": "markdown",
   "metadata": {},
   "source": [
    "### Dictionaries\n",
    "\n",
    "Un diccionario es otra manera de agrupar datos donde se puede acceder a un *element* a través de su *key*. Por ejemplo:"
   ]
  },
  {
   "cell_type": "code",
   "execution_count": 26,
   "metadata": {},
   "outputs": [],
   "source": [
    "esta_instalacion = {\n",
    "    'Potencia': 10,\n",
    "    'Tipo': 'Solar',\n",
    "    'Año_construccion':2012\n",
    "}"
   ]
  },
  {
   "cell_type": "code",
   "execution_count": 27,
   "metadata": {},
   "outputs": [
    {
     "data": {
      "text/plain": [
       "'Solar'"
      ]
     },
     "execution_count": 27,
     "metadata": {},
     "output_type": "execute_result"
    }
   ],
   "source": [
    "esta_instalacion['Tipo']"
   ]
  },
  {
   "cell_type": "markdown",
   "metadata": {},
   "source": [
    "Otro ejemplo podría ser:"
   ]
  },
  {
   "cell_type": "code",
   "execution_count": 28,
   "metadata": {
    "scrolled": true
   },
   "outputs": [
    {
     "name": "stdout",
     "output_type": "stream",
     "text": [
      "{'Instalacion_1': 'Solar', 'Instalacion_2': 'Eólica', 'Instalacion_3': 'Eólica', 'Instalacion_4': 'Hidráulica', 'Instalacion_5': 'Solar'}\n"
     ]
    }
   ],
   "source": [
    "dict = {\"Instalacion_1\": \"Solar\", \"Instalacion_2\": \"Eólica\", \"Instalacion_3\": \"Eólica\", \"Instalacion_4\": \"Hidráulica\", \"Instalacion_5\": \"Solar\",}\n",
    "print(dict)"
   ]
  },
  {
   "cell_type": "markdown",
   "metadata": {},
   "source": [
    "Para acceder a algun elemento, modificar o añadir, se podrá hacer de forma parecida a las listas:"
   ]
  },
  {
   "cell_type": "code",
   "execution_count": 29,
   "metadata": {
    "scrolled": true
   },
   "outputs": [
    {
     "data": {
      "text/plain": [
       "'Solar'"
      ]
     },
     "execution_count": 29,
     "metadata": {},
     "output_type": "execute_result"
    }
   ],
   "source": [
    "#acceder\n",
    "dict[\"Instalacion_1\"]"
   ]
  },
  {
   "cell_type": "code",
   "execution_count": 30,
   "metadata": {},
   "outputs": [
    {
     "name": "stdout",
     "output_type": "stream",
     "text": [
      "{'Instalacion_1': 'Solar', 'Instalacion_2': 'Eólica', 'Instalacion_3': 'Eólica', 'Instalacion_4': 'Hidráulica', 'Instalacion_5': 'Solar'}\n",
      "{'Instalacion_1': 'Eólica', 'Instalacion_2': 'Eólica', 'Instalacion_3': 'Eólica', 'Instalacion_4': 'Hidráulica', 'Instalacion_5': 'Solar'}\n"
     ]
    }
   ],
   "source": [
    "# modificar\n",
    "print(dict)\n",
    "dict[\"Instalacion_1\"]=\"Eólica\"\n",
    "print(dict)"
   ]
  },
  {
   "cell_type": "code",
   "execution_count": 31,
   "metadata": {},
   "outputs": [
    {
     "name": "stdout",
     "output_type": "stream",
     "text": [
      "{'Instalacion_1': 'Eólica', 'Instalacion_2': 'Eólica', 'Instalacion_3': 'Eólica', 'Instalacion_4': 'Hidráulica', 'Instalacion_5': 'Solar'}\n",
      "{'Instalacion_1': 'Eólica', 'Instalacion_2': 'Eólica', 'Instalacion_3': 'Eólica', 'Instalacion_4': 'Hidráulica', 'Instalacion_5': 'Solar', 'Instalacion_6': 'Solar'}\n"
     ]
    }
   ],
   "source": [
    "print(dict)\n",
    "dict[\"Instalacion_6\"]=\"Solar\"\n",
    "print(dict)"
   ]
  },
  {
   "cell_type": "markdown",
   "metadata": {
    "scrolled": true
   },
   "source": [
    "Los diccionarios pueden contener todos los tipos (int, floats, listas, otros diccionarios, etc.)"
   ]
  },
  {
   "cell_type": "code",
   "execution_count": 32,
   "metadata": {},
   "outputs": [
    {
     "data": {
      "text/plain": [
       "{'Instalacion_1': ['Solar', '10 MW'],\n",
       " 'Instalacion_2': ['Eólica', '15 MW'],\n",
       " 'Instalacion_3': ['Solar', '18 MW'],\n",
       " 'Instalacion_4': ['Hidráulica', '12 MW'],\n",
       " 'Instalacion_5': ['Solar', '23 MW'],\n",
       " 'Instalacion_6': ['Eólica', '8 MW'],\n",
       " 'Instalacion_7': ['Solar', '11 MW'],\n",
       " 'Instalacion_8': ['Hidráulica', '11 MW']}"
      ]
     },
     "execution_count": 32,
     "metadata": {},
     "output_type": "execute_result"
    }
   ],
   "source": [
    "dict = {\"Instalacion_1\": [\"Solar\", '10 MW'], \"Instalacion_2\": [\"Eólica\", '15 MW'], \"Instalacion_3\": [\"Solar\", '18 MW'], \"Instalacion_4\": [\"Hidráulica\", '12 MW'], \"Instalacion_5\": [\"Solar\", '23 MW'], \"Instalacion_6\": [\"Eólica\", '8 MW'],\"Instalacion_7\": [\"Solar\", '11 MW'], \"Instalacion_8\": [\"Hidráulica\", '11 MW']}\n",
    "dict"
   ]
  },
  {
   "cell_type": "code",
   "execution_count": 33,
   "metadata": {},
   "outputs": [
    {
     "data": {
      "text/plain": [
       "'18 MW'"
      ]
     },
     "execution_count": 33,
     "metadata": {},
     "output_type": "execute_result"
    }
   ],
   "source": [
    "dict['Instalacion_3'][1]"
   ]
  },
  {
   "cell_type": "code",
   "execution_count": 34,
   "metadata": {},
   "outputs": [],
   "source": [
    "#Suma 3 MW a la instalación 4 y modifica el diccionario!"
   ]
  },
  {
   "cell_type": "markdown",
   "metadata": {},
   "source": [
    "### Tuples\n",
    "\n",
    "Tuples son listas **que no permiten ser modificadas!**. \n",
    "\n",
    "Su sintaxis es igual que en las listas, però para escribir una tupla se usan paréntesis y no corchetes."
   ]
  },
  {
   "cell_type": "code",
   "execution_count": 35,
   "metadata": {
    "scrolled": true
   },
   "outputs": [
    {
     "name": "stdout",
     "output_type": "stream",
     "text": [
      "<class 'tuple'> ('Nuclear', 'NoQueremosMásCarbón')\n"
     ]
    }
   ],
   "source": [
    "misupertupla = ('Solar', 'Eólica', 'Hidráulica', 'Gas', 'Nuclear', 'NoQueremosMásCarbón')\n",
    "print(type(misupertupla), misupertupla[4:])"
   ]
  },
  {
   "cell_type": "code",
   "execution_count": 36,
   "metadata": {
    "scrolled": true
   },
   "outputs": [
    {
     "ename": "TypeError",
     "evalue": "'tuple' object does not support item assignment",
     "output_type": "error",
     "traceback": [
      "\u001b[1;31m---------------------------------------------------------------------------\u001b[0m",
      "\u001b[1;31mTypeError\u001b[0m                                 Traceback (most recent call last)",
      "\u001b[1;32m<ipython-input-36-3c72c87d7787>\u001b[0m in \u001b[0;36m<module>\u001b[1;34m\u001b[0m\n\u001b[1;32m----> 1\u001b[1;33m \u001b[0mmisupertupla\u001b[0m\u001b[1;33m[\u001b[0m\u001b[1;36m0\u001b[0m\u001b[1;33m]\u001b[0m\u001b[1;33m=\u001b[0m\u001b[1;34m'PV'\u001b[0m\u001b[1;33m\u001b[0m\u001b[1;33m\u001b[0m\u001b[0m\n\u001b[0m",
      "\u001b[1;31mTypeError\u001b[0m: 'tuple' object does not support item assignment"
     ]
    }
   ],
   "source": [
    "misupertupla[0]='PV'"
   ]
  },
  {
   "cell_type": "markdown",
   "metadata": {},
   "source": [
    "## 3. Estructuras condicionales (if)\n",
    "\n",
    "Las estructuras de control condicionales permiten ejecutar una parte del código o otro en función de la evaluación de una o varis condiciones booleanas de SI o NO (**<code>TRUE</code>** o **<code>FALSE</code>**).\n",
    "\n",
    "En Python, las estructuras de control condicionales se definen mediante las palabras **<code>if</code>**, **<code>elif</code>** y **<code>else</code>**.\n",
    "\n",
    "- **<code>if CONDICION:</code>** si se cumple la expresión condicional se ejecuta el bloque de código a continuación.\n",
    "- **<code>elif CONDICION:</code>** de lo contrario, si se cumple esta expresión condicional se ejecuta este otro bloque de código.\n",
    "- **<code>else:</code>** de lo contrario, se ejecuta este bloque de código a continuación sin evaluar ninguna condición.\n",
    "\n",
    "\n",
    "La condición es normalmente evaluada mediante los siguientes operadores relacionales <code> <, <=, ==, >=, >, != </code>.\n",
    "\n",
    "La parte de código dentro de un ``if`` no pueden estar vacía, pero si por alguna razón se debe crear una declaración if sin contenido, se puede utilizar la declaración ``pass`` para evitar de se produzca un error."
   ]
  },
  {
   "cell_type": "code",
   "execution_count": null,
   "metadata": {},
   "outputs": [],
   "source": [
    "# Ejemplo \n",
    "\n",
    "a = 33\n",
    "b = 200\n",
    "\n",
    "if b > a:\n",
    "  pass"
   ]
  },
  {
   "cell_type": "code",
   "execution_count": null,
   "metadata": {
    "scrolled": true
   },
   "outputs": [],
   "source": [
    "#Ejemplo\n",
    "\n",
    "celsius = 35\n",
    "fahrenheit = 9.0 /5.0 * celsius + 32\n",
    "\n",
    "print(\"La temperatura en Fahrenheit es\", fahrenheit)\n",
    "\n",
    "if fahrenheit > 90:\n",
    "    print(\"Hace calor\")\n",
    "elif fahrenheit < 30:\n",
    "    print(\"Hace frío\")\n",
    "else: print(\"No hace ni frío ni calor\")"
   ]
  },
  {
   "cell_type": "markdown",
   "metadata": {
    "scrolled": true
   },
   "source": [
    "#### Ejercicio\n",
    "\n",
    "Crear un código para identificar si la variable **<code>numero</code>** es un numero positivo, negativo, o de valor 0. Guardar el resultado en una variable llamada **<code>signo</code>**"
   ]
  },
  {
   "cell_type": "code",
   "execution_count": null,
   "metadata": {},
   "outputs": [],
   "source": [
    "numero = 2\n"
   ]
  },
  {
   "cell_type": "markdown",
   "metadata": {},
   "source": [
    "Tambiém se puede expresar en una sola linea la estructura condicional de la siguiente manera, dependindo de si se trata de una, dos o más condiciones:"
   ]
  },
  {
   "cell_type": "code",
   "execution_count": null,
   "metadata": {},
   "outputs": [],
   "source": [
    "#Ejemplo\n",
    "\n",
    "a = 330\n",
    "b = 330\n",
    "\n",
    "# con una sola condición:\n",
    "if a > b: print(\"a es mayor que b\")\n",
    "    \n",
    "#con dos condiciones:\n",
    "print(\"A\") if a > b else print(\"B\")\n",
    "\n",
    "#con tres condiciones:\n",
    "print(\"A\") if a > b else print(\"=\") if a == b else print(\"B\")"
   ]
  },
  {
   "cell_type": "code",
   "execution_count": null,
   "metadata": {},
   "outputs": [],
   "source": [
    "# Ejercicio: poner en una sola linea el código para determinar el signo de un número \n",
    "numero = 2\n"
   ]
  },
  {
   "cell_type": "markdown",
   "metadata": {},
   "source": [
    "## 4. Listas y loops"
   ]
  },
  {
   "cell_type": "markdown",
   "metadata": {},
   "source": [
    "### 4.1 Estructuras de control iterativas (for & while)\n",
    "\n",
    "Las estructuras de control iterativas (también llamadas bucles o loops), permiten ejecutar un mismo código de manera repetida mientras se cumpla una condición.\n",
    "\n",
    "Existen dos tipos de estructuras de control iterativas:\n",
    "\n",
    "* For\n",
    "* While\n",
    "\n",
    "La sentencia ``for`` de Python itera sobre los elementos de cualquier secuencia (una lista o una cadena de caracteres por ejemplo), en el orden que aparecen en la secuencia.\n",
    "\n",
    "El ciclo ``while`` permite realizar múltiples iteraciones basándose en el resultado de una expresión lógica que puede tener como resultado un valor ``True`` o ``False``.\n"
   ]
  },
  {
   "cell_type": "code",
   "execution_count": null,
   "metadata": {
    "scrolled": true
   },
   "outputs": [],
   "source": [
    "#Ejemplo de for\n",
    "\n",
    "for i in range(0,10,1):\n",
    "    print(i)"
   ]
  },
  {
   "cell_type": "code",
   "execution_count": null,
   "metadata": {
    "scrolled": true
   },
   "outputs": [],
   "source": [
    "#Ejemplo de while\n",
    "\n",
    "i=0\n",
    "while i < 10 :\n",
    "    print(i)\n",
    "    i= i+1"
   ]
  },
  {
   "cell_type": "markdown",
   "metadata": {},
   "source": [
    "Además, los bucles con ``for`` o ``while`` pueden combinarse con estructuras condicionales ``if`` dando lugar a estructuras más complejas.\n",
    "\n",
    "Con la instrucción ``break`` podemos detener el bucle antes de que haya pasado por todos los elementos.\n",
    "\n",
    "Con la instrucción ``continue`` podemos detener la iteración actual del bucle (tanto en ``for`` como en ``while``) y continuar con la siguiente."
   ]
  },
  {
   "cell_type": "code",
   "execution_count": 37,
   "metadata": {
    "scrolled": true
   },
   "outputs": [
    {
     "name": "stdout",
     "output_type": "stream",
     "text": [
      "20 20\n"
     ]
    }
   ],
   "source": [
    "# Ejemplo\n",
    "\n",
    "numeros = [-5, 3, 2, -1, 9, 6]\n",
    "total = 0\n",
    "\n",
    "for n in numeros:\n",
    "    if n >= 0:\n",
    "        total += n\n",
    "\n",
    "total2 = 0\n",
    "for n in numeros:\n",
    "    if n < 0:\n",
    "        continue\n",
    "    total2 += n\n",
    "\n",
    "print(total, total2)"
   ]
  },
  {
   "cell_type": "code",
   "execution_count": 38,
   "metadata": {
    "scrolled": true
   },
   "outputs": [],
   "source": [
    "#Ejercicio: calcular el valor medio de una lista con un for\n",
    "\n",
    "lista=[1,2,3,4]\n"
   ]
  },
  {
   "cell_type": "code",
   "execution_count": 39,
   "metadata": {
    "scrolled": true
   },
   "outputs": [],
   "source": [
    "#Ejercicio: rehacer el código anterior para calcular el valor medio con un while en lugar de un for\n"
   ]
  },
  {
   "cell_type": "markdown",
   "metadata": {},
   "source": [
    "### 4.2 Lists (o dictionary) comprehensions\n",
    "\n",
    "Las comprensiones de listas son una forma de ajustar un bucle ``for``, una declaración ``if`` y una asignación, todo en una sola línea.\n",
    "\n",
    "Una lista de comprensión consta de las siguientes partes:\n",
    "\n",
    "+ Una secuencia de entrada\n",
    "+ Una variable que representa miembros de la secuencia de entrada\n",
    "+ Una expresión opcional\n",
    "+ Una expresión de salida que produce elementos de la lista de salida a partir de miembros de la secuencia de entrada que satisfacen el predicado"
   ]
  },
  {
   "cell_type": "code",
   "execution_count": 40,
   "metadata": {
    "scrolled": true
   },
   "outputs": [
    {
     "name": "stdout",
     "output_type": "stream",
     "text": [
      "<class 'list'> [1, 16, 100, 4, 9]\n",
      "<class 'list'> [1, 16, 100, 4, 9]\n"
     ]
    }
   ],
   "source": [
    "# Ejemplo\n",
    "num = [1, 4, -5, 10, -7, 2, 3, -1]\n",
    "squared = []\n",
    "for i in num:\n",
    "     if i > 0:\n",
    "        squared.append(i**2)\n",
    "print(type(squared), squared)\n",
    "\n",
    "# Este for se puede reescribir de la siguiente manera:\n",
    "# En una iteración, primero comprueba si el if es TRUE y luego realiza el cálculo\n",
    "squared = [ x**2 for x in num if x > 0] \n",
    "print(type(squared), squared)"
   ]
  },
  {
   "cell_type": "code",
   "execution_count": 41,
   "metadata": {},
   "outputs": [],
   "source": [
    "#Ejercicio: calcular el valor medio de una lista con un for de una sola linea\n",
    "\n",
    "lista=[1,2,3,4]\n"
   ]
  },
  {
   "cell_type": "markdown",
   "metadata": {},
   "source": [
    "Esta forma compacta de expresar los bucles también se puede utilizar para iterar dentro de listas. A contnuación se muestran diferentes maneras de juntar los valores de dos listas usando zip o usando fors anidados."
   ]
  },
  {
   "cell_type": "code",
   "execution_count": 42,
   "metadata": {
    "scrolled": true
   },
   "outputs": [
    {
     "name": "stdout",
     "output_type": "stream",
     "text": [
      "[('a', 1), ('a', 2), ('a', 3), ('a', 4), ('b', 1), ('b', 2), ('b', 3), ('b', 4), ('c', 1), ('c', 2), ('c', 3), ('c', 4), ('d', 1), ('d', 2), ('d', 3), ('d', 4)]\n",
      "[('a', 1), ('b', 2), ('c', 3), ('d', 4)]\n",
      "{'a': 1, 'b': 2, 'c': 3, 'd': 4}\n"
     ]
    }
   ],
   "source": [
    "lista1 = ['a','b','c','d']\n",
    "lista2 = [1,2,3,4]\n",
    "\n",
    "# crear una lista con fors anidados:\n",
    "print ([(i,j) for i in lista1 for j in lista2])\n",
    "\n",
    "# crear una lista usando zip:\n",
    "print ([(i,j) for i,j in zip(lista1,lista2)])\n",
    "\n",
    "# crear un diccionario usando zip:\n",
    "print ( {i:j for i,j in zip(lista1,lista2)} )"
   ]
  },
  {
   "cell_type": "markdown",
   "metadata": {},
   "source": [
    "## 5. Diccionarios y tablas de frecuencia"
   ]
  },
  {
   "cell_type": "markdown",
   "metadata": {},
   "source": [
    "Los diccionarios son muy útiles para contar elementos en una lista, y crear una distribución de estos mediante una tabla de frecuencia. A continuación se puede observar un ejemplo donde se quiere saber qué número del 1 al 9 aparece más veces en una lista desordenada de números."
   ]
  },
  {
   "cell_type": "code",
   "execution_count": 43,
   "metadata": {},
   "outputs": [],
   "source": [
    "mi_lista = [2,3,5,2,5,6,7,8,1,2,3,4,5,2,8,9,5,2,4,6,9,1,2,1,3,6,7,4,3,1,2,9,7,5,4,3,1,2,9,5,4,2,7,9,5,3,4,6,7,3,3,4,5]"
   ]
  },
  {
   "cell_type": "code",
   "execution_count": 44,
   "metadata": {
    "scrolled": true
   },
   "outputs": [
    {
     "name": "stdout",
     "output_type": "stream",
     "text": [
      " 2 :  9\n",
      " 3 :  8\n",
      " 5 :  8\n",
      " 6 :  4\n",
      " 7 :  5\n",
      " 8 :  2\n",
      " 1 :  5\n",
      " 4 :  7\n",
      " 9 :  5\n"
     ]
    }
   ],
   "source": [
    "# Creamos un diccionario vacío \n",
    "freq = {} \n",
    "for numero in mi_lista: \n",
    "    if (numero in freq): \n",
    "        freq[numero] += 1\n",
    "    else: \n",
    "        freq[numero] = 1\n",
    "\n",
    "for key, value in freq.items(): \n",
    "    print (\"% d : % d\"%(key, value))"
   ]
  },
  {
   "cell_type": "markdown",
   "metadata": {},
   "source": [
    "De una lista de instalaciones, obtenemos estas tipologías de plantas de generación. ¿Qué tecnología tiene más plantas instaladas? \n",
    "\n",
    "¿Detectas algún problema con los nombres? ¿Cómo lo solucionarías?"
   ]
  },
  {
   "cell_type": "code",
   "execution_count": 45,
   "metadata": {},
   "outputs": [
    {
     "data": {
      "text/plain": [
       "['Eólica',\n",
       " 'Solar',\n",
       " 'Hidráulica',\n",
       " 'Solar',\n",
       " 'Eólica',\n",
       " 'Hidráulica',\n",
       " 'Gas Natural',\n",
       " 'Solar',\n",
       " 'Eólica',\n",
       " 'Solar',\n",
       " 'Nuclear',\n",
       " 'Solar',\n",
       " 'Hidráulica',\n",
       " 'Hidráulica',\n",
       " 'Solar',\n",
       " 'Carbón',\n",
       " 'Eólica',\n",
       " 'Eólica',\n",
       " 'Solar',\n",
       " 'Solar',\n",
       " 'Solar',\n",
       " 'Hidráulica',\n",
       " 'Gas Natural',\n",
       " 'Hidráulica',\n",
       " 'Nuclear',\n",
       " 'Eólica',\n",
       " 'Eólica',\n",
       " 'Solar',\n",
       " 'Eólica',\n",
       " 'Gas Natural',\n",
       " 'Hidráulica',\n",
       " 'hidráulica',\n",
       " 'Solar',\n",
       " 'Eólica',\n",
       " 'Hidráulica',\n",
       " 'Solar',\n",
       " 'Eolica',\n",
       " 'Solar',\n",
       " 'eolica',\n",
       " 'Eólica',\n",
       " 'Solar',\n",
       " 'Solar',\n",
       " 'Hidráulica',\n",
       " 'Gas Natural',\n",
       " 'Solar',\n",
       " 'Gas Natural',\n",
       " 'Nuclear',\n",
       " 'eólica',\n",
       " 'Hidráulica',\n",
       " 'Hidráulica',\n",
       " 'Solar']"
      ]
     },
     "execution_count": 45,
     "metadata": {},
     "output_type": "execute_result"
    }
   ],
   "source": [
    "instalaciones = ['Eólica', 'Solar', 'Hidráulica', 'Solar', 'Eólica', 'Hidráulica', 'Gas Natural', 'Solar', 'Eólica', 'Solar', 'Nuclear', 'Solar', 'Hidráulica', 'Hidráulica', 'Solar', 'Carbón', 'Eólica', 'Eólica', 'Solar', 'Solar', 'Solar', 'Hidráulica', 'Gas Natural', 'Hidráulica', 'Nuclear', 'Eólica', 'Eólica', 'Solar', 'Eólica', 'Gas Natural', 'Hidráulica', 'hidráulica', 'Solar', 'Eólica', 'Hidráulica', 'Solar', 'Eolica', 'Solar','eolica', 'Eólica', 'Solar', 'Solar', 'Hidráulica', 'Gas Natural', 'Solar', 'Gas Natural', 'Nuclear', 'eólica', 'Hidráulica', 'Hidráulica', 'Solar']\n",
    "instalaciones"
   ]
  },
  {
   "cell_type": "markdown",
   "metadata": {},
   "source": [
    "## 6. Funciones\n",
    "\n",
    "Una función es un bloque de código con un nombre asociado, que recibe cero o más argumentos como entrada, sigue una secuencia de sentencias donde se ejecutan las operaciones deseadas y devuelve un valor y/o realiza una tarea. Este bloque de código puede ser llamado varias veces cuando se necesite.\n",
    "\n",
    "En Python existen una serie de funciones integradas por defecto al lenguaje, pero también se pueden crear funciones definidas por el usuario para utilizarlas en sus propios programas. \n",
    "\n",
    "La lista completa de funciones integradas por defecto puede consultarse en:\n",
    "www.w3schools.com/python/python_ref_functions.asp"
   ]
  },
  {
   "cell_type": "code",
   "execution_count": 46,
   "metadata": {},
   "outputs": [
    {
     "name": "stdout",
     "output_type": "stream",
     "text": [
      "4\n",
      "La variable introducida ha sido 4\n"
     ]
    }
   ],
   "source": [
    "#Ejemplo de función integrada en Python\n",
    "\n",
    "# La función input() nos permite asignar a una variable un valor ingresado por el usuario\n",
    "\n",
    "a = input()\n",
    "\n",
    "print('La variable introducida ha sido ' + a)"
   ]
  },
  {
   "cell_type": "markdown",
   "metadata": {},
   "source": [
    "Para crear una función en python, se debe utilizar la palabra ``def`` para definir la función. La sintaxis para una definición de función en Python es:\n",
    "\n",
    "<code>*def* nombre_funcion(lista_de_parametros_entrada):\n",
    "    sentencias_funcion\n",
    "    *return* [expresion_a_devolver]</code>\n",
    "\n",
    "Donde:\n",
    "* nombre_funcion: es el nombre de la función.\n",
    "* lista_de_parametros_entrada: es la lista de parámetros que puede recibir una función, separados por coma.\n",
    "* sentencias_funcion: es el bloque de sentencias en código fuente Python que realizar cierta operación dada.\n",
    "* expresion_a_devolver: es la expresión o variable que devuelve la sentencia return."
   ]
  },
  {
   "cell_type": "code",
   "execution_count": 47,
   "metadata": {
    "scrolled": true
   },
   "outputs": [
    {
     "name": "stdout",
     "output_type": "stream",
     "text": [
      "[0, 2, 3, 4]\n"
     ]
    }
   ],
   "source": [
    "# Ejemplo: función para poner a 0 el primer valor de una lista\n",
    "\n",
    "def change_first_element(list):\n",
    "    list[0]=0 #it returns none!\n",
    "\n",
    "numbers=[1,2,3,4]\n",
    "change_first_element(numbers)\n",
    "print(numbers)"
   ]
  },
  {
   "cell_type": "markdown",
   "metadata": {},
   "source": [
    "#### Ejemplo: máximo común denominador\n",
    "\n",
    "El común denominador de dos enteros positivos $a$ y $b$ es el mayor divisor común entre $a$ y $b$.  El algortimo Euclideo es un método iterativo para calcular el máximo común denominador de dos enteros. En pseudocódigo seria:\n",
    "\n",
    "+ Si $a<b$, intercanviar $a$ y $b$.\n",
    "+ Dividir $a$ entre $b$ y obtener el residuo, $r$. \n",
    "+ Si $r=0$, el valor $b$ es el MCD de $a$ y $b$.\n",
    "+ Si $r \\neq 0$, iterar de nuevo reemplazando $a$ por $b$ y reemplazando $b$ por $r$. "
   ]
  },
  {
   "cell_type": "code",
   "execution_count": 48,
   "metadata": {
    "scrolled": true
   },
   "outputs": [
    {
     "data": {
      "text/plain": [
       "4"
      ]
     },
     "execution_count": 48,
     "metadata": {},
     "output_type": "execute_result"
    }
   ],
   "source": [
    "def mcd(a,b):\n",
    "    r = 1\n",
    "    while r != 0:\n",
    "        if a<b:\n",
    "            c=a\n",
    "            a=b\n",
    "            b=c\n",
    "        r = a%b \n",
    "        if r == 0:\n",
    "            return b\n",
    "        else:\n",
    "            a = b\n",
    "            b = r\n",
    "\n",
    "mcd(100,16)"
   ]
  },
  {
   "cell_type": "markdown",
   "metadata": {},
   "source": [
    "#### Ejercicio: crear una función para calcular el factorial de un entero\n",
    "\n",
    "El factorial de un entero no negativo 𝑛 es el producto de todos enteros positivos menores o iguales a  𝑛.\n"
   ]
  },
  {
   "cell_type": "code",
   "execution_count": 49,
   "metadata": {},
   "outputs": [],
   "source": [
    "# Poner tu código aquí:\n"
   ]
  },
  {
   "cell_type": "markdown",
   "metadata": {},
   "source": [
    "### 6.1 Argumentos y parámetros de funciones\n",
    "\n",
    "Al definir una función, los valores que se reciben se denominan parámetros, mientras que durante la llamada, los valores que se envían se denominan argumentos.\n",
    "\n",
    "Por defecto, se debe llamar a una función con el número correcto de argumentos. Si la función espera 2 argumentos, debe llamar a la función con 2 argumentos.\n",
    "\n",
    "#### Argumentos por posición\n",
    "\n",
    "Cuando se envian argumentos a una función, por defecto estos se reciben por orden en los parámetros definidos, lo que se conoce como argumentos por posición. En el ejemplo anterior, el argumento 100 es la posición 0, que se corresponde al parámetro de la función a, mientras que el argumento 16 es la posición 1, que se corresponde al parámetro de la función b.\n",
    "\n",
    "#### Argumentos por nombre\n",
    "\n",
    "Sin embargo, es posible saltarse el orden de los parámetros si se indica durante la llamada que valor tiene cada parámetro a partir de su nombre."
   ]
  },
  {
   "cell_type": "code",
   "execution_count": 50,
   "metadata": {},
   "outputs": [
    {
     "data": {
      "text/plain": [
       "4"
      ]
     },
     "execution_count": 50,
     "metadata": {},
     "output_type": "execute_result"
    }
   ],
   "source": [
    "mcd(b=100,a=16)"
   ]
  },
  {
   "cell_type": "markdown",
   "metadata": {},
   "source": [
    "#### Parámetros por defecto\n",
    "\n",
    "Para evitar mensajes de error cuando no se llama a una función con los argumentos necesarios, se pueden definir parámetros por defecto dentro de una función."
   ]
  },
  {
   "cell_type": "code",
   "execution_count": 51,
   "metadata": {},
   "outputs": [
    {
     "name": "stdout",
     "output_type": "stream",
     "text": [
      "Error, debes enviar dos números a la función\n"
     ]
    }
   ],
   "source": [
    "def mcd(a=None,b=None):\n",
    "    if a == None or b == None:\n",
    "        print (\"Error, debes enviar dos números a la función\")\n",
    "        return\n",
    "    r = 1\n",
    "    while r != 0:\n",
    "        if a<b:\n",
    "            c=a\n",
    "            a=b\n",
    "            b=c\n",
    "        r = a%b \n",
    "        if r == 0:\n",
    "            return b\n",
    "        else:\n",
    "            a = b\n",
    "            b = r\n",
    "\n",
    "mcd()"
   ]
  },
  {
   "cell_type": "markdown",
   "metadata": {},
   "source": [
    "#### Parámetros indeterminados ``*args`` y ``**kwargs``\n",
    "\n",
    "En algunas ocasiones, no se sabe con anterioridad cuantos elementos es necesario enviar a una función.\n",
    "\n",
    "Si no se sabe cuántos argumentos por posición se pasarán a una función, se agrega un * antes del nombre del parámetro en la definición de la función. Por convenio, se suele utilizar el nombre de parámetro ``*args``. De esta forma, la función recibirá una tupla de argumentos y podrá acceder a los elementos en consecuencia.\n",
    "\n",
    "De forma similar, si no se sabe cuántos argumentos por nombre se pasarán a una función, se agregan dos ** antes del nombre del parámetro en la definición de la función. Por convenio, se suele utilizar el nombre de parámetro ``**kwargs``. De esta forma, la función recibirá un diccionario de argumentos y podrá acceder a los elementos en consecuencia."
   ]
  },
  {
   "cell_type": "code",
   "execution_count": 52,
   "metadata": {},
   "outputs": [
    {
     "name": "stdout",
     "output_type": "stream",
     "text": [
      "suma =>  380.56\n",
      "nombre => Pedro\n",
      "edad => 38\n"
     ]
    }
   ],
   "source": [
    "def super_funcion(*args,**kwargs):\n",
    "    total = 0\n",
    "    for arg in args:\n",
    "        total += arg\n",
    "    print (\"suma => \", total)\n",
    "    for kwarg in kwargs:\n",
    "        print (kwarg, \"=>\", kwargs[kwarg])\n",
    "\n",
    "super_funcion(50, -1, 1.56, 10, 20, 300, nombre=\"Pedro\", edad=38)"
   ]
  },
  {
   "cell_type": "markdown",
   "metadata": {},
   "source": [
    "## 7. Funciones avanzadas"
   ]
  },
  {
   "cell_type": "markdown",
   "metadata": {},
   "source": [
    "En este apartado se verá como en alguna ocasiones, hay funciones simples que solo queremos usar una vez. Este uso no parece muy apropiado para las funciones de las que hemos hablado hasta ahora... Vamos a ver primero ejemplos dónde este tipo de funciones nos pueden ser de utilidad. Se trata de las funciones <code>map, filter y reduce<code>."
   ]
  },
  {
   "cell_type": "markdown",
   "metadata": {},
   "source": [
    "### 7.1 Map\n",
    "\n",
    "Con un \"map\" podemos aplicar una función a toda una lista de inputs. Por ejemplo si queremos coger una lista de números y aplicar el cuadrado a todos sus elementos podríamos hacer:\n"
   ]
  },
  {
   "cell_type": "code",
   "execution_count": 53,
   "metadata": {},
   "outputs": [
    {
     "name": "stdout",
     "output_type": "stream",
     "text": [
      "[1, 2, 3, 4, 5]\n",
      "[1, 4, 9, 16, 25]\n"
     ]
    }
   ],
   "source": [
    "items = [1, 2, 3, 4, 5]\n",
    "squared = []\n",
    "for i in items:\n",
    "    squared.append(i**2)\n",
    "print(items)\n",
    "print(squared)"
   ]
  },
  {
   "cell_type": "markdown",
   "metadata": {},
   "source": [
    "Usando ``Map`` , tendríamos:"
   ]
  },
  {
   "cell_type": "code",
   "execution_count": 54,
   "metadata": {},
   "outputs": [
    {
     "name": "stdout",
     "output_type": "stream",
     "text": [
      "[1, 2, 3, 4, 5]\n",
      "[1, 4, 9, 16, 25]\n"
     ]
    }
   ],
   "source": [
    "def square_item (x):\n",
    "    return x**2\n",
    "squared = list(map(square_item, items))\n",
    "print(items)\n",
    "print(squared)"
   ]
  },
  {
   "cell_type": "markdown",
   "metadata": {},
   "source": [
    "Como se puede ver ``map`` es una función que acepta una función como argumento\n",
    "\n",
    "``map(funcion a aplicar, lista de entrada)``\n",
    "\n"
   ]
  },
  {
   "cell_type": "markdown",
   "metadata": {},
   "source": [
    "### 7.2 Filter\n",
    "\n",
    "La función filter de una manera similar, devuelve una lista con aquellso elementos de una lista de entrada que cumple una cierta codició (filtra la lista de etrada con una condición determinada). Véamos como ejemplo, si queremos quitar los elementos negativos de una lista y quedarnos solo con los positivos y que sean pares"
   ]
  },
  {
   "cell_type": "code",
   "execution_count": 55,
   "metadata": {},
   "outputs": [
    {
     "name": "stdout",
     "output_type": "stream",
     "text": [
      "[2, 5, -6, 4, -1, 2, 7, -8, 3, 4, 7, 0, -1, -4, 0, 4, 6, -8, 0, 1]\n",
      "[2, 4, 2, 4, 0, 0, 4, 6, 0]\n"
     ]
    }
   ],
   "source": [
    "items=[2,5,-6,4,-1,2,7,-8,3,4,7,0,-1,-4,0,4,6,-8,0,1]\n",
    "positivos=[]\n",
    "for item in items:\n",
    "    if item>=0:\n",
    "        if item % 2 == 0:\n",
    "            positivos.append(item) \n",
    "print(items)\n",
    "print(positivos)"
   ]
  },
  {
   "cell_type": "code",
   "execution_count": 56,
   "metadata": {},
   "outputs": [
    {
     "name": "stdout",
     "output_type": "stream",
     "text": [
      "[2, 5, -6, 4, -1, 2, 7, -8, 3, 4, 7, 0, -1, -4, 0, 4, 6, -8, 0, 1]\n",
      "[2, 4, 2, 4, 0, 0, 4, 6, 0]\n"
     ]
    }
   ],
   "source": [
    "items=[2,5,-6,4,-1,2,7,-8,3,4,7,0,-1,-4,0,4,6,-8,0,1]\n",
    "def es_positivo(x):\n",
    "    return x>=0 and x%2==0\n",
    "positivos=list(filter(es_positivo, items))\n",
    "print(items)\n",
    "print(positivos)"
   ]
  },
  {
   "cell_type": "markdown",
   "metadata": {},
   "source": [
    "Se puede observar como su sitaxis es muy parecisa a la funció ``map``, pero usando ahora ``filter``\n",
    "\n",
    "``filter(funcion a aplicar, lista de entrada)``"
   ]
  },
  {
   "cell_type": "markdown",
   "metadata": {},
   "source": [
    "### 7.3 Reduce\n",
    "\n",
    "La función ``Reduce`` será muy útil cuando se quiera hacer un cálculo sobre una lista y obtener el resultado. Por ejemplo si queremos obtener el resultado de multiplicar los números de una lista haríamos:"
   ]
  },
  {
   "cell_type": "code",
   "execution_count": 57,
   "metadata": {},
   "outputs": [
    {
     "name": "stdout",
     "output_type": "stream",
     "text": [
      "1600300800\n"
     ]
    }
   ],
   "source": [
    "producto = 1\n",
    "lista = [1,5,7,3,4,9,1,4,7,5,3,9,8,7,2]\n",
    "for num in lista:\n",
    "    producto = producto * num\n",
    "print(producto)"
   ]
  },
  {
   "cell_type": "markdown",
   "metadata": {},
   "source": [
    "Usando ``reduce``:"
   ]
  },
  {
   "cell_type": "code",
   "execution_count": 58,
   "metadata": {},
   "outputs": [
    {
     "name": "stdout",
     "output_type": "stream",
     "text": [
      "1600300800\n"
     ]
    }
   ],
   "source": [
    "from functools import reduce\n",
    "lista = [1,5,7,3,4,9,1,4,7,5,3,9,8,7,2]\n",
    "def multiplicar(x,y):\n",
    "    return x*y\n",
    "producto = reduce(multiplicar, lista)\n",
    "print(producto)"
   ]
  },
  {
   "cell_type": "markdown",
   "metadata": {},
   "source": [
    "Vemos que para usar ``reduce`` se tiene que importar de ``functools`` y que tiene una sintaxis idética a los ateriores casos:\n",
    "``reduce(funcion a aplicar, lista de entrada)``"
   ]
  },
  {
   "cell_type": "markdown",
   "metadata": {},
   "source": [
    "### 7.4 Funciones Lambda \n",
    "\n",
    "En todos estos casos hemos visto como consegumos comprimir el código, pero siempre tenemos que definir fuciones, normalmente muy simple, solo para ser usadas una vez. Para estas ocasiones, existen las ``funciones anónimas`` o ``lambda functions``. Estas se pueden definir y usar en la misma línia, y nos ahorramos un montón de tiempo!!\n",
    "\n",
    "Su sintaxis es:\n",
    "\n",
    "``lambda entradas: salida``\n",
    "\n",
    "Vamos a volver a escribir las mismas funciones que antes, perpo usado estas funciones para verlo más claro con ejemplos:"
   ]
  },
  {
   "cell_type": "code",
   "execution_count": 59,
   "metadata": {},
   "outputs": [
    {
     "name": "stdout",
     "output_type": "stream",
     "text": [
      "[1, 2, 3, 4, 5]\n",
      "[1, 4, 9, 16, 25]\n"
     ]
    }
   ],
   "source": [
    "items = [1, 2, 3, 4, 5]\n",
    "squared = list(map(lambda x:x**2, items))\n",
    "print(items)\n",
    "print(squared)"
   ]
  },
  {
   "cell_type": "code",
   "execution_count": 60,
   "metadata": {},
   "outputs": [
    {
     "name": "stdout",
     "output_type": "stream",
     "text": [
      "[2, 5, -6, 4, -1, 2, 7, -8, 3, 4, 7, 0, -1, -4, 0, 4, 6, -8, 0, 1]\n",
      "[2, 4, 2, 4, 0, 0, 4, 6, 0]\n"
     ]
    }
   ],
   "source": [
    "items=[2,5,-6,4,-1,2,7,-8,3,4,7,0,-1,-4,0,4,6,-8,0,1]\n",
    "positivos=list(filter(lambda x: x>=0 and x%2==0, items))\n",
    "print(items)\n",
    "print(positivos)"
   ]
  },
  {
   "cell_type": "code",
   "execution_count": 61,
   "metadata": {},
   "outputs": [
    {
     "name": "stdout",
     "output_type": "stream",
     "text": [
      "1600300800\n"
     ]
    }
   ],
   "source": [
    "from functools import reduce\n",
    "lista = [1,5,7,3,4,9,1,4,7,5,3,9,8,7,2]\n",
    "producto = reduce(lambda x,y: x*y, lista)\n",
    "print(producto)"
   ]
  },
  {
   "cell_type": "markdown",
   "metadata": {},
   "source": [
    "#### Ejercicio\n",
    "\n",
    "Dada una lista de nombres de clientes, devolver la lista con todos los nombres con la primera letra en mayúsculas"
   ]
  },
  {
   "cell_type": "code",
   "execution_count": 62,
   "metadata": {},
   "outputs": [],
   "source": [
    "nombres = ['jordi', 'arnau', 'laia', 'pedro', 'juan', 'pau', 'noemi', 'arya', 'marti', 'lyanna', 'miquel', 'joana', 'ricard', 'daenerys', 'alexandra']\n",
    "# vuestro código aquí!"
   ]
  },
  {
   "cell_type": "markdown",
   "metadata": {},
   "source": [
    "#### Otros usos\n",
    "\n",
    "Hay más ocasiones donde una función pide otra función como argumeto, dode usar una función lambda será muy útil. Por ejemplo, si miramos la documentación de la función ``sorted`` que viene en Python por defecto:\n",
    "\n",
    "https://docs.python.org/3/library/functions.html#sorted"
   ]
  },
  {
   "cell_type": "code",
   "execution_count": 63,
   "metadata": {
    "scrolled": true
   },
   "outputs": [
    {
     "data": {
      "text/plain": [
       "['Anna', 'Martí', 'Pau', 'Roberto', 'Xavier', 'alexandra', 'berta', 'daniel']"
      ]
     },
     "execution_count": 63,
     "metadata": {},
     "output_type": "execute_result"
    }
   ],
   "source": [
    "desordenado = ['Martí','Anna','daniel','Pau','berta','Roberto','Xavier', 'alexandra']\n",
    "sorted(desordenado)"
   ]
  },
  {
   "cell_type": "markdown",
   "metadata": {},
   "source": [
    "Si especificamos una función en el apartado ``key`` opcional:"
   ]
  },
  {
   "cell_type": "code",
   "execution_count": 64,
   "metadata": {},
   "outputs": [
    {
     "data": {
      "text/plain": [
       "['alexandra', 'Anna', 'berta', 'daniel', 'Martí', 'Pau', 'Roberto', 'Xavier']"
      ]
     },
     "execution_count": 64,
     "metadata": {},
     "output_type": "execute_result"
    }
   ],
   "source": [
    "sorted(desordenado, key=lambda x: x.lower())"
   ]
  },
  {
   "cell_type": "markdown",
   "metadata": {},
   "source": [
    "## 8. Lenguaje orientado a objetos\n",
    "\n",
    "Python es un lenguaje de programación orientado a objetos. Casi todo en Python es un objeto, con sus propiedades y métodos. Una clase es como un constructor de objetos, o un \"plano\" para crear objetos.\n",
    "\n",
    "Entre los conceptos asociados a una clase destacan los siguientes:\n",
    "\n",
    "+ Clase: una especie de \"plantilla\" en la que se definen los atributos y métodos predeterminados de un tipo de objeto.\n",
    "\n",
    "+ Objeto: instancia de una clase.\n",
    "\n",
    "+ Método: son funciones asociadas a un objeto o a una clase de objetos. Se podria decir que es lo que el objeto puede hacer.\n",
    "\n",
    "+ Atributos: son variables asociadas a un objeto o a una clase de objetos. Se podria decir que son las características que tiene una clase. Hay atributos de instancia para inicializar los atributos mínimos de la clase cuando se crea la clase, y atributos de clase para complmentar la descripción del objeto.\n",
    "\n",
    "<img src=\"Figures/clases.png\" alt=\"Drawing\" style=\"width: 600px;\"/>\n",
    "\n",
    "En Python se define una clase con la palabra reservada ``class``.\n",
    "\n",
    "El parámetro ``self`` es una referencia a la instancia actual de la clase y se usa para acceder a las variables que pertenecen a la clase.\n",
    "\n",
    "Una vez creado un objeto, se pueden referenciar a sus atributos o invocar a un método por medio del operador ``.``."
   ]
  },
  {
   "cell_type": "code",
   "execution_count": 65,
   "metadata": {},
   "outputs": [
    {
     "data": {
      "text/plain": [
       "40"
      ]
     },
     "execution_count": 65,
     "metadata": {},
     "output_type": "execute_result"
    }
   ],
   "source": [
    "#Ejemplo: Clase de un rectangulo\n",
    "\n",
    "class Rectangulo:\n",
    "    \"\"\"Clase de un rectangulo\"\"\"\n",
    "    # lista de objetos\n",
    "    x = 0\n",
    "    y = 0\n",
    "    \n",
    "    # lista de métodos\n",
    "    def area(self):\n",
    "        return self.x * self.y\n",
    "\n",
    "# Crear el objeto 'a' haciendo una instancia a la clase Rectangulo    \n",
    "a = Rectangulo()\n",
    "# Inicializar x, y \n",
    "a.x = 10\n",
    "a.y = 4\n",
    "# Calcular el area del rectangulo\n",
    "a.area()"
   ]
  },
  {
   "cell_type": "markdown",
   "metadata": {},
   "source": [
    "### 8.1 Atributos de instancia ``__init__()``\n",
    "\n",
    "Todas las clases tienen una función llamada ``__init __ ()``, que se ejecuta cuando se inicia la clase y sirve para inicializar los atributos de instancia. Los argumentos que se utilizan en la definición de ``__init__()`` corresponden a los parámetros que se deben ingresar al instanciar un objeto."
   ]
  },
  {
   "cell_type": "code",
   "execution_count": 66,
   "metadata": {},
   "outputs": [
    {
     "data": {
      "text/plain": [
       "40"
      ]
     },
     "execution_count": 66,
     "metadata": {},
     "output_type": "execute_result"
    }
   ],
   "source": [
    "#Ejemplo: clase de un rectangulo\n",
    "\n",
    "class Rectangulo:\n",
    "    \"\"\"Clase de un rectangulo\"\"\"\n",
    "    \n",
    "    # atributos de instancia\n",
    "    def __init__(self,x,y):\n",
    "        self.x = x\n",
    "        self.y = y\n",
    "\n",
    "    # lista de métodos\n",
    "    def area(self):\n",
    "        return self.x * self.y\n",
    "    \n",
    "a = Rectangulo(10,4)\n",
    "\n",
    "a.area()"
   ]
  },
  {
   "cell_type": "markdown",
   "metadata": {},
   "source": [
    "#### Ejercicio\n",
    "\n",
    "Añadir a la clase anterior un método para calcular el perímetro del rectángulo y otro método para cambiar el tamaño del rectángulo mediante un factor de escala."
   ]
  },
  {
   "cell_type": "code",
   "execution_count": 67,
   "metadata": {},
   "outputs": [],
   "source": [
    "# Añadir código aquí\n"
   ]
  },
  {
   "cell_type": "markdown",
   "metadata": {},
   "source": [
    "### 8.2 Herencia\n",
    "\n",
    "En programación orientada a objetos, la herencia es la capacidad de reutilizar una clase extendiendo su funcionalidad. Una clase que hereda de otra puede añadir nuevos atributos, ocultarlos, añadir nuevos métodos o redefinirlos.\n",
    "\n",
    "#### Ejemplo\n",
    "\n",
    "En el siguiente ejemplo, la clase alumno hereda de la clase persona para complementar los atributos que puede tener una persona."
   ]
  },
  {
   "cell_type": "code",
   "execution_count": 68,
   "metadata": {},
   "outputs": [
    {
     "name": "stdout",
     "output_type": "stream",
     "text": [
      "Johann Sebastian Mastropiero \n",
      "Pedro Sanchez\n",
      "4.99\n"
     ]
    }
   ],
   "source": [
    "class Persona:\n",
    "    def __init__(self, nombre, apellido):\n",
    "        self.nombre = nombre\n",
    "        self.apellido = apellido\n",
    "\n",
    "    def imprimirnombre(self):\n",
    "        print(self.nombre, self.apellido)\n",
    "\n",
    "class Estudiante(Persona):\n",
    "    nota = 0\n",
    "    clase = 'Clase sin introducir'\n",
    "\n",
    "    def imprimirnota(self):\n",
    "        print(self.nota)\n",
    "\n",
    "        \n",
    "x = Persona(\"Johann Sebastian\", \"Mastropiero \")\n",
    "x.imprimirnombre()\n",
    "\n",
    "y = Estudiante(\"Pedro\", \"Sanchez\")\n",
    "y.nota = 4.99\n",
    "y.imprimirnombre()\n",
    "y.imprimirnota()"
   ]
  },
  {
   "cell_type": "markdown",
   "metadata": {},
   "source": [
    "## 9. Introducción a NumPy\n",
    "\n",
    "NumPy es una librería de Python utilizada para trabajar con matrices. También tiene funciones para trabajar con álgebra lineal o transformadas de Fourier. NumPy significa Numerical Python.\n",
    "\n",
    "<img src=\"Figures/NumPy_logo.png\" alt=\"Drawing\" style=\"width: 400px;\"/>\n",
    "\n",
    "Como hemos visto, en Python ya tenemos listas que sirven al propósito de trabajar con matrices, pero su procesamiento es lento. NumPy tiene como objetivo proporcionar un objeto de matriz que sea hasta 50 veces más rápido que las listas tradicionales de Python, algo importante para la ciencia de datos donde la velocidad y los recursos son muy importantes. Además, se diferencian de las listas en que las matrices de NumPy no se pueden cambiar de tamaño, todos los elementos deben ser del mismo tipo, y se permiten ls operaciones entre matrices.\n",
    "\n",
    "El código fuente de NumPy se encuentra en este repositorio de github https://github.com/numpy/numpy\n",
    "\n",
    "El objeto de matriz en NumPy se llama ``ndarray``, proporciona muchas funciones de soporte que hacen que trabajar con ``ndarray`` sea muy fácil. Se puede crear una ndarray  con NumPy con la función ``.array()``"
   ]
  },
  {
   "cell_type": "code",
   "execution_count": 69,
   "metadata": {},
   "outputs": [
    {
     "name": "stdout",
     "output_type": "stream",
     "text": [
      "[1 2 3 4 5]\n",
      "<class 'numpy.ndarray'>\n"
     ]
    }
   ],
   "source": [
    "#Ejemplo\n",
    "import numpy as np #normalmente se suele importar como np\n",
    "\n",
    "arr = np.array([1, 2, 3, 4, 5])\n",
    "\n",
    "print(arr)\n",
    "\n",
    "print(type(arr))"
   ]
  },
  {
   "cell_type": "markdown",
   "metadata": {},
   "source": [
    "Para crear un ndarray, podemos utilizar una lista, tupla o cualquier objeto tipo matriz al método ``array()``, y se convertirá en un ``ndarray``. Se pueden crear ``ndarrays`` de diferentes dimensiones. Los 0-D son solo números, los 1-D son vectores, los 2-D son matrices, etc. \n",
    "\n",
    "Los principales atributos que se pueden utlizar con ``ndarrays`` son:\n",
    "\n",
    "| Atributo  | Descripción | \n",
    "|-----------|-------------|\n",
    "| ndim      |número de dimensiones de la matriz| \n",
    "| shape     |número de elementos de cada dimensión de la matriz|\n",
    "| size      |número de elementos total de la matriz|\n",
    "| dtype     |tipo de los elementos de la matriz|\n",
    "| astype    |para cambiar el tipo de los elementos de la matriz|"
   ]
  },
  {
   "cell_type": "code",
   "execution_count": 70,
   "metadata": {},
   "outputs": [
    {
     "name": "stdout",
     "output_type": "stream",
     "text": [
      "0\n",
      "1\n",
      "2\n",
      "3\n",
      "(2, 2, 3)\n",
      "12\n",
      "int32\n",
      "[[[1. 2. 3.]\n",
      "  [4. 5. 6.]]\n",
      "\n",
      " [[1. 2. 3.]\n",
      "  [4. 5. 6.]]]\n",
      "float64\n"
     ]
    }
   ],
   "source": [
    "#Ejemplo\n",
    "\n",
    "a = np.array(42)\n",
    "b = np.array([1, 2, 3, 4, 5])\n",
    "c = np.array([[1, 2, 3], [4, 5, 6]])\n",
    "d = np.array([[[1, 2, 3], [4, 5, 6]], [[1, 2, 3], [4, 5, 6]]])\n",
    "\n",
    "print(a.ndim)\n",
    "print(b.ndim)\n",
    "print(c.ndim)\n",
    "print(d.ndim)\n",
    "print(d.shape)\n",
    "print(d.size)\n",
    "print(d.dtype)\n",
    "\n",
    "e = d.astype(float)\n",
    "\n",
    "print(e)\n",
    "print(e.dtype)"
   ]
  },
  {
   "cell_type": "markdown",
   "metadata": {},
   "source": [
    "### 9.1 Acceder a valores de un ndarray\n",
    "\n",
    "Se puede acceder a un elemento de la matriz haciendo referencia a su número de índice. Los índices en las matrices NumPy comienzan con 0, lo que significa que el primer elemento tiene índice 0, y el segundo tiene índice 1, etc.\n",
    "\n",
    "Para acceder a elementos de matrices 2-D podemos usar enteros separados por comas que representan la dimensión y el índice del elemento. Para matrices 3-D o superior, se deben añadir tantos enteros separados por comas como dimensiones tenga la matriz."
   ]
  },
  {
   "cell_type": "code",
   "execution_count": 71,
   "metadata": {},
   "outputs": [
    {
     "name": "stdout",
     "output_type": "stream",
     "text": [
      "2\n"
     ]
    }
   ],
   "source": [
    "#Ejemplo\n",
    "\n",
    "arr = np.array([[1,2,3,4,5], [6,7,8,9,10]])\n",
    "\n",
    "print(arr[0, 1])"
   ]
  },
  {
   "cell_type": "markdown",
   "metadata": {},
   "source": [
    "También se puede utilizar el slicing en ``ndarrays``. En este caso: ``array[indice_primer_elemento:indice_final:step]``"
   ]
  },
  {
   "cell_type": "code",
   "execution_count": 72,
   "metadata": {},
   "outputs": [],
   "source": [
    "#Ejercicio\n",
    "\n",
    "arr = np.array([[1, 2, 3, 4, 5], [6, 7, 8, 9, 10]])\n",
    "\n",
    "# devuelve el indice 2 de las dos dimensiones:\n",
    "\n",
    "# devuelve el intervalo entre el índice 1 y 4 (no incluido) de las dos dimensiones:\n",
    "\n",
    "# devuelve todos los elementos de posiciones pares:\n"
   ]
  },
  {
   "cell_type": "markdown",
   "metadata": {},
   "source": [
    "<img src=\"Figures/numpy_indexing.png\" alt=\"Drawing\" style=\"width: 200px;\"/>"
   ]
  },
  {
   "cell_type": "code",
   "execution_count": 73,
   "metadata": {},
   "outputs": [
    {
     "ename": "SyntaxError",
     "evalue": "invalid syntax (<ipython-input-73-4ebae02076ad>, line 7)",
     "output_type": "error",
     "traceback": [
      "\u001b[1;36m  File \u001b[1;32m\"<ipython-input-73-4ebae02076ad>\"\u001b[1;36m, line \u001b[1;32m7\u001b[0m\n\u001b[1;33m    arr2[]\u001b[0m\n\u001b[1;37m         ^\u001b[0m\n\u001b[1;31mSyntaxError\u001b[0m\u001b[1;31m:\u001b[0m invalid syntax\n"
     ]
    }
   ],
   "source": [
    "#Ejercicio: seleccionar los elementos de cada uno de los conjuntos de elementos de la figura anterior:\n",
    "\n",
    "arr = np.array([[0,1,2,3,4,5],[10,11,12,13,14,15],[20,21,22,23,24,25],[30,31,32,33,34,35],[40,41,42,43,44,45],[50,51,52,53,54,55]])\n",
    "arr\n",
    "\n",
    "# Nueva array con selección elementos rojos:\n",
    "arr2[]\n",
    "# Nueva array con selección elementos naranjas:\n",
    "arr3[]\n",
    "# Nueva array con selección elementos verdes:\n",
    "arr4[]\n",
    "# Nueva array con selección elementos azules:\n",
    "arr5[]"
   ]
  },
  {
   "cell_type": "markdown",
   "metadata": {},
   "source": [
    "### 9.2 Importar arrays de archivos .csv\n",
    "\n",
    "Como los archivos ** Comma-separated values (CSV) ** son un tipop de archivo .TXT, se puede importar un archivo .CSV con la función ``np.genfromtxt(ubicacion_archivo)``\n",
    "\n",
    "Los parametros opcionales de **genfromtxt** pueden consultarse en: https://numpy.org/doc/stable/reference/generated/numpy.genfromtxt.html\n",
    "\n",
    "| Función   | Tipo | Descripción | \n",
    "|-----------|----|---------|\n",
    "|skip_header | opcional |número de líneas a evitar al inicio del fichero|\n",
    "|filling_values | opcional |valores a utilizar cunado no haya valores|\n",
    "|delimiter | opcional |string utilizado para separar valores (en CSV es ',')|\n",
    "|usecols | opcional | seleciona que columnas importar, siendo 0 la primera (e.g. ``usecols = (1, 4, 5)``)|\n",
    "\n",
    "\n",
    "#### Ejercicio: \n",
    "\n",
    "Observar el archivo **Data/block_13_diario_reducido.csv** y ver como se ha importado a NumPy.\n",
    "\n",
    "Sustituir valores nan por ``99999`` y evitar importar la primera fila y las dos primeras columnas."
   ]
  },
  {
   "cell_type": "code",
   "execution_count": 74,
   "metadata": {},
   "outputs": [
    {
     "name": "stdout",
     "output_type": "stream",
     "text": [
      "[[        nan         nan         nan         nan         nan         nan\n",
      "          nan         nan         nan]\n",
      " [        nan         nan  1.091       1.06525     1.674      28.\n",
      "   0.30539732 29.827       0.262     ]\n",
      " [        nan         nan  0.371       0.54652084  1.434      48.\n",
      "   0.41012023 26.2330002   0.119     ]\n",
      " [        nan         nan  0.3205      0.53470833  2.0339999  48.\n",
      "   0.46443119 25.6659998   0.129     ]\n",
      " [        nan         nan  0.257       0.4215      1.068      48.\n",
      "   0.27438651 20.232       0.115     ]\n",
      " [        nan         nan  0.3985      0.56533333  2.2179999  48.\n",
      "   0.45071169 27.1359999   0.134     ]\n",
      " [        nan         nan  0.698       0.74647917  2.204      48.\n",
      "   0.4886944  35.8310001   0.131     ]\n",
      " [        nan         nan  0.2485      0.43635417  1.551      48.\n",
      "   0.36278131 20.945       0.139     ]\n",
      " [        nan         nan  0.205       0.42654167  1.818      48.\n",
      "   0.47751141 20.4740001   0.119     ]]\n"
     ]
    }
   ],
   "source": [
    "data = np.genfromtxt('Data/block_13_diario_reducido.csv',delimiter=',')\n",
    "print (data)\n",
    "\n",
    "# Sustituir valores nan por 99999\n",
    "\n",
    "# Evitar importar la primera fila y las dos primeras columnas\n"
   ]
  },
  {
   "cell_type": "markdown",
   "metadata": {},
   "source": [
    "### 9.3 Funciones básicas con NumPy\n",
    "\n",
    "Aquí podeis ver una lista de las funciones más interesantes a mirar en la documentación, con algun ejemplo:\n",
    "\n",
    "| Función   | Descripción | \n",
    "|-----------|-------------|\n",
    "| array_name.mean()    |Media| \n",
    "| array_name.min()     |Valor mínimo|\n",
    "| array_name.max()     |Valor máximo|\n",
    "| array_name.sum()     |Suma de valores|\n",
    "| array_name.std()     |Desviación standard|\n",
    "| array_name.var()     |Varianza|\n",
    "| array_name.reshape(nueva_dimension/es) | Permite cambiar las dimensiones|\n",
    "\n",
    "Algunos ejemplos de Methods asociados a NumPy:\n",
    "\n",
    "| Method   | Descripción | \n",
    "|-----------|-------------|\n",
    "| np.amin(array_name)     | valor mínimo|\n",
    "| np.amax(array_name)     | valor máximo|\n",
    "| np.argmax(array_name)          | índice del valor máximo|\n",
    "| np.argmin(array_name)          | índice del valor mínimo|\n",
    "| np.isnan(array_name)           | identificador de valores Nan|\n",
    "\n",
    "Para una matriz multidimensional, es posible hacer el cálculo a lo largo de una sola dimensión, pasando el parámetro ``axis`` para indicar el eje. Por ejemplo, en 2-D, axis=0 es la columna  y axis=1 es la fila.\n",
    "\n",
    "#### Ejercicio\n",
    "\n",
    "Practicad con alguno de estas funciones o Methods a partir del array ``data``."
   ]
  },
  {
   "cell_type": "code",
   "execution_count": 75,
   "metadata": {},
   "outputs": [],
   "source": [
    "# vuestro código aquí!\n",
    "\n",
    "# Encontrar valor y posición del valor máximo\n",
    "\n",
    "# Encontrar valor y posición del valor mínimo de la segunda columna\n",
    "\n",
    "# Encontrar valor medio de cada fila\n",
    "\n",
    "# Encontrar posicion de los valores Nan\n"
   ]
  },
  {
   "cell_type": "markdown",
   "metadata": {},
   "source": [
    "### 9.4 Filtrado de datos con una matriz booleana\n",
    "\n",
    "Comparaciones booleanas se pueden usar para comparar elementos en matrices de igual tamaño.\n",
    "\n",
    "La función ``where`` crea una nueva array a partir de comparar dos arrays, siguiendo la siguiente syntaxis: ``where(bool_array, true_array, false_array)``"
   ]
  },
  {
   "cell_type": "code",
   "execution_count": 76,
   "metadata": {},
   "outputs": [
    {
     "name": "stderr",
     "output_type": "stream",
     "text": [
      "C:\\Users\\Ricard\\anaconda3\\envs\\Smart_Energy\\lib\\site-packages\\ipykernel_launcher.py:4: RuntimeWarning: divide by zero encountered in true_divide\n",
      "  after removing the cwd from sys.path.\n"
     ]
    },
    {
     "data": {
      "text/plain": [
       "array([1.        , 0.33333333, 0.        ])"
      ]
     },
     "execution_count": 76,
     "metadata": {},
     "output_type": "execute_result"
    }
   ],
   "source": [
    "# Ejemplo: evitar error al dividir por cero\n",
    "\n",
    "a = np.array([1, 3, 0], float) \n",
    "np.where(a != 0, 1/a, 0) "
   ]
  },
  {
   "cell_type": "markdown",
   "metadata": {},
   "source": [
    "Esto se puede usar para crear una máscara, extrayendo los índices de una matriz que satisfacen una condición dada."
   ]
  },
  {
   "cell_type": "code",
   "execution_count": 77,
   "metadata": {},
   "outputs": [
    {
     "name": "stdout",
     "output_type": "stream",
     "text": [
      "[10  8 30 40]\n"
     ]
    },
    {
     "data": {
      "text/plain": [
       "array([False,  True, False, False])"
      ]
     },
     "execution_count": 77,
     "metadata": {},
     "output_type": "execute_result"
    }
   ],
   "source": [
    "arr = np.array([10,8,30,40])\n",
    "print (arr)\n",
    "mask = arr < 9 # array booleana con los elementos menores a 9\n",
    "mask"
   ]
  },
  {
   "cell_type": "markdown",
   "metadata": {},
   "source": [
    "#### Ejercicio\n",
    "\n",
    "Reescribir el siguiente código para obtener un array donde los valores inferiores a 9 se les imponga el valor 10 utilizando el array mak anterior y la función ``where``."
   ]
  },
  {
   "cell_type": "code",
   "execution_count": 78,
   "metadata": {},
   "outputs": [
    {
     "name": "stdout",
     "output_type": "stream",
     "text": [
      "Resetting all values below 9 to 10...\n",
      "[False  True False False]\n",
      "[10 10 30 40]\n"
     ]
    }
   ],
   "source": [
    "print ('Resetting all values below 9 to 10...')\n",
    "print (arr < 9)\n",
    "arr[arr < 9] = 10\n",
    "print (arr)"
   ]
  },
  {
   "cell_type": "markdown",
   "metadata": {},
   "source": [
    "### Para más información sobre NumPy\n",
    "\n",
    "* http://numpy.scipy.org\n",
    "* http://scipy.org/Tentative_NumPy_Tutorial\n",
    "* https://numpy.org/learn/"
   ]
  },
  {
   "cell_type": "markdown",
   "metadata": {},
   "source": [
    "## 10. Introducción a Pandas\n",
    "\n",
    "Padas es de las librerías más importantes en Python para Data Science!!! Básicamente nso permitirá tener ``Datasets`` abiertos como si se trataran de una hoja de cálculo en el excel, es decir, en forma matricial con dos dimensiones y con columnas e idices indexados.\n",
    "\n",
    "<img src=\"Figures/Pandas.jpg\" alt=\"Drawing\" style=\"width: 800px;\"/>\n"
   ]
  },
  {
   "cell_type": "markdown",
   "metadata": {},
   "source": [
    "Pandas sirve para:\n",
    "* Operar en todo el dataset o a una fila o columna (vectores) con alta eficiencia computacional\n",
    "* Ayuda a la limpieza de datos y solucionar datos inexistentes\n",
    "* Acceder a subsets de datos\n",
    "* Añadir o eliminar columnas con nuevas características.\n",
    "* Agrupar datos por características.\n",
    "* Muy eficiente juntando datos de distintas fuentes.\n",
    "* Trabajar con series temporales."
   ]
  },
  {
   "cell_type": "markdown",
   "metadata": {},
   "source": [
    "### 10.1 Leer datos de un csv\n",
    "\n",
    "La mayoría de las veces cargaremos los archivos a través de un archivo .csv. A continuación podeis ver el código básico que se usará casi siempre:"
   ]
  },
  {
   "cell_type": "code",
   "execution_count": 79,
   "metadata": {
    "scrolled": false
   },
   "outputs": [
    {
     "data": {
      "text/html": [
       "<div>\n",
       "<style scoped>\n",
       "    .dataframe tbody tr th:only-of-type {\n",
       "        vertical-align: middle;\n",
       "    }\n",
       "\n",
       "    .dataframe tbody tr th {\n",
       "        vertical-align: top;\n",
       "    }\n",
       "\n",
       "    .dataframe thead th {\n",
       "        text-align: right;\n",
       "    }\n",
       "</style>\n",
       "<table border=\"1\" class=\"dataframe\">\n",
       "  <thead>\n",
       "    <tr style=\"text-align: right;\">\n",
       "      <th></th>\n",
       "      <th>LCLid</th>\n",
       "      <th>day</th>\n",
       "      <th>energy_median</th>\n",
       "      <th>energy_mean</th>\n",
       "      <th>energy_max</th>\n",
       "      <th>energy_count</th>\n",
       "      <th>energy_std</th>\n",
       "      <th>energy_sum</th>\n",
       "      <th>energy_min</th>\n",
       "    </tr>\n",
       "  </thead>\n",
       "  <tbody>\n",
       "    <tr>\n",
       "      <th>0</th>\n",
       "      <td>MAC000113</td>\n",
       "      <td>2011-12-14</td>\n",
       "      <td>1.0910</td>\n",
       "      <td>1.065250</td>\n",
       "      <td>1.674</td>\n",
       "      <td>28</td>\n",
       "      <td>0.305397</td>\n",
       "      <td>29.827</td>\n",
       "      <td>0.262</td>\n",
       "    </tr>\n",
       "    <tr>\n",
       "      <th>1</th>\n",
       "      <td>MAC000113</td>\n",
       "      <td>2011-12-15</td>\n",
       "      <td>0.3710</td>\n",
       "      <td>0.546521</td>\n",
       "      <td>1.434</td>\n",
       "      <td>48</td>\n",
       "      <td>0.410120</td>\n",
       "      <td>26.233</td>\n",
       "      <td>0.119</td>\n",
       "    </tr>\n",
       "    <tr>\n",
       "      <th>2</th>\n",
       "      <td>MAC000113</td>\n",
       "      <td>2011-12-16</td>\n",
       "      <td>0.3205</td>\n",
       "      <td>0.534708</td>\n",
       "      <td>2.034</td>\n",
       "      <td>48</td>\n",
       "      <td>0.464431</td>\n",
       "      <td>25.666</td>\n",
       "      <td>0.129</td>\n",
       "    </tr>\n",
       "    <tr>\n",
       "      <th>3</th>\n",
       "      <td>MAC000113</td>\n",
       "      <td>2011-12-17</td>\n",
       "      <td>0.2570</td>\n",
       "      <td>0.421500</td>\n",
       "      <td>1.068</td>\n",
       "      <td>48</td>\n",
       "      <td>0.274387</td>\n",
       "      <td>20.232</td>\n",
       "      <td>0.115</td>\n",
       "    </tr>\n",
       "    <tr>\n",
       "      <th>4</th>\n",
       "      <td>MAC000113</td>\n",
       "      <td>2011-12-18</td>\n",
       "      <td>0.3985</td>\n",
       "      <td>0.565333</td>\n",
       "      <td>2.218</td>\n",
       "      <td>48</td>\n",
       "      <td>0.450712</td>\n",
       "      <td>27.136</td>\n",
       "      <td>0.134</td>\n",
       "    </tr>\n",
       "  </tbody>\n",
       "</table>\n",
       "</div>"
      ],
      "text/plain": [
       "       LCLid         day  energy_median  energy_mean  energy_max  \\\n",
       "0  MAC000113  2011-12-14         1.0910     1.065250       1.674   \n",
       "1  MAC000113  2011-12-15         0.3710     0.546521       1.434   \n",
       "2  MAC000113  2011-12-16         0.3205     0.534708       2.034   \n",
       "3  MAC000113  2011-12-17         0.2570     0.421500       1.068   \n",
       "4  MAC000113  2011-12-18         0.3985     0.565333       2.218   \n",
       "\n",
       "   energy_count  energy_std  energy_sum  energy_min  \n",
       "0            28    0.305397      29.827       0.262  \n",
       "1            48    0.410120      26.233       0.119  \n",
       "2            48    0.464431      25.666       0.129  \n",
       "3            48    0.274387      20.232       0.115  \n",
       "4            48    0.450712      27.136       0.134  "
      ]
     },
     "execution_count": 79,
     "metadata": {},
     "output_type": "execute_result"
    }
   ],
   "source": [
    "import pandas as pd #importamos Pandas!\n",
    "londres = pd.read_csv('Data/block_13_diario.csv')\n",
    "londres.head(5)"
   ]
  },
  {
   "cell_type": "markdown",
   "metadata": {},
   "source": [
    "### 10.2 Inspección datos"
   ]
  },
  {
   "cell_type": "markdown",
   "metadata": {},
   "source": [
    "Si queremos saber qué dimensiones tiene este DataFrame, podemos mirar su 'forma'"
   ]
  },
  {
   "cell_type": "code",
   "execution_count": 80,
   "metadata": {},
   "outputs": [
    {
     "data": {
      "text/plain": [
       "(32992, 9)"
      ]
     },
     "execution_count": 80,
     "metadata": {},
     "output_type": "execute_result"
    }
   ],
   "source": [
    "londres.shape"
   ]
  },
  {
   "cell_type": "markdown",
   "metadata": {},
   "source": [
    "Hay 32992 entradas y 9 características para cada entrada.\n",
    "\n",
    "Puede ser muy útil ver las primeras o últimas entradas del dataset para entender mejor estos datos:"
   ]
  },
  {
   "cell_type": "code",
   "execution_count": 81,
   "metadata": {},
   "outputs": [
    {
     "data": {
      "text/html": [
       "<div>\n",
       "<style scoped>\n",
       "    .dataframe tbody tr th:only-of-type {\n",
       "        vertical-align: middle;\n",
       "    }\n",
       "\n",
       "    .dataframe tbody tr th {\n",
       "        vertical-align: top;\n",
       "    }\n",
       "\n",
       "    .dataframe thead th {\n",
       "        text-align: right;\n",
       "    }\n",
       "</style>\n",
       "<table border=\"1\" class=\"dataframe\">\n",
       "  <thead>\n",
       "    <tr style=\"text-align: right;\">\n",
       "      <th></th>\n",
       "      <th>LCLid</th>\n",
       "      <th>day</th>\n",
       "      <th>energy_median</th>\n",
       "      <th>energy_mean</th>\n",
       "      <th>energy_max</th>\n",
       "      <th>energy_count</th>\n",
       "      <th>energy_std</th>\n",
       "      <th>energy_sum</th>\n",
       "      <th>energy_min</th>\n",
       "    </tr>\n",
       "  </thead>\n",
       "  <tbody>\n",
       "    <tr>\n",
       "      <th>0</th>\n",
       "      <td>MAC000113</td>\n",
       "      <td>2011-12-14</td>\n",
       "      <td>1.0910</td>\n",
       "      <td>1.065250</td>\n",
       "      <td>1.674</td>\n",
       "      <td>28</td>\n",
       "      <td>0.305397</td>\n",
       "      <td>29.827</td>\n",
       "      <td>0.262</td>\n",
       "    </tr>\n",
       "    <tr>\n",
       "      <th>1</th>\n",
       "      <td>MAC000113</td>\n",
       "      <td>2011-12-15</td>\n",
       "      <td>0.3710</td>\n",
       "      <td>0.546521</td>\n",
       "      <td>1.434</td>\n",
       "      <td>48</td>\n",
       "      <td>0.410120</td>\n",
       "      <td>26.233</td>\n",
       "      <td>0.119</td>\n",
       "    </tr>\n",
       "    <tr>\n",
       "      <th>2</th>\n",
       "      <td>MAC000113</td>\n",
       "      <td>2011-12-16</td>\n",
       "      <td>0.3205</td>\n",
       "      <td>0.534708</td>\n",
       "      <td>2.034</td>\n",
       "      <td>48</td>\n",
       "      <td>0.464431</td>\n",
       "      <td>25.666</td>\n",
       "      <td>0.129</td>\n",
       "    </tr>\n",
       "    <tr>\n",
       "      <th>3</th>\n",
       "      <td>MAC000113</td>\n",
       "      <td>2011-12-17</td>\n",
       "      <td>0.2570</td>\n",
       "      <td>0.421500</td>\n",
       "      <td>1.068</td>\n",
       "      <td>48</td>\n",
       "      <td>0.274387</td>\n",
       "      <td>20.232</td>\n",
       "      <td>0.115</td>\n",
       "    </tr>\n",
       "    <tr>\n",
       "      <th>4</th>\n",
       "      <td>MAC000113</td>\n",
       "      <td>2011-12-18</td>\n",
       "      <td>0.3985</td>\n",
       "      <td>0.565333</td>\n",
       "      <td>2.218</td>\n",
       "      <td>48</td>\n",
       "      <td>0.450712</td>\n",
       "      <td>27.136</td>\n",
       "      <td>0.134</td>\n",
       "    </tr>\n",
       "    <tr>\n",
       "      <th>5</th>\n",
       "      <td>MAC000113</td>\n",
       "      <td>2011-12-19</td>\n",
       "      <td>0.6980</td>\n",
       "      <td>0.746479</td>\n",
       "      <td>2.204</td>\n",
       "      <td>48</td>\n",
       "      <td>0.488694</td>\n",
       "      <td>35.831</td>\n",
       "      <td>0.131</td>\n",
       "    </tr>\n",
       "    <tr>\n",
       "      <th>6</th>\n",
       "      <td>MAC000113</td>\n",
       "      <td>2011-12-20</td>\n",
       "      <td>0.2485</td>\n",
       "      <td>0.436354</td>\n",
       "      <td>1.551</td>\n",
       "      <td>48</td>\n",
       "      <td>0.362781</td>\n",
       "      <td>20.945</td>\n",
       "      <td>0.139</td>\n",
       "    </tr>\n",
       "    <tr>\n",
       "      <th>7</th>\n",
       "      <td>MAC000113</td>\n",
       "      <td>2011-12-21</td>\n",
       "      <td>0.2050</td>\n",
       "      <td>0.426542</td>\n",
       "      <td>1.818</td>\n",
       "      <td>48</td>\n",
       "      <td>0.477511</td>\n",
       "      <td>20.474</td>\n",
       "      <td>0.119</td>\n",
       "    </tr>\n",
       "    <tr>\n",
       "      <th>8</th>\n",
       "      <td>MAC000113</td>\n",
       "      <td>2011-12-22</td>\n",
       "      <td>0.1830</td>\n",
       "      <td>0.181854</td>\n",
       "      <td>0.259</td>\n",
       "      <td>48</td>\n",
       "      <td>0.040321</td>\n",
       "      <td>8.729</td>\n",
       "      <td>0.119</td>\n",
       "    </tr>\n",
       "    <tr>\n",
       "      <th>9</th>\n",
       "      <td>MAC000113</td>\n",
       "      <td>2011-12-23</td>\n",
       "      <td>0.1860</td>\n",
       "      <td>0.185646</td>\n",
       "      <td>0.268</td>\n",
       "      <td>48</td>\n",
       "      <td>0.040754</td>\n",
       "      <td>8.911</td>\n",
       "      <td>0.121</td>\n",
       "    </tr>\n",
       "  </tbody>\n",
       "</table>\n",
       "</div>"
      ],
      "text/plain": [
       "       LCLid         day  energy_median  energy_mean  energy_max  \\\n",
       "0  MAC000113  2011-12-14         1.0910     1.065250       1.674   \n",
       "1  MAC000113  2011-12-15         0.3710     0.546521       1.434   \n",
       "2  MAC000113  2011-12-16         0.3205     0.534708       2.034   \n",
       "3  MAC000113  2011-12-17         0.2570     0.421500       1.068   \n",
       "4  MAC000113  2011-12-18         0.3985     0.565333       2.218   \n",
       "5  MAC000113  2011-12-19         0.6980     0.746479       2.204   \n",
       "6  MAC000113  2011-12-20         0.2485     0.436354       1.551   \n",
       "7  MAC000113  2011-12-21         0.2050     0.426542       1.818   \n",
       "8  MAC000113  2011-12-22         0.1830     0.181854       0.259   \n",
       "9  MAC000113  2011-12-23         0.1860     0.185646       0.268   \n",
       "\n",
       "   energy_count  energy_std  energy_sum  energy_min  \n",
       "0            28    0.305397      29.827       0.262  \n",
       "1            48    0.410120      26.233       0.119  \n",
       "2            48    0.464431      25.666       0.129  \n",
       "3            48    0.274387      20.232       0.115  \n",
       "4            48    0.450712      27.136       0.134  \n",
       "5            48    0.488694      35.831       0.131  \n",
       "6            48    0.362781      20.945       0.139  \n",
       "7            48    0.477511      20.474       0.119  \n",
       "8            48    0.040321       8.729       0.119  \n",
       "9            48    0.040754       8.911       0.121  "
      ]
     },
     "execution_count": 81,
     "metadata": {},
     "output_type": "execute_result"
    }
   ],
   "source": [
    "londres.head(10)"
   ]
  },
  {
   "cell_type": "code",
   "execution_count": 82,
   "metadata": {},
   "outputs": [
    {
     "data": {
      "text/html": [
       "<div>\n",
       "<style scoped>\n",
       "    .dataframe tbody tr th:only-of-type {\n",
       "        vertical-align: middle;\n",
       "    }\n",
       "\n",
       "    .dataframe tbody tr th {\n",
       "        vertical-align: top;\n",
       "    }\n",
       "\n",
       "    .dataframe thead th {\n",
       "        text-align: right;\n",
       "    }\n",
       "</style>\n",
       "<table border=\"1\" class=\"dataframe\">\n",
       "  <thead>\n",
       "    <tr style=\"text-align: right;\">\n",
       "      <th></th>\n",
       "      <th>LCLid</th>\n",
       "      <th>day</th>\n",
       "      <th>energy_median</th>\n",
       "      <th>energy_mean</th>\n",
       "      <th>energy_max</th>\n",
       "      <th>energy_count</th>\n",
       "      <th>energy_std</th>\n",
       "      <th>energy_sum</th>\n",
       "      <th>energy_min</th>\n",
       "    </tr>\n",
       "  </thead>\n",
       "  <tbody>\n",
       "    <tr>\n",
       "      <th>32987</th>\n",
       "      <td>MAC005416</td>\n",
       "      <td>2014-02-24</td>\n",
       "      <td>0.0660</td>\n",
       "      <td>0.111437</td>\n",
       "      <td>0.809</td>\n",
       "      <td>48</td>\n",
       "      <td>0.126465</td>\n",
       "      <td>5.349</td>\n",
       "      <td>0.050</td>\n",
       "    </tr>\n",
       "    <tr>\n",
       "      <th>32988</th>\n",
       "      <td>MAC005416</td>\n",
       "      <td>2014-02-25</td>\n",
       "      <td>0.0645</td>\n",
       "      <td>0.072521</td>\n",
       "      <td>0.238</td>\n",
       "      <td>48</td>\n",
       "      <td>0.030756</td>\n",
       "      <td>3.481</td>\n",
       "      <td>0.051</td>\n",
       "    </tr>\n",
       "    <tr>\n",
       "      <th>32989</th>\n",
       "      <td>MAC005416</td>\n",
       "      <td>2014-02-26</td>\n",
       "      <td>0.0675</td>\n",
       "      <td>0.107917</td>\n",
       "      <td>0.343</td>\n",
       "      <td>48</td>\n",
       "      <td>0.080074</td>\n",
       "      <td>5.180</td>\n",
       "      <td>0.049</td>\n",
       "    </tr>\n",
       "    <tr>\n",
       "      <th>32990</th>\n",
       "      <td>MAC005416</td>\n",
       "      <td>2014-02-27</td>\n",
       "      <td>0.0910</td>\n",
       "      <td>0.104250</td>\n",
       "      <td>0.296</td>\n",
       "      <td>48</td>\n",
       "      <td>0.054844</td>\n",
       "      <td>5.004</td>\n",
       "      <td>0.047</td>\n",
       "    </tr>\n",
       "    <tr>\n",
       "      <th>32991</th>\n",
       "      <td>MAC005416</td>\n",
       "      <td>2014-02-28</td>\n",
       "      <td>0.0630</td>\n",
       "      <td>0.063000</td>\n",
       "      <td>0.063</td>\n",
       "      <td>1</td>\n",
       "      <td>NaN</td>\n",
       "      <td>0.063</td>\n",
       "      <td>0.063</td>\n",
       "    </tr>\n",
       "  </tbody>\n",
       "</table>\n",
       "</div>"
      ],
      "text/plain": [
       "           LCLid         day  energy_median  energy_mean  energy_max  \\\n",
       "32987  MAC005416  2014-02-24         0.0660     0.111437       0.809   \n",
       "32988  MAC005416  2014-02-25         0.0645     0.072521       0.238   \n",
       "32989  MAC005416  2014-02-26         0.0675     0.107917       0.343   \n",
       "32990  MAC005416  2014-02-27         0.0910     0.104250       0.296   \n",
       "32991  MAC005416  2014-02-28         0.0630     0.063000       0.063   \n",
       "\n",
       "       energy_count  energy_std  energy_sum  energy_min  \n",
       "32987            48    0.126465       5.349       0.050  \n",
       "32988            48    0.030756       3.481       0.051  \n",
       "32989            48    0.080074       5.180       0.049  \n",
       "32990            48    0.054844       5.004       0.047  \n",
       "32991             1         NaN       0.063       0.063  "
      ]
     },
     "execution_count": 82,
     "metadata": {},
     "output_type": "execute_result"
    }
   ],
   "source": [
    "londres.tail()"
   ]
  },
  {
   "cell_type": "markdown",
   "metadata": {},
   "source": [
    "Si queremos saber el nombre de las columnas o índices, podemos acceder a ellos:"
   ]
  },
  {
   "cell_type": "code",
   "execution_count": 83,
   "metadata": {},
   "outputs": [
    {
     "data": {
      "text/plain": [
       "Index(['LCLid', 'day', 'energy_median', 'energy_mean', 'energy_max',\n",
       "       'energy_count', 'energy_std', 'energy_sum', 'energy_min'],\n",
       "      dtype='object')"
      ]
     },
     "execution_count": 83,
     "metadata": {},
     "output_type": "execute_result"
    }
   ],
   "source": [
    "londres.columns"
   ]
  },
  {
   "cell_type": "code",
   "execution_count": 84,
   "metadata": {},
   "outputs": [
    {
     "data": {
      "text/plain": [
       "'energy_max'"
      ]
     },
     "execution_count": 84,
     "metadata": {},
     "output_type": "execute_result"
    }
   ],
   "source": [
    "londres.columns[4]"
   ]
  },
  {
   "cell_type": "code",
   "execution_count": 85,
   "metadata": {},
   "outputs": [
    {
     "data": {
      "text/plain": [
       "RangeIndex(start=0, stop=32992, step=1)"
      ]
     },
     "execution_count": 85,
     "metadata": {},
     "output_type": "execute_result"
    }
   ],
   "source": [
    "londres.index"
   ]
  },
  {
   "cell_type": "markdown",
   "metadata": {},
   "source": [
    "Por útlimo, para tener un resumen muy bueno, es muy util el metodo ``describe``"
   ]
  },
  {
   "cell_type": "code",
   "execution_count": 86,
   "metadata": {},
   "outputs": [
    {
     "data": {
      "text/html": [
       "<div>\n",
       "<style scoped>\n",
       "    .dataframe tbody tr th:only-of-type {\n",
       "        vertical-align: middle;\n",
       "    }\n",
       "\n",
       "    .dataframe tbody tr th {\n",
       "        vertical-align: top;\n",
       "    }\n",
       "\n",
       "    .dataframe thead th {\n",
       "        text-align: right;\n",
       "    }\n",
       "</style>\n",
       "<table border=\"1\" class=\"dataframe\">\n",
       "  <thead>\n",
       "    <tr style=\"text-align: right;\">\n",
       "      <th></th>\n",
       "      <th>energy_median</th>\n",
       "      <th>energy_mean</th>\n",
       "      <th>energy_max</th>\n",
       "      <th>energy_count</th>\n",
       "      <th>energy_std</th>\n",
       "      <th>energy_sum</th>\n",
       "      <th>energy_min</th>\n",
       "    </tr>\n",
       "  </thead>\n",
       "  <tbody>\n",
       "    <tr>\n",
       "      <th>count</th>\n",
       "      <td>32992.000000</td>\n",
       "      <td>32992.000000</td>\n",
       "      <td>32992.000000</td>\n",
       "      <td>32992.000000</td>\n",
       "      <td>32865.000000</td>\n",
       "      <td>32992.000000</td>\n",
       "      <td>32992.000000</td>\n",
       "    </tr>\n",
       "    <tr>\n",
       "      <th>mean</th>\n",
       "      <td>0.165632</td>\n",
       "      <td>0.223007</td>\n",
       "      <td>0.879596</td>\n",
       "      <td>47.776128</td>\n",
       "      <td>0.182819</td>\n",
       "      <td>10.660024</td>\n",
       "      <td>0.064419</td>\n",
       "    </tr>\n",
       "    <tr>\n",
       "      <th>std</th>\n",
       "      <td>0.158396</td>\n",
       "      <td>0.178484</td>\n",
       "      <td>0.672407</td>\n",
       "      <td>3.035524</td>\n",
       "      <td>0.147394</td>\n",
       "      <td>8.565058</td>\n",
       "      <td>0.076632</td>\n",
       "    </tr>\n",
       "    <tr>\n",
       "      <th>min</th>\n",
       "      <td>0.000000</td>\n",
       "      <td>0.000000</td>\n",
       "      <td>0.000000</td>\n",
       "      <td>1.000000</td>\n",
       "      <td>0.000000</td>\n",
       "      <td>0.000000</td>\n",
       "      <td>0.000000</td>\n",
       "    </tr>\n",
       "    <tr>\n",
       "      <th>25%</th>\n",
       "      <td>0.052000</td>\n",
       "      <td>0.085432</td>\n",
       "      <td>0.348000</td>\n",
       "      <td>48.000000</td>\n",
       "      <td>0.069162</td>\n",
       "      <td>4.046000</td>\n",
       "      <td>0.016000</td>\n",
       "    </tr>\n",
       "    <tr>\n",
       "      <th>50%</th>\n",
       "      <td>0.118500</td>\n",
       "      <td>0.176844</td>\n",
       "      <td>0.775000</td>\n",
       "      <td>48.000000</td>\n",
       "      <td>0.149607</td>\n",
       "      <td>8.458000</td>\n",
       "      <td>0.035000</td>\n",
       "    </tr>\n",
       "    <tr>\n",
       "      <th>75%</th>\n",
       "      <td>0.225000</td>\n",
       "      <td>0.311276</td>\n",
       "      <td>1.248000</td>\n",
       "      <td>48.000000</td>\n",
       "      <td>0.264400</td>\n",
       "      <td>14.910500</td>\n",
       "      <td>0.093000</td>\n",
       "    </tr>\n",
       "    <tr>\n",
       "      <th>max</th>\n",
       "      <td>1.608000</td>\n",
       "      <td>1.407458</td>\n",
       "      <td>6.897000</td>\n",
       "      <td>48.000000</td>\n",
       "      <td>1.104101</td>\n",
       "      <td>67.558000</td>\n",
       "      <td>1.068000</td>\n",
       "    </tr>\n",
       "  </tbody>\n",
       "</table>\n",
       "</div>"
      ],
      "text/plain": [
       "       energy_median   energy_mean    energy_max  energy_count    energy_std  \\\n",
       "count   32992.000000  32992.000000  32992.000000  32992.000000  32865.000000   \n",
       "mean        0.165632      0.223007      0.879596     47.776128      0.182819   \n",
       "std         0.158396      0.178484      0.672407      3.035524      0.147394   \n",
       "min         0.000000      0.000000      0.000000      1.000000      0.000000   \n",
       "25%         0.052000      0.085432      0.348000     48.000000      0.069162   \n",
       "50%         0.118500      0.176844      0.775000     48.000000      0.149607   \n",
       "75%         0.225000      0.311276      1.248000     48.000000      0.264400   \n",
       "max         1.608000      1.407458      6.897000     48.000000      1.104101   \n",
       "\n",
       "         energy_sum    energy_min  \n",
       "count  32992.000000  32992.000000  \n",
       "mean      10.660024      0.064419  \n",
       "std        8.565058      0.076632  \n",
       "min        0.000000      0.000000  \n",
       "25%        4.046000      0.016000  \n",
       "50%        8.458000      0.035000  \n",
       "75%       14.910500      0.093000  \n",
       "max       67.558000      1.068000  "
      ]
     },
     "execution_count": 86,
     "metadata": {},
     "output_type": "execute_result"
    }
   ],
   "source": [
    "londres.describe()"
   ]
  },
  {
   "cell_type": "markdown",
   "metadata": {},
   "source": [
    "### 10.3 Seleccionar datos"
   ]
  },
  {
   "cell_type": "markdown",
   "metadata": {},
   "source": [
    "Si queremos trabajar o seleccionar solo con una parte del dataset, podemos usar **[]** después del nombre del dataset, e indicar qué columnas se desean seleccionar."
   ]
  },
  {
   "cell_type": "code",
   "execution_count": 87,
   "metadata": {},
   "outputs": [
    {
     "data": {
      "text/html": [
       "<div>\n",
       "<style scoped>\n",
       "    .dataframe tbody tr th:only-of-type {\n",
       "        vertical-align: middle;\n",
       "    }\n",
       "\n",
       "    .dataframe tbody tr th {\n",
       "        vertical-align: top;\n",
       "    }\n",
       "\n",
       "    .dataframe thead th {\n",
       "        text-align: right;\n",
       "    }\n",
       "</style>\n",
       "<table border=\"1\" class=\"dataframe\">\n",
       "  <thead>\n",
       "    <tr style=\"text-align: right;\">\n",
       "      <th></th>\n",
       "      <th>day</th>\n",
       "      <th>energy_max</th>\n",
       "    </tr>\n",
       "  </thead>\n",
       "  <tbody>\n",
       "    <tr>\n",
       "      <th>0</th>\n",
       "      <td>2011-12-14</td>\n",
       "      <td>1.674</td>\n",
       "    </tr>\n",
       "    <tr>\n",
       "      <th>1</th>\n",
       "      <td>2011-12-15</td>\n",
       "      <td>1.434</td>\n",
       "    </tr>\n",
       "    <tr>\n",
       "      <th>2</th>\n",
       "      <td>2011-12-16</td>\n",
       "      <td>2.034</td>\n",
       "    </tr>\n",
       "    <tr>\n",
       "      <th>3</th>\n",
       "      <td>2011-12-17</td>\n",
       "      <td>1.068</td>\n",
       "    </tr>\n",
       "    <tr>\n",
       "      <th>4</th>\n",
       "      <td>2011-12-18</td>\n",
       "      <td>2.218</td>\n",
       "    </tr>\n",
       "  </tbody>\n",
       "</table>\n",
       "</div>"
      ],
      "text/plain": [
       "          day  energy_max\n",
       "0  2011-12-14       1.674\n",
       "1  2011-12-15       1.434\n",
       "2  2011-12-16       2.034\n",
       "3  2011-12-17       1.068\n",
       "4  2011-12-18       2.218"
      ]
     },
     "execution_count": 87,
     "metadata": {},
     "output_type": "execute_result"
    }
   ],
   "source": [
    "londres[['day', 'energy_max']].head()"
   ]
  },
  {
   "cell_type": "markdown",
   "metadata": {},
   "source": [
    "Si, por el contrario se quiere seleccionar una parte de las filas, se indicará usando *slicing* como en los strings:"
   ]
  },
  {
   "cell_type": "code",
   "execution_count": 88,
   "metadata": {},
   "outputs": [
    {
     "data": {
      "text/plain": [
       "LCLid             MAC000113\n",
       "day              2011-12-14\n",
       "energy_median         1.091\n",
       "energy_mean         1.06525\n",
       "energy_max            1.674\n",
       "energy_count             28\n",
       "energy_std         0.305397\n",
       "energy_sum           29.827\n",
       "energy_min            0.262\n",
       "Name: 0, dtype: object"
      ]
     },
     "execution_count": 88,
     "metadata": {},
     "output_type": "execute_result"
    }
   ],
   "source": [
    "londres.iloc[0]"
   ]
  },
  {
   "cell_type": "markdown",
   "metadata": {},
   "source": [
    "#### loc vs iloc\n",
    "\n",
    "Para seleccionar partes más específicas (más de una columna, varias columnas y solo unas filas de éstas,...), se usará la indexación con el loc o iloc. La única diferencia entre los dos, es que el primero se basa en el *label* de las filas o columnas, mientras que iloc se basa en el *integer* de estas. Con un ejemplo se entiende mejor:"
   ]
  },
  {
   "cell_type": "code",
   "execution_count": 89,
   "metadata": {},
   "outputs": [
    {
     "data": {
      "text/html": [
       "<div>\n",
       "<style scoped>\n",
       "    .dataframe tbody tr th:only-of-type {\n",
       "        vertical-align: middle;\n",
       "    }\n",
       "\n",
       "    .dataframe tbody tr th {\n",
       "        vertical-align: top;\n",
       "    }\n",
       "\n",
       "    .dataframe thead th {\n",
       "        text-align: right;\n",
       "    }\n",
       "</style>\n",
       "<table border=\"1\" class=\"dataframe\">\n",
       "  <thead>\n",
       "    <tr style=\"text-align: right;\">\n",
       "      <th></th>\n",
       "      <th>day</th>\n",
       "      <th>energy_max</th>\n",
       "    </tr>\n",
       "  </thead>\n",
       "  <tbody>\n",
       "    <tr>\n",
       "      <th>3</th>\n",
       "      <td>2011-12-17</td>\n",
       "      <td>1.068</td>\n",
       "    </tr>\n",
       "    <tr>\n",
       "      <th>4</th>\n",
       "      <td>2011-12-18</td>\n",
       "      <td>2.218</td>\n",
       "    </tr>\n",
       "    <tr>\n",
       "      <th>5</th>\n",
       "      <td>2011-12-19</td>\n",
       "      <td>2.204</td>\n",
       "    </tr>\n",
       "  </tbody>\n",
       "</table>\n",
       "</div>"
      ],
      "text/plain": [
       "          day  energy_max\n",
       "3  2011-12-17       1.068\n",
       "4  2011-12-18       2.218\n",
       "5  2011-12-19       2.204"
      ]
     },
     "execution_count": 89,
     "metadata": {},
     "output_type": "execute_result"
    }
   ],
   "source": [
    "londres.loc[3:5,['day', 'energy_max']]"
   ]
  },
  {
   "cell_type": "code",
   "execution_count": 90,
   "metadata": {},
   "outputs": [
    {
     "data": {
      "text/html": [
       "<div>\n",
       "<style scoped>\n",
       "    .dataframe tbody tr th:only-of-type {\n",
       "        vertical-align: middle;\n",
       "    }\n",
       "\n",
       "    .dataframe tbody tr th {\n",
       "        vertical-align: top;\n",
       "    }\n",
       "\n",
       "    .dataframe thead th {\n",
       "        text-align: right;\n",
       "    }\n",
       "</style>\n",
       "<table border=\"1\" class=\"dataframe\">\n",
       "  <thead>\n",
       "    <tr style=\"text-align: right;\">\n",
       "      <th></th>\n",
       "      <th>day</th>\n",
       "      <th>energy_median</th>\n",
       "    </tr>\n",
       "  </thead>\n",
       "  <tbody>\n",
       "    <tr>\n",
       "      <th>3</th>\n",
       "      <td>2011-12-17</td>\n",
       "      <td>0.2570</td>\n",
       "    </tr>\n",
       "    <tr>\n",
       "      <th>4</th>\n",
       "      <td>2011-12-18</td>\n",
       "      <td>0.3985</td>\n",
       "    </tr>\n",
       "  </tbody>\n",
       "</table>\n",
       "</div>"
      ],
      "text/plain": [
       "          day  energy_median\n",
       "3  2011-12-17         0.2570\n",
       "4  2011-12-18         0.3985"
      ]
     },
     "execution_count": 90,
     "metadata": {},
     "output_type": "execute_result"
    }
   ],
   "source": [
    "londres.iloc[3:5,1:3]"
   ]
  },
  {
   "cell_type": "markdown",
   "metadata": {},
   "source": [
    "Se debe tener en cuenta que el índice no será siempre un número y puede tratar-se de otro parámetro. Por ejemplo, podemos poner el día como índice."
   ]
  },
  {
   "cell_type": "markdown",
   "metadata": {},
   "source": [
    "### 10.4 Filtrar datos\n",
    "\n",
    "Otra manera de seleccionar solo una parte del dataset es aplicar *Boolena indexing*, que no es nada más que aplicar un filtro a los datos. Por ejemplo, vamos a seleccionar solo aquellos días en los que la energia máxima ha sido mayor a 1."
   ]
  },
  {
   "cell_type": "code",
   "execution_count": 91,
   "metadata": {},
   "outputs": [
    {
     "data": {
      "text/plain": [
       "0         True\n",
       "1         True\n",
       "2         True\n",
       "3         True\n",
       "4         True\n",
       "         ...  \n",
       "32987    False\n",
       "32988    False\n",
       "32989    False\n",
       "32990    False\n",
       "32991    False\n",
       "Name: energy_max, Length: 32992, dtype: bool"
      ]
     },
     "execution_count": 91,
     "metadata": {},
     "output_type": "execute_result"
    }
   ],
   "source": [
    "londres['energy_max'] > 1"
   ]
  },
  {
   "cell_type": "markdown",
   "metadata": {},
   "source": [
    "Como se puede observar ahora tenemos seleccionadas aquellas columnas que cumplen nuestra condición. ¿Y si lo ponemos directamente dentro del dataset cuando seleccionamos solo una part?"
   ]
  },
  {
   "cell_type": "code",
   "execution_count": 92,
   "metadata": {},
   "outputs": [
    {
     "data": {
      "text/html": [
       "<div>\n",
       "<style scoped>\n",
       "    .dataframe tbody tr th:only-of-type {\n",
       "        vertical-align: middle;\n",
       "    }\n",
       "\n",
       "    .dataframe tbody tr th {\n",
       "        vertical-align: top;\n",
       "    }\n",
       "\n",
       "    .dataframe thead th {\n",
       "        text-align: right;\n",
       "    }\n",
       "</style>\n",
       "<table border=\"1\" class=\"dataframe\">\n",
       "  <thead>\n",
       "    <tr style=\"text-align: right;\">\n",
       "      <th></th>\n",
       "      <th>LCLid</th>\n",
       "      <th>day</th>\n",
       "      <th>energy_median</th>\n",
       "      <th>energy_mean</th>\n",
       "      <th>energy_max</th>\n",
       "      <th>energy_count</th>\n",
       "      <th>energy_std</th>\n",
       "      <th>energy_sum</th>\n",
       "      <th>energy_min</th>\n",
       "    </tr>\n",
       "  </thead>\n",
       "  <tbody>\n",
       "    <tr>\n",
       "      <th>0</th>\n",
       "      <td>MAC000113</td>\n",
       "      <td>2011-12-14</td>\n",
       "      <td>1.0910</td>\n",
       "      <td>1.065250</td>\n",
       "      <td>1.674</td>\n",
       "      <td>28</td>\n",
       "      <td>0.305397</td>\n",
       "      <td>29.827</td>\n",
       "      <td>0.262</td>\n",
       "    </tr>\n",
       "    <tr>\n",
       "      <th>1</th>\n",
       "      <td>MAC000113</td>\n",
       "      <td>2011-12-15</td>\n",
       "      <td>0.3710</td>\n",
       "      <td>0.546521</td>\n",
       "      <td>1.434</td>\n",
       "      <td>48</td>\n",
       "      <td>0.410120</td>\n",
       "      <td>26.233</td>\n",
       "      <td>0.119</td>\n",
       "    </tr>\n",
       "    <tr>\n",
       "      <th>2</th>\n",
       "      <td>MAC000113</td>\n",
       "      <td>2011-12-16</td>\n",
       "      <td>0.3205</td>\n",
       "      <td>0.534708</td>\n",
       "      <td>2.034</td>\n",
       "      <td>48</td>\n",
       "      <td>0.464431</td>\n",
       "      <td>25.666</td>\n",
       "      <td>0.129</td>\n",
       "    </tr>\n",
       "    <tr>\n",
       "      <th>3</th>\n",
       "      <td>MAC000113</td>\n",
       "      <td>2011-12-17</td>\n",
       "      <td>0.2570</td>\n",
       "      <td>0.421500</td>\n",
       "      <td>1.068</td>\n",
       "      <td>48</td>\n",
       "      <td>0.274387</td>\n",
       "      <td>20.232</td>\n",
       "      <td>0.115</td>\n",
       "    </tr>\n",
       "    <tr>\n",
       "      <th>4</th>\n",
       "      <td>MAC000113</td>\n",
       "      <td>2011-12-18</td>\n",
       "      <td>0.3985</td>\n",
       "      <td>0.565333</td>\n",
       "      <td>2.218</td>\n",
       "      <td>48</td>\n",
       "      <td>0.450712</td>\n",
       "      <td>27.136</td>\n",
       "      <td>0.134</td>\n",
       "    </tr>\n",
       "    <tr>\n",
       "      <th>...</th>\n",
       "      <td>...</td>\n",
       "      <td>...</td>\n",
       "      <td>...</td>\n",
       "      <td>...</td>\n",
       "      <td>...</td>\n",
       "      <td>...</td>\n",
       "      <td>...</td>\n",
       "      <td>...</td>\n",
       "      <td>...</td>\n",
       "    </tr>\n",
       "    <tr>\n",
       "      <th>32917</th>\n",
       "      <td>MAC005416</td>\n",
       "      <td>2013-12-16</td>\n",
       "      <td>0.0580</td>\n",
       "      <td>0.162667</td>\n",
       "      <td>1.321</td>\n",
       "      <td>48</td>\n",
       "      <td>0.229688</td>\n",
       "      <td>7.808</td>\n",
       "      <td>0.040</td>\n",
       "    </tr>\n",
       "    <tr>\n",
       "      <th>32951</th>\n",
       "      <td>MAC005416</td>\n",
       "      <td>2014-01-19</td>\n",
       "      <td>0.1470</td>\n",
       "      <td>0.210563</td>\n",
       "      <td>1.246</td>\n",
       "      <td>48</td>\n",
       "      <td>0.213489</td>\n",
       "      <td>10.107</td>\n",
       "      <td>0.048</td>\n",
       "    </tr>\n",
       "    <tr>\n",
       "      <th>32955</th>\n",
       "      <td>MAC005416</td>\n",
       "      <td>2014-01-23</td>\n",
       "      <td>0.1665</td>\n",
       "      <td>0.207833</td>\n",
       "      <td>1.065</td>\n",
       "      <td>48</td>\n",
       "      <td>0.197093</td>\n",
       "      <td>9.976</td>\n",
       "      <td>0.048</td>\n",
       "    </tr>\n",
       "    <tr>\n",
       "      <th>32976</th>\n",
       "      <td>MAC005416</td>\n",
       "      <td>2014-02-13</td>\n",
       "      <td>0.0910</td>\n",
       "      <td>0.134500</td>\n",
       "      <td>1.027</td>\n",
       "      <td>48</td>\n",
       "      <td>0.149564</td>\n",
       "      <td>6.456</td>\n",
       "      <td>0.057</td>\n",
       "    </tr>\n",
       "    <tr>\n",
       "      <th>32985</th>\n",
       "      <td>MAC005416</td>\n",
       "      <td>2014-02-22</td>\n",
       "      <td>0.1070</td>\n",
       "      <td>0.260750</td>\n",
       "      <td>1.544</td>\n",
       "      <td>48</td>\n",
       "      <td>0.325023</td>\n",
       "      <td>12.516</td>\n",
       "      <td>0.046</td>\n",
       "    </tr>\n",
       "  </tbody>\n",
       "</table>\n",
       "<p>12161 rows × 9 columns</p>\n",
       "</div>"
      ],
      "text/plain": [
       "           LCLid         day  energy_median  energy_mean  energy_max  \\\n",
       "0      MAC000113  2011-12-14         1.0910     1.065250       1.674   \n",
       "1      MAC000113  2011-12-15         0.3710     0.546521       1.434   \n",
       "2      MAC000113  2011-12-16         0.3205     0.534708       2.034   \n",
       "3      MAC000113  2011-12-17         0.2570     0.421500       1.068   \n",
       "4      MAC000113  2011-12-18         0.3985     0.565333       2.218   \n",
       "...          ...         ...            ...          ...         ...   \n",
       "32917  MAC005416  2013-12-16         0.0580     0.162667       1.321   \n",
       "32951  MAC005416  2014-01-19         0.1470     0.210563       1.246   \n",
       "32955  MAC005416  2014-01-23         0.1665     0.207833       1.065   \n",
       "32976  MAC005416  2014-02-13         0.0910     0.134500       1.027   \n",
       "32985  MAC005416  2014-02-22         0.1070     0.260750       1.544   \n",
       "\n",
       "       energy_count  energy_std  energy_sum  energy_min  \n",
       "0                28    0.305397      29.827       0.262  \n",
       "1                48    0.410120      26.233       0.119  \n",
       "2                48    0.464431      25.666       0.129  \n",
       "3                48    0.274387      20.232       0.115  \n",
       "4                48    0.450712      27.136       0.134  \n",
       "...             ...         ...         ...         ...  \n",
       "32917            48    0.229688       7.808       0.040  \n",
       "32951            48    0.213489      10.107       0.048  \n",
       "32955            48    0.197093       9.976       0.048  \n",
       "32976            48    0.149564       6.456       0.057  \n",
       "32985            48    0.325023      12.516       0.046  \n",
       "\n",
       "[12161 rows x 9 columns]"
      ]
     },
     "execution_count": 92,
     "metadata": {},
     "output_type": "execute_result"
    }
   ],
   "source": [
    "londres[londres['energy_max']>1]"
   ]
  },
  {
   "cell_type": "markdown",
   "metadata": {},
   "source": [
    "#### Ejercicio\n",
    "\n",
    "Obtener un cuadro resumen de los parámetros para el contador con ID 'MAC000113'"
   ]
  },
  {
   "cell_type": "code",
   "execution_count": 93,
   "metadata": {},
   "outputs": [],
   "source": [
    "# vuestro codigo aquí!\n"
   ]
  },
  {
   "cell_type": "markdown",
   "metadata": {},
   "source": [
    "### 10.5 Funciones básicas interesantes\n",
    "\n",
    "Aquí poeis ver una lista de las funciones más interesantes a mirar en la documentación, con algun ejemplo:\n",
    "\n",
    "| Función   | Quantitativas | Qualitativas|\n",
    "|-----------|---------------|-------------|\n",
    "| count()   |Número de observaciones non-null|  \n",
    "| sum()     |Suma de valores|\n",
    "| mean()    |Media de las observaciones            | \n",
    "| median()  |Mediana de las observaciones             |\n",
    "| min()     |Valor mínimo|\n",
    "| max()     |Valor máximo|\n",
    "| std()     |Desviación standard|\n",
    "| var()     | Varianza|\n",
    "| value_counts()     | Valores unicos en cada columna - tabla de frec|\n",
    "| nunique()          | Número de valores distintos|\n",
    "| isnull()     | Máscara de valores null o Nan|\n",
    "\n",
    "Practicad con alguno de estos parámetros"
   ]
  },
  {
   "cell_type": "code",
   "execution_count": 94,
   "metadata": {},
   "outputs": [],
   "source": [
    "# vuestro código aquí!\n",
    "\n",
    "# Valor total de energia para el Id 'MAC000113'\n",
    "\n",
    "# ¿Cuántos contadores distintos hay?\n",
    "\n",
    "# ¿Cómo se llaman?\n",
    "\n",
    "# ¿Cuál fue el valor máximo de energía en dia 15 de Mayo de 2013?"
   ]
  },
  {
   "cell_type": "markdown",
   "metadata": {},
   "source": [
    "### 10.6 Manipular dataframes\n",
    "\n",
    "Se puede aplicar una función a alguna columna usando el método *apply* y recordando las fuciones lambda!"
   ]
  },
  {
   "cell_type": "code",
   "execution_count": 95,
   "metadata": {},
   "outputs": [
    {
     "data": {
      "text/html": [
       "<div>\n",
       "<style scoped>\n",
       "    .dataframe tbody tr th:only-of-type {\n",
       "        vertical-align: middle;\n",
       "    }\n",
       "\n",
       "    .dataframe tbody tr th {\n",
       "        vertical-align: top;\n",
       "    }\n",
       "\n",
       "    .dataframe thead th {\n",
       "        text-align: right;\n",
       "    }\n",
       "</style>\n",
       "<table border=\"1\" class=\"dataframe\">\n",
       "  <thead>\n",
       "    <tr style=\"text-align: right;\">\n",
       "      <th></th>\n",
       "      <th>LCLid</th>\n",
       "      <th>day</th>\n",
       "      <th>energy_median</th>\n",
       "      <th>energy_mean</th>\n",
       "      <th>energy_max</th>\n",
       "      <th>energy_count</th>\n",
       "      <th>energy_std</th>\n",
       "      <th>energy_sum</th>\n",
       "      <th>energy_min</th>\n",
       "      <th>energy_var</th>\n",
       "    </tr>\n",
       "  </thead>\n",
       "  <tbody>\n",
       "    <tr>\n",
       "      <th>0</th>\n",
       "      <td>MAC000113</td>\n",
       "      <td>2011-12-14</td>\n",
       "      <td>1.0910</td>\n",
       "      <td>1.065250</td>\n",
       "      <td>1.674</td>\n",
       "      <td>28</td>\n",
       "      <td>0.305397</td>\n",
       "      <td>29.827</td>\n",
       "      <td>0.262</td>\n",
       "      <td>0.093268</td>\n",
       "    </tr>\n",
       "    <tr>\n",
       "      <th>1</th>\n",
       "      <td>MAC000113</td>\n",
       "      <td>2011-12-15</td>\n",
       "      <td>0.3710</td>\n",
       "      <td>0.546521</td>\n",
       "      <td>1.434</td>\n",
       "      <td>48</td>\n",
       "      <td>0.410120</td>\n",
       "      <td>26.233</td>\n",
       "      <td>0.119</td>\n",
       "      <td>0.168199</td>\n",
       "    </tr>\n",
       "    <tr>\n",
       "      <th>2</th>\n",
       "      <td>MAC000113</td>\n",
       "      <td>2011-12-16</td>\n",
       "      <td>0.3205</td>\n",
       "      <td>0.534708</td>\n",
       "      <td>2.034</td>\n",
       "      <td>48</td>\n",
       "      <td>0.464431</td>\n",
       "      <td>25.666</td>\n",
       "      <td>0.129</td>\n",
       "      <td>0.215696</td>\n",
       "    </tr>\n",
       "    <tr>\n",
       "      <th>3</th>\n",
       "      <td>MAC000113</td>\n",
       "      <td>2011-12-17</td>\n",
       "      <td>0.2570</td>\n",
       "      <td>0.421500</td>\n",
       "      <td>1.068</td>\n",
       "      <td>48</td>\n",
       "      <td>0.274387</td>\n",
       "      <td>20.232</td>\n",
       "      <td>0.115</td>\n",
       "      <td>0.075288</td>\n",
       "    </tr>\n",
       "    <tr>\n",
       "      <th>4</th>\n",
       "      <td>MAC000113</td>\n",
       "      <td>2011-12-18</td>\n",
       "      <td>0.3985</td>\n",
       "      <td>0.565333</td>\n",
       "      <td>2.218</td>\n",
       "      <td>48</td>\n",
       "      <td>0.450712</td>\n",
       "      <td>27.136</td>\n",
       "      <td>0.134</td>\n",
       "      <td>0.203141</td>\n",
       "    </tr>\n",
       "  </tbody>\n",
       "</table>\n",
       "</div>"
      ],
      "text/plain": [
       "       LCLid         day  energy_median  energy_mean  energy_max  \\\n",
       "0  MAC000113  2011-12-14         1.0910     1.065250       1.674   \n",
       "1  MAC000113  2011-12-15         0.3710     0.546521       1.434   \n",
       "2  MAC000113  2011-12-16         0.3205     0.534708       2.034   \n",
       "3  MAC000113  2011-12-17         0.2570     0.421500       1.068   \n",
       "4  MAC000113  2011-12-18         0.3985     0.565333       2.218   \n",
       "\n",
       "   energy_count  energy_std  energy_sum  energy_min  energy_var  \n",
       "0            28    0.305397      29.827       0.262    0.093268  \n",
       "1            48    0.410120      26.233       0.119    0.168199  \n",
       "2            48    0.464431      25.666       0.129    0.215696  \n",
       "3            48    0.274387      20.232       0.115    0.075288  \n",
       "4            48    0.450712      27.136       0.134    0.203141  "
      ]
     },
     "execution_count": 95,
     "metadata": {},
     "output_type": "execute_result"
    }
   ],
   "source": [
    "londres['energy_var'] = londres['energy_std'].apply(lambda x: x**2)\n",
    "londres.head()"
   ]
  },
  {
   "cell_type": "markdown",
   "metadata": {},
   "source": [
    "#### Ejercicio\n",
    "\n",
    "Crea una columna nueva llamada 'ID' con solo las últimas 6 cifras de 'LCLid'"
   ]
  },
  {
   "cell_type": "code",
   "execution_count": 96,
   "metadata": {},
   "outputs": [],
   "source": [
    "# vuestro código aquí!"
   ]
  },
  {
   "cell_type": "markdown",
   "metadata": {},
   "source": [
    "### 10.7 Ordenar\n",
    "\n",
    "Si se desea ordenar valores, se puede usar ``sort_values``. Con un ejemplo se entenderá mejor:\n"
   ]
  },
  {
   "cell_type": "code",
   "execution_count": 97,
   "metadata": {},
   "outputs": [
    {
     "data": {
      "text/html": [
       "<div>\n",
       "<style scoped>\n",
       "    .dataframe tbody tr th:only-of-type {\n",
       "        vertical-align: middle;\n",
       "    }\n",
       "\n",
       "    .dataframe tbody tr th {\n",
       "        vertical-align: top;\n",
       "    }\n",
       "\n",
       "    .dataframe thead th {\n",
       "        text-align: right;\n",
       "    }\n",
       "</style>\n",
       "<table border=\"1\" class=\"dataframe\">\n",
       "  <thead>\n",
       "    <tr style=\"text-align: right;\">\n",
       "      <th></th>\n",
       "      <th>LCLid</th>\n",
       "      <th>day</th>\n",
       "      <th>energy_median</th>\n",
       "      <th>energy_mean</th>\n",
       "      <th>energy_max</th>\n",
       "      <th>energy_count</th>\n",
       "      <th>energy_std</th>\n",
       "      <th>energy_sum</th>\n",
       "      <th>energy_min</th>\n",
       "      <th>energy_var</th>\n",
       "    </tr>\n",
       "  </thead>\n",
       "  <tbody>\n",
       "    <tr>\n",
       "      <th>3108</th>\n",
       "      <td>MAC002510</td>\n",
       "      <td>2013-03-09</td>\n",
       "      <td>0.7800</td>\n",
       "      <td>0.752292</td>\n",
       "      <td>6.897</td>\n",
       "      <td>48</td>\n",
       "      <td>1.067885</td>\n",
       "      <td>36.110</td>\n",
       "      <td>0.020</td>\n",
       "      <td>1.140378</td>\n",
       "    </tr>\n",
       "    <tr>\n",
       "      <th>3003</th>\n",
       "      <td>MAC002510</td>\n",
       "      <td>2012-11-24</td>\n",
       "      <td>0.1570</td>\n",
       "      <td>0.465229</td>\n",
       "      <td>6.816</td>\n",
       "      <td>48</td>\n",
       "      <td>1.047584</td>\n",
       "      <td>22.331</td>\n",
       "      <td>0.020</td>\n",
       "      <td>1.097433</td>\n",
       "    </tr>\n",
       "    <tr>\n",
       "      <th>3123</th>\n",
       "      <td>MAC002510</td>\n",
       "      <td>2013-03-24</td>\n",
       "      <td>0.9325</td>\n",
       "      <td>0.933542</td>\n",
       "      <td>6.428</td>\n",
       "      <td>48</td>\n",
       "      <td>1.104101</td>\n",
       "      <td>44.810</td>\n",
       "      <td>0.023</td>\n",
       "      <td>1.219039</td>\n",
       "    </tr>\n",
       "    <tr>\n",
       "      <th>3008</th>\n",
       "      <td>MAC002510</td>\n",
       "      <td>2012-11-29</td>\n",
       "      <td>0.0215</td>\n",
       "      <td>0.371896</td>\n",
       "      <td>6.357</td>\n",
       "      <td>48</td>\n",
       "      <td>0.994860</td>\n",
       "      <td>17.851</td>\n",
       "      <td>0.019</td>\n",
       "      <td>0.989746</td>\n",
       "    </tr>\n",
       "    <tr>\n",
       "      <th>3236</th>\n",
       "      <td>MAC002510</td>\n",
       "      <td>2013-07-15</td>\n",
       "      <td>0.0505</td>\n",
       "      <td>0.262250</td>\n",
       "      <td>6.297</td>\n",
       "      <td>48</td>\n",
       "      <td>0.918086</td>\n",
       "      <td>12.588</td>\n",
       "      <td>0.020</td>\n",
       "      <td>0.842882</td>\n",
       "    </tr>\n",
       "  </tbody>\n",
       "</table>\n",
       "</div>"
      ],
      "text/plain": [
       "          LCLid         day  energy_median  energy_mean  energy_max  \\\n",
       "3108  MAC002510  2013-03-09         0.7800     0.752292       6.897   \n",
       "3003  MAC002510  2012-11-24         0.1570     0.465229       6.816   \n",
       "3123  MAC002510  2013-03-24         0.9325     0.933542       6.428   \n",
       "3008  MAC002510  2012-11-29         0.0215     0.371896       6.357   \n",
       "3236  MAC002510  2013-07-15         0.0505     0.262250       6.297   \n",
       "\n",
       "      energy_count  energy_std  energy_sum  energy_min  energy_var  \n",
       "3108            48    1.067885      36.110       0.020    1.140378  \n",
       "3003            48    1.047584      22.331       0.020    1.097433  \n",
       "3123            48    1.104101      44.810       0.023    1.219039  \n",
       "3008            48    0.994860      17.851       0.019    0.989746  \n",
       "3236            48    0.918086      12.588       0.020    0.842882  "
      ]
     },
     "execution_count": 97,
     "metadata": {},
     "output_type": "execute_result"
    }
   ],
   "source": [
    "londres.sort_values(by='energy_max', ascending= False, inplace=True)\n",
    "londres.head()"
   ]
  },
  {
   "cell_type": "markdown",
   "metadata": {},
   "source": [
    "### 10.8 Agrupar\n",
    "\n",
    "Por último, una función muy útil es la de agrupar (group_by).\n",
    "\n",
    "Por ejemplo, imagina que quieres agrupar todos los datos por número de contador y sacar algun parámetro de este contador (máximo, mínimo, etc.).\n",
    "\n",
    "El resultado de esta operación, será otro dataframe con los datos agrupados respeto a una variable. Además también se deberá indicar qué función de *agregación* se desea usar (max, min, mean, count, sum, etc.).\n",
    "\n",
    "Vamos a implementar el ejemplo comentado!"
   ]
  },
  {
   "cell_type": "code",
   "execution_count": 98,
   "metadata": {},
   "outputs": [
    {
     "data": {
      "text/html": [
       "<div>\n",
       "<style scoped>\n",
       "    .dataframe tbody tr th:only-of-type {\n",
       "        vertical-align: middle;\n",
       "    }\n",
       "\n",
       "    .dataframe tbody tr th {\n",
       "        vertical-align: top;\n",
       "    }\n",
       "\n",
       "    .dataframe thead th {\n",
       "        text-align: right;\n",
       "    }\n",
       "</style>\n",
       "<table border=\"1\" class=\"dataframe\">\n",
       "  <thead>\n",
       "    <tr style=\"text-align: right;\">\n",
       "      <th></th>\n",
       "      <th>energy_max</th>\n",
       "      <th>energy_min</th>\n",
       "      <th>energy_sum</th>\n",
       "    </tr>\n",
       "    <tr>\n",
       "      <th>LCLid</th>\n",
       "      <th></th>\n",
       "      <th></th>\n",
       "      <th></th>\n",
       "    </tr>\n",
       "  </thead>\n",
       "  <tbody>\n",
       "    <tr>\n",
       "      <th>MAC000113</th>\n",
       "      <td>1.460573</td>\n",
       "      <td>0.157256</td>\n",
       "      <td>24.656976</td>\n",
       "    </tr>\n",
       "    <tr>\n",
       "      <th>MAC000301</th>\n",
       "      <td>1.085894</td>\n",
       "      <td>0.027124</td>\n",
       "      <td>9.521648</td>\n",
       "    </tr>\n",
       "    <tr>\n",
       "      <th>MAC000309</th>\n",
       "      <td>1.997796</td>\n",
       "      <td>0.077452</td>\n",
       "      <td>19.015297</td>\n",
       "    </tr>\n",
       "    <tr>\n",
       "      <th>MAC002509</th>\n",
       "      <td>0.628286</td>\n",
       "      <td>0.051095</td>\n",
       "      <td>7.462581</td>\n",
       "    </tr>\n",
       "    <tr>\n",
       "      <th>MAC002510</th>\n",
       "      <td>2.144932</td>\n",
       "      <td>0.027697</td>\n",
       "      <td>12.070756</td>\n",
       "    </tr>\n",
       "    <tr>\n",
       "      <th>MAC002512</th>\n",
       "      <td>1.556296</td>\n",
       "      <td>0.121689</td>\n",
       "      <td>18.047101</td>\n",
       "    </tr>\n",
       "    <tr>\n",
       "      <th>MAC002513</th>\n",
       "      <td>0.806083</td>\n",
       "      <td>0.016887</td>\n",
       "      <td>4.796607</td>\n",
       "    </tr>\n",
       "    <tr>\n",
       "      <th>MAC002514</th>\n",
       "      <td>0.806902</td>\n",
       "      <td>0.033100</td>\n",
       "      <td>7.510262</td>\n",
       "    </tr>\n",
       "    <tr>\n",
       "      <th>MAC002517</th>\n",
       "      <td>1.050635</td>\n",
       "      <td>0.044790</td>\n",
       "      <td>11.447748</td>\n",
       "    </tr>\n",
       "    <tr>\n",
       "      <th>MAC002518</th>\n",
       "      <td>0.364883</td>\n",
       "      <td>0.032975</td>\n",
       "      <td>6.818670</td>\n",
       "    </tr>\n",
       "    <tr>\n",
       "      <th>MAC002519</th>\n",
       "      <td>1.588482</td>\n",
       "      <td>0.000963</td>\n",
       "      <td>9.773552</td>\n",
       "    </tr>\n",
       "    <tr>\n",
       "      <th>MAC002522</th>\n",
       "      <td>0.436370</td>\n",
       "      <td>0.015723</td>\n",
       "      <td>3.538223</td>\n",
       "    </tr>\n",
       "    <tr>\n",
       "      <th>MAC002525</th>\n",
       "      <td>0.587890</td>\n",
       "      <td>0.019342</td>\n",
       "      <td>6.972477</td>\n",
       "    </tr>\n",
       "    <tr>\n",
       "      <th>MAC002530</th>\n",
       "      <td>0.346048</td>\n",
       "      <td>0.012953</td>\n",
       "      <td>2.265823</td>\n",
       "    </tr>\n",
       "    <tr>\n",
       "      <th>MAC002539</th>\n",
       "      <td>0.501443</td>\n",
       "      <td>0.019163</td>\n",
       "      <td>4.140757</td>\n",
       "    </tr>\n",
       "    <tr>\n",
       "      <th>MAC002557</th>\n",
       "      <td>1.899431</td>\n",
       "      <td>0.052448</td>\n",
       "      <td>17.316634</td>\n",
       "    </tr>\n",
       "    <tr>\n",
       "      <th>MAC002558</th>\n",
       "      <td>1.397640</td>\n",
       "      <td>0.074950</td>\n",
       "      <td>18.288385</td>\n",
       "    </tr>\n",
       "    <tr>\n",
       "      <th>MAC002605</th>\n",
       "      <td>1.446267</td>\n",
       "      <td>0.089793</td>\n",
       "      <td>18.961491</td>\n",
       "    </tr>\n",
       "    <tr>\n",
       "      <th>MAC002662</th>\n",
       "      <td>0.690017</td>\n",
       "      <td>0.041542</td>\n",
       "      <td>7.695944</td>\n",
       "    </tr>\n",
       "    <tr>\n",
       "      <th>MAC002663</th>\n",
       "      <td>0.971458</td>\n",
       "      <td>0.131946</td>\n",
       "      <td>12.543782</td>\n",
       "    </tr>\n",
       "    <tr>\n",
       "      <th>MAC002666</th>\n",
       "      <td>0.774343</td>\n",
       "      <td>0.297817</td>\n",
       "      <td>19.901081</td>\n",
       "    </tr>\n",
       "    <tr>\n",
       "      <th>MAC002676</th>\n",
       "      <td>0.520772</td>\n",
       "      <td>0.026584</td>\n",
       "      <td>4.691760</td>\n",
       "    </tr>\n",
       "    <tr>\n",
       "      <th>MAC002702</th>\n",
       "      <td>0.827445</td>\n",
       "      <td>0.097226</td>\n",
       "      <td>14.933050</td>\n",
       "    </tr>\n",
       "    <tr>\n",
       "      <th>MAC002750</th>\n",
       "      <td>0.428297</td>\n",
       "      <td>0.011065</td>\n",
       "      <td>2.618379</td>\n",
       "    </tr>\n",
       "    <tr>\n",
       "      <th>MAC002754</th>\n",
       "      <td>0.996767</td>\n",
       "      <td>0.099409</td>\n",
       "      <td>16.350230</td>\n",
       "    </tr>\n",
       "    <tr>\n",
       "      <th>MAC002756</th>\n",
       "      <td>0.596933</td>\n",
       "      <td>0.035185</td>\n",
       "      <td>5.403261</td>\n",
       "    </tr>\n",
       "    <tr>\n",
       "      <th>MAC002757</th>\n",
       "      <td>1.588205</td>\n",
       "      <td>0.133736</td>\n",
       "      <td>20.682476</td>\n",
       "    </tr>\n",
       "    <tr>\n",
       "      <th>MAC002761</th>\n",
       "      <td>0.075495</td>\n",
       "      <td>0.010529</td>\n",
       "      <td>1.315838</td>\n",
       "    </tr>\n",
       "    <tr>\n",
       "      <th>MAC002764</th>\n",
       "      <td>0.968770</td>\n",
       "      <td>0.026533</td>\n",
       "      <td>5.384741</td>\n",
       "    </tr>\n",
       "    <tr>\n",
       "      <th>MAC002767</th>\n",
       "      <td>0.433853</td>\n",
       "      <td>0.017302</td>\n",
       "      <td>4.023435</td>\n",
       "    </tr>\n",
       "    <tr>\n",
       "      <th>MAC005269</th>\n",
       "      <td>0.861452</td>\n",
       "      <td>0.132849</td>\n",
       "      <td>14.282239</td>\n",
       "    </tr>\n",
       "    <tr>\n",
       "      <th>MAC005270</th>\n",
       "      <td>1.064200</td>\n",
       "      <td>0.088105</td>\n",
       "      <td>12.479217</td>\n",
       "    </tr>\n",
       "    <tr>\n",
       "      <th>MAC005274</th>\n",
       "      <td>0.879979</td>\n",
       "      <td>0.057647</td>\n",
       "      <td>10.069941</td>\n",
       "    </tr>\n",
       "    <tr>\n",
       "      <th>MAC005313</th>\n",
       "      <td>0.179228</td>\n",
       "      <td>0.000048</td>\n",
       "      <td>0.641708</td>\n",
       "    </tr>\n",
       "    <tr>\n",
       "      <th>MAC005317</th>\n",
       "      <td>0.488887</td>\n",
       "      <td>0.015980</td>\n",
       "      <td>4.138487</td>\n",
       "    </tr>\n",
       "    <tr>\n",
       "      <th>MAC005319</th>\n",
       "      <td>0.233613</td>\n",
       "      <td>0.039129</td>\n",
       "      <td>3.725454</td>\n",
       "    </tr>\n",
       "    <tr>\n",
       "      <th>MAC005322</th>\n",
       "      <td>1.293955</td>\n",
       "      <td>0.167729</td>\n",
       "      <td>20.750712</td>\n",
       "    </tr>\n",
       "    <tr>\n",
       "      <th>MAC005331</th>\n",
       "      <td>0.693208</td>\n",
       "      <td>0.063788</td>\n",
       "      <td>9.420459</td>\n",
       "    </tr>\n",
       "    <tr>\n",
       "      <th>MAC005367</th>\n",
       "      <td>0.856483</td>\n",
       "      <td>0.041828</td>\n",
       "      <td>9.006939</td>\n",
       "    </tr>\n",
       "    <tr>\n",
       "      <th>MAC005392</th>\n",
       "      <td>0.544100</td>\n",
       "      <td>0.062461</td>\n",
       "      <td>9.603723</td>\n",
       "    </tr>\n",
       "    <tr>\n",
       "      <th>MAC005400</th>\n",
       "      <td>0.591874</td>\n",
       "      <td>0.013898</td>\n",
       "      <td>5.452640</td>\n",
       "    </tr>\n",
       "    <tr>\n",
       "      <th>MAC005403</th>\n",
       "      <td>0.990794</td>\n",
       "      <td>0.011112</td>\n",
       "      <td>8.628782</td>\n",
       "    </tr>\n",
       "    <tr>\n",
       "      <th>MAC005404</th>\n",
       "      <td>1.273344</td>\n",
       "      <td>0.119261</td>\n",
       "      <td>19.338910</td>\n",
       "    </tr>\n",
       "    <tr>\n",
       "      <th>MAC005405</th>\n",
       "      <td>0.228274</td>\n",
       "      <td>0.011490</td>\n",
       "      <td>2.099607</td>\n",
       "    </tr>\n",
       "    <tr>\n",
       "      <th>MAC005407</th>\n",
       "      <td>1.248414</td>\n",
       "      <td>0.126545</td>\n",
       "      <td>19.557321</td>\n",
       "    </tr>\n",
       "    <tr>\n",
       "      <th>MAC005408</th>\n",
       "      <td>0.523577</td>\n",
       "      <td>0.042105</td>\n",
       "      <td>6.967649</td>\n",
       "    </tr>\n",
       "    <tr>\n",
       "      <th>MAC005411</th>\n",
       "      <td>1.159346</td>\n",
       "      <td>0.129117</td>\n",
       "      <td>20.949463</td>\n",
       "    </tr>\n",
       "    <tr>\n",
       "      <th>MAC005412</th>\n",
       "      <td>1.571090</td>\n",
       "      <td>0.178240</td>\n",
       "      <td>25.048747</td>\n",
       "    </tr>\n",
       "    <tr>\n",
       "      <th>MAC005415</th>\n",
       "      <td>0.203070</td>\n",
       "      <td>0.017933</td>\n",
       "      <td>3.307807</td>\n",
       "    </tr>\n",
       "    <tr>\n",
       "      <th>MAC005416</th>\n",
       "      <td>0.539568</td>\n",
       "      <td>0.046380</td>\n",
       "      <td>6.210063</td>\n",
       "    </tr>\n",
       "  </tbody>\n",
       "</table>\n",
       "</div>"
      ],
      "text/plain": [
       "           energy_max  energy_min  energy_sum\n",
       "LCLid                                        \n",
       "MAC000113    1.460573    0.157256   24.656976\n",
       "MAC000301    1.085894    0.027124    9.521648\n",
       "MAC000309    1.997796    0.077452   19.015297\n",
       "MAC002509    0.628286    0.051095    7.462581\n",
       "MAC002510    2.144932    0.027697   12.070756\n",
       "MAC002512    1.556296    0.121689   18.047101\n",
       "MAC002513    0.806083    0.016887    4.796607\n",
       "MAC002514    0.806902    0.033100    7.510262\n",
       "MAC002517    1.050635    0.044790   11.447748\n",
       "MAC002518    0.364883    0.032975    6.818670\n",
       "MAC002519    1.588482    0.000963    9.773552\n",
       "MAC002522    0.436370    0.015723    3.538223\n",
       "MAC002525    0.587890    0.019342    6.972477\n",
       "MAC002530    0.346048    0.012953    2.265823\n",
       "MAC002539    0.501443    0.019163    4.140757\n",
       "MAC002557    1.899431    0.052448   17.316634\n",
       "MAC002558    1.397640    0.074950   18.288385\n",
       "MAC002605    1.446267    0.089793   18.961491\n",
       "MAC002662    0.690017    0.041542    7.695944\n",
       "MAC002663    0.971458    0.131946   12.543782\n",
       "MAC002666    0.774343    0.297817   19.901081\n",
       "MAC002676    0.520772    0.026584    4.691760\n",
       "MAC002702    0.827445    0.097226   14.933050\n",
       "MAC002750    0.428297    0.011065    2.618379\n",
       "MAC002754    0.996767    0.099409   16.350230\n",
       "MAC002756    0.596933    0.035185    5.403261\n",
       "MAC002757    1.588205    0.133736   20.682476\n",
       "MAC002761    0.075495    0.010529    1.315838\n",
       "MAC002764    0.968770    0.026533    5.384741\n",
       "MAC002767    0.433853    0.017302    4.023435\n",
       "MAC005269    0.861452    0.132849   14.282239\n",
       "MAC005270    1.064200    0.088105   12.479217\n",
       "MAC005274    0.879979    0.057647   10.069941\n",
       "MAC005313    0.179228    0.000048    0.641708\n",
       "MAC005317    0.488887    0.015980    4.138487\n",
       "MAC005319    0.233613    0.039129    3.725454\n",
       "MAC005322    1.293955    0.167729   20.750712\n",
       "MAC005331    0.693208    0.063788    9.420459\n",
       "MAC005367    0.856483    0.041828    9.006939\n",
       "MAC005392    0.544100    0.062461    9.603723\n",
       "MAC005400    0.591874    0.013898    5.452640\n",
       "MAC005403    0.990794    0.011112    8.628782\n",
       "MAC005404    1.273344    0.119261   19.338910\n",
       "MAC005405    0.228274    0.011490    2.099607\n",
       "MAC005407    1.248414    0.126545   19.557321\n",
       "MAC005408    0.523577    0.042105    6.967649\n",
       "MAC005411    1.159346    0.129117   20.949463\n",
       "MAC005412    1.571090    0.178240   25.048747\n",
       "MAC005415    0.203070    0.017933    3.307807\n",
       "MAC005416    0.539568    0.046380    6.210063"
      ]
     },
     "execution_count": 98,
     "metadata": {},
     "output_type": "execute_result"
    }
   ],
   "source": [
    "contadores = londres[['LCLid','energy_max', 'energy_min', 'energy_sum']].groupby('LCLid').mean()\n",
    "contadores"
   ]
  },
  {
   "cell_type": "markdown",
   "metadata": {},
   "source": [
    "### 10.9 Merge\n",
    "\n",
    "Muchas veces tendremos la información deseada en distintas bases de datos, archivos o datasets. Pandas nos ofrece la opción de juntar y fusionar datasets con *merge*.\n",
    "\n",
    "Veamos un ejemplo con el dataset *londres*. \n",
    "\n",
    "Si cargaos otro dataset con la información de cada casa obtenemos:"
   ]
  },
  {
   "cell_type": "code",
   "execution_count": 99,
   "metadata": {},
   "outputs": [
    {
     "data": {
      "text/html": [
       "<div>\n",
       "<style scoped>\n",
       "    .dataframe tbody tr th:only-of-type {\n",
       "        vertical-align: middle;\n",
       "    }\n",
       "\n",
       "    .dataframe tbody tr th {\n",
       "        vertical-align: top;\n",
       "    }\n",
       "\n",
       "    .dataframe thead th {\n",
       "        text-align: right;\n",
       "    }\n",
       "</style>\n",
       "<table border=\"1\" class=\"dataframe\">\n",
       "  <thead>\n",
       "    <tr style=\"text-align: right;\">\n",
       "      <th></th>\n",
       "      <th>LCLid</th>\n",
       "      <th>day</th>\n",
       "      <th>energy_median</th>\n",
       "      <th>energy_mean</th>\n",
       "      <th>energy_max</th>\n",
       "      <th>energy_count</th>\n",
       "      <th>energy_std</th>\n",
       "      <th>energy_sum</th>\n",
       "      <th>energy_min</th>\n",
       "    </tr>\n",
       "  </thead>\n",
       "  <tbody>\n",
       "    <tr>\n",
       "      <th>0</th>\n",
       "      <td>MAC000113</td>\n",
       "      <td>2011-12-14</td>\n",
       "      <td>1.0910</td>\n",
       "      <td>1.065250</td>\n",
       "      <td>1.674</td>\n",
       "      <td>28</td>\n",
       "      <td>0.305397</td>\n",
       "      <td>29.827</td>\n",
       "      <td>0.262</td>\n",
       "    </tr>\n",
       "    <tr>\n",
       "      <th>1</th>\n",
       "      <td>MAC000113</td>\n",
       "      <td>2011-12-15</td>\n",
       "      <td>0.3710</td>\n",
       "      <td>0.546521</td>\n",
       "      <td>1.434</td>\n",
       "      <td>48</td>\n",
       "      <td>0.410120</td>\n",
       "      <td>26.233</td>\n",
       "      <td>0.119</td>\n",
       "    </tr>\n",
       "    <tr>\n",
       "      <th>2</th>\n",
       "      <td>MAC000113</td>\n",
       "      <td>2011-12-16</td>\n",
       "      <td>0.3205</td>\n",
       "      <td>0.534708</td>\n",
       "      <td>2.034</td>\n",
       "      <td>48</td>\n",
       "      <td>0.464431</td>\n",
       "      <td>25.666</td>\n",
       "      <td>0.129</td>\n",
       "    </tr>\n",
       "    <tr>\n",
       "      <th>3</th>\n",
       "      <td>MAC000113</td>\n",
       "      <td>2011-12-17</td>\n",
       "      <td>0.2570</td>\n",
       "      <td>0.421500</td>\n",
       "      <td>1.068</td>\n",
       "      <td>48</td>\n",
       "      <td>0.274387</td>\n",
       "      <td>20.232</td>\n",
       "      <td>0.115</td>\n",
       "    </tr>\n",
       "    <tr>\n",
       "      <th>4</th>\n",
       "      <td>MAC000113</td>\n",
       "      <td>2011-12-18</td>\n",
       "      <td>0.3985</td>\n",
       "      <td>0.565333</td>\n",
       "      <td>2.218</td>\n",
       "      <td>48</td>\n",
       "      <td>0.450712</td>\n",
       "      <td>27.136</td>\n",
       "      <td>0.134</td>\n",
       "    </tr>\n",
       "  </tbody>\n",
       "</table>\n",
       "</div>"
      ],
      "text/plain": [
       "       LCLid         day  energy_median  energy_mean  energy_max  \\\n",
       "0  MAC000113  2011-12-14         1.0910     1.065250       1.674   \n",
       "1  MAC000113  2011-12-15         0.3710     0.546521       1.434   \n",
       "2  MAC000113  2011-12-16         0.3205     0.534708       2.034   \n",
       "3  MAC000113  2011-12-17         0.2570     0.421500       1.068   \n",
       "4  MAC000113  2011-12-18         0.3985     0.565333       2.218   \n",
       "\n",
       "   energy_count  energy_std  energy_sum  energy_min  \n",
       "0            28    0.305397      29.827       0.262  \n",
       "1            48    0.410120      26.233       0.119  \n",
       "2            48    0.464431      25.666       0.129  \n",
       "3            48    0.274387      20.232       0.115  \n",
       "4            48    0.450712      27.136       0.134  "
      ]
     },
     "execution_count": 99,
     "metadata": {},
     "output_type": "execute_result"
    }
   ],
   "source": [
    "import pandas as pd\n",
    "\n",
    "londres = pd.read_csv('Data/block_13_diario.csv')\n",
    "londres.head(5)"
   ]
  },
  {
   "cell_type": "code",
   "execution_count": 100,
   "metadata": {},
   "outputs": [
    {
     "data": {
      "text/html": [
       "<div>\n",
       "<style scoped>\n",
       "    .dataframe tbody tr th:only-of-type {\n",
       "        vertical-align: middle;\n",
       "    }\n",
       "\n",
       "    .dataframe tbody tr th {\n",
       "        vertical-align: top;\n",
       "    }\n",
       "\n",
       "    .dataframe thead th {\n",
       "        text-align: right;\n",
       "    }\n",
       "</style>\n",
       "<table border=\"1\" class=\"dataframe\">\n",
       "  <thead>\n",
       "    <tr style=\"text-align: right;\">\n",
       "      <th></th>\n",
       "      <th>LCLid</th>\n",
       "      <th>stdorToU</th>\n",
       "      <th>Acorn</th>\n",
       "      <th>Acorn_grouped</th>\n",
       "      <th>file</th>\n",
       "    </tr>\n",
       "  </thead>\n",
       "  <tbody>\n",
       "    <tr>\n",
       "      <th>0</th>\n",
       "      <td>MAC005492</td>\n",
       "      <td>ToU</td>\n",
       "      <td>ACORN-</td>\n",
       "      <td>ACORN-</td>\n",
       "      <td>block_0</td>\n",
       "    </tr>\n",
       "    <tr>\n",
       "      <th>1</th>\n",
       "      <td>MAC001074</td>\n",
       "      <td>ToU</td>\n",
       "      <td>ACORN-</td>\n",
       "      <td>ACORN-</td>\n",
       "      <td>block_0</td>\n",
       "    </tr>\n",
       "    <tr>\n",
       "      <th>2</th>\n",
       "      <td>MAC000002</td>\n",
       "      <td>Std</td>\n",
       "      <td>ACORN-A</td>\n",
       "      <td>Affluent</td>\n",
       "      <td>block_0</td>\n",
       "    </tr>\n",
       "    <tr>\n",
       "      <th>3</th>\n",
       "      <td>MAC003613</td>\n",
       "      <td>Std</td>\n",
       "      <td>ACORN-A</td>\n",
       "      <td>Affluent</td>\n",
       "      <td>block_0</td>\n",
       "    </tr>\n",
       "    <tr>\n",
       "      <th>4</th>\n",
       "      <td>MAC003597</td>\n",
       "      <td>Std</td>\n",
       "      <td>ACORN-A</td>\n",
       "      <td>Affluent</td>\n",
       "      <td>block_0</td>\n",
       "    </tr>\n",
       "  </tbody>\n",
       "</table>\n",
       "</div>"
      ],
      "text/plain": [
       "       LCLid stdorToU    Acorn Acorn_grouped     file\n",
       "0  MAC005492      ToU   ACORN-        ACORN-  block_0\n",
       "1  MAC001074      ToU   ACORN-        ACORN-  block_0\n",
       "2  MAC000002      Std  ACORN-A      Affluent  block_0\n",
       "3  MAC003613      Std  ACORN-A      Affluent  block_0\n",
       "4  MAC003597      Std  ACORN-A      Affluent  block_0"
      ]
     },
     "execution_count": 100,
     "metadata": {},
     "output_type": "execute_result"
    }
   ],
   "source": [
    "casas = pd.read_csv('Data/informations_households.csv')\n",
    "casas.head(5)"
   ]
  },
  {
   "cell_type": "markdown",
   "metadata": {},
   "source": [
    "Podemos ver como por cada contador, nos da información de dónde podemos encontrar más parámetros de aquel contador y los agrupa por unos rupos llamados Acron. Para saber más sobre estos, ir directamente al repositorio de este dataset e inspeccionar con detalle.\n",
    "\n",
    "De todos modos, si queremos juntar toda la información en un mismo dataset, tendríamos que hacer un merge:\n",
    "\n",
    "<img src=\"Figures/Panda Data Wrangling Cheat Sheet 2.jpeg\" alt=\"Drawing\" style=\"width: 500px;\"/>\n",
    "\n",
    "\n",
    "Donde los modos *how* posibles se refieren a:\n",
    "\n",
    "<img src=\"Figures/merge_options.png\" alt=\"Drawing\" style=\"width: 500px;\"/>\n"
   ]
  },
  {
   "cell_type": "code",
   "execution_count": 101,
   "metadata": {},
   "outputs": [
    {
     "data": {
      "text/html": [
       "<div>\n",
       "<style scoped>\n",
       "    .dataframe tbody tr th:only-of-type {\n",
       "        vertical-align: middle;\n",
       "    }\n",
       "\n",
       "    .dataframe tbody tr th {\n",
       "        vertical-align: top;\n",
       "    }\n",
       "\n",
       "    .dataframe thead th {\n",
       "        text-align: right;\n",
       "    }\n",
       "</style>\n",
       "<table border=\"1\" class=\"dataframe\">\n",
       "  <thead>\n",
       "    <tr style=\"text-align: right;\">\n",
       "      <th></th>\n",
       "      <th>LCLid</th>\n",
       "      <th>day</th>\n",
       "      <th>energy_median</th>\n",
       "      <th>energy_mean</th>\n",
       "      <th>energy_max</th>\n",
       "      <th>energy_count</th>\n",
       "      <th>energy_std</th>\n",
       "      <th>energy_sum</th>\n",
       "      <th>energy_min</th>\n",
       "      <th>stdorToU</th>\n",
       "      <th>Acorn</th>\n",
       "      <th>Acorn_grouped</th>\n",
       "      <th>file</th>\n",
       "    </tr>\n",
       "  </thead>\n",
       "  <tbody>\n",
       "    <tr>\n",
       "      <th>0</th>\n",
       "      <td>MAC000113</td>\n",
       "      <td>2011-12-14</td>\n",
       "      <td>1.0910</td>\n",
       "      <td>1.065250</td>\n",
       "      <td>1.674</td>\n",
       "      <td>28</td>\n",
       "      <td>0.305397</td>\n",
       "      <td>29.827</td>\n",
       "      <td>0.262</td>\n",
       "      <td>Std</td>\n",
       "      <td>ACORN-E</td>\n",
       "      <td>Affluent</td>\n",
       "      <td>block_13</td>\n",
       "    </tr>\n",
       "    <tr>\n",
       "      <th>1</th>\n",
       "      <td>MAC000113</td>\n",
       "      <td>2011-12-15</td>\n",
       "      <td>0.3710</td>\n",
       "      <td>0.546521</td>\n",
       "      <td>1.434</td>\n",
       "      <td>48</td>\n",
       "      <td>0.410120</td>\n",
       "      <td>26.233</td>\n",
       "      <td>0.119</td>\n",
       "      <td>Std</td>\n",
       "      <td>ACORN-E</td>\n",
       "      <td>Affluent</td>\n",
       "      <td>block_13</td>\n",
       "    </tr>\n",
       "    <tr>\n",
       "      <th>2</th>\n",
       "      <td>MAC000113</td>\n",
       "      <td>2011-12-16</td>\n",
       "      <td>0.3205</td>\n",
       "      <td>0.534708</td>\n",
       "      <td>2.034</td>\n",
       "      <td>48</td>\n",
       "      <td>0.464431</td>\n",
       "      <td>25.666</td>\n",
       "      <td>0.129</td>\n",
       "      <td>Std</td>\n",
       "      <td>ACORN-E</td>\n",
       "      <td>Affluent</td>\n",
       "      <td>block_13</td>\n",
       "    </tr>\n",
       "    <tr>\n",
       "      <th>3</th>\n",
       "      <td>MAC000113</td>\n",
       "      <td>2011-12-17</td>\n",
       "      <td>0.2570</td>\n",
       "      <td>0.421500</td>\n",
       "      <td>1.068</td>\n",
       "      <td>48</td>\n",
       "      <td>0.274387</td>\n",
       "      <td>20.232</td>\n",
       "      <td>0.115</td>\n",
       "      <td>Std</td>\n",
       "      <td>ACORN-E</td>\n",
       "      <td>Affluent</td>\n",
       "      <td>block_13</td>\n",
       "    </tr>\n",
       "    <tr>\n",
       "      <th>4</th>\n",
       "      <td>MAC000113</td>\n",
       "      <td>2011-12-18</td>\n",
       "      <td>0.3985</td>\n",
       "      <td>0.565333</td>\n",
       "      <td>2.218</td>\n",
       "      <td>48</td>\n",
       "      <td>0.450712</td>\n",
       "      <td>27.136</td>\n",
       "      <td>0.134</td>\n",
       "      <td>Std</td>\n",
       "      <td>ACORN-E</td>\n",
       "      <td>Affluent</td>\n",
       "      <td>block_13</td>\n",
       "    </tr>\n",
       "  </tbody>\n",
       "</table>\n",
       "</div>"
      ],
      "text/plain": [
       "       LCLid         day  energy_median  energy_mean  energy_max  \\\n",
       "0  MAC000113  2011-12-14         1.0910     1.065250       1.674   \n",
       "1  MAC000113  2011-12-15         0.3710     0.546521       1.434   \n",
       "2  MAC000113  2011-12-16         0.3205     0.534708       2.034   \n",
       "3  MAC000113  2011-12-17         0.2570     0.421500       1.068   \n",
       "4  MAC000113  2011-12-18         0.3985     0.565333       2.218   \n",
       "\n",
       "   energy_count  energy_std  energy_sum  energy_min stdorToU    Acorn  \\\n",
       "0            28    0.305397      29.827       0.262      Std  ACORN-E   \n",
       "1            48    0.410120      26.233       0.119      Std  ACORN-E   \n",
       "2            48    0.464431      25.666       0.129      Std  ACORN-E   \n",
       "3            48    0.274387      20.232       0.115      Std  ACORN-E   \n",
       "4            48    0.450712      27.136       0.134      Std  ACORN-E   \n",
       "\n",
       "  Acorn_grouped      file  \n",
       "0      Affluent  block_13  \n",
       "1      Affluent  block_13  \n",
       "2      Affluent  block_13  \n",
       "3      Affluent  block_13  \n",
       "4      Affluent  block_13  "
      ]
     },
     "execution_count": 101,
     "metadata": {},
     "output_type": "execute_result"
    }
   ],
   "source": [
    "combinado = pd.merge(londres, casas, how='left', on='LCLid')\n",
    "combinado.head(5)"
   ]
  },
  {
   "cell_type": "markdown",
   "metadata": {},
   "source": [
    "### 10.10 Otros\n",
    "\n",
    "Hay muchas más funciones que se pueden usar con Pandas. Os animamos a mirar en su documentación, foros, cheat sheets, cursos,...\n",
    "\n",
    "https://pandas.pydata.org/pandas-docs/stable/index.html"
   ]
  },
  {
   "cell_type": "markdown",
   "metadata": {},
   "source": [
    "## 11. Creación de gáficos\n",
    "\n",
    "En Python existen diversas librerías para crear gráficos como Bokeh, altair, Pandas o Matplotlib\n",
    "\n",
    "<img src=\"Figures/four_logos.png\" alt=\"Drawing\" style=\"width: 800px;\"/>\n",
    "\n",
    "En este curso aprenderemos las funciones básicas de matplotlib, ya que las otras librerías siempre estan basadas en esta y nos ayudará a luego saber usarlas también."
   ]
  },
  {
   "cell_type": "markdown",
   "metadata": {},
   "source": [
    "### 11.1 Matplotlib.pyplot\n",
    "\n",
    "El módulo que se usa es el pyplot de matplotlib. Toda su documentación se puede encontrar aquí:\n",
    "\n",
    "https://matplotlib.org/api/pyplot_api.html#module-matplotlib.pyplot\n",
    "\n",
    "Vaamos a importarla!"
   ]
  },
  {
   "cell_type": "code",
   "execution_count": 3,
   "metadata": {},
   "outputs": [],
   "source": [
    "import matplotlib.pyplot as plt"
   ]
  },
  {
   "cell_type": "markdown",
   "metadata": {},
   "source": [
    "Las dos instancias más importntes en pyplot son\n",
    "* figure: en matplotlib.figure.Figure, una *figure* ser dónde iran los gráficos. Es el lienzo donde puede haber uno o varios gráficos.\n",
    "* axes: eb matplotlib.axes.Axes, econtramos dode iran los gráficos en sí\n",
    "\n",
    "Vamos a crear un primer gráfico de prueba:"
   ]
  },
  {
   "cell_type": "code",
   "execution_count": 103,
   "metadata": {},
   "outputs": [
    {
     "data": {
      "image/png": "[encoded data removed]",
      "text/plain": [
       "<Figure size 432x288 with 1 Axes>"
      ]
     },
     "metadata": {
      "needs_background": "light"
     },
     "output_type": "display_data"
    }
   ],
   "source": [
    "import matplotlib.pyplot as plt\n",
    "import numpy as np\n",
    "\n",
    "plt.plot([1,2,3,4],[1,4,8,16])\n",
    "plt.show()"
   ]
  },
  {
   "cell_type": "markdown",
   "metadata": {},
   "source": [
    "En este caso hemos creado un gráfico usando *plot*, donde el primer argumento es el eje de las x y el segundo el de las y (deben ser de la smismas dimensiones). \n",
    "\n",
    "Podemos añadir otra información como título y nombre de los ejes:"
   ]
  },
  {
   "cell_type": "code",
   "execution_count": 104,
   "metadata": {},
   "outputs": [
    {
     "data": {
      "image/png": "[encoded data removed]",
      "text/plain": [
       "<Figure size 432x288 with 1 Axes>"
      ]
     },
     "metadata": {
      "needs_background": "light"
     },
     "output_type": "display_data"
    }
   ],
   "source": [
    "import matplotlib.pyplot as plt\n",
    "import numpy as np\n",
    "\n",
    "plt.plot([1,2,3,4],[1,4,8,16])\n",
    "plt.title('Nuestro primer plot!')\n",
    "plt.xlabel('eje X')\n",
    "plt.ylabel('eje Y')\n",
    "plt.show()"
   ]
  },
  {
   "cell_type": "markdown",
   "metadata": {},
   "source": [
    "### 11.2 Crear ventanas\n",
    "\n",
    "Si se quiere modificar el tamaño del gráfico, es dóde tendremos que usar el término *figure* comentdo anteriormente. Recordamos que *figure* era el lienzo donde poníamos uno o más gráficos. En este caso, solo ponemos uno.\n",
    "\n",
    "Aquí podemos ver como se puede configurar una *figure* con unas medidas predeterminadas:"
   ]
  },
  {
   "cell_type": "code",
   "execution_count": 105,
   "metadata": {},
   "outputs": [
    {
     "data": {
      "image/png": "[encoded data removed]",
      "text/plain": [
       "<Figure size 1440x360 with 1 Axes>"
      ]
     },
     "metadata": {
      "needs_background": "light"
     },
     "output_type": "display_data"
    }
   ],
   "source": [
    "plt.figure(figsize=(20,5))\n",
    "plt.plot([1,2,3,4],[1,4,8,16])\n",
    "plt.show()"
   ]
  },
  {
   "cell_type": "markdown",
   "metadata": {},
   "source": [
    "Para cada gráfico también se puede determinar el estilo del gráfico con un tercer argumento:"
   ]
  },
  {
   "cell_type": "code",
   "execution_count": 106,
   "metadata": {},
   "outputs": [
    {
     "data": {
      "image/png": "[encoded data removed]",
      "text/plain": [
       "<Figure size 432x288 with 1 Axes>"
      ]
     },
     "metadata": {
      "needs_background": "light"
     },
     "output_type": "display_data"
    }
   ],
   "source": [
    "plt.plot([1,2,3,4],[1,4,8,16],'go')\n",
    "plt.show()"
   ]
  },
  {
   "cell_type": "markdown",
   "metadata": {},
   "source": [
    "Y podemos poner más de un gráfico en el mismo plot, indicando en la leyenda que es cada cosa:"
   ]
  },
  {
   "cell_type": "code",
   "execution_count": 107,
   "metadata": {},
   "outputs": [
    {
     "data": {
      "image/png": "[encoded data removed]",
      "text/plain": [
       "<Figure size 432x288 with 1 Axes>"
      ]
     },
     "metadata": {
      "needs_background": "light"
     },
     "output_type": "display_data"
    }
   ],
   "source": [
    "plt.plot([1,2,3,4],[1,4,8,16],'g-',label='primero')\n",
    "plt.plot([1,2,3,4],[1,6,12,6],'r-', label='segundo')\n",
    "plt.title('Ahora son dos!')\n",
    "plt.xlabel('eje X')\n",
    "plt.ylabel('eje Y')\n",
    "plt.legend()\n",
    "plt.show()"
   ]
  },
  {
   "cell_type": "markdown",
   "metadata": {},
   "source": [
    "### 11.3 Subplots\n",
    "\n",
    "Para poner distintos gráficos con distintos ejes se puede usar Subplots. El métdodo `subplot` tiene 3 argumentos: número de filas, número de columnas e índice. Veamos con un ejemplo como se usa:"
   ]
  },
  {
   "cell_type": "code",
   "execution_count": 108,
   "metadata": {},
   "outputs": [
    {
     "data": {
      "text/plain": [
       "Text(0, 0.5, 'otro eje Y')"
      ]
     },
     "execution_count": 108,
     "metadata": {},
     "output_type": "execute_result"
    },
    {
     "data": {
      "image/png": "[encoded data removed]",
      "text/plain": [
       "<Figure size 1080x144 with 2 Axes>"
      ]
     },
     "metadata": {
      "needs_background": "light"
     },
     "output_type": "display_data"
    }
   ],
   "source": [
    "plt.figure(figsize=(15,2))\n",
    "\n",
    "plt.subplot(1,2,1)\n",
    "plt.plot([1,2,3,4],[1,4,9,16],'go')\n",
    "plt.title('Izquierda')\n",
    "plt.xlabel('un eje X')\n",
    "plt.ylabel('un eje Y')\n",
    "\n",
    "plt.subplot(1,2,2)\n",
    "plt.plot([1,2,3,4],[1,6,12,6],'r-')\n",
    "plt.title('Derecha')\n",
    "plt.xlabel('otro eje X')\n",
    "plt.ylabel('otro eje Y')"
   ]
  },
  {
   "cell_type": "markdown",
   "metadata": {},
   "source": [
    "O, por ejemplo:"
   ]
  },
  {
   "cell_type": "code",
   "execution_count": 109,
   "metadata": {},
   "outputs": [
    {
     "data": {
      "text/plain": [
       "Text(0, 0.5, 'otro eje Y')"
      ]
     },
     "execution_count": 109,
     "metadata": {},
     "output_type": "execute_result"
    },
    {
     "data": {
      "image/png": "[encoded data removed]",
      "text/plain": [
       "<Figure size 720x720 with 2 Axes>"
      ]
     },
     "metadata": {
      "needs_background": "light"
     },
     "output_type": "display_data"
    }
   ],
   "source": [
    "plt.figure(figsize=(10,10))\n",
    "\n",
    "plt.subplot(2,1,1)\n",
    "plt.plot([1,2,3,4],[1,4,9,16],'go')\n",
    "plt.title('Arriba')\n",
    "plt.xlabel('un eje X')\n",
    "plt.ylabel('un eje Y')\n",
    "\n",
    "plt.subplot(2,1,2)\n",
    "plt.plot([1,2,3,4],[1,6,12,6],'r-')\n",
    "plt.title('Abajo')\n",
    "plt.xlabel('otro eje X')\n",
    "plt.ylabel('otro eje Y')"
   ]
  },
  {
   "cell_type": "markdown",
   "metadata": {},
   "source": [
    "### 11.4 Gráfico de barras\n",
    "\n",
    "Para hacer un gráfico de barras en vez de `plot`usaremos `bar`, siguendo una estructura muy parecida.\n",
    "\n",
    "Recordemos el dataset de antes:"
   ]
  },
  {
   "cell_type": "code",
   "execution_count": 110,
   "metadata": {},
   "outputs": [
    {
     "data": {
      "text/html": [
       "<div>\n",
       "<style scoped>\n",
       "    .dataframe tbody tr th:only-of-type {\n",
       "        vertical-align: middle;\n",
       "    }\n",
       "\n",
       "    .dataframe tbody tr th {\n",
       "        vertical-align: top;\n",
       "    }\n",
       "\n",
       "    .dataframe thead th {\n",
       "        text-align: right;\n",
       "    }\n",
       "</style>\n",
       "<table border=\"1\" class=\"dataframe\">\n",
       "  <thead>\n",
       "    <tr style=\"text-align: right;\">\n",
       "      <th></th>\n",
       "      <th>energy_max</th>\n",
       "      <th>energy_min</th>\n",
       "      <th>energy_sum</th>\n",
       "    </tr>\n",
       "    <tr>\n",
       "      <th>LCLid</th>\n",
       "      <th></th>\n",
       "      <th></th>\n",
       "      <th></th>\n",
       "    </tr>\n",
       "  </thead>\n",
       "  <tbody>\n",
       "    <tr>\n",
       "      <th>MAC000113</th>\n",
       "      <td>1.460573</td>\n",
       "      <td>0.157256</td>\n",
       "      <td>24.656976</td>\n",
       "    </tr>\n",
       "    <tr>\n",
       "      <th>MAC000301</th>\n",
       "      <td>1.085894</td>\n",
       "      <td>0.027124</td>\n",
       "      <td>9.521648</td>\n",
       "    </tr>\n",
       "    <tr>\n",
       "      <th>MAC000309</th>\n",
       "      <td>1.997796</td>\n",
       "      <td>0.077452</td>\n",
       "      <td>19.015297</td>\n",
       "    </tr>\n",
       "    <tr>\n",
       "      <th>MAC002509</th>\n",
       "      <td>0.628286</td>\n",
       "      <td>0.051095</td>\n",
       "      <td>7.462581</td>\n",
       "    </tr>\n",
       "    <tr>\n",
       "      <th>MAC002510</th>\n",
       "      <td>2.144932</td>\n",
       "      <td>0.027697</td>\n",
       "      <td>12.070756</td>\n",
       "    </tr>\n",
       "    <tr>\n",
       "      <th>MAC002512</th>\n",
       "      <td>1.556296</td>\n",
       "      <td>0.121689</td>\n",
       "      <td>18.047101</td>\n",
       "    </tr>\n",
       "    <tr>\n",
       "      <th>MAC002513</th>\n",
       "      <td>0.806083</td>\n",
       "      <td>0.016887</td>\n",
       "      <td>4.796607</td>\n",
       "    </tr>\n",
       "    <tr>\n",
       "      <th>MAC002514</th>\n",
       "      <td>0.806902</td>\n",
       "      <td>0.033100</td>\n",
       "      <td>7.510262</td>\n",
       "    </tr>\n",
       "    <tr>\n",
       "      <th>MAC002517</th>\n",
       "      <td>1.050635</td>\n",
       "      <td>0.044790</td>\n",
       "      <td>11.447748</td>\n",
       "    </tr>\n",
       "    <tr>\n",
       "      <th>MAC002518</th>\n",
       "      <td>0.364883</td>\n",
       "      <td>0.032975</td>\n",
       "      <td>6.818670</td>\n",
       "    </tr>\n",
       "  </tbody>\n",
       "</table>\n",
       "</div>"
      ],
      "text/plain": [
       "           energy_max  energy_min  energy_sum\n",
       "LCLid                                        \n",
       "MAC000113    1.460573    0.157256   24.656976\n",
       "MAC000301    1.085894    0.027124    9.521648\n",
       "MAC000309    1.997796    0.077452   19.015297\n",
       "MAC002509    0.628286    0.051095    7.462581\n",
       "MAC002510    2.144932    0.027697   12.070756\n",
       "MAC002512    1.556296    0.121689   18.047101\n",
       "MAC002513    0.806083    0.016887    4.796607\n",
       "MAC002514    0.806902    0.033100    7.510262\n",
       "MAC002517    1.050635    0.044790   11.447748\n",
       "MAC002518    0.364883    0.032975    6.818670"
      ]
     },
     "execution_count": 110,
     "metadata": {},
     "output_type": "execute_result"
    }
   ],
   "source": [
    "contadores = londres[['LCLid','energy_max', 'energy_min', 'energy_sum']].groupby('LCLid').mean()\n",
    "contadores.head(10)"
   ]
  },
  {
   "cell_type": "markdown",
   "metadata": {},
   "source": [
    "Podemo hacer una gràfica de barras:"
   ]
  },
  {
   "cell_type": "code",
   "execution_count": 111,
   "metadata": {},
   "outputs": [
    {
     "data": {
      "text/plain": [
       "([0, 1, 2, 3, 4, 5, 6, 7, 8, 9], <a list of 10 Text major ticklabel objects>)"
      ]
     },
     "execution_count": 111,
     "metadata": {},
     "output_type": "execute_result"
    },
    {
     "data": {
      "image/png": "[encoded data removed]",
      "text/plain": [
       "<Figure size 1440x720 with 1 Axes>"
      ]
     },
     "metadata": {
      "needs_background": "light"
     },
     "output_type": "display_data"
    }
   ],
   "source": [
    "divisiones=contadores.index[:10]\n",
    "marcas=contadores['energy_max'][:10]\n",
    "\n",
    "plt.figure(figsize=(20,10))\n",
    "plt.bar(divisiones, marcas, color = 'blue')\n",
    "plt.xlabel('contador')\n",
    "plt.ylabel('Energía máxima')\n",
    "plt.xticks(rotation=45, ha='right')"
   ]
  },
  {
   "cell_type": "markdown",
   "metadata": {},
   "source": [
    "O en barras horizontales, usando `barh`:"
   ]
  },
  {
   "cell_type": "code",
   "execution_count": 112,
   "metadata": {},
   "outputs": [
    {
     "data": {
      "text/plain": [
       "Text(0.5, 0, 'Energía máxima')"
      ]
     },
     "execution_count": 112,
     "metadata": {},
     "output_type": "execute_result"
    },
    {
     "data": {
      "image/png": "[encoded data removed]",
      "text/plain": [
       "<Figure size 1440x720 with 1 Axes>"
      ]
     },
     "metadata": {
      "needs_background": "light"
     },
     "output_type": "display_data"
    }
   ],
   "source": [
    "divisiones=contadores.index[:10]\n",
    "marcas=contadores['energy_max'][:10]\n",
    "\n",
    "plt.figure(figsize=(20,10))\n",
    "plt.barh(divisiones, marcas, color = 'blue')\n",
    "plt.ylabel('Contador')\n",
    "plt.xlabel('Energía máxima')"
   ]
  },
  {
   "cell_type": "markdown",
   "metadata": {},
   "source": [
    "### 11.5 Histograma\n",
    "\n",
    "Veamos con un ejemplo como hacer un histograma:"
   ]
  },
  {
   "cell_type": "code",
   "execution_count": 9,
   "metadata": {},
   "outputs": [
    {
     "data": {
      "text/plain": [
       "(array([ 6.,  4.,  5.,  7.,  8., 12.,  7., 16., 12.]),\n",
       " array([1.        , 1.88888889, 2.77777778, 3.66666667, 4.55555556,\n",
       "        5.44444444, 6.33333333, 7.22222222, 8.11111111, 9.        ]),\n",
       " <a list of 9 Patch objects>)"
      ]
     },
     "execution_count": 9,
     "metadata": {},
     "output_type": "execute_result"
    },
    {
     "data": {
      "image/png": "[encoded data removed]",
      "text/plain": [
       "<Figure size 432x288 with 1 Axes>"
      ]
     },
     "metadata": {
      "needs_background": "light"
     },
     "output_type": "display_data"
    }
   ],
   "source": [
    "plt.hist([1,5,8,7,4,1,2,4,3,6,5,4,6,3,2,3,6,9,8,5,4,1,6,9,8,7,8,8,8,7,4,7,8,8,9,9,8,7,8,9,6,9,8,7,8,9,6,6,3,2,9,8,1,9,4,1,5,6,5,6,9,6,5,8,5,6,9,6,3,2,1,4,5,8,7,8,9],9)\n",
    "\n"
   ]
  },
  {
   "cell_type": "code",
   "execution_count": null,
   "metadata": {},
   "outputs": [],
   "source": [
    "## Ejercicio\n",
    "## Generar un histograma de la energía maxima del contador MAC000113\n",
    "\n",
    "#dataset londres filtrando solo un LCLid del MAC000113\n",
    "contador_113=\n",
    "#energía màxima de este contador\n",
    "e_max_113=\n",
    "#plot\n"
   ]
  }
 ],
 "metadata": {
  "kernelspec": {
   "display_name": "Python 3",
   "language": "python",
   "name": "python3"
  },
  "language_info": {
   "codemirror_mode": {
    "name": "ipython",
    "version": 3
   },
   "file_extension": ".py",
   "mimetype": "text/x-python",
   "name": "python",
   "nbconvert_exporter": "python",
   "pygments_lexer": "ipython3",
   "version": "3.7.7"
  },
  "widgets": {
   "state": {},
   "version": "1.1.1"
  }
 },
 "nbformat": 4,
 "nbformat_minor": 1
}
