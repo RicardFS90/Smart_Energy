{
 "cells": [
  {
   "cell_type": "markdown",
   "metadata": {
    "slideshow": {
     "slide_type": "slide"
    }
   },
   "source": [
    "# Curso de introducción a Python    "
   ]
  },
  {
   "cell_type": "markdown",
   "metadata": {},
   "source": [
    "1. Introducción a Jupyter Notebooks\n",
    "2. Variables y estructuras de datos\n",
    "3. Listas y loops\n",
    "4. Estructuras condicionales\n",
    "5. Diccionarios y tablas de frecuencia\n",
    "6. Funciones\n",
    "7. Funciones avanzadas\n",
    "8. Lenguaje orientado a objetos\n",
    "9. Introducción a NumPy\n",
    "10. Introducción a Pandas\n",
    "11. Creación de gráficos y visualización"
   ]
  },
  {
   "cell_type": "markdown",
   "metadata": {},
   "source": [
    "## 1. Jupyter Notebooks\n",
    "\n",
    "<img src=\"Figures/Jupyter.png\" alt=\"Drawing\" style=\"width: 200px;\"/>\n",
    "\n",
    "Jupyter notebooks es un entorno (IDE) que nos permite intercalar contenido de texto (se llamará cela 'Markdown') con código Python (tipo de cela 'Code') que se puede ejecutar cela por cela como se puede ver en los siguientes ejemplos. \n",
    "\n",
    "Los comando básicos para poder seguir este curso y empezar a usar Jupyter Notebooks son:\n",
    "* `Shift+Enter`: Ejecutar cela y seleccionar siguiente cela\n",
    "* `Alt+Enter`: Ejecutar cela y insertar una cela nueva\n",
    "* `ESC`: para entrar en modo 'command'. Una vez en este modo:\n",
    "    * `H` lista de comandos\n",
    "    * `A` insertar cela debajo\n",
    "    * `B` insterar cela arriba\n",
    "    * `D,D` D dos veces eleimina la cela\n",
    "    * `Y` cambiar cela a tipo 'Code'\n",
    "    * `M` cambiar cela a 'Markdown'\n",
    "    * `Enter`pasar a modo edit"
   ]
  },
  {
   "cell_type": "markdown",
   "metadata": {},
   "source": [
    "#### Ejecutar la cela de debajo usando alguno de los comandos aprendidos"
   ]
  },
  {
   "cell_type": "code",
   "execution_count": 9,
   "metadata": {},
   "outputs": [
    {
     "name": "stdout",
     "output_type": "stream",
     "text": [
      "El resultado de sumar 87 y 34 es 121.\n"
     ]
    }
   ],
   "source": [
    "# Ejemplo de código en Python. \n",
    "# Cambiar los valores de a y b, y observar el resultado al ejecutar la cela \n",
    "a=87\n",
    "b=34\n",
    "c=a+b\n",
    "print('El resultado de sumar {} y {} es {}.'.format(a,b,c))"
   ]
  },
  {
   "cell_type": "markdown",
   "metadata": {},
   "source": [
    "## 2. Variables y estructuras de datos\n",
    "\n",
    "En Python no hace falta declarar las variables. Cada vez que se crea o modifica una variable él mimso interpreta qué tipo de variable es. Los posibles tipos de variables que se pueden encontrar son:\n",
    "* **Numericas**\n",
    "    * **Integer (int):** Números naturales positivos y negativos.\n",
    "    * **Float:** Números reales.\n",
    "    * **Complex:** Números complejos. La parte imaginaria se multiplica por `j` para representar la raíz de `-1`\n",
    "* **Boleanas**\n",
    "    Son variables que pueden tomar como valor cierto o falso, representados en Python por `True` y `False` usando mayúsculas.\n",
    "* **Estructuras de datos (secuencias de datos)**\n",
    "    Lista ordenada de valores del mismo o distinto tipo. en Python exizten:\n",
    "    * **String**\n",
    "    * **Lista**    \n",
    "    * **Tuple** \n",
    "    * **Diccionario**    "
   ]
  },
  {
   "cell_type": "code",
   "execution_count": 12,
   "metadata": {},
   "outputs": [
    {
     "data": {
      "text/plain": [
       "int"
      ]
     },
     "execution_count": 12,
     "metadata": {},
     "output_type": "execute_result"
    }
   ],
   "source": [
    "# Declarar una variable a y mirar qué tipo de variable es\n",
    "\n",
    "a=2\n",
    "type(a)"
   ]
  },
  {
   "cell_type": "code",
   "execution_count": 14,
   "metadata": {},
   "outputs": [
    {
     "data": {
      "text/plain": [
       "float"
      ]
     },
     "execution_count": 14,
     "metadata": {},
     "output_type": "execute_result"
    }
   ],
   "source": [
    "# Probar de declarar otro tipo de variable y mirar qué tipo es\n",
    "\n",
    "a=2.0\n",
    "type(a)"
   ]
  },
  {
   "cell_type": "markdown",
   "metadata": {},
   "source": [
    "## 3. Listas y loops"
   ]
  },
  {
   "cell_type": "markdown",
   "metadata": {},
   "source": [
    "## 4. Estructuras Condicionales"
   ]
  },
  {
   "cell_type": "markdown",
   "metadata": {},
   "source": [
    "## 5. Diccionarios y tablas de frecuencia"
   ]
  },
  {
   "cell_type": "markdown",
   "metadata": {},
   "source": []
  },
  {
   "cell_type": "markdown",
   "metadata": {},
   "source": []
  },
  {
   "cell_type": "markdown",
   "metadata": {
    "slideshow": {
     "slide_type": "slide"
    }
   },
   "source": [
    "## Python\n",
    "\n",
    "Once you have IPython installed, you are ready to perform all sorts of operations. \n",
    "\n",
    "The software program that you use to invoke operators is called an **interpreter**. You enter your commands as a ‘dialog’ between you and the interpreter. Commands can be entered as part of a script (a text file with a list of commands to perform) or directly at the *cell*. \n",
    "\n",
    "In order to ask to the interpreter what to do, you must **invoke** an operator:"
   ]
  },
  {
   "cell_type": "code",
   "execution_count": 16,
   "metadata": {
    "slideshow": {
     "slide_type": "subslide"
    }
   },
   "outputs": [
    {
     "data": {
      "text/plain": [
       "16"
      ]
     },
     "execution_count": 16,
     "metadata": {},
     "output_type": "execute_result"
    }
   ],
   "source": [
    "3 + 4 + 9"
   ]
  },
  {
   "cell_type": "code",
   "execution_count": 18,
   "metadata": {
    "slideshow": {
     "slide_type": "slide"
    }
   },
   "outputs": [
    {
     "data": {
      "text/plain": [
       "[0, 1, 2, 3, 4, 5, 6, 7, 8, 9]"
      ]
     },
     "execution_count": 18,
     "metadata": {},
     "output_type": "execute_result"
    }
   ],
   "source": [
    "list(range(10))"
   ]
  },
  {
   "cell_type": "markdown",
   "metadata": {
    "slideshow": {
     "slide_type": "slide"
    }
   },
   "source": [
    "It’s helpful to think of the computation carried out by an operator as involving four parts:\n",
    "\n",
    "+ The name of the operator\n",
    "+ The input arguments\n",
    "+ The output value\n",
    "+ Side effects\n",
    "\n",
    "A typical operation takes one or more input arguments and uses the information in these to produce an output value. Along the way, the computer might take some action: display a graph, store a file, make a sound, etc. These actions are called side effects."
   ]
  },
  {
   "cell_type": "markdown",
   "metadata": {},
   "source": [
    "## Modules\n",
    "\n",
    "Python is a general-purpose programming language, so when we want to use more specific commands (such as statistical operators or string processing oeprators) we usually need to import them before we can use them. For Scientific Python, one of the most important libraries that we need is **numpy** (Numerical Python), which can be loaded like this:"
   ]
  },
  {
   "cell_type": "code",
   "execution_count": 25,
   "metadata": {},
   "outputs": [
    {
     "data": {
      "text/plain": [
       "5.0"
      ]
     },
     "execution_count": 25,
     "metadata": {},
     "output_type": "execute_result"
    }
   ],
   "source": [
    "import numpy as np\n",
    "np.sqrt(25)"
   ]
  },
  {
   "cell_type": "code",
   "execution_count": 26,
   "metadata": {},
   "outputs": [
    {
     "data": {
      "text/plain": [
       "array([0, 1, 2, 3, 4, 5, 6, 7, 8, 9])"
      ]
     },
     "execution_count": 26,
     "metadata": {},
     "output_type": "execute_result"
    }
   ],
   "source": [
    "np.arange(10)"
   ]
  },
  {
   "cell_type": "markdown",
   "metadata": {},
   "source": [
    "Access to the functions, variables and classes of a module depends on the way the module was imported:"
   ]
  },
  {
   "cell_type": "code",
   "execution_count": 27,
   "metadata": {},
   "outputs": [
    {
     "data": {
      "text/plain": [
       "-1.0"
      ]
     },
     "execution_count": 27,
     "metadata": {},
     "output_type": "execute_result"
    }
   ],
   "source": [
    "import math\n",
    "math.cos(math.pi)"
   ]
  },
  {
   "cell_type": "code",
   "execution_count": 29,
   "metadata": {},
   "outputs": [
    {
     "data": {
      "text/plain": [
       "-1.0"
      ]
     },
     "execution_count": 29,
     "metadata": {},
     "output_type": "execute_result"
    }
   ],
   "source": [
    "import math as m  # import using an alias\n",
    "m.cos(m.pi)"
   ]
  },
  {
   "cell_type": "code",
   "execution_count": 30,
   "metadata": {},
   "outputs": [
    {
     "data": {
      "text/plain": [
       "-1.0"
      ]
     },
     "execution_count": 30,
     "metadata": {},
     "output_type": "execute_result"
    }
   ],
   "source": [
    "from math import cos,pi # import only some functions\n",
    "cos(pi)"
   ]
  },
  {
   "cell_type": "code",
   "execution_count": 32,
   "metadata": {},
   "outputs": [
    {
     "data": {
      "text/plain": [
       "-1.0"
      ]
     },
     "execution_count": 32,
     "metadata": {},
     "output_type": "execute_result"
    }
   ],
   "source": [
    "from math import *   # global import\n",
    "cos(pi)"
   ]
  },
  {
   "cell_type": "markdown",
   "metadata": {},
   "source": [
    "## Variables\n",
    "Often the value returned by an operation will be used later on. Values can be stored for later use with the **assignment operator**:"
   ]
  },
  {
   "cell_type": "code",
   "execution_count": 37,
   "metadata": {},
   "outputs": [
    {
     "data": {
      "text/plain": [
       "int"
      ]
     },
     "execution_count": 37,
     "metadata": {},
     "output_type": "execute_result"
    }
   ],
   "source": [
    "a = 101\n",
    "type(a)"
   ]
  },
  {
   "cell_type": "markdown",
   "metadata": {},
   "source": [
    "The command has stored the value 101 under the name <code>a</code>. Such stored values are called **objects**. \n",
    "\n",
    "Making an assignment to an object defines the object. Once an object has been defined, it can be referred to and used in later computations. \n",
    "\n",
    "To refer to the value stored in the object, just use the object’s name itself. For instance:"
   ]
  },
  {
   "cell_type": "code",
   "execution_count": 39,
   "metadata": {},
   "outputs": [
    {
     "data": {
      "text/plain": [
       "numpy.float64"
      ]
     },
     "execution_count": 39,
     "metadata": {},
     "output_type": "execute_result"
    }
   ],
   "source": [
    "a = np.sqrt(a)\n",
    "a\n",
    "type(a)"
   ]
  },
  {
   "cell_type": "markdown",
   "metadata": {},
   "source": [
    "There are some general rules for object names:\n",
    "\n",
    "+ Use only letters and numbers and ‘underscores’ (_)\n",
    "+ Do NOT use spaces anywhere in the name\n",
    "+ A number cannot be the first character in the name\n",
    "+ Capital letters are treated as distinct from lower-case letters (i.e., Python is case-sensitive)"
   ]
  },
  {
   "cell_type": "code",
   "execution_count": 40,
   "metadata": {},
   "outputs": [
    {
     "ename": "SyntaxError",
     "evalue": "invalid syntax (<ipython-input-40-f986eee6e224>, line 1)",
     "output_type": "error",
     "traceback": [
      "\u001b[0;36m  File \u001b[0;32m\"<ipython-input-40-f986eee6e224>\"\u001b[0;36m, line \u001b[0;32m1\u001b[0m\n\u001b[0;31m    3a = 10\u001b[0m\n\u001b[0m     ^\u001b[0m\n\u001b[0;31mSyntaxError\u001b[0m\u001b[0;31m:\u001b[0m invalid syntax\n"
     ]
    }
   ],
   "source": [
    "3a = 10"
   ]
  },
  {
   "cell_type": "markdown",
   "metadata": {},
   "source": [
    "## Dynamic Typing\n",
    "\n",
    "When you assign a new value to an existing object (*dynamic typing*), the former values of that object is erased from the computer memory. The former value of b was 10.0498756211, but after a new assignment:"
   ]
  },
  {
   "cell_type": "code",
   "execution_count": 41,
   "metadata": {},
   "outputs": [
    {
     "name": "stdout",
     "output_type": "stream",
     "text": [
      "a\n"
     ]
    }
   ],
   "source": [
    "b = 'a'\n",
    "print(b)"
   ]
  },
  {
   "cell_type": "markdown",
   "metadata": {},
   "source": [
    "The value of an object is changed only via the assignment operator. Using an object in a computation does not change the value. "
   ]
  },
  {
   "cell_type": "markdown",
   "metadata": {},
   "source": [
    "The brilliant thing about organizing operators in terms of input arguments and output values is that the output of one operator can be used as an input to another. This lets complicated computations be built out of simpler ones.\n",
    "\n",
    "One way to connect the computations is by using objects to store the intermediate outputs:"
   ]
  },
  {
   "cell_type": "code",
   "execution_count": 42,
   "metadata": {},
   "outputs": [
    {
     "data": {
      "text/plain": [
       "array([0.        , 1.        , 1.41421356, 1.73205081, 2.        ])"
      ]
     },
     "execution_count": 42,
     "metadata": {},
     "output_type": "execute_result"
    }
   ],
   "source": [
    "a = np.arange(5)\n",
    "np.sqrt(a)"
   ]
  },
  {
   "cell_type": "markdown",
   "metadata": {},
   "source": [
    "You can also pass the output of an operator directly as an argument to another operator:"
   ]
  },
  {
   "cell_type": "code",
   "execution_count": 15,
   "metadata": {},
   "outputs": [
    {
     "data": {
      "text/plain": [
       "array([0.        , 1.        , 1.41421356, 1.73205081, 2.        ])"
      ]
     },
     "execution_count": 15,
     "metadata": {},
     "output_type": "execute_result"
    }
   ],
   "source": [
    "np.sqrt(np.arange(5))"
   ]
  },
  {
   "cell_type": "markdown",
   "metadata": {},
   "source": [
    "### Data Types\n",
    "\n",
    "Most of the examples used so far have dealt with numbers. But computers work with other kinds of information as well: text, photographs, sounds, sets of data, and so on. The word *type* is used to refer to the kind of information. \n",
    "\n",
    "It’s important to know about the types of data because operators expect their input arguments to be of specific types. When you use the wrong type of input, the computer might not be able to process your command."
   ]
  },
  {
   "cell_type": "markdown",
   "metadata": {},
   "source": [
    "For our purposes, it’s important to distinguish among several basic types:\n",
    "\n",
    "+ Numeric (positive and negative) data: \n",
    "    + decimal and fractional numbers (**floats**), <code>a = 3.5</code>\n",
    "    + arbitrary length whole numbers (**ints**):  <code>c=1809109863596239561236235625629561</code>\n",
    "+ **Strings** of textual data - you indicate string data to the computer by enclosing the text in quotation marks (e.g., <code>name = \"python\"</code>).\n",
    "+ **Boolean** data: <code>a = True</code> or <code>a = False</code>.\n",
    "+ **Complex** numbers: <code>a = 2+3j</code>\n",
    "+ Sequence types: **tuples, lists, sets, dictionaries** and **files**."
   ]
  },
  {
   "cell_type": "code",
   "execution_count": 59,
   "metadata": {},
   "outputs": [
    {
     "data": {
      "text/plain": [
       "bool"
      ]
     },
     "execution_count": 59,
     "metadata": {},
     "output_type": "execute_result"
    }
   ],
   "source": [
    "a = True\n",
    "type(a)"
   ]
  },
  {
   "cell_type": "code",
   "execution_count": 56,
   "metadata": {},
   "outputs": [
    {
     "name": "stdout",
     "output_type": "stream",
     "text": [
      "a\n"
     ]
    }
   ],
   "source": [
    "a = 'a'\n",
    "print(a)"
   ]
  },
  {
   "cell_type": "markdown",
   "metadata": {},
   "source": [
    "## Operators\n",
    "\n",
    "+ Addition (also string, tuple and list concatenation) <code>a + b</code>\n",
    "+ Subtraction (also set difference): <code>a - b</code>\n",
    "+ Multiplication (also string, tuple and list replication): <code>a * b</code>\n",
    "+ Division: <code>a / b</code>\n",
    "+ Truncated integer division (rounded towards minus infinity): <code>a // b</code>\n",
    "+ Modulus or remainder: <code>a % b</code>\n",
    "+ Exponentiation: <code>a ** b</code>\n",
    "+ Assignment: <code>=</code>, <code>-=</code>, <code>+=</code>,<code>/=</code>,<code>*=</code>, <code>%=</code>, <code>//=</code>, <code>**=</code>\n",
    "+ Boolean comparisons: <code>==</code>, <code>!=</code>, <code><</code>,<code>></code>,<code><=</code>, <code>>=</code>\n",
    "+ Boolean operators: <code>and</code>, <code>or</code>, <code>not</code>\n",
    "+ Membership test operators: <code>in</code>, <code>not in</code>\n",
    "+ Object identity operators: <code>is</code>, <code>is not</code>\n",
    "+ Bitwise operators (or, xor, and, complement): <code>|</code>, <code>^</code>, <code>&</code>, <code>~</code>\n",
    "+ Left and right bit shift: <code><<</code>, <code>>></code>"
   ]
  },
  {
   "cell_type": "markdown",
   "metadata": {},
   "source": [
    "### Python as a calculator\n",
    "\n",
    "The Python language has a concise notation for arithmetic that looks very much like the traditional one."
   ]
  },
  {
   "cell_type": "code",
   "execution_count": 61,
   "metadata": {},
   "outputs": [
    {
     "name": "stdout",
     "output_type": "stream",
     "text": [
      "5 -28.0 1.6666666666666667 1.6666666666666667\n"
     ]
    }
   ],
   "source": [
    "a = 3+2\n",
    "b= 3.5 * -8\n",
    "c = 10/6\n",
    "print(a, b, c, 10./6.)"
   ]
  },
  {
   "cell_type": "markdown",
   "metadata": {},
   "source": [
    "Some math functions are not available in the basic Python module, and they need to be imported from a specific module:"
   ]
  },
  {
   "cell_type": "code",
   "execution_count": 62,
   "metadata": {},
   "outputs": [
    {
     "name": "stdout",
     "output_type": "stream",
     "text": [
      "5.635227012480034\n"
     ]
    }
   ],
   "source": [
    "import math   # this instruction is not executed if the module has already been imported\n",
    "print(math.pi + math.sin(100) + math.ceil(2.3))"
   ]
  },
  {
   "cell_type": "markdown",
   "metadata": {},
   "source": [
    "### String processing with Python\n",
    "\n",
    "Strings are list of characters:"
   ]
  },
  {
   "cell_type": "code",
   "execution_count": 63,
   "metadata": {},
   "outputs": [
    {
     "data": {
      "text/plain": [
       "str"
      ]
     },
     "execution_count": 63,
     "metadata": {},
     "output_type": "execute_result"
    }
   ],
   "source": [
    "a = 'python'\n",
    "type(a)"
   ]
  },
  {
   "cell_type": "code",
   "execution_count": 76,
   "metadata": {},
   "outputs": [
    {
     "name": "stdout",
     "output_type": "stream",
     "text": [
      "Hello\n"
     ]
    }
   ],
   "source": [
    "print(\"Hello\" )"
   ]
  },
  {
   "cell_type": "code",
   "execution_count": 77,
   "metadata": {},
   "outputs": [
    {
     "name": "stdout",
     "output_type": "stream",
     "text": [
      "This is 'an example' of the use of quotes and double quotes\n",
      "This is \"another example\" of the use of quotes and double quotes\n"
     ]
    }
   ],
   "source": [
    "print(\"This is 'an example' of the use of quotes and double quotes\")\n",
    "print('This is \"another example\" of the use of quotes and double quotes')"
   ]
  },
  {
   "cell_type": "markdown",
   "metadata": {},
   "source": [
    "We can use the operator ``+`` to concatenate strings:"
   ]
  },
  {
   "cell_type": "code",
   "execution_count": 81,
   "metadata": {},
   "outputs": [
    {
     "name": "stdout",
     "output_type": "stream",
     "text": [
      "Hello!\n"
     ]
    }
   ],
   "source": [
    "a = 'He'\n",
    "b = 'llo'\n",
    "c = a+b+'!'\n",
    "print(c)"
   ]
  },
  {
   "cell_type": "markdown",
   "metadata": {},
   "source": [
    "Substrings within a string can be accessed using **slicing**. Slicing uses ``[]`` to contain the indices of the characters in a string, where the first index is $0$, and the last is $n - 1$ (assuming the string has $n$ characters). "
   ]
  },
  {
   "cell_type": "code",
   "execution_count": 90,
   "metadata": {},
   "outputs": [
    {
     "name": "stdout",
     "output_type": "stream",
     "text": [
      "Python P thon Pyt th Pto yhn\n"
     ]
    }
   ],
   "source": [
    "a = 'Python'\n",
    "print(a[:], a[0], a[2:], a[:3], a[2:4], a[::2], a[1::2])"
   ]
  },
  {
   "cell_type": "markdown",
   "metadata": {},
   "source": [
    "The most advanced string functions are stored in an external module called ``string``"
   ]
  },
  {
   "cell_type": "code",
   "execution_count": 34,
   "metadata": {},
   "outputs": [
    {
     "name": "stdout",
     "output_type": "stream",
     "text": [
      "Help on module string:\n",
      "\n",
      "NAME\n",
      "    string - A collection of string operations (most are no longer used).\n",
      "\n",
      "FILE\n",
      "    /Users/eloi/anaconda2/lib/python2.7/string.py\n",
      "\n",
      "MODULE DOCS\n",
      "    https://docs.python.org/library/string\n",
      "\n",
      "DESCRIPTION\n",
      "    Warning: most of the code you see here isn't normally used nowadays.\n",
      "    Beginning with Python 1.6, many of these functions are implemented as\n",
      "    methods on the standard string object. They used to be implemented by\n",
      "    a built-in module called strop, but strop is now obsolete itself.\n",
      "    \n",
      "    Public module variables:\n",
      "    \n",
      "    whitespace -- a string containing all characters considered whitespace\n",
      "    lowercase -- a string containing all characters considered lowercase letters\n",
      "    uppercase -- a string containing all characters considered uppercase letters\n",
      "    letters -- a string containing all characters considered letters\n",
      "    digits -- a string containing all characters considered decimal digits\n",
      "    hexdigits -- a string containing all characters considered hexadecimal digits\n",
      "    octdigits -- a string containing all characters considered octal digits\n",
      "    punctuation -- a string containing all characters considered punctuation\n",
      "    printable -- a string containing all characters considered printable\n",
      "\n",
      "CLASSES\n",
      "    __builtin__.object\n",
      "        Formatter\n",
      "        Template\n",
      "    \n",
      "    class Formatter(__builtin__.object)\n",
      "     |  Methods defined here:\n",
      "     |  \n",
      "     |  check_unused_args(self, used_args, args, kwargs)\n",
      "     |  \n",
      "     |  convert_field(self, value, conversion)\n",
      "     |  \n",
      "     |  format(*args, **kwargs)\n",
      "     |  \n",
      "     |  format_field(self, value, format_spec)\n",
      "     |  \n",
      "     |  get_field(self, field_name, args, kwargs)\n",
      "     |      # given a field_name, find the object it references.\n",
      "     |      #  field_name:   the field being looked up, e.g. \"0.name\"\n",
      "     |      #                 or \"lookup[3]\"\n",
      "     |      #  used_args:    a set of which args have been used\n",
      "     |      #  args, kwargs: as passed in to vformat\n",
      "     |  \n",
      "     |  get_value(self, key, args, kwargs)\n",
      "     |  \n",
      "     |  parse(self, format_string)\n",
      "     |      # returns an iterable that contains tuples of the form:\n",
      "     |      # (literal_text, field_name, format_spec, conversion)\n",
      "     |      # literal_text can be zero length\n",
      "     |      # field_name can be None, in which case there's no\n",
      "     |      #  object to format and output\n",
      "     |      # if field_name is not None, it is looked up, formatted\n",
      "     |      #  with format_spec and conversion and then used\n",
      "     |  \n",
      "     |  vformat(self, format_string, args, kwargs)\n",
      "     |  \n",
      "     |  ----------------------------------------------------------------------\n",
      "     |  Data descriptors defined here:\n",
      "     |  \n",
      "     |  __dict__\n",
      "     |      dictionary for instance variables (if defined)\n",
      "     |  \n",
      "     |  __weakref__\n",
      "     |      list of weak references to the object (if defined)\n",
      "    \n",
      "    class Template(__builtin__.object)\n",
      "     |  A string class for supporting $-substitutions.\n",
      "     |  \n",
      "     |  Methods defined here:\n",
      "     |  \n",
      "     |  __init__(self, template)\n",
      "     |  \n",
      "     |  safe_substitute(*args, **kws)\n",
      "     |  \n",
      "     |  substitute(*args, **kws)\n",
      "     |  \n",
      "     |  ----------------------------------------------------------------------\n",
      "     |  Data descriptors defined here:\n",
      "     |  \n",
      "     |  __dict__\n",
      "     |      dictionary for instance variables (if defined)\n",
      "     |  \n",
      "     |  __weakref__\n",
      "     |      list of weak references to the object (if defined)\n",
      "     |  \n",
      "     |  ----------------------------------------------------------------------\n",
      "     |  Data and other attributes defined here:\n",
      "     |  \n",
      "     |  __metaclass__ = <class 'string._TemplateMetaclass'>\n",
      "     |  \n",
      "     |  \n",
      "     |  delimiter = '$'\n",
      "     |  \n",
      "     |  idpattern = '[_a-z][_a-z0-9]*'\n",
      "     |  \n",
      "     |  pattern = <_sre.SRE_Pattern object>\n",
      "\n",
      "FUNCTIONS\n",
      "    atof(s)\n",
      "        atof(s) -> float\n",
      "        \n",
      "        Return the floating point number represented by the string s.\n",
      "    \n",
      "    atoi(s, base=10)\n",
      "        atoi(s [,base]) -> int\n",
      "        \n",
      "        Return the integer represented by the string s in the given\n",
      "        base, which defaults to 10.  The string s must consist of one\n",
      "        or more digits, possibly preceded by a sign.  If base is 0, it\n",
      "        is chosen from the leading characters of s, 0 for octal, 0x or\n",
      "        0X for hexadecimal.  If base is 16, a preceding 0x or 0X is\n",
      "        accepted.\n",
      "    \n",
      "    atol(s, base=10)\n",
      "        atol(s [,base]) -> long\n",
      "        \n",
      "        Return the long integer represented by the string s in the\n",
      "        given base, which defaults to 10.  The string s must consist\n",
      "        of one or more digits, possibly preceded by a sign.  If base\n",
      "        is 0, it is chosen from the leading characters of s, 0 for\n",
      "        octal, 0x or 0X for hexadecimal.  If base is 16, a preceding\n",
      "        0x or 0X is accepted.  A trailing L or l is not accepted,\n",
      "        unless base is 0.\n",
      "    \n",
      "    capitalize(s)\n",
      "        capitalize(s) -> string\n",
      "        \n",
      "        Return a copy of the string s with only its first character\n",
      "        capitalized.\n",
      "    \n",
      "    capwords(s, sep=None)\n",
      "        capwords(s [,sep]) -> string\n",
      "        \n",
      "        Split the argument into words using split, capitalize each\n",
      "        word using capitalize, and join the capitalized words using\n",
      "        join.  If the optional second argument sep is absent or None,\n",
      "        runs of whitespace characters are replaced by a single space\n",
      "        and leading and trailing whitespace are removed, otherwise\n",
      "        sep is used to split and join the words.\n",
      "    \n",
      "    center(s, width, *args)\n",
      "        center(s, width[, fillchar]) -> string\n",
      "        \n",
      "        Return a center version of s, in a field of the specified\n",
      "        width. padded with spaces as needed.  The string is never\n",
      "        truncated.  If specified the fillchar is used instead of spaces.\n",
      "    \n",
      "    count(s, *args)\n",
      "        count(s, sub[, start[,end]]) -> int\n",
      "        \n",
      "        Return the number of occurrences of substring sub in string\n",
      "        s[start:end].  Optional arguments start and end are\n",
      "        interpreted as in slice notation.\n",
      "    \n",
      "    expandtabs(s, tabsize=8)\n",
      "        expandtabs(s [,tabsize]) -> string\n",
      "        \n",
      "        Return a copy of the string s with all tab characters replaced\n",
      "        by the appropriate number of spaces, depending on the current\n",
      "        column, and the tabsize (default 8).\n",
      "    \n",
      "    find(s, *args)\n",
      "        find(s, sub [,start [,end]]) -> in\n",
      "        \n",
      "        Return the lowest index in s where substring sub is found,\n",
      "        such that sub is contained within s[start,end].  Optional\n",
      "        arguments start and end are interpreted as in slice notation.\n",
      "        \n",
      "        Return -1 on failure.\n",
      "    \n",
      "    index(s, *args)\n",
      "        index(s, sub [,start [,end]]) -> int\n",
      "        \n",
      "        Like find but raises ValueError when the substring is not found.\n",
      "    \n",
      "    join(words, sep=' ')\n",
      "        join(list [,sep]) -> string\n",
      "        \n",
      "        Return a string composed of the words in list, with\n",
      "        intervening occurrences of sep.  The default separator is a\n",
      "        single space.\n",
      "        \n",
      "        (joinfields and join are synonymous)\n",
      "    \n",
      "    joinfields = join(words, sep=' ')\n",
      "        join(list [,sep]) -> string\n",
      "        \n",
      "        Return a string composed of the words in list, with\n",
      "        intervening occurrences of sep.  The default separator is a\n",
      "        single space.\n",
      "        \n",
      "        (joinfields and join are synonymous)\n",
      "    \n",
      "    ljust(s, width, *args)\n",
      "        ljust(s, width[, fillchar]) -> string\n",
      "        \n",
      "        Return a left-justified version of s, in a field of the\n",
      "        specified width, padded with spaces as needed.  The string is\n",
      "        never truncated.  If specified the fillchar is used instead of spaces.\n",
      "    \n",
      "    lower(s)\n",
      "        lower(s) -> string\n",
      "        \n",
      "        Return a copy of the string s converted to lowercase.\n",
      "    \n",
      "    lstrip(s, chars=None)\n",
      "        lstrip(s [,chars]) -> string\n",
      "        \n",
      "        Return a copy of the string s with leading whitespace removed.\n",
      "        If chars is given and not None, remove characters in chars instead.\n",
      "    \n",
      "    maketrans(...)\n",
      "        maketrans(frm, to) -> string\n",
      "        \n",
      "        Return a translation table (a string of 256 bytes long)\n",
      "        suitable for use in string.translate.  The strings frm and to\n",
      "        must be of the same length.\n",
      "    \n",
      "    replace(s, old, new, maxreplace=-1)\n",
      "        replace (str, old, new[, maxreplace]) -> string\n",
      "        \n",
      "        Return a copy of string str with all occurrences of substring\n",
      "        old replaced by new. If the optional argument maxreplace is\n",
      "        given, only the first maxreplace occurrences are replaced.\n",
      "    \n",
      "    rfind(s, *args)\n",
      "        rfind(s, sub [,start [,end]]) -> int\n",
      "        \n",
      "        Return the highest index in s where substring sub is found,\n",
      "        such that sub is contained within s[start,end].  Optional\n",
      "        arguments start and end are interpreted as in slice notation.\n",
      "        \n",
      "        Return -1 on failure.\n",
      "    \n",
      "    rindex(s, *args)\n",
      "        rindex(s, sub [,start [,end]]) -> int\n",
      "        \n",
      "        Like rfind but raises ValueError when the substring is not found.\n",
      "    \n",
      "    rjust(s, width, *args)\n",
      "        rjust(s, width[, fillchar]) -> string\n",
      "        \n",
      "        Return a right-justified version of s, in a field of the\n",
      "        specified width, padded with spaces as needed.  The string is\n",
      "        never truncated.  If specified the fillchar is used instead of spaces.\n",
      "    \n",
      "    rsplit(s, sep=None, maxsplit=-1)\n",
      "        rsplit(s [,sep [,maxsplit]]) -> list of strings\n",
      "        \n",
      "        Return a list of the words in the string s, using sep as the\n",
      "        delimiter string, starting at the end of the string and working\n",
      "        to the front.  If maxsplit is given, at most maxsplit splits are\n",
      "        done. If sep is not specified or is None, any whitespace string\n",
      "        is a separator.\n",
      "    \n",
      "    rstrip(s, chars=None)\n",
      "        rstrip(s [,chars]) -> string\n",
      "        \n",
      "        Return a copy of the string s with trailing whitespace removed.\n",
      "        If chars is given and not None, remove characters in chars instead.\n",
      "    \n",
      "    split(s, sep=None, maxsplit=-1)\n",
      "        split(s [,sep [,maxsplit]]) -> list of strings\n",
      "        \n",
      "        Return a list of the words in the string s, using sep as the\n",
      "        delimiter string.  If maxsplit is given, splits at no more than\n",
      "        maxsplit places (resulting in at most maxsplit+1 words).  If sep\n",
      "        is not specified or is None, any whitespace string is a separator.\n",
      "        \n",
      "        (split and splitfields are synonymous)\n",
      "    \n",
      "    splitfields = split(s, sep=None, maxsplit=-1)\n",
      "        split(s [,sep [,maxsplit]]) -> list of strings\n",
      "        \n",
      "        Return a list of the words in the string s, using sep as the\n",
      "        delimiter string.  If maxsplit is given, splits at no more than\n",
      "        maxsplit places (resulting in at most maxsplit+1 words).  If sep\n",
      "        is not specified or is None, any whitespace string is a separator.\n",
      "        \n",
      "        (split and splitfields are synonymous)\n",
      "    \n",
      "    strip(s, chars=None)\n",
      "        strip(s [,chars]) -> string\n",
      "        \n",
      "        Return a copy of the string s with leading and trailing\n",
      "        whitespace removed.\n",
      "        If chars is given and not None, remove characters in chars instead.\n",
      "        If chars is unicode, S will be converted to unicode before stripping.\n",
      "    \n",
      "    swapcase(s)\n",
      "        swapcase(s) -> string\n",
      "        \n",
      "        Return a copy of the string s with upper case characters\n",
      "        converted to lowercase and vice versa.\n",
      "    \n",
      "    translate(s, table, deletions='')\n",
      "        translate(s,table [,deletions]) -> string\n",
      "        \n",
      "        Return a copy of the string s, where all characters occurring\n",
      "        in the optional argument deletions are removed, and the\n",
      "        remaining characters have been mapped through the given\n",
      "        translation table, which must be a string of length 256.  The\n",
      "        deletions argument is not allowed for Unicode strings.\n",
      "    \n",
      "    upper(s)\n",
      "        upper(s) -> string\n",
      "        \n",
      "        Return a copy of the string s converted to uppercase.\n",
      "    \n",
      "    zfill(x, width)\n",
      "        zfill(x, width) -> string\n",
      "        \n",
      "        Pad a numeric string x with zeros on the left, to fill a field\n",
      "        of the specified width.  The string x is never truncated.\n",
      "\n",
      "DATA\n",
      "    ascii_letters = 'abcdefghijklmnopqrstuvwxyzABCDEFGHIJKLMNOPQRSTUVWXYZ'\n",
      "    ascii_lowercase = 'abcdefghijklmnopqrstuvwxyz'\n",
      "    ascii_uppercase = 'ABCDEFGHIJKLMNOPQRSTUVWXYZ'\n",
      "    digits = '0123456789'\n",
      "    hexdigits = '0123456789abcdefABCDEF'\n",
      "    letters = 'ABCDEFGHIJKLMNOPQRSTUVWXYZabcdefghijklmnopqrstuvwxyz'\n",
      "    lowercase = 'abcdefghijklmnopqrstuvwxyz'\n",
      "    octdigits = '01234567'\n",
      "    printable = '0123456789abcdefghijklmnopqrstuvwxyzABCDEFGHIJKLMNOPQRSTU...\n",
      "    punctuation = '!\"#$%&\\'()*+,-./:;<=>?@[\\\\]^_`{|}~'\n",
      "    uppercase = 'ABCDEFGHIJKLMNOPQRSTUVWXYZ'\n",
      "    whitespace = '\\t\\n\\x0b\\x0c\\r '\n",
      "\n",
      "\n"
     ]
    }
   ],
   "source": [
    "import string as st\n",
    "help(st)"
   ]
  },
  {
   "cell_type": "code",
   "execution_count": 91,
   "metadata": {
    "collapsed": true
   },
   "outputs": [],
   "source": [
    "a = 'a'"
   ]
  },
  {
   "cell_type": "code",
   "execution_count": 37,
   "metadata": {
    "collapsed": true
   },
   "outputs": [],
   "source": [
    "# press tab for help after .\n",
    "a."
   ]
  },
  {
   "cell_type": "code",
   "execution_count": 92,
   "metadata": {},
   "outputs": [
    {
     "name": "stdout",
     "output_type": "stream",
     "text": [
      "hello\n"
     ]
    }
   ],
   "source": [
    "a='Hello'\n",
    "b = a.lower()\n",
    "print(b)"
   ]
  },
  {
   "cell_type": "code",
   "execution_count": 94,
   "metadata": {},
   "outputs": [
    {
     "name": "stdout",
     "output_type": "stream",
     "text": [
      "abcdefghijklmnopqrstuvwxyzABCDEFGHIJKLMNOPQRSTUVWXYZ\n"
     ]
    },
    {
     "data": {
      "text/plain": [
       "True"
      ]
     },
     "execution_count": 94,
     "metadata": {},
     "output_type": "execute_result"
    }
   ],
   "source": [
    "import string as st\n",
    "print(st.ascii_letters)\n",
    "'a' in st.ascii_letters"
   ]
  },
  {
   "cell_type": "markdown",
   "metadata": {},
   "source": [
    "### Conditionals\n",
    "\n",
    "The conditional structure in Python is **<code>If</code>**. It is usally combined with \n",
    "relational operators: <code> <, <=, ==, >=, >, != </code>."
   ]
  },
  {
   "cell_type": "code",
   "execution_count": 95,
   "metadata": {},
   "outputs": [
    {
     "name": "stdout",
     "output_type": "stream",
     "text": [
      "The temperature in Fahrenheit is 95.0\n",
      "It's really hot out there.\n"
     ]
    }
   ],
   "source": [
    "def main(celsius):\n",
    "    fahrenheit = 9.0 /5.0 * celsius + 32\n",
    "    print(\"The temperature in Fahrenheit is\", fahrenheit)\n",
    "    if fahrenheit > 90:\n",
    "        print(\"It's really hot out there.\")\n",
    "    elif fahrenheit < 30:\n",
    "        print(\"It's really cold out there.\")\n",
    "    else: pass\n",
    "        \n",
    "main(35)"
   ]
  },
  {
   "cell_type": "markdown",
   "metadata": {},
   "source": [
    "### Boolean operators."
   ]
  },
  {
   "cell_type": "code",
   "execution_count": 96,
   "metadata": {},
   "outputs": [
    {
     "data": {
      "text/plain": [
       "True"
      ]
     },
     "execution_count": 96,
     "metadata": {},
     "output_type": "execute_result"
    }
   ],
   "source": [
    "a = 4\n",
    "b = 40\n",
    "(a>2) and (b>30)"
   ]
  },
  {
   "cell_type": "code",
   "execution_count": 97,
   "metadata": {},
   "outputs": [
    {
     "data": {
      "text/plain": [
       "True"
      ]
     },
     "execution_count": 97,
     "metadata": {},
     "output_type": "execute_result"
    }
   ],
   "source": [
    "(a>2) or (b>100)"
   ]
  },
  {
   "cell_type": "code",
   "execution_count": 98,
   "metadata": {},
   "outputs": [
    {
     "data": {
      "text/plain": [
       "False"
      ]
     },
     "execution_count": 98,
     "metadata": {},
     "output_type": "execute_result"
    }
   ],
   "source": [
    "not(a>2)"
   ]
  },
  {
   "cell_type": "markdown",
   "metadata": {},
   "source": [
    "### Loops\n",
    "\n",
    "* For\n",
    "* While"
   ]
  },
  {
   "cell_type": "code",
   "execution_count": 99,
   "metadata": {},
   "outputs": [
    {
     "name": "stdout",
     "output_type": "stream",
     "text": [
      "0\n",
      "1\n",
      "2\n",
      "3\n",
      "4\n",
      "5\n",
      "6\n",
      "7\n",
      "8\n",
      "9\n"
     ]
    }
   ],
   "source": [
    "for i in range(0,10,1):\n",
    "    print(i)"
   ]
  },
  {
   "cell_type": "code",
   "execution_count": 101,
   "metadata": {},
   "outputs": [
    {
     "name": "stdout",
     "output_type": "stream",
     "text": [
      "0\n",
      "1\n",
      "2\n",
      "3\n",
      "4\n",
      "5\n",
      "6\n",
      "7\n",
      "8\n",
      "9\n"
     ]
    }
   ],
   "source": [
    "i=0\n",
    "while i < 10 :\n",
    "    print(i)\n",
    "    i= i+1"
   ]
  },
  {
   "cell_type": "markdown",
   "metadata": {},
   "source": [
    "**``If``** statesments can be combined with **loops** (``for``, ``while``):"
   ]
  },
  {
   "cell_type": "code",
   "execution_count": 102,
   "metadata": {},
   "outputs": [
    {
     "name": "stdout",
     "output_type": "stream",
     "text": [
      "20\n"
     ]
    }
   ],
   "source": [
    "numbers = [-5, 3,2,-1,9,6]\n",
    "total = 0\n",
    "\n",
    "for n in numbers:\n",
    "    if n >= 0:\n",
    "        total += n\n",
    "\n",
    "print(total)"
   ]
  },
  {
   "cell_type": "code",
   "execution_count": 103,
   "metadata": {},
   "outputs": [
    {
     "data": {
      "text/plain": [
       "2.5"
      ]
     },
     "execution_count": 103,
     "metadata": {},
     "output_type": "execute_result"
    }
   ],
   "source": [
    "def average(a):\n",
    "    sum = 0.0\n",
    "    for i in a:\n",
    "        sum = sum + i\n",
    "    return sum/len(a)\n",
    "\n",
    "average([1,2,3,4])"
   ]
  },
  {
   "cell_type": "code",
   "execution_count": 104,
   "metadata": {},
   "outputs": [
    {
     "data": {
      "text/plain": [
       "3"
      ]
     },
     "execution_count": 104,
     "metadata": {},
     "output_type": "execute_result"
    }
   ],
   "source": [
    "def main(n):\n",
    "    cont = 0\n",
    "    while (int(n) > 0):\n",
    "        cont += 1\n",
    "        n = n/2\n",
    "#        print n\n",
    "    return cont-1\n",
    "\n",
    "main(10)\n",
    "# main(10.3)"
   ]
  },
  {
   "cell_type": "markdown",
   "metadata": {},
   "source": [
    "## Data Collections\n",
    "\n",
    "We need to represent data collections: words in a text, students in a course, experimental data, etc., or to store intermediate results. The most simple data collection is the <code>list</code> (an ordered sequence of objects):"
   ]
  },
  {
   "cell_type": "markdown",
   "metadata": {},
   "source": [
    "### Lists\n",
    "\n",
    "Lists are a built-in data type which require other data types to be useful. A list is a collection of other objects – floats, integers, complex numbers, strings or even other lists.\n",
    "\n",
    "Lists also support slicing to retrieve one or more elements. Basic lists are constructed using square braces, ``[]``, and values are separated using\n",
    "commas."
   ]
  },
  {
   "cell_type": "code",
   "execution_count": 105,
   "metadata": {},
   "outputs": [
    {
     "data": {
      "text/plain": [
       "list"
      ]
     },
     "execution_count": 105,
     "metadata": {},
     "output_type": "execute_result"
    }
   ],
   "source": [
    "l=[]\n",
    "type(l)"
   ]
  },
  {
   "cell_type": "code",
   "execution_count": 108,
   "metadata": {},
   "outputs": [
    {
     "name": "stdout",
     "output_type": "stream",
     "text": [
      "[[1, 2, 3, 4], 'jordi'] 1 jordi\n"
     ]
    }
   ],
   "source": [
    "x=[1,2,3,4,[1,2,3,4],'jordi']\n",
    "print(x[4:], x[0], x[5])"
   ]
  },
  {
   "cell_type": "code",
   "execution_count": 109,
   "metadata": {},
   "outputs": [
    {
     "data": {
      "text/plain": [
       "[[1, 2, 3, 4], 'jordi']"
      ]
     },
     "execution_count": 109,
     "metadata": {},
     "output_type": "execute_result"
    }
   ],
   "source": [
    "x[-2:]  # The stride can also be negative which can be used to select the\n",
    "        # elements of a list in reverse order."
   ]
  },
  {
   "cell_type": "markdown",
   "metadata": {},
   "source": [
    "Lists can be multidimensional and slicing can be done directly in higher dimensions:"
   ]
  },
  {
   "cell_type": "code",
   "execution_count": 110,
   "metadata": {},
   "outputs": [
    {
     "name": "stdout",
     "output_type": "stream",
     "text": [
      "[1, 2, 3, 4] 8\n"
     ]
    }
   ],
   "source": [
    "x = [[1,2,3,4], [5,6,7,8]]\n",
    "print(x[0], x[1][3])"
   ]
  },
  {
   "cell_type": "code",
   "execution_count": 115,
   "metadata": {},
   "outputs": [
    {
     "data": {
      "text/plain": [
       "[0, 1, 2, 3, 4, 5, 6, 7, 8, 9]"
      ]
     },
     "execution_count": 115,
     "metadata": {},
     "output_type": "execute_result"
    }
   ],
   "source": [
    "\n",
    "list(range(10))\n"
   ]
  },
  {
   "cell_type": "code",
   "execution_count": 117,
   "metadata": {},
   "outputs": [
    {
     "name": "stdout",
     "output_type": "stream",
     "text": [
      "['This', 'is', 'an', 'example']\n"
     ]
    }
   ],
   "source": [
    "b = \"This is an example\".split()\n",
    "print(b)"
   ]
  },
  {
   "cell_type": "markdown",
   "metadata": {},
   "source": [
    "A list is an *ordered, mutable and dynamic* collection of *non-homogeneous* objects:"
   ]
  },
  {
   "cell_type": "code",
   "execution_count": 118,
   "metadata": {},
   "outputs": [
    {
     "name": "stdout",
     "output_type": "stream",
     "text": [
      "[1, 7, 3, 4]\n"
     ]
    }
   ],
   "source": [
    "a = [1,2,3,4]\n",
    "a[1] = 7\n",
    "print(a)"
   ]
  },
  {
   "cell_type": "code",
   "execution_count": 119,
   "metadata": {},
   "outputs": [
    {
     "name": "stdout",
     "output_type": "stream",
     "text": [
      "[1, 7, 3, 4, 'This', 'is', 'an', 'example']\n"
     ]
    }
   ],
   "source": [
    "c = a + b\n",
    "print(c)"
   ]
  },
  {
   "cell_type": "code",
   "execution_count": 121,
   "metadata": {},
   "outputs": [
    {
     "name": "stdout",
     "output_type": "stream",
     "text": [
      "[0, 0, 0, 0, 0]\n"
     ]
    }
   ],
   "source": [
    "zeroes = [0] * 10\n",
    "del zeroes[5:]\n",
    "print(zeroes)"
   ]
  },
  {
   "cell_type": "code",
   "execution_count": 129,
   "metadata": {},
   "outputs": [
    {
     "name": "stdout",
     "output_type": "stream",
     "text": [
      "[0, 0, 0, 0, 0, 1]\n"
     ]
    }
   ],
   "source": [
    "zeroes.append(1)\n",
    "print(zeroes)"
   ]
  },
  {
   "cell_type": "code",
   "execution_count": 130,
   "metadata": {},
   "outputs": [
    {
     "name": "stdout",
     "output_type": "stream",
     "text": [
      "[0, 0, 0, 0, 0]\n"
     ]
    }
   ],
   "source": [
    "zeroes.remove(1)\n",
    "print(zeroes)"
   ]
  },
  {
   "cell_type": "code",
   "execution_count": 131,
   "metadata": {},
   "outputs": [
    {
     "name": "stdout",
     "output_type": "stream",
     "text": [
      "True\n"
     ]
    }
   ],
   "source": [
    "if 1 in zeroes:\n",
    "    print(False)\n",
    "else: \n",
    "    print(True)"
   ]
  },
  {
   "cell_type": "markdown",
   "metadata": {},
   "source": [
    "### Dictionaries\n",
    "\n",
    "A dictionary is a collection that allows the access of an *element* by using a *key*:"
   ]
  },
  {
   "cell_type": "code",
   "execution_count": 133,
   "metadata": {},
   "outputs": [
    {
     "data": {
      "text/plain": [
       "'D'"
      ]
     },
     "execution_count": 133,
     "metadata": {},
     "output_type": "execute_result"
    }
   ],
   "source": [
    "dict = {\"d\": \"D\", \"b\":\"B\", \"c\":\"C\"}\n",
    "dict[\"d\"]"
   ]
  },
  {
   "cell_type": "markdown",
   "metadata": {},
   "source": [
    "Dictionaries are *mutable, dynamic* and *unordered*:"
   ]
  },
  {
   "cell_type": "code",
   "execution_count": 134,
   "metadata": {},
   "outputs": [
    {
     "data": {
      "text/plain": [
       "{'d': 'D', 'b': 'B', 'c': 'C', 'a': 'A'}"
      ]
     },
     "execution_count": 134,
     "metadata": {},
     "output_type": "execute_result"
    }
   ],
   "source": [
    "dict[\"a\"]=\"A\"\n",
    "dict"
   ]
  },
  {
   "cell_type": "code",
   "execution_count": 135,
   "metadata": {},
   "outputs": [
    {
     "data": {
      "text/plain": [
       "True"
      ]
     },
     "execution_count": 135,
     "metadata": {},
     "output_type": "execute_result"
    }
   ],
   "source": [
    "\"a\" in dict"
   ]
  },
  {
   "cell_type": "code",
   "execution_count": 136,
   "metadata": {},
   "outputs": [
    {
     "name": "stdout",
     "output_type": "stream",
     "text": [
      "{'d': 'D', 'b': 'B', 'c': 'C'}\n"
     ]
    }
   ],
   "source": [
    "del dict[\"a\"]\n",
    "print(dict)"
   ]
  },
  {
   "cell_type": "code",
   "execution_count": 137,
   "metadata": {},
   "outputs": [
    {
     "data": {
      "text/plain": [
       "dict_items([('d', 'D'), ('b', 'B'), ('c', 'C')])"
      ]
     },
     "execution_count": 137,
     "metadata": {},
     "output_type": "execute_result"
    }
   ],
   "source": [
    "dict = {\"d\": \"D\", \"b\":\"B\", \"c\":\"C\"}\n",
    "dict.items()"
   ]
  },
  {
   "cell_type": "markdown",
   "metadata": {},
   "source": [
    "### Tuples\n",
    "\n",
    "Tuples are **non-mutable** lists:"
   ]
  },
  {
   "cell_type": "code",
   "execution_count": 139,
   "metadata": {},
   "outputs": [
    {
     "name": "stdout",
     "output_type": "stream",
     "text": [
      "<class 'tuple'> ('b', 'c')\n"
     ]
    }
   ],
   "source": [
    "tup = ('a', 'b', 'c')\n",
    "print(type(tup), tup[1:3])"
   ]
  },
  {
   "cell_type": "code",
   "execution_count": 140,
   "metadata": {},
   "outputs": [
    {
     "ename": "TypeError",
     "evalue": "'tuple' object does not support item assignment",
     "output_type": "error",
     "traceback": [
      "\u001b[0;31m---------------------------------------------------------------------------\u001b[0m",
      "\u001b[0;31mTypeError\u001b[0m                                 Traceback (most recent call last)",
      "\u001b[0;32m<ipython-input-140-e43c22bd0fba>\u001b[0m in \u001b[0;36m<module>\u001b[0;34m()\u001b[0m\n\u001b[0;32m----> 1\u001b[0;31m \u001b[0mtup\u001b[0m\u001b[0;34m[\u001b[0m\u001b[0;36m0\u001b[0m\u001b[0;34m]\u001b[0m\u001b[0;34m=\u001b[0m\u001b[0;34m'd'\u001b[0m\u001b[0;34m\u001b[0m\u001b[0;34m\u001b[0m\u001b[0m\n\u001b[0m",
      "\u001b[0;31mTypeError\u001b[0m: 'tuple' object does not support item assignment"
     ]
    }
   ],
   "source": [
    "tup[0]='d'"
   ]
  },
  {
   "cell_type": "markdown",
   "metadata": {},
   "source": [
    "## A program in Python\n",
    "\n",
    "General Rules:\n",
    "\n",
    "+ All text from a <code>#</code> simbol to the end of a line are considered as comments.\n",
    "+ Code must be **indented** and sometimes delineated by colons. The Python standard for indentation is four spaces. Never use tabs: it can produce hard to find errors. Set you editor to convert tabs to spaces.\n",
    "+ Typically, a statement must be on a line. You can use a backslash <code>\\</code> at the end of a line to continue a statement on to the next line.\n"
   ]
  },
  {
   "cell_type": "code",
   "execution_count": 19,
   "metadata": {},
   "outputs": [
    {
     "name": "stdout",
     "output_type": "stream",
     "text": [
      "93326215443944152681699238856266700490715968264381621468592963895217599993229915608941463976156518286253697920827223758251185210916864000000000000000000000000\n"
     ]
    }
   ],
   "source": [
    "# This program computes the factorial of 100.\n",
    "\n",
    "fact = 1\n",
    "n= 100\n",
    "for factor in range(n,0,-1):\n",
    "    fact = fact * factor \n",
    "print(fact)    "
   ]
  },
  {
   "cell_type": "code",
   "execution_count": 28,
   "metadata": {},
   "outputs": [
    {
     "data": {
      "text/plain": [
       "[10, 9, 8, 7, 6, 5, 4, 3, 2, 1]"
      ]
     },
     "execution_count": 28,
     "metadata": {},
     "output_type": "execute_result"
    }
   ],
   "source": [
    "list(range(10,0,-1))"
   ]
  },
  {
   "cell_type": "markdown",
   "metadata": {},
   "source": [
    "<div class=\"alert alert-error\"> When we write a colon at the end of an iteration, all lines indented at the next level are considered *part* of the iteration. \n",
    "\n",
    "When we write a line at the same indentation as the iteration, we are closing the iteration.</div>"
   ]
  },
  {
   "cell_type": "markdown",
   "metadata": {},
   "source": [
    "## References\n",
    "\n",
    "We can inspect the reference of an object:"
   ]
  },
  {
   "cell_type": "code",
   "execution_count": 141,
   "metadata": {},
   "outputs": [
    {
     "name": "stdout",
     "output_type": "stream",
     "text": [
      "4563005600\n"
     ]
    }
   ],
   "source": [
    "a ='hello'\n",
    "print(id(a))"
   ]
  },
  {
   "cell_type": "markdown",
   "metadata": {},
   "source": [
    "Two different objects:"
   ]
  },
  {
   "cell_type": "code",
   "execution_count": 142,
   "metadata": {},
   "outputs": [
    {
     "name": "stdout",
     "output_type": "stream",
     "text": [
      "4562913544 4562838856\n",
      "False\n",
      "True\n"
     ]
    }
   ],
   "source": [
    "a = [1,2,3]\n",
    "b = [1,2,3]\n",
    "print(id(a), id(b))\n",
    "print (a is b)\n",
    "print (a == b)"
   ]
  },
  {
   "cell_type": "markdown",
   "metadata": {},
   "source": [
    "Object alias:"
   ]
  },
  {
   "cell_type": "code",
   "execution_count": 143,
   "metadata": {},
   "outputs": [
    {
     "name": "stdout",
     "output_type": "stream",
     "text": [
      "4562646152 4562646152\n"
     ]
    }
   ],
   "source": [
    "a = [1,2,3]\n",
    "b = a                     # alias\n",
    "print(id(a), id(b))"
   ]
  },
  {
   "cell_type": "markdown",
   "metadata": {},
   "source": [
    "Cloning:"
   ]
  },
  {
   "cell_type": "code",
   "execution_count": 144,
   "metadata": {},
   "outputs": [
    {
     "name": "stdout",
     "output_type": "stream",
     "text": [
      "[1, 2, 3] [1, 2, 3] [2, 3] 4562988936 4563024200 4562911432\n"
     ]
    }
   ],
   "source": [
    "a = [1,2,3]\n",
    "b = a[:]                  # cloning with :\n",
    "\n",
    "print(a, b, b[1:], id(a), id(b), id(b[1:]))"
   ]
  },
  {
   "cell_type": "markdown",
   "metadata": {},
   "source": [
    "When a list is an argument of a function, we are sending the *reference*, not a *copy*"
   ]
  },
  {
   "cell_type": "markdown",
   "metadata": {},
   "source": [
    "## Functions\n",
    "\n",
    "To create a function, use def. "
   ]
  },
  {
   "cell_type": "code",
   "execution_count": 145,
   "metadata": {},
   "outputs": [
    {
     "name": "stdout",
     "output_type": "stream",
     "text": [
      "1 [1, 2, 3, 4]\n"
     ]
    }
   ],
   "source": [
    "def head(list):     #parameters separated by comma\n",
    "    return list[0]  #Identation means inside functions\n",
    "\n",
    "numbers=[1,2,3,4]\n",
    "print(head(numbers), numbers)"
   ]
  },
  {
   "cell_type": "code",
   "execution_count": 146,
   "metadata": {},
   "outputs": [
    {
     "name": "stdout",
     "output_type": "stream",
     "text": [
      "[0, 2, 3, 4]\n"
     ]
    }
   ],
   "source": [
    "def change_first_element(list):\n",
    "    list[0]=0 #it returns none!\n",
    "\n",
    "numbers=[1,2,3,4]\n",
    "change_first_element(numbers)\n",
    "print(numbers)"
   ]
  },
  {
   "cell_type": "markdown",
   "metadata": {},
   "source": [
    "If we return a list we are returning a reference:"
   ]
  },
  {
   "cell_type": "code",
   "execution_count": null,
   "metadata": {
    "collapsed": true
   },
   "outputs": [],
   "source": [
    "def tail(list):\n",
    "    return list[1:]     # we are creating a new list\n",
    "\n",
    "numbers=[1,2,3,4]\n",
    "rest = tail(numbers)\n",
    "print(rest, numbers)\n",
    "print(id(rest), id(numbers))"
   ]
  },
  {
   "cell_type": "code",
   "execution_count": null,
   "metadata": {
    "collapsed": true
   },
   "outputs": [],
   "source": [
    "# Press tab\n",
    "numbers.reverse()\n",
    "print(numbers)"
   ]
  },
  {
   "cell_type": "markdown",
   "metadata": {},
   "source": [
    "Sometimes it is important to perform a *sanity check* about what is doing a pre-defined function:"
   ]
  },
  {
   "cell_type": "code",
   "execution_count": null,
   "metadata": {
    "collapsed": true
   },
   "outputs": [],
   "source": [
    "numbers=[1,2,3,4]\n",
    "def test(l):\n",
    "    return l.reverse() #Reverse return NONE! \n",
    "print(numbers)\n",
    "print(numbers, test(numbers)) #Reverses changes the list INPLACE if we don't make a copy we will  alter the original numbers "
   ]
  },
  {
   "cell_type": "code",
   "execution_count": null,
   "metadata": {
    "collapsed": true
   },
   "outputs": [],
   "source": [
    "numbers=[1,2,3,4]\n",
    "\n",
    "def test(l):\n",
    "    l.reverse() #Reverse changes the list INPLACE, if we don't make a copy we will  alter the original numbers \n",
    "    return l\n",
    "\n",
    "print(numbers, test(numbers))\n",
    "print(id(numbers), id(test(numbers)))"
   ]
  },
  {
   "cell_type": "code",
   "execution_count": null,
   "metadata": {
    "collapsed": true
   },
   "outputs": [],
   "source": [
    "numbers=[1,2,3,4]\n",
    "\n",
    "def test(l):\n",
    "    a=l[:]\n",
    "    l.reverse() #Reverse changes the list INPLACE, if we don't make a copy we will alter the original numbers \n",
    "    return a\n",
    "\n",
    "print(numbers, test(numbers))\n",
    "print(id(numbers), id(test(numbers)))"
   ]
  },
  {
   "cell_type": "code",
   "execution_count": null,
   "metadata": {
    "collapsed": true
   },
   "outputs": [],
   "source": [
    "?list.reverse"
   ]
  },
  {
   "cell_type": "markdown",
   "metadata": {},
   "source": [
    "## Algorithms in Python \n"
   ]
  },
  {
   "cell_type": "markdown",
   "metadata": {},
   "source": [
    "#### Factorial\n",
    "\n",
    "The factorial of a non-negative integer $n$, denoted by $n!$, is the product of all positive integers less than or equal to $n$.  "
   ]
  },
  {
   "cell_type": "code",
   "execution_count": null,
   "metadata": {
    "collapsed": true
   },
   "outputs": [],
   "source": [
    "def factorial(n):\n",
    "    fact = 1\n",
    "    for factor in range(n,0,-1):\n",
    "        fact = fact * factor\n",
    "    return fact"
   ]
  },
  {
   "cell_type": "code",
   "execution_count": null,
   "metadata": {
    "collapsed": true
   },
   "outputs": [],
   "source": [
    "factorial(100)"
   ]
  },
  {
   "cell_type": "markdown",
   "metadata": {},
   "source": [
    "#### Fibonacci\n",
    "\n",
    "The Fibonacci Sequence is the series of numbers: 0, 1, 1, 2, 3, 5, 8, 13, 21, 34, ...\n",
    "\n",
    "The general rule to compute the sequence is very simple: The next number is found by adding up the two numbers before it."
   ]
  },
  {
   "cell_type": "code",
   "execution_count": null,
   "metadata": {
    "collapsed": true
   },
   "outputs": [],
   "source": [
    "def fib1(n):\n",
    "    if n==1:\n",
    "        return 1\n",
    "    if n==0:\n",
    "        return 0\n",
    "    return fib1(n-1) + fib1(n-2)\n",
    "\n",
    "fib1(20)\n",
    "\n",
    "# this function cannot compute fib(100)"
   ]
  },
  {
   "cell_type": "code",
   "execution_count": null,
   "metadata": {
    "collapsed": true
   },
   "outputs": [],
   "source": [
    "def fib2(n):\n",
    "    a, b = 0, 1\n",
    "    for i in range(1,n+1):\n",
    "        a, b = b, a + b\n",
    "    return a\n",
    "\n",
    "n = 1000\n",
    "if n<15:\n",
    "    print(fib1(n))\n",
    "else: \n",
    "    print(fib2(n))"
   ]
  },
  {
   "cell_type": "markdown",
   "metadata": {},
   "source": [
    "#### Greatest Common Divisor\n",
    "\n",
    "The greatest common divisor of two positive integers $a$ and $b$ is the largest divisor common to $a$ and $b$.  The Euclidean algorithm, or Euclid's algorithm, is an interative method for computing the greatest common divisor of two integers. \n",
    "\n",
    "+ If $a<b$, exchange $a$ and $b$.\n",
    "+ Divide $a$ by $b$ and get the remainder, $r$. If $r=0$, report $b$ as the GCD of $a$ and $b$.\n",
    "+ Replace $a$ by $b$ and replace $b$ by $r$. If $r \\neq 0$ iterate.\n",
    "\n"
   ]
  },
  {
   "cell_type": "code",
   "execution_count": null,
   "metadata": {
    "collapsed": true
   },
   "outputs": [],
   "source": [
    "def gcd(a,b): # Euclides algorithm v1.0: pseudocode translation\n",
    "    r = 1\n",
    "    while r != 0:\n",
    "        if a<b:\n",
    "            c=a\n",
    "            a=b\n",
    "            b=c\n",
    "        r = a%b \n",
    "        if r == 0:\n",
    "            return b\n",
    "        else:\n",
    "            a = b\n",
    "            b = r\n",
    "\n",
    "gcd(100,16)"
   ]
  },
  {
   "cell_type": "code",
   "execution_count": null,
   "metadata": {
    "collapsed": true
   },
   "outputs": [],
   "source": [
    "def gcd(a,b):   # Euclides algorithm v2.0: idiomatic Python\n",
    "    while a:\n",
    "        a, b = b%a, a\n",
    "    return b\n",
    "\n",
    "gcd(100,16)"
   ]
  },
  {
   "cell_type": "code",
   "execution_count": null,
   "metadata": {
    "collapsed": true
   },
   "outputs": [],
   "source": [
    "a = 0\n",
    "a == False"
   ]
  },
  {
   "cell_type": "markdown",
   "metadata": {},
   "source": [
    "## Reading Data\n",
    "\n",
    "The most convenient method that you can use to work with data is to load it directly into memory.\n",
    "\n",
    "When you load a file (of any type), the entire dataset is available at all times and the loading process is quite direct:"
   ]
  },
  {
   "cell_type": "code",
   "execution_count": 3,
   "metadata": {},
   "outputs": [
    {
     "name": "stdout",
     "output_type": "stream",
     "text": [
      "File content:\n",
      "year mo    data_type region extent   area\n",
      "1979  1      Goddard      N  15.54  12.33\n",
      "1980  1      Goddard      N  14.96  11.85\n",
      "1981  1      Goddard      N  15.03  11.82\n",
      "1982  1      Goddard      N  15.26  12.11\n",
      "1983  1      Goddard      N  15.10  11.92\n",
      "1984  1      Goddard      N  14.61  11.60\n",
      "1985  1      Goddard      N  14.86  11.60\n",
      "1986  1      Goddard      N  15.02  11.79\n",
      "1987  1      Goddard      N  15.20  11.81\n",
      "1988  1        -9999      N  -9999  -9999\n",
      "1989  1      Goddard      N  15.12  13.11\n",
      "1990  1      Goddard      N  14.95  12.72\n",
      "1991  1      Goddard      N  14.46  12.49\n",
      "1992  1      Goddard      N  14.72  12.54\n",
      "1993  1      Goddard      N  15.08  12.85\n",
      "1994  1      Goddard      N  14.82  12.80\n",
      "1995  1      Goddard      N  14.62  12.72\n",
      "1996  1      Goddard      N  14.21  12.07\n",
      "1997  1      Goddard      N  14.47  12.30\n",
      "1998  1      Goddard      N  14.81  12.73\n",
      "1999  1      Goddard      N  14.47  12.54\n",
      "2000  1      Goddard      N  14.41  12.22\n",
      "2001  1      Goddard      N  14.31  12.27\n",
      "2002  1      Goddard      N  14.45  12.19\n",
      "2003  1      Goddard      N  14.46  12.21\n",
      "2004  1      Goddard      N  14.03  12.19\n",
      "2005  1      Goddard      N  13.66  11.84\n",
      "2006  1      Goddard      N  13.60  11.57\n",
      "2007  1      Goddard      N  13.77  11.79\n",
      "2008  1      Goddard      N  14.05  11.95\n",
      "2009  1      Goddard      N  14.08  11.97\n",
      "2010  1      Goddard      N  13.80  11.68\n",
      "2011  1      Goddard      N  13.57  11.47\n",
      "2012  1      Goddard      N  13.77  11.87\n",
      "2013  1      NRTSI-G      N  13.78  11.57\n",
      "2014  1      NRTSI-G      N  13.73  11.66\n",
      "1979  2      Goddard      N  16.31  13.11\n",
      "1980  2      Goddard      N  15.98  12.82\n",
      "1981  2      Goddard      N  15.65  12.45\n",
      "1982  2      Goddard      N  16.06  12.79\n",
      "1983  2      Goddard      N  16.02  12.86\n",
      "1984  2      Goddard      N  15.32  12.17\n",
      "1985  2      Goddard      N  15.67  12.39\n",
      "1986  2      Goddard      N  15.89  12.53\n",
      "1987  2      Goddard      N  16.11  12.93\n",
      "1988  2      Goddard      N  15.61  13.49\n",
      "1989  2      Goddard      N  15.56  13.28\n",
      "1990  2      Goddard      N  15.56  13.33\n",
      "1991  2      Goddard      N  15.26  13.15\n",
      "1992  2      Goddard      N  15.50  13.51\n",
      "1993  2      Goddard      N  15.73  13.54\n",
      "1994  2      Goddard      N  15.61  13.46\n",
      "1995  2      Goddard      N  15.24  13.30\n",
      "1996  2      Goddard      N  15.17  12.90\n",
      "1997  2      Goddard      N  15.52  13.36\n",
      "1998  2      Goddard      N  15.77  13.70\n",
      "1999  2      Goddard      N  15.37  13.38\n",
      "2000  2      Goddard      N  15.18  13.02\n",
      "2001  2      Goddard      N  15.27  13.14\n",
      "2002  2      Goddard      N  15.36  13.36\n",
      "2003  2      Goddard      N  15.25  13.16\n",
      "2004  2      Goddard      N  14.93  12.87\n",
      "2005  2      Goddard      N  14.36  12.27\n",
      "2006  2      Goddard      N  14.42  12.28\n",
      "2007  2      Goddard      N  14.53  12.52\n",
      "2008  2      Goddard      N  15.01  12.87\n",
      "2009  2      Goddard      N  14.85  12.87\n",
      "2010  2      Goddard      N  14.59  12.60\n",
      "2011  2      Goddard      N  14.38  12.41\n",
      "2012  2      Goddard      N  14.59  12.37\n",
      "2013  2      Goddard      N  14.69  12.84\n",
      "2014  2      NRTSI-G      N  14.44  12.12\n",
      "1979  3      Goddard      N  16.45  13.13\n",
      "1980  3      Goddard      N  16.13  12.92\n",
      "1981  3      Goddard      N  15.61  12.62\n",
      "1982  3      Goddard      N  16.15  12.99\n",
      "1983  3      Goddard      N  16.10  12.84\n",
      "1984  3      Goddard      N  15.62  12.48\n",
      "1985  3      Goddard      N  16.06  12.66\n",
      "1986  3      Goddard      N  16.08  12.65\n",
      "1987  3      Goddard      N  15.95  12.75\n",
      "1988  3      Goddard      N  16.13  13.84\n",
      "1989  3      Goddard      N  15.52  13.14\n",
      "1990  3      Goddard      N  15.88  13.44\n",
      "1991  3      Goddard      N  15.50  13.35\n",
      "1992  3      Goddard      N  15.47  13.41\n",
      "1993  3      Goddard      N  15.88  13.71\n",
      "1994  3      Goddard      N  15.58  13.47\n",
      "1995  3      Goddard      N  15.32  13.28\n",
      "1996  3      Goddard      N  15.13  12.83\n",
      "1997  3      Goddard      N  15.58  13.24\n",
      "1998  3      Goddard      N  15.66  13.50\n",
      "1999  3      Goddard      N  15.40  13.47\n",
      "2000  3      Goddard      N  15.27  13.10\n",
      "2001  3      Goddard      N  15.61  13.57\n",
      "2002  3      Goddard      N  15.44  13.36\n",
      "2003  3      Goddard      N  15.49  13.36\n",
      "2004  3      Goddard      N  15.05  12.93\n",
      "2005  3      Goddard      N  14.74  12.67\n",
      "2006  3      Goddard      N  14.43  12.44\n",
      "2007  3      Goddard      N  14.65  12.49\n",
      "2008  3      Goddard      N  15.22  13.20\n",
      "2009  3      Goddard      N  15.14  13.08\n",
      "2010  3      Goddard      N  15.11  13.19\n",
      "2011  3      Goddard      N  14.58  12.48\n",
      "2012  3      Goddard      N  15.24  13.08\n",
      "2013  3      NRTSI-G      N  15.04  13.02\n",
      "1979  4      Goddard      N  15.46  12.43\n",
      "1980  4      Goddard      N  15.49  12.45\n",
      "1981  4      Goddard      N  15.12  12.16\n",
      "1982  4      Goddard      N  15.57  12.55\n",
      "1983  4      Goddard      N  15.30  12.12\n",
      "1984  4      Goddard      N  15.15  12.10\n",
      "1985  4      Goddard      N  15.34  12.46\n",
      "1986  4      Goddard      N  15.15  11.95\n",
      "1987  4      Goddard      N  15.33  12.28\n",
      "1988  4      Goddard      N  15.21  13.11\n",
      "1989  4      Goddard      N  14.44  12.26\n",
      "1990  4      Goddard      N  14.68  12.16\n",
      "1991  4      Goddard      N  14.93  12.79\n",
      "1992  4      Goddard      N  14.70  12.76\n",
      "1993  4      Goddard      N  15.18  12.95\n",
      "1994  4      Goddard      N  14.95  12.84\n",
      "1995  4      Goddard      N  14.59  12.32\n",
      "1996  4      Goddard      N  14.22  12.23\n",
      "1997  4      Goddard      N  14.59  12.48\n",
      "1998  4      Goddard      N  14.89  12.77\n",
      "1999  4      Goddard      N  15.13  13.08\n",
      "2000  4      Goddard      N  14.63  12.51\n",
      "2001  4      Goddard      N  14.86  12.99\n",
      "2002  4      Goddard      N  14.37  12.35\n",
      "2003  4      Goddard      N  14.57  12.38\n",
      "2004  4      Goddard      N  14.11  12.08\n",
      "2005  4      Goddard      N  14.07  12.16\n",
      "2006  4      Goddard      N  13.97  11.97\n",
      "2007  4      Goddard      N  13.87  11.75\n",
      "2008  4      Goddard      N  14.42  12.43\n",
      "2009  4      Goddard      N  14.57  12.58\n",
      "2010  4      Goddard      N  14.70  12.50\n",
      "2011  4      Goddard      N  14.16  12.11\n",
      "2012  4      Goddard      N  14.72  12.53\n",
      "2013  4      NRTSI-G      N  14.37  12.33\n",
      "1979  5      Goddard      N  14.06  11.04\n",
      "1980  5      Goddard      N  14.04  10.88\n",
      "1981  5      Goddard      N  13.90  10.93\n",
      "1982  5      Goddard      N  14.17  11.10\n",
      "1983  5      Goddard      N  13.54  10.80\n",
      "1984  5      Goddard      N  13.68  10.81\n",
      "1985  5      Goddard      N  14.23  11.19\n",
      "1986  5      Goddard      N  13.52  10.63\n",
      "1987  5      Goddard      N  13.81  10.91\n",
      "1988  5      Goddard      N  13.69  11.35\n",
      "1989  5      Goddard      N  12.98  11.30\n",
      "1990  5      Goddard      N  13.30  10.84\n",
      "1991  5      Goddard      N  13.51  11.44\n",
      "1992  5      Goddard      N  13.25  11.37\n",
      "1993  5      Goddard      N  13.54  11.35\n",
      "1994  5      Goddard      N  13.73  11.60\n",
      "1995  5      Goddard      N  13.04  10.76\n",
      "1996  5      Goddard      N  13.06  11.22\n",
      "1997  5      Goddard      N  13.32  11.17\n",
      "1998  5      Goddard      N  13.80  11.35\n",
      "1999  5      Goddard      N  13.86  11.61\n",
      "2000  5      Goddard      N  13.18  11.18\n",
      "2001  5      Goddard      N  13.72  11.32\n",
      "2002  5      Goddard      N  13.12  11.11\n",
      "2003  5      Goddard      N  13.00  10.82\n",
      "2004  5      Goddard      N  12.58  10.86\n",
      "2005  5      Goddard      N  12.99  10.83\n",
      "2006  5      Goddard      N  12.62  10.39\n",
      "2007  5      Goddard      N  12.89  10.71\n",
      "2008  5      Goddard      N  13.19  10.92\n",
      "2009  5      Goddard      N  13.40  11.15\n",
      "2010  5      Goddard      N  13.11  10.54\n",
      "2011  5      Goddard      N  12.81  10.41\n",
      "2012  5      Goddard      N  13.12  10.72\n",
      "2013  5      NRTSI-G      N  13.10  10.87\n",
      "1979  6      Goddard      N  12.59   9.28\n",
      "1980  6      Goddard      N  12.31   8.93\n",
      "1981  6      Goddard      N  12.57   8.96\n",
      "1982  6      Goddard      N  12.69   9.40\n",
      "1983  6      Goddard      N  12.36   9.20\n",
      "1984  6      Goddard      N  12.20   9.02\n",
      "1985  6      Goddard      N  12.40   8.88\n",
      "1986  6      Goddard      N  12.10   8.93\n",
      "1987  6      Goddard      N  12.57   9.32\n",
      "1988  6      Goddard      N  12.02   9.62\n",
      "1989  6      Goddard      N  12.31   9.90\n",
      "1990  6      Goddard      N  11.68   9.12\n",
      "1991  6      Goddard      N  12.23   9.60\n",
      "1992  6      Goddard      N  12.13   9.89\n",
      "1993  6      Goddard      N  11.99   9.20\n",
      "1994  6      Goddard      N  12.10   9.62\n",
      "1995  6      Goddard      N  11.55   8.86\n",
      "1996  6      Goddard      N  12.10   9.78\n",
      "1997  6      Goddard      N  11.91   9.14\n",
      "1998  6      Goddard      N  11.85   9.11\n",
      "1999  6      Goddard      N  12.10   9.18\n",
      "2000  6      Goddard      N  11.71   8.99\n",
      "2001  6      Goddard      N  11.69   9.01\n",
      "2002  6      Goddard      N  11.69   9.13\n",
      "2003  6      Goddard      N  11.77   9.05\n",
      "2004  6      Goddard      N  11.51   9.18\n",
      "2005  6      Goddard      N  11.29   8.74\n",
      "2006  6      Goddard      N  11.06   8.34\n",
      "2007  6      Goddard      N  11.49   8.15\n",
      "2008  6      Goddard      N  11.36   8.52\n",
      "2009  6      Goddard      N  11.46   8.92\n",
      "2010  6      Goddard      N  10.82   8.02\n",
      "2011  6      Goddard      N  10.99   8.20\n",
      "2012  6      Goddard      N  10.92   7.77\n",
      "2013  6      NRTSI-G      N  11.58   8.57\n",
      "1979  7      Goddard      N  10.47   6.59\n",
      "1980  7      Goddard      N  10.39   6.45\n",
      "1981  7      Goddard      N  10.62   6.23\n",
      "1982  7      Goddard      N  10.75   6.79\n",
      "1983  7      Goddard      N  10.91   6.79\n",
      "1984  7      Goddard      N  10.15   6.19\n",
      "1985  7      Goddard      N  10.09   5.89\n",
      "1986  7      Goddard      N  10.47   6.53\n",
      "1987  7      Goddard      N   9.98   6.84\n",
      "1988  7      Goddard      N  10.04   6.93\n",
      "1989  7      Goddard      N  10.38   7.24\n",
      "1990  7      Goddard      N   9.62   6.44\n",
      "1991  7      Goddard      N   9.68   6.66\n",
      "1992  7      Goddard      N  10.61   7.14\n",
      "1993  7      Goddard      N   9.66   6.17\n",
      "1994  7      Goddard      N  10.22   6.85\n",
      "1995  7      Goddard      N   9.15   6.05\n",
      "1996  7      Goddard      N  10.36   7.36\n",
      "1997  7      Goddard      N   9.59   6.41\n",
      "1998  7      Goddard      N   9.62   6.38\n",
      "1999  7      Goddard      N   9.59   6.49\n",
      "2000  7      Goddard      N   9.75   6.31\n",
      "2001  7      Goddard      N   9.22   6.22\n",
      "2002  7      Goddard      N   9.49   6.34\n",
      "2003  7      Goddard      N   9.46   6.06\n",
      "2004  7      Goddard      N   9.60   6.43\n",
      "2005  7      Goddard      N   8.93   5.81\n",
      "2006  7      Goddard      N   8.67   5.71\n",
      "2007  7      Goddard      N   8.13   5.03\n",
      "2008  7      Goddard      N   8.99   5.74\n",
      "2009  7      Goddard      N   8.80   5.77\n",
      "2010  7      Goddard      N   8.36   5.27\n",
      "2011  7      Goddard      N   7.91   5.04\n",
      "2012  7      Goddard      N   7.93   4.76\n",
      "2013  7      NRTSI-G      N   8.45   5.41\n",
      "1979  8      Goddard      N   8.15   4.96\n",
      "1980  8      Goddard      N   8.04   4.84\n",
      "1981  8      Goddard      N   7.86   4.38\n",
      "1982  8      Goddard      N   8.26   4.92\n",
      "1983  8      Goddard      N   8.36   4.88\n",
      "1984  8      Goddard      N   7.87   4.59\n",
      "1985  8      Goddard      N   7.46   4.51\n",
      "1986  8      Goddard      N   8.01   4.92\n",
      "1987  8      Goddard      N   7.69   5.35\n",
      "1988  8      Goddard      N   7.90   5.34\n",
      "1989  8      Goddard      N   7.92   5.48\n",
      "1990  8      Goddard      N   6.82   4.92\n",
      "1991  8      Goddard      N   7.40   5.14\n",
      "1992  8      Goddard      N   7.86   5.35\n",
      "1993  8      Goddard      N   7.29   4.65\n",
      "1994  8      Goddard      N   7.61   5.10\n",
      "1995  8      Goddard      N   6.68   4.61\n",
      "1996  8      Goddard      N   8.17   5.65\n",
      "1997  8      Goddard      N   7.30   5.03\n",
      "1998  8      Goddard      N   7.49   4.61\n",
      "1999  8      Goddard      N   7.38   4.67\n",
      "2000  8      Goddard      N   7.21   4.71\n",
      "2001  8      Goddard      N   7.47   4.87\n",
      "2002  8      Goddard      N   6.53   4.23\n",
      "2003  8      Goddard      N   6.85   4.44\n",
      "2004  8      Goddard      N   6.83   4.57\n",
      "2005  8      Goddard      N   6.30   4.14\n",
      "2006  8      Goddard      N   6.52   4.24\n",
      "2007  8      Goddard      N   5.36   3.11\n",
      "2008  8      Goddard      N   6.05   3.47\n",
      "2009  8      Goddard      N   6.28   3.84\n",
      "2010  8      Goddard      N   6.01   3.60\n",
      "2011  8      Goddard      N   5.55   3.06\n",
      "2012  8      Goddard      N   4.71   2.56\n",
      "2013  8      NRTSI-G      N   6.09   3.83\n",
      "1979  9      Goddard      N   7.20   4.53\n",
      "1980  9      Goddard      N   7.85   4.83\n",
      "1981  9      Goddard      N   7.25   4.38\n",
      "1982  9      Goddard      N   7.45   4.38\n",
      "1983  9      Goddard      N   7.52   4.63\n",
      "1984  9      Goddard      N   7.17   4.05\n",
      "1985  9      Goddard      N   6.93   4.17\n",
      "1986  9      Goddard      N   7.54   4.66\n",
      "1987  9      Goddard      N   7.48   5.60\n",
      "1988  9      Goddard      N   7.49   5.31\n",
      "1989  9      Goddard      N   7.04   4.81\n",
      "1990  9      Goddard      N   6.24   4.50\n",
      "1991  9      Goddard      N   6.55   4.46\n",
      "1992  9      Goddard      N   7.55   5.37\n",
      "1993  9      Goddard      N   6.50   4.52\n",
      "1994  9      Goddard      N   7.18   5.08\n",
      "1995  9      Goddard      N   6.13   4.38\n",
      "1996  9      Goddard      N   7.88   5.58\n",
      "1997  9      Goddard      N   6.74   4.84\n",
      "1998  9      Goddard      N   6.56   4.24\n",
      "1999  9      Goddard      N   6.24   4.22\n",
      "2000  9      Goddard      N   6.32   4.31\n",
      "2001  9      Goddard      N   6.75   4.55\n",
      "2002  9      Goddard      N   5.96   3.98\n",
      "2003  9      Goddard      N   6.15   4.01\n",
      "2004  9      Goddard      N   6.05   4.35\n",
      "2005  9      Goddard      N   5.57   4.03\n",
      "2006  9      Goddard      N   5.92   3.97\n",
      "2007  9      Goddard      N   4.30   2.78\n",
      "2008  9      Goddard      N   4.73   2.99\n",
      "2009  9      Goddard      N   5.39   3.47\n",
      "2010  9      Goddard      N   4.93   3.07\n",
      "2011  9      Goddard      N   4.63   2.94\n",
      "2012  9      Goddard      N   3.63   2.15\n",
      "2013  9      NRTSI-G      N   5.35   3.48\n",
      "1979 10      Goddard      N   9.39   6.11\n",
      "1980 10      Goddard      N   9.46   6.42\n",
      "1981 10      Goddard      N   9.19   6.19\n",
      "1982 10      Goddard      N   9.98   6.60\n",
      "1983 10      Goddard      N   9.64   6.70\n",
      "1984 10      Goddard      N   8.84   5.84\n",
      "1985 10      Goddard      N   8.88   6.03\n",
      "1986 10      Goddard      N   9.89   6.77\n",
      "1987 10      Goddard      N   9.29   7.44\n",
      "1988 10      Goddard      N   9.47   7.47\n",
      "1989 10      Goddard      N   9.52   6.90\n",
      "1990 10      Goddard      N   9.35   6.67\n",
      "1991 10      Goddard      N   9.16   6.70\n",
      "1992 10      Goddard      N   9.60   7.69\n",
      "1993 10      Goddard      N   9.18   6.98\n",
      "1994 10      Goddard      N   9.48   7.17\n",
      "1995 10      Goddard      N   8.94   5.91\n",
      "1996 10      Goddard      N   9.39   7.49\n",
      "1997 10      Goddard      N   8.76   6.39\n",
      "1998 10      Goddard      N   8.85   6.65\n",
      "1999 10      Goddard      N   9.10   6.77\n",
      "2000 10      Goddard      N   8.92   6.64\n",
      "2001 10      Goddard      N   8.59   6.59\n",
      "2002 10      Goddard      N   8.81   6.20\n",
      "2003 10      Goddard      N   8.65   5.93\n",
      "2004 10      Goddard      N   8.48   6.35\n",
      "2005 10      Goddard      N   8.45   5.71\n",
      "2006 10      Goddard      N   8.33   5.74\n",
      "2007 10      Goddard      N   6.77   4.21\n",
      "2008 10      Goddard      N   8.42   5.45\n",
      "2009 10      Goddard      N   7.52   4.92\n",
      "2010 10      Goddard      N   7.71   5.19\n",
      "2011 10      Goddard      N   7.14   4.66\n",
      "2012 10      Goddard      N   7.07   4.27\n",
      "2013 10      NRTSI-G      N   8.10   5.54\n",
      "1978 11      Goddard      N  12.01   8.97\n",
      "1979 11      Goddard      N  11.16   8.29\n",
      "1980 11      Goddard      N  11.69   8.64\n",
      "1981 11      Goddard      N  11.17   8.23\n",
      "1982 11      Goddard      N  11.91   8.97\n",
      "1983 11      Goddard      N  11.64   8.91\n",
      "1984 11      Goddard      N  11.29   8.15\n",
      "1985 11      Goddard      N  11.39   8.35\n",
      "1986 11      Goddard      N  11.78   8.81\n",
      "1987 11      Goddard      N  11.52   9.67\n",
      "1988 11      Goddard      N  11.69   9.86\n",
      "1989 11      Goddard      N  11.50   9.38\n",
      "1990 11      Goddard      N  11.31   9.58\n",
      "1991 11      Goddard      N  11.12   9.19\n",
      "1992 11      Goddard      N  11.87   9.69\n",
      "1993 11      Goddard      N  11.73   9.49\n",
      "1994 11      Goddard      N  11.30   9.64\n",
      "1995 11      Goddard      N  10.97   8.95\n",
      "1996 11      Goddard      N  10.56   8.70\n",
      "1997 11      Goddard      N  10.91   9.00\n",
      "1998 11      Goddard      N  10.75   8.82\n",
      "1999 11      Goddard      N  10.99   9.21\n",
      "2000 11      Goddard      N  10.54   8.81\n",
      "2001 11      Goddard      N  10.92   9.02\n",
      "2002 11      Goddard      N  10.78   8.69\n",
      "2003 11      Goddard      N  10.29   8.50\n",
      "2004 11      Goddard      N  10.65   8.90\n",
      "2005 11      Goddard      N  10.47   8.73\n",
      "2006 11      Goddard      N   9.84   8.07\n",
      "2007 11      Goddard      N  10.05   8.00\n",
      "2008 11      Goddard      N  10.62   8.73\n",
      "2009 11      Goddard      N  10.27   8.05\n",
      "2010 11      Goddard      N   9.88   8.11\n",
      "2011 11      Goddard      N  10.00   8.18\n",
      "2012 11      Goddard      N   9.92   7.74\n",
      "2013 11      NRTSI-G      N  10.24   8.26\n",
      "1978 12      Goddard      N  14.12  10.85\n",
      "1979 12      Goddard      N  13.54  10.55\n",
      "1980 12      Goddard      N  13.72  10.71\n",
      "1981 12      Goddard      N  13.74  10.47\n",
      "1982 12      Goddard      N  13.83  10.81\n",
      "1983 12      Goddard      N  13.44  10.56\n",
      "1984 12      Goddard      N  13.18  10.19\n",
      "1985 12      Goddard      N  13.19  10.15\n",
      "1986 12      Goddard      N  13.40  10.46\n",
      "1987 12        -9999      N  -9999  -9999\n",
      "1988 12      Goddard      N  13.78  11.94\n",
      "1989 12      Goddard      N  13.47  11.53\n",
      "1990 12      Goddard      N  13.27  11.40\n",
      "1991 12      Goddard      N  13.17  11.19\n",
      "1992 12      Goddard      N  13.46  11.66\n",
      "1993 12      Goddard      N  13.52  11.41\n",
      "1994 12      Goddard      N  13.53  11.43\n",
      "1995 12      Goddard      N  12.98  11.02\n",
      "1996 12      Goddard      N  13.14  10.96\n",
      "1997 12      Goddard      N  13.29  11.19\n",
      "1998 12      Goddard      N  13.26  10.85\n",
      "1999 12      Goddard      N  12.88  10.93\n",
      "2000 12      Goddard      N  12.81  10.90\n",
      "2001 12      Goddard      N  12.84  10.49\n",
      "2002 12      Goddard      N  12.82  10.58\n",
      "2003 12      Goddard      N  12.82  10.74\n",
      "2004 12      Goddard      N  12.72  10.91\n",
      "2005 12      Goddard      N  12.47  10.51\n",
      "2006 12      Goddard      N  12.27  10.10\n",
      "2007 12      Goddard      N  12.39  10.11\n",
      "2008 12      Goddard      N  12.52  10.64\n",
      "2009 12      Goddard      N  12.51  10.25\n",
      "2010 12      Goddard      N  12.02  10.08\n",
      "2011 12      Goddard      N  12.40  10.28\n",
      "2012 12      Goddard      N  12.20  10.11\n",
      "2013 12      NRTSI-G      N  12.38  10.48\n"
     ]
    }
   ],
   "source": [
    "with open(\"files/SeaIce.txt\", 'r') as input_file:\n",
    "    print('File content:\\n' + input_file.read())"
   ]
  },
  {
   "cell_type": "markdown",
   "metadata": {},
   "source": [
    "The entire dataset is loaded from the library into free memory. Of course, the loading process will fail if your system lacks sufficient memory to hold the dataset. When this problem occurs, you need to consider other techniques\n",
    "for working with the dataset, such as **streaming** it or **sampling** it.\n",
    "\n",
    "Here’s an example of how you can stream data using Python:"
   ]
  },
  {
   "cell_type": "code",
   "execution_count": 5,
   "metadata": {},
   "outputs": [
    {
     "name": "stdout",
     "output_type": "stream",
     "text": [
      "Reading Data: year mo    data_type region extent   area\n",
      "Reading Data: 1979  1      Goddard      N  15.54  12.33\n",
      "Reading Data: 1980  1      Goddard      N  14.96  11.85\n",
      "Reading Data: 1981  1      Goddard      N  15.03  11.82\n",
      "Reading Data: 1982  1      Goddard      N  15.26  12.11\n",
      "Reading Data: 1983  1      Goddard      N  15.10  11.92\n",
      "Reading Data: 1984  1      Goddard      N  14.61  11.60\n",
      "Reading Data: 1985  1      Goddard      N  14.86  11.60\n",
      "Reading Data: 1986  1      Goddard      N  15.02  11.79\n",
      "Reading Data: 1987  1      Goddard      N  15.20  11.81\n",
      "Reading Data: 1988  1        -9999      N  -9999  -9999\n",
      "Reading Data: 1989  1      Goddard      N  15.12  13.11\n",
      "Reading Data: 1990  1      Goddard      N  14.95  12.72\n",
      "Reading Data: 1991  1      Goddard      N  14.46  12.49\n",
      "Reading Data: 1992  1      Goddard      N  14.72  12.54\n",
      "Reading Data: 1993  1      Goddard      N  15.08  12.85\n",
      "Reading Data: 1994  1      Goddard      N  14.82  12.80\n",
      "Reading Data: 1995  1      Goddard      N  14.62  12.72\n",
      "Reading Data: 1996  1      Goddard      N  14.21  12.07\n",
      "Reading Data: 1997  1      Goddard      N  14.47  12.30\n",
      "Reading Data: 1998  1      Goddard      N  14.81  12.73\n",
      "Reading Data: 1999  1      Goddard      N  14.47  12.54\n",
      "Reading Data: 2000  1      Goddard      N  14.41  12.22\n",
      "Reading Data: 2001  1      Goddard      N  14.31  12.27\n",
      "Reading Data: 2002  1      Goddard      N  14.45  12.19\n",
      "Reading Data: 2003  1      Goddard      N  14.46  12.21\n",
      "Reading Data: 2004  1      Goddard      N  14.03  12.19\n",
      "Reading Data: 2005  1      Goddard      N  13.66  11.84\n",
      "Reading Data: 2006  1      Goddard      N  13.60  11.57\n",
      "Reading Data: 2007  1      Goddard      N  13.77  11.79\n",
      "Reading Data: 2008  1      Goddard      N  14.05  11.95\n",
      "Reading Data: 2009  1      Goddard      N  14.08  11.97\n",
      "Reading Data: 2010  1      Goddard      N  13.80  11.68\n",
      "Reading Data: 2011  1      Goddard      N  13.57  11.47\n",
      "Reading Data: 2012  1      Goddard      N  13.77  11.87\n",
      "Reading Data: 2013  1      NRTSI-G      N  13.78  11.57\n",
      "Reading Data: 2014  1      NRTSI-G      N  13.73  11.66\n",
      "Reading Data: 1979  2      Goddard      N  16.31  13.11\n",
      "Reading Data: 1980  2      Goddard      N  15.98  12.82\n",
      "Reading Data: 1981  2      Goddard      N  15.65  12.45\n",
      "Reading Data: 1982  2      Goddard      N  16.06  12.79\n",
      "Reading Data: 1983  2      Goddard      N  16.02  12.86\n",
      "Reading Data: 1984  2      Goddard      N  15.32  12.17\n",
      "Reading Data: 1985  2      Goddard      N  15.67  12.39\n",
      "Reading Data: 1986  2      Goddard      N  15.89  12.53\n",
      "Reading Data: 1987  2      Goddard      N  16.11  12.93\n",
      "Reading Data: 1988  2      Goddard      N  15.61  13.49\n",
      "Reading Data: 1989  2      Goddard      N  15.56  13.28\n",
      "Reading Data: 1990  2      Goddard      N  15.56  13.33\n",
      "Reading Data: 1991  2      Goddard      N  15.26  13.15\n",
      "Reading Data: 1992  2      Goddard      N  15.50  13.51\n",
      "Reading Data: 1993  2      Goddard      N  15.73  13.54\n",
      "Reading Data: 1994  2      Goddard      N  15.61  13.46\n",
      "Reading Data: 1995  2      Goddard      N  15.24  13.30\n",
      "Reading Data: 1996  2      Goddard      N  15.17  12.90\n",
      "Reading Data: 1997  2      Goddard      N  15.52  13.36\n",
      "Reading Data: 1998  2      Goddard      N  15.77  13.70\n",
      "Reading Data: 1999  2      Goddard      N  15.37  13.38\n",
      "Reading Data: 2000  2      Goddard      N  15.18  13.02\n",
      "Reading Data: 2001  2      Goddard      N  15.27  13.14\n",
      "Reading Data: 2002  2      Goddard      N  15.36  13.36\n",
      "Reading Data: 2003  2      Goddard      N  15.25  13.16\n",
      "Reading Data: 2004  2      Goddard      N  14.93  12.87\n",
      "Reading Data: 2005  2      Goddard      N  14.36  12.27\n",
      "Reading Data: 2006  2      Goddard      N  14.42  12.28\n",
      "Reading Data: 2007  2      Goddard      N  14.53  12.52\n",
      "Reading Data: 2008  2      Goddard      N  15.01  12.87\n",
      "Reading Data: 2009  2      Goddard      N  14.85  12.87\n",
      "Reading Data: 2010  2      Goddard      N  14.59  12.60\n",
      "Reading Data: 2011  2      Goddard      N  14.38  12.41\n",
      "Reading Data: 2012  2      Goddard      N  14.59  12.37\n",
      "Reading Data: 2013  2      Goddard      N  14.69  12.84\n",
      "Reading Data: 2014  2      NRTSI-G      N  14.44  12.12\n",
      "Reading Data: 1979  3      Goddard      N  16.45  13.13\n",
      "Reading Data: 1980  3      Goddard      N  16.13  12.92\n",
      "Reading Data: 1981  3      Goddard      N  15.61  12.62\n",
      "Reading Data: 1982  3      Goddard      N  16.15  12.99\n",
      "Reading Data: 1983  3      Goddard      N  16.10  12.84\n",
      "Reading Data: 1984  3      Goddard      N  15.62  12.48\n",
      "Reading Data: 1985  3      Goddard      N  16.06  12.66\n",
      "Reading Data: 1986  3      Goddard      N  16.08  12.65\n",
      "Reading Data: 1987  3      Goddard      N  15.95  12.75\n",
      "Reading Data: 1988  3      Goddard      N  16.13  13.84\n",
      "Reading Data: 1989  3      Goddard      N  15.52  13.14\n",
      "Reading Data: 1990  3      Goddard      N  15.88  13.44\n",
      "Reading Data: 1991  3      Goddard      N  15.50  13.35\n",
      "Reading Data: 1992  3      Goddard      N  15.47  13.41\n",
      "Reading Data: 1993  3      Goddard      N  15.88  13.71\n",
      "Reading Data: 1994  3      Goddard      N  15.58  13.47\n",
      "Reading Data: 1995  3      Goddard      N  15.32  13.28\n",
      "Reading Data: 1996  3      Goddard      N  15.13  12.83\n",
      "Reading Data: 1997  3      Goddard      N  15.58  13.24\n",
      "Reading Data: 1998  3      Goddard      N  15.66  13.50\n",
      "Reading Data: 1999  3      Goddard      N  15.40  13.47\n",
      "Reading Data: 2000  3      Goddard      N  15.27  13.10\n",
      "Reading Data: 2001  3      Goddard      N  15.61  13.57\n",
      "Reading Data: 2002  3      Goddard      N  15.44  13.36\n",
      "Reading Data: 2003  3      Goddard      N  15.49  13.36\n",
      "Reading Data: 2004  3      Goddard      N  15.05  12.93\n",
      "Reading Data: 2005  3      Goddard      N  14.74  12.67\n",
      "Reading Data: 2006  3      Goddard      N  14.43  12.44\n",
      "Reading Data: 2007  3      Goddard      N  14.65  12.49\n",
      "Reading Data: 2008  3      Goddard      N  15.22  13.20\n",
      "Reading Data: 2009  3      Goddard      N  15.14  13.08\n",
      "Reading Data: 2010  3      Goddard      N  15.11  13.19\n",
      "Reading Data: 2011  3      Goddard      N  14.58  12.48\n",
      "Reading Data: 2012  3      Goddard      N  15.24  13.08\n",
      "Reading Data: 2013  3      NRTSI-G      N  15.04  13.02\n",
      "Reading Data: 1979  4      Goddard      N  15.46  12.43\n",
      "Reading Data: 1980  4      Goddard      N  15.49  12.45\n",
      "Reading Data: 1981  4      Goddard      N  15.12  12.16\n",
      "Reading Data: 1982  4      Goddard      N  15.57  12.55\n",
      "Reading Data: 1983  4      Goddard      N  15.30  12.12\n",
      "Reading Data: 1984  4      Goddard      N  15.15  12.10\n",
      "Reading Data: 1985  4      Goddard      N  15.34  12.46\n",
      "Reading Data: 1986  4      Goddard      N  15.15  11.95\n",
      "Reading Data: 1987  4      Goddard      N  15.33  12.28\n",
      "Reading Data: 1988  4      Goddard      N  15.21  13.11\n",
      "Reading Data: 1989  4      Goddard      N  14.44  12.26\n",
      "Reading Data: 1990  4      Goddard      N  14.68  12.16\n",
      "Reading Data: 1991  4      Goddard      N  14.93  12.79\n",
      "Reading Data: 1992  4      Goddard      N  14.70  12.76\n",
      "Reading Data: 1993  4      Goddard      N  15.18  12.95\n",
      "Reading Data: 1994  4      Goddard      N  14.95  12.84\n",
      "Reading Data: 1995  4      Goddard      N  14.59  12.32\n",
      "Reading Data: 1996  4      Goddard      N  14.22  12.23\n",
      "Reading Data: 1997  4      Goddard      N  14.59  12.48\n",
      "Reading Data: 1998  4      Goddard      N  14.89  12.77\n",
      "Reading Data: 1999  4      Goddard      N  15.13  13.08\n",
      "Reading Data: 2000  4      Goddard      N  14.63  12.51\n",
      "Reading Data: 2001  4      Goddard      N  14.86  12.99\n",
      "Reading Data: 2002  4      Goddard      N  14.37  12.35\n",
      "Reading Data: 2003  4      Goddard      N  14.57  12.38\n",
      "Reading Data: 2004  4      Goddard      N  14.11  12.08\n",
      "Reading Data: 2005  4      Goddard      N  14.07  12.16\n",
      "Reading Data: 2006  4      Goddard      N  13.97  11.97\n",
      "Reading Data: 2007  4      Goddard      N  13.87  11.75\n",
      "Reading Data: 2008  4      Goddard      N  14.42  12.43\n",
      "Reading Data: 2009  4      Goddard      N  14.57  12.58\n",
      "Reading Data: 2010  4      Goddard      N  14.70  12.50\n",
      "Reading Data: 2011  4      Goddard      N  14.16  12.11\n",
      "Reading Data: 2012  4      Goddard      N  14.72  12.53\n",
      "Reading Data: 2013  4      NRTSI-G      N  14.37  12.33\n",
      "Reading Data: 1979  5      Goddard      N  14.06  11.04\n",
      "Reading Data: 1980  5      Goddard      N  14.04  10.88\n",
      "Reading Data: 1981  5      Goddard      N  13.90  10.93\n",
      "Reading Data: 1982  5      Goddard      N  14.17  11.10\n",
      "Reading Data: 1983  5      Goddard      N  13.54  10.80\n",
      "Reading Data: 1984  5      Goddard      N  13.68  10.81\n",
      "Reading Data: 1985  5      Goddard      N  14.23  11.19\n",
      "Reading Data: 1986  5      Goddard      N  13.52  10.63\n",
      "Reading Data: 1987  5      Goddard      N  13.81  10.91\n",
      "Reading Data: 1988  5      Goddard      N  13.69  11.35\n",
      "Reading Data: 1989  5      Goddard      N  12.98  11.30\n",
      "Reading Data: 1990  5      Goddard      N  13.30  10.84\n",
      "Reading Data: 1991  5      Goddard      N  13.51  11.44\n",
      "Reading Data: 1992  5      Goddard      N  13.25  11.37\n",
      "Reading Data: 1993  5      Goddard      N  13.54  11.35\n",
      "Reading Data: 1994  5      Goddard      N  13.73  11.60\n",
      "Reading Data: 1995  5      Goddard      N  13.04  10.76\n",
      "Reading Data: 1996  5      Goddard      N  13.06  11.22\n",
      "Reading Data: 1997  5      Goddard      N  13.32  11.17\n",
      "Reading Data: 1998  5      Goddard      N  13.80  11.35\n",
      "Reading Data: 1999  5      Goddard      N  13.86  11.61\n",
      "Reading Data: 2000  5      Goddard      N  13.18  11.18\n",
      "Reading Data: 2001  5      Goddard      N  13.72  11.32\n",
      "Reading Data: 2002  5      Goddard      N  13.12  11.11\n",
      "Reading Data: 2003  5      Goddard      N  13.00  10.82\n",
      "Reading Data: 2004  5      Goddard      N  12.58  10.86\n",
      "Reading Data: 2005  5      Goddard      N  12.99  10.83\n",
      "Reading Data: 2006  5      Goddard      N  12.62  10.39\n",
      "Reading Data: 2007  5      Goddard      N  12.89  10.71\n",
      "Reading Data: 2008  5      Goddard      N  13.19  10.92\n",
      "Reading Data: 2009  5      Goddard      N  13.40  11.15\n",
      "Reading Data: 2010  5      Goddard      N  13.11  10.54\n",
      "Reading Data: 2011  5      Goddard      N  12.81  10.41\n",
      "Reading Data: 2012  5      Goddard      N  13.12  10.72\n",
      "Reading Data: 2013  5      NRTSI-G      N  13.10  10.87\n",
      "Reading Data: 1979  6      Goddard      N  12.59   9.28\n",
      "Reading Data: 1980  6      Goddard      N  12.31   8.93\n",
      "Reading Data: 1981  6      Goddard      N  12.57   8.96\n",
      "Reading Data: 1982  6      Goddard      N  12.69   9.40\n",
      "Reading Data: 1983  6      Goddard      N  12.36   9.20\n",
      "Reading Data: 1984  6      Goddard      N  12.20   9.02\n",
      "Reading Data: 1985  6      Goddard      N  12.40   8.88\n",
      "Reading Data: 1986  6      Goddard      N  12.10   8.93\n",
      "Reading Data: 1987  6      Goddard      N  12.57   9.32\n",
      "Reading Data: 1988  6      Goddard      N  12.02   9.62\n",
      "Reading Data: 1989  6      Goddard      N  12.31   9.90\n",
      "Reading Data: 1990  6      Goddard      N  11.68   9.12\n",
      "Reading Data: 1991  6      Goddard      N  12.23   9.60\n",
      "Reading Data: 1992  6      Goddard      N  12.13   9.89\n",
      "Reading Data: 1993  6      Goddard      N  11.99   9.20\n",
      "Reading Data: 1994  6      Goddard      N  12.10   9.62\n",
      "Reading Data: 1995  6      Goddard      N  11.55   8.86\n",
      "Reading Data: 1996  6      Goddard      N  12.10   9.78\n",
      "Reading Data: 1997  6      Goddard      N  11.91   9.14\n",
      "Reading Data: 1998  6      Goddard      N  11.85   9.11\n",
      "Reading Data: 1999  6      Goddard      N  12.10   9.18\n",
      "Reading Data: 2000  6      Goddard      N  11.71   8.99\n",
      "Reading Data: 2001  6      Goddard      N  11.69   9.01\n",
      "Reading Data: 2002  6      Goddard      N  11.69   9.13\n",
      "Reading Data: 2003  6      Goddard      N  11.77   9.05\n",
      "Reading Data: 2004  6      Goddard      N  11.51   9.18\n",
      "Reading Data: 2005  6      Goddard      N  11.29   8.74\n",
      "Reading Data: 2006  6      Goddard      N  11.06   8.34\n",
      "Reading Data: 2007  6      Goddard      N  11.49   8.15\n",
      "Reading Data: 2008  6      Goddard      N  11.36   8.52\n",
      "Reading Data: 2009  6      Goddard      N  11.46   8.92\n",
      "Reading Data: 2010  6      Goddard      N  10.82   8.02\n",
      "Reading Data: 2011  6      Goddard      N  10.99   8.20\n",
      "Reading Data: 2012  6      Goddard      N  10.92   7.77\n",
      "Reading Data: 2013  6      NRTSI-G      N  11.58   8.57\n",
      "Reading Data: 1979  7      Goddard      N  10.47   6.59\n",
      "Reading Data: 1980  7      Goddard      N  10.39   6.45\n",
      "Reading Data: 1981  7      Goddard      N  10.62   6.23\n",
      "Reading Data: 1982  7      Goddard      N  10.75   6.79\n",
      "Reading Data: 1983  7      Goddard      N  10.91   6.79\n",
      "Reading Data: 1984  7      Goddard      N  10.15   6.19\n",
      "Reading Data: 1985  7      Goddard      N  10.09   5.89\n",
      "Reading Data: 1986  7      Goddard      N  10.47   6.53\n",
      "Reading Data: 1987  7      Goddard      N   9.98   6.84\n",
      "Reading Data: 1988  7      Goddard      N  10.04   6.93\n",
      "Reading Data: 1989  7      Goddard      N  10.38   7.24\n",
      "Reading Data: 1990  7      Goddard      N   9.62   6.44\n",
      "Reading Data: 1991  7      Goddard      N   9.68   6.66\n",
      "Reading Data: 1992  7      Goddard      N  10.61   7.14\n",
      "Reading Data: 1993  7      Goddard      N   9.66   6.17\n",
      "Reading Data: 1994  7      Goddard      N  10.22   6.85\n",
      "Reading Data: 1995  7      Goddard      N   9.15   6.05\n",
      "Reading Data: 1996  7      Goddard      N  10.36   7.36\n",
      "Reading Data: 1997  7      Goddard      N   9.59   6.41\n",
      "Reading Data: 1998  7      Goddard      N   9.62   6.38\n",
      "Reading Data: 1999  7      Goddard      N   9.59   6.49\n",
      "Reading Data: 2000  7      Goddard      N   9.75   6.31\n",
      "Reading Data: 2001  7      Goddard      N   9.22   6.22\n",
      "Reading Data: 2002  7      Goddard      N   9.49   6.34\n",
      "Reading Data: 2003  7      Goddard      N   9.46   6.06\n",
      "Reading Data: 2004  7      Goddard      N   9.60   6.43\n",
      "Reading Data: 2005  7      Goddard      N   8.93   5.81\n",
      "Reading Data: 2006  7      Goddard      N   8.67   5.71\n",
      "Reading Data: 2007  7      Goddard      N   8.13   5.03\n",
      "Reading Data: 2008  7      Goddard      N   8.99   5.74\n",
      "Reading Data: 2009  7      Goddard      N   8.80   5.77\n",
      "Reading Data: 2010  7      Goddard      N   8.36   5.27\n",
      "Reading Data: 2011  7      Goddard      N   7.91   5.04\n",
      "Reading Data: 2012  7      Goddard      N   7.93   4.76\n",
      "Reading Data: 2013  7      NRTSI-G      N   8.45   5.41\n",
      "Reading Data: 1979  8      Goddard      N   8.15   4.96\n",
      "Reading Data: 1980  8      Goddard      N   8.04   4.84\n",
      "Reading Data: 1981  8      Goddard      N   7.86   4.38\n",
      "Reading Data: 1982  8      Goddard      N   8.26   4.92\n",
      "Reading Data: 1983  8      Goddard      N   8.36   4.88\n",
      "Reading Data: 1984  8      Goddard      N   7.87   4.59\n",
      "Reading Data: 1985  8      Goddard      N   7.46   4.51\n",
      "Reading Data: 1986  8      Goddard      N   8.01   4.92\n",
      "Reading Data: 1987  8      Goddard      N   7.69   5.35\n",
      "Reading Data: 1988  8      Goddard      N   7.90   5.34\n",
      "Reading Data: 1989  8      Goddard      N   7.92   5.48\n",
      "Reading Data: 1990  8      Goddard      N   6.82   4.92\n",
      "Reading Data: 1991  8      Goddard      N   7.40   5.14\n",
      "Reading Data: 1992  8      Goddard      N   7.86   5.35\n",
      "Reading Data: 1993  8      Goddard      N   7.29   4.65\n",
      "Reading Data: 1994  8      Goddard      N   7.61   5.10\n",
      "Reading Data: 1995  8      Goddard      N   6.68   4.61\n",
      "Reading Data: 1996  8      Goddard      N   8.17   5.65\n",
      "Reading Data: 1997  8      Goddard      N   7.30   5.03\n",
      "Reading Data: 1998  8      Goddard      N   7.49   4.61\n",
      "Reading Data: 1999  8      Goddard      N   7.38   4.67\n",
      "Reading Data: 2000  8      Goddard      N   7.21   4.71\n",
      "Reading Data: 2001  8      Goddard      N   7.47   4.87\n",
      "Reading Data: 2002  8      Goddard      N   6.53   4.23\n",
      "Reading Data: 2003  8      Goddard      N   6.85   4.44\n",
      "Reading Data: 2004  8      Goddard      N   6.83   4.57\n",
      "Reading Data: 2005  8      Goddard      N   6.30   4.14\n",
      "Reading Data: 2006  8      Goddard      N   6.52   4.24\n",
      "Reading Data: 2007  8      Goddard      N   5.36   3.11\n",
      "Reading Data: 2008  8      Goddard      N   6.05   3.47\n",
      "Reading Data: 2009  8      Goddard      N   6.28   3.84\n",
      "Reading Data: 2010  8      Goddard      N   6.01   3.60\n",
      "Reading Data: 2011  8      Goddard      N   5.55   3.06\n",
      "Reading Data: 2012  8      Goddard      N   4.71   2.56\n",
      "Reading Data: 2013  8      NRTSI-G      N   6.09   3.83\n",
      "Reading Data: 1979  9      Goddard      N   7.20   4.53\n",
      "Reading Data: 1980  9      Goddard      N   7.85   4.83\n",
      "Reading Data: 1981  9      Goddard      N   7.25   4.38\n",
      "Reading Data: 1982  9      Goddard      N   7.45   4.38\n",
      "Reading Data: 1983  9      Goddard      N   7.52   4.63\n",
      "Reading Data: 1984  9      Goddard      N   7.17   4.05\n",
      "Reading Data: 1985  9      Goddard      N   6.93   4.17\n",
      "Reading Data: 1986  9      Goddard      N   7.54   4.66\n",
      "Reading Data: 1987  9      Goddard      N   7.48   5.60\n",
      "Reading Data: 1988  9      Goddard      N   7.49   5.31\n",
      "Reading Data: 1989  9      Goddard      N   7.04   4.81\n",
      "Reading Data: 1990  9      Goddard      N   6.24   4.50\n",
      "Reading Data: 1991  9      Goddard      N   6.55   4.46\n",
      "Reading Data: 1992  9      Goddard      N   7.55   5.37\n",
      "Reading Data: 1993  9      Goddard      N   6.50   4.52\n",
      "Reading Data: 1994  9      Goddard      N   7.18   5.08\n",
      "Reading Data: 1995  9      Goddard      N   6.13   4.38\n",
      "Reading Data: 1996  9      Goddard      N   7.88   5.58\n",
      "Reading Data: 1997  9      Goddard      N   6.74   4.84\n",
      "Reading Data: 1998  9      Goddard      N   6.56   4.24\n",
      "Reading Data: 1999  9      Goddard      N   6.24   4.22\n",
      "Reading Data: 2000  9      Goddard      N   6.32   4.31\n",
      "Reading Data: 2001  9      Goddard      N   6.75   4.55\n",
      "Reading Data: 2002  9      Goddard      N   5.96   3.98\n",
      "Reading Data: 2003  9      Goddard      N   6.15   4.01\n",
      "Reading Data: 2004  9      Goddard      N   6.05   4.35\n",
      "Reading Data: 2005  9      Goddard      N   5.57   4.03\n",
      "Reading Data: 2006  9      Goddard      N   5.92   3.97\n",
      "Reading Data: 2007  9      Goddard      N   4.30   2.78\n",
      "Reading Data: 2008  9      Goddard      N   4.73   2.99\n",
      "Reading Data: 2009  9      Goddard      N   5.39   3.47\n",
      "Reading Data: 2010  9      Goddard      N   4.93   3.07\n",
      "Reading Data: 2011  9      Goddard      N   4.63   2.94\n",
      "Reading Data: 2012  9      Goddard      N   3.63   2.15\n",
      "Reading Data: 2013  9      NRTSI-G      N   5.35   3.48\n",
      "Reading Data: 1979 10      Goddard      N   9.39   6.11\n",
      "Reading Data: 1980 10      Goddard      N   9.46   6.42\n",
      "Reading Data: 1981 10      Goddard      N   9.19   6.19\n",
      "Reading Data: 1982 10      Goddard      N   9.98   6.60\n",
      "Reading Data: 1983 10      Goddard      N   9.64   6.70\n",
      "Reading Data: 1984 10      Goddard      N   8.84   5.84\n",
      "Reading Data: 1985 10      Goddard      N   8.88   6.03\n",
      "Reading Data: 1986 10      Goddard      N   9.89   6.77\n",
      "Reading Data: 1987 10      Goddard      N   9.29   7.44\n",
      "Reading Data: 1988 10      Goddard      N   9.47   7.47\n",
      "Reading Data: 1989 10      Goddard      N   9.52   6.90\n",
      "Reading Data: 1990 10      Goddard      N   9.35   6.67\n",
      "Reading Data: 1991 10      Goddard      N   9.16   6.70\n",
      "Reading Data: 1992 10      Goddard      N   9.60   7.69\n",
      "Reading Data: 1993 10      Goddard      N   9.18   6.98\n",
      "Reading Data: 1994 10      Goddard      N   9.48   7.17\n",
      "Reading Data: 1995 10      Goddard      N   8.94   5.91\n",
      "Reading Data: 1996 10      Goddard      N   9.39   7.49\n",
      "Reading Data: 1997 10      Goddard      N   8.76   6.39\n",
      "Reading Data: 1998 10      Goddard      N   8.85   6.65\n",
      "Reading Data: 1999 10      Goddard      N   9.10   6.77\n",
      "Reading Data: 2000 10      Goddard      N   8.92   6.64\n",
      "Reading Data: 2001 10      Goddard      N   8.59   6.59\n",
      "Reading Data: 2002 10      Goddard      N   8.81   6.20\n",
      "Reading Data: 2003 10      Goddard      N   8.65   5.93\n",
      "Reading Data: 2004 10      Goddard      N   8.48   6.35\n",
      "Reading Data: 2005 10      Goddard      N   8.45   5.71\n",
      "Reading Data: 2006 10      Goddard      N   8.33   5.74\n",
      "Reading Data: 2007 10      Goddard      N   6.77   4.21\n",
      "Reading Data: 2008 10      Goddard      N   8.42   5.45\n",
      "Reading Data: 2009 10      Goddard      N   7.52   4.92\n",
      "Reading Data: 2010 10      Goddard      N   7.71   5.19\n",
      "Reading Data: 2011 10      Goddard      N   7.14   4.66\n",
      "Reading Data: 2012 10      Goddard      N   7.07   4.27\n",
      "Reading Data: 2013 10      NRTSI-G      N   8.10   5.54\n",
      "Reading Data: 1978 11      Goddard      N  12.01   8.97\n",
      "Reading Data: 1979 11      Goddard      N  11.16   8.29\n",
      "Reading Data: 1980 11      Goddard      N  11.69   8.64\n",
      "Reading Data: 1981 11      Goddard      N  11.17   8.23\n",
      "Reading Data: 1982 11      Goddard      N  11.91   8.97\n",
      "Reading Data: 1983 11      Goddard      N  11.64   8.91\n",
      "Reading Data: 1984 11      Goddard      N  11.29   8.15\n",
      "Reading Data: 1985 11      Goddard      N  11.39   8.35\n",
      "Reading Data: 1986 11      Goddard      N  11.78   8.81\n",
      "Reading Data: 1987 11      Goddard      N  11.52   9.67\n",
      "Reading Data: 1988 11      Goddard      N  11.69   9.86\n",
      "Reading Data: 1989 11      Goddard      N  11.50   9.38\n",
      "Reading Data: 1990 11      Goddard      N  11.31   9.58\n",
      "Reading Data: 1991 11      Goddard      N  11.12   9.19\n",
      "Reading Data: 1992 11      Goddard      N  11.87   9.69\n",
      "Reading Data: 1993 11      Goddard      N  11.73   9.49\n",
      "Reading Data: 1994 11      Goddard      N  11.30   9.64\n",
      "Reading Data: 1995 11      Goddard      N  10.97   8.95\n",
      "Reading Data: 1996 11      Goddard      N  10.56   8.70\n",
      "Reading Data: 1997 11      Goddard      N  10.91   9.00\n",
      "Reading Data: 1998 11      Goddard      N  10.75   8.82\n",
      "Reading Data: 1999 11      Goddard      N  10.99   9.21\n",
      "Reading Data: 2000 11      Goddard      N  10.54   8.81\n",
      "Reading Data: 2001 11      Goddard      N  10.92   9.02\n",
      "Reading Data: 2002 11      Goddard      N  10.78   8.69\n",
      "Reading Data: 2003 11      Goddard      N  10.29   8.50\n",
      "Reading Data: 2004 11      Goddard      N  10.65   8.90\n",
      "Reading Data: 2005 11      Goddard      N  10.47   8.73\n",
      "Reading Data: 2006 11      Goddard      N   9.84   8.07\n",
      "Reading Data: 2007 11      Goddard      N  10.05   8.00\n",
      "Reading Data: 2008 11      Goddard      N  10.62   8.73\n",
      "Reading Data: 2009 11      Goddard      N  10.27   8.05\n",
      "Reading Data: 2010 11      Goddard      N   9.88   8.11\n",
      "Reading Data: 2011 11      Goddard      N  10.00   8.18\n",
      "Reading Data: 2012 11      Goddard      N   9.92   7.74\n",
      "Reading Data: 2013 11      NRTSI-G      N  10.24   8.26\n",
      "Reading Data: 1978 12      Goddard      N  14.12  10.85\n",
      "Reading Data: 1979 12      Goddard      N  13.54  10.55\n",
      "Reading Data: 1980 12      Goddard      N  13.72  10.71\n",
      "Reading Data: 1981 12      Goddard      N  13.74  10.47\n",
      "Reading Data: 1982 12      Goddard      N  13.83  10.81\n",
      "Reading Data: 1983 12      Goddard      N  13.44  10.56\n",
      "Reading Data: 1984 12      Goddard      N  13.18  10.19\n",
      "Reading Data: 1985 12      Goddard      N  13.19  10.15\n",
      "Reading Data: 1986 12      Goddard      N  13.40  10.46\n",
      "Reading Data: 1987 12        -9999      N  -9999  -9999\n",
      "Reading Data: 1988 12      Goddard      N  13.78  11.94\n",
      "Reading Data: 1989 12      Goddard      N  13.47  11.53\n",
      "Reading Data: 1990 12      Goddard      N  13.27  11.40\n",
      "Reading Data: 1991 12      Goddard      N  13.17  11.19\n",
      "Reading Data: 1992 12      Goddard      N  13.46  11.66\n",
      "Reading Data: 1993 12      Goddard      N  13.52  11.41\n",
      "Reading Data: 1994 12      Goddard      N  13.53  11.43\n",
      "Reading Data: 1995 12      Goddard      N  12.98  11.02\n",
      "Reading Data: 1996 12      Goddard      N  13.14  10.96\n",
      "Reading Data: 1997 12      Goddard      N  13.29  11.19\n",
      "Reading Data: 1998 12      Goddard      N  13.26  10.85\n",
      "Reading Data: 1999 12      Goddard      N  12.88  10.93\n",
      "Reading Data: 2000 12      Goddard      N  12.81  10.90\n",
      "Reading Data: 2001 12      Goddard      N  12.84  10.49\n",
      "Reading Data: 2002 12      Goddard      N  12.82  10.58\n",
      "Reading Data: 2003 12      Goddard      N  12.82  10.74\n",
      "Reading Data: 2004 12      Goddard      N  12.72  10.91\n",
      "Reading Data: 2005 12      Goddard      N  12.47  10.51\n",
      "Reading Data: 2006 12      Goddard      N  12.27  10.10\n",
      "Reading Data: 2007 12      Goddard      N  12.39  10.11\n",
      "Reading Data: 2008 12      Goddard      N  12.52  10.64\n",
      "Reading Data: 2009 12      Goddard      N  12.51  10.25\n",
      "Reading Data: 2010 12      Goddard      N  12.02  10.08\n",
      "Reading Data: 2011 12      Goddard      N  12.40  10.28\n",
      "Reading Data: 2012 12      Goddard      N  12.20  10.11\n",
      "Reading Data: 2013 12      NRTSI-G      N  12.38  10.48"
     ]
    }
   ],
   "source": [
    "with open(\"files/SeaIce.txt\", 'r') as input_file:\n",
    "    for observation in input_file:\n",
    "        print('Reading Data: ' + observation, end=\"\")"
   ]
  },
  {
   "cell_type": "markdown",
   "metadata": {},
   "source": [
    "The ``input_file`` file object contains a pointer to the open file. As the code performs data reads in the for loop, the file pointer moves to the next record.\n",
    "\n",
    "Data streaming obtains all the records from a data source. You may find that\n",
    "you don’t need all the records. You can save time and resources by simply\n",
    "sampling the data."
   ]
  },
  {
   "cell_type": "code",
   "execution_count": 6,
   "metadata": {},
   "outputs": [
    {
     "name": "stdout",
     "output_type": "stream",
     "text": [
      "Reading Line: 0 Content: year mo    data_type region extent   area\n",
      "Reading Line: 17 Content: 1995  1      Goddard      N  14.62  12.72\n",
      "Reading Line: 34 Content: 2012  1      Goddard      N  13.77  11.87\n",
      "Reading Line: 51 Content: 1993  2      Goddard      N  15.73  13.54\n",
      "Reading Line: 68 Content: 2010  2      Goddard      N  14.59  12.60\n",
      "Reading Line: 85 Content: 1991  3      Goddard      N  15.50  13.35\n",
      "Reading Line: 102 Content: 2008  3      Goddard      N  15.22  13.20\n",
      "Reading Line: 119 Content: 1990  4      Goddard      N  14.68  12.16\n",
      "Reading Line: 136 Content: 2007  4      Goddard      N  13.87  11.75\n",
      "Reading Line: 153 Content: 1989  5      Goddard      N  12.98  11.30\n",
      "Reading Line: 170 Content: 2006  5      Goddard      N  12.62  10.39\n",
      "Reading Line: 187 Content: 1988  6      Goddard      N  12.02   9.62\n",
      "Reading Line: 204 Content: 2005  6      Goddard      N  11.29   8.74\n",
      "Reading Line: 221 Content: 1987  7      Goddard      N   9.98   6.84\n",
      "Reading Line: 238 Content: 2004  7      Goddard      N   9.60   6.43\n",
      "Reading Line: 255 Content: 1986  8      Goddard      N   8.01   4.92\n",
      "Reading Line: 272 Content: 2003  8      Goddard      N   6.85   4.44\n",
      "Reading Line: 289 Content: 1985  9      Goddard      N   6.93   4.17\n",
      "Reading Line: 306 Content: 2002  9      Goddard      N   5.96   3.98\n",
      "Reading Line: 323 Content: 1984 10      Goddard      N   8.84   5.84\n",
      "Reading Line: 340 Content: 2001 10      Goddard      N   8.59   6.59\n",
      "Reading Line: 357 Content: 1982 11      Goddard      N  11.91   8.97\n",
      "Reading Line: 374 Content: 1999 11      Goddard      N  10.99   9.21\n",
      "Reading Line: 391 Content: 1980 12      Goddard      N  13.72  10.71\n",
      "Reading Line: 408 Content: 1997 12      Goddard      N  13.29  11.19\n"
     ]
    }
   ],
   "source": [
    "n = 17\n",
    "with open(\"files/SeaIce.txt\", 'r') as input_file:\n",
    "    for j, observation in enumerate(input_file):\n",
    "        if j % n==0:\n",
    "            print('Reading Line: ' + str(j) + ' Content: ' + observation, end=\"\")"
   ]
  },
  {
   "cell_type": "markdown",
   "metadata": {},
   "source": [
    "You can perform random sampling as well."
   ]
  },
  {
   "cell_type": "code",
   "execution_count": 7,
   "metadata": {
    "scrolled": true
   },
   "outputs": [
    {
     "name": "stdout",
     "output_type": "stream",
     "text": [
      "Reading Line: 53 Content: 1995  2      Goddard      N  15.24  13.30\n",
      "Reading Line: 69 Content: 2011  2      Goddard      N  14.38  12.41\n",
      "Reading Line: 125 Content: 1996  4      Goddard      N  14.22  12.23\n",
      "Reading Line: 331 Content: 1992 10      Goddard      N   9.60   7.69\n",
      "Reading Line: 340 Content: 2001 10      Goddard      N   8.59   6.59\n",
      "Reading Line: 341 Content: 2002 10      Goddard      N   8.81   6.20\n",
      "Reading Line: 380 Content: 2005 11      Goddard      N  10.47   8.73\n"
     ]
    }
   ],
   "source": [
    "import random\n",
    "sample_size = 0.01\n",
    "with open(\"files/SeaIce.txt\", 'r') as input_file:\n",
    "    for j, observation in enumerate(input_file):\n",
    "        if random.random()<=sample_size:\n",
    "            print('Reading Line: ' + str(j) + ' Content: ' + observation, end= \"\") "
   ]
  },
  {
   "cell_type": "markdown",
   "metadata": {},
   "source": [
    "A flat file presents the easiest kind of file to work with. \n",
    "\n",
    "A problem with using native Python techniques is that the input isn’t intelligent. For example, when a file contains a header, Python simply reads it as yet more data to process, rather than as a header (not a problem for Pandas!).\n",
    "\n",
    "The least formatted and therefore easiest‐to‐read flat‐file format is the text file. However, a text file also treats all data as strings, so you often have to convert numeric data into other forms.\n",
    "\n",
    "A comma‐separated value (CSV) file provides more formatting and more information, but it requires a little more effort to read.\n",
    "\n",
    "At the high end of flat‐file formatting are custom data formats, such as an Excel file, which contains extensive formatting and could include multiple datasets in a single file.\n",
    "\n",
    "### Reading from a CSV file\n",
    "\n",
    "A CSV file provides more formatting than a simple text file. In fact, CSV files can become quite complicated. There is a standard that defines the format of CSV files, and you can see it at https://tools.ietf.org/html/rfc4180.\n",
    "\n",
    "The ``csv`` module is useful for working with data exported from spreadsheets and databases into text files formatted with fields and records, commonly referred to as comma-separated value (CSV)."
   ]
  },
  {
   "cell_type": "code",
   "execution_count": 8,
   "metadata": {},
   "outputs": [
    {
     "name": "stdout",
     "output_type": "stream",
     "text": [
      "['', 'TV', 'Radio', 'Newspaper', 'Sales']\n",
      "['1', '230.1', '37.8', '69.2', '22.1']\n",
      "['2', '44.5', '39.3', '45.1', '10.4']\n",
      "['3', '17.2', '45.9', '69.3', '9.3']\n",
      "['4', '151.5', '41.3', '58.5', '18.5']\n",
      "['5', '180.8', '10.8', '58.4', '12.9']\n",
      "['6', '8.7', '48.9', '75', '7.2']\n",
      "['7', '57.5', '32.8', '23.5', '11.8']\n",
      "['8', '120.2', '19.6', '11.6', '13.2']\n",
      "['9', '8.6', '2.1', '1', '4.8']\n",
      "['10', '199.8', '2.6', '21.2', '10.6']\n",
      "['11', '66.1', '5.8', '24.2', '8.6']\n",
      "['12', '214.7', '24', '4', '17.4']\n",
      "['13', '23.8', '35.1', '65.9', '9.2']\n",
      "['14', '97.5', '7.6', '7.2', '9.7']\n",
      "['15', '204.1', '32.9', '46', '19']\n",
      "['16', '195.4', '47.7', '52.9', '22.4']\n",
      "['17', '67.8', '36.6', '114', '12.5']\n",
      "['18', '281.4', '39.6', '55.8', '24.4']\n",
      "['19', '69.2', '20.5', '18.3', '11.3']\n",
      "['20', '147.3', '23.9', '19.1', '14.6']\n",
      "['21', '218.4', '27.7', '53.4', '18']\n",
      "['22', '237.4', '5.1', '23.5', '12.5']\n",
      "['23', '13.2', '15.9', '49.6', '5.6']\n",
      "['24', '228.3', '16.9', '26.2', '15.5']\n",
      "['25', '62.3', '12.6', '18.3', '9.7']\n",
      "['26', '262.9', '3.5', '19.5', '12']\n",
      "['27', '142.9', '29.3', '12.6', '15']\n",
      "['28', '240.1', '16.7', '22.9', '15.9']\n",
      "['29', '248.8', '27.1', '22.9', '18.9']\n",
      "['30', '70.6', '16', '40.8', '10.5']\n",
      "['31', '292.9', '28.3', '43.2', '21.4']\n",
      "['32', '112.9', '17.4', '38.6', '11.9']\n",
      "['33', '97.2', '1.5', '30', '9.6']\n",
      "['34', '265.6', '20', '0.3', '17.4']\n",
      "['35', '95.7', '1.4', '7.4', '9.5']\n",
      "['36', '290.7', '4.1', '8.5', '12.8']\n",
      "['37', '266.9', '43.8', '5', '25.4']\n",
      "['38', '74.7', '49.4', '45.7', '14.7']\n",
      "['39', '43.1', '26.7', '35.1', '10.1']\n",
      "['40', '228', '37.7', '32', '21.5']\n",
      "['41', '202.5', '22.3', '31.6', '16.6']\n",
      "['42', '177', '33.4', '38.7', '17.1']\n",
      "['43', '293.6', '27.7', '1.8', '20.7']\n",
      "['44', '206.9', '8.4', '26.4', '12.9']\n",
      "['45', '25.1', '25.7', '43.3', '8.5']\n",
      "['46', '175.1', '22.5', '31.5', '14.9']\n",
      "['47', '89.7', '9.9', '35.7', '10.6']\n",
      "['48', '239.9', '41.5', '18.5', '23.2']\n",
      "['49', '227.2', '15.8', '49.9', '14.8']\n",
      "['50', '66.9', '11.7', '36.8', '9.7']\n",
      "['51', '199.8', '3.1', '34.6', '11.4']\n",
      "['52', '100.4', '9.6', '3.6', '10.7']\n",
      "['53', '216.4', '41.7', '39.6', '22.6']\n",
      "['54', '182.6', '46.2', '58.7', '21.2']\n",
      "['55', '262.7', '28.8', '15.9', '20.2']\n",
      "['56', '198.9', '49.4', '60', '23.7']\n",
      "['57', '7.3', '28.1', '41.4', '5.5']\n",
      "['58', '136.2', '19.2', '16.6', '13.2']\n",
      "['59', '210.8', '49.6', '37.7', '23.8']\n",
      "['60', '210.7', '29.5', '9.3', '18.4']\n",
      "['61', '53.5', '2', '21.4', '8.1']\n",
      "['62', '261.3', '42.7', '54.7', '24.2']\n",
      "['63', '239.3', '15.5', '27.3', '15.7']\n",
      "['64', '102.7', '29.6', '8.4', '14']\n",
      "['65', '131.1', '42.8', '28.9', '18']\n",
      "['66', '69', '9.3', '0.9', '9.3']\n",
      "['67', '31.5', '24.6', '2.2', '9.5']\n",
      "['68', '139.3', '14.5', '10.2', '13.4']\n",
      "['69', '237.4', '27.5', '11', '18.9']\n",
      "['70', '216.8', '43.9', '27.2', '22.3']\n",
      "['71', '199.1', '30.6', '38.7', '18.3']\n",
      "['72', '109.8', '14.3', '31.7', '12.4']\n",
      "['73', '26.8', '33', '19.3', '8.8']\n",
      "['74', '129.4', '5.7', '31.3', '11']\n",
      "['75', '213.4', '24.6', '13.1', '17']\n",
      "['76', '16.9', '43.7', '89.4', '8.7']\n",
      "['77', '27.5', '1.6', '20.7', '6.9']\n",
      "['78', '120.5', '28.5', '14.2', '14.2']\n",
      "['79', '5.4', '29.9', '9.4', '5.3']\n",
      "['80', '116', '7.7', '23.1', '11']\n",
      "['81', '76.4', '26.7', '22.3', '11.8']\n",
      "['82', '239.8', '4.1', '36.9', '12.3']\n",
      "['83', '75.3', '20.3', '32.5', '11.3']\n",
      "['84', '68.4', '44.5', '35.6', '13.6']\n",
      "['85', '213.5', '43', '33.8', '21.7']\n",
      "['86', '193.2', '18.4', '65.7', '15.2']\n",
      "['87', '76.3', '27.5', '16', '12']\n",
      "['88', '110.7', '40.6', '63.2', '16']\n",
      "['89', '88.3', '25.5', '73.4', '12.9']\n",
      "['90', '109.8', '47.8', '51.4', '16.7']\n",
      "['91', '134.3', '4.9', '9.3', '11.2']\n",
      "['92', '28.6', '1.5', '33', '7.3']\n",
      "['93', '217.7', '33.5', '59', '19.4']\n",
      "['94', '250.9', '36.5', '72.3', '22.2']\n",
      "['95', '107.4', '14', '10.9', '11.5']\n",
      "['96', '163.3', '31.6', '52.9', '16.9']\n",
      "['97', '197.6', '3.5', '5.9', '11.7']\n",
      "['98', '184.9', '21', '22', '15.5']\n",
      "['99', '289.7', '42.3', '51.2', '25.4']\n",
      "['100', '135.2', '41.7', '45.9', '17.2']\n",
      "['101', '222.4', '4.3', '49.8', '11.7']\n",
      "['102', '296.4', '36.3', '100.9', '23.8']\n",
      "['103', '280.2', '10.1', '21.4', '14.8']\n",
      "['104', '187.9', '17.2', '17.9', '14.7']\n",
      "['105', '238.2', '34.3', '5.3', '20.7']\n",
      "['106', '137.9', '46.4', '59', '19.2']\n",
      "['107', '25', '11', '29.7', '7.2']\n",
      "['108', '90.4', '0.3', '23.2', '8.7']\n",
      "['109', '13.1', '0.4', '25.6', '5.3']\n",
      "['110', '255.4', '26.9', '5.5', '19.8']\n",
      "['111', '225.8', '8.2', '56.5', '13.4']\n",
      "['112', '241.7', '38', '23.2', '21.8']\n",
      "['113', '175.7', '15.4', '2.4', '14.1']\n",
      "['114', '209.6', '20.6', '10.7', '15.9']\n",
      "['115', '78.2', '46.8', '34.5', '14.6']\n",
      "['116', '75.1', '35', '52.7', '12.6']\n",
      "['117', '139.2', '14.3', '25.6', '12.2']\n",
      "['118', '76.4', '0.8', '14.8', '9.4']\n",
      "['119', '125.7', '36.9', '79.2', '15.9']\n",
      "['120', '19.4', '16', '22.3', '6.6']\n",
      "['121', '141.3', '26.8', '46.2', '15.5']\n",
      "['122', '18.8', '21.7', '50.4', '7']\n",
      "['123', '224', '2.4', '15.6', '11.6']\n",
      "['124', '123.1', '34.6', '12.4', '15.2']\n",
      "['125', '229.5', '32.3', '74.2', '19.7']\n",
      "['126', '87.2', '11.8', '25.9', '10.6']\n",
      "['127', '7.8', '38.9', '50.6', '6.6']\n",
      "['128', '80.2', '0', '9.2', '8.8']\n",
      "['129', '220.3', '49', '3.2', '24.7']\n",
      "['130', '59.6', '12', '43.1', '9.7']\n",
      "['131', '0.7', '39.6', '8.7', '1.6']\n",
      "['132', '265.2', '2.9', '43', '12.7']\n",
      "['133', '8.4', '27.2', '2.1', '5.7']\n",
      "['134', '219.8', '33.5', '45.1', '19.6']\n",
      "['135', '36.9', '38.6', '65.6', '10.8']\n",
      "['136', '48.3', '47', '8.5', '11.6']\n",
      "['137', '25.6', '39', '9.3', '9.5']\n",
      "['138', '273.7', '28.9', '59.7', '20.8']\n",
      "['139', '43', '25.9', '20.5', '9.6']\n",
      "['140', '184.9', '43.9', '1.7', '20.7']\n",
      "['141', '73.4', '17', '12.9', '10.9']\n",
      "['142', '193.7', '35.4', '75.6', '19.2']\n",
      "['143', '220.5', '33.2', '37.9', '20.1']\n",
      "['144', '104.6', '5.7', '34.4', '10.4']\n",
      "['145', '96.2', '14.8', '38.9', '11.4']\n",
      "['146', '140.3', '1.9', '9', '10.3']\n",
      "['147', '240.1', '7.3', '8.7', '13.2']\n",
      "['148', '243.2', '49', '44.3', '25.4']\n",
      "['149', '38', '40.3', '11.9', '10.9']\n",
      "['150', '44.7', '25.8', '20.6', '10.1']\n",
      "['151', '280.7', '13.9', '37', '16.1']\n",
      "['152', '121', '8.4', '48.7', '11.6']\n",
      "['153', '197.6', '23.3', '14.2', '16.6']\n",
      "['154', '171.3', '39.7', '37.7', '19']\n",
      "['155', '187.8', '21.1', '9.5', '15.6']\n",
      "['156', '4.1', '11.6', '5.7', '3.2']\n",
      "['157', '93.9', '43.5', '50.5', '15.3']\n",
      "['158', '149.8', '1.3', '24.3', '10.1']\n",
      "['159', '11.7', '36.9', '45.2', '7.3']\n",
      "['160', '131.7', '18.4', '34.6', '12.9']\n",
      "['161', '172.5', '18.1', '30.7', '14.4']\n",
      "['162', '85.7', '35.8', '49.3', '13.3']\n",
      "['163', '188.4', '18.1', '25.6', '14.9']\n",
      "['164', '163.5', '36.8', '7.4', '18']\n",
      "['165', '117.2', '14.7', '5.4', '11.9']\n",
      "['166', '234.5', '3.4', '84.8', '11.9']\n",
      "['167', '17.9', '37.6', '21.6', '8']\n",
      "['168', '206.8', '5.2', '19.4', '12.2']\n",
      "['169', '215.4', '23.6', '57.6', '17.1']\n",
      "['170', '284.3', '10.6', '6.4', '15']\n",
      "['171', '50', '11.6', '18.4', '8.4']\n",
      "['172', '164.5', '20.9', '47.4', '14.5']\n",
      "['173', '19.6', '20.1', '17', '7.6']\n",
      "['174', '168.4', '7.1', '12.8', '11.7']\n",
      "['175', '222.4', '3.4', '13.1', '11.5']\n",
      "['176', '276.9', '48.9', '41.8', '27']\n",
      "['177', '248.4', '30.2', '20.3', '20.2']\n",
      "['178', '170.2', '7.8', '35.2', '11.7']\n",
      "['179', '276.7', '2.3', '23.7', '11.8']\n",
      "['180', '165.6', '10', '17.6', '12.6']\n",
      "['181', '156.6', '2.6', '8.3', '10.5']\n",
      "['182', '218.5', '5.4', '27.4', '12.2']\n",
      "['183', '56.2', '5.7', '29.7', '8.7']\n",
      "['184', '287.6', '43', '71.8', '26.2']\n",
      "['185', '253.8', '21.3', '30', '17.6']\n",
      "['186', '205', '45.1', '19.6', '22.6']\n",
      "['187', '139.5', '2.1', '26.6', '10.3']\n",
      "['188', '191.1', '28.7', '18.2', '17.3']\n",
      "['189', '286', '13.9', '3.7', '15.9']\n",
      "['190', '18.7', '12.1', '23.4', '6.7']\n",
      "['191', '39.5', '41.1', '5.8', '10.8']\n",
      "['192', '75.5', '10.8', '6', '9.9']\n",
      "['193', '17.2', '4.1', '31.6', '5.9']\n",
      "['194', '166.8', '42', '3.6', '19.6']\n",
      "['195', '149.7', '35.6', '6', '17.3']\n",
      "['196', '38.2', '3.7', '13.8', '7.6']\n",
      "['197', '94.2', '4.9', '8.1', '9.7']\n",
      "['198', '177', '9.3', '6.4', '12.8']\n",
      "['199', '283.6', '42', '66.2', '25.5']\n",
      "['200', '232.1', '8.6', '8.7', '13.4']\n"
     ]
    }
   ],
   "source": [
    "import csv\n",
    "\n",
    "f = open(\"files/Advertising.csv\", 'r')\n",
    "try:\n",
    "    reader = csv.reader(f)\n",
    "    for row in reader:\n",
    "        print(row)\n",
    "finally:\n",
    "    f.close()"
   ]
  },
  {
   "cell_type": "code",
   "execution_count": 9,
   "metadata": {},
   "outputs": [
    {
     "name": "stdout",
     "output_type": "stream",
     "text": [
      "['', 'TV', 'Radio', 'Newspaper', 'Sales']\n",
      "['1', '230.1', '37.8', '69.2', '22.1']\n",
      "['2', '44.5', '39.3', '45.1', '10.4']\n",
      "['3', '17.2', '45.9', '69.3', '9.3']\n",
      "['4', '151.5', '41.3', '58.5', '18.5']\n",
      "['5', '180.8', '10.8', '58.4', '12.9']\n",
      "['6', '8.7', '48.9', '75', '7.2']\n",
      "['7', '57.5', '32.8', '23.5', '11.8']\n",
      "['8', '120.2', '19.6', '11.6', '13.2']\n",
      "['9', '8.6', '2.1', '1', '4.8']\n",
      "['10', '199.8', '2.6', '21.2', '10.6']\n",
      "['11', '66.1', '5.8', '24.2', '8.6']\n",
      "['12', '214.7', '24', '4', '17.4']\n",
      "['13', '23.8', '35.1', '65.9', '9.2']\n",
      "['14', '97.5', '7.6', '7.2', '9.7']\n",
      "['15', '204.1', '32.9', '46', '19']\n",
      "['16', '195.4', '47.7', '52.9', '22.4']\n",
      "['17', '67.8', '36.6', '114', '12.5']\n",
      "['18', '281.4', '39.6', '55.8', '24.4']\n",
      "['19', '69.2', '20.5', '18.3', '11.3']\n",
      "['20', '147.3', '23.9', '19.1', '14.6']\n",
      "['21', '218.4', '27.7', '53.4', '18']\n",
      "['22', '237.4', '5.1', '23.5', '12.5']\n",
      "['23', '13.2', '15.9', '49.6', '5.6']\n",
      "['24', '228.3', '16.9', '26.2', '15.5']\n",
      "['25', '62.3', '12.6', '18.3', '9.7']\n",
      "['26', '262.9', '3.5', '19.5', '12']\n",
      "['27', '142.9', '29.3', '12.6', '15']\n",
      "['28', '240.1', '16.7', '22.9', '15.9']\n",
      "['29', '248.8', '27.1', '22.9', '18.9']\n",
      "['30', '70.6', '16', '40.8', '10.5']\n",
      "['31', '292.9', '28.3', '43.2', '21.4']\n",
      "['32', '112.9', '17.4', '38.6', '11.9']\n",
      "['33', '97.2', '1.5', '30', '9.6']\n",
      "['34', '265.6', '20', '0.3', '17.4']\n",
      "['35', '95.7', '1.4', '7.4', '9.5']\n",
      "['36', '290.7', '4.1', '8.5', '12.8']\n",
      "['37', '266.9', '43.8', '5', '25.4']\n",
      "['38', '74.7', '49.4', '45.7', '14.7']\n",
      "['39', '43.1', '26.7', '35.1', '10.1']\n",
      "['40', '228', '37.7', '32', '21.5']\n",
      "['41', '202.5', '22.3', '31.6', '16.6']\n",
      "['42', '177', '33.4', '38.7', '17.1']\n",
      "['43', '293.6', '27.7', '1.8', '20.7']\n",
      "['44', '206.9', '8.4', '26.4', '12.9']\n",
      "['45', '25.1', '25.7', '43.3', '8.5']\n",
      "['46', '175.1', '22.5', '31.5', '14.9']\n",
      "['47', '89.7', '9.9', '35.7', '10.6']\n",
      "['48', '239.9', '41.5', '18.5', '23.2']\n",
      "['49', '227.2', '15.8', '49.9', '14.8']\n",
      "['50', '66.9', '11.7', '36.8', '9.7']\n",
      "['51', '199.8', '3.1', '34.6', '11.4']\n",
      "['52', '100.4', '9.6', '3.6', '10.7']\n",
      "['53', '216.4', '41.7', '39.6', '22.6']\n",
      "['54', '182.6', '46.2', '58.7', '21.2']\n",
      "['55', '262.7', '28.8', '15.9', '20.2']\n",
      "['56', '198.9', '49.4', '60', '23.7']\n",
      "['57', '7.3', '28.1', '41.4', '5.5']\n",
      "['58', '136.2', '19.2', '16.6', '13.2']\n",
      "['59', '210.8', '49.6', '37.7', '23.8']\n",
      "['60', '210.7', '29.5', '9.3', '18.4']\n",
      "['61', '53.5', '2', '21.4', '8.1']\n",
      "['62', '261.3', '42.7', '54.7', '24.2']\n",
      "['63', '239.3', '15.5', '27.3', '15.7']\n",
      "['64', '102.7', '29.6', '8.4', '14']\n",
      "['65', '131.1', '42.8', '28.9', '18']\n",
      "['66', '69', '9.3', '0.9', '9.3']\n",
      "['67', '31.5', '24.6', '2.2', '9.5']\n",
      "['68', '139.3', '14.5', '10.2', '13.4']\n",
      "['69', '237.4', '27.5', '11', '18.9']\n",
      "['70', '216.8', '43.9', '27.2', '22.3']\n",
      "['71', '199.1', '30.6', '38.7', '18.3']\n",
      "['72', '109.8', '14.3', '31.7', '12.4']\n",
      "['73', '26.8', '33', '19.3', '8.8']\n",
      "['74', '129.4', '5.7', '31.3', '11']\n",
      "['75', '213.4', '24.6', '13.1', '17']\n",
      "['76', '16.9', '43.7', '89.4', '8.7']\n",
      "['77', '27.5', '1.6', '20.7', '6.9']\n",
      "['78', '120.5', '28.5', '14.2', '14.2']\n",
      "['79', '5.4', '29.9', '9.4', '5.3']\n",
      "['80', '116', '7.7', '23.1', '11']\n",
      "['81', '76.4', '26.7', '22.3', '11.8']\n",
      "['82', '239.8', '4.1', '36.9', '12.3']\n",
      "['83', '75.3', '20.3', '32.5', '11.3']\n",
      "['84', '68.4', '44.5', '35.6', '13.6']\n",
      "['85', '213.5', '43', '33.8', '21.7']\n",
      "['86', '193.2', '18.4', '65.7', '15.2']\n",
      "['87', '76.3', '27.5', '16', '12']\n",
      "['88', '110.7', '40.6', '63.2', '16']\n",
      "['89', '88.3', '25.5', '73.4', '12.9']\n",
      "['90', '109.8', '47.8', '51.4', '16.7']\n",
      "['91', '134.3', '4.9', '9.3', '11.2']\n",
      "['92', '28.6', '1.5', '33', '7.3']\n",
      "['93', '217.7', '33.5', '59', '19.4']\n",
      "['94', '250.9', '36.5', '72.3', '22.2']\n",
      "['95', '107.4', '14', '10.9', '11.5']\n",
      "['96', '163.3', '31.6', '52.9', '16.9']\n",
      "['97', '197.6', '3.5', '5.9', '11.7']\n",
      "['98', '184.9', '21', '22', '15.5']\n",
      "['99', '289.7', '42.3', '51.2', '25.4']\n",
      "['100', '135.2', '41.7', '45.9', '17.2']\n",
      "['101', '222.4', '4.3', '49.8', '11.7']\n",
      "['102', '296.4', '36.3', '100.9', '23.8']\n",
      "['103', '280.2', '10.1', '21.4', '14.8']\n",
      "['104', '187.9', '17.2', '17.9', '14.7']\n",
      "['105', '238.2', '34.3', '5.3', '20.7']\n",
      "['106', '137.9', '46.4', '59', '19.2']\n",
      "['107', '25', '11', '29.7', '7.2']\n",
      "['108', '90.4', '0.3', '23.2', '8.7']\n",
      "['109', '13.1', '0.4', '25.6', '5.3']\n",
      "['110', '255.4', '26.9', '5.5', '19.8']\n",
      "['111', '225.8', '8.2', '56.5', '13.4']\n",
      "['112', '241.7', '38', '23.2', '21.8']\n",
      "['113', '175.7', '15.4', '2.4', '14.1']\n",
      "['114', '209.6', '20.6', '10.7', '15.9']\n",
      "['115', '78.2', '46.8', '34.5', '14.6']\n",
      "['116', '75.1', '35', '52.7', '12.6']\n",
      "['117', '139.2', '14.3', '25.6', '12.2']\n",
      "['118', '76.4', '0.8', '14.8', '9.4']\n",
      "['119', '125.7', '36.9', '79.2', '15.9']\n",
      "['120', '19.4', '16', '22.3', '6.6']\n",
      "['121', '141.3', '26.8', '46.2', '15.5']\n",
      "['122', '18.8', '21.7', '50.4', '7']\n",
      "['123', '224', '2.4', '15.6', '11.6']\n",
      "['124', '123.1', '34.6', '12.4', '15.2']\n",
      "['125', '229.5', '32.3', '74.2', '19.7']\n",
      "['126', '87.2', '11.8', '25.9', '10.6']\n",
      "['127', '7.8', '38.9', '50.6', '6.6']\n",
      "['128', '80.2', '0', '9.2', '8.8']\n",
      "['129', '220.3', '49', '3.2', '24.7']\n",
      "['130', '59.6', '12', '43.1', '9.7']\n",
      "['131', '0.7', '39.6', '8.7', '1.6']\n",
      "['132', '265.2', '2.9', '43', '12.7']\n",
      "['133', '8.4', '27.2', '2.1', '5.7']\n",
      "['134', '219.8', '33.5', '45.1', '19.6']\n",
      "['135', '36.9', '38.6', '65.6', '10.8']\n",
      "['136', '48.3', '47', '8.5', '11.6']\n",
      "['137', '25.6', '39', '9.3', '9.5']\n",
      "['138', '273.7', '28.9', '59.7', '20.8']\n",
      "['139', '43', '25.9', '20.5', '9.6']\n",
      "['140', '184.9', '43.9', '1.7', '20.7']\n",
      "['141', '73.4', '17', '12.9', '10.9']\n",
      "['142', '193.7', '35.4', '75.6', '19.2']\n",
      "['143', '220.5', '33.2', '37.9', '20.1']\n",
      "['144', '104.6', '5.7', '34.4', '10.4']\n",
      "['145', '96.2', '14.8', '38.9', '11.4']\n",
      "['146', '140.3', '1.9', '9', '10.3']\n",
      "['147', '240.1', '7.3', '8.7', '13.2']\n",
      "['148', '243.2', '49', '44.3', '25.4']\n",
      "['149', '38', '40.3', '11.9', '10.9']\n",
      "['150', '44.7', '25.8', '20.6', '10.1']\n",
      "['151', '280.7', '13.9', '37', '16.1']\n",
      "['152', '121', '8.4', '48.7', '11.6']\n",
      "['153', '197.6', '23.3', '14.2', '16.6']\n",
      "['154', '171.3', '39.7', '37.7', '19']\n",
      "['155', '187.8', '21.1', '9.5', '15.6']\n",
      "['156', '4.1', '11.6', '5.7', '3.2']\n",
      "['157', '93.9', '43.5', '50.5', '15.3']\n",
      "['158', '149.8', '1.3', '24.3', '10.1']\n",
      "['159', '11.7', '36.9', '45.2', '7.3']\n",
      "['160', '131.7', '18.4', '34.6', '12.9']\n",
      "['161', '172.5', '18.1', '30.7', '14.4']\n",
      "['162', '85.7', '35.8', '49.3', '13.3']\n",
      "['163', '188.4', '18.1', '25.6', '14.9']\n",
      "['164', '163.5', '36.8', '7.4', '18']\n",
      "['165', '117.2', '14.7', '5.4', '11.9']\n",
      "['166', '234.5', '3.4', '84.8', '11.9']\n",
      "['167', '17.9', '37.6', '21.6', '8']\n",
      "['168', '206.8', '5.2', '19.4', '12.2']\n",
      "['169', '215.4', '23.6', '57.6', '17.1']\n",
      "['170', '284.3', '10.6', '6.4', '15']\n",
      "['171', '50', '11.6', '18.4', '8.4']\n",
      "['172', '164.5', '20.9', '47.4', '14.5']\n",
      "['173', '19.6', '20.1', '17', '7.6']\n",
      "['174', '168.4', '7.1', '12.8', '11.7']\n",
      "['175', '222.4', '3.4', '13.1', '11.5']\n",
      "['176', '276.9', '48.9', '41.8', '27']\n",
      "['177', '248.4', '30.2', '20.3', '20.2']\n",
      "['178', '170.2', '7.8', '35.2', '11.7']\n",
      "['179', '276.7', '2.3', '23.7', '11.8']\n",
      "['180', '165.6', '10', '17.6', '12.6']\n",
      "['181', '156.6', '2.6', '8.3', '10.5']\n",
      "['182', '218.5', '5.4', '27.4', '12.2']\n",
      "['183', '56.2', '5.7', '29.7', '8.7']\n",
      "['184', '287.6', '43', '71.8', '26.2']\n",
      "['185', '253.8', '21.3', '30', '17.6']\n",
      "['186', '205', '45.1', '19.6', '22.6']\n",
      "['187', '139.5', '2.1', '26.6', '10.3']\n",
      "['188', '191.1', '28.7', '18.2', '17.3']\n",
      "['189', '286', '13.9', '3.7', '15.9']\n",
      "['190', '18.7', '12.1', '23.4', '6.7']\n",
      "['191', '39.5', '41.1', '5.8', '10.8']\n",
      "['192', '75.5', '10.8', '6', '9.9']\n",
      "['193', '17.2', '4.1', '31.6', '5.9']\n",
      "['194', '166.8', '42', '3.6', '19.6']\n",
      "['195', '149.7', '35.6', '6', '17.3']\n",
      "['196', '38.2', '3.7', '13.8', '7.6']\n",
      "['197', '94.2', '4.9', '8.1', '9.7']\n",
      "['198', '177', '9.3', '6.4', '12.8']\n",
      "['199', '283.6', '42', '66.2', '25.5']\n",
      "['200', '232.1', '8.6', '8.7', '13.4']\n"
     ]
    }
   ],
   "source": [
    "with open(\"files/Advertising.csv\", 'r') as input_file:\n",
    "    reader = csv.reader(input_file)\n",
    "    for row in reader:\n",
    "        print(row)"
   ]
  },
  {
   "cell_type": "markdown",
   "metadata": {},
   "source": [
    "When you have data to be imported into some other application, writing ``csv`` files is just as easy as reading them. \n",
    "\n",
    "Use ``writer()`` to create an object for writing, then iterate over the rows, using ``writerow()`` to print them.  "
   ]
  },
  {
   "cell_type": "code",
   "execution_count": 10,
   "metadata": {
    "collapsed": true
   },
   "outputs": [],
   "source": [
    "import csv\n",
    "\n",
    "ifile  = open(\"files/Advertising.csv\", 'r')\n",
    "reader = csv.reader(ifile)\n",
    "\n",
    "ofile  = open('test.csv', \"w\")\n",
    "writer = csv.writer(ofile, delimiter=',', lineterminator='\\n')\n",
    "\n",
    "for row in reader:\n",
    "    writer.writerow(row)\n",
    "\n",
    "ifile.close()\n",
    "ofile.close()"
   ]
  },
  {
   "cell_type": "markdown",
   "metadata": {},
   "source": [
    "## Advanced Python\n",
    "\n",
    "### Functional Programming\n",
    "\n",
    "* lambda\n",
    "\n",
    "* map\n",
    "\n",
    "* filter\n",
    "\n",
    "* reduce"
   ]
  },
  {
   "cell_type": "markdown",
   "metadata": {},
   "source": [
    "#### Lambda\n",
    "\n",
    "Function without a name. Useful when you want to declare a function online, usally for using it as a parameter for another function."
   ]
  },
  {
   "cell_type": "code",
   "execution_count": null,
   "metadata": {
    "collapsed": true
   },
   "outputs": [],
   "source": [
    "def old_add (a,b):\n",
    "    return a+b\n",
    "\n",
    "new_add = lambda a, b: a + b\n",
    "\n",
    "new_add(4,5) == 4 + 5  and new_add(4,5) == old_add(4,5)\n"
   ]
  },
  {
   "cell_type": "code",
   "execution_count": null,
   "metadata": {
    "collapsed": true
   },
   "outputs": [],
   "source": [
    "? sorted"
   ]
  },
  {
   "cell_type": "code",
   "execution_count": null,
   "metadata": {
    "collapsed": true
   },
   "outputs": [],
   "source": [
    "unsorted = [('b', 6), ('a', 10), ('d', 0), ('c', 4)]\n",
    "print(sorted(unsorted))\n",
    "print(sorted(unsorted, key=lambda x: x[1]))"
   ]
  },
  {
   "cell_type": "markdown",
   "metadata": {},
   "source": [
    "#### Map\n",
    "\n",
    "Takes a function and a collection of values as a parameters. Exectutes the function in each element of the list. Useful when you want to use the functional pattern: map-reduce, normally when you wnat to process collections of data."
   ]
  },
  {
   "cell_type": "code",
   "execution_count": null,
   "metadata": {
    "collapsed": true
   },
   "outputs": [],
   "source": [
    "values = [1, 2, 3, 4, 5]\n",
    "# Note: We convert the returned map object to\n",
    "# a list data structure.\n",
    "\n",
    "add_10 = list(map(lambda x: x + 10, values))\n",
    "add_20 = list(map(lambda x: x + 20, values))\n",
    "print(add_10)\n",
    "print (add_20)\n"
   ]
  },
  {
   "cell_type": "code",
   "execution_count": null,
   "metadata": {
    "collapsed": true
   },
   "outputs": [],
   "source": [
    "import math\n",
    "list(map(math.sqrt,values))"
   ]
  },
  {
   "cell_type": "markdown",
   "metadata": {},
   "source": [
    "#### Filter\n",
    "Takes a boolen function and a collection of values as a parameters. Executes the boolean function to each value in the collection and return those of them that result is true. Useful for keep values that checks a certain test.\n"
   ]
  },
  {
   "cell_type": "code",
   "execution_count": null,
   "metadata": {
    "collapsed": true
   },
   "outputs": [],
   "source": [
    "values = [1, 2, 3, 4, 5, 6, 7, 8, 9, 10]\n",
    "\n",
    "# Note: We convert the returned filter object to\n",
    "# a list data structure.\n",
    "even = list(filter(lambda x: x % 2 == 0, values))\n",
    "odd = list(filter(lambda x: x % 2 == 1, values))\n",
    "\n",
    "print(even)\n",
    "\n",
    "print(odd)"
   ]
  },
  {
   "cell_type": "markdown",
   "metadata": {},
   "source": [
    "#### Reduce\n",
    "\n",
    "Takes a function with two parameters, one can be ignored, and returns a value which is an operation between the two parameters. It is useful to sum up the results of a collection aplying a function.\n"
   ]
  },
  {
   "cell_type": "code",
   "execution_count": null,
   "metadata": {
    "collapsed": true
   },
   "outputs": [],
   "source": [
    "from functools import reduce\n",
    "\n",
    "values = [1, 2, 3, 4]\n",
    "\n",
    "summed = reduce(lambda a, b: a + b, values)\n",
    "print(summed)\n"
   ]
  },
  {
   "cell_type": "markdown",
   "metadata": {},
   "source": [
    "### Lists (and dictionary) comprehensions\n",
    "\n",
    "Lists comprehensions are a way to fit a ``for`` loop, an ``if`` statement, and an assignment all in one line.\n",
    "\n",
    "A list comprehension consists of the following parts:\n",
    "\n",
    "+ An input sequence.\n",
    "+ A variable representing members of the input sequence.\n",
    "+ An optional expression.\n",
    "+ An output expression producing elements of the output list from members of the input sequence that satisfy the predicate.\n",
    "\n",
    "Map and filter can be rewrite like list comprehensions"
   ]
  },
  {
   "cell_type": "code",
   "execution_count": null,
   "metadata": {
    "collapsed": true
   },
   "outputs": [],
   "source": [
    "num = [1, 4, -5, 10, -7, 2, 3, -1]\n",
    "squared = [] #No pythonic! 4 lines, not just easy one! One iteration\n",
    "for i in num:\n",
    "     if i > 0:\n",
    "        squared.append(i**2)\n",
    "print(type(squared), squared)\n",
    "\n",
    "squared = [ x**2 for x in num if x > 0] # One itaration, first checks if it is true and then makes the computation\n",
    "print(type(squared), squared)\n",
    "\n",
    "squar2= map(lambda x: x**2 ,filter(lambda x: x>0, num))  ## Two iterations over num and over filtered list\n",
    "print(type(squared),list(squar2))"
   ]
  },
  {
   "cell_type": "markdown",
   "metadata": {},
   "source": [
    "+ Rewrite the previous map and filter examples using list comprhensions:"
   ]
  },
  {
   "cell_type": "code",
   "execution_count": null,
   "metadata": {
    "collapsed": true
   },
   "outputs": [],
   "source": [
    "#TODO here!"
   ]
  },
  {
   "cell_type": "markdown",
   "metadata": {},
   "source": [
    "\n",
    "* Iterating through two lists (using zip) vs nested fors vs Directories"
   ]
  },
  {
   "cell_type": "code",
   "execution_count": null,
   "metadata": {
    "collapsed": true
   },
   "outputs": [],
   "source": [
    "values1 = ['a','b','c','d']\n",
    "values2 = [1,2,3,4]\n",
    "\n",
    "print ([(i,j) for i in values1 for j in values2])\n",
    "\n",
    "print ([(i,j) for i,j in zip(values1,values2)])\n",
    "\n",
    "print ( {i:j for i,j in zip(values1,values2)} )\n",
    "    "
   ]
  },
  {
   "cell_type": "markdown",
   "metadata": {},
   "source": [
    "### Generators"
   ]
  },
  {
   "cell_type": "markdown",
   "metadata": {},
   "source": [
    "There is a downside to list comprehensions: the entire list has to be stored in memory at once. This isn’t a problem for small lists like the ones in the above examples, or even of lists several orders of magnitude larger. But we can use **<font color=\"red\">generators</font>** to solve this problem.\n",
    "\n",
    "Generator expressions do not load the whole list into memory at once, but instead create a *generator object* so only one list element has to be loaded at any time.\n",
    "\n",
    "Generator expressions have the same syntax as list comprehensions, but with parentheses around the outside instead of brackets:"
   ]
  },
  {
   "cell_type": "code",
   "execution_count": 7,
   "metadata": {},
   "outputs": [
    {
     "name": "stdout",
     "output_type": "stream",
     "text": [
      "<class 'generator'> <generator object <genexpr> at 0x10b192eb8>\n"
     ]
    }
   ],
   "source": [
    "num = [1, 4, -5, 10, -7, 2, 3, -1]\n",
    "\n",
    "squared = ( x**2 for x in num if x > 0 )\n",
    "print(type(squared), squared)"
   ]
  },
  {
   "cell_type": "code",
   "execution_count": 8,
   "metadata": {},
   "outputs": [
    {
     "name": "stdout",
     "output_type": "stream",
     "text": [
      "[1, 16, 100, 4, 9]\n"
     ]
    }
   ],
   "source": [
    "#The elements of the generator must be accessed by an iterator because they are generated when needed:\n",
    "\n",
    "lis = []\n",
    "for item in squared:\n",
    "    lis = lis + [item]\n",
    "print(lis)"
   ]
  },
  {
   "cell_type": "markdown",
   "metadata": {},
   "source": [
    "We can define our own generators with the ``yield`` statesment. For example, let's build a generator for the binary representation of a number between 0 and 1 with arbitrary precision."
   ]
  },
  {
   "cell_type": "code",
   "execution_count": 9,
   "metadata": {},
   "outputs": [
    {
     "name": "stdout",
     "output_type": "stream",
     "text": [
      ".0101010101\n"
     ]
    }
   ],
   "source": [
    "# binary representation of a number between 0 and 1 (b bits precision).\n",
    "\n",
    "def res(n,b):\n",
    "    bin_a = '.'\n",
    "    for i in range(b):\n",
    "        n *= 2\n",
    "        bin_a +=  str(int(n))\n",
    "        n = n % 1\n",
    "    return bin_a\n",
    "\n",
    "print(res(1/3.0,10))"
   ]
  },
  {
   "cell_type": "code",
   "execution_count": 11,
   "metadata": {},
   "outputs": [
    {
     "name": "stdout",
     "output_type": "stream",
     "text": [
      ".0101010101010101010101010101010101010101010101010101010000000000000000000000000000000000000000000000\n"
     ]
    }
   ],
   "source": [
    "# binary representation of a number between 0 and 1 (precision as needed).\n",
    "\n",
    "def binRep(n):\n",
    "    while True:\n",
    "        n *= 2\n",
    "        yield int(n)\n",
    "        n = n % 1\n",
    "\n",
    "\n",
    "a = binRep(1/3.) \n",
    "a_bin = '.'\n",
    "for i in range(100):\n",
    "    a_bin +=  str(next(a))\n",
    "    \n",
    "print(a_bin)"
   ]
  },
  {
   "cell_type": "markdown",
   "metadata": {},
   "source": [
    "A more ellegant way of reading a CSV file:\n",
    "+  Wrap the CSV reader in a function that returns a generator\n",
    "+  Use context managers ``with [callable] as [name]`` to ensure that the handle to the file is closed automatically.\n",
    "+  Use the ``csv.DictReader`` class when headers are present (otherwise just use ``csv.reader``)"
   ]
  },
  {
   "cell_type": "code",
   "execution_count": 12,
   "metadata": {},
   "outputs": [
    {
     "name": "stdout",
     "output_type": "stream",
     "text": [
      "OrderedDict([('', '1'), ('TV', '230.1'), ('Radio', '37.8'), ('Newspaper', '69.2'), ('Sales', '22.1')])\n",
      "OrderedDict([('', '2'), ('TV', '44.5'), ('Radio', '39.3'), ('Newspaper', '45.1'), ('Sales', '10.4')])\n",
      "OrderedDict([('', '3'), ('TV', '17.2'), ('Radio', '45.9'), ('Newspaper', '69.3'), ('Sales', '9.3')])\n",
      "OrderedDict([('', '4'), ('TV', '151.5'), ('Radio', '41.3'), ('Newspaper', '58.5'), ('Sales', '18.5')])\n",
      "OrderedDict([('', '5'), ('TV', '180.8'), ('Radio', '10.8'), ('Newspaper', '58.4'), ('Sales', '12.9')])\n",
      "OrderedDict([('', '6'), ('TV', '8.7'), ('Radio', '48.9'), ('Newspaper', '75'), ('Sales', '7.2')])\n",
      "OrderedDict([('', '7'), ('TV', '57.5'), ('Radio', '32.8'), ('Newspaper', '23.5'), ('Sales', '11.8')])\n",
      "OrderedDict([('', '8'), ('TV', '120.2'), ('Radio', '19.6'), ('Newspaper', '11.6'), ('Sales', '13.2')])\n",
      "OrderedDict([('', '9'), ('TV', '8.6'), ('Radio', '2.1'), ('Newspaper', '1'), ('Sales', '4.8')])\n",
      "OrderedDict([('', '10'), ('TV', '199.8'), ('Radio', '2.6'), ('Newspaper', '21.2'), ('Sales', '10.6')])\n",
      "OrderedDict([('', '11'), ('TV', '66.1'), ('Radio', '5.8'), ('Newspaper', '24.2'), ('Sales', '8.6')])\n",
      "OrderedDict([('', '12'), ('TV', '214.7'), ('Radio', '24'), ('Newspaper', '4'), ('Sales', '17.4')])\n",
      "OrderedDict([('', '13'), ('TV', '23.8'), ('Radio', '35.1'), ('Newspaper', '65.9'), ('Sales', '9.2')])\n",
      "OrderedDict([('', '14'), ('TV', '97.5'), ('Radio', '7.6'), ('Newspaper', '7.2'), ('Sales', '9.7')])\n",
      "OrderedDict([('', '15'), ('TV', '204.1'), ('Radio', '32.9'), ('Newspaper', '46'), ('Sales', '19')])\n"
     ]
    }
   ],
   "source": [
    "import csv\n",
    "\n",
    "ADV = 'files/Advertising.csv'\n",
    "\n",
    "def read_data(path):\n",
    "    with open(path, 'r') as data:\n",
    "        reader = csv.DictReader(data)\n",
    "        for row in reader:\n",
    "            yield row\n",
    "\n",
    "for idx, row in enumerate(read_data(ADV)):\n",
    "    if idx < 15: print(row)\n",
    "    else: break"
   ]
  },
  {
   "cell_type": "markdown",
   "metadata": {},
   "source": [
    "The file is not opened, read, or parsed until you need it. This is powerful because it means that even for much larger data sets you will have efficient, portable code. "
   ]
  },
  {
   "cell_type": "code",
   "execution_count": 13,
   "metadata": {},
   "outputs": [
    {
     "name": "stdout",
     "output_type": "stream",
     "text": [
      "<generator object read_data at 0x10b1c95c8>\n",
      "OrderedDict([('', '1'), ('TV', '230.1'), ('Radio', '37.8'), ('Newspaper', '69.2'), ('Sales', '22.1')])\n",
      "OrderedDict([('', '2'), ('TV', '44.5'), ('Radio', '39.3'), ('Newspaper', '45.1'), ('Sales', '10.4')])\n",
      "OrderedDict([('', '3'), ('TV', '17.2'), ('Radio', '45.9'), ('Newspaper', '69.3'), ('Sales', '9.3')])\n",
      "OrderedDict([('', '4'), ('TV', '151.5'), ('Radio', '41.3'), ('Newspaper', '58.5'), ('Sales', '18.5')])\n",
      "OrderedDict([('', '5'), ('TV', '180.8'), ('Radio', '10.8'), ('Newspaper', '58.4'), ('Sales', '12.9')])\n",
      "OrderedDict([('', '6'), ('TV', '8.7'), ('Radio', '48.9'), ('Newspaper', '75'), ('Sales', '7.2')])\n",
      "OrderedDict([('', '7'), ('TV', '57.5'), ('Radio', '32.8'), ('Newspaper', '23.5'), ('Sales', '11.8')])\n",
      "OrderedDict([('', '8'), ('TV', '120.2'), ('Radio', '19.6'), ('Newspaper', '11.6'), ('Sales', '13.2')])\n",
      "OrderedDict([('', '9'), ('TV', '8.6'), ('Radio', '2.1'), ('Newspaper', '1'), ('Sales', '4.8')])\n",
      "OrderedDict([('', '10'), ('TV', '199.8'), ('Radio', '2.6'), ('Newspaper', '21.2'), ('Sales', '10.6')])\n",
      "OrderedDict([('', '11'), ('TV', '66.1'), ('Radio', '5.8'), ('Newspaper', '24.2'), ('Sales', '8.6')])\n",
      "OrderedDict([('', '12'), ('TV', '214.7'), ('Radio', '24'), ('Newspaper', '4'), ('Sales', '17.4')])\n",
      "OrderedDict([('', '13'), ('TV', '23.8'), ('Radio', '35.1'), ('Newspaper', '65.9'), ('Sales', '9.2')])\n",
      "OrderedDict([('', '14'), ('TV', '97.5'), ('Radio', '7.6'), ('Newspaper', '7.2'), ('Sales', '9.7')])\n",
      "OrderedDict([('', '15'), ('TV', '204.1'), ('Radio', '32.9'), ('Newspaper', '46'), ('Sales', '19')])\n",
      "OrderedDict([('', '16'), ('TV', '195.4'), ('Radio', '47.7'), ('Newspaper', '52.9'), ('Sales', '22.4')])\n",
      "OrderedDict([('', '17'), ('TV', '67.8'), ('Radio', '36.6'), ('Newspaper', '114'), ('Sales', '12.5')])\n",
      "OrderedDict([('', '18'), ('TV', '281.4'), ('Radio', '39.6'), ('Newspaper', '55.8'), ('Sales', '24.4')])\n",
      "OrderedDict([('', '19'), ('TV', '69.2'), ('Radio', '20.5'), ('Newspaper', '18.3'), ('Sales', '11.3')])\n",
      "OrderedDict([('', '20'), ('TV', '147.3'), ('Radio', '23.9'), ('Newspaper', '19.1'), ('Sales', '14.6')])\n",
      "OrderedDict([('', '21'), ('TV', '218.4'), ('Radio', '27.7'), ('Newspaper', '53.4'), ('Sales', '18')])\n",
      "OrderedDict([('', '22'), ('TV', '237.4'), ('Radio', '5.1'), ('Newspaper', '23.5'), ('Sales', '12.5')])\n",
      "OrderedDict([('', '23'), ('TV', '13.2'), ('Radio', '15.9'), ('Newspaper', '49.6'), ('Sales', '5.6')])\n",
      "OrderedDict([('', '24'), ('TV', '228.3'), ('Radio', '16.9'), ('Newspaper', '26.2'), ('Sales', '15.5')])\n",
      "OrderedDict([('', '25'), ('TV', '62.3'), ('Radio', '12.6'), ('Newspaper', '18.3'), ('Sales', '9.7')])\n",
      "OrderedDict([('', '26'), ('TV', '262.9'), ('Radio', '3.5'), ('Newspaper', '19.5'), ('Sales', '12')])\n",
      "OrderedDict([('', '27'), ('TV', '142.9'), ('Radio', '29.3'), ('Newspaper', '12.6'), ('Sales', '15')])\n",
      "OrderedDict([('', '28'), ('TV', '240.1'), ('Radio', '16.7'), ('Newspaper', '22.9'), ('Sales', '15.9')])\n",
      "OrderedDict([('', '29'), ('TV', '248.8'), ('Radio', '27.1'), ('Newspaper', '22.9'), ('Sales', '18.9')])\n",
      "OrderedDict([('', '30'), ('TV', '70.6'), ('Radio', '16'), ('Newspaper', '40.8'), ('Sales', '10.5')])\n",
      "OrderedDict([('', '31'), ('TV', '292.9'), ('Radio', '28.3'), ('Newspaper', '43.2'), ('Sales', '21.4')])\n",
      "OrderedDict([('', '32'), ('TV', '112.9'), ('Radio', '17.4'), ('Newspaper', '38.6'), ('Sales', '11.9')])\n",
      "OrderedDict([('', '33'), ('TV', '97.2'), ('Radio', '1.5'), ('Newspaper', '30'), ('Sales', '9.6')])\n",
      "OrderedDict([('', '34'), ('TV', '265.6'), ('Radio', '20'), ('Newspaper', '0.3'), ('Sales', '17.4')])\n",
      "OrderedDict([('', '35'), ('TV', '95.7'), ('Radio', '1.4'), ('Newspaper', '7.4'), ('Sales', '9.5')])\n",
      "OrderedDict([('', '36'), ('TV', '290.7'), ('Radio', '4.1'), ('Newspaper', '8.5'), ('Sales', '12.8')])\n",
      "OrderedDict([('', '37'), ('TV', '266.9'), ('Radio', '43.8'), ('Newspaper', '5'), ('Sales', '25.4')])\n",
      "OrderedDict([('', '38'), ('TV', '74.7'), ('Radio', '49.4'), ('Newspaper', '45.7'), ('Sales', '14.7')])\n",
      "OrderedDict([('', '39'), ('TV', '43.1'), ('Radio', '26.7'), ('Newspaper', '35.1'), ('Sales', '10.1')])\n",
      "OrderedDict([('', '40'), ('TV', '228'), ('Radio', '37.7'), ('Newspaper', '32'), ('Sales', '21.5')])\n",
      "OrderedDict([('', '41'), ('TV', '202.5'), ('Radio', '22.3'), ('Newspaper', '31.6'), ('Sales', '16.6')])\n",
      "OrderedDict([('', '42'), ('TV', '177'), ('Radio', '33.4'), ('Newspaper', '38.7'), ('Sales', '17.1')])\n",
      "OrderedDict([('', '43'), ('TV', '293.6'), ('Radio', '27.7'), ('Newspaper', '1.8'), ('Sales', '20.7')])\n",
      "OrderedDict([('', '44'), ('TV', '206.9'), ('Radio', '8.4'), ('Newspaper', '26.4'), ('Sales', '12.9')])\n",
      "OrderedDict([('', '45'), ('TV', '25.1'), ('Radio', '25.7'), ('Newspaper', '43.3'), ('Sales', '8.5')])\n",
      "OrderedDict([('', '46'), ('TV', '175.1'), ('Radio', '22.5'), ('Newspaper', '31.5'), ('Sales', '14.9')])\n",
      "OrderedDict([('', '47'), ('TV', '89.7'), ('Radio', '9.9'), ('Newspaper', '35.7'), ('Sales', '10.6')])\n",
      "OrderedDict([('', '48'), ('TV', '239.9'), ('Radio', '41.5'), ('Newspaper', '18.5'), ('Sales', '23.2')])\n",
      "OrderedDict([('', '49'), ('TV', '227.2'), ('Radio', '15.8'), ('Newspaper', '49.9'), ('Sales', '14.8')])\n",
      "OrderedDict([('', '50'), ('TV', '66.9'), ('Radio', '11.7'), ('Newspaper', '36.8'), ('Sales', '9.7')])\n",
      "OrderedDict([('', '51'), ('TV', '199.8'), ('Radio', '3.1'), ('Newspaper', '34.6'), ('Sales', '11.4')])\n",
      "OrderedDict([('', '52'), ('TV', '100.4'), ('Radio', '9.6'), ('Newspaper', '3.6'), ('Sales', '10.7')])\n",
      "OrderedDict([('', '53'), ('TV', '216.4'), ('Radio', '41.7'), ('Newspaper', '39.6'), ('Sales', '22.6')])\n",
      "OrderedDict([('', '54'), ('TV', '182.6'), ('Radio', '46.2'), ('Newspaper', '58.7'), ('Sales', '21.2')])\n",
      "OrderedDict([('', '55'), ('TV', '262.7'), ('Radio', '28.8'), ('Newspaper', '15.9'), ('Sales', '20.2')])\n",
      "OrderedDict([('', '56'), ('TV', '198.9'), ('Radio', '49.4'), ('Newspaper', '60'), ('Sales', '23.7')])\n",
      "OrderedDict([('', '57'), ('TV', '7.3'), ('Radio', '28.1'), ('Newspaper', '41.4'), ('Sales', '5.5')])\n",
      "OrderedDict([('', '58'), ('TV', '136.2'), ('Radio', '19.2'), ('Newspaper', '16.6'), ('Sales', '13.2')])\n",
      "OrderedDict([('', '59'), ('TV', '210.8'), ('Radio', '49.6'), ('Newspaper', '37.7'), ('Sales', '23.8')])\n",
      "OrderedDict([('', '60'), ('TV', '210.7'), ('Radio', '29.5'), ('Newspaper', '9.3'), ('Sales', '18.4')])\n",
      "OrderedDict([('', '61'), ('TV', '53.5'), ('Radio', '2'), ('Newspaper', '21.4'), ('Sales', '8.1')])\n",
      "OrderedDict([('', '62'), ('TV', '261.3'), ('Radio', '42.7'), ('Newspaper', '54.7'), ('Sales', '24.2')])\n",
      "OrderedDict([('', '63'), ('TV', '239.3'), ('Radio', '15.5'), ('Newspaper', '27.3'), ('Sales', '15.7')])\n",
      "OrderedDict([('', '64'), ('TV', '102.7'), ('Radio', '29.6'), ('Newspaper', '8.4'), ('Sales', '14')])\n",
      "OrderedDict([('', '65'), ('TV', '131.1'), ('Radio', '42.8'), ('Newspaper', '28.9'), ('Sales', '18')])\n",
      "OrderedDict([('', '66'), ('TV', '69'), ('Radio', '9.3'), ('Newspaper', '0.9'), ('Sales', '9.3')])\n",
      "OrderedDict([('', '67'), ('TV', '31.5'), ('Radio', '24.6'), ('Newspaper', '2.2'), ('Sales', '9.5')])\n",
      "OrderedDict([('', '68'), ('TV', '139.3'), ('Radio', '14.5'), ('Newspaper', '10.2'), ('Sales', '13.4')])\n",
      "OrderedDict([('', '69'), ('TV', '237.4'), ('Radio', '27.5'), ('Newspaper', '11'), ('Sales', '18.9')])\n",
      "OrderedDict([('', '70'), ('TV', '216.8'), ('Radio', '43.9'), ('Newspaper', '27.2'), ('Sales', '22.3')])\n",
      "OrderedDict([('', '71'), ('TV', '199.1'), ('Radio', '30.6'), ('Newspaper', '38.7'), ('Sales', '18.3')])\n",
      "OrderedDict([('', '72'), ('TV', '109.8'), ('Radio', '14.3'), ('Newspaper', '31.7'), ('Sales', '12.4')])\n",
      "OrderedDict([('', '73'), ('TV', '26.8'), ('Radio', '33'), ('Newspaper', '19.3'), ('Sales', '8.8')])\n",
      "OrderedDict([('', '74'), ('TV', '129.4'), ('Radio', '5.7'), ('Newspaper', '31.3'), ('Sales', '11')])\n",
      "OrderedDict([('', '75'), ('TV', '213.4'), ('Radio', '24.6'), ('Newspaper', '13.1'), ('Sales', '17')])\n",
      "OrderedDict([('', '76'), ('TV', '16.9'), ('Radio', '43.7'), ('Newspaper', '89.4'), ('Sales', '8.7')])\n",
      "OrderedDict([('', '77'), ('TV', '27.5'), ('Radio', '1.6'), ('Newspaper', '20.7'), ('Sales', '6.9')])\n",
      "OrderedDict([('', '78'), ('TV', '120.5'), ('Radio', '28.5'), ('Newspaper', '14.2'), ('Sales', '14.2')])\n",
      "OrderedDict([('', '79'), ('TV', '5.4'), ('Radio', '29.9'), ('Newspaper', '9.4'), ('Sales', '5.3')])\n",
      "OrderedDict([('', '80'), ('TV', '116'), ('Radio', '7.7'), ('Newspaper', '23.1'), ('Sales', '11')])\n",
      "OrderedDict([('', '81'), ('TV', '76.4'), ('Radio', '26.7'), ('Newspaper', '22.3'), ('Sales', '11.8')])\n",
      "OrderedDict([('', '82'), ('TV', '239.8'), ('Radio', '4.1'), ('Newspaper', '36.9'), ('Sales', '12.3')])\n",
      "OrderedDict([('', '83'), ('TV', '75.3'), ('Radio', '20.3'), ('Newspaper', '32.5'), ('Sales', '11.3')])\n",
      "OrderedDict([('', '84'), ('TV', '68.4'), ('Radio', '44.5'), ('Newspaper', '35.6'), ('Sales', '13.6')])\n",
      "OrderedDict([('', '85'), ('TV', '213.5'), ('Radio', '43'), ('Newspaper', '33.8'), ('Sales', '21.7')])\n",
      "OrderedDict([('', '86'), ('TV', '193.2'), ('Radio', '18.4'), ('Newspaper', '65.7'), ('Sales', '15.2')])\n",
      "OrderedDict([('', '87'), ('TV', '76.3'), ('Radio', '27.5'), ('Newspaper', '16'), ('Sales', '12')])\n",
      "OrderedDict([('', '88'), ('TV', '110.7'), ('Radio', '40.6'), ('Newspaper', '63.2'), ('Sales', '16')])\n",
      "OrderedDict([('', '89'), ('TV', '88.3'), ('Radio', '25.5'), ('Newspaper', '73.4'), ('Sales', '12.9')])\n",
      "OrderedDict([('', '90'), ('TV', '109.8'), ('Radio', '47.8'), ('Newspaper', '51.4'), ('Sales', '16.7')])\n",
      "OrderedDict([('', '91'), ('TV', '134.3'), ('Radio', '4.9'), ('Newspaper', '9.3'), ('Sales', '11.2')])\n",
      "OrderedDict([('', '92'), ('TV', '28.6'), ('Radio', '1.5'), ('Newspaper', '33'), ('Sales', '7.3')])\n",
      "OrderedDict([('', '93'), ('TV', '217.7'), ('Radio', '33.5'), ('Newspaper', '59'), ('Sales', '19.4')])\n",
      "OrderedDict([('', '94'), ('TV', '250.9'), ('Radio', '36.5'), ('Newspaper', '72.3'), ('Sales', '22.2')])\n",
      "OrderedDict([('', '95'), ('TV', '107.4'), ('Radio', '14'), ('Newspaper', '10.9'), ('Sales', '11.5')])\n",
      "OrderedDict([('', '96'), ('TV', '163.3'), ('Radio', '31.6'), ('Newspaper', '52.9'), ('Sales', '16.9')])\n",
      "OrderedDict([('', '97'), ('TV', '197.6'), ('Radio', '3.5'), ('Newspaper', '5.9'), ('Sales', '11.7')])\n",
      "OrderedDict([('', '98'), ('TV', '184.9'), ('Radio', '21'), ('Newspaper', '22'), ('Sales', '15.5')])\n",
      "OrderedDict([('', '99'), ('TV', '289.7'), ('Radio', '42.3'), ('Newspaper', '51.2'), ('Sales', '25.4')])\n",
      "OrderedDict([('', '100'), ('TV', '135.2'), ('Radio', '41.7'), ('Newspaper', '45.9'), ('Sales', '17.2')])\n",
      "OrderedDict([('', '101'), ('TV', '222.4'), ('Radio', '4.3'), ('Newspaper', '49.8'), ('Sales', '11.7')])\n",
      "OrderedDict([('', '102'), ('TV', '296.4'), ('Radio', '36.3'), ('Newspaper', '100.9'), ('Sales', '23.8')])\n",
      "OrderedDict([('', '103'), ('TV', '280.2'), ('Radio', '10.1'), ('Newspaper', '21.4'), ('Sales', '14.8')])\n",
      "OrderedDict([('', '104'), ('TV', '187.9'), ('Radio', '17.2'), ('Newspaper', '17.9'), ('Sales', '14.7')])\n",
      "OrderedDict([('', '105'), ('TV', '238.2'), ('Radio', '34.3'), ('Newspaper', '5.3'), ('Sales', '20.7')])\n",
      "OrderedDict([('', '106'), ('TV', '137.9'), ('Radio', '46.4'), ('Newspaper', '59'), ('Sales', '19.2')])\n",
      "OrderedDict([('', '107'), ('TV', '25'), ('Radio', '11'), ('Newspaper', '29.7'), ('Sales', '7.2')])\n",
      "OrderedDict([('', '108'), ('TV', '90.4'), ('Radio', '0.3'), ('Newspaper', '23.2'), ('Sales', '8.7')])\n",
      "OrderedDict([('', '109'), ('TV', '13.1'), ('Radio', '0.4'), ('Newspaper', '25.6'), ('Sales', '5.3')])\n",
      "OrderedDict([('', '110'), ('TV', '255.4'), ('Radio', '26.9'), ('Newspaper', '5.5'), ('Sales', '19.8')])\n",
      "OrderedDict([('', '111'), ('TV', '225.8'), ('Radio', '8.2'), ('Newspaper', '56.5'), ('Sales', '13.4')])\n",
      "OrderedDict([('', '112'), ('TV', '241.7'), ('Radio', '38'), ('Newspaper', '23.2'), ('Sales', '21.8')])\n",
      "OrderedDict([('', '113'), ('TV', '175.7'), ('Radio', '15.4'), ('Newspaper', '2.4'), ('Sales', '14.1')])\n",
      "OrderedDict([('', '114'), ('TV', '209.6'), ('Radio', '20.6'), ('Newspaper', '10.7'), ('Sales', '15.9')])\n",
      "OrderedDict([('', '115'), ('TV', '78.2'), ('Radio', '46.8'), ('Newspaper', '34.5'), ('Sales', '14.6')])\n",
      "OrderedDict([('', '116'), ('TV', '75.1'), ('Radio', '35'), ('Newspaper', '52.7'), ('Sales', '12.6')])\n",
      "OrderedDict([('', '117'), ('TV', '139.2'), ('Radio', '14.3'), ('Newspaper', '25.6'), ('Sales', '12.2')])\n",
      "OrderedDict([('', '118'), ('TV', '76.4'), ('Radio', '0.8'), ('Newspaper', '14.8'), ('Sales', '9.4')])\n",
      "OrderedDict([('', '119'), ('TV', '125.7'), ('Radio', '36.9'), ('Newspaper', '79.2'), ('Sales', '15.9')])\n",
      "OrderedDict([('', '120'), ('TV', '19.4'), ('Radio', '16'), ('Newspaper', '22.3'), ('Sales', '6.6')])\n",
      "OrderedDict([('', '121'), ('TV', '141.3'), ('Radio', '26.8'), ('Newspaper', '46.2'), ('Sales', '15.5')])\n",
      "OrderedDict([('', '122'), ('TV', '18.8'), ('Radio', '21.7'), ('Newspaper', '50.4'), ('Sales', '7')])\n",
      "OrderedDict([('', '123'), ('TV', '224'), ('Radio', '2.4'), ('Newspaper', '15.6'), ('Sales', '11.6')])\n",
      "OrderedDict([('', '124'), ('TV', '123.1'), ('Radio', '34.6'), ('Newspaper', '12.4'), ('Sales', '15.2')])\n",
      "OrderedDict([('', '125'), ('TV', '229.5'), ('Radio', '32.3'), ('Newspaper', '74.2'), ('Sales', '19.7')])\n",
      "OrderedDict([('', '126'), ('TV', '87.2'), ('Radio', '11.8'), ('Newspaper', '25.9'), ('Sales', '10.6')])\n",
      "OrderedDict([('', '127'), ('TV', '7.8'), ('Radio', '38.9'), ('Newspaper', '50.6'), ('Sales', '6.6')])\n",
      "OrderedDict([('', '128'), ('TV', '80.2'), ('Radio', '0'), ('Newspaper', '9.2'), ('Sales', '8.8')])\n",
      "OrderedDict([('', '129'), ('TV', '220.3'), ('Radio', '49'), ('Newspaper', '3.2'), ('Sales', '24.7')])\n",
      "OrderedDict([('', '130'), ('TV', '59.6'), ('Radio', '12'), ('Newspaper', '43.1'), ('Sales', '9.7')])\n",
      "OrderedDict([('', '131'), ('TV', '0.7'), ('Radio', '39.6'), ('Newspaper', '8.7'), ('Sales', '1.6')])\n",
      "OrderedDict([('', '132'), ('TV', '265.2'), ('Radio', '2.9'), ('Newspaper', '43'), ('Sales', '12.7')])\n",
      "OrderedDict([('', '133'), ('TV', '8.4'), ('Radio', '27.2'), ('Newspaper', '2.1'), ('Sales', '5.7')])\n",
      "OrderedDict([('', '134'), ('TV', '219.8'), ('Radio', '33.5'), ('Newspaper', '45.1'), ('Sales', '19.6')])\n",
      "OrderedDict([('', '135'), ('TV', '36.9'), ('Radio', '38.6'), ('Newspaper', '65.6'), ('Sales', '10.8')])\n",
      "OrderedDict([('', '136'), ('TV', '48.3'), ('Radio', '47'), ('Newspaper', '8.5'), ('Sales', '11.6')])\n",
      "OrderedDict([('', '137'), ('TV', '25.6'), ('Radio', '39'), ('Newspaper', '9.3'), ('Sales', '9.5')])\n",
      "OrderedDict([('', '138'), ('TV', '273.7'), ('Radio', '28.9'), ('Newspaper', '59.7'), ('Sales', '20.8')])\n",
      "OrderedDict([('', '139'), ('TV', '43'), ('Radio', '25.9'), ('Newspaper', '20.5'), ('Sales', '9.6')])\n",
      "OrderedDict([('', '140'), ('TV', '184.9'), ('Radio', '43.9'), ('Newspaper', '1.7'), ('Sales', '20.7')])\n",
      "OrderedDict([('', '141'), ('TV', '73.4'), ('Radio', '17'), ('Newspaper', '12.9'), ('Sales', '10.9')])\n",
      "OrderedDict([('', '142'), ('TV', '193.7'), ('Radio', '35.4'), ('Newspaper', '75.6'), ('Sales', '19.2')])\n",
      "OrderedDict([('', '143'), ('TV', '220.5'), ('Radio', '33.2'), ('Newspaper', '37.9'), ('Sales', '20.1')])\n",
      "OrderedDict([('', '144'), ('TV', '104.6'), ('Radio', '5.7'), ('Newspaper', '34.4'), ('Sales', '10.4')])\n",
      "OrderedDict([('', '145'), ('TV', '96.2'), ('Radio', '14.8'), ('Newspaper', '38.9'), ('Sales', '11.4')])\n",
      "OrderedDict([('', '146'), ('TV', '140.3'), ('Radio', '1.9'), ('Newspaper', '9'), ('Sales', '10.3')])\n",
      "OrderedDict([('', '147'), ('TV', '240.1'), ('Radio', '7.3'), ('Newspaper', '8.7'), ('Sales', '13.2')])\n",
      "OrderedDict([('', '148'), ('TV', '243.2'), ('Radio', '49'), ('Newspaper', '44.3'), ('Sales', '25.4')])\n",
      "OrderedDict([('', '149'), ('TV', '38'), ('Radio', '40.3'), ('Newspaper', '11.9'), ('Sales', '10.9')])\n",
      "OrderedDict([('', '150'), ('TV', '44.7'), ('Radio', '25.8'), ('Newspaper', '20.6'), ('Sales', '10.1')])\n",
      "OrderedDict([('', '151'), ('TV', '280.7'), ('Radio', '13.9'), ('Newspaper', '37'), ('Sales', '16.1')])\n",
      "OrderedDict([('', '152'), ('TV', '121'), ('Radio', '8.4'), ('Newspaper', '48.7'), ('Sales', '11.6')])\n",
      "OrderedDict([('', '153'), ('TV', '197.6'), ('Radio', '23.3'), ('Newspaper', '14.2'), ('Sales', '16.6')])\n",
      "OrderedDict([('', '154'), ('TV', '171.3'), ('Radio', '39.7'), ('Newspaper', '37.7'), ('Sales', '19')])\n",
      "OrderedDict([('', '155'), ('TV', '187.8'), ('Radio', '21.1'), ('Newspaper', '9.5'), ('Sales', '15.6')])\n",
      "OrderedDict([('', '156'), ('TV', '4.1'), ('Radio', '11.6'), ('Newspaper', '5.7'), ('Sales', '3.2')])\n",
      "OrderedDict([('', '157'), ('TV', '93.9'), ('Radio', '43.5'), ('Newspaper', '50.5'), ('Sales', '15.3')])\n",
      "OrderedDict([('', '158'), ('TV', '149.8'), ('Radio', '1.3'), ('Newspaper', '24.3'), ('Sales', '10.1')])\n",
      "OrderedDict([('', '159'), ('TV', '11.7'), ('Radio', '36.9'), ('Newspaper', '45.2'), ('Sales', '7.3')])\n",
      "OrderedDict([('', '160'), ('TV', '131.7'), ('Radio', '18.4'), ('Newspaper', '34.6'), ('Sales', '12.9')])\n",
      "OrderedDict([('', '161'), ('TV', '172.5'), ('Radio', '18.1'), ('Newspaper', '30.7'), ('Sales', '14.4')])\n",
      "OrderedDict([('', '162'), ('TV', '85.7'), ('Radio', '35.8'), ('Newspaper', '49.3'), ('Sales', '13.3')])\n",
      "OrderedDict([('', '163'), ('TV', '188.4'), ('Radio', '18.1'), ('Newspaper', '25.6'), ('Sales', '14.9')])\n",
      "OrderedDict([('', '164'), ('TV', '163.5'), ('Radio', '36.8'), ('Newspaper', '7.4'), ('Sales', '18')])\n",
      "OrderedDict([('', '165'), ('TV', '117.2'), ('Radio', '14.7'), ('Newspaper', '5.4'), ('Sales', '11.9')])\n",
      "OrderedDict([('', '166'), ('TV', '234.5'), ('Radio', '3.4'), ('Newspaper', '84.8'), ('Sales', '11.9')])\n",
      "OrderedDict([('', '167'), ('TV', '17.9'), ('Radio', '37.6'), ('Newspaper', '21.6'), ('Sales', '8')])\n",
      "OrderedDict([('', '168'), ('TV', '206.8'), ('Radio', '5.2'), ('Newspaper', '19.4'), ('Sales', '12.2')])\n",
      "OrderedDict([('', '169'), ('TV', '215.4'), ('Radio', '23.6'), ('Newspaper', '57.6'), ('Sales', '17.1')])\n",
      "OrderedDict([('', '170'), ('TV', '284.3'), ('Radio', '10.6'), ('Newspaper', '6.4'), ('Sales', '15')])\n",
      "OrderedDict([('', '171'), ('TV', '50'), ('Radio', '11.6'), ('Newspaper', '18.4'), ('Sales', '8.4')])\n",
      "OrderedDict([('', '172'), ('TV', '164.5'), ('Radio', '20.9'), ('Newspaper', '47.4'), ('Sales', '14.5')])\n",
      "OrderedDict([('', '173'), ('TV', '19.6'), ('Radio', '20.1'), ('Newspaper', '17'), ('Sales', '7.6')])\n",
      "OrderedDict([('', '174'), ('TV', '168.4'), ('Radio', '7.1'), ('Newspaper', '12.8'), ('Sales', '11.7')])\n",
      "OrderedDict([('', '175'), ('TV', '222.4'), ('Radio', '3.4'), ('Newspaper', '13.1'), ('Sales', '11.5')])\n",
      "OrderedDict([('', '176'), ('TV', '276.9'), ('Radio', '48.9'), ('Newspaper', '41.8'), ('Sales', '27')])\n",
      "OrderedDict([('', '177'), ('TV', '248.4'), ('Radio', '30.2'), ('Newspaper', '20.3'), ('Sales', '20.2')])\n",
      "OrderedDict([('', '178'), ('TV', '170.2'), ('Radio', '7.8'), ('Newspaper', '35.2'), ('Sales', '11.7')])\n",
      "OrderedDict([('', '179'), ('TV', '276.7'), ('Radio', '2.3'), ('Newspaper', '23.7'), ('Sales', '11.8')])\n",
      "OrderedDict([('', '180'), ('TV', '165.6'), ('Radio', '10'), ('Newspaper', '17.6'), ('Sales', '12.6')])\n",
      "OrderedDict([('', '181'), ('TV', '156.6'), ('Radio', '2.6'), ('Newspaper', '8.3'), ('Sales', '10.5')])\n",
      "OrderedDict([('', '182'), ('TV', '218.5'), ('Radio', '5.4'), ('Newspaper', '27.4'), ('Sales', '12.2')])\n",
      "OrderedDict([('', '183'), ('TV', '56.2'), ('Radio', '5.7'), ('Newspaper', '29.7'), ('Sales', '8.7')])\n",
      "OrderedDict([('', '184'), ('TV', '287.6'), ('Radio', '43'), ('Newspaper', '71.8'), ('Sales', '26.2')])\n",
      "OrderedDict([('', '185'), ('TV', '253.8'), ('Radio', '21.3'), ('Newspaper', '30'), ('Sales', '17.6')])\n",
      "OrderedDict([('', '186'), ('TV', '205'), ('Radio', '45.1'), ('Newspaper', '19.6'), ('Sales', '22.6')])\n",
      "OrderedDict([('', '187'), ('TV', '139.5'), ('Radio', '2.1'), ('Newspaper', '26.6'), ('Sales', '10.3')])\n",
      "OrderedDict([('', '188'), ('TV', '191.1'), ('Radio', '28.7'), ('Newspaper', '18.2'), ('Sales', '17.3')])\n",
      "OrderedDict([('', '189'), ('TV', '286'), ('Radio', '13.9'), ('Newspaper', '3.7'), ('Sales', '15.9')])\n",
      "OrderedDict([('', '190'), ('TV', '18.7'), ('Radio', '12.1'), ('Newspaper', '23.4'), ('Sales', '6.7')])\n",
      "OrderedDict([('', '191'), ('TV', '39.5'), ('Radio', '41.1'), ('Newspaper', '5.8'), ('Sales', '10.8')])\n",
      "OrderedDict([('', '192'), ('TV', '75.5'), ('Radio', '10.8'), ('Newspaper', '6'), ('Sales', '9.9')])\n",
      "OrderedDict([('', '193'), ('TV', '17.2'), ('Radio', '4.1'), ('Newspaper', '31.6'), ('Sales', '5.9')])\n",
      "OrderedDict([('', '194'), ('TV', '166.8'), ('Radio', '42'), ('Newspaper', '3.6'), ('Sales', '19.6')])\n",
      "OrderedDict([('', '195'), ('TV', '149.7'), ('Radio', '35.6'), ('Newspaper', '6'), ('Sales', '17.3')])\n",
      "OrderedDict([('', '196'), ('TV', '38.2'), ('Radio', '3.7'), ('Newspaper', '13.8'), ('Sales', '7.6')])\n",
      "OrderedDict([('', '197'), ('TV', '94.2'), ('Radio', '4.9'), ('Newspaper', '8.1'), ('Sales', '9.7')])\n",
      "OrderedDict([('', '198'), ('TV', '177'), ('Radio', '9.3'), ('Newspaper', '6.4'), ('Sales', '12.8')])\n",
      "OrderedDict([('', '199'), ('TV', '283.6'), ('Radio', '42'), ('Newspaper', '66.2'), ('Sales', '25.5')])\n",
      "OrderedDict([('', '200'), ('TV', '232.1'), ('Radio', '8.6'), ('Newspaper', '8.7'), ('Sales', '13.4')])\n"
     ]
    }
   ],
   "source": [
    "data = read_data(ADV)\n",
    "print(data)\n",
    "for item in data:\n",
    "    print(item)"
   ]
  },
  {
   "cell_type": "markdown",
   "metadata": {},
   "source": [
    "### Objects\n",
    "\n",
    "You can define your own classes and objects."
   ]
  },
  {
   "cell_type": "code",
   "execution_count": null,
   "metadata": {
    "collapsed": true
   },
   "outputs": [],
   "source": [
    "#creating a class\n",
    "\n",
    "class Rectangle:\n",
    "    def __init__(self,x,y):\n",
    "        self.x = x\n",
    "        self.y = y\n",
    "    description = \"This shape has not been described yet\"\n",
    "    author = \"Nobody has claimed to make this shape yet\"\n",
    "    def area(self):\n",
    "        return self.x * self.y\n",
    "    def perimeter(self):\n",
    "        return 2 * self.x + 2 * self.y\n",
    "    def describe(self,text):\n",
    "        self.description = text\n",
    "    def authorName(self,text):\n",
    "        self.author = text\n",
    "    def scaleSize(self,scale):\n",
    "        self.x = self.x * scale\n",
    "        self.y = self.y * scale\n",
    "\n",
    "#creating objects\n",
    "a = Rectangle(100, 45)\n",
    "b = Rectangle(10,230)\n",
    "\n",
    "#describing the rectangles\n",
    "a.describe(\"A fat rectangle\")\n",
    "b.describe(\"A thin rectangle\")"
   ]
  },
  {
   "cell_type": "code",
   "execution_count": null,
   "metadata": {
    "collapsed": true
   },
   "outputs": [],
   "source": [
    "#finding the area of your rectangle:\n",
    "print(a.area())\n",
    " \n",
    "#finding the perimeter of your rectangle:\n",
    "print(a.perimeter())\n",
    "\n",
    "#getting the description\n",
    "print(a.description)\n",
    "print(a.author)"
   ]
  },
  {
   "cell_type": "code",
   "execution_count": null,
   "metadata": {
    "collapsed": true
   },
   "outputs": [],
   "source": [
    "#finding the area of your rectangle:\n",
    "print(b.area())\n",
    "print(b.description)\n",
    "\n",
    "#making the rectangle 50% smaller\n",
    "b.scaleSize(0.5)\n",
    "b.describe(\"A small thin rectangle\")\n",
    " \n",
    "#re-printing the new area of the rectangle\n",
    "print(b.area())\n",
    "print(b.description)"
   ]
  },
  {
   "cell_type": "markdown",
   "metadata": {},
   "source": [
    "### Functions and objects -> Decorators\n",
    "\n",
    "\n",
    "In Python, functions are first-class objects. This means that functions can be passed around and used as arguments, just like any other object (string, int, float, list, and so on). Python also allows you to use functions as return values. You can do functions that accept functions as parameters. So decorators are a wrapper for a function, modifying its behavior:\n"
   ]
  },
  {
   "cell_type": "code",
   "execution_count": 1,
   "metadata": {},
   "outputs": [
    {
     "name": "stdout",
     "output_type": "stream",
     "text": [
      "Something is happening before the function is called.\n",
      "Whee!\n",
      "Something is happening after the function is called.\n"
     ]
    }
   ],
   "source": [
    "def my_decorator(func):\n",
    "    def wrapper():\n",
    "        print(\"Something is happening before the function is called.\")\n",
    "        func()\n",
    "        print(\"Something is happening after the function is called.\")\n",
    "    return wrapper\n",
    "\n",
    "def say_whee():\n",
    "    print(\"Whee!\")\n",
    "\n",
    "say_whee = my_decorator(say_whee) #Overwrite say_whee using the decorator wraper\n",
    "\n",
    "say_whee()"
   ]
  },
  {
   "cell_type": "markdown",
   "metadata": {},
   "source": [
    "You can use @ sintax to define a function that will use a decorator:"
   ]
  },
  {
   "cell_type": "code",
   "execution_count": 2,
   "metadata": {},
   "outputs": [
    {
     "name": "stdout",
     "output_type": "stream",
     "text": [
      "Something is happening before the function is called.\n",
      "Whee!\n",
      "Something is happening after the function is called.\n"
     ]
    }
   ],
   "source": [
    "def my_decorator(func):\n",
    "    def wrapper():\n",
    "        print(\"Something is happening before the function is called.\")\n",
    "        func()\n",
    "        print(\"Something is happening after the function is called.\")\n",
    "    return wrapper\n",
    "\n",
    "@my_decorator ##  say_wee= my_decorator(say_whee)\n",
    "def say_whee():\n",
    "    print(\"Whee!\")\n",
    "    \n",
    "say_whee()"
   ]
  },
  {
   "cell_type": "markdown",
   "metadata": {},
   "source": [
    "* Can I decorate with my_decorator functions that have parameters ?"
   ]
  },
  {
   "cell_type": "code",
   "execution_count": 4,
   "metadata": {},
   "outputs": [
    {
     "ename": "TypeError",
     "evalue": "wrapper() takes 0 positional arguments but 1 was given",
     "output_type": "error",
     "traceback": [
      "\u001b[0;31m---------------------------------------------------------------------------\u001b[0m",
      "\u001b[0;31mTypeError\u001b[0m                                 Traceback (most recent call last)",
      "\u001b[0;32m<ipython-input-4-199b97f12332>\u001b[0m in \u001b[0;36m<module>\u001b[0;34m()\u001b[0m\n\u001b[1;32m      2\u001b[0m \u001b[0;32mdef\u001b[0m \u001b[0mgreet\u001b[0m\u001b[0;34m(\u001b[0m\u001b[0mname\u001b[0m\u001b[0;34m)\u001b[0m\u001b[0;34m:\u001b[0m\u001b[0;34m\u001b[0m\u001b[0m\n\u001b[1;32m      3\u001b[0m     \u001b[0mprint\u001b[0m\u001b[0;34m(\u001b[0m\u001b[0;34mf\"Hello {name}\"\u001b[0m\u001b[0;34m)\u001b[0m\u001b[0;34m\u001b[0m\u001b[0m\n\u001b[0;32m----> 4\u001b[0;31m \u001b[0mgreet\u001b[0m\u001b[0;34m(\u001b[0m\u001b[0;34m\"Eloi\"\u001b[0m\u001b[0;34m)\u001b[0m\u001b[0;34m\u001b[0m\u001b[0m\n\u001b[0m",
      "\u001b[0;31mTypeError\u001b[0m: wrapper() takes 0 positional arguments but 1 was given"
     ]
    }
   ],
   "source": [
    "@my_decorator\n",
    "def greet(name):\n",
    "    print(f\"Hello {name}\")\n",
    "greet(\"Eloi\")"
   ]
  },
  {
   "cell_type": "code",
   "execution_count": 5,
   "metadata": {},
   "outputs": [
    {
     "name": "stdout",
     "output_type": "stream",
     "text": [
      "Something is happening before the function is called.\n",
      "Hello Eloi\n",
      "Something is happening after the function is called.\n"
     ]
    }
   ],
   "source": [
    "def my_decorator(func):\n",
    "    def wrapper(*args, **kwargs):\n",
    "        print(\"Something is happening before the function is called.\")\n",
    "        func(*args, **kwargs)\n",
    "        print(\"Something is happening after the function is called.\")\n",
    "    return wrapper\n",
    "\n",
    "@my_decorator\n",
    "def greet(name):\n",
    "    print(f\"Hello {name}\")\n",
    "greet(\"Eloi\")"
   ]
  },
  {
   "cell_type": "markdown",
   "metadata": {},
   "source": [
    "A list can be passed as a set of parameters to a function using *\n",
    "A Dictionary can be passed as a set of optional parameters to a function using **"
   ]
  },
  {
   "cell_type": "code",
   "execution_count": 6,
   "metadata": {},
   "outputs": [
    {
     "name": "stdout",
     "output_type": "stream",
     "text": [
      "10\n"
     ]
    }
   ],
   "source": [
    "args= [1,2,3]\n",
    "kargs = {'d':4}\n",
    "\n",
    "def f(a,b,c,d=0):\n",
    "    print(a+b+c+d)\n",
    "f(*args,**kargs)    "
   ]
  },
  {
   "cell_type": "markdown",
   "metadata": {},
   "source": [
    "### Some goodies"
   ]
  },
  {
   "cell_type": "markdown",
   "metadata": {},
   "source": [
    "## Help: Python Tutorial"
   ]
  },
  {
   "cell_type": "code",
   "execution_count": 51,
   "metadata": {},
   "outputs": [
    {
     "data": {
      "text/html": [
       "<iframe src=http://docs.python.org/3/tutorial/index.html?useformat=mobile width=780 height=350></iframe>"
      ],
      "text/plain": [
       "<IPython.core.display.HTML object>"
      ]
     },
     "execution_count": 51,
     "metadata": {},
     "output_type": "execute_result"
    }
   ],
   "source": [
    "from IPython.display import HTML\n",
    "HTML('<iframe src=http://docs.python.org/3/tutorial/index.html?useformat=mobile width=780 height=350></iframe>')"
   ]
  },
  {
   "cell_type": "code",
   "execution_count": null,
   "metadata": {
    "collapsed": true
   },
   "outputs": [],
   "source": [
    "! pip install tqdm #this will not work in Windows "
   ]
  },
  {
   "cell_type": "code",
   "execution_count": null,
   "metadata": {
    "collapsed": true
   },
   "outputs": [],
   "source": [
    "import tqdm\n",
    "from time import sleep\n",
    "text = \"\"\n",
    "for char in tqdm.tqdm(range(1000)):\n",
    "    sleep(0.01)"
   ]
  }
 ],
 "metadata": {
  "kernelspec": {
   "display_name": "Python 3",
   "language": "python",
   "name": "python3"
  },
  "language_info": {
   "codemirror_mode": {
    "name": "ipython",
    "version": 3
   },
   "file_extension": ".py",
   "mimetype": "text/x-python",
   "name": "python",
   "nbconvert_exporter": "python",
   "pygments_lexer": "ipython3",
   "version": "3.6.4"
  },
  "widgets": {
   "state": {},
   "version": "1.1.1"
  }
 },
 "nbformat": 4,
 "nbformat_minor": 1
}
