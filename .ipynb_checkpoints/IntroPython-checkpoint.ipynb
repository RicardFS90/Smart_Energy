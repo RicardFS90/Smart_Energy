{
 "cells": [
  {
   "cell_type": "markdown",
   "metadata": {},
   "source": [
    "<img src=\"Figures/top_ML.png\" alt=\"Drawing\" style=\"width: 1000px;\"/>"
   ]
  },
  {
   "cell_type": "markdown",
   "metadata": {
    "slideshow": {
     "slide_type": "slide"
    }
   },
   "source": [
    "# Introducción a Python    "
   ]
  },
  {
   "cell_type": "markdown",
   "metadata": {},
   "source": [
    "### CONTENIDOS\n",
    "1. Introducción a Jupyter Notebooks \n",
    "2. Variables y estructuras de datos \n",
    "3. Estructuras condicionales \n",
    "4. Listas y loops \n",
    "5. Diccionarios y tablas de frecuencia\n",
    "6. Funciones \n",
    "7. Funciones avanzadas \n",
    "8. Lenguaje orientado a objetos \n",
    "9. Introducción a NumPy \n",
    "10. Introducción a Pandas - Ricard\n",
    "11. Creación de gráficos y visualización - Ricard"
   ]
  },
  {
   "cell_type": "markdown",
   "metadata": {},
   "source": [
    "## 1. Introducción a Jupyter Notebooks\n",
    "\n",
    "<img src=\"Figures/Jupyter.png\" alt=\"Drawing\" style=\"width: 200px;\"/>\n",
    "\n",
    "Jupyter notebooks es un entorno (IDE) que nos permite intercalar contenido de texto (se llamará cela 'Markdown') con código Python (tipo de cela 'Code') que se puede ejecutar cela por cela como se puede ver en los siguientes ejemplos. \n",
    "\n",
    "Los comando básicos para poder seguir este curso y empezar a usar Jupyter Notebooks son:\n",
    "\n",
    "<img src=\"Figures/menu.png\" alt=\"Drawing\" style=\"width: 500px;\"/>\n",
    "\n",
    "* `Shift+Enter`: Ejecutar cela y seleccionar siguiente cela\n",
    "* `Alt+Enter`: Ejecutar cela y insertar una cela nueva\n",
    "* `ESC`: para entrar en modo 'command'. Una vez en este modo:\n",
    "    * `H` lista de comandos\n",
    "    * `A` insertar cela debajo\n",
    "    * `B` insterar cela arriba\n",
    "    * `D,D` D dos veces eleimina la cela\n",
    "    * `Y` cambiar cela a tipo 'Code'\n",
    "    * `M` cambiar cela a 'Markdown'\n",
    "    * `Enter`pasar a modo edit"
   ]
  },
  {
   "cell_type": "markdown",
   "metadata": {},
   "source": [
    "#### Ejecutar la cela de debajo usando alguno de los comandos aprendidos"
   ]
  },
  {
   "cell_type": "code",
   "execution_count": null,
   "metadata": {
    "scrolled": true,
    "slideshow": {
     "slide_type": "subslide"
    }
   },
   "outputs": [],
   "source": [
    "3 + 4 + 9"
   ]
  },
  {
   "cell_type": "code",
   "execution_count": null,
   "metadata": {
    "scrolled": true
   },
   "outputs": [],
   "source": [
    "# Ejemplo de código en Python\n",
    "# Cambiar los valores de a y b, y observar el resultado al ejecutar la cela \n",
    "\n",
    "a=87\n",
    "b=34\n",
    "c=a+b\n",
    "\n",
    "print('El resultado de sumar {} y {} es {}.'.format(a,b,c))"
   ]
  },
  {
   "cell_type": "markdown",
   "metadata": {},
   "source": [
    "## 2. Variables y estructuras de datos\n",
    "\n",
    "Las variables en Python se crean cuando se definen por primera vez, es decir, cuando se les asigna un valor por primera vez (utilizando el operador <code> = </code>). Por esta razón, en Python no hace falta declarar las variables. \n",
    "\n",
    "Los principales tipos de variables que se pueden encontrar son:\n",
    "* **Numéricas**\n",
    "    * **Integer (int):** Números naturales positivos y negativos.\n",
    "    * **Float:** Números reales.\n",
    "    * **Complex:** Números complejos. La parte imaginaria se multiplica por `j` para representar la raíz de `-1`. Por ejemplo: <code>a = 2+3j</code>\n",
    "* **Boleanas**\n",
    "    Son variables que pueden tomar como valor cierto o falso, representados en Python por `True` y `False` usando mayúsculas.\n",
    "* **Estructuras de datos (secuencias de datos)**\n",
    "    Lista ordenada de valores del mismo o distinto tipo. En Python existen:\n",
    "    * **String:** cadenas de texto\n",
    "    * **Lista:** conjuntos ordenados de elementos\n",
    "    * **Tupla:** conjuntos ordenados e inmutables de elementos\n",
    "    * **Diccionario:** conjuntos de elementos caracterizados por un identificador y un valor    "
   ]
  },
  {
   "cell_type": "markdown",
   "metadata": {},
   "source": [
    "Existen algunas reglas generales para los nombres de variables:\n",
    "+ Se usan solo letras, números y \"guiones bajos\" (_)\n",
    "+ NO se usan espacios en ningún lugar del nombre\n",
    "+ El nombre no puede empezar con un número\n",
    "+ Las letras mayúsculas se tratan como distintas de las minúsculas (es decir, Python distingue entre mayúsculas y minúsculas)"
   ]
  },
  {
   "cell_type": "code",
   "execution_count": null,
   "metadata": {
    "scrolled": true
   },
   "outputs": [],
   "source": [
    "3a = 10"
   ]
  },
  {
   "cell_type": "markdown",
   "metadata": {},
   "source": [
    "Cada vez que se crea o modifica una variable, Python interpreta qué tipo de variable es. Cuando se asigna un nuevo valor a un objeto existente (*escritura dinámica*), los valores anteriores de ese objeto se borran de la memoria de la computadora. El primer valor de **a** es el número real 13.0, pero después de una nueva asignación:"
   ]
  },
  {
   "cell_type": "code",
   "execution_count": null,
   "metadata": {},
   "outputs": [],
   "source": [
    "a = 13.0\n",
    "a = 'b'\n",
    "print(a)"
   ]
  },
  {
   "cell_type": "markdown",
   "metadata": {},
   "source": [
    "La función *type()* muestra el TIPO del dato que le pasamos como argumento:"
   ]
  },
  {
   "cell_type": "code",
   "execution_count": null,
   "metadata": {
    "scrolled": true
   },
   "outputs": [],
   "source": [
    "# Declarar una variable a y mirar qué tipo de variable es utilizando \"type(nombre_variable)\"\n",
    "\n",
    "a=2\n",
    "type(a)"
   ]
  },
  {
   "cell_type": "code",
   "execution_count": null,
   "metadata": {
    "scrolled": true
   },
   "outputs": [],
   "source": [
    "# Probar de declarar otro tipo de variable y mirar qué tipo es\n",
    "\n",
    "a=2.0\n",
    "type(a)"
   ]
  },
  {
   "cell_type": "markdown",
   "metadata": {},
   "source": [
    "## 2.1 Tipos y operadores básicos\n",
    "\n",
    "Los operadores básicos en Python son:\n",
    "\n",
    "+ Suma (también para strings, tuplas o listas): <code>a + b</code>\n",
    "+ Resta: <code>a - b</code>\n",
    "+ Multiplicación (también para strings, tuplas y listas): <code>a * b</code>\n",
    "+ División: <code>a / b</code>\n",
    "+ Division entera: <code>a // b</code>\n",
    "+ Resto de la división o residuo: <code>a % b</code>\n",
    "+ Exponencial: <code>a ** b</code>\n",
    "+ Asignamiento: <code>=</code>, <code>-=</code>, <code>+=</code>,<code>/=</code>,<code>*=</code>, <code>%=</code>, <code>//=</code>, <code>**=</code>\n",
    "+ Comparaciones booleanas: <code>==</code>, <code>!=</code>, <code><</code>,<code>></code>,<code><=</code>, <code>>=</code>\n",
    "+ Operaciones booleanas: <code>and</code>, <code>or</code>, <code>not</code>\n",
    "+ Operaciones para comprobar pertenecencia: <code>in</code>, <code>not in</code>\n",
    "+ Operaciones para identificar objetos: <code>is</code>, <code>is not</code>\n",
    "<!-- + Bitwise operators (or, xor, and, complement): <code>|</code>, <code>^</code>, <code>&</code>, <code>~</code> -->\n",
    "<!-- + Left and right bit shift: <code><<</code>, <code>>></code> -->"
   ]
  },
  {
   "cell_type": "markdown",
   "metadata": {},
   "source": [
    "### Python como calculadora\n",
    "\n",
    "Python tiene una notación concisa para la aritmética que se parece mucho a la forma tradicional de escribir operaciones."
   ]
  },
  {
   "cell_type": "code",
   "execution_count": null,
   "metadata": {
    "scrolled": true
   },
   "outputs": [],
   "source": [
    "a = 3+2\n",
    "b= 3.5 * -8\n",
    "c = 10/6\n",
    "print(a, b, c, 10./6.)"
   ]
  },
  {
   "cell_type": "code",
   "execution_count": null,
   "metadata": {},
   "outputs": [],
   "source": [
    "# Ejemplo\n",
    "\n",
    "a = 12\n",
    "b = 13.3\n",
    "c = a + b\n",
    "print (c, type(a), type(b), type(c))"
   ]
  },
  {
   "cell_type": "markdown",
   "metadata": {},
   "source": [
    "### Módulos \n",
    "\n",
    "Algunas funciones matemáticas más complejas no están disponibles en el módulo básico de Python y deben importarse desde un módulo específico. Para importar librerías, solo se debe escribir \"import + el nombre de la librería\".\n",
    "\n",
    "<img src=\"Figures/python_import.jfif\" alt=\"Drawing\" style=\"width: 250px;\"/>\n",
    "\n",
    "En cada caso se deberá leer bien la documentación de las librerías usadas para concocer sus características y saber como implementarlas. Por ejemplo, para math:\n",
    "\n",
    "https://docs.python.org/3/library/math.html"
   ]
  },
  {
   "cell_type": "code",
   "execution_count": null,
   "metadata": {
    "scrolled": true
   },
   "outputs": [],
   "source": [
    "import math   # solo se ejecutará si la librería no ha estado importada previamente\n",
    "print(math.pi + math.sin(100) + math.ceil(2.3))"
   ]
  },
  {
   "cell_type": "markdown",
   "metadata": {},
   "source": [
    "### Operadores booleanos"
   ]
  },
  {
   "cell_type": "code",
   "execution_count": null,
   "metadata": {
    "scrolled": true
   },
   "outputs": [],
   "source": [
    "a = 4\n",
    "b = 40\n",
    "(a>2) and (b>30)"
   ]
  },
  {
   "cell_type": "code",
   "execution_count": null,
   "metadata": {
    "scrolled": true
   },
   "outputs": [],
   "source": [
    "(a>2) or (b>100)"
   ]
  },
  {
   "cell_type": "code",
   "execution_count": null,
   "metadata": {
    "scrolled": true
   },
   "outputs": [],
   "source": [
    "not(a>2)"
   ]
  },
  {
   "cell_type": "markdown",
   "metadata": {},
   "source": [
    "## 2.2 Estructuras de datos\n",
    "\n",
    "### Strings o cadenas de texto\n",
    "\n",
    "El texto en Python se trata como una lista de carcateres. De esta manera, la metodología que aplica al tratamiento de listas, puede ser aplicada a las cadenas de texto."
   ]
  },
  {
   "cell_type": "code",
   "execution_count": null,
   "metadata": {
    "scrolled": true
   },
   "outputs": [],
   "source": [
    "a = 'python'\n",
    "type(a)"
   ]
  },
  {
   "cell_type": "code",
   "execution_count": null,
   "metadata": {
    "scrolled": true
   },
   "outputs": [],
   "source": [
    "print(\"Hello\" )"
   ]
  },
  {
   "cell_type": "code",
   "execution_count": null,
   "metadata": {
    "scrolled": true
   },
   "outputs": [],
   "source": [
    "print(\"Esto es 'un ejemplo' de como usar comillas dentro de un texto que se escribe entre comillas dobles\")\n",
    "print('Aquí tenemos \"otro ejemplo\" pero ahora al revés')"
   ]
  },
  {
   "cell_type": "markdown",
   "metadata": {},
   "source": [
    "Para juntar cadenas de carácteres se puede usar el operador '+':"
   ]
  },
  {
   "cell_type": "code",
   "execution_count": null,
   "metadata": {
    "scrolled": true
   },
   "outputs": [],
   "source": [
    "a = 'He'\n",
    "b = 'llo'\n",
    "c = a+b+'!'\n",
    "print(c)"
   ]
  },
  {
   "cell_type": "markdown",
   "metadata": {},
   "source": [
    "Para acceder a solo una parte de una lista o, en este caso, de una *string*, se usa la técnica denominada **slicing**. El formato a seguir para coger solo una parte de la string es el siguiente:\n",
    "\n",
    "# <center>nombre_variable[indice_primer_elemento:indice_final:step]</center>\n",
    "\n",
    "Donde el funcionamiento de los índices se pueden ver en la siguiente imagen\n",
    "\n",
    "![Slicing1](Figures/slicing1.png)\n"
   ]
  },
  {
   "cell_type": "code",
   "execution_count": null,
   "metadata": {
    "scrolled": true
   },
   "outputs": [],
   "source": [
    "#Ejemplos\n",
    "a = 'Python'\n",
    "print(a[:], a[0], a[2:], a[:3], a[2:4], a[::2], a[1::2])"
   ]
  },
  {
   "cell_type": "markdown",
   "metadata": {},
   "source": [
    "#### Ejercicio\n",
    "Con una línia de codigo, conseguir los siguientes sets de caracteres:\n",
    "- Primera letra.\n",
    "- De la letra 2 a la 4\n",
    "- Úlimas 3 letras\n",
    "- Solo las letras en posición par, des de la número 4 al final\n",
    "- Todo el texto al revés\n"
   ]
  },
  {
   "cell_type": "code",
   "execution_count": null,
   "metadata": {},
   "outputs": [],
   "source": [
    "texto = \"Texto de prueba para hacer el ejercicio\"\n",
    "primera_letra = print(texto[0])"
   ]
  },
  {
   "cell_type": "markdown",
   "metadata": {},
   "source": [
    "En el caso de los *strings* hay métodos en Python que vienen por defecto que nos pueden ser útiles. Por ejemplo las funciones siguientes:\n",
    "- len: devuelve la longitud el texto.\n",
    "- str: convierte eun número en string.\n",
    "- reverse: devuelve el texto al revés.\n",
    "\n",
    "Para usar una fucnión se pondrá nombre_de_la_función(nombre_variable)\n",
    "\n",
    "También podemos usar métodos propios para strings:\n",
    "- lower: convierte todo el texto en mínusculas.\n",
    "- upper: convierte todo el texto en mayúsculas.\n",
    "- capitalize: pone en mayúsculas la primera letra del string.\n",
    "- split(delimitador): devuelve una lista de substrings separados por el delimitador indicado (ver ejemplos más adelante)\n",
    "\n",
    "Para usar un método se pondrá nombre_variable.nombre_del_métdodo\n"
   ]
  },
  {
   "cell_type": "code",
   "execution_count": null,
   "metadata": {},
   "outputs": [],
   "source": [
    "texto='vamos a hacer pruebas con las funciones y métodos de Strings!'\n",
    "print(len(texto))\n",
    "print(texto.lower())\n",
    "print(texto.split(' '))\n",
    "# En una línia, devuelve la 4a palabra del texto todo en mayúsculas!\n"
   ]
  },
  {
   "cell_type": "markdown",
   "metadata": {},
   "source": [
    "### Lists\n",
    "\n",
    "Las listas son un tipo de Python que sirven para agrupar objetos de otros tipos (incluso listas!). Por ejemplo una lista de números, de floats, de strings, de otras listas, etc. \n",
    "\n",
    "Las listas, como los strings, pueden usar la metodología de *slicing*\n"
   ]
  },
  {
   "cell_type": "code",
   "execution_count": 32,
   "metadata": {
    "scrolled": true
   },
   "outputs": [
    {
     "data": {
      "text/plain": [
       "list"
      ]
     },
     "execution_count": 32,
     "metadata": {},
     "output_type": "execute_result"
    }
   ],
   "source": [
    "l=[]\n",
    "type(l)"
   ]
  },
  {
   "cell_type": "code",
   "execution_count": 31,
   "metadata": {},
   "outputs": [
    {
     "data": {
      "text/plain": [
       "[0, 5, '6', 34, 'Hola']"
      ]
     },
     "execution_count": 31,
     "metadata": {},
     "output_type": "execute_result"
    }
   ],
   "source": [
    "# Crear lista\n",
    "mi_lista = [0,5,'6',34,'Hola']\n",
    "mi_lista"
   ]
  },
  {
   "cell_type": "code",
   "execution_count": 30,
   "metadata": {},
   "outputs": [
    {
     "data": {
      "text/plain": [
       "'máster'"
      ]
     },
     "execution_count": 30,
     "metadata": {},
     "output_type": "execute_result"
    }
   ],
   "source": [
    "# Acceder a un elemento de la lista\n",
    "a = mi_lista[2]\n",
    "a"
   ]
  },
  {
   "cell_type": "code",
   "execution_count": 29,
   "metadata": {},
   "outputs": [
    {
     "data": {
      "text/plain": [
       "['adiós', 'hola', 'máster', 'primero', 'segundo', 'Adiós']"
      ]
     },
     "execution_count": 29,
     "metadata": {},
     "output_type": "execute_result"
    }
   ],
   "source": [
    "# Canviar un elemento de una lista\n",
    "mi_lista[-1]='Adiós'\n",
    "mi_lista"
   ]
  },
  {
   "cell_type": "code",
   "execution_count": null,
   "metadata": {},
   "outputs": [],
   "source": [
    "# Podemos tener lista de listas!\n",
    "mi_lista=[45,[3,5,6],'palabra',34.6,['a','b','c']]\n",
    "print(mi_lista)\n",
    "print(mi_lista[1])\n",
    "print(mi_lista[1][2])\n",
    "# acceder a la letra c!"
   ]
  },
  {
   "cell_type": "markdown",
   "metadata": {},
   "source": [
    "Para las listas también hay funciones y métodos en Python que vienen por defecto que nos pueden ser útiles. Por ejemplo las funciones siguientes:\n",
    "- len: devuelve la longitud de la lista.\n",
    "- list: crear lista\n",
    "\n",
    "Para usar una fucnión se pondrá nombre_de_la_función(nombre_variable)\n",
    "\n",
    "También podemos usar métodos propios para listas:\n",
    "- append: añadir elemento al final de la lista.\n",
    "- insert: añdir un elemento en una posición particular.\n",
    "- pop: quitar el último elemento de la lista.\n",
    "- remove: quitar un elemento en particular.\n",
    "- sort: ordenar la lista\n",
    "\n",
    "Para usar un método se pondrá nombre_variable.nombre_del_métdodo"
   ]
  },
  {
   "cell_type": "code",
   "execution_count": 28,
   "metadata": {
    "scrolled": true
   },
   "outputs": [
    {
     "name": "stdout",
     "output_type": "stream",
     "text": [
      "['primero', 'hola', 'prueba', 'adiós', 'zoológico', 'máster']\n",
      "['primero', 'hola', 'prueba', 'adiós', 'zoológico', 'máster', 'último']\n",
      "['primero', 'segundo', 'hola', 'prueba', 'adiós', 'zoológico', 'máster', 'último']\n",
      "['primero', 'segundo', 'hola', 'prueba', 'adiós', 'zoológico', 'máster']\n",
      "['primero', 'segundo', 'hola', 'adiós', 'zoológico', 'máster']\n",
      "['adiós', 'hola', 'máster', 'primero', 'segundo', 'zoológico']\n"
     ]
    }
   ],
   "source": [
    "mi_lista=['primero','hola','prueba','adiós','zoológico','máster']\n",
    "print(mi_lista)\n",
    "mi_lista.append('último')\n",
    "print(mi_lista)\n",
    "mi_lista.insert(1,'segundo')\n",
    "print(mi_lista)\n",
    "mi_lista.pop()\n",
    "print(mi_lista)\n",
    "mi_lista.remove('prueba')\n",
    "print(mi_lista)\n",
    "mi_lista.sort()\n",
    "print(mi_lista)"
   ]
  },
  {
   "cell_type": "markdown",
   "metadata": {},
   "source": [
    "### Dictionaries\n",
    "\n",
    "Un diccionario es otra manera de agrupar datos donde se puede acceder a un *element* a través de su *key*. Por ejemplo:"
   ]
  },
  {
   "cell_type": "code",
   "execution_count": 14,
   "metadata": {},
   "outputs": [],
   "source": [
    "esta_instalacion = {\n",
    "    'Potencia': 10,\n",
    "    'Tipo': 'Solar',\n",
    "    'Año_construccion':2012\n",
    "}"
   ]
  },
  {
   "cell_type": "code",
   "execution_count": 17,
   "metadata": {},
   "outputs": [
    {
     "data": {
      "text/plain": [
       "'Solar'"
      ]
     },
     "execution_count": 17,
     "metadata": {},
     "output_type": "execute_result"
    }
   ],
   "source": [
    "esta_instalacion['Tipo']"
   ]
  },
  {
   "cell_type": "markdown",
   "metadata": {},
   "source": [
    "Otro ejemplo podría ser:"
   ]
  },
  {
   "cell_type": "code",
   "execution_count": 7,
   "metadata": {
    "scrolled": true
   },
   "outputs": [
    {
     "name": "stdout",
     "output_type": "stream",
     "text": [
      "{'Instalacion_1': 'Solar', 'Instalacion_2': 'Eólica', 'Instalacion_3': 'Eólica', 'Instalacion_4': 'Hidráulica', 'Instalacion_5': 'Solar'}\n"
     ]
    }
   ],
   "source": [
    "dict = {\"Instalacion_1\": \"Solar\", \"Instalacion_2\": \"Eólica\", \"Instalacion_3\": \"Eólica\", \"Instalacion_4\": \"Hidráulica\", \"Instalacion_5\": \"Solar\",}\n",
    "print(dict)"
   ]
  },
  {
   "cell_type": "markdown",
   "metadata": {},
   "source": [
    "Para acceder a algun elemento, modificar o añadir, se podrá hacer de forma parecida a las listas:"
   ]
  },
  {
   "cell_type": "code",
   "execution_count": 27,
   "metadata": {
    "scrolled": true
   },
   "outputs": [
    {
     "data": {
      "text/plain": [
       "['Solar', '10 MW']"
      ]
     },
     "execution_count": 27,
     "metadata": {},
     "output_type": "execute_result"
    }
   ],
   "source": [
    "#acceder\n",
    "dict[\"Instalacion_1\"]"
   ]
  },
  {
   "cell_type": "code",
   "execution_count": 10,
   "metadata": {},
   "outputs": [
    {
     "name": "stdout",
     "output_type": "stream",
     "text": [
      "{'Instalacion_1': 'Eólica', 'Instalacion_2': 'Eólica', 'Instalacion_3': 'Eólica', 'Instalacion_4': 'Hidráulica', 'Instalacion_5': 'Solar'}\n",
      "{'Instalacion_1': 'Eólica', 'Instalacion_2': 'Eólica', 'Instalacion_3': 'Eólica', 'Instalacion_4': 'Hidráulica', 'Instalacion_5': 'Solar'}\n"
     ]
    }
   ],
   "source": [
    "# modificar\n",
    "print(dict)\n",
    "dict[\"Instalacion_1\"]=\"Eólica\"\n",
    "print(dict)"
   ]
  },
  {
   "cell_type": "code",
   "execution_count": 11,
   "metadata": {},
   "outputs": [
    {
     "name": "stdout",
     "output_type": "stream",
     "text": [
      "{'Instalacion_1': 'Eólica', 'Instalacion_2': 'Eólica', 'Instalacion_3': 'Eólica', 'Instalacion_4': 'Hidráulica', 'Instalacion_5': 'Solar'}\n",
      "{'Instalacion_1': 'Eólica', 'Instalacion_2': 'Eólica', 'Instalacion_3': 'Eólica', 'Instalacion_4': 'Hidráulica', 'Instalacion_5': 'Solar', 'Instalacion_6': 'Solar'}\n"
     ]
    }
   ],
   "source": [
    "print(dict)\n",
    "dict[\"Instalacion_6\"]=\"Solar\"\n",
    "print(dict)"
   ]
  },
  {
   "cell_type": "markdown",
   "metadata": {
    "scrolled": true
   },
   "source": [
    "Los diccionarios pueden contener todos los tipos (int, floats, listas, otros diccionarios, etc.)"
   ]
  },
  {
   "cell_type": "code",
   "execution_count": 26,
   "metadata": {},
   "outputs": [
    {
     "data": {
      "text/plain": [
       "{'Instalacion_1': ['Solar', '10 MW'],\n",
       " 'Instalacion_2': ['Eólica', '15 MW'],\n",
       " 'Instalacion_3': ['Solar', '18 MW'],\n",
       " 'Instalacion_4': ['Hidráulica', '12 MW'],\n",
       " 'Instalacion_5': ['Solar', '23 MW'],\n",
       " 'Instalacion_6': ['Eólica', '8 MW'],\n",
       " 'Instalacion_7': ['Solar', '11 MW'],\n",
       " 'Instalacion_8': ['Hidráulica', '11 MW']}"
      ]
     },
     "execution_count": 26,
     "metadata": {},
     "output_type": "execute_result"
    }
   ],
   "source": [
    "dict = {\"Instalacion_1\": [\"Solar\", '10 MW'], \"Instalacion_2\": [\"Eólica\", '15 MW'], \"Instalacion_3\": [\"Solar\", '18 MW'], \"Instalacion_4\": [\"Hidráulica\", '12 MW'], \"Instalacion_5\": [\"Solar\", '23 MW'], \"Instalacion_6\": [\"Eólica\", '8 MW'],\"Instalacion_7\": [\"Solar\", '11 MW'], \"Instalacion_8\": [\"Hidráulica\", '11 MW']}\n",
    "dict"
   ]
  },
  {
   "cell_type": "code",
   "execution_count": 33,
   "metadata": {},
   "outputs": [
    {
     "data": {
      "text/plain": [
       "'18 MW'"
      ]
     },
     "execution_count": 33,
     "metadata": {},
     "output_type": "execute_result"
    }
   ],
   "source": [
    "dict['Instalacion_3'][1]"
   ]
  },
  {
   "cell_type": "code",
   "execution_count": null,
   "metadata": {},
   "outputs": [],
   "source": [
    "#Suma 3 MW a la instalación 4 y modifica el diccionario!"
   ]
  },
  {
   "cell_type": "markdown",
   "metadata": {},
   "source": [
    "### Tuples\n",
    "\n",
    "Tuples son listas **que no permiten ser modificadas!**. \n",
    "\n",
    "Su sintaxis es igual que en las listas, però para escribir una tupla se usan paréntesis y no corchetes."
   ]
  },
  {
   "cell_type": "code",
   "execution_count": 36,
   "metadata": {
    "scrolled": true
   },
   "outputs": [
    {
     "name": "stdout",
     "output_type": "stream",
     "text": [
      "<class 'tuple'> ('Nuclear', 'NoQueremosMásCarbón')\n"
     ]
    }
   ],
   "source": [
    "misupertupla = ('Solar', 'Eólica', 'Hidráulica', 'Gas', 'Nuclear', 'NoQueremosMásCarbón')\n",
    "print(type(misupertupla), misupertupla[4:])"
   ]
  },
  {
   "cell_type": "code",
   "execution_count": 37,
   "metadata": {
    "scrolled": true
   },
   "outputs": [
    {
     "ename": "TypeError",
     "evalue": "'tuple' object does not support item assignment",
     "output_type": "error",
     "traceback": [
      "\u001b[1;31m---------------------------------------------------------------------------\u001b[0m",
      "\u001b[1;31mTypeError\u001b[0m                                 Traceback (most recent call last)",
      "\u001b[1;32m<ipython-input-37-3c72c87d7787>\u001b[0m in \u001b[0;36m<module>\u001b[1;34m\u001b[0m\n\u001b[1;32m----> 1\u001b[1;33m \u001b[0mmisupertupla\u001b[0m\u001b[1;33m[\u001b[0m\u001b[1;36m0\u001b[0m\u001b[1;33m]\u001b[0m\u001b[1;33m=\u001b[0m\u001b[1;34m'PV'\u001b[0m\u001b[1;33m\u001b[0m\u001b[1;33m\u001b[0m\u001b[0m\n\u001b[0m",
      "\u001b[1;31mTypeError\u001b[0m: 'tuple' object does not support item assignment"
     ]
    }
   ],
   "source": [
    "misupertupla[0]='PV'"
   ]
  },
  {
   "cell_type": "markdown",
   "metadata": {},
   "source": [
    "Access to the functions, variables and classes of a module depends on the way the module was imported:"
   ]
  },
  {
   "cell_type": "markdown",
   "metadata": {},
   "source": [
    "## 3. Estructuras condicionales (if)"
   ]
  },
  {
   "cell_type": "markdown",
   "metadata": {},
   "source": [
    "Las estructuras de control condicionales permiten ejecutar una parte del código o otro en función de la evaluación de una o varis condiciones booleanas de SI o NO (**<code>TRUE</code>** o **<code>FALSE</code>**).\n",
    "\n",
    "En Python, las estructuras de control condicionales se definen mediante las palabras **<code>if</code>**, **<code>elif</code>** y **<code>else</code>**.\n",
    "\n",
    "- **<code>if CONDICION:</code>** si se cumple la expresión condicional se ejecuta el bloque de código a continuación.\n",
    "- **<code>elif CONDICION:</code>** de lo contrario, si se cumple esta expresión condicional se ejecuta este otro bloque de código.\n",
    "- **<code>else:</code>** de lo contrario, se ejecuta este bloque de código a continuación sin evaluar ninguna condición.\n",
    "\n",
    "\n",
    "La condición es normalmente evaluada mediante los siguientes operadores relacionales <code> <, <=, ==, >=, >, != </code>."
   ]
  },
  {
   "cell_type": "code",
   "execution_count": null,
   "metadata": {
    "scrolled": true
   },
   "outputs": [],
   "source": [
    "#Ejemplo\n",
    "\n",
    "celsius = 35\n",
    "fahrenheit = 9.0 /5.0 * celsius + 32\n",
    "\n",
    "print(\"La temperatura en Fahrenheit es\", fahrenheit)\n",
    "\n",
    "if fahrenheit > 90:\n",
    "    print(\"Hace calor\")\n",
    "elif fahrenheit < 30:\n",
    "    print(\"Hace frío\")\n",
    "else: print(\"No hace ni frío ni calor.\")"
   ]
  },
  {
   "cell_type": "markdown",
   "metadata": {
    "scrolled": true
   },
   "source": [
    "#### Ejercicio\n",
    "\n",
    "Crear un código para identificar si la variable **<code>numero</code>** es un numero positivo, negativo, o de valor 0. Guardar el resultado en una variable llamada **<code>numero</code>**"
   ]
  },
  {
   "cell_type": "code",
   "execution_count": null,
   "metadata": {},
   "outputs": [],
   "source": [
    "numero = 2\n"
   ]
  },
  {
   "cell_type": "markdown",
   "metadata": {},
   "source": [
    "## 4. Listas y loops"
   ]
  },
  {
   "cell_type": "markdown",
   "metadata": {},
   "source": [
    "### 4.2 Estructuras de control iterativas (for & while)\n",
    "\n",
    "Las estructuras de control iterativas (también llamadas bucles o loops), permiten ejecutar un mismo código de manera repetida mientras se cumpla una condición.\n",
    "\n",
    "Existen dos tipos de estructuras de control iterativas:\n",
    "\n",
    "* For\n",
    "* While\n",
    "\n",
    "La sentencia ``for`` de Python itera sobre los elementos de cualquier secuencia (una lista o una cadena de caracteres por ejemplo), en el orden que aparecen en la secuencia.\n",
    "\n",
    "El ciclo ``while`` permite realizar múltiples iteraciones basándose en el resultado de una expresión lógica que puede tener como resultado un valor ``True`` o ``False``.\n"
   ]
  },
  {
   "cell_type": "code",
   "execution_count": null,
   "metadata": {
    "scrolled": true
   },
   "outputs": [],
   "source": [
    "#Ejemplo de for\n",
    "\n",
    "for i in range(0,10,1):\n",
    "    print(i)"
   ]
  },
  {
   "cell_type": "code",
   "execution_count": null,
   "metadata": {
    "scrolled": true
   },
   "outputs": [],
   "source": [
    "#Ejemplo de while\n",
    "\n",
    "i=0\n",
    "while i < 10 :\n",
    "    print(i)\n",
    "    i= i+1"
   ]
  },
  {
   "cell_type": "markdown",
   "metadata": {},
   "source": [
    "**``If``** statesments can be combined with **loops** (``for``, ``while``):"
   ]
  },
  {
   "cell_type": "code",
   "execution_count": null,
   "metadata": {
    "scrolled": true
   },
   "outputs": [],
   "source": [
    "numbers = [-5, 3,2,-1,9,6]\n",
    "total = 0\n",
    "\n",
    "for n in numbers:\n",
    "    if n >= 0:\n",
    "        total += n\n",
    "\n",
    "print(total)"
   ]
  },
  {
   "cell_type": "code",
   "execution_count": null,
   "metadata": {
    "scrolled": true
   },
   "outputs": [],
   "source": [
    "def average(a):\n",
    "    sum = 0.0\n",
    "    for i in a:\n",
    "        sum = sum + i\n",
    "    return sum/len(a)\n",
    "\n",
    "average([1,2,3,4])"
   ]
  },
  {
   "cell_type": "code",
   "execution_count": null,
   "metadata": {
    "scrolled": true
   },
   "outputs": [],
   "source": [
    "def main(n):\n",
    "    cont = 0\n",
    "    while (int(n) > 0):\n",
    "        cont += 1\n",
    "        n = n/2\n",
    "#        print n\n",
    "    return cont-1\n",
    "\n",
    "main(10)\n",
    "# main(10.3)"
   ]
  },
  {
   "cell_type": "markdown",
   "metadata": {},
   "source": [
    "### 4.3 Lists (and dictionary) comprehensions\n",
    "\n",
    "Lists comprehensions are a way to fit a ``for`` loop, an ``if`` statement, and an assignment all in one line.\n",
    "\n",
    "A list comprehension consists of the following parts:\n",
    "\n",
    "+ An input sequence.\n",
    "+ A variable representing members of the input sequence.\n",
    "+ An optional expression.\n",
    "+ An output expression producing elements of the output list from members of the input sequence that satisfy the predicate.\n",
    "\n",
    "Map and filter can be rewrite like list comprehensions"
   ]
  },
  {
   "cell_type": "code",
   "execution_count": null,
   "metadata": {
    "scrolled": true
   },
   "outputs": [],
   "source": [
    "num = [1, 4, -5, 10, -7, 2, 3, -1]\n",
    "squared = [] #No pythonic! 4 lines, not just easy one! One iteration\n",
    "for i in num:\n",
    "     if i > 0:\n",
    "        squared.append(i**2)\n",
    "print(type(squared), squared)\n",
    "\n",
    "squared = [ x**2 for x in num if x > 0] # One itaration, first checks if it is true and then makes the computation\n",
    "print(type(squared), squared)\n",
    "\n",
    "squar2= map(lambda x: x**2 ,filter(lambda x: x>0, num))  ## Two iterations over num and over filtered list\n",
    "print(type(squared),list(squar2))"
   ]
  },
  {
   "cell_type": "markdown",
   "metadata": {},
   "source": [
    "+ Rewrite the previous map and filter examples using list comprhensions:"
   ]
  },
  {
   "cell_type": "code",
   "execution_count": null,
   "metadata": {
    "scrolled": true
   },
   "outputs": [],
   "source": [
    "#TODO here!"
   ]
  },
  {
   "cell_type": "markdown",
   "metadata": {},
   "source": [
    "\n",
    "* Iterating through two lists (using zip) vs nested fors vs Directories"
   ]
  },
  {
   "cell_type": "code",
   "execution_count": null,
   "metadata": {
    "scrolled": true
   },
   "outputs": [],
   "source": [
    "values1 = ['a','b','c','d']\n",
    "values2 = [1,2,3,4]\n",
    "\n",
    "print ([(i,j) for i in values1 for j in values2])\n",
    "\n",
    "print ([(i,j) for i,j in zip(values1,values2)])\n",
    "\n",
    "print ( {i:j for i,j in zip(values1,values2)} )\n",
    "    "
   ]
  },
  {
   "cell_type": "markdown",
   "metadata": {},
   "source": [
    "## 5. Diccionarios y tablas de frecuencia"
   ]
  },
  {
   "cell_type": "markdown",
   "metadata": {},
   "source": [
    "Los diccionarios son muy útiles para contar elementos en una lista, y crear una distribución de estos mediante una tabla de frecuencia. A continuación se puede observar un ejemplo donde se quiere saber qué número del 1 al 9 aparece más veces en una lista desordenada de números."
   ]
  },
  {
   "cell_type": "code",
   "execution_count": 1,
   "metadata": {},
   "outputs": [],
   "source": [
    "mi_lista = [2,3,5,2,5,6,7,8,1,2,3,4,5,2,8,9,5,2,4,6,9,1,2,1,3,6,7,4,3,1,2,9,7,5,4,3,1,2,9,5,4,2,7,9,5,3,4,6,7,3,3,4,5]"
   ]
  },
  {
   "cell_type": "code",
   "execution_count": 4,
   "metadata": {
    "scrolled": true
   },
   "outputs": [
    {
     "name": "stdout",
     "output_type": "stream",
     "text": [
      " 2 :  9\n",
      " 3 :  8\n",
      " 5 :  8\n",
      " 6 :  4\n",
      " 7 :  5\n",
      " 8 :  2\n",
      " 1 :  5\n",
      " 4 :  7\n",
      " 9 :  5\n"
     ]
    }
   ],
   "source": [
    "# Creamos un diccionario vacío \n",
    "freq = {} \n",
    "for numero in mi_lista: \n",
    "    if (numero in freq): \n",
    "        freq[numero] += 1\n",
    "    else: \n",
    "        freq[numero] = 1\n",
    "\n",
    "for key, value in freq.items(): \n",
    "    print (\"% d : % d\"%(key, value))"
   ]
  },
  {
   "cell_type": "markdown",
   "metadata": {},
   "source": [
    "De una lista de instalaciones, obtenemos estas tipologías de plantas de generación. ¿Qué tecnología tiene más plantas instaladas? \n",
    "\n",
    "¿Detectas algún problema con los nombres? ¿Cómo lo solucionarías?"
   ]
  },
  {
   "cell_type": "code",
   "execution_count": 10,
   "metadata": {},
   "outputs": [
    {
     "data": {
      "text/plain": [
       "['Eólica',\n",
       " 'Solar',\n",
       " 'Hidráulica',\n",
       " 'Solar',\n",
       " 'Eólica',\n",
       " 'Hidráulica',\n",
       " 'Gas Natural',\n",
       " 'Solar',\n",
       " 'Eólica',\n",
       " 'Solar',\n",
       " 'Nuclear',\n",
       " 'Solar',\n",
       " 'Hidráulica',\n",
       " 'Hidráulica',\n",
       " 'Solar',\n",
       " 'Carbón',\n",
       " 'Eólica',\n",
       " 'Eólica',\n",
       " 'Solar',\n",
       " 'Solar',\n",
       " 'Solar',\n",
       " 'Hidráulica',\n",
       " 'Gas Natural',\n",
       " 'Hidráulica',\n",
       " 'Nuclear',\n",
       " 'Eólica',\n",
       " 'Eólica',\n",
       " 'Solar',\n",
       " 'Eólica',\n",
       " 'Gas Natural',\n",
       " 'Hidráulica',\n",
       " 'hidráulica',\n",
       " 'Solar',\n",
       " 'Eólica',\n",
       " 'Hidráulica',\n",
       " 'Solar',\n",
       " 'Eolica',\n",
       " 'Solar',\n",
       " 'eolica',\n",
       " 'Eólica',\n",
       " 'Solar',\n",
       " 'Solar',\n",
       " 'Hidráulica',\n",
       " 'Gas Natural',\n",
       " 'Solar',\n",
       " 'Gas Natural',\n",
       " 'Nuclear',\n",
       " 'eólica',\n",
       " 'Hidráulica',\n",
       " 'Hidráulica',\n",
       " 'Solar']"
      ]
     },
     "execution_count": 10,
     "metadata": {},
     "output_type": "execute_result"
    }
   ],
   "source": [
    "instalaciones = ['Eólica', 'Solar', 'Hidráulica', 'Solar', 'Eólica', 'Hidráulica', 'Gas Natural', 'Solar', 'Eólica', 'Solar', 'Nuclear', 'Solar', 'Hidráulica', 'Hidráulica', 'Solar', 'Carbón', 'Eólica', 'Eólica', 'Solar', 'Solar', 'Solar', 'Hidráulica', 'Gas Natural', 'Hidráulica', 'Nuclear', 'Eólica', 'Eólica', 'Solar', 'Eólica', 'Gas Natural', 'Hidráulica', 'hidráulica', 'Solar', 'Eólica', 'Hidráulica', 'Solar', 'Eolica', 'Solar','eolica', 'Eólica', 'Solar', 'Solar', 'Hidráulica', 'Gas Natural', 'Solar', 'Gas Natural', 'Nuclear', 'eólica', 'Hidráulica', 'Hidráulica', 'Solar']\n",
    "instalaciones"
   ]
  },
  {
   "cell_type": "markdown",
   "metadata": {},
   "source": [
    "## 6. Funciones"
   ]
  },
  {
   "cell_type": "markdown",
   "metadata": {},
   "source": [
    "## 6.1 Funciones\n",
    "\n",
    "Una función es un bloque de código con un nombre asociado, que recibe cero o más argumentos como entrada, sigue una secuencia de sentencias donde se ejecutan las operaciones deseadas y devuelve un valor y/o realiza una tarea. Este bloque de código puede ser llamado cuando se necesite.\n",
    "\n",
    "En Python existen una serie de funciones integradas por defecto al lenguaje, pero también se pueden crear funciones definidas por el usuario para utilizarlas en sus propios programas. Para crear una función en python, se debe utilizar la palabra ``def`` para definir la función."
   ]
  },
  {
   "cell_type": "code",
   "execution_count": 15,
   "metadata": {},
   "outputs": [
    {
     "name": "stdout",
     "output_type": "stream",
     "text": [
      "3\n",
      "La variable introducida ha sido 3\n"
     ]
    }
   ],
   "source": [
    "#Ejemplo de función integrada en Python\n",
    "\n",
    "# La función input() nos permite asignar a una variable un valor ingresado por el usuario\n",
    "\n",
    "a = input()\n",
    "\n",
    "print('La variable introducida ha sido ' + a)"
   ]
  },
  {
   "cell_type": "code",
   "execution_count": 10,
   "metadata": {
    "scrolled": true
   },
   "outputs": [
    {
     "name": "stdout",
     "output_type": "stream",
     "text": [
      "1 [1, 2, 3, 4]\n"
     ]
    }
   ],
   "source": [
    "def head(list):     #parameters separated by comma\n",
    "    return list[0]  #Identation means inside functions\n",
    "\n",
    "numbers=[1,2,3,4]\n",
    "print(head(numbers), numbers)"
   ]
  },
  {
   "cell_type": "code",
   "execution_count": null,
   "metadata": {
    "scrolled": true
   },
   "outputs": [],
   "source": [
    "def change_first_element(list):\n",
    "    list[0]=0 #it returns none!\n",
    "\n",
    "numbers=[1,2,3,4]\n",
    "change_first_element(numbers)\n",
    "print(numbers)"
   ]
  },
  {
   "cell_type": "markdown",
   "metadata": {},
   "source": [
    "If we return a list we are returning a reference:"
   ]
  },
  {
   "cell_type": "code",
   "execution_count": null,
   "metadata": {
    "scrolled": true
   },
   "outputs": [],
   "source": [
    "def tail(list):\n",
    "    return list[1:]     # we are creating a new list\n",
    "\n",
    "numbers=[1,2,3,4]\n",
    "rest = tail(numbers)\n",
    "print(rest, numbers)\n",
    "print(id(rest), id(numbers))"
   ]
  },
  {
   "cell_type": "code",
   "execution_count": null,
   "metadata": {
    "scrolled": true
   },
   "outputs": [],
   "source": [
    "# Press tab\n",
    "numbers.reverse()\n",
    "print(numbers)"
   ]
  },
  {
   "cell_type": "markdown",
   "metadata": {},
   "source": [
    "Sometimes it is important to perform a *sanity check* about what is doing a pre-defined function:"
   ]
  },
  {
   "cell_type": "code",
   "execution_count": null,
   "metadata": {
    "scrolled": true
   },
   "outputs": [],
   "source": [
    "numbers=[1,2,3,4]\n",
    "def test(l):\n",
    "    return l.reverse() #Reverse return NONE! \n",
    "print(numbers)\n",
    "print(numbers, test(numbers)) #Reverses changes the list INPLACE if we don't make a copy we will  alter the original numbers "
   ]
  },
  {
   "cell_type": "code",
   "execution_count": null,
   "metadata": {
    "scrolled": true
   },
   "outputs": [],
   "source": [
    "numbers=[1,2,3,4]\n",
    "\n",
    "def test(l):\n",
    "    l.reverse() #Reverse changes the list INPLACE, if we don't make a copy we will  alter the original numbers \n",
    "    return l\n",
    "\n",
    "print(numbers, test(numbers))\n",
    "print(id(numbers), id(test(numbers)))"
   ]
  },
  {
   "cell_type": "code",
   "execution_count": null,
   "metadata": {
    "scrolled": true
   },
   "outputs": [],
   "source": [
    "numbers=[1,2,3,4]\n",
    "\n",
    "def test(l):\n",
    "    a=l[:]\n",
    "    l.reverse() #Reverse changes the list INPLACE, if we don't make a copy we will alter the original numbers \n",
    "    return a\n",
    "\n",
    "print(numbers, test(numbers))\n",
    "print(id(numbers), id(test(numbers)))"
   ]
  },
  {
   "cell_type": "code",
   "execution_count": null,
   "metadata": {
    "scrolled": true
   },
   "outputs": [],
   "source": [
    "?list.reverse"
   ]
  },
  {
   "cell_type": "markdown",
   "metadata": {},
   "source": [
    "## 6.2 Ejemplos de funciones"
   ]
  },
  {
   "cell_type": "markdown",
   "metadata": {},
   "source": [
    "#### Factorial\n",
    "\n",
    "The factorial of a non-negative integer $n$, denoted by $n!$, is the product of all positive integers less than or equal to $n$.  "
   ]
  },
  {
   "cell_type": "code",
   "execution_count": null,
   "metadata": {
    "scrolled": true
   },
   "outputs": [],
   "source": [
    "def factorial(n):\n",
    "    fact = 1\n",
    "    for factor in range(n,0,-1):\n",
    "        fact = fact * factor\n",
    "    return fact"
   ]
  },
  {
   "cell_type": "code",
   "execution_count": null,
   "metadata": {
    "scrolled": true
   },
   "outputs": [],
   "source": [
    "factorial(100)"
   ]
  },
  {
   "cell_type": "markdown",
   "metadata": {},
   "source": [
    "#### Fibonacci\n",
    "\n",
    "The Fibonacci Sequence is the series of numbers: 0, 1, 1, 2, 3, 5, 8, 13, 21, 34, ...\n",
    "\n",
    "The general rule to compute the sequence is very simple: The next number is found by adding up the two numbers before it."
   ]
  },
  {
   "cell_type": "code",
   "execution_count": null,
   "metadata": {
    "scrolled": true
   },
   "outputs": [],
   "source": [
    "def fib1(n):\n",
    "    if n==1:\n",
    "        return 1\n",
    "    if n==0:\n",
    "        return 0\n",
    "    return fib1(n-1) + fib1(n-2)\n",
    "\n",
    "fib1(20)\n",
    "\n",
    "# this function cannot compute fib(100)"
   ]
  },
  {
   "cell_type": "code",
   "execution_count": null,
   "metadata": {
    "scrolled": true
   },
   "outputs": [],
   "source": [
    "def fib2(n):\n",
    "    a, b = 0, 1\n",
    "    for i in range(1,n+1):\n",
    "        a, b = b, a + b\n",
    "    return a\n",
    "\n",
    "n = 1000\n",
    "if n<15:\n",
    "    print(fib1(n))\n",
    "else: \n",
    "    print(fib2(n))"
   ]
  },
  {
   "cell_type": "markdown",
   "metadata": {},
   "source": [
    "#### Greatest Common Divisor\n",
    "\n",
    "The greatest common divisor of two positive integers $a$ and $b$ is the largest divisor common to $a$ and $b$.  The Euclidean algorithm, or Euclid's algorithm, is an interative method for computing the greatest common divisor of two integers. \n",
    "\n",
    "+ If $a<b$, exchange $a$ and $b$.\n",
    "+ Divide $a$ by $b$ and get the remainder, $r$. If $r=0$, report $b$ as the GCD of $a$ and $b$.\n",
    "+ Replace $a$ by $b$ and replace $b$ by $r$. If $r \\neq 0$ iterate.\n",
    "\n"
   ]
  },
  {
   "cell_type": "code",
   "execution_count": null,
   "metadata": {
    "scrolled": true
   },
   "outputs": [],
   "source": [
    "def gcd(a,b): # Euclides algorithm v1.0: pseudocode translation\n",
    "    r = 1\n",
    "    while r != 0:\n",
    "        if a<b:\n",
    "            c=a\n",
    "            a=b\n",
    "            b=c\n",
    "        r = a%b \n",
    "        if r == 0:\n",
    "            return b\n",
    "        else:\n",
    "            a = b\n",
    "            b = r\n",
    "\n",
    "gcd(100,16)"
   ]
  },
  {
   "cell_type": "code",
   "execution_count": null,
   "metadata": {
    "scrolled": true
   },
   "outputs": [],
   "source": [
    "def gcd(a,b):   # Euclides algorithm v2.0: idiomatic Python\n",
    "    while a:\n",
    "        a, b = b%a, a\n",
    "    return b\n",
    "\n",
    "gcd(100,16)"
   ]
  },
  {
   "cell_type": "code",
   "execution_count": null,
   "metadata": {
    "scrolled": true
   },
   "outputs": [],
   "source": [
    "a = 0\n",
    "a == False"
   ]
  },
  {
   "cell_type": "markdown",
   "metadata": {},
   "source": [
    "## 7. Funciones avanzadas"
   ]
  },
  {
   "cell_type": "markdown",
   "metadata": {},
   "source": [
    "En este apartado se verá como en alguna ocasiones, hay funciones simples que solo queremos usar una vez. Este uso no parece muy apropiado para las funciones de las que hemos hablado hasta ahora... Vamos a ver primer ejemplos dónde este tipo de funciones nos pueden ser de utilidad. Se trata de las funciones <code>map, filter y reduce<code>\n"
   ]
  },
  {
   "cell_type": "markdown",
   "metadata": {},
   "source": [
    "### 7.1 Map\n",
    "\n",
    "Con un \"map\" podemos aplicar una función a toda una lista de inputs. Por ejemplo si queremos coger una lista de números y aplicar el cuadrado a todos sus elementos podríamos hacer:\n"
   ]
  },
  {
   "cell_type": "code",
   "execution_count": 15,
   "metadata": {},
   "outputs": [
    {
     "name": "stdout",
     "output_type": "stream",
     "text": [
      "[1, 2, 3, 4, 5]\n",
      "[1, 4, 9, 16, 25]\n"
     ]
    }
   ],
   "source": [
    "items = [1, 2, 3, 4, 5]\n",
    "squared = []\n",
    "for i in items:\n",
    "    squared.append(i**2)\n",
    "print(items)\n",
    "print(squared)"
   ]
  },
  {
   "cell_type": "markdown",
   "metadata": {},
   "source": [
    "Usando ``Map`` , tendríamos:"
   ]
  },
  {
   "cell_type": "code",
   "execution_count": 34,
   "metadata": {},
   "outputs": [
    {
     "name": "stdout",
     "output_type": "stream",
     "text": [
      "[2, 5, -6, 4, -1, 2, 7, -8, 3, 4, 7, 0, -1, -4, 0, 4, 6, -8, 0, 1]\n",
      "[4, 25, 36, 16, 1, 4, 49, 64, 9, 16, 49, 0, 1, 16, 0, 16, 36, 64, 0, 1]\n"
     ]
    }
   ],
   "source": [
    "def square_item (x):\n",
    "    return x**2\n",
    "squared = list(map(square_item, items))\n",
    "print(items)\n",
    "print(squared)"
   ]
  },
  {
   "cell_type": "markdown",
   "metadata": {},
   "source": [
    "Como se puede ver ``map`` es una función que acepta una función como argumento\n",
    "\n",
    "``map(funcion a aplicar, lista de entrada)``\n",
    "\n"
   ]
  },
  {
   "cell_type": "markdown",
   "metadata": {},
   "source": [
    "### 7.2 Filter\n",
    "\n",
    "La función filter de una manera similar, devuelve una lista con aquellso elementos de una lista de entrada que cumple una cierta codició (filtra la lista de etrada con una condición determinada). Véamos como ejemplo, si queremos quitar los elementos negativos de una lista y quedarnos solo con los positivos y que sean pares"
   ]
  },
  {
   "cell_type": "code",
   "execution_count": 32,
   "metadata": {},
   "outputs": [
    {
     "name": "stdout",
     "output_type": "stream",
     "text": [
      "[2, 5, -6, 4, -1, 2, 7, -8, 3, 4, 7, 0, -1, -4, 0, 4, 6, -8, 0, 1]\n",
      "[2, 4, 2, 4, 0, 0, 4, 6, 0]\n"
     ]
    }
   ],
   "source": [
    "items=[2,5,-6,4,-1,2,7,-8,3,4,7,0,-1,-4,0,4,6,-8,0,1]\n",
    "positivos=[]\n",
    "for item in items:\n",
    "    if item>=0:\n",
    "        if item % 2 == 0:\n",
    "            positivos.append(item) \n",
    "print(items)\n",
    "print(positivos)"
   ]
  },
  {
   "cell_type": "code",
   "execution_count": 33,
   "metadata": {},
   "outputs": [
    {
     "name": "stdout",
     "output_type": "stream",
     "text": [
      "[2, 5, -6, 4, -1, 2, 7, -8, 3, 4, 7, 0, -1, -4, 0, 4, 6, -8, 0, 1]\n",
      "[2, 4, 2, 4, 0, 0, 4, 6, 0]\n"
     ]
    }
   ],
   "source": [
    "items=[2,5,-6,4,-1,2,7,-8,3,4,7,0,-1,-4,0,4,6,-8,0,1]\n",
    "def es_positivo(x):\n",
    "    return x>=0 and x%2==0\n",
    "positivos=list(filter(es_positivo, items))\n",
    "print(items)\n",
    "print(positivos)"
   ]
  },
  {
   "cell_type": "markdown",
   "metadata": {},
   "source": [
    "Se puede observar como su sitaxis es muy parecisa a la funció ``map``, pero usando ahora ``filter``\n",
    "\n",
    "``filter(funcion a aplicar, lista de entrada)``"
   ]
  },
  {
   "cell_type": "markdown",
   "metadata": {},
   "source": [
    "### 7.3 Reduce\n",
    "\n",
    "La función ``Reduce`` será muy útil cuando se quiera hacer un cálculo sobre una lista y obtener el resultado. Por ejemplo si queremos obtener el resultado de multiplicar los números de una lista haríamos:"
   ]
  },
  {
   "cell_type": "code",
   "execution_count": 39,
   "metadata": {},
   "outputs": [
    {
     "name": "stdout",
     "output_type": "stream",
     "text": [
      "1600300800\n"
     ]
    }
   ],
   "source": [
    "producto = 1\n",
    "lista = [1,5,7,3,4,9,1,4,7,5,3,9,8,7,2]\n",
    "for num in lista:\n",
    "    producto = producto * num\n",
    "print(producto)"
   ]
  },
  {
   "cell_type": "markdown",
   "metadata": {},
   "source": [
    "Usando ``reduce``:"
   ]
  },
  {
   "cell_type": "code",
   "execution_count": 43,
   "metadata": {},
   "outputs": [
    {
     "name": "stdout",
     "output_type": "stream",
     "text": [
      "1600300800\n"
     ]
    }
   ],
   "source": [
    "from functools import reduce\n",
    "lista = [1,5,7,3,4,9,1,4,7,5,3,9,8,7,2]\n",
    "def multiplicar(x,y):\n",
    "    return x*y\n",
    "producto = reduce(multiplicar, lista)\n",
    "print(producto)"
   ]
  },
  {
   "cell_type": "markdown",
   "metadata": {},
   "source": [
    "Vemos que para usar ``reduce`` se tiene que importar de ``functools`` y que tiene una sintaxis idética a los ateriores casos:\n",
    "``reduce(funcion a aplicar, lista de entrada)``"
   ]
  },
  {
   "cell_type": "markdown",
   "metadata": {},
   "source": [
    "### 7.4 Funciones Lambda \n",
    "\n",
    "En todos estos casos hemos visto como consegumos comprimir el código, pero siempre tenemos que definir fuciones, normalmente muy simple, solo para ser usadas una vez. Para estas ocasiones, existen las ``funciones anónimas`` o ``lambda functions``. Estas se pueden definir y usar en la misma línia, y nos ahorramos un montón de tiempo!!\n",
    "\n",
    "Su sintaxis es:\n",
    "\n",
    "``lambda entradas: salida``\n",
    "\n",
    "Vamos a volver a escribir las mismas funciones que antes, perpo usado estas funciones para verlo más claro con ejemplos:"
   ]
  },
  {
   "cell_type": "code",
   "execution_count": 45,
   "metadata": {},
   "outputs": [
    {
     "name": "stdout",
     "output_type": "stream",
     "text": [
      "[1, 2, 3, 4, 5]\n",
      "[1, 4, 9, 16, 25]\n"
     ]
    }
   ],
   "source": [
    "items = [1, 2, 3, 4, 5]\n",
    "squared = list(map(lambda x:x**2, items))\n",
    "print(items)\n",
    "print(squared)"
   ]
  },
  {
   "cell_type": "code",
   "execution_count": 48,
   "metadata": {},
   "outputs": [
    {
     "name": "stdout",
     "output_type": "stream",
     "text": [
      "[2, 5, -6, 4, -1, 2, 7, -8, 3, 4, 7, 0, -1, -4, 0, 4, 6, -8, 0, 1]\n",
      "[2, 4, 2, 4, 0, 0, 4, 6, 0]\n"
     ]
    }
   ],
   "source": [
    "items=[2,5,-6,4,-1,2,7,-8,3,4,7,0,-1,-4,0,4,6,-8,0,1]\n",
    "positivos=list(filter(lambda x: x>=0 and x%2==0, items))\n",
    "print(items)\n",
    "print(positivos)"
   ]
  },
  {
   "cell_type": "code",
   "execution_count": 51,
   "metadata": {},
   "outputs": [
    {
     "name": "stdout",
     "output_type": "stream",
     "text": [
      "1600300800\n"
     ]
    }
   ],
   "source": [
    "from functools import reduce\n",
    "lista = [1,5,7,3,4,9,1,4,7,5,3,9,8,7,2]\n",
    "producto = reduce(lambda x,y: x*y, lista)\n",
    "print(producto)"
   ]
  },
  {
   "cell_type": "markdown",
   "metadata": {},
   "source": [
    "#### Ejercicio\n",
    "\n",
    "Dada una lista de nombres de clientes, devolver la lista con todos los nombres con la primera letra en mayúsculas"
   ]
  },
  {
   "cell_type": "code",
   "execution_count": 54,
   "metadata": {},
   "outputs": [],
   "source": [
    "nombres = ['jordi', 'arnau', 'laia', 'pedro', 'juan', 'pau', 'noemi', 'arya', 'marti', 'lyanna', 'miquel', 'joana', 'ricard', 'daenerys', 'alexandra']\n",
    "# vuestro código aquí!"
   ]
  },
  {
   "cell_type": "markdown",
   "metadata": {},
   "source": [
    "#### Otros usos\n",
    "\n",
    "Hay más ocasiones donde una función pide otra función como argumeto, dode usar una función lambda será muy útil. Por ejemplo, si miramos la documentación de la función ``sorted`` que viene en Python por defecto:\n",
    "\n",
    "https://docs.python.org/3/library/functions.html#sorted"
   ]
  },
  {
   "cell_type": "code",
   "execution_count": 65,
   "metadata": {
    "scrolled": true
   },
   "outputs": [
    {
     "data": {
      "text/plain": [
       "['Anna', 'Martí', 'Pau', 'Roberto', 'Xavier', 'alexandra', 'berta', 'daniel']"
      ]
     },
     "execution_count": 65,
     "metadata": {},
     "output_type": "execute_result"
    }
   ],
   "source": [
    "desordenado = ['Martí','Anna','daniel','Pau','berta','Roberto','Xavier', 'alexandra']\n",
    "sorted(desordenado)"
   ]
  },
  {
   "cell_type": "markdown",
   "metadata": {},
   "source": [
    "Si especificamos una función en el apartado ``key`` opcional:"
   ]
  },
  {
   "cell_type": "code",
   "execution_count": 64,
   "metadata": {},
   "outputs": [
    {
     "data": {
      "text/plain": [
       "['alexandra', 'Anna', 'berta', 'daniel', 'Martí', 'Pau', 'Roberto', 'Xavier']"
      ]
     },
     "execution_count": 64,
     "metadata": {},
     "output_type": "execute_result"
    }
   ],
   "source": [
    "sorted(desordenado, key=lambda x: x.lower())"
   ]
  },
  {
   "cell_type": "markdown",
   "metadata": {},
   "source": [
    "## 8. Lenguaje orientado a objetos"
   ]
  },
  {
   "cell_type": "markdown",
   "metadata": {},
   "source": [
    "### Objects\n",
    "\n",
    "You can define your own classes and objects."
   ]
  },
  {
   "cell_type": "code",
   "execution_count": null,
   "metadata": {
    "scrolled": true
   },
   "outputs": [],
   "source": [
    "#creating a class\n",
    "\n",
    "class Rectangle:\n",
    "    def __init__(self,x,y):\n",
    "        self.x = x\n",
    "        self.y = y\n",
    "    description = \"This shape has not been described yet\"\n",
    "    author = \"Nobody has claimed to make this shape yet\"\n",
    "    def area(self):\n",
    "        return self.x * self.y\n",
    "    def perimeter(self):\n",
    "        return 2 * self.x + 2 * self.y\n",
    "    def describe(self,text):\n",
    "        self.description = text\n",
    "    def authorName(self,text):\n",
    "        self.author = text\n",
    "    def scaleSize(self,scale):\n",
    "        self.x = self.x * scale\n",
    "        self.y = self.y * scale\n",
    "\n",
    "#creating objects\n",
    "a = Rectangle(100, 45)\n",
    "b = Rectangle(10,230)\n",
    "\n",
    "#describing the rectangles\n",
    "a.describe(\"A fat rectangle\")\n",
    "b.describe(\"A thin rectangle\")"
   ]
  },
  {
   "cell_type": "code",
   "execution_count": null,
   "metadata": {
    "scrolled": true
   },
   "outputs": [],
   "source": [
    "#finding the area of your rectangle:\n",
    "print(a.area())\n",
    " \n",
    "#finding the perimeter of your rectangle:\n",
    "print(a.perimeter())\n",
    "\n",
    "#getting the description\n",
    "print(a.description)\n",
    "print(a.author)"
   ]
  },
  {
   "cell_type": "code",
   "execution_count": null,
   "metadata": {
    "scrolled": true
   },
   "outputs": [],
   "source": [
    "#finding the area of your rectangle:\n",
    "print(b.area())\n",
    "print(b.description)\n",
    "\n",
    "#making the rectangle 50% smaller\n",
    "b.scaleSize(0.5)\n",
    "b.describe(\"A small thin rectangle\")\n",
    " \n",
    "#re-printing the new area of the rectangle\n",
    "print(b.area())\n",
    "print(b.description)"
   ]
  },
  {
   "cell_type": "markdown",
   "metadata": {},
   "source": [
    "Ejemplo de classe: https://pypi.org/project/UnladenSwallow/"
   ]
  },
  {
   "cell_type": "code",
   "execution_count": null,
   "metadata": {
    "scrolled": true
   },
   "outputs": [],
   "source": [
    "class AirSpeedVelocityOfAnUnladenSwallow:\n",
    "    \"\"\"Class for the airspeed velocity of an unladen swallow.\"\"\"\n",
    "\n",
    "    species = 'European'\n",
    "    meters_per_second = 11\n",
    "    miles_per_hour = 24\n",
    "    source = 'http://style.org/unladenswallow/'\n",
    "\n",
    "    def what_is_the_airspeed_velocity_of_an_unladen_swallow(self):\n",
    "        \"\"\"Return the airspeed velocity of an unladen swallow.\"\"\"\n",
    "        answer = (\n",
    "            'The airspeed velocity of a {0} swallow is {1} meters per '\n",
    "            'second or {2} miles per hour. See {3} for more information.'\n",
    "        ).format(\n",
    "            self.species,\n",
    "            self.meters_per_second,\n",
    "            self.miles_per_hour,\n",
    "            self.source)\n",
    "\n",
    "        return answer\n",
    "\n",
    "a = AirSpeedVelocityOfAnUnladenSwallow()\n",
    "a.what_is_the_airspeed_velocity_of_an_unladen_swallow()"
   ]
  },
  {
   "cell_type": "markdown",
   "metadata": {},
   "source": [
    "## 9. Introducción a NumPy"
   ]
  },
  {
   "cell_type": "markdown",
   "metadata": {},
   "source": [
    "## 10. Introducción a Pandas\n",
    "\n",
    "Padas es de las librerías más importantes en Python para Data Science!!! Básicamente nso permitirá tener ``Datasets`` abiertos como si se trataran de una hoja de cálculo en el excel, es decir, en forma matricial con dos dimensiones y con columnas e idices indexados.\n",
    "\n",
    "<img src=\"Figures/Pandas.jpg\" alt=\"Drawing\" style=\"width: 800px;\"/>\n"
   ]
  },
  {
   "cell_type": "markdown",
   "metadata": {},
   "source": [
    "Pandas sirve para:\n",
    "* Operar en todo el dataset o a una fila o columna (vectores) con alta eficiencia computacional\n",
    "* Ayuda a la limpieza de datos y solucionar datos inexistentes\n",
    "* Acceder a subsets de datos\n",
    "* Añadir o eliminar columnas con nuevas características.\n",
    "* Agrupar datos por características.\n",
    "* Muy eficiente juntando datos de distintas fuentes.\n",
    "* Trabajar con series temporales."
   ]
  },
  {
   "cell_type": "markdown",
   "metadata": {},
   "source": [
    "### 10.1 Leer datos de un csv\n",
    "\n",
    "La mayoría de las veces cargaremos los archivos a través de un archivo .csv. A continuación podeis ver el código básico que se usará casi siempre:"
   ]
  },
  {
   "cell_type": "code",
   "execution_count": 2,
   "metadata": {
    "scrolled": false
   },
   "outputs": [
    {
     "data": {
      "text/html": [
       "<div>\n",
       "<style scoped>\n",
       "    .dataframe tbody tr th:only-of-type {\n",
       "        vertical-align: middle;\n",
       "    }\n",
       "\n",
       "    .dataframe tbody tr th {\n",
       "        vertical-align: top;\n",
       "    }\n",
       "\n",
       "    .dataframe thead th {\n",
       "        text-align: right;\n",
       "    }\n",
       "</style>\n",
       "<table border=\"1\" class=\"dataframe\">\n",
       "  <thead>\n",
       "    <tr style=\"text-align: right;\">\n",
       "      <th></th>\n",
       "      <th>LCLid</th>\n",
       "      <th>day</th>\n",
       "      <th>energy_median</th>\n",
       "      <th>energy_mean</th>\n",
       "      <th>energy_max</th>\n",
       "      <th>energy_count</th>\n",
       "      <th>energy_std</th>\n",
       "      <th>energy_sum</th>\n",
       "      <th>energy_min</th>\n",
       "    </tr>\n",
       "  </thead>\n",
       "  <tbody>\n",
       "    <tr>\n",
       "      <th>0</th>\n",
       "      <td>MAC000113</td>\n",
       "      <td>2011-12-14</td>\n",
       "      <td>1.0910</td>\n",
       "      <td>1.065250</td>\n",
       "      <td>1.674</td>\n",
       "      <td>28</td>\n",
       "      <td>0.305397</td>\n",
       "      <td>29.827</td>\n",
       "      <td>0.262</td>\n",
       "    </tr>\n",
       "    <tr>\n",
       "      <th>1</th>\n",
       "      <td>MAC000113</td>\n",
       "      <td>2011-12-15</td>\n",
       "      <td>0.3710</td>\n",
       "      <td>0.546521</td>\n",
       "      <td>1.434</td>\n",
       "      <td>48</td>\n",
       "      <td>0.410120</td>\n",
       "      <td>26.233</td>\n",
       "      <td>0.119</td>\n",
       "    </tr>\n",
       "    <tr>\n",
       "      <th>2</th>\n",
       "      <td>MAC000113</td>\n",
       "      <td>2011-12-16</td>\n",
       "      <td>0.3205</td>\n",
       "      <td>0.534708</td>\n",
       "      <td>2.034</td>\n",
       "      <td>48</td>\n",
       "      <td>0.464431</td>\n",
       "      <td>25.666</td>\n",
       "      <td>0.129</td>\n",
       "    </tr>\n",
       "    <tr>\n",
       "      <th>3</th>\n",
       "      <td>MAC000113</td>\n",
       "      <td>2011-12-17</td>\n",
       "      <td>0.2570</td>\n",
       "      <td>0.421500</td>\n",
       "      <td>1.068</td>\n",
       "      <td>48</td>\n",
       "      <td>0.274387</td>\n",
       "      <td>20.232</td>\n",
       "      <td>0.115</td>\n",
       "    </tr>\n",
       "    <tr>\n",
       "      <th>4</th>\n",
       "      <td>MAC000113</td>\n",
       "      <td>2011-12-18</td>\n",
       "      <td>0.3985</td>\n",
       "      <td>0.565333</td>\n",
       "      <td>2.218</td>\n",
       "      <td>48</td>\n",
       "      <td>0.450712</td>\n",
       "      <td>27.136</td>\n",
       "      <td>0.134</td>\n",
       "    </tr>\n",
       "  </tbody>\n",
       "</table>\n",
       "</div>"
      ],
      "text/plain": [
       "       LCLid         day  energy_median  energy_mean  energy_max  \\\n",
       "0  MAC000113  2011-12-14         1.0910     1.065250       1.674   \n",
       "1  MAC000113  2011-12-15         0.3710     0.546521       1.434   \n",
       "2  MAC000113  2011-12-16         0.3205     0.534708       2.034   \n",
       "3  MAC000113  2011-12-17         0.2570     0.421500       1.068   \n",
       "4  MAC000113  2011-12-18         0.3985     0.565333       2.218   \n",
       "\n",
       "   energy_count  energy_std  energy_sum  energy_min  \n",
       "0            28    0.305397      29.827       0.262  \n",
       "1            48    0.410120      26.233       0.119  \n",
       "2            48    0.464431      25.666       0.129  \n",
       "3            48    0.274387      20.232       0.115  \n",
       "4            48    0.450712      27.136       0.134  "
      ]
     },
     "execution_count": 2,
     "metadata": {},
     "output_type": "execute_result"
    }
   ],
   "source": [
    "import pandas as pd #importamos Pandas!\n",
    "londres = pd.read_csv('Data/block_13_diario.csv')\n",
    "londres.head(5)"
   ]
  },
  {
   "cell_type": "markdown",
   "metadata": {},
   "source": [
    "### 10.2 Inspección datos"
   ]
  },
  {
   "cell_type": "markdown",
   "metadata": {},
   "source": [
    "Si queremos saber qué dimensiones tiene este DataFrame, podemos mirar su 'forma'"
   ]
  },
  {
   "cell_type": "code",
   "execution_count": 3,
   "metadata": {},
   "outputs": [
    {
     "data": {
      "text/plain": [
       "(32992, 9)"
      ]
     },
     "execution_count": 3,
     "metadata": {},
     "output_type": "execute_result"
    }
   ],
   "source": [
    "londres.shape"
   ]
  },
  {
   "cell_type": "markdown",
   "metadata": {},
   "source": [
    "Hay 32992 entradas y 9 características para cada entrada.\n",
    "\n",
    "Puede ser muy útil ver las primeras o últimas entradas del dataset para entender mejor estos datos:"
   ]
  },
  {
   "cell_type": "code",
   "execution_count": 4,
   "metadata": {},
   "outputs": [
    {
     "data": {
      "text/html": [
       "<div>\n",
       "<style scoped>\n",
       "    .dataframe tbody tr th:only-of-type {\n",
       "        vertical-align: middle;\n",
       "    }\n",
       "\n",
       "    .dataframe tbody tr th {\n",
       "        vertical-align: top;\n",
       "    }\n",
       "\n",
       "    .dataframe thead th {\n",
       "        text-align: right;\n",
       "    }\n",
       "</style>\n",
       "<table border=\"1\" class=\"dataframe\">\n",
       "  <thead>\n",
       "    <tr style=\"text-align: right;\">\n",
       "      <th></th>\n",
       "      <th>LCLid</th>\n",
       "      <th>day</th>\n",
       "      <th>energy_median</th>\n",
       "      <th>energy_mean</th>\n",
       "      <th>energy_max</th>\n",
       "      <th>energy_count</th>\n",
       "      <th>energy_std</th>\n",
       "      <th>energy_sum</th>\n",
       "      <th>energy_min</th>\n",
       "    </tr>\n",
       "  </thead>\n",
       "  <tbody>\n",
       "    <tr>\n",
       "      <th>0</th>\n",
       "      <td>MAC000113</td>\n",
       "      <td>2011-12-14</td>\n",
       "      <td>1.0910</td>\n",
       "      <td>1.065250</td>\n",
       "      <td>1.674</td>\n",
       "      <td>28</td>\n",
       "      <td>0.305397</td>\n",
       "      <td>29.827</td>\n",
       "      <td>0.262</td>\n",
       "    </tr>\n",
       "    <tr>\n",
       "      <th>1</th>\n",
       "      <td>MAC000113</td>\n",
       "      <td>2011-12-15</td>\n",
       "      <td>0.3710</td>\n",
       "      <td>0.546521</td>\n",
       "      <td>1.434</td>\n",
       "      <td>48</td>\n",
       "      <td>0.410120</td>\n",
       "      <td>26.233</td>\n",
       "      <td>0.119</td>\n",
       "    </tr>\n",
       "    <tr>\n",
       "      <th>2</th>\n",
       "      <td>MAC000113</td>\n",
       "      <td>2011-12-16</td>\n",
       "      <td>0.3205</td>\n",
       "      <td>0.534708</td>\n",
       "      <td>2.034</td>\n",
       "      <td>48</td>\n",
       "      <td>0.464431</td>\n",
       "      <td>25.666</td>\n",
       "      <td>0.129</td>\n",
       "    </tr>\n",
       "    <tr>\n",
       "      <th>3</th>\n",
       "      <td>MAC000113</td>\n",
       "      <td>2011-12-17</td>\n",
       "      <td>0.2570</td>\n",
       "      <td>0.421500</td>\n",
       "      <td>1.068</td>\n",
       "      <td>48</td>\n",
       "      <td>0.274387</td>\n",
       "      <td>20.232</td>\n",
       "      <td>0.115</td>\n",
       "    </tr>\n",
       "    <tr>\n",
       "      <th>4</th>\n",
       "      <td>MAC000113</td>\n",
       "      <td>2011-12-18</td>\n",
       "      <td>0.3985</td>\n",
       "      <td>0.565333</td>\n",
       "      <td>2.218</td>\n",
       "      <td>48</td>\n",
       "      <td>0.450712</td>\n",
       "      <td>27.136</td>\n",
       "      <td>0.134</td>\n",
       "    </tr>\n",
       "  </tbody>\n",
       "</table>\n",
       "</div>"
      ],
      "text/plain": [
       "       LCLid         day  energy_median  energy_mean  energy_max  \\\n",
       "0  MAC000113  2011-12-14         1.0910     1.065250       1.674   \n",
       "1  MAC000113  2011-12-15         0.3710     0.546521       1.434   \n",
       "2  MAC000113  2011-12-16         0.3205     0.534708       2.034   \n",
       "3  MAC000113  2011-12-17         0.2570     0.421500       1.068   \n",
       "4  MAC000113  2011-12-18         0.3985     0.565333       2.218   \n",
       "\n",
       "   energy_count  energy_std  energy_sum  energy_min  \n",
       "0            28    0.305397      29.827       0.262  \n",
       "1            48    0.410120      26.233       0.119  \n",
       "2            48    0.464431      25.666       0.129  \n",
       "3            48    0.274387      20.232       0.115  \n",
       "4            48    0.450712      27.136       0.134  "
      ]
     },
     "execution_count": 4,
     "metadata": {},
     "output_type": "execute_result"
    }
   ],
   "source": [
    "londres.head()"
   ]
  },
  {
   "cell_type": "code",
   "execution_count": 5,
   "metadata": {},
   "outputs": [
    {
     "data": {
      "text/html": [
       "<div>\n",
       "<style scoped>\n",
       "    .dataframe tbody tr th:only-of-type {\n",
       "        vertical-align: middle;\n",
       "    }\n",
       "\n",
       "    .dataframe tbody tr th {\n",
       "        vertical-align: top;\n",
       "    }\n",
       "\n",
       "    .dataframe thead th {\n",
       "        text-align: right;\n",
       "    }\n",
       "</style>\n",
       "<table border=\"1\" class=\"dataframe\">\n",
       "  <thead>\n",
       "    <tr style=\"text-align: right;\">\n",
       "      <th></th>\n",
       "      <th>LCLid</th>\n",
       "      <th>day</th>\n",
       "      <th>energy_median</th>\n",
       "      <th>energy_mean</th>\n",
       "      <th>energy_max</th>\n",
       "      <th>energy_count</th>\n",
       "      <th>energy_std</th>\n",
       "      <th>energy_sum</th>\n",
       "      <th>energy_min</th>\n",
       "    </tr>\n",
       "  </thead>\n",
       "  <tbody>\n",
       "    <tr>\n",
       "      <th>32987</th>\n",
       "      <td>MAC005416</td>\n",
       "      <td>2014-02-24</td>\n",
       "      <td>0.0660</td>\n",
       "      <td>0.111437</td>\n",
       "      <td>0.809</td>\n",
       "      <td>48</td>\n",
       "      <td>0.126465</td>\n",
       "      <td>5.349</td>\n",
       "      <td>0.050</td>\n",
       "    </tr>\n",
       "    <tr>\n",
       "      <th>32988</th>\n",
       "      <td>MAC005416</td>\n",
       "      <td>2014-02-25</td>\n",
       "      <td>0.0645</td>\n",
       "      <td>0.072521</td>\n",
       "      <td>0.238</td>\n",
       "      <td>48</td>\n",
       "      <td>0.030756</td>\n",
       "      <td>3.481</td>\n",
       "      <td>0.051</td>\n",
       "    </tr>\n",
       "    <tr>\n",
       "      <th>32989</th>\n",
       "      <td>MAC005416</td>\n",
       "      <td>2014-02-26</td>\n",
       "      <td>0.0675</td>\n",
       "      <td>0.107917</td>\n",
       "      <td>0.343</td>\n",
       "      <td>48</td>\n",
       "      <td>0.080074</td>\n",
       "      <td>5.180</td>\n",
       "      <td>0.049</td>\n",
       "    </tr>\n",
       "    <tr>\n",
       "      <th>32990</th>\n",
       "      <td>MAC005416</td>\n",
       "      <td>2014-02-27</td>\n",
       "      <td>0.0910</td>\n",
       "      <td>0.104250</td>\n",
       "      <td>0.296</td>\n",
       "      <td>48</td>\n",
       "      <td>0.054844</td>\n",
       "      <td>5.004</td>\n",
       "      <td>0.047</td>\n",
       "    </tr>\n",
       "    <tr>\n",
       "      <th>32991</th>\n",
       "      <td>MAC005416</td>\n",
       "      <td>2014-02-28</td>\n",
       "      <td>0.0630</td>\n",
       "      <td>0.063000</td>\n",
       "      <td>0.063</td>\n",
       "      <td>1</td>\n",
       "      <td>NaN</td>\n",
       "      <td>0.063</td>\n",
       "      <td>0.063</td>\n",
       "    </tr>\n",
       "  </tbody>\n",
       "</table>\n",
       "</div>"
      ],
      "text/plain": [
       "           LCLid         day  energy_median  energy_mean  energy_max  \\\n",
       "32987  MAC005416  2014-02-24         0.0660     0.111437       0.809   \n",
       "32988  MAC005416  2014-02-25         0.0645     0.072521       0.238   \n",
       "32989  MAC005416  2014-02-26         0.0675     0.107917       0.343   \n",
       "32990  MAC005416  2014-02-27         0.0910     0.104250       0.296   \n",
       "32991  MAC005416  2014-02-28         0.0630     0.063000       0.063   \n",
       "\n",
       "       energy_count  energy_std  energy_sum  energy_min  \n",
       "32987            48    0.126465       5.349       0.050  \n",
       "32988            48    0.030756       3.481       0.051  \n",
       "32989            48    0.080074       5.180       0.049  \n",
       "32990            48    0.054844       5.004       0.047  \n",
       "32991             1         NaN       0.063       0.063  "
      ]
     },
     "execution_count": 5,
     "metadata": {},
     "output_type": "execute_result"
    }
   ],
   "source": [
    "londres.tail()"
   ]
  },
  {
   "cell_type": "markdown",
   "metadata": {},
   "source": [
    "Si queremos saber el nombre de las columnas o índices, podemos acceder a ellos:"
   ]
  },
  {
   "cell_type": "code",
   "execution_count": 6,
   "metadata": {},
   "outputs": [
    {
     "data": {
      "text/plain": [
       "Index(['LCLid', 'day', 'energy_median', 'energy_mean', 'energy_max',\n",
       "       'energy_count', 'energy_std', 'energy_sum', 'energy_min'],\n",
       "      dtype='object')"
      ]
     },
     "execution_count": 6,
     "metadata": {},
     "output_type": "execute_result"
    }
   ],
   "source": [
    "londres.columns"
   ]
  },
  {
   "cell_type": "code",
   "execution_count": 7,
   "metadata": {},
   "outputs": [
    {
     "data": {
      "text/plain": [
       "'energy_max'"
      ]
     },
     "execution_count": 7,
     "metadata": {},
     "output_type": "execute_result"
    }
   ],
   "source": [
    "londres.columns[4]"
   ]
  },
  {
   "cell_type": "code",
   "execution_count": 8,
   "metadata": {},
   "outputs": [
    {
     "data": {
      "text/plain": [
       "RangeIndex(start=0, stop=32992, step=1)"
      ]
     },
     "execution_count": 8,
     "metadata": {},
     "output_type": "execute_result"
    }
   ],
   "source": [
    "londres.index"
   ]
  },
  {
   "cell_type": "markdown",
   "metadata": {},
   "source": [
    "Por útlimo, para tener un resumen muy bueno, es muy util el metodo ``describe``"
   ]
  },
  {
   "cell_type": "code",
   "execution_count": 9,
   "metadata": {},
   "outputs": [
    {
     "data": {
      "text/html": [
       "<div>\n",
       "<style scoped>\n",
       "    .dataframe tbody tr th:only-of-type {\n",
       "        vertical-align: middle;\n",
       "    }\n",
       "\n",
       "    .dataframe tbody tr th {\n",
       "        vertical-align: top;\n",
       "    }\n",
       "\n",
       "    .dataframe thead th {\n",
       "        text-align: right;\n",
       "    }\n",
       "</style>\n",
       "<table border=\"1\" class=\"dataframe\">\n",
       "  <thead>\n",
       "    <tr style=\"text-align: right;\">\n",
       "      <th></th>\n",
       "      <th>energy_median</th>\n",
       "      <th>energy_mean</th>\n",
       "      <th>energy_max</th>\n",
       "      <th>energy_count</th>\n",
       "      <th>energy_std</th>\n",
       "      <th>energy_sum</th>\n",
       "      <th>energy_min</th>\n",
       "    </tr>\n",
       "  </thead>\n",
       "  <tbody>\n",
       "    <tr>\n",
       "      <th>count</th>\n",
       "      <td>32992.000000</td>\n",
       "      <td>32992.000000</td>\n",
       "      <td>32992.000000</td>\n",
       "      <td>32992.000000</td>\n",
       "      <td>32865.000000</td>\n",
       "      <td>32992.000000</td>\n",
       "      <td>32992.000000</td>\n",
       "    </tr>\n",
       "    <tr>\n",
       "      <th>mean</th>\n",
       "      <td>0.165632</td>\n",
       "      <td>0.223007</td>\n",
       "      <td>0.879596</td>\n",
       "      <td>47.776128</td>\n",
       "      <td>0.182819</td>\n",
       "      <td>10.660024</td>\n",
       "      <td>0.064419</td>\n",
       "    </tr>\n",
       "    <tr>\n",
       "      <th>std</th>\n",
       "      <td>0.158396</td>\n",
       "      <td>0.178484</td>\n",
       "      <td>0.672407</td>\n",
       "      <td>3.035524</td>\n",
       "      <td>0.147394</td>\n",
       "      <td>8.565058</td>\n",
       "      <td>0.076632</td>\n",
       "    </tr>\n",
       "    <tr>\n",
       "      <th>min</th>\n",
       "      <td>0.000000</td>\n",
       "      <td>0.000000</td>\n",
       "      <td>0.000000</td>\n",
       "      <td>1.000000</td>\n",
       "      <td>0.000000</td>\n",
       "      <td>0.000000</td>\n",
       "      <td>0.000000</td>\n",
       "    </tr>\n",
       "    <tr>\n",
       "      <th>25%</th>\n",
       "      <td>0.052000</td>\n",
       "      <td>0.085432</td>\n",
       "      <td>0.348000</td>\n",
       "      <td>48.000000</td>\n",
       "      <td>0.069162</td>\n",
       "      <td>4.046000</td>\n",
       "      <td>0.016000</td>\n",
       "    </tr>\n",
       "    <tr>\n",
       "      <th>50%</th>\n",
       "      <td>0.118500</td>\n",
       "      <td>0.176844</td>\n",
       "      <td>0.775000</td>\n",
       "      <td>48.000000</td>\n",
       "      <td>0.149607</td>\n",
       "      <td>8.458000</td>\n",
       "      <td>0.035000</td>\n",
       "    </tr>\n",
       "    <tr>\n",
       "      <th>75%</th>\n",
       "      <td>0.225000</td>\n",
       "      <td>0.311276</td>\n",
       "      <td>1.248000</td>\n",
       "      <td>48.000000</td>\n",
       "      <td>0.264400</td>\n",
       "      <td>14.910500</td>\n",
       "      <td>0.093000</td>\n",
       "    </tr>\n",
       "    <tr>\n",
       "      <th>max</th>\n",
       "      <td>1.608000</td>\n",
       "      <td>1.407458</td>\n",
       "      <td>6.897000</td>\n",
       "      <td>48.000000</td>\n",
       "      <td>1.104101</td>\n",
       "      <td>67.558000</td>\n",
       "      <td>1.068000</td>\n",
       "    </tr>\n",
       "  </tbody>\n",
       "</table>\n",
       "</div>"
      ],
      "text/plain": [
       "       energy_median   energy_mean    energy_max  energy_count    energy_std  \\\n",
       "count   32992.000000  32992.000000  32992.000000  32992.000000  32865.000000   \n",
       "mean        0.165632      0.223007      0.879596     47.776128      0.182819   \n",
       "std         0.158396      0.178484      0.672407      3.035524      0.147394   \n",
       "min         0.000000      0.000000      0.000000      1.000000      0.000000   \n",
       "25%         0.052000      0.085432      0.348000     48.000000      0.069162   \n",
       "50%         0.118500      0.176844      0.775000     48.000000      0.149607   \n",
       "75%         0.225000      0.311276      1.248000     48.000000      0.264400   \n",
       "max         1.608000      1.407458      6.897000     48.000000      1.104101   \n",
       "\n",
       "         energy_sum    energy_min  \n",
       "count  32992.000000  32992.000000  \n",
       "mean      10.660024      0.064419  \n",
       "std        8.565058      0.076632  \n",
       "min        0.000000      0.000000  \n",
       "25%        4.046000      0.016000  \n",
       "50%        8.458000      0.035000  \n",
       "75%       14.910500      0.093000  \n",
       "max       67.558000      1.068000  "
      ]
     },
     "execution_count": 9,
     "metadata": {},
     "output_type": "execute_result"
    }
   ],
   "source": [
    "londres.describe()"
   ]
  },
  {
   "cell_type": "markdown",
   "metadata": {},
   "source": [
    "### 10.3 Seleccionar datos"
   ]
  },
  {
   "cell_type": "markdown",
   "metadata": {},
   "source": [
    "Si queremos trabajar o seleccionar solo con una parte del dataset, podemos usar **[]** después del nombre del dataset, e indicar qué columnas se desean seleccionar."
   ]
  },
  {
   "cell_type": "code",
   "execution_count": 14,
   "metadata": {},
   "outputs": [
    {
     "data": {
      "text/plain": [
       "0        2011-12-14\n",
       "1        2011-12-15\n",
       "2        2011-12-16\n",
       "3        2011-12-17\n",
       "4        2011-12-18\n",
       "            ...    \n",
       "32987    2014-02-24\n",
       "32988    2014-02-25\n",
       "32989    2014-02-26\n",
       "32990    2014-02-27\n",
       "32991    2014-02-28\n",
       "Name: day, Length: 32992, dtype: object"
      ]
     },
     "execution_count": 14,
     "metadata": {},
     "output_type": "execute_result"
    }
   ],
   "source": [
    "londres['day']"
   ]
  },
  {
   "cell_type": "markdown",
   "metadata": {},
   "source": [
    "Si, por el contrario se quiere seleccionar una parte de las filas, se indicará usando *slicing* como en los strings:"
   ]
  },
  {
   "cell_type": "code",
   "execution_count": 16,
   "metadata": {},
   "outputs": [
    {
     "data": {
      "text/html": [
       "<div>\n",
       "<style scoped>\n",
       "    .dataframe tbody tr th:only-of-type {\n",
       "        vertical-align: middle;\n",
       "    }\n",
       "\n",
       "    .dataframe tbody tr th {\n",
       "        vertical-align: top;\n",
       "    }\n",
       "\n",
       "    .dataframe thead th {\n",
       "        text-align: right;\n",
       "    }\n",
       "</style>\n",
       "<table border=\"1\" class=\"dataframe\">\n",
       "  <thead>\n",
       "    <tr style=\"text-align: right;\">\n",
       "      <th></th>\n",
       "      <th>LCLid</th>\n",
       "      <th>day</th>\n",
       "      <th>energy_median</th>\n",
       "      <th>energy_mean</th>\n",
       "      <th>energy_max</th>\n",
       "      <th>energy_count</th>\n",
       "      <th>energy_std</th>\n",
       "      <th>energy_sum</th>\n",
       "      <th>energy_min</th>\n",
       "    </tr>\n",
       "  </thead>\n",
       "  <tbody>\n",
       "    <tr>\n",
       "      <th>10</th>\n",
       "      <td>MAC000113</td>\n",
       "      <td>2011-12-24</td>\n",
       "      <td>0.1745</td>\n",
       "      <td>0.175750</td>\n",
       "      <td>0.272</td>\n",
       "      <td>48</td>\n",
       "      <td>0.040037</td>\n",
       "      <td>8.436</td>\n",
       "      <td>0.120</td>\n",
       "    </tr>\n",
       "    <tr>\n",
       "      <th>11</th>\n",
       "      <td>MAC000113</td>\n",
       "      <td>2011-12-25</td>\n",
       "      <td>0.1775</td>\n",
       "      <td>0.177917</td>\n",
       "      <td>0.281</td>\n",
       "      <td>48</td>\n",
       "      <td>0.041313</td>\n",
       "      <td>8.540</td>\n",
       "      <td>0.122</td>\n",
       "    </tr>\n",
       "    <tr>\n",
       "      <th>12</th>\n",
       "      <td>MAC000113</td>\n",
       "      <td>2011-12-26</td>\n",
       "      <td>0.1835</td>\n",
       "      <td>0.182021</td>\n",
       "      <td>0.266</td>\n",
       "      <td>48</td>\n",
       "      <td>0.041469</td>\n",
       "      <td>8.737</td>\n",
       "      <td>0.122</td>\n",
       "    </tr>\n",
       "    <tr>\n",
       "      <th>13</th>\n",
       "      <td>MAC000113</td>\n",
       "      <td>2011-12-27</td>\n",
       "      <td>0.1840</td>\n",
       "      <td>0.183667</td>\n",
       "      <td>0.290</td>\n",
       "      <td>48</td>\n",
       "      <td>0.043745</td>\n",
       "      <td>8.816</td>\n",
       "      <td>0.123</td>\n",
       "    </tr>\n",
       "    <tr>\n",
       "      <th>14</th>\n",
       "      <td>MAC000113</td>\n",
       "      <td>2011-12-28</td>\n",
       "      <td>0.1845</td>\n",
       "      <td>0.181021</td>\n",
       "      <td>0.259</td>\n",
       "      <td>48</td>\n",
       "      <td>0.039440</td>\n",
       "      <td>8.689</td>\n",
       "      <td>0.115</td>\n",
       "    </tr>\n",
       "    <tr>\n",
       "      <th>15</th>\n",
       "      <td>MAC000113</td>\n",
       "      <td>2011-12-29</td>\n",
       "      <td>0.2455</td>\n",
       "      <td>0.546000</td>\n",
       "      <td>2.305</td>\n",
       "      <td>48</td>\n",
       "      <td>0.497169</td>\n",
       "      <td>26.208</td>\n",
       "      <td>0.120</td>\n",
       "    </tr>\n",
       "    <tr>\n",
       "      <th>16</th>\n",
       "      <td>MAC000113</td>\n",
       "      <td>2011-12-30</td>\n",
       "      <td>0.6130</td>\n",
       "      <td>0.660000</td>\n",
       "      <td>1.608</td>\n",
       "      <td>48</td>\n",
       "      <td>0.374306</td>\n",
       "      <td>31.680</td>\n",
       "      <td>0.137</td>\n",
       "    </tr>\n",
       "  </tbody>\n",
       "</table>\n",
       "</div>"
      ],
      "text/plain": [
       "        LCLid         day  energy_median  energy_mean  energy_max  \\\n",
       "10  MAC000113  2011-12-24         0.1745     0.175750       0.272   \n",
       "11  MAC000113  2011-12-25         0.1775     0.177917       0.281   \n",
       "12  MAC000113  2011-12-26         0.1835     0.182021       0.266   \n",
       "13  MAC000113  2011-12-27         0.1840     0.183667       0.290   \n",
       "14  MAC000113  2011-12-28         0.1845     0.181021       0.259   \n",
       "15  MAC000113  2011-12-29         0.2455     0.546000       2.305   \n",
       "16  MAC000113  2011-12-30         0.6130     0.660000       1.608   \n",
       "\n",
       "    energy_count  energy_std  energy_sum  energy_min  \n",
       "10            48    0.040037       8.436       0.120  \n",
       "11            48    0.041313       8.540       0.122  \n",
       "12            48    0.041469       8.737       0.122  \n",
       "13            48    0.043745       8.816       0.123  \n",
       "14            48    0.039440       8.689       0.115  \n",
       "15            48    0.497169      26.208       0.120  \n",
       "16            48    0.374306      31.680       0.137  "
      ]
     },
     "execution_count": 16,
     "metadata": {},
     "output_type": "execute_result"
    }
   ],
   "source": [
    "londres[10:17]"
   ]
  },
  {
   "cell_type": "markdown",
   "metadata": {},
   "source": [
    "#### loc vs iloc\n",
    "\n",
    "Para seleccionar partes más específicas (más de una columna, varias columnas y solo unas filas de éstas,...), se usará la indexación con el loc o iloc. La única diferencia entre los dos, es que el primero se basa en el *label* de las filas o columnas, mientras que iloc se basa en el *integer* de estas. Con un ejemplo se entiende mejor:"
   ]
  },
  {
   "cell_type": "code",
   "execution_count": 18,
   "metadata": {},
   "outputs": [
    {
     "data": {
      "text/html": [
       "<div>\n",
       "<style scoped>\n",
       "    .dataframe tbody tr th:only-of-type {\n",
       "        vertical-align: middle;\n",
       "    }\n",
       "\n",
       "    .dataframe tbody tr th {\n",
       "        vertical-align: top;\n",
       "    }\n",
       "\n",
       "    .dataframe thead th {\n",
       "        text-align: right;\n",
       "    }\n",
       "</style>\n",
       "<table border=\"1\" class=\"dataframe\">\n",
       "  <thead>\n",
       "    <tr style=\"text-align: right;\">\n",
       "      <th></th>\n",
       "      <th>day</th>\n",
       "      <th>energy_max</th>\n",
       "    </tr>\n",
       "  </thead>\n",
       "  <tbody>\n",
       "    <tr>\n",
       "      <th>3</th>\n",
       "      <td>2011-12-17</td>\n",
       "      <td>1.068</td>\n",
       "    </tr>\n",
       "    <tr>\n",
       "      <th>4</th>\n",
       "      <td>2011-12-18</td>\n",
       "      <td>2.218</td>\n",
       "    </tr>\n",
       "    <tr>\n",
       "      <th>5</th>\n",
       "      <td>2011-12-19</td>\n",
       "      <td>2.204</td>\n",
       "    </tr>\n",
       "  </tbody>\n",
       "</table>\n",
       "</div>"
      ],
      "text/plain": [
       "          day  energy_max\n",
       "3  2011-12-17       1.068\n",
       "4  2011-12-18       2.218\n",
       "5  2011-12-19       2.204"
      ]
     },
     "execution_count": 18,
     "metadata": {},
     "output_type": "execute_result"
    }
   ],
   "source": [
    "londres.loc[3:5,['day', 'energy_max']]"
   ]
  },
  {
   "cell_type": "code",
   "execution_count": 21,
   "metadata": {},
   "outputs": [
    {
     "data": {
      "text/html": [
       "<div>\n",
       "<style scoped>\n",
       "    .dataframe tbody tr th:only-of-type {\n",
       "        vertical-align: middle;\n",
       "    }\n",
       "\n",
       "    .dataframe tbody tr th {\n",
       "        vertical-align: top;\n",
       "    }\n",
       "\n",
       "    .dataframe thead th {\n",
       "        text-align: right;\n",
       "    }\n",
       "</style>\n",
       "<table border=\"1\" class=\"dataframe\">\n",
       "  <thead>\n",
       "    <tr style=\"text-align: right;\">\n",
       "      <th></th>\n",
       "      <th>day</th>\n",
       "      <th>energy_median</th>\n",
       "    </tr>\n",
       "  </thead>\n",
       "  <tbody>\n",
       "    <tr>\n",
       "      <th>3</th>\n",
       "      <td>2011-12-17</td>\n",
       "      <td>0.2570</td>\n",
       "    </tr>\n",
       "    <tr>\n",
       "      <th>4</th>\n",
       "      <td>2011-12-18</td>\n",
       "      <td>0.3985</td>\n",
       "    </tr>\n",
       "  </tbody>\n",
       "</table>\n",
       "</div>"
      ],
      "text/plain": [
       "          day  energy_median\n",
       "3  2011-12-17         0.2570\n",
       "4  2011-12-18         0.3985"
      ]
     },
     "execution_count": 21,
     "metadata": {},
     "output_type": "execute_result"
    }
   ],
   "source": [
    "londres.iloc[3:5,1:3]"
   ]
  },
  {
   "cell_type": "markdown",
   "metadata": {},
   "source": [
    "Se debe tener en cuenta que el índice no será siempre un número y puede tratar-se de otro parámetro. Por ejemplo, podemos poner el día como índice."
   ]
  },
  {
   "cell_type": "markdown",
   "metadata": {},
   "source": [
    "### 10.4 Filtrar datos\n",
    "\n",
    "Otra manera de seleccionar solo una parte del dataset es aplicar *Boolena indexing*, que no es nada más que aplicar un filtro a los datos. Por ejemplo, vamos a seleccionar solo aquellos días en los que la energia máxima ha sido mayor a 1."
   ]
  },
  {
   "cell_type": "code",
   "execution_count": 26,
   "metadata": {},
   "outputs": [
    {
     "data": {
      "text/plain": [
       "day\n",
       "2011-12-14     True\n",
       "2011-12-15     True\n",
       "2011-12-16     True\n",
       "2011-12-17     True\n",
       "2011-12-18     True\n",
       "              ...  \n",
       "2014-02-24    False\n",
       "2014-02-25    False\n",
       "2014-02-26    False\n",
       "2014-02-27    False\n",
       "2014-02-28    False\n",
       "Name: energy_max, Length: 32992, dtype: bool"
      ]
     },
     "execution_count": 26,
     "metadata": {},
     "output_type": "execute_result"
    }
   ],
   "source": [
    "londres['energy_max'] > 1"
   ]
  },
  {
   "cell_type": "markdown",
   "metadata": {},
   "source": [
    "Como se puede observar ahora tenemos seleccionadas aquellas columnas que cumplen nuestra condición. ¿Y si lo ponemos directamente dentro del dataset cuando seleccionamos solo una part?"
   ]
  },
  {
   "cell_type": "code",
   "execution_count": 30,
   "metadata": {},
   "outputs": [
    {
     "data": {
      "text/html": [
       "<div>\n",
       "<style scoped>\n",
       "    .dataframe tbody tr th:only-of-type {\n",
       "        vertical-align: middle;\n",
       "    }\n",
       "\n",
       "    .dataframe tbody tr th {\n",
       "        vertical-align: top;\n",
       "    }\n",
       "\n",
       "    .dataframe thead th {\n",
       "        text-align: right;\n",
       "    }\n",
       "</style>\n",
       "<table border=\"1\" class=\"dataframe\">\n",
       "  <thead>\n",
       "    <tr style=\"text-align: right;\">\n",
       "      <th></th>\n",
       "      <th>LCLid</th>\n",
       "      <th>energy_median</th>\n",
       "      <th>energy_mean</th>\n",
       "      <th>energy_max</th>\n",
       "      <th>energy_count</th>\n",
       "      <th>energy_std</th>\n",
       "      <th>energy_sum</th>\n",
       "      <th>energy_min</th>\n",
       "    </tr>\n",
       "    <tr>\n",
       "      <th>day</th>\n",
       "      <th></th>\n",
       "      <th></th>\n",
       "      <th></th>\n",
       "      <th></th>\n",
       "      <th></th>\n",
       "      <th></th>\n",
       "      <th></th>\n",
       "      <th></th>\n",
       "    </tr>\n",
       "  </thead>\n",
       "  <tbody>\n",
       "    <tr>\n",
       "      <th>2011-12-14</th>\n",
       "      <td>MAC000113</td>\n",
       "      <td>1.0910</td>\n",
       "      <td>1.065250</td>\n",
       "      <td>1.674</td>\n",
       "      <td>28</td>\n",
       "      <td>0.305397</td>\n",
       "      <td>29.827</td>\n",
       "      <td>0.262</td>\n",
       "    </tr>\n",
       "    <tr>\n",
       "      <th>2011-12-15</th>\n",
       "      <td>MAC000113</td>\n",
       "      <td>0.3710</td>\n",
       "      <td>0.546521</td>\n",
       "      <td>1.434</td>\n",
       "      <td>48</td>\n",
       "      <td>0.410120</td>\n",
       "      <td>26.233</td>\n",
       "      <td>0.119</td>\n",
       "    </tr>\n",
       "    <tr>\n",
       "      <th>2011-12-16</th>\n",
       "      <td>MAC000113</td>\n",
       "      <td>0.3205</td>\n",
       "      <td>0.534708</td>\n",
       "      <td>2.034</td>\n",
       "      <td>48</td>\n",
       "      <td>0.464431</td>\n",
       "      <td>25.666</td>\n",
       "      <td>0.129</td>\n",
       "    </tr>\n",
       "    <tr>\n",
       "      <th>2011-12-17</th>\n",
       "      <td>MAC000113</td>\n",
       "      <td>0.2570</td>\n",
       "      <td>0.421500</td>\n",
       "      <td>1.068</td>\n",
       "      <td>48</td>\n",
       "      <td>0.274387</td>\n",
       "      <td>20.232</td>\n",
       "      <td>0.115</td>\n",
       "    </tr>\n",
       "    <tr>\n",
       "      <th>2011-12-18</th>\n",
       "      <td>MAC000113</td>\n",
       "      <td>0.3985</td>\n",
       "      <td>0.565333</td>\n",
       "      <td>2.218</td>\n",
       "      <td>48</td>\n",
       "      <td>0.450712</td>\n",
       "      <td>27.136</td>\n",
       "      <td>0.134</td>\n",
       "    </tr>\n",
       "    <tr>\n",
       "      <th>...</th>\n",
       "      <td>...</td>\n",
       "      <td>...</td>\n",
       "      <td>...</td>\n",
       "      <td>...</td>\n",
       "      <td>...</td>\n",
       "      <td>...</td>\n",
       "      <td>...</td>\n",
       "      <td>...</td>\n",
       "    </tr>\n",
       "    <tr>\n",
       "      <th>2013-12-16</th>\n",
       "      <td>MAC005416</td>\n",
       "      <td>0.0580</td>\n",
       "      <td>0.162667</td>\n",
       "      <td>1.321</td>\n",
       "      <td>48</td>\n",
       "      <td>0.229688</td>\n",
       "      <td>7.808</td>\n",
       "      <td>0.040</td>\n",
       "    </tr>\n",
       "    <tr>\n",
       "      <th>2014-01-19</th>\n",
       "      <td>MAC005416</td>\n",
       "      <td>0.1470</td>\n",
       "      <td>0.210563</td>\n",
       "      <td>1.246</td>\n",
       "      <td>48</td>\n",
       "      <td>0.213489</td>\n",
       "      <td>10.107</td>\n",
       "      <td>0.048</td>\n",
       "    </tr>\n",
       "    <tr>\n",
       "      <th>2014-01-23</th>\n",
       "      <td>MAC005416</td>\n",
       "      <td>0.1665</td>\n",
       "      <td>0.207833</td>\n",
       "      <td>1.065</td>\n",
       "      <td>48</td>\n",
       "      <td>0.197093</td>\n",
       "      <td>9.976</td>\n",
       "      <td>0.048</td>\n",
       "    </tr>\n",
       "    <tr>\n",
       "      <th>2014-02-13</th>\n",
       "      <td>MAC005416</td>\n",
       "      <td>0.0910</td>\n",
       "      <td>0.134500</td>\n",
       "      <td>1.027</td>\n",
       "      <td>48</td>\n",
       "      <td>0.149564</td>\n",
       "      <td>6.456</td>\n",
       "      <td>0.057</td>\n",
       "    </tr>\n",
       "    <tr>\n",
       "      <th>2014-02-22</th>\n",
       "      <td>MAC005416</td>\n",
       "      <td>0.1070</td>\n",
       "      <td>0.260750</td>\n",
       "      <td>1.544</td>\n",
       "      <td>48</td>\n",
       "      <td>0.325023</td>\n",
       "      <td>12.516</td>\n",
       "      <td>0.046</td>\n",
       "    </tr>\n",
       "  </tbody>\n",
       "</table>\n",
       "<p>12161 rows × 8 columns</p>\n",
       "</div>"
      ],
      "text/plain": [
       "                LCLid  energy_median  energy_mean  energy_max  energy_count  \\\n",
       "day                                                                           \n",
       "2011-12-14  MAC000113         1.0910     1.065250       1.674            28   \n",
       "2011-12-15  MAC000113         0.3710     0.546521       1.434            48   \n",
       "2011-12-16  MAC000113         0.3205     0.534708       2.034            48   \n",
       "2011-12-17  MAC000113         0.2570     0.421500       1.068            48   \n",
       "2011-12-18  MAC000113         0.3985     0.565333       2.218            48   \n",
       "...               ...            ...          ...         ...           ...   \n",
       "2013-12-16  MAC005416         0.0580     0.162667       1.321            48   \n",
       "2014-01-19  MAC005416         0.1470     0.210563       1.246            48   \n",
       "2014-01-23  MAC005416         0.1665     0.207833       1.065            48   \n",
       "2014-02-13  MAC005416         0.0910     0.134500       1.027            48   \n",
       "2014-02-22  MAC005416         0.1070     0.260750       1.544            48   \n",
       "\n",
       "            energy_std  energy_sum  energy_min  \n",
       "day                                             \n",
       "2011-12-14    0.305397      29.827       0.262  \n",
       "2011-12-15    0.410120      26.233       0.119  \n",
       "2011-12-16    0.464431      25.666       0.129  \n",
       "2011-12-17    0.274387      20.232       0.115  \n",
       "2011-12-18    0.450712      27.136       0.134  \n",
       "...                ...         ...         ...  \n",
       "2013-12-16    0.229688       7.808       0.040  \n",
       "2014-01-19    0.213489      10.107       0.048  \n",
       "2014-01-23    0.197093       9.976       0.048  \n",
       "2014-02-13    0.149564       6.456       0.057  \n",
       "2014-02-22    0.325023      12.516       0.046  \n",
       "\n",
       "[12161 rows x 8 columns]"
      ]
     },
     "execution_count": 30,
     "metadata": {},
     "output_type": "execute_result"
    }
   ],
   "source": [
    "londres[londres['energy_max']>1]"
   ]
  },
  {
   "cell_type": "markdown",
   "metadata": {},
   "source": [
    "### Ejercicio\n",
    "\n",
    "Obtener un cuadro resumen de los parámetros para el contador con ID 'MAC000113'"
   ]
  },
  {
   "cell_type": "code",
   "execution_count": 35,
   "metadata": {},
   "outputs": [],
   "source": [
    "# vuestro codigo aquí!\n"
   ]
  },
  {
   "cell_type": "markdown",
   "metadata": {},
   "source": [
    "### 10.5 Funciones básicas interesantes\n",
    "\n",
    "Aquí poeis ver una lista de las funciones más interesantes a mirar en la documentación, con algun ejemplo:\n",
    "\n",
    "| Función   | Descripción | \n",
    "|-----------|-------------|\n",
    "| count()   |Número de observaciones non-null|  \n",
    "| sum()     |Suma de valores|\n",
    "| mean()    |Media de las observaciones            | \n",
    "| median()  |Mediana de las observaciones             |\n",
    "| min()     |Valor mínimo|\n",
    "| max()     |Valor máximo|\n",
    "| std()     |Desviación standard|\n",
    "| var()     | Varianza|\n",
    "| value_counts()     | Valores unicos en cada columna - tabla de frec|\n",
    "| nunique()          | Número de valores distintos|\n",
    "| isnull()     | Máscara de valores null o Nan|\n",
    "\n",
    "Practicad con alguno de estos parámetros"
   ]
  },
  {
   "cell_type": "code",
   "execution_count": 38,
   "metadata": {},
   "outputs": [],
   "source": [
    "# vuestro código aquí!\n",
    "\n",
    "# Valor total de energia para el Id 'MAC000113'\n",
    "\n",
    "# ¿Cuántos contadores distintos hay?\n",
    "\n",
    "# ¿Cómo se llaman?\n",
    "\n",
    "# ¿Cuál fue el valor máximo de energía en dia 15 de Mayo de 2013?"
   ]
  },
  {
   "cell_type": "markdown",
   "metadata": {},
   "source": [
    "### 10.6 Manipular dataframes\n",
    "\n",
    "Se puede aplicar una función a alguna columna usando el método *apply* y recordando las fuciones lambda!"
   ]
  },
  {
   "cell_type": "code",
   "execution_count": 43,
   "metadata": {},
   "outputs": [
    {
     "data": {
      "text/html": [
       "<div>\n",
       "<style scoped>\n",
       "    .dataframe tbody tr th:only-of-type {\n",
       "        vertical-align: middle;\n",
       "    }\n",
       "\n",
       "    .dataframe tbody tr th {\n",
       "        vertical-align: top;\n",
       "    }\n",
       "\n",
       "    .dataframe thead th {\n",
       "        text-align: right;\n",
       "    }\n",
       "</style>\n",
       "<table border=\"1\" class=\"dataframe\">\n",
       "  <thead>\n",
       "    <tr style=\"text-align: right;\">\n",
       "      <th></th>\n",
       "      <th>LCLid</th>\n",
       "      <th>energy_median</th>\n",
       "      <th>energy_mean</th>\n",
       "      <th>energy_max</th>\n",
       "      <th>energy_count</th>\n",
       "      <th>energy_std</th>\n",
       "      <th>energy_sum</th>\n",
       "      <th>energy_min</th>\n",
       "      <th>energy_var</th>\n",
       "    </tr>\n",
       "    <tr>\n",
       "      <th>day</th>\n",
       "      <th></th>\n",
       "      <th></th>\n",
       "      <th></th>\n",
       "      <th></th>\n",
       "      <th></th>\n",
       "      <th></th>\n",
       "      <th></th>\n",
       "      <th></th>\n",
       "      <th></th>\n",
       "    </tr>\n",
       "  </thead>\n",
       "  <tbody>\n",
       "    <tr>\n",
       "      <th>2011-12-14</th>\n",
       "      <td>MAC000113</td>\n",
       "      <td>1.0910</td>\n",
       "      <td>1.065250</td>\n",
       "      <td>1.674</td>\n",
       "      <td>28</td>\n",
       "      <td>0.305397</td>\n",
       "      <td>29.827</td>\n",
       "      <td>0.262</td>\n",
       "      <td>0.093268</td>\n",
       "    </tr>\n",
       "    <tr>\n",
       "      <th>2011-12-15</th>\n",
       "      <td>MAC000113</td>\n",
       "      <td>0.3710</td>\n",
       "      <td>0.546521</td>\n",
       "      <td>1.434</td>\n",
       "      <td>48</td>\n",
       "      <td>0.410120</td>\n",
       "      <td>26.233</td>\n",
       "      <td>0.119</td>\n",
       "      <td>0.168199</td>\n",
       "    </tr>\n",
       "    <tr>\n",
       "      <th>2011-12-16</th>\n",
       "      <td>MAC000113</td>\n",
       "      <td>0.3205</td>\n",
       "      <td>0.534708</td>\n",
       "      <td>2.034</td>\n",
       "      <td>48</td>\n",
       "      <td>0.464431</td>\n",
       "      <td>25.666</td>\n",
       "      <td>0.129</td>\n",
       "      <td>0.215696</td>\n",
       "    </tr>\n",
       "    <tr>\n",
       "      <th>2011-12-17</th>\n",
       "      <td>MAC000113</td>\n",
       "      <td>0.2570</td>\n",
       "      <td>0.421500</td>\n",
       "      <td>1.068</td>\n",
       "      <td>48</td>\n",
       "      <td>0.274387</td>\n",
       "      <td>20.232</td>\n",
       "      <td>0.115</td>\n",
       "      <td>0.075288</td>\n",
       "    </tr>\n",
       "    <tr>\n",
       "      <th>2011-12-18</th>\n",
       "      <td>MAC000113</td>\n",
       "      <td>0.3985</td>\n",
       "      <td>0.565333</td>\n",
       "      <td>2.218</td>\n",
       "      <td>48</td>\n",
       "      <td>0.450712</td>\n",
       "      <td>27.136</td>\n",
       "      <td>0.134</td>\n",
       "      <td>0.203141</td>\n",
       "    </tr>\n",
       "  </tbody>\n",
       "</table>\n",
       "</div>"
      ],
      "text/plain": [
       "                LCLid  energy_median  energy_mean  energy_max  energy_count  \\\n",
       "day                                                                           \n",
       "2011-12-14  MAC000113         1.0910     1.065250       1.674            28   \n",
       "2011-12-15  MAC000113         0.3710     0.546521       1.434            48   \n",
       "2011-12-16  MAC000113         0.3205     0.534708       2.034            48   \n",
       "2011-12-17  MAC000113         0.2570     0.421500       1.068            48   \n",
       "2011-12-18  MAC000113         0.3985     0.565333       2.218            48   \n",
       "\n",
       "            energy_std  energy_sum  energy_min  energy_var  \n",
       "day                                                         \n",
       "2011-12-14    0.305397      29.827       0.262    0.093268  \n",
       "2011-12-15    0.410120      26.233       0.119    0.168199  \n",
       "2011-12-16    0.464431      25.666       0.129    0.215696  \n",
       "2011-12-17    0.274387      20.232       0.115    0.075288  \n",
       "2011-12-18    0.450712      27.136       0.134    0.203141  "
      ]
     },
     "execution_count": 43,
     "metadata": {},
     "output_type": "execute_result"
    }
   ],
   "source": [
    "londres['energy_var'] = londres['energy_std'].apply(lambda x: x**2)\n",
    "londres.head()"
   ]
  },
  {
   "cell_type": "markdown",
   "metadata": {},
   "source": [
    "#### Ejercicio\n",
    "\n",
    "Crea una columna nueva llamada 'ID' con solo las últimas 6 cifras de 'LCLid'"
   ]
  },
  {
   "cell_type": "code",
   "execution_count": 45,
   "metadata": {},
   "outputs": [],
   "source": [
    "# vuestro código aquí!"
   ]
  },
  {
   "cell_type": "markdown",
   "metadata": {},
   "source": [
    "### 10.7 Ordenar\n",
    "\n",
    "Si se desea ordenar valores, se puede usar ``sort_values``. Con un ejemplo se entenderá mejor:\n"
   ]
  },
  {
   "cell_type": "code",
   "execution_count": 46,
   "metadata": {},
   "outputs": [
    {
     "data": {
      "text/html": [
       "<div>\n",
       "<style scoped>\n",
       "    .dataframe tbody tr th:only-of-type {\n",
       "        vertical-align: middle;\n",
       "    }\n",
       "\n",
       "    .dataframe tbody tr th {\n",
       "        vertical-align: top;\n",
       "    }\n",
       "\n",
       "    .dataframe thead th {\n",
       "        text-align: right;\n",
       "    }\n",
       "</style>\n",
       "<table border=\"1\" class=\"dataframe\">\n",
       "  <thead>\n",
       "    <tr style=\"text-align: right;\">\n",
       "      <th></th>\n",
       "      <th>LCLid</th>\n",
       "      <th>energy_median</th>\n",
       "      <th>energy_mean</th>\n",
       "      <th>energy_max</th>\n",
       "      <th>energy_count</th>\n",
       "      <th>energy_std</th>\n",
       "      <th>energy_sum</th>\n",
       "      <th>energy_min</th>\n",
       "      <th>energy_var</th>\n",
       "    </tr>\n",
       "    <tr>\n",
       "      <th>day</th>\n",
       "      <th></th>\n",
       "      <th></th>\n",
       "      <th></th>\n",
       "      <th></th>\n",
       "      <th></th>\n",
       "      <th></th>\n",
       "      <th></th>\n",
       "      <th></th>\n",
       "      <th></th>\n",
       "    </tr>\n",
       "  </thead>\n",
       "  <tbody>\n",
       "    <tr>\n",
       "      <th>2013-03-09</th>\n",
       "      <td>MAC002510</td>\n",
       "      <td>0.7800</td>\n",
       "      <td>0.752292</td>\n",
       "      <td>6.897</td>\n",
       "      <td>48</td>\n",
       "      <td>1.067885</td>\n",
       "      <td>36.110</td>\n",
       "      <td>0.020</td>\n",
       "      <td>1.140378</td>\n",
       "    </tr>\n",
       "    <tr>\n",
       "      <th>2012-11-24</th>\n",
       "      <td>MAC002510</td>\n",
       "      <td>0.1570</td>\n",
       "      <td>0.465229</td>\n",
       "      <td>6.816</td>\n",
       "      <td>48</td>\n",
       "      <td>1.047584</td>\n",
       "      <td>22.331</td>\n",
       "      <td>0.020</td>\n",
       "      <td>1.097433</td>\n",
       "    </tr>\n",
       "    <tr>\n",
       "      <th>2013-03-24</th>\n",
       "      <td>MAC002510</td>\n",
       "      <td>0.9325</td>\n",
       "      <td>0.933542</td>\n",
       "      <td>6.428</td>\n",
       "      <td>48</td>\n",
       "      <td>1.104101</td>\n",
       "      <td>44.810</td>\n",
       "      <td>0.023</td>\n",
       "      <td>1.219039</td>\n",
       "    </tr>\n",
       "    <tr>\n",
       "      <th>2012-11-29</th>\n",
       "      <td>MAC002510</td>\n",
       "      <td>0.0215</td>\n",
       "      <td>0.371896</td>\n",
       "      <td>6.357</td>\n",
       "      <td>48</td>\n",
       "      <td>0.994860</td>\n",
       "      <td>17.851</td>\n",
       "      <td>0.019</td>\n",
       "      <td>0.989746</td>\n",
       "    </tr>\n",
       "    <tr>\n",
       "      <th>2013-07-15</th>\n",
       "      <td>MAC002510</td>\n",
       "      <td>0.0505</td>\n",
       "      <td>0.262250</td>\n",
       "      <td>6.297</td>\n",
       "      <td>48</td>\n",
       "      <td>0.918086</td>\n",
       "      <td>12.588</td>\n",
       "      <td>0.020</td>\n",
       "      <td>0.842882</td>\n",
       "    </tr>\n",
       "  </tbody>\n",
       "</table>\n",
       "</div>"
      ],
      "text/plain": [
       "                LCLid  energy_median  energy_mean  energy_max  energy_count  \\\n",
       "day                                                                           \n",
       "2013-03-09  MAC002510         0.7800     0.752292       6.897            48   \n",
       "2012-11-24  MAC002510         0.1570     0.465229       6.816            48   \n",
       "2013-03-24  MAC002510         0.9325     0.933542       6.428            48   \n",
       "2012-11-29  MAC002510         0.0215     0.371896       6.357            48   \n",
       "2013-07-15  MAC002510         0.0505     0.262250       6.297            48   \n",
       "\n",
       "            energy_std  energy_sum  energy_min  energy_var  \n",
       "day                                                         \n",
       "2013-03-09    1.067885      36.110       0.020    1.140378  \n",
       "2012-11-24    1.047584      22.331       0.020    1.097433  \n",
       "2013-03-24    1.104101      44.810       0.023    1.219039  \n",
       "2012-11-29    0.994860      17.851       0.019    0.989746  \n",
       "2013-07-15    0.918086      12.588       0.020    0.842882  "
      ]
     },
     "execution_count": 46,
     "metadata": {},
     "output_type": "execute_result"
    }
   ],
   "source": [
    "londres.sort_values(by='energy_max', ascending= False, inplace=True)\n",
    "londres.head()"
   ]
  },
  {
   "cell_type": "markdown",
   "metadata": {},
   "source": [
    "### 10.8 Agrupar\n",
    "\n",
    "Por último, una función muy útil es la de agrupar (group_by).\n",
    "\n",
    "Por ejemplo, imagina que quieres agrupar todos los datos por número de contador y sacar algun parámetro de este contador (máximo, mínimo, etc.).\n",
    "\n",
    "El resultado de esta operación, será otro dataframe con los datos agrupados respeto a una variable. Además también se deberá indicar qué función de *agregación* se desea usar (max, min, mean, count, sum, etc.).\n",
    "\n",
    "Vamos a implementar el ejemplo comentado!"
   ]
  },
  {
   "cell_type": "code",
   "execution_count": 50,
   "metadata": {},
   "outputs": [
    {
     "data": {
      "text/html": [
       "<div>\n",
       "<style scoped>\n",
       "    .dataframe tbody tr th:only-of-type {\n",
       "        vertical-align: middle;\n",
       "    }\n",
       "\n",
       "    .dataframe tbody tr th {\n",
       "        vertical-align: top;\n",
       "    }\n",
       "\n",
       "    .dataframe thead th {\n",
       "        text-align: right;\n",
       "    }\n",
       "</style>\n",
       "<table border=\"1\" class=\"dataframe\">\n",
       "  <thead>\n",
       "    <tr style=\"text-align: right;\">\n",
       "      <th></th>\n",
       "      <th>energy_max</th>\n",
       "      <th>energy_min</th>\n",
       "      <th>energy_sum</th>\n",
       "    </tr>\n",
       "    <tr>\n",
       "      <th>LCLid</th>\n",
       "      <th></th>\n",
       "      <th></th>\n",
       "      <th></th>\n",
       "    </tr>\n",
       "  </thead>\n",
       "  <tbody>\n",
       "    <tr>\n",
       "      <th>MAC000113</th>\n",
       "      <td>1.460573</td>\n",
       "      <td>0.157256</td>\n",
       "      <td>24.656976</td>\n",
       "    </tr>\n",
       "    <tr>\n",
       "      <th>MAC000301</th>\n",
       "      <td>1.085894</td>\n",
       "      <td>0.027124</td>\n",
       "      <td>9.521648</td>\n",
       "    </tr>\n",
       "    <tr>\n",
       "      <th>MAC000309</th>\n",
       "      <td>1.997796</td>\n",
       "      <td>0.077452</td>\n",
       "      <td>19.015297</td>\n",
       "    </tr>\n",
       "    <tr>\n",
       "      <th>MAC002509</th>\n",
       "      <td>0.628286</td>\n",
       "      <td>0.051095</td>\n",
       "      <td>7.462581</td>\n",
       "    </tr>\n",
       "    <tr>\n",
       "      <th>MAC002510</th>\n",
       "      <td>2.144932</td>\n",
       "      <td>0.027697</td>\n",
       "      <td>12.070756</td>\n",
       "    </tr>\n",
       "    <tr>\n",
       "      <th>MAC002512</th>\n",
       "      <td>1.556296</td>\n",
       "      <td>0.121689</td>\n",
       "      <td>18.047101</td>\n",
       "    </tr>\n",
       "    <tr>\n",
       "      <th>MAC002513</th>\n",
       "      <td>0.806083</td>\n",
       "      <td>0.016887</td>\n",
       "      <td>4.796607</td>\n",
       "    </tr>\n",
       "    <tr>\n",
       "      <th>MAC002514</th>\n",
       "      <td>0.806902</td>\n",
       "      <td>0.033100</td>\n",
       "      <td>7.510262</td>\n",
       "    </tr>\n",
       "    <tr>\n",
       "      <th>MAC002517</th>\n",
       "      <td>1.050635</td>\n",
       "      <td>0.044790</td>\n",
       "      <td>11.447748</td>\n",
       "    </tr>\n",
       "    <tr>\n",
       "      <th>MAC002518</th>\n",
       "      <td>0.364883</td>\n",
       "      <td>0.032975</td>\n",
       "      <td>6.818670</td>\n",
       "    </tr>\n",
       "    <tr>\n",
       "      <th>MAC002519</th>\n",
       "      <td>1.588482</td>\n",
       "      <td>0.000963</td>\n",
       "      <td>9.773552</td>\n",
       "    </tr>\n",
       "    <tr>\n",
       "      <th>MAC002522</th>\n",
       "      <td>0.436370</td>\n",
       "      <td>0.015723</td>\n",
       "      <td>3.538223</td>\n",
       "    </tr>\n",
       "    <tr>\n",
       "      <th>MAC002525</th>\n",
       "      <td>0.587890</td>\n",
       "      <td>0.019342</td>\n",
       "      <td>6.972477</td>\n",
       "    </tr>\n",
       "    <tr>\n",
       "      <th>MAC002530</th>\n",
       "      <td>0.346048</td>\n",
       "      <td>0.012953</td>\n",
       "      <td>2.265823</td>\n",
       "    </tr>\n",
       "    <tr>\n",
       "      <th>MAC002539</th>\n",
       "      <td>0.501443</td>\n",
       "      <td>0.019163</td>\n",
       "      <td>4.140757</td>\n",
       "    </tr>\n",
       "    <tr>\n",
       "      <th>MAC002557</th>\n",
       "      <td>1.899431</td>\n",
       "      <td>0.052448</td>\n",
       "      <td>17.316634</td>\n",
       "    </tr>\n",
       "    <tr>\n",
       "      <th>MAC002558</th>\n",
       "      <td>1.397640</td>\n",
       "      <td>0.074950</td>\n",
       "      <td>18.288385</td>\n",
       "    </tr>\n",
       "    <tr>\n",
       "      <th>MAC002605</th>\n",
       "      <td>1.446267</td>\n",
       "      <td>0.089793</td>\n",
       "      <td>18.961491</td>\n",
       "    </tr>\n",
       "    <tr>\n",
       "      <th>MAC002662</th>\n",
       "      <td>0.690017</td>\n",
       "      <td>0.041542</td>\n",
       "      <td>7.695944</td>\n",
       "    </tr>\n",
       "    <tr>\n",
       "      <th>MAC002663</th>\n",
       "      <td>0.971458</td>\n",
       "      <td>0.131946</td>\n",
       "      <td>12.543782</td>\n",
       "    </tr>\n",
       "    <tr>\n",
       "      <th>MAC002666</th>\n",
       "      <td>0.774343</td>\n",
       "      <td>0.297817</td>\n",
       "      <td>19.901081</td>\n",
       "    </tr>\n",
       "    <tr>\n",
       "      <th>MAC002676</th>\n",
       "      <td>0.520772</td>\n",
       "      <td>0.026584</td>\n",
       "      <td>4.691760</td>\n",
       "    </tr>\n",
       "    <tr>\n",
       "      <th>MAC002702</th>\n",
       "      <td>0.827445</td>\n",
       "      <td>0.097226</td>\n",
       "      <td>14.933050</td>\n",
       "    </tr>\n",
       "    <tr>\n",
       "      <th>MAC002750</th>\n",
       "      <td>0.428297</td>\n",
       "      <td>0.011065</td>\n",
       "      <td>2.618379</td>\n",
       "    </tr>\n",
       "    <tr>\n",
       "      <th>MAC002754</th>\n",
       "      <td>0.996767</td>\n",
       "      <td>0.099409</td>\n",
       "      <td>16.350230</td>\n",
       "    </tr>\n",
       "    <tr>\n",
       "      <th>MAC002756</th>\n",
       "      <td>0.596933</td>\n",
       "      <td>0.035185</td>\n",
       "      <td>5.403261</td>\n",
       "    </tr>\n",
       "    <tr>\n",
       "      <th>MAC002757</th>\n",
       "      <td>1.588205</td>\n",
       "      <td>0.133736</td>\n",
       "      <td>20.682476</td>\n",
       "    </tr>\n",
       "    <tr>\n",
       "      <th>MAC002761</th>\n",
       "      <td>0.075495</td>\n",
       "      <td>0.010529</td>\n",
       "      <td>1.315838</td>\n",
       "    </tr>\n",
       "    <tr>\n",
       "      <th>MAC002764</th>\n",
       "      <td>0.968770</td>\n",
       "      <td>0.026533</td>\n",
       "      <td>5.384741</td>\n",
       "    </tr>\n",
       "    <tr>\n",
       "      <th>MAC002767</th>\n",
       "      <td>0.433853</td>\n",
       "      <td>0.017302</td>\n",
       "      <td>4.023435</td>\n",
       "    </tr>\n",
       "    <tr>\n",
       "      <th>MAC005269</th>\n",
       "      <td>0.861452</td>\n",
       "      <td>0.132849</td>\n",
       "      <td>14.282239</td>\n",
       "    </tr>\n",
       "    <tr>\n",
       "      <th>MAC005270</th>\n",
       "      <td>1.064200</td>\n",
       "      <td>0.088105</td>\n",
       "      <td>12.479217</td>\n",
       "    </tr>\n",
       "    <tr>\n",
       "      <th>MAC005274</th>\n",
       "      <td>0.879979</td>\n",
       "      <td>0.057647</td>\n",
       "      <td>10.069941</td>\n",
       "    </tr>\n",
       "    <tr>\n",
       "      <th>MAC005313</th>\n",
       "      <td>0.179228</td>\n",
       "      <td>0.000048</td>\n",
       "      <td>0.641708</td>\n",
       "    </tr>\n",
       "    <tr>\n",
       "      <th>MAC005317</th>\n",
       "      <td>0.488887</td>\n",
       "      <td>0.015980</td>\n",
       "      <td>4.138487</td>\n",
       "    </tr>\n",
       "    <tr>\n",
       "      <th>MAC005319</th>\n",
       "      <td>0.233613</td>\n",
       "      <td>0.039129</td>\n",
       "      <td>3.725454</td>\n",
       "    </tr>\n",
       "    <tr>\n",
       "      <th>MAC005322</th>\n",
       "      <td>1.293955</td>\n",
       "      <td>0.167729</td>\n",
       "      <td>20.750712</td>\n",
       "    </tr>\n",
       "    <tr>\n",
       "      <th>MAC005331</th>\n",
       "      <td>0.693208</td>\n",
       "      <td>0.063788</td>\n",
       "      <td>9.420459</td>\n",
       "    </tr>\n",
       "    <tr>\n",
       "      <th>MAC005367</th>\n",
       "      <td>0.856483</td>\n",
       "      <td>0.041828</td>\n",
       "      <td>9.006939</td>\n",
       "    </tr>\n",
       "    <tr>\n",
       "      <th>MAC005392</th>\n",
       "      <td>0.544100</td>\n",
       "      <td>0.062461</td>\n",
       "      <td>9.603723</td>\n",
       "    </tr>\n",
       "    <tr>\n",
       "      <th>MAC005400</th>\n",
       "      <td>0.591874</td>\n",
       "      <td>0.013898</td>\n",
       "      <td>5.452640</td>\n",
       "    </tr>\n",
       "    <tr>\n",
       "      <th>MAC005403</th>\n",
       "      <td>0.990794</td>\n",
       "      <td>0.011112</td>\n",
       "      <td>8.628782</td>\n",
       "    </tr>\n",
       "    <tr>\n",
       "      <th>MAC005404</th>\n",
       "      <td>1.273344</td>\n",
       "      <td>0.119261</td>\n",
       "      <td>19.338910</td>\n",
       "    </tr>\n",
       "    <tr>\n",
       "      <th>MAC005405</th>\n",
       "      <td>0.228274</td>\n",
       "      <td>0.011490</td>\n",
       "      <td>2.099607</td>\n",
       "    </tr>\n",
       "    <tr>\n",
       "      <th>MAC005407</th>\n",
       "      <td>1.248414</td>\n",
       "      <td>0.126545</td>\n",
       "      <td>19.557321</td>\n",
       "    </tr>\n",
       "    <tr>\n",
       "      <th>MAC005408</th>\n",
       "      <td>0.523577</td>\n",
       "      <td>0.042105</td>\n",
       "      <td>6.967649</td>\n",
       "    </tr>\n",
       "    <tr>\n",
       "      <th>MAC005411</th>\n",
       "      <td>1.159346</td>\n",
       "      <td>0.129117</td>\n",
       "      <td>20.949463</td>\n",
       "    </tr>\n",
       "    <tr>\n",
       "      <th>MAC005412</th>\n",
       "      <td>1.571090</td>\n",
       "      <td>0.178240</td>\n",
       "      <td>25.048747</td>\n",
       "    </tr>\n",
       "    <tr>\n",
       "      <th>MAC005415</th>\n",
       "      <td>0.203070</td>\n",
       "      <td>0.017933</td>\n",
       "      <td>3.307807</td>\n",
       "    </tr>\n",
       "    <tr>\n",
       "      <th>MAC005416</th>\n",
       "      <td>0.539568</td>\n",
       "      <td>0.046380</td>\n",
       "      <td>6.210063</td>\n",
       "    </tr>\n",
       "  </tbody>\n",
       "</table>\n",
       "</div>"
      ],
      "text/plain": [
       "           energy_max  energy_min  energy_sum\n",
       "LCLid                                        \n",
       "MAC000113    1.460573    0.157256   24.656976\n",
       "MAC000301    1.085894    0.027124    9.521648\n",
       "MAC000309    1.997796    0.077452   19.015297\n",
       "MAC002509    0.628286    0.051095    7.462581\n",
       "MAC002510    2.144932    0.027697   12.070756\n",
       "MAC002512    1.556296    0.121689   18.047101\n",
       "MAC002513    0.806083    0.016887    4.796607\n",
       "MAC002514    0.806902    0.033100    7.510262\n",
       "MAC002517    1.050635    0.044790   11.447748\n",
       "MAC002518    0.364883    0.032975    6.818670\n",
       "MAC002519    1.588482    0.000963    9.773552\n",
       "MAC002522    0.436370    0.015723    3.538223\n",
       "MAC002525    0.587890    0.019342    6.972477\n",
       "MAC002530    0.346048    0.012953    2.265823\n",
       "MAC002539    0.501443    0.019163    4.140757\n",
       "MAC002557    1.899431    0.052448   17.316634\n",
       "MAC002558    1.397640    0.074950   18.288385\n",
       "MAC002605    1.446267    0.089793   18.961491\n",
       "MAC002662    0.690017    0.041542    7.695944\n",
       "MAC002663    0.971458    0.131946   12.543782\n",
       "MAC002666    0.774343    0.297817   19.901081\n",
       "MAC002676    0.520772    0.026584    4.691760\n",
       "MAC002702    0.827445    0.097226   14.933050\n",
       "MAC002750    0.428297    0.011065    2.618379\n",
       "MAC002754    0.996767    0.099409   16.350230\n",
       "MAC002756    0.596933    0.035185    5.403261\n",
       "MAC002757    1.588205    0.133736   20.682476\n",
       "MAC002761    0.075495    0.010529    1.315838\n",
       "MAC002764    0.968770    0.026533    5.384741\n",
       "MAC002767    0.433853    0.017302    4.023435\n",
       "MAC005269    0.861452    0.132849   14.282239\n",
       "MAC005270    1.064200    0.088105   12.479217\n",
       "MAC005274    0.879979    0.057647   10.069941\n",
       "MAC005313    0.179228    0.000048    0.641708\n",
       "MAC005317    0.488887    0.015980    4.138487\n",
       "MAC005319    0.233613    0.039129    3.725454\n",
       "MAC005322    1.293955    0.167729   20.750712\n",
       "MAC005331    0.693208    0.063788    9.420459\n",
       "MAC005367    0.856483    0.041828    9.006939\n",
       "MAC005392    0.544100    0.062461    9.603723\n",
       "MAC005400    0.591874    0.013898    5.452640\n",
       "MAC005403    0.990794    0.011112    8.628782\n",
       "MAC005404    1.273344    0.119261   19.338910\n",
       "MAC005405    0.228274    0.011490    2.099607\n",
       "MAC005407    1.248414    0.126545   19.557321\n",
       "MAC005408    0.523577    0.042105    6.967649\n",
       "MAC005411    1.159346    0.129117   20.949463\n",
       "MAC005412    1.571090    0.178240   25.048747\n",
       "MAC005415    0.203070    0.017933    3.307807\n",
       "MAC005416    0.539568    0.046380    6.210063"
      ]
     },
     "execution_count": 50,
     "metadata": {},
     "output_type": "execute_result"
    }
   ],
   "source": [
    "contadores = londres[['LCLid','energy_max', 'energy_min', 'energy_sum']].groupby('LCLid').mean()\n",
    "contadores"
   ]
  },
  {
   "cell_type": "markdown",
   "metadata": {},
   "source": [
    "### 10.9 Otros\n",
    "\n",
    "Hay muchas más funciones que se pueden usar con Pandas. Os animamos a mirar en su documentación, foros, cheat sheets, cursos,...\n",
    "\n",
    "https://pandas.pydata.org/pandas-docs/stable/index.html"
   ]
  },
  {
   "cell_type": "markdown",
   "metadata": {},
   "source": [
    "## 11. Creación de gáficos"
   ]
  },
  {
   "cell_type": "markdown",
   "metadata": {},
   "source": [
    "# COSES QUE NO SE ON POSAR DE MOMENT"
   ]
  },
  {
   "cell_type": "markdown",
   "metadata": {},
   "source": [
    "## Data Collections\n",
    "\n",
    "We need to represent data collections: words in a text, students in a course, experimental data, etc., or to store intermediate results. The most simple data collection is the <code>list</code> (an ordered sequence of objects):"
   ]
  },
  {
   "cell_type": "markdown",
   "metadata": {},
   "source": [
    "## A program in Python\n",
    "\n",
    "General Rules:\n",
    "\n",
    "+ All text from a <code>#</code> simbol to the end of a line are considered as comments.\n",
    "+ Code must be **indented** and sometimes delineated by colons. The Python standard for indentation is four spaces. Never use tabs: it can produce hard to find errors. Set you editor to convert tabs to spaces.\n",
    "+ Typically, a statement must be on a line. You can use a backslash <code>\\</code> at the end of a line to continue a statement on to the next line.\n"
   ]
  },
  {
   "cell_type": "code",
   "execution_count": null,
   "metadata": {
    "scrolled": true
   },
   "outputs": [],
   "source": [
    "# This program computes the factorial of 100.\n",
    "\n",
    "fact = 1\n",
    "n= 100\n",
    "for factor in range(n,0,-1):\n",
    "    fact = fact * factor \n",
    "print(fact)    "
   ]
  },
  {
   "cell_type": "code",
   "execution_count": null,
   "metadata": {
    "scrolled": true
   },
   "outputs": [],
   "source": [
    "list(range(10,0,-1))"
   ]
  },
  {
   "cell_type": "markdown",
   "metadata": {},
   "source": [
    "<div class=\"alert alert-error\"> When we write a colon at the end of an iteration, all lines indented at the next level are considered *part* of the iteration. \n",
    "\n",
    "When we write a line at the same indentation as the iteration, we are closing the iteration.</div>"
   ]
  },
  {
   "cell_type": "markdown",
   "metadata": {},
   "source": [
    "## References\n",
    "\n",
    "We can inspect the reference of an object:"
   ]
  },
  {
   "cell_type": "code",
   "execution_count": null,
   "metadata": {
    "scrolled": true
   },
   "outputs": [],
   "source": [
    "a ='hello'\n",
    "print(id(a))"
   ]
  },
  {
   "cell_type": "markdown",
   "metadata": {},
   "source": [
    "Two different objects:"
   ]
  },
  {
   "cell_type": "code",
   "execution_count": null,
   "metadata": {
    "scrolled": true
   },
   "outputs": [],
   "source": [
    "a = [1,2,3]\n",
    "b = [1,2,3]\n",
    "print(id(a), id(b))\n",
    "print (a is b)\n",
    "print (a == b)"
   ]
  },
  {
   "cell_type": "markdown",
   "metadata": {},
   "source": [
    "Object alias:"
   ]
  },
  {
   "cell_type": "code",
   "execution_count": null,
   "metadata": {
    "scrolled": true
   },
   "outputs": [],
   "source": [
    "a = [1,2,3]\n",
    "b = a                     # alias\n",
    "print(id(a), id(b))"
   ]
  },
  {
   "cell_type": "markdown",
   "metadata": {},
   "source": [
    "Cloning:"
   ]
  },
  {
   "cell_type": "code",
   "execution_count": null,
   "metadata": {
    "scrolled": true
   },
   "outputs": [],
   "source": [
    "a = [1,2,3]\n",
    "b = a[:]                  # cloning with :\n",
    "\n",
    "print(a, b, b[1:], id(a), id(b), id(b[1:]))"
   ]
  },
  {
   "cell_type": "markdown",
   "metadata": {},
   "source": [
    "When a list is an argument of a function, we are sending the *reference*, not a *copy*"
   ]
  },
  {
   "cell_type": "markdown",
   "metadata": {},
   "source": [
    "### Generators"
   ]
  },
  {
   "cell_type": "markdown",
   "metadata": {},
   "source": [
    "There is a downside to list comprehensions: the entire list has to be stored in memory at once. This isn’t a problem for small lists like the ones in the above examples, or even of lists several orders of magnitude larger. But we can use **<font color=\"red\">generators</font>** to solve this problem.\n",
    "\n",
    "Generator expressions do not load the whole list into memory at once, but instead create a *generator object* so only one list element has to be loaded at any time.\n",
    "\n",
    "Generator expressions have the same syntax as list comprehensions, but with parentheses around the outside instead of brackets:"
   ]
  },
  {
   "cell_type": "code",
   "execution_count": null,
   "metadata": {
    "scrolled": true
   },
   "outputs": [],
   "source": [
    "num = [1, 4, -5, 10, -7, 2, 3, -1]\n",
    "\n",
    "squared = ( x**2 for x in num if x > 0 )\n",
    "print(type(squared), squared)"
   ]
  },
  {
   "cell_type": "code",
   "execution_count": null,
   "metadata": {
    "scrolled": true
   },
   "outputs": [],
   "source": [
    "#The elements of the generator must be accessed by an iterator because they are generated when needed:\n",
    "\n",
    "lis = []\n",
    "for item in squared:\n",
    "    lis = lis + [item]\n",
    "print(lis)"
   ]
  },
  {
   "cell_type": "markdown",
   "metadata": {},
   "source": [
    "We can define our own generators with the ``yield`` statesment. For example, let's build a generator for the binary representation of a number between 0 and 1 with arbitrary precision."
   ]
  },
  {
   "cell_type": "code",
   "execution_count": null,
   "metadata": {
    "scrolled": true
   },
   "outputs": [],
   "source": [
    "# binary representation of a number between 0 and 1 (b bits precision).\n",
    "\n",
    "def res(n,b):\n",
    "    bin_a = '.'\n",
    "    for i in range(b):\n",
    "        n *= 2\n",
    "        bin_a +=  str(int(n))\n",
    "        n = n % 1\n",
    "    return bin_a\n",
    "\n",
    "print(res(1/3.0,10))"
   ]
  },
  {
   "cell_type": "code",
   "execution_count": null,
   "metadata": {
    "scrolled": true
   },
   "outputs": [],
   "source": [
    "# binary representation of a number between 0 and 1 (precision as needed).\n",
    "\n",
    "def binRep(n):\n",
    "    while True:\n",
    "        n *= 2\n",
    "        yield int(n)\n",
    "        n = n % 1\n",
    "\n",
    "\n",
    "a = binRep(1/3.) \n",
    "a_bin = '.'\n",
    "for i in range(100):\n",
    "    a_bin +=  str(next(a))\n",
    "    \n",
    "print(a_bin)"
   ]
  },
  {
   "cell_type": "markdown",
   "metadata": {},
   "source": [
    "A more ellegant way of reading a CSV file:\n",
    "+  Wrap the CSV reader in a function that returns a generator\n",
    "+  Use context managers ``with [callable] as [name]`` to ensure that the handle to the file is closed automatically.\n",
    "+  Use the ``csv.DictReader`` class when headers are present (otherwise just use ``csv.reader``)"
   ]
  },
  {
   "cell_type": "code",
   "execution_count": null,
   "metadata": {
    "scrolled": true
   },
   "outputs": [],
   "source": [
    "import csv\n",
    "\n",
    "ADV = 'files/Advertising.csv'\n",
    "\n",
    "def read_data(path):\n",
    "    with open(path, 'r') as data:\n",
    "        reader = csv.DictReader(data)\n",
    "        for row in reader:\n",
    "            yield row\n",
    "\n",
    "for idx, row in enumerate(read_data(ADV)):\n",
    "    if idx < 15: print(row)\n",
    "    else: break"
   ]
  },
  {
   "cell_type": "markdown",
   "metadata": {},
   "source": [
    "The file is not opened, read, or parsed until you need it. This is powerful because it means that even for much larger data sets you will have efficient, portable code. "
   ]
  },
  {
   "cell_type": "code",
   "execution_count": null,
   "metadata": {
    "scrolled": false
   },
   "outputs": [],
   "source": [
    "data = read_data(ADV)\n",
    "print(data)\n",
    "for item in data:\n",
    "    print(item)"
   ]
  },
  {
   "cell_type": "markdown",
   "metadata": {},
   "source": [
    "## 12. Extras\n",
    "### 12.1 Functions and objects -> Decorators\n",
    "\n",
    "In Python, functions are first-class objects. This means that functions can be passed around and used as arguments, just like any other object (string, int, float, list, and so on). Python also allows you to use functions as return values. You can do functions that accept functions as parameters. So decorators are a wrapper for a function, modifying its behavior:\n"
   ]
  },
  {
   "cell_type": "code",
   "execution_count": null,
   "metadata": {
    "scrolled": true
   },
   "outputs": [],
   "source": [
    "def my_decorator(func):\n",
    "    def wrapper():\n",
    "        print(\"Something is happening before the function is called.\")\n",
    "        func()\n",
    "        print(\"Something is happening after the function is called.\")\n",
    "    return wrapper\n",
    "\n",
    "def say_whee():\n",
    "    print(\"Whee!\")\n",
    "\n",
    "say_whee = my_decorator(say_whee) #Overwrite say_whee using the decorator wraper\n",
    "\n",
    "say_whee()"
   ]
  },
  {
   "cell_type": "markdown",
   "metadata": {},
   "source": [
    "You can use @ sintax to define a function that will use a decorator:"
   ]
  },
  {
   "cell_type": "code",
   "execution_count": null,
   "metadata": {
    "scrolled": true
   },
   "outputs": [],
   "source": [
    "def my_decorator(func):\n",
    "    def wrapper():\n",
    "        print(\"Something is happening before the function is called.\")\n",
    "        func()\n",
    "        print(\"Something is happening after the function is called.\")\n",
    "    return wrapper\n",
    "\n",
    "@my_decorator ##  say_wee= my_decorator(say_whee)\n",
    "def say_whee():\n",
    "    print(\"Whee!\")\n",
    "    \n",
    "say_whee()"
   ]
  },
  {
   "cell_type": "markdown",
   "metadata": {},
   "source": [
    "* Can I decorate with my_decorator functions that have parameters ?"
   ]
  },
  {
   "cell_type": "code",
   "execution_count": null,
   "metadata": {
    "scrolled": true
   },
   "outputs": [],
   "source": [
    "@my_decorator\n",
    "def greet(name):\n",
    "    print(f\"Hello {name}\")\n",
    "greet(\"Eloi\")"
   ]
  },
  {
   "cell_type": "code",
   "execution_count": null,
   "metadata": {
    "scrolled": true
   },
   "outputs": [],
   "source": [
    "def my_decorator(func):\n",
    "    def wrapper(*args, **kwargs):\n",
    "        print(\"Something is happening before the function is called.\")\n",
    "        func(*args, **kwargs)\n",
    "        print(\"Something is happening after the function is called.\")\n",
    "    return wrapper\n",
    "\n",
    "@my_decorator\n",
    "def greet(name):\n",
    "    print(f\"Hello {name}\")\n",
    "greet(\"Eloi\")"
   ]
  },
  {
   "cell_type": "markdown",
   "metadata": {},
   "source": [
    "A list can be passed as a set of parameters to a function using *\n",
    "A Dictionary can be passed as a set of optional parameters to a function using **"
   ]
  },
  {
   "cell_type": "code",
   "execution_count": null,
   "metadata": {
    "scrolled": true
   },
   "outputs": [],
   "source": [
    "args= [1,2,3]\n",
    "kargs = {'d':4}\n",
    "\n",
    "def f(a,b,c,d=0):\n",
    "    print(a+b+c+d)\n",
    "f(*args,**kargs)    "
   ]
  },
  {
   "cell_type": "markdown",
   "metadata": {},
   "source": [
    "## Help: Python Tutorial"
   ]
  },
  {
   "cell_type": "code",
   "execution_count": null,
   "metadata": {
    "scrolled": true
   },
   "outputs": [],
   "source": [
    "from IPython.display import HTML\n",
    "HTML('<iframe src=http://docs.python.org/3/tutorial/index.html?useformat=mobile width=780 height=350></iframe>')"
   ]
  },
  {
   "cell_type": "code",
   "execution_count": null,
   "metadata": {
    "scrolled": true
   },
   "outputs": [],
   "source": [
    "! pip install tqdm #this will not work in Windows "
   ]
  },
  {
   "cell_type": "code",
   "execution_count": null,
   "metadata": {
    "scrolled": true
   },
   "outputs": [],
   "source": [
    "import tqdm\n",
    "from time import sleep\n",
    "text = \"\"\n",
    "for char in tqdm.tqdm(range(1000)):\n",
    "    sleep(0.01)"
   ]
  }
 ],
 "metadata": {
  "kernelspec": {
   "display_name": "Python 3",
   "language": "python",
   "name": "python3"
  },
  "language_info": {
   "codemirror_mode": {
    "name": "ipython",
    "version": 3
   },
   "file_extension": ".py",
   "mimetype": "text/x-python",
   "name": "python",
   "nbconvert_exporter": "python",
   "pygments_lexer": "ipython3",
   "version": "3.7.6"
  },
  "widgets": {
   "state": {},
   "version": "1.1.1"
  }
 },
 "nbformat": 4,
 "nbformat_minor": 1
}
