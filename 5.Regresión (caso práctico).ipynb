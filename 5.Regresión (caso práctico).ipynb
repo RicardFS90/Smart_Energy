{
 "cells": [
  {
   "cell_type": "markdown",
   "metadata": {
    "_uuid": "dadaf48c56650a49cd8483d1565a6fc2b2ec067f"
   },
   "source": [
    "\n",
    "## Caso práctico consumos\n"
   ]
  },
  {
   "cell_type": "code",
   "execution_count": 1,
   "metadata": {
    "_uuid": "d98f964ab0736fddf2637284e7fd02b30285a0c9"
   },
   "outputs": [
    {
     "ename": "ModuleNotFoundError",
     "evalue": "No module named 'sklearn'",
     "output_type": "error",
     "traceback": [
      "\u001b[1;31m---------------------------------------------------------------------------\u001b[0m",
      "\u001b[1;31mModuleNotFoundError\u001b[0m                       Traceback (most recent call last)",
      "\u001b[1;32m<ipython-input-1-8efb405dac19>\u001b[0m in \u001b[0;36m<module>\u001b[1;34m\u001b[0m\n\u001b[0;32m      4\u001b[0m \u001b[1;32mimport\u001b[0m \u001b[0mseaborn\u001b[0m \u001b[1;32mas\u001b[0m \u001b[0msns\u001b[0m\u001b[1;33m\u001b[0m\u001b[1;33m\u001b[0m\u001b[0m\n\u001b[0;32m      5\u001b[0m \u001b[1;33m\u001b[0m\u001b[0m\n\u001b[1;32m----> 6\u001b[1;33m \u001b[1;32mfrom\u001b[0m \u001b[0msklearn\u001b[0m \u001b[1;32mimport\u001b[0m \u001b[0mpreprocessing\u001b[0m\u001b[1;33m,\u001b[0m \u001b[0mmodel_selection\u001b[0m\u001b[1;33m,\u001b[0m \u001b[0mmetrics\u001b[0m\u001b[1;33m\u001b[0m\u001b[1;33m\u001b[0m\u001b[0m\n\u001b[0m",
      "\u001b[1;31mModuleNotFoundError\u001b[0m: No module named 'sklearn'"
     ]
    }
   ],
   "source": [
    "import numpy as np \n",
    "import pandas as pd\n",
    "import matplotlib.pyplot as plt\n",
    "import seaborn as sns\n",
    "\n",
    "from sklearn import preprocessing, model_selection, metrics"
   ]
  },
  {
   "cell_type": "markdown",
   "metadata": {
    "_uuid": "5ed5435e6958276e1166d205d8e9b4f4e3a2994b"
   },
   "source": [
    "# Leer Datos"
   ]
  },
  {
   "cell_type": "code",
   "execution_count": null,
   "metadata": {
    "_uuid": "459c945c644bc88cde29d1780414ee5f00842e87"
   },
   "outputs": [],
   "source": [
    "data = pd.read_csv(\"../input/KAG_energydata_complete.csv\")"
   ]
  },
  {
   "cell_type": "code",
   "execution_count": null,
   "metadata": {
    "_uuid": "1eb9ea28e6233a0a02c4fcf86a07fe6f1f94870a"
   },
   "outputs": [],
   "source": [
    "data.head()"
   ]
  },
  {
   "cell_type": "code",
   "execution_count": null,
   "metadata": {
    "_uuid": "75c7fc09bf7891cdda12c133d6dec8aeb24fd4b9"
   },
   "outputs": [],
   "source": [
    "data.info()"
   ]
  },
  {
   "cell_type": "markdown",
   "metadata": {
    "_uuid": "dafb696f1e9b2e8380b466f60b82dd8aa6e3477e"
   },
   "source": [
    "# Resumen Datos"
   ]
  },
  {
   "cell_type": "code",
   "execution_count": null,
   "metadata": {
    "_uuid": "035f0b4b116cacdad65636c7dad90c073e0def54"
   },
   "outputs": [],
   "source": [
    "data.describe()"
   ]
  },
  {
   "cell_type": "code",
   "execution_count": null,
   "metadata": {
    "_uuid": "08330d2721b5d0bd5fc6c6536d7a60e55685c898"
   },
   "outputs": [],
   "source": [
    "print('El Dataset tiene' , data.shape[0], 'filas')\n",
    "print('El Dataset tiene'  , data.shape[1], 'columnas')"
   ]
  },
  {
   "cell_type": "code",
   "execution_count": null,
   "metadata": {
    "_uuid": "5536114a0ecae64f8d213834108c73e398a9bd5b"
   },
   "outputs": [],
   "source": [
    "# Valores null\n",
    "data.isnull().sum().sort_values(ascending = True)"
   ]
  },
  {
   "cell_type": "markdown",
   "metadata": {
    "_uuid": "1e733aa9db02d797175c0c3087849bc6e270eec6"
   },
   "source": [
    "### Limpieza de datos!"
   ]
  },
  {
   "cell_type": "code",
   "execution_count": null,
   "metadata": {
    "_uuid": "46786dfef359c8052d39d3cb585c626b43c01b4b"
   },
   "outputs": [],
   "source": [
    "from sklearn.model_selection import train_test_split\n",
    "\n",
    "# 75% de datos para entrenar, 25% para testear\n",
    "train, test = train_test_split(data,test_size=0.25,random_state=40)"
   ]
  },
  {
   "cell_type": "code",
   "execution_count": null,
   "metadata": {
    "_uuid": "a6b19950ee5eb131d7b5d4bfe42cfd9758ff99e3"
   },
   "outputs": [],
   "source": [
    "train.describe()"
   ]
  },
  {
   "cell_type": "markdown",
   "metadata": {
    "_uuid": "a5f62a5111567937f33dd522f73be6ab39b61a49"
   },
   "source": [
    "###  De momento podemos ignorar la columna de la fecha y hora"
   ]
  },
  {
   "cell_type": "code",
   "execution_count": null,
   "metadata": {
    "_uuid": "195c469bd3bf059fad00bdbb1f58fa72d1af3ed2"
   },
   "outputs": [],
   "source": [
    "# Nos quedan las siguentes features\n",
    "\n",
    "col_temp = [\"T1\",\"T2\",\"T3\",\"T4\",\"T5\",\"T6\",\"T7\",\"T8\",\"T9\"]\n",
    "\n",
    "col_hum = [\"RH_1\",\"RH_2\",\"RH_3\",\"RH_4\",\"RH_5\",\"RH_6\",\"RH_7\",\"RH_8\",\"RH_9\"]\n",
    "\n",
    "col_weather = [\"T_out\", \"Tdewpoint\",\"RH_out\",\"Press_mm_hg\",\n",
    "                \"Windspeed\",\"Visibility\"] \n",
    "col_light = [\"lights\"]\n",
    "\n",
    "col_randoms = [\"rv1\", \"rv2\"]\n",
    "\n",
    "col_target = [\"Appliances\"]"
   ]
  },
  {
   "cell_type": "code",
   "execution_count": null,
   "metadata": {
    "_uuid": "5d254cd81914f1ba138776237eab5ab5cb465e44"
   },
   "outputs": [],
   "source": [
    "# Podemos ver las features y la columna target\n",
    "feature_vars = train[col_temp + col_hum + col_weather + col_light + col_randoms ]\n",
    "target_vars = train[col_target]"
   ]
  },
  {
   "cell_type": "code",
   "execution_count": null,
   "metadata": {
    "_uuid": "172f380104d2ffa90fbb290fc672ad0f9389758f"
   },
   "outputs": [],
   "source": [
    "feature_vars.describe()"
   ]
  },
  {
   "cell_type": "code",
   "execution_count": null,
   "metadata": {
    "_uuid": "98c86bc0781587ec06b7a549389cb1d33694f2f7"
   },
   "outputs": [],
   "source": [
    "# Vamos a mirar alguna distribución de los datos!\n",
    "feature_vars.lights.value_counts()"
   ]
  },
  {
   "cell_type": "code",
   "execution_count": null,
   "metadata": {
    "_uuid": "df948e274c825632e2b2d88f167917069d521780"
   },
   "outputs": [],
   "source": [
    "target_vars.describe()"
   ]
  },
  {
   "cell_type": "markdown",
   "metadata": {
    "_uuid": "5c260c032604486d2b1568e7a2e9db1f750c6891"
   },
   "source": [
    "###  Primeras preguntas\n",
    "\n",
    "1. Mirar rangos temperaturas\n",
    "\n",
    "2. Mirar rangos humedades\n",
    "\n",
    "3. Distribución consumo aparatos electricos\n",
    "\n",
    "4. Nos puede dar información útil la columna del consumo de luces?"
   ]
  },
  {
   "cell_type": "code",
   "execution_count": null,
   "metadata": {
    "_uuid": "c1d1619c62525e005494d1ac1892519b036a4b04"
   },
   "outputs": [],
   "source": [
    "# Podems borrar la column de las luces\n",
    "_ = feature_vars.drop(['lights'], axis=1 , inplace= True) ;"
   ]
  },
  {
   "cell_type": "code",
   "execution_count": null,
   "metadata": {
    "_uuid": "c402139688501fe0744fc505fdd0843d21c77dbc"
   },
   "outputs": [],
   "source": [
    "feature_vars.head(2)"
   ]
  },
  {
   "cell_type": "markdown",
   "metadata": {
    "_uuid": "1b24de57c1880f4c0eef15c1e83eb679bd1cabaf"
   },
   "source": [
    "# Visualización "
   ]
  },
  {
   "cell_type": "code",
   "execution_count": null,
   "metadata": {
    "_uuid": "8ce88b31019db1d0c3641892b39f95d5cca62a3d"
   },
   "outputs": [],
   "source": [
    "# plotly\n",
    "import plotly.plotly as py\n",
    "from plotly.offline import init_notebook_mode, iplot\n",
    "init_notebook_mode(connected=True)\n",
    "import plotly.graph_objs as go\n",
    "\n",
    "# Time-series\n",
    "visData = go.Scatter( x= data.date  ,  mode = \"lines\", y = data.Appliances )\n",
    "layout = go.Layout(title = 'Appliance energy consumption measurement' , xaxis=dict(title='Date'), yaxis=dict(title='(Wh)'))\n",
    "fig = go.Figure(data=[visData],layout=layout)\n",
    "\n",
    "iplot(fig)"
   ]
  },
  {
   "cell_type": "code",
   "execution_count": null,
   "metadata": {
    "_uuid": "268f6ff19b9c4696b2cc7dd89914a61c566fedaf"
   },
   "outputs": [],
   "source": [
    "# Añadir columan indicando días entre setmana (0) y fines de semana (1) \n",
    "\n",
    "data['WEEKDAY'] = ((pd.to_datetime(data['date']).dt.dayofweek)// 5 == 1).astype(float)\n",
    "# 5472 lecturas en fin de semana\n",
    "data['WEEKDAY'].value_counts()"
   ]
  },
  {
   "cell_type": "code",
   "execution_count": null,
   "metadata": {
    "_uuid": "bb6d0faee672db1e19a56008dacf1dfe8ecf9367"
   },
   "outputs": [],
   "source": [
    "# Filas de lecturas entre semana\n",
    "temp_weekday =  data[data['WEEKDAY'] == 0]\n",
    "# Graficar\n",
    "visData = go.Scatter( x= temp_weekday.date  ,  mode = \"lines\", y = temp_weekday.Appliances )\n",
    "layout = go.Layout(title = 'Appliance energy consumption measurement on weekdays' , xaxis=dict(title='Date'), yaxis=dict(title='(Wh)'))\n",
    "fig = go.Figure(data=[visData],layout=layout)\n",
    "\n",
    "iplot(fig)"
   ]
  },
  {
   "cell_type": "code",
   "execution_count": null,
   "metadata": {
    "_uuid": "7f2e88109976a0936bf35f23ea84c7fb772e95a5"
   },
   "outputs": [],
   "source": [
    "# Filas de lecturas fin de semana\n",
    "temp_weekend =  data[data['WEEKDAY'] == 1]\n",
    "# Graficar\n",
    "visData = go.Scatter( x= temp_weekend.date  ,  mode = \"lines\", y = temp_weekend.Appliances )\n",
    "layout = go.Layout(title = 'Appliance energy consumption measurement on weekend' , xaxis=dict(title='Date'), yaxis=dict(title='(Wh)'))\n",
    "fig = go.Figure(data=[visData],layout=layout)\n",
    "\n",
    "iplot(fig)"
   ]
  },
  {
   "cell_type": "code",
   "execution_count": null,
   "metadata": {
    "_uuid": "40b7ed7dfabf40182446b615e3dcaef16f863112"
   },
   "outputs": [],
   "source": [
    "# Histograma de \"features\"\n",
    "feature_vars.hist(bins = 20 , figsize= (12,16)) ;"
   ]
  },
  {
   "cell_type": "code",
   "execution_count": null,
   "metadata": {
    "_uuid": "90f813fddece0fd1401a489b370db8bc3b843e0e"
   },
   "outputs": [],
   "source": [
    "# RH_6 , RH_out , Visibility , Windspeed distribucines irregulares\n",
    "f, ax = plt.subplots(2,2,figsize=(12,8))\n",
    "vis1 = sns.distplot(feature_vars[\"RH_6\"],bins=10, ax= ax[0][0])\n",
    "vis2 = sns.distplot(feature_vars[\"RH_out\"],bins=10, ax=ax[0][1])\n",
    "vis3 = sns.distplot(feature_vars[\"Visibility\"],bins=10, ax=ax[1][0])\n",
    "vis4 = sns.distplot(feature_vars[\"Windspeed\"],bins=10, ax=ax[1][1])"
   ]
  },
  {
   "cell_type": "code",
   "execution_count": null,
   "metadata": {
    "_uuid": "7b027a2b969e9723a092d5498b5667da3629d559"
   },
   "outputs": [],
   "source": [
    "# Distribucion \"Appliances\"\n",
    "f = plt.figure(figsize=(12,5))\n",
    "plt.xlabel('Appliance consumption in Wh')\n",
    "plt.ylabel('Frequency')\n",
    "sns.distplot(target_vars , bins=10 ) ;"
   ]
  },
  {
   "cell_type": "markdown",
   "metadata": {
    "_uuid": "6ccab7a6fdd0c37c087d8e1386fe561073a53eef"
   },
   "source": [
    "### Observaciones\n",
    "\n",
    "1. Temperature - ¿Qué distribuciones vemos?\n",
    "2. Humidity  - ¿Qué distribuciones vemos?\n",
    "3. Appliance - ¿Es simétrica? Hay outliers\n",
    "4. Visibilty - ¿Es simétrica? \n",
    "5. Windspeed - ¿Es simétrica? \n"
   ]
  },
  {
   "cell_type": "code",
   "execution_count": null,
   "metadata": {
    "_uuid": "4c950e6df1371fe9b855a1e9a8614eb823596fbf"
   },
   "outputs": [],
   "source": [
    "#Appliance con consumos bajos (menores a 200)\n",
    "print('Percentage of the appliance consumption is less than 200 Wh')\n",
    "print(((target_vars[target_vars <= 200].count()) / (len(target_vars)))*100 )"
   ]
  },
  {
   "cell_type": "markdown",
   "metadata": {
    "_uuid": "9f8723bf9f8f79235f25918c9db92326242dc141"
   },
   "source": [
    "### Correlation Plots"
   ]
  },
  {
   "cell_type": "code",
   "execution_count": null,
   "metadata": {
    "_uuid": "deab4ea17925778f6ec7653f7cfd4ac8c4fe3efd"
   },
   "outputs": [],
   "source": [
    "# Correlaciones\n",
    "train_corr = train[col_temp + col_hum + col_weather +col_target+col_randoms]\n",
    "corr = train_corr.corr()\n",
    "# Quitar valores repetidos\n",
    "mask = np.zeros_like(corr, dtype=np.bool)\n",
    "mask[np.triu_indices_from(mask)] = True\n",
    "  \n",
    "f, ax = plt.subplots(figsize=(16, 14))\n",
    "#Generar Heat Map,\n",
    "sns.heatmap(corr, annot=True, fmt=\".2f\" , mask=mask,)\n",
    "    # xticks\n",
    "plt.xticks(range(len(corr.columns)), corr.columns);\n",
    "    # yticks\n",
    "plt.yticks(range(len(corr.columns)), corr.columns)\n",
    "    # plot\n",
    "plt.show()"
   ]
  },
  {
   "cell_type": "code",
   "execution_count": null,
   "metadata": {
    "_uuid": "e691f027940a7215bdbc3888b9e5373c121aa45c"
   },
   "outputs": [],
   "source": [
    "# Función para ver solo una mitad de la matriz\n",
    "def get_redundant_pairs(df):\n",
    "    '''Get diagonal and lower triangular pairs of correlation matrix'''\n",
    "    pairs_to_drop = set()\n",
    "    cols = df.columns\n",
    "    for i in range(0, df.shape[1]):\n",
    "        for j in range(0, i+1):\n",
    "            pairs_to_drop.add((cols[i], cols[j]))\n",
    "    return pairs_to_drop\n",
    "\n",
    "# Function to get top correlations \n",
    "\n",
    "def get_top_abs_correlations(df, n=5):\n",
    "    au_corr = df.corr().abs().unstack()\n",
    "    labels_to_drop = get_redundant_pairs(df)\n",
    "    au_corr = au_corr.drop(labels=labels_to_drop).sort_values(ascending=False)\n",
    "    return au_corr[0:n]\n",
    "\n",
    "print(\"Top Absolute Correlations\")\n",
    "print(get_top_abs_correlations(train_corr, 40))"
   ]
  },
  {
   "cell_type": "markdown",
   "metadata": {
    "_uuid": "09c1fc6c1a5fbfe091f23aa27680cdc966832e5b"
   },
   "source": [
    "### Observaciones basadas en las correlaciones\n",
    "\n",
    "1. Temperature\n",
    "\n",
    "2. Weather attributes - (Visibility, Tdewpoint, Press_mm_hg)  \n",
    "\n",
    "3. Humidity \n",
    "\n",
    "4. Variables aleatoras \n"
   ]
  },
  {
   "cell_type": "markdown",
   "metadata": {
    "_uuid": "0673dbe778f0161c6b05e0dfea77934676aae891"
   },
   "source": [
    "# Data Pre Processing"
   ]
  },
  {
   "cell_type": "code",
   "execution_count": null,
   "metadata": {
    "_uuid": "dc8da76cb9586f4d9d8c3417d851c02a5058ece3"
   },
   "outputs": [],
   "source": [
    "#Split training dataset \n",
    "train_X = train[feature_vars.columns]\n",
    "train_y = train[target_vars.columns]"
   ]
  },
  {
   "cell_type": "code",
   "execution_count": null,
   "metadata": {
    "_uuid": "06a9ed214428ca03a45c9061c6f976c86420e744"
   },
   "outputs": [],
   "source": [
    "#Split testing dataset\n",
    "test_X = test[feature_vars.columns]\n",
    "test_y = test[target_vars.columns]"
   ]
  },
  {
   "cell_type": "code",
   "execution_count": null,
   "metadata": {
    "_uuid": "166f070f9f7732b481450805d6e3d2215dd943bf"
   },
   "outputs": [],
   "source": [
    "# Quitar columnas que se han visto que no muestran información (train)\n",
    "train_X.drop([\"rv1\",\"rv2\",\"Visibility\",\"T6\",\"T9\"],axis=1 , inplace=True)"
   ]
  },
  {
   "cell_type": "code",
   "execution_count": null,
   "metadata": {
    "_uuid": "bbf0f6ad00f84ae9e8b0c13c710aaeaf199433e2"
   },
   "outputs": [],
   "source": [
    "# Due to conlusion made above below columns are removed\n",
    "test_X.drop([\"rv1\",\"rv2\",\"Visibility\",\"T6\",\"T9\"], axis=1, inplace=True)"
   ]
  },
  {
   "cell_type": "code",
   "execution_count": null,
   "metadata": {
    "_uuid": "737fb79f8a5be05a095308a241863035890a7a71"
   },
   "outputs": [],
   "source": [
    "train_X.columns"
   ]
  },
  {
   "cell_type": "code",
   "execution_count": null,
   "metadata": {
    "_uuid": "3ff37742e76e643030a1a9ac85f54eca87964d4c"
   },
   "outputs": [],
   "source": [
    "test_X.columns"
   ]
  },
  {
   "cell_type": "code",
   "execution_count": null,
   "metadata": {
    "_uuid": "2994c4f429d3199fd6a85bc7c5b7ac3ec6a99b85"
   },
   "outputs": [],
   "source": [
    "from sklearn.preprocessing import StandardScaler\n",
    "sc=StandardScaler()\n",
    "\n",
    "# Create test and training set by including Appliances column\n",
    "\n",
    "train = train[list(train_X.columns.values) + col_target ]\n",
    "\n",
    "test = test[list(test_X.columns.values) + col_target ]\n",
    "\n",
    "# Create dummy test and training set to hold scaled values\n",
    "\n",
    "sc_train = pd.DataFrame(columns=train.columns , index=train.index)\n",
    "\n",
    "sc_train[sc_train.columns] = sc.fit_transform(train)\n",
    "\n",
    "sc_test= pd.DataFrame(columns=test.columns , index=test.index)\n",
    "\n",
    "sc_test[sc_test.columns] = sc.fit_transform(test)\n"
   ]
  },
  {
   "cell_type": "code",
   "execution_count": null,
   "metadata": {
    "_uuid": "7097dc5408d21b2249dcc7db63bf5776b7f90ef6"
   },
   "outputs": [],
   "source": [
    "sc_train.head()"
   ]
  },
  {
   "cell_type": "code",
   "execution_count": null,
   "metadata": {
    "_uuid": "f1b2daaa97b18800174f5e75c5d147b2f0242417"
   },
   "outputs": [],
   "source": [
    "sc_test.head()"
   ]
  },
  {
   "cell_type": "code",
   "execution_count": null,
   "metadata": {
    "_uuid": "c89e789b6fee327d98ad18904e6c451f9a21625b"
   },
   "outputs": [],
   "source": [
    "# sacar Appliances columna de training set\n",
    "\n",
    "train_X =  sc_train.drop(['Appliances'] , axis=1)\n",
    "train_y = sc_train['Appliances']\n",
    "\n",
    "test_X =  sc_test.drop(['Appliances'] , axis=1)\n",
    "test_y = sc_test['Appliances']"
   ]
  },
  {
   "cell_type": "code",
   "execution_count": null,
   "metadata": {
    "_uuid": "1fc7d310b2621230c0315e9cd8f8609c25bb37b6"
   },
   "outputs": [],
   "source": [
    "train_X.head()"
   ]
  },
  {
   "cell_type": "code",
   "execution_count": null,
   "metadata": {
    "_uuid": "d8953ff506b7809837d446a287a9bf60bcda2ec8"
   },
   "outputs": [],
   "source": [
    "train_y.head()"
   ]
  },
  {
   "cell_type": "markdown",
   "metadata": {
    "_uuid": "fa444209373d57c30d13639d1d2eac411591494a"
   },
   "source": [
    "# Implementacion del modelo\n",
    "\n",
    "Probaremos los siguientes modelos:\n",
    "\n",
    "**Linear regression models**\n",
    "\n",
    "1.Ridge regression \n",
    "\n",
    "2.Lasso regression \n",
    "\n",
    "**Support Vector Machine**\n",
    "\n",
    "3.Support vector regression \n",
    "\n",
    "**Nearest neighbour Regressor**\n",
    "\n",
    "4.KNeighborsRegressor\n",
    "\n",
    "**Ensmble models**\n",
    "\n",
    "5.Random Forest Regressor\n",
    "\n",
    "6.Gradient Boosting Regressor\n",
    "\n",
    "7.ExtraTrees Regressor\n",
    "\n",
    "**Neural Network**\n",
    "\n",
    "8.Multi Layer Preceptron Regressor\n",
    "\n"
   ]
  },
  {
   "cell_type": "code",
   "execution_count": null,
   "metadata": {
    "_uuid": "643097ec623c9fbd96713bb12227477a9aaf541e"
   },
   "outputs": [],
   "source": [
    "from sklearn.linear_model import Ridge, Lasso\n",
    "from sklearn.ensemble import RandomForestRegressor, GradientBoostingRegressor, ExtraTreesRegressor\n",
    "from sklearn.neural_network import MLPRegressor\n",
    "import xgboost as xgb\n",
    "from sklearn import neighbors\n",
    "from sklearn.svm import SVR\n"
   ]
  },
  {
   "cell_type": "code",
   "execution_count": null,
   "metadata": {
    "_uuid": "4800107c7b3954368828fd296e29ba13568410f7"
   },
   "outputs": [],
   "source": [
    "# Lista de modelos a probar\n",
    "models = [\n",
    "           ['Lasso: ', Lasso()],\n",
    "           ['Ridge: ', Ridge()],\n",
    "           ['KNeighborsRegressor: ',  neighbors.KNeighborsRegressor()],\n",
    "           ['SVR:' , SVR(kernel='rbf')],\n",
    "           ['RandomForest ',RandomForestRegressor()],\n",
    "           ['ExtraTreeRegressor :',ExtraTreesRegressor()],\n",
    "           ['GradientBoostingClassifier: ', GradientBoostingRegressor()] ,\n",
    "           ['XGBRegressor: ', xgb.XGBRegressor()] ,\n",
    "           ['MLPRegressor: ', MLPRegressor(  activation='relu', solver='adam',learning_rate='adaptive',max_iter=1000,learning_rate_init=0.01,alpha=0.01)]\n",
    "         ]\n"
   ]
  },
  {
   "cell_type": "code",
   "execution_count": null,
   "metadata": {
    "_uuid": "be857f14815dba2660da6098138026e41c3f43ad"
   },
   "outputs": [],
   "source": [
    "# Correr los modelos\n",
    "import time\n",
    "from math import sqrt\n",
    "from sklearn.metrics import mean_squared_error\n",
    "\n",
    "model_data = []\n",
    "for name,curr_model in models :\n",
    "    curr_model_data = {}\n",
    "    curr_model.random_state = 78\n",
    "    curr_model_data[\"Name\"] = name\n",
    "    start = time.time()\n",
    "    curr_model.fit(train_X,train_y)\n",
    "    end = time.time()\n",
    "    curr_model_data[\"Train_Time\"] = end - start\n",
    "    curr_model_data[\"Train_R2_Score\"] = metrics.r2_score(train_y,curr_model.predict(train_X))\n",
    "    curr_model_data[\"Test_R2_Score\"] = metrics.r2_score(test_y,curr_model.predict(test_X))\n",
    "    curr_model_data[\"Test_RMSE_Score\"] = sqrt(mean_squared_error(test_y,curr_model.predict(test_X)))\n",
    "    model_data.append(curr_model_data)"
   ]
  },
  {
   "cell_type": "code",
   "execution_count": null,
   "metadata": {
    "_uuid": "fa0deb453752d955394450f7ae4a98c4e8b09e67"
   },
   "outputs": [],
   "source": [
    "model_data"
   ]
  },
  {
   "cell_type": "code",
   "execution_count": null,
   "metadata": {
    "_uuid": "d0a170b81d4017610288636e65dc55281ee3b428"
   },
   "outputs": [],
   "source": [
    "# Pasar a datframe\n",
    "df = pd.DataFrame(model_data)"
   ]
  },
  {
   "cell_type": "code",
   "execution_count": null,
   "metadata": {
    "_uuid": "87bafd7ce88cfd5b66a7354f5d2a5bcad1b07741"
   },
   "outputs": [],
   "source": [
    "df"
   ]
  },
  {
   "cell_type": "code",
   "execution_count": null,
   "metadata": {
    "_uuid": "13ae25e43c14298cd6304af176b134825a4d10cb"
   },
   "outputs": [],
   "source": [
    "df.plot(x=\"Name\", y=['Test_R2_Score' , 'Train_R2_Score' , 'Test_RMSE_Score'], kind=\"bar\" , title = 'R2 Score Results' , figsize= (10,8)) ;"
   ]
  },
  {
   "cell_type": "markdown",
   "metadata": {
    "_uuid": "e88f02d72f44e307e795163cb0133911c73f0b9e"
   },
   "source": [
    "### Obervaciones\n",
    "1. Mejor modelo Extra Tree Regressor con R2 score of 0.57\n",
    "2. Menor RMSE score también Extra Tree Regressor 0.65\n",
    "2. Lasso regularization la peor!\n"
   ]
  },
  {
   "cell_type": "markdown",
   "metadata": {
    "_uuid": "329292678242cc9c1ffb5ff79d17c8297c79c5f1"
   },
   "source": [
    "# Configurar parámetros "
   ]
  },
  {
   "cell_type": "code",
   "execution_count": null,
   "metadata": {
    "_uuid": "b43b712478c488f63bf29cdeb579e47999a5bb5f"
   },
   "outputs": [],
   "source": [
    "from sklearn.model_selection import GridSearchCV\n",
    "param_grid = [{\n",
    "              'max_depth': [80, 150, 200,250],\n",
    "              'n_estimators' : [100,150,200,250],\n",
    "              'max_features': [\"auto\", \"sqrt\", \"log2\"]\n",
    "            }]\n",
    "reg = ExtraTreesRegressor(random_state=40)\n",
    "# Inizializar\n",
    "grid_search = GridSearchCV(estimator = reg, param_grid = param_grid, cv = 5, n_jobs = -1 , scoring='r2' , verbose=2)\n",
    "grid_search.fit(train_X, train_y)"
   ]
  },
  {
   "cell_type": "code",
   "execution_count": null,
   "metadata": {
    "_uuid": "d165dabb88077096cb24e5edc9f9d759168b58a4"
   },
   "outputs": [],
   "source": [
    "# Tuned parameter set\n",
    "grid_search.best_params_"
   ]
  },
  {
   "cell_type": "code",
   "execution_count": null,
   "metadata": {
    "_uuid": "00a0c3e1968c90ea927a5e2219b5f800ba8c32e7"
   },
   "outputs": [],
   "source": [
    "# Mejores parámetros para ExtraTreesRegressor\n",
    "grid_search.best_estimator_"
   ]
  },
  {
   "cell_type": "code",
   "execution_count": null,
   "metadata": {
    "_uuid": "07097df94ef8097ce7628af88b2db9e18dfcb027"
   },
   "outputs": [],
   "source": [
    "# R2 score en training\n",
    "grid_search.best_estimator_.score(train_X,train_y)"
   ]
  },
  {
   "cell_type": "code",
   "execution_count": null,
   "metadata": {
    "_uuid": "038aebb89e9ca0575a0603e219237793830cde3d"
   },
   "outputs": [],
   "source": [
    "# R2 score en test\n",
    "grid_search.best_estimator_.score(test_X,test_y)"
   ]
  },
  {
   "cell_type": "code",
   "execution_count": null,
   "metadata": {
    "_uuid": "0e9446bc077d0e3edd520d08a4da89da93d43135"
   },
   "outputs": [],
   "source": [
    "# RMSE score en test\n",
    "np.sqrt(mean_squared_error(test_y, grid_search.best_estimator_.predict(test_X)))"
   ]
  },
  {
   "cell_type": "markdown",
   "metadata": {
    "_uuid": "160bb1c15b1895f67385892f954a30dc33009a6c"
   },
   "source": [
    "### Observaciones\n",
    "\n",
    "\n",
    "1. Mejor combinación - 'max_depth': 80, 'max_features': 'sqrt', 'n_estimators': 200\n",
    "\n",
    "    \n",
    "2. Training set  R2 score de 1.0 (overfitting?)\n",
    "\n",
    "\n",
    "3. Test set R2 score de 0.63 mejora el de 0.57 \n",
    "\n",
    "\n",
    "4. Test set RMSE score de 0.60 mejora el de 0.65 \n",
    "\n",
    "\n"
   ]
  },
  {
   "cell_type": "markdown",
   "metadata": {
    "_uuid": "98b1fa624310a65b128eae12c12badfc73ecbd32"
   },
   "source": [
    "### Features "
   ]
  },
  {
   "cell_type": "code",
   "execution_count": null,
   "metadata": {
    "_uuid": "f5f138c398e5145788017657f9ff691f51feb9da"
   },
   "outputs": [],
   "source": [
    "# Mejores features\n",
    "feature_indices = np.argsort(grid_search.best_estimator_.feature_importances_)"
   ]
  },
  {
   "cell_type": "code",
   "execution_count": null,
   "metadata": {
    "_uuid": "f275f19c248554e12bcd22cf38fb19790d9baf1b"
   },
   "outputs": [],
   "source": [
    "importances = grid_search.best_estimator_.feature_importances_\n",
    "indices = np.argsort(importances)[::-1]\n",
    "names = [train_X.columns[i] for i in indices]\n",
    "# Create plot\n",
    "plt.figure(figsize=(10,6))\n",
    "\n",
    "# Create plot title\n",
    "plt.title(\"Feature Importance\")\n",
    "\n",
    "# Add bars\n",
    "plt.bar(range(train_X.shape[1]), importances[indices])\n",
    "\n",
    "# Add feature names as x-axis labels\n",
    "plt.xticks(range(train_X.shape[1]), names, rotation=90)\n",
    "\n",
    "# Show plot\n",
    "plt.show()"
   ]
  },
  {
   "cell_type": "code",
   "execution_count": null,
   "metadata": {
    "_uuid": "61db26a43b3faaa547b6154bb934794023879c18"
   },
   "outputs": [],
   "source": [
    "# top 5\n",
    "names[0:5]"
   ]
  },
  {
   "cell_type": "code",
   "execution_count": null,
   "metadata": {
    "_uuid": "7bd14131b7bd023f8aa8662f4ea3ceca3efce5b7"
   },
   "outputs": [],
   "source": [
    "# ultimas 5\n",
    "names[-5:]"
   ]
  },
  {
   "cell_type": "code",
   "execution_count": null,
   "metadata": {
    "_uuid": "112a0dab66f5f486eb404ea3e9a41323b92022b8"
   },
   "outputs": [],
   "source": [
    "# Reducimos set a las 5 mejores\n",
    "train_important_feature = train_X[names[0:5]]\n",
    "test_important_feature = test_X[names[0:5]]"
   ]
  },
  {
   "cell_type": "code",
   "execution_count": null,
   "metadata": {
    "_uuid": "37dbe67a7e51caf6659fafe738c5abcd88987baa"
   },
   "outputs": [],
   "source": [
    "# Volvemos a probar!\n",
    "\n",
    "from sklearn.base import clone\n",
    "cloned_model = clone(grid_search.best_estimator_)\n",
    "cloned_model.fit(train_important_feature , train_y)"
   ]
  },
  {
   "cell_type": "code",
   "execution_count": null,
   "metadata": {
    "_uuid": "e58c24496754a52f819ba46182eb7519754cffff"
   },
   "outputs": [],
   "source": [
    "# Nuevos scores\n",
    "\n",
    "print('Training set R2 Score - ', metrics.r2_score(train_y,cloned_model.predict(train_important_feature)))\n",
    "print('Testing set R2 Score - ', metrics.r2_score(test_y,cloned_model.predict(test_important_feature)))\n",
    "print('Testing set RMSE Score - ', np.sqrt(mean_squared_error(test_y, cloned_model.predict(test_important_feature))))\n"
   ]
  },
  {
   "cell_type": "markdown",
   "metadata": {
    "_uuid": "af51a63f8943b13a80fcf6827ce60688c6e45896"
   },
   "source": [
    "### Observaciones\n",
    "\n",
    "1. Features\n",
    "\n",
    "    a. top 5 - 'RH_out', 'RH_8', 'RH_1', 'T3', 'RH_3'\n",
    "    \n",
    "    b. peores 5 - 'T7','Tdewpoint','Windspeed','T1','T5'\n",
    "    \n",
    "\n",
    "3. R2 baja mucho así que mejor no usar el dataset reducido"
   ]
  },
  {
   "cell_type": "code",
   "execution_count": null,
   "metadata": {},
   "outputs": [],
   "source": []
  }
 ],
 "metadata": {
  "kernelspec": {
   "display_name": "Python 3",
   "language": "python",
   "name": "python3"
  },
  "language_info": {
   "codemirror_mode": {
    "name": "ipython",
    "version": 3
   },
   "file_extension": ".py",
   "mimetype": "text/x-python",
   "name": "python",
   "nbconvert_exporter": "python",
   "pygments_lexer": "ipython3",
   "version": "3.7.7"
  }
 },
 "nbformat": 4,
 "nbformat_minor": 4
}
