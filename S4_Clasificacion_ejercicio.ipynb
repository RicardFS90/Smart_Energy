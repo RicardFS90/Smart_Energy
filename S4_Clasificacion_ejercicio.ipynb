{
 "cells": [
  {
   "cell_type": "markdown",
   "metadata": {},
   "source": [
    "<img src=\"Figures/top_ML.png\" alt=\"Drawing\" style=\"width: 1000px;\"/>"
   ]
  },
  {
   "cell_type": "markdown",
   "metadata": {},
   "source": [
    "# Sesión 4. Ejercicio de aprendizaje supervisado: clasificación.\n",
    "\n",
    "## *Clasificación binaria de precios de electricidad en el Mercado Diario.*"
   ]
  },
  {
   "cell_type": "markdown",
   "metadata": {},
   "source": [
    "**Objetivo:** predecir en qué horas el precio de la electricidad en el Mercado Diario será elevado, siendo la **clase 0** para valores menores al cuartil superior Q3, y **clase 1** para valores mayores al cuartil superior Q3 (precio electricidad > Q3 = 59 €/MWh).  Se utilizarán datos históricos de la variable target que queremos clasificar y de otros atributos (features) que pueden ayudar a predecir modelo.\n",
    "\n",
    "\n",
    "**Contexto:** Una empresa que compre energía directamente en el mercado diario, quiere conocer el día anterior en que franjas horarias del dia siguiente el coste de la electricidad va a ser excesivamente elevado. Así pueden re-organizar (si es pobible) el consumo de las cargas o descargar baterías durante esas horas, reduciendo el coste de la factura eléctrica.\n",
    "\n",
    "### Antes de empezar:\n",
    "\n",
    "* En el archivo **S4_datos_E1_categoricaldata.csv** se encuentra el conjunto de datos de entrada de este ejemplo (atributos + etiqueta). \n",
    "* El histórico de datos va desde 01/01/2018 hasta 16/06/2020.\n"
   ]
  },
  {
   "cell_type": "markdown",
   "metadata": {},
   "source": [
    "## **1. Importar librerías y datos**\n"
   ]
  },
  {
   "cell_type": "code",
   "execution_count": 1,
   "metadata": {},
   "outputs": [],
   "source": [
    "# Importamos las librerías\n",
    "### Escribe aquí tu código ###\n",
    "\n",
    "# Cargamos el conjunto de datos de entrada\n",
    "### Escribe aquí tu código ###"
   ]
  },
  {
   "cell_type": "markdown",
   "metadata": {},
   "source": [
    "## **2. Comprender los datos**\n",
    "\n",
    "Es necesario visualizar y comprender los datos con los que vamos a trabajar, así como conocer sus características. \n",
    "\n",
    "1. ¿Cuántos datos hay? ¿Cuántos atributos hay en los datos?  \n",
    "2. ¿Qué significan?\n",
    "3. ¿Falta algún dato?\n",
    "4. ¿Están balanceadas las etiquetas? \n",
    "4. Resumen estadístico del conjunto de datos de entrada."
   ]
  },
  {
   "cell_type": "markdown",
   "metadata": {},
   "source": [
    "* **1. ¿Cuántos datos hay?** **¿Cuántos atributos hay en los datos?**"
   ]
  },
  {
   "cell_type": "code",
   "execution_count": 14,
   "metadata": {},
   "outputs": [],
   "source": [
    "# Filasxcolumnas de los datos\n",
    "### Escribe aquí tu código ###\n"
   ]
  },
  {
   "cell_type": "code",
   "execution_count": 13,
   "metadata": {},
   "outputs": [],
   "source": [
    "# Observa las primeras 5 filas de los datos\n",
    "### Escribe aquí tu código ###\n"
   ]
  },
  {
   "cell_type": "code",
   "execution_count": 3,
   "metadata": {},
   "outputs": [],
   "source": [
    "# Observa las últimas 5 filas de los datos\n",
    "### Escribe aquí tu código ###\n"
   ]
  },
  {
   "cell_type": "markdown",
   "metadata": {},
   "source": [
    "**2. ¿Qué significan?** "
   ]
  },
  {
   "cell_type": "code",
   "execution_count": 12,
   "metadata": {},
   "outputs": [],
   "source": [
    "# Formato de los datos\n",
    "### Escribe aquí tu código ###\n"
   ]
  },
  {
   "cell_type": "markdown",
   "metadata": {},
   "source": [
    "**3. ¿Falta algún dato? \n",
    "De ser así, indica cuántos y en que atributo(s)** \n"
   ]
  },
  {
   "cell_type": "code",
   "execution_count": 11,
   "metadata": {},
   "outputs": [],
   "source": [
    "# Comprobar si falta algún dato y en qué atributo\n",
    "### Escribe aquí tu código ###\n"
   ]
  },
  {
   "cell_type": "markdown",
   "metadata": {},
   "source": [
    "**4. ¿Están balanceadas las etiquetas?**"
   ]
  },
  {
   "cell_type": "code",
   "execution_count": 10,
   "metadata": {},
   "outputs": [],
   "source": [
    "# Comprobar si las etiquetas están desvalanceadas\n",
    "### Escribe aquí tu código ###\n"
   ]
  },
  {
   "cell_type": "code",
   "execution_count": 9,
   "metadata": {},
   "outputs": [],
   "source": [
    "# Grafica el balance de clases con: XXXX.plot.pie()\n",
    "### Escribe aquí tu código ###\n"
   ]
  },
  {
   "cell_type": "markdown",
   "metadata": {},
   "source": [
    "**5. Muestra por pantalla el resumen estadístico del conjunto de datos de entrada** "
   ]
  },
  {
   "cell_type": "code",
   "execution_count": 15,
   "metadata": {},
   "outputs": [],
   "source": [
    "# Datos estadísticos de cada uno de los atributos\n",
    "### Escribe aquí tu código ###"
   ]
  },
  {
   "cell_type": "markdown",
   "metadata": {},
   "source": [
    "## **3. Visualizar los datos**\n",
    "\n",
    "Una manera visual de entender los datos de entrada. \n",
    "1. Histograma\n",
    "2. Curva de densidad\n",
    "3. Boxplots\n",
    "4. Matriz de correlación\n"
   ]
  },
  {
   "cell_type": "markdown",
   "metadata": {},
   "source": [
    "**1. Histograma**\n",
    "\n",
    "Respresentación gráfica de cada uno de los atributos en forma de barras, donde la superficie de la barra es proporcional a la frecuencia de los valores representados."
   ]
  },
  {
   "cell_type": "code",
   "execution_count": 16,
   "metadata": {},
   "outputs": [],
   "source": [
    "### Escribe aquí tu código ###"
   ]
  },
  {
   "cell_type": "markdown",
   "metadata": {},
   "source": [
    "**2. Gráfico de densidades**\n",
    "\n",
    "Visualiza la distribución de los datos. Es una variable del histograma, pero elimina el ruido, por lo que son mejores para determinar la forma de distribución de un atributo. Lo spicos del gráfico de densidad ayudan a mostrar dónde los valores se concentran más. "
   ]
  },
  {
   "cell_type": "code",
   "execution_count": 17,
   "metadata": {},
   "outputs": [],
   "source": [
    "### Escribe aquí tu código ###"
   ]
  },
  {
   "cell_type": "markdown",
   "metadata": {},
   "source": [
    "**3. Boxplots** \n",
    "\n",
    "El boxplot (diagrama de caja) nos permite identificar los valores atípicos y comparar distribuciones. Además, se conoce como se distribuyen el 50% de los valores (dentro de la caja).\n",
    "\n",
    "* **¿Qué atributo llama la atención por sus valores atípicos?**"
   ]
  },
  {
   "cell_type": "code",
   "execution_count": 18,
   "metadata": {},
   "outputs": [],
   "source": [
    "### Escribe aquí tu código ###"
   ]
  },
  {
   "cell_type": "markdown",
   "metadata": {},
   "source": [
    "**4. Matriz de correlación** \n",
    "\n",
    "Calcula y visualiza la matriz de correlación\n",
    "* **¿Qué variable no tiene ninguna correlación con ningún atributo?** "
   ]
  },
  {
   "cell_type": "code",
   "execution_count": 4,
   "metadata": {
    "scrolled": false
   },
   "outputs": [],
   "source": [
    "# Cálculo de coeficientes de correlación\n",
    "\n",
    "### Escribe aquí tu código ###\n",
    "\n",
    "\n",
    "# Matriz de correlación (Descomentar cuando se ejecute)\n",
    "\n",
    "# fig = plt.figure(figsize=(11, 10))\n",
    "# ax = fig.add_subplot(111)\n",
    "# cax = ax.matshow(corr_matrix, vmin=-1, vmax=1)\n",
    "# fig.colorbar(cax)\n",
    "# ticks = np.arange(0, 11, 1)\n",
    "# ax.set_xticks(ticks)\n",
    "# ax.set_yticks(ticks)\n",
    "# ax.set_xticklabels(corr_matrix.columns)\n",
    "# ax.set_yticklabels(corr_matrix.columns)\n",
    "# plt.show()\n"
   ]
  },
  {
   "cell_type": "markdown",
   "metadata": {},
   "source": [
    "## *4. Preparar los datos*\n",
    "\n",
    "1. Missing data\n",
    "2. Data cleaning (eliminar outliers).\n",
    "3. LabelEncoding\n",
    "4. Feature engineering\n",
    "5. Transformación (escalado)."
   ]
  },
  {
   "cell_type": "markdown",
   "metadata": {},
   "source": [
    "Primero, divido los datos en **atributos**: X (features) y **etiquetas**: y (target)"
   ]
  },
  {
   "cell_type": "code",
   "execution_count": 5,
   "metadata": {},
   "outputs": [],
   "source": [
    "# Dividir los datos en atributos X (features); etiquetas y (target)\n",
    "\n",
    "### Escribe aquí tu código ###"
   ]
  },
  {
   "cell_type": "markdown",
   "metadata": {},
   "source": [
    "**1. Missing data**\n",
    "\n",
    "* Comprobar si hay missing data. \n",
    "* **Si faltan datos, completa las casillas vacias con el valor medido anterior del atributo**: utiliza *.fillna()*\n",
    "\n",
    "\n",
    "\n"
   ]
  },
  {
   "cell_type": "code",
   "execution_count": 8,
   "metadata": {},
   "outputs": [],
   "source": [
    "# Comprobar si faltan datos en los atributos\n",
    "\n",
    "### Escribe aquí tu código ###\n"
   ]
  },
  {
   "cell_type": "code",
   "execution_count": 9,
   "metadata": {},
   "outputs": [],
   "source": [
    "# Comprobar si faltan datos en el target\n",
    "\n",
    "### Escribe aquí tu código ###\n"
   ]
  },
  {
   "cell_type": "code",
   "execution_count": 10,
   "metadata": {
    "scrolled": true
   },
   "outputs": [],
   "source": [
    "# Relleno los missing values de cada atributo con el valor anterior del atributo. \n",
    "\n",
    "### Escribe aquí tu código ###"
   ]
  },
  {
   "cell_type": "code",
   "execution_count": 11,
   "metadata": {},
   "outputs": [],
   "source": [
    "# Comprueba de nuevo que los valores que faltaban han sido eliminados (misma función que antes)\n",
    "\n",
    "### Escribe aquí tu código ###"
   ]
  },
  {
   "cell_type": "markdown",
   "metadata": {},
   "source": [
    "**2. Data cleaning (eliminar outliers)**\n",
    "\n",
    "Eliminar los outliers del atributo. Está ya programado, lo único que hay que hacer es poner el nombre de la columna en la que se eliminarán los outliers **X['Columna']**. Por ejemplo, X['Eolica']."
   ]
  },
  {
   "cell_type": "code",
   "execution_count": 12,
   "metadata": {},
   "outputs": [],
   "source": [
    "import numpy as np\n",
    "\n",
    "# # Detectar los outliers con el método IQR\n",
    "\n",
    "# Q1, Q3 = np.percentile(X['Columna'], [25, 75])\n",
    "# print('Cuartil 1 (Q1 = %d) ; Cuartil 3 (Q3 = %d)' %(Q1, Q3))\n",
    "# iqr = Q3 - Q1\n",
    "# limite_inferior = Q1 - (iqr * 1.5)\n",
    "# limite_superior = Q3 + (iqr * 1.5)\n",
    "# # filas_outliers = np.where((X['Columna'] > limite_superior) | (X['Columna'] < limite_inferior))\n",
    "# print(filas_outliers)  # índices con outliers\n",
    "\n",
    "# # Eliminar las filas donde existen estos outliers:\n",
    "# X_sinoutliers = X.drop(X.index[filas_outliers],axis=0)\n",
    "# y_sinoutliers = y.drop(X.index[filas_outliers],axis=0)\n",
    "# # Imprimir las filas que resultan ahora.\n",
    "# len(X_sinoutliers)\n",
    "# len(y_sinoutliers)"
   ]
  },
  {
   "cell_type": "code",
   "execution_count": 25,
   "metadata": {},
   "outputs": [],
   "source": [
    "# Comprobar que se han eliminado correctamente: graficar el boxplot de la variable, ahora sin outliers. \n",
    "\n",
    "### Escribe aquí tu código ###\n"
   ]
  },
  {
   "cell_type": "markdown",
   "metadata": {},
   "source": [
    "**3. Label encoding**\n",
    "\n",
    "Utiliza la librería LabelEncoder para transformar los datos categóricos en numéricos. "
   ]
  },
  {
   "cell_type": "code",
   "execution_count": null,
   "metadata": {},
   "outputs": [],
   "source": [
    "# # Importar librería\n",
    "# ### Escribe aquí tu código ###\n",
    "\n",
    "# lab_encoder = LabelEncoder() \n",
    "# lab_encoder.fit(### Escribe aquí tu código ###)  \n",
    "# print(lab_encoder.classes_)  # Muestra las clases diferentes que hay\n",
    "\n",
    "# y_numeric = lab_encoder.transform(### Escribe aquí tu código ###)\n",
    "# print(y_numeric)"
   ]
  },
  {
   "cell_type": "markdown",
   "metadata": {},
   "source": [
    "**4. Feature engineering**\n",
    "\n",
    "Utilizando la matriz de correlación, eliminar los atributos con una correlacion cercana a 0 con la etiqueta **\"Clases\"**. \n",
    "\n",
    "* **¿Qué atributo(s) se elimana(n)?** "
   ]
  },
  {
   "cell_type": "code",
   "execution_count": 17,
   "metadata": {},
   "outputs": [],
   "source": [
    "# Elimina el atributo (columna) con una correlación 0 con el resto de atributos (indica aleatoriedad). \n",
    "\n",
    "### Escribe aquí tu código ###\n"
   ]
  },
  {
   "cell_type": "markdown",
   "metadata": {},
   "source": [
    "**5. Transformación (escalado)**. \n",
    "\n",
    "* **Escalar los datos utilizando el método de *MinMaxScaler()* dentro del rango [0,1].**"
   ]
  },
  {
   "cell_type": "code",
   "execution_count": 18,
   "metadata": {},
   "outputs": [],
   "source": [
    "from sklearn.preprocessing import MinMaxScaler\n",
    "\n",
    "### Escribe aquí tu código ###\n",
    "\n",
    "# Imprimir cabecera para ver como están escalados los valores\n",
    "# X_scaled.head()"
   ]
  },
  {
   "cell_type": "markdown",
   "metadata": {},
   "source": [
    "## *5. Dividir los datos*\n",
    "\n",
    "Se utiliza la semilla ***randome_state=0*** para todos los ejercicios. ***Suffle=True*** indica que los datos se reparten de forma aleatoria entre entreno y prueba. Esto reduce la varianza y evita que el modelo no cree un sobreajuste (overfitting). "
   ]
  },
  {
   "cell_type": "code",
   "execution_count": 19,
   "metadata": {},
   "outputs": [],
   "source": [
    "from sklearn.model_selection import train_test_split\n",
    "\n",
    "test_size = 0.2  # porcentaje de los datos de entrada que utilizaré para validar el modelo\n",
    "\n",
    "# Divido los datos en datos de entreno, validación y prueba\n",
    "# X_train, X_test, y_train, y_test = train_test_split(### Escribe aquí tu código ###, test_size=test_size, random_state=0,\n",
    "#                                                     shuffle=True)\n",
    "\n",
    "# X_train, X_val, y_train, y_val = train_test_split(X_train, y_train, test_size=test_size, random_state=0,\n",
    "#                                                     shuffle=True)"
   ]
  },
  {
   "cell_type": "markdown",
   "metadata": {},
   "source": [
    "## *6. Construcción y evaluación de modelos*"
   ]
  },
  {
   "cell_type": "markdown",
   "metadata": {},
   "source": [
    "* Selecciona **balanced_accuracy** como métrica de evaluación. \n",
    "* **num_folds = 15**\n",
    "* Evalúa los siguientes algoritmos: \n",
    "    * **Logistic Regression** *LogisticRegression()*\n",
    "    * **Random Forest** *RandomForestClassifier()*\n",
    "    * **Multi-layer Perceptron**  *MLPClassifier()*\n",
    "    * **K-nearest neighbors Classifier** *KNeighborsClassifier()*\n",
    "* Utiliza el **StratifiedShuffleSplit** \n",
    "* Recordar utilizar siempre random_state=0 para poder comparar resultados. "
   ]
  },
  {
   "cell_type": "code",
   "execution_count": 23,
   "metadata": {
    "scrolled": true
   },
   "outputs": [],
   "source": [
    "# Importar librerías de los algoritmos\n",
    "\n",
    "### Escribe aquí tu código ###\n",
    "\n",
    "\n",
    "num_folds = ### Escribe aquí tu código ###\n",
    "error_metrics = {### Escribe aquí tu código ###}\n",
    "# models = {### Escribe aquí tu código ###}  \n",
    "\n",
    "\n",
    "results = [] # guarda los resultados de las métricas de evaluación\n",
    "names = []  # Nombre de cada algoritmo\n",
    "msg = []  # imprime el resumen del método de cross-validation\n"
   ]
  },
  {
   "cell_type": "markdown",
   "metadata": {},
   "source": [
    "* **¿Cuál obtiene mejores resultados?** \n",
    "* **¿Qué balanced_accuracy obtiene?** "
   ]
  },
  {
   "cell_type": "code",
   "execution_count": 22,
   "metadata": {
    "scrolled": true
   },
   "outputs": [],
   "source": [
    "from sklearn.model_selection import cross_val_score, GridSearchCV\n",
    "from sklearn.model_selection import ### Escribe aquí tu código ### \n",
    "\n",
    "# Entreno con validación cruzada\n",
    "for scoring in error_metrics:\n",
    "    print('Métrica de evaluación: ', scoring)\n",
    "    for name, model in models:\n",
    "        print('Modelo ', name)\n",
    "#         cross_validation = ### Escribe aquí tu código ###\n",
    "        cv_results = cross_val_score(model, X_train, y_train, cv=cross_validation, scoring=scoring)\n",
    "        results.append(cv_results)\n",
    "        names.append(name)\n",
    "        resume = (name, cv_results.mean(), cv_results.std())\n",
    "        msg.append(resume)\n",
    "    print(msg)\n",
    "\n",
    "    # Comparar resultados entre algoritmos\n",
    "    fig = plt.figure()\n",
    "    fig.suptitle('Comparación de algoritmos con métrica de evaluación: %s' %scoring)\n",
    "    ax = fig.add_subplot(111)\n",
    "    ax.set_xlabel('Modelos candidatos')\n",
    "    ax.set_ylabel('%s' %scoring)\n",
    "    plt.boxplot(results)\n",
    "    ax.set_xticklabels(names)\n",
    "    plt.show()\n",
    "\n",
    "    results = []\n"
   ]
  },
  {
   "cell_type": "markdown",
   "metadata": {},
   "source": [
    "## *7. Ajustar hiperparámetros*\n",
    "\n",
    "Pasos para realizar el hiperajuste de los parámetros:\n",
    "\n",
    "* Métrica para optimizar: *balanced_accuracy*\n",
    "* Definir los rangos de los parámetros de búsqueda: *params*\n",
    "* Asignar un método de validación: *StratifiedShuffleSplit* (n_splits = 10)\n",
    "* Entrenar con los datos de validación: *X_val*"
   ]
  },
  {
   "cell_type": "code",
   "execution_count": 42,
   "metadata": {},
   "outputs": [],
   "source": [
    "\n",
    "modelo = ### Escribe aquí tu código ###\n",
    "params = {### Escribe aquí tu código ###}\n",
    "scoring= ### Escribe aquí tu código ###\n",
    "cross_validation = ### Escribe aquí tu código ###\n",
    "my_cv = cross_validation.split(X_val, y_val)\n",
    "gsearch = GridSearchCV(estimator=modelo, param_grid=params, scoring=scoring, cv=my_cv)\n",
    "gsearch.fit(X_val, y_val)\n",
    "\n",
    "print(\"Mejor resultado: %f utilizando los siguientes hiperparámetros %s\" % (gsearch.best_score_, gsearch.best_params_))\n",
    "means = gsearch.cv_results_['mean_test_score']\n",
    "stds = gsearch.cv_results_['std_test_score']\n",
    "params = gsearch.cv_results_['params']"
   ]
  },
  {
   "cell_type": "markdown",
   "metadata": {},
   "source": [
    "## *8. Evaluación final del modelo*\n",
    "\n"
   ]
  },
  {
   "cell_type": "markdown",
   "metadata": {},
   "source": [
    "Métricas de evaluación:\n",
    "  * 1. Matriz de confusión\n",
    "  * 2. Coeficiente de Matthews (MCC)\n",
    "  * 3. Curva ROC / AUC\n",
    "\n",
    "    \n",
    "**Entrena el modelo con los hiperparámetros óptimos encontrados en el apartado anterior y realiza las predicciones.** "
   ]
  },
  {
   "cell_type": "code",
   "execution_count": 317,
   "metadata": {},
   "outputs": [],
   "source": [
    "\n",
    "modelo_final = ### Escribe aquí tu código ###\n",
    "modelo_final.fit(X_train,y_train)  # Se entrena al modelo\n",
    "y_predict = modelo_final.predict(X_test)  # Se calculan las predicciones\n"
   ]
  },
  {
   "cell_type": "markdown",
   "metadata": {},
   "source": [
    "**¿Qué atributos tienen más peso en el modelo?**  \n",
    "Automaticamente calcula los atributos más importantes seleccionando el mejor modelo del GridSearch. Tan solo hay que ejecutar esta casilla."
   ]
  },
  {
   "cell_type": "code",
   "execution_count": 43,
   "metadata": {},
   "outputs": [],
   "source": [
    "# Imprimir la importancia de cada atributo\n",
    "\n",
    "# importancia_atributos = gsearch.best_estimator_.feature_importances_\n",
    "\n",
    "# std = np.std([tree.feature_importances_ for tree in gsearch.best_estimator_.estimators_],axis=0)\n",
    "# indices = np.argsort(importancia_atributos)[::-1]\n",
    "\n",
    "# # Print the feature ranking\n",
    "# print(\"Ranking de importancia de atributos:\")\n",
    "# for f in range(X_scaled.shape[1]):\n",
    "#     print(\"%d. Atributo %d (%f)\" % (f + 1, indices[f], importancia_atributos[indices[f]]))\n"
   ]
  },
  {
   "cell_type": "markdown",
   "metadata": {},
   "source": [
    "**1. Matriz de confusión**"
   ]
  },
  {
   "cell_type": "code",
   "execution_count": 2,
   "metadata": {},
   "outputs": [],
   "source": [
    "from sklearn.metrics import confusion_matrix, classification_report, plot_confusion_matrix\n",
    "\n",
    "confusion_matrix = confusion_matrix(y_test, y_predict)\n",
    "print(classification_report(y_test, y_predict))\n",
    "print(confusion_matrix)"
   ]
  },
  {
   "cell_type": "code",
   "execution_count": 45,
   "metadata": {},
   "outputs": [],
   "source": [
    "# Gráfico no normalizado de la martiz de confusión\n",
    "\n",
    "# plot_confusion_matrix()"
   ]
  },
  {
   "cell_type": "markdown",
   "metadata": {},
   "source": [
    "**2. Coeficiente de Matthews (MCC)**\n",
    "\n",
    "El MCC utiliza coeficientes de correlación entre -1 y +1. \n",
    "* Coeficiente +1 representa una predicción perfecta\n",
    "* Coeficiente 0 representa una predicción media aleatoria\n",
    "* Coeficiente -1 representa una predicción inversa. "
   ]
  },
  {
   "cell_type": "code",
   "execution_count": 46,
   "metadata": {},
   "outputs": [],
   "source": [
    "from sklearn.metrics import matthews_corrcoef\n",
    "\n",
    "### Escribe aquí tu código ###"
   ]
  },
  {
   "cell_type": "markdown",
   "metadata": {},
   "source": [
    "**3. Curva ROC / AUC**\n",
    "\n",
    "* **Curva ROC**: Curva de la tasa de verdaderos positivos frente a la tasa de falsos positivos en diferentes umbrales de clasificación.\n",
    "\n",
    "* **AUC** (Area under the curve): El área bajo la curva (AUC) ROC es la probabilidad de que un clasificador tenga más seguridad de que un ejemplo positivo elegido al azar sea realmente positivo con respecto a que un ejemplo negativo elegido al azar sea positivo."
   ]
  },
  {
   "cell_type": "code",
   "execution_count": 47,
   "metadata": {},
   "outputs": [],
   "source": [
    "from sklearn.metrics import roc_auc_score, plot_roc_curve\n",
    "\n",
    "plot_roc_curve(### Escribe aquí tu código ###)\n",
    "auc = roc_auc_score(### Escribe aquí tu código ###)\n",
    "print('AUC: %.3f' % auc)"
   ]
  }
 ],
 "metadata": {
  "kernelspec": {
   "display_name": "Python 3",
   "language": "python",
   "name": "python3"
  },
  "language_info": {
   "codemirror_mode": {
    "name": "ipython",
    "version": 3
   },
   "file_extension": ".py",
   "mimetype": "text/x-python",
   "name": "python",
   "nbconvert_exporter": "python",
   "pygments_lexer": "ipython3",
   "version": "3.7.3"
  }
 },
 "nbformat": 4,
 "nbformat_minor": 2
}
