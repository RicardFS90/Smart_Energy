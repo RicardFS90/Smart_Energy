{
 "cells": [
  {
   "cell_type": "markdown",
   "metadata": {},
   "source": [
    "<img src=\"Figures/top_ML.png\" alt=\"Drawing\" style=\"width: 1000px;\"/>"
   ]
  },
  {
   "cell_type": "markdown",
   "metadata": {
    "slideshow": {
     "slide_type": "slide"
    }
   },
   "source": [
    "# Introducción a Python    "
   ]
  },
  {
   "cell_type": "markdown",
   "metadata": {},
   "source": [
    "### CONTENIDOS\n",
    "1. Introducción a Jupyter Notebooks \n",
    "2. Variables y estructuras de datos \n",
    "3. Estructuras condicionales \n",
    "4. Listas y loops \n",
    "5. Diccionarios y tablas de frecuencia\n",
    "6. Funciones \n",
    "7. Funciones avanzadas \n",
    "8. Lenguaje orientado a objetos \n",
    "9. Introducción a NumPy \n",
    "10. Introducción a Pandas - Ricard\n",
    "11. Creación de gráficos y visualización - Ricard"
   ]
  },
  {
   "cell_type": "markdown",
   "metadata": {},
   "source": [
    "## 1. Introducción a Jupyter Notebooks\n",
    "\n",
    "<img src=\"Figures/Jupyter.png\" alt=\"Drawing\" style=\"width: 200px;\"/>\n",
    "\n",
    "Jupyter notebooks es un entorno (IDE) que nos permite intercalar contenido de texto (se llamará cela 'Markdown') con código Python (tipo de cela 'Code') que se puede ejecutar cela por cela como se puede ver en los siguientes ejemplos. \n",
    "\n",
    "Los comando básicos para poder seguir este curso y empezar a usar Jupyter Notebooks son:\n",
    "\n",
    "<img src=\"Figures/menu.png\" alt=\"Drawing\" style=\"width: 500px;\"/>\n",
    "\n",
    "* `Shift+Enter`: Ejecutar cela y seleccionar siguiente cela\n",
    "* `Alt+Enter`: Ejecutar cela y insertar una cela nueva\n",
    "* `ESC`: para entrar en modo 'command'. Una vez en este modo:\n",
    "    * `H` lista de comandos\n",
    "    * `A` insertar cela debajo\n",
    "    * `B` insterar cela arriba\n",
    "    * `D,D` D dos veces eleimina la cela\n",
    "    * `Y` cambiar cela a tipo 'Code'\n",
    "    * `M` cambiar cela a 'Markdown'\n",
    "    * `Enter`pasar a modo edit"
   ]
  },
  {
   "cell_type": "markdown",
   "metadata": {},
   "source": [
    "#### Ejecutar la cela de debajo usando alguno de los comandos aprendidos"
   ]
  },
  {
   "cell_type": "code",
   "execution_count": null,
   "metadata": {
    "scrolled": true,
    "slideshow": {
     "slide_type": "subslide"
    }
   },
   "outputs": [],
   "source": [
    "3 + 4 + 9"
   ]
  },
  {
   "cell_type": "code",
   "execution_count": null,
   "metadata": {
    "scrolled": true
   },
   "outputs": [],
   "source": [
    "# Ejemplo de código en Python\n",
    "# Cambiar los valores de a y b, y observar el resultado al ejecutar la cela \n",
    "\n",
    "a=87\n",
    "b=34\n",
    "c=a+b\n",
    "\n",
    "print('El resultado de sumar {} y {} es {}.'.format(a,b,c))"
   ]
  },
  {
   "cell_type": "markdown",
   "metadata": {},
   "source": [
    "## 2. Variables y estructuras de datos\n",
    "\n",
    "Las variables en Python se crean cuando se definen por primera vez, es decir, cuando se les asigna un valor por primera vez (utilizando el operador <code> = </code>). Por esta razón, en Python no hace falta declarar las variables. \n",
    "\n",
    "Los principales tipos de variables que se pueden encontrar son:\n",
    "* **Numéricas**\n",
    "    * **Integer (int):** Números naturales positivos y negativos.\n",
    "    * **Float:** Números reales.\n",
    "    * **Complex:** Números complejos. La parte imaginaria se multiplica por `j` para representar la raíz de `-1`. Por ejemplo: <code>a = 2+3j</code>\n",
    "* **Boleanas**\n",
    "    Son variables que pueden tomar como valor cierto o falso, representados en Python por `True` y `False` usando mayúsculas.\n",
    "* **Estructuras de datos (secuencias de datos)**\n",
    "    Lista ordenada de valores del mismo o distinto tipo. En Python existen:\n",
    "    * **String:** cadenas de texto\n",
    "    * **Lista:** conjuntos ordenados de elementos\n",
    "    * **Tupla:** conjuntos ordenados e inmutables de elementos\n",
    "    * **Diccionario:** conjuntos de elementos caracterizados por un identificador y un valor    "
   ]
  },
  {
   "cell_type": "markdown",
   "metadata": {},
   "source": [
    "Existen algunas reglas generales para los nombres de variables:\n",
    "+ Se usan solo letras, números y \"guiones bajos\" (_)\n",
    "+ NO se usan espacios en ningún lugar del nombre\n",
    "+ El nombre no puede empezar con un número\n",
    "+ Las letras mayúsculas se tratan como distintas de las minúsculas (es decir, Python distingue entre mayúsculas y minúsculas)"
   ]
  },
  {
   "cell_type": "code",
   "execution_count": null,
   "metadata": {
    "scrolled": true
   },
   "outputs": [],
   "source": [
    "3a = 10"
   ]
  },
  {
   "cell_type": "markdown",
   "metadata": {},
   "source": [
    "Cada vez que se crea o modifica una variable, Python interpreta qué tipo de variable es. Cuando se asigna un nuevo valor a un objeto existente (*escritura dinámica*), los valores anteriores de ese objeto se borran de la memoria de la computadora. El primer valor de **a** es el número real 13.0, pero después de una nueva asignación:"
   ]
  },
  {
   "cell_type": "code",
   "execution_count": null,
   "metadata": {},
   "outputs": [],
   "source": [
    "a = 13.0\n",
    "a = 'b'\n",
    "print(a)"
   ]
  },
  {
   "cell_type": "markdown",
   "metadata": {},
   "source": [
    "La función *type()* muestra el TIPO del dato que le pasamos como argumento:"
   ]
  },
  {
   "cell_type": "code",
   "execution_count": null,
   "metadata": {
    "scrolled": true
   },
   "outputs": [],
   "source": [
    "# Declarar una variable a y mirar qué tipo de variable es utilizando \"type(nombre_variable)\"\n",
    "\n",
    "a=2\n",
    "type(a)"
   ]
  },
  {
   "cell_type": "code",
   "execution_count": null,
   "metadata": {
    "scrolled": true
   },
   "outputs": [],
   "source": [
    "# Probar de declarar otro tipo de variable y mirar qué tipo es\n",
    "\n",
    "a=2.0\n",
    "type(a)"
   ]
  },
  {
   "cell_type": "markdown",
   "metadata": {},
   "source": [
    "## 2.1 Tipos y operadores básicos\n",
    "\n",
    "Los operadores básicos en Python son:\n",
    "\n",
    "+ Suma (también para strings, tuplas o listas): <code>a + b</code>\n",
    "+ Resta: <code>a - b</code>\n",
    "+ Multiplicación (también para strings, tuplas y listas): <code>a * b</code>\n",
    "+ División: <code>a / b</code>\n",
    "+ Division entera: <code>a // b</code>\n",
    "+ Resto de la división o residuo: <code>a % b</code>\n",
    "+ Exponencial: <code>a ** b</code>\n",
    "+ Asignamiento: <code>=</code>, <code>-=</code>, <code>+=</code>,<code>/=</code>,<code>*=</code>, <code>%=</code>, <code>//=</code>, <code>**=</code>\n",
    "+ Comparaciones booleanas: <code>==</code>, <code>!=</code>, <code><</code>,<code>></code>,<code><=</code>, <code>>=</code>\n",
    "+ Operaciones booleanas: <code>and</code>, <code>or</code>, <code>not</code>\n",
    "+ Operaciones para comprobar pertenecencia: <code>in</code>, <code>not in</code>\n",
    "+ Operaciones para identificar objetos: <code>is</code>, <code>is not</code>\n",
    "<!-- + Bitwise operators (or, xor, and, complement): <code>|</code>, <code>^</code>, <code>&</code>, <code>~</code> -->\n",
    "<!-- + Left and right bit shift: <code><<</code>, <code>>></code> -->"
   ]
  },
  {
   "cell_type": "markdown",
   "metadata": {},
   "source": [
    "### Python como calculadora\n",
    "\n",
    "Python tiene una notación concisa para la aritmética que se parece mucho a la forma tradicional de escribir operaciones."
   ]
  },
  {
   "cell_type": "code",
   "execution_count": null,
   "metadata": {
    "scrolled": true
   },
   "outputs": [],
   "source": [
    "a = 3+2\n",
    "b= 3.5 * -8\n",
    "c = 10/6\n",
    "print(a, b, c, 10./6.)"
   ]
  },
  {
   "cell_type": "code",
   "execution_count": null,
   "metadata": {},
   "outputs": [],
   "source": [
    "# Ejemplo\n",
    "\n",
    "a = 12\n",
    "b = 13.3\n",
    "c = a + b\n",
    "print (c, type(a), type(b), type(c))"
   ]
  },
  {
   "cell_type": "markdown",
   "metadata": {},
   "source": [
    "### Módulos \n",
    "\n",
    "Algunas funciones matemáticas más complejas no están disponibles en el módulo básico de Python y deben importarse desde un módulo específico. Para importar librerías, solo se debe escribir \"import + el nombre de la librería\".\n",
    "\n",
    "<img src=\"Figures/python_import.jfif\" alt=\"Drawing\" style=\"width: 250px;\"/>\n",
    "\n",
    "En cada caso se deberá leer bien la documentación de las librerías usadas para concocer sus características y saber como implementarlas. Por ejemplo, para math:\n",
    "\n",
    "https://docs.python.org/3/library/math.html"
   ]
  },
  {
   "cell_type": "code",
   "execution_count": null,
   "metadata": {
    "scrolled": true
   },
   "outputs": [],
   "source": [
    "import math   # solo se ejecutará si la librería no ha estado importada previamente\n",
    "print(math.pi + math.sin(100) + math.ceil(2.3))"
   ]
  },
  {
   "cell_type": "markdown",
   "metadata": {},
   "source": [
    "### Operadores booleanos"
   ]
  },
  {
   "cell_type": "code",
   "execution_count": null,
   "metadata": {
    "scrolled": true
   },
   "outputs": [],
   "source": [
    "a = 4\n",
    "b = 40\n",
    "(a>2) and (b>30)"
   ]
  },
  {
   "cell_type": "code",
   "execution_count": null,
   "metadata": {
    "scrolled": true
   },
   "outputs": [],
   "source": [
    "(a>2) or (b>100)"
   ]
  },
  {
   "cell_type": "code",
   "execution_count": null,
   "metadata": {
    "scrolled": true
   },
   "outputs": [],
   "source": [
    "not(a>2)"
   ]
  },
  {
   "cell_type": "markdown",
   "metadata": {},
   "source": [
    "## 2.2 Estructuras de datos\n",
    "\n",
    "### Strings o cadenas de texto\n",
    "\n",
    "El texto en Python se trata como una lista de carcateres. De esta manera, la metodología que aplica al tratamiento de listas, puede ser aplicada a las cadenas de texto."
   ]
  },
  {
   "cell_type": "code",
   "execution_count": null,
   "metadata": {
    "scrolled": true
   },
   "outputs": [],
   "source": [
    "a = 'python'\n",
    "type(a)"
   ]
  },
  {
   "cell_type": "code",
   "execution_count": null,
   "metadata": {
    "scrolled": true
   },
   "outputs": [],
   "source": [
    "print(\"Hello\" )"
   ]
  },
  {
   "cell_type": "code",
   "execution_count": null,
   "metadata": {
    "scrolled": true
   },
   "outputs": [],
   "source": [
    "print(\"Esto es 'un ejemplo' de como usar comillas dentro de un texto que se escribe entre comillas dobles\")\n",
    "print('Aquí tenemos \"otro ejemplo\" pero ahora al revés')"
   ]
  },
  {
   "cell_type": "markdown",
   "metadata": {},
   "source": [
    "Para juntar cadenas de carácteres se puede usar el operador '+':"
   ]
  },
  {
   "cell_type": "code",
   "execution_count": null,
   "metadata": {
    "scrolled": true
   },
   "outputs": [],
   "source": [
    "a = 'He'\n",
    "b = 'llo'\n",
    "c = a+b+'!'\n",
    "print(c)"
   ]
  },
  {
   "cell_type": "markdown",
   "metadata": {},
   "source": [
    "Para acceder a solo una parte de una lista o, en este caso, de una *string*, se usa la técnica denominada **slicing**. El formato a seguir para coger solo una parte de la string es el siguiente:\n",
    "\n",
    "# <center>nombre_variable[indice_primer_elemento:indice_final:step]</center>\n",
    "\n",
    "Donde el funcionamiento de los índices se pueden ver en la siguiente imagen\n",
    "\n",
    "![Slicing1](Figures/slicing1.png)\n"
   ]
  },
  {
   "cell_type": "code",
   "execution_count": null,
   "metadata": {
    "scrolled": true
   },
   "outputs": [],
   "source": [
    "#Ejemplos\n",
    "a = 'Python'\n",
    "print(a[:], a[0], a[2:], a[:3], a[2:4], a[::2], a[1::2])"
   ]
  },
  {
   "cell_type": "markdown",
   "metadata": {},
   "source": [
    "#### Ejercicio\n",
    "Con una línia de codigo, conseguir los siguientes sets de caracteres:\n",
    "- Primera letra.\n",
    "- De la letra 2 a la 4\n",
    "- Úlimas 3 letras\n",
    "- Solo las letras en posición par, des de la número 4 al final\n",
    "- Todo el texto al revés\n"
   ]
  },
  {
   "cell_type": "code",
   "execution_count": null,
   "metadata": {},
   "outputs": [],
   "source": [
    "texto = \"Texto de prueba para hacer el ejercicio\"\n",
    "primera_letra = print(texto[0])"
   ]
  },
  {
   "cell_type": "markdown",
   "metadata": {},
   "source": [
    "En el caso de los *strings* hay métodos en Python que vienen por defecto que nos pueden ser útiles. Por ejemplo las funciones siguientes:\n",
    "- len: devuelve la longitud el texto.\n",
    "- str: convierte eun número en string.\n",
    "- reverse: devuelve el texto al revés.\n",
    "\n",
    "Para usar una fucnión se pondrá nombre_de_la_función(nombre_variable)\n",
    "\n",
    "También podemos usar métodos propios para strings:\n",
    "- lower: convierte todo el texto en mínusculas.\n",
    "- upper: convierte todo el texto en mayúsculas.\n",
    "- capitalize: pone en mayúsculas la primera letra del string.\n",
    "- split(delimitador): devuelve una lista de substrings separados por el delimitador indicado (ver ejemplos más adelante)\n",
    "\n",
    "Para usar un método se pondrá nombre_variable.nombre_del_métdodo\n"
   ]
  },
  {
   "cell_type": "code",
   "execution_count": null,
   "metadata": {},
   "outputs": [],
   "source": [
    "texto='vamos a hacer pruebas con las funciones y métodos de Strings!'\n",
    "print(len(texto))\n",
    "print(texto.lower())\n",
    "print(texto.split(' '))\n",
    "# En una línia, devuelve la 4a palabra del texto todo en mayúsculas!\n"
   ]
  },
  {
   "cell_type": "markdown",
   "metadata": {},
   "source": [
    "### Lists\n",
    "\n",
    "Las listas son un tipo de Python que sirven para agrupar objetos de otros tipos (incluso listas!). Por ejemplo una lista de números, de floats, de strings, de otras listas, etc. \n",
    "\n",
    "Las listas, como los strings, pueden usar la metodología de *slicing*\n"
   ]
  },
  {
   "cell_type": "code",
   "execution_count": null,
   "metadata": {
    "scrolled": true
   },
   "outputs": [],
   "source": [
    "l=[]\n",
    "type(l)"
   ]
  },
  {
   "cell_type": "code",
   "execution_count": null,
   "metadata": {},
   "outputs": [],
   "source": [
    "# Crear lista\n",
    "mi_lista = [0,5,'6',34,'Hola']\n",
    "mi_lista"
   ]
  },
  {
   "cell_type": "code",
   "execution_count": null,
   "metadata": {},
   "outputs": [],
   "source": [
    "# Acceder a un elemento de la lista\n",
    "a = mi_lista[2]\n",
    "a"
   ]
  },
  {
   "cell_type": "code",
   "execution_count": null,
   "metadata": {},
   "outputs": [],
   "source": [
    "# Canviar un elemento de una lista\n",
    "mi_lista[-1]='Adiós'\n",
    "mi_lista"
   ]
  },
  {
   "cell_type": "code",
   "execution_count": null,
   "metadata": {},
   "outputs": [],
   "source": [
    "# Podemos tener lista de listas!\n",
    "mi_lista=[45,[3,5,6],'palabra',34.6,['a','b','c']]\n",
    "print(mi_lista)\n",
    "print(mi_lista[1])\n",
    "print(mi_lista[1][2])\n",
    "# acceder a la letra c!"
   ]
  },
  {
   "cell_type": "markdown",
   "metadata": {},
   "source": [
    "Para las listas también hay funciones y métodos en Python que vienen por defecto que nos pueden ser útiles. Por ejemplo las funciones siguientes:\n",
    "- len: devuelve la longitud de la lista.\n",
    "- list: crear lista\n",
    "\n",
    "Para usar una fucnión se pondrá nombre_de_la_función(nombre_variable)\n",
    "\n",
    "También podemos usar métodos propios para listas:\n",
    "- append: añadir elemento al final de la lista.\n",
    "- insert: añdir un elemento en una posición particular.\n",
    "- pop: quitar el último elemento de la lista.\n",
    "- remove: quitar un elemento en particular.\n",
    "- sort: ordenar la lista\n",
    "\n",
    "Para usar un método se pondrá nombre_variable.nombre_del_métdodo"
   ]
  },
  {
   "cell_type": "code",
   "execution_count": null,
   "metadata": {
    "scrolled": true
   },
   "outputs": [],
   "source": [
    "mi_lista=['primero','hola','prueba','adiós','zoológico','máster']\n",
    "print(mi_lista)\n",
    "mi_lista.append('último')\n",
    "print(mi_lista)\n",
    "mi_lista.insert(1,'segundo')\n",
    "print(mi_lista)\n",
    "mi_lista.pop()\n",
    "print(mi_lista)\n",
    "mi_lista.remove('prueba')\n",
    "print(mi_lista)\n",
    "mi_lista.sort()\n",
    "print(mi_lista)"
   ]
  },
  {
   "cell_type": "markdown",
   "metadata": {},
   "source": [
    "### Dictionaries\n",
    "\n",
    "Un diccionario es otra manera de agrupar datos donde se puede acceder a un *element* a través de su *key*. Por ejemplo:"
   ]
  },
  {
   "cell_type": "code",
   "execution_count": null,
   "metadata": {},
   "outputs": [],
   "source": [
    "esta_instalacion = {\n",
    "    'Potencia': 10,\n",
    "    'Tipo': 'Solar',\n",
    "    'Año_construccion':2012\n",
    "}"
   ]
  },
  {
   "cell_type": "code",
   "execution_count": null,
   "metadata": {},
   "outputs": [],
   "source": [
    "esta_instalacion['Tipo']"
   ]
  },
  {
   "cell_type": "markdown",
   "metadata": {},
   "source": [
    "Otro ejemplo podría ser:"
   ]
  },
  {
   "cell_type": "code",
   "execution_count": null,
   "metadata": {
    "scrolled": true
   },
   "outputs": [],
   "source": [
    "dict = {\"Instalacion_1\": \"Solar\", \"Instalacion_2\": \"Eólica\", \"Instalacion_3\": \"Eólica\", \"Instalacion_4\": \"Hidráulica\", \"Instalacion_5\": \"Solar\",}\n",
    "print(dict)"
   ]
  },
  {
   "cell_type": "markdown",
   "metadata": {},
   "source": [
    "Para acceder a algun elemento, modificar o añadir, se podrá hacer de forma parecida a las listas:"
   ]
  },
  {
   "cell_type": "code",
   "execution_count": null,
   "metadata": {
    "scrolled": true
   },
   "outputs": [],
   "source": [
    "#acceder\n",
    "dict[\"Instalacion_1\"]"
   ]
  },
  {
   "cell_type": "code",
   "execution_count": null,
   "metadata": {},
   "outputs": [],
   "source": [
    "# modificar\n",
    "print(dict)\n",
    "dict[\"Instalacion_1\"]=\"Eólica\"\n",
    "print(dict)"
   ]
  },
  {
   "cell_type": "code",
   "execution_count": null,
   "metadata": {},
   "outputs": [],
   "source": [
    "print(dict)\n",
    "dict[\"Instalacion_6\"]=\"Solar\"\n",
    "print(dict)"
   ]
  },
  {
   "cell_type": "markdown",
   "metadata": {
    "scrolled": true
   },
   "source": [
    "Los diccionarios pueden contener todos los tipos (int, floats, listas, otros diccionarios, etc.)"
   ]
  },
  {
   "cell_type": "code",
   "execution_count": null,
   "metadata": {},
   "outputs": [],
   "source": [
    "dict = {\"Instalacion_1\": [\"Solar\", '10 MW'], \"Instalacion_2\": [\"Eólica\", '15 MW'], \"Instalacion_3\": [\"Solar\", '18 MW'], \"Instalacion_4\": [\"Hidráulica\", '12 MW'], \"Instalacion_5\": [\"Solar\", '23 MW'], \"Instalacion_6\": [\"Eólica\", '8 MW'],\"Instalacion_7\": [\"Solar\", '11 MW'], \"Instalacion_8\": [\"Hidráulica\", '11 MW']}\n",
    "dict"
   ]
  },
  {
   "cell_type": "code",
   "execution_count": null,
   "metadata": {},
   "outputs": [],
   "source": [
    "dict['Instalacion_3'][1]"
   ]
  },
  {
   "cell_type": "code",
   "execution_count": null,
   "metadata": {},
   "outputs": [],
   "source": [
    "#Suma 3 MW a la instalación 4 y modifica el diccionario!"
   ]
  },
  {
   "cell_type": "markdown",
   "metadata": {},
   "source": [
    "### Tuples\n",
    "\n",
    "Tuples son listas **que no permiten ser modificadas!**. \n",
    "\n",
    "Su sintaxis es igual que en las listas, però para escribir una tupla se usan paréntesis y no corchetes."
   ]
  },
  {
   "cell_type": "code",
   "execution_count": null,
   "metadata": {
    "scrolled": true
   },
   "outputs": [],
   "source": [
    "misupertupla = ('Solar', 'Eólica', 'Hidráulica', 'Gas', 'Nuclear', 'NoQueremosMásCarbón')\n",
    "print(type(misupertupla), misupertupla[4:])"
   ]
  },
  {
   "cell_type": "code",
   "execution_count": null,
   "metadata": {
    "scrolled": true
   },
   "outputs": [],
   "source": [
    "misupertupla[0]='PV'"
   ]
  },
  {
   "cell_type": "markdown",
   "metadata": {},
   "source": [
    "Access to the functions, variables and classes of a module depends on the way the module was imported:"
   ]
  },
  {
   "cell_type": "markdown",
   "metadata": {},
   "source": [
    "## 3. Estructuras condicionales (if)"
   ]
  },
  {
   "cell_type": "markdown",
   "metadata": {},
   "source": [
    "Las estructuras de control condicionales permiten ejecutar una parte del código o otro en función de la evaluación de una o varis condiciones booleanas de SI o NO (**<code>TRUE</code>** o **<code>FALSE</code>**).\n",
    "\n",
    "En Python, las estructuras de control condicionales se definen mediante las palabras **<code>if</code>**, **<code>elif</code>** y **<code>else</code>**.\n",
    "\n",
    "- **<code>if CONDICION:</code>** si se cumple la expresión condicional se ejecuta el bloque de código a continuación.\n",
    "- **<code>elif CONDICION:</code>** de lo contrario, si se cumple esta expresión condicional se ejecuta este otro bloque de código.\n",
    "- **<code>else:</code>** de lo contrario, se ejecuta este bloque de código a continuación sin evaluar ninguna condición.\n",
    "\n",
    "\n",
    "La condición es normalmente evaluada mediante los siguientes operadores relacionales <code> <, <=, ==, >=, >, != </code>."
   ]
  },
  {
   "cell_type": "code",
   "execution_count": null,
   "metadata": {
    "scrolled": true
   },
   "outputs": [],
   "source": [
    "#Ejemplo\n",
    "\n",
    "celsius = 35\n",
    "fahrenheit = 9.0 /5.0 * celsius + 32\n",
    "\n",
    "print(\"La temperatura en Fahrenheit es\", fahrenheit)\n",
    "\n",
    "if fahrenheit > 90:\n",
    "    print(\"Hace calor\")\n",
    "elif fahrenheit < 30:\n",
    "    print(\"Hace frío\")\n",
    "else: print(\"No hace ni frío ni calor.\")"
   ]
  },
  {
   "cell_type": "markdown",
   "metadata": {
    "scrolled": true
   },
   "source": [
    "#### Ejercicio\n",
    "\n",
    "Crear un código para identificar si la variable **<code>numero</code>** es un numero positivo, negativo, o de valor 0. Guardar el resultado en una variable llamada **<code>numero</code>**"
   ]
  },
  {
   "cell_type": "code",
   "execution_count": null,
   "metadata": {},
   "outputs": [],
   "source": [
    "numero = 2\n"
   ]
  },
  {
   "cell_type": "markdown",
   "metadata": {},
   "source": [
    "## 4. Listas y loops"
   ]
  },
  {
   "cell_type": "markdown",
   "metadata": {},
   "source": [
    "### 4.2 Estructuras de control iterativas (for & while)\n",
    "\n",
    "Las estructuras de control iterativas (también llamadas bucles o loops), permiten ejecutar un mismo código de manera repetida mientras se cumpla una condición.\n",
    "\n",
    "Existen dos tipos de estructuras de control iterativas:\n",
    "\n",
    "* For\n",
    "* While\n",
    "\n",
    "La sentencia ``for`` de Python itera sobre los elementos de cualquier secuencia (una lista o una cadena de caracteres por ejemplo), en el orden que aparecen en la secuencia.\n",
    "\n",
    "El ciclo ``while`` permite realizar múltiples iteraciones basándose en el resultado de una expresión lógica que puede tener como resultado un valor ``True`` o ``False``.\n"
   ]
  },
  {
   "cell_type": "code",
   "execution_count": null,
   "metadata": {
    "scrolled": true
   },
   "outputs": [],
   "source": [
    "#Ejemplo de for\n",
    "\n",
    "for i in range(0,10,1):\n",
    "    print(i)"
   ]
  },
  {
   "cell_type": "code",
   "execution_count": null,
   "metadata": {
    "scrolled": true
   },
   "outputs": [],
   "source": [
    "#Ejemplo de while\n",
    "\n",
    "i=0\n",
    "while i < 10 :\n",
    "    print(i)\n",
    "    i= i+1"
   ]
  },
  {
   "cell_type": "markdown",
   "metadata": {},
   "source": [
    "**``If``** statesments can be combined with **loops** (``for``, ``while``):"
   ]
  },
  {
   "cell_type": "code",
   "execution_count": null,
   "metadata": {
    "scrolled": true
   },
   "outputs": [],
   "source": [
    "numbers = [-5, 3,2,-1,9,6]\n",
    "total = 0\n",
    "\n",
    "for n in numbers:\n",
    "    if n >= 0:\n",
    "        total += n\n",
    "\n",
    "print(total)"
   ]
  },
  {
   "cell_type": "code",
   "execution_count": null,
   "metadata": {
    "scrolled": true
   },
   "outputs": [],
   "source": [
    "def average(a):\n",
    "    sum = 0.0\n",
    "    for i in a:\n",
    "        sum = sum + i\n",
    "    return sum/len(a)\n",
    "\n",
    "average([1,2,3,4])"
   ]
  },
  {
   "cell_type": "code",
   "execution_count": null,
   "metadata": {
    "scrolled": true
   },
   "outputs": [],
   "source": [
    "def main(n):\n",
    "    cont = 0\n",
    "    while (int(n) > 0):\n",
    "        cont += 1\n",
    "        n = n/2\n",
    "#        print n\n",
    "    return cont-1\n",
    "\n",
    "main(10)\n",
    "# main(10.3)"
   ]
  },
  {
   "cell_type": "markdown",
   "metadata": {},
   "source": [
    "### 4.3 Lists (and dictionary) comprehensions\n",
    "\n",
    "Lists comprehensions are a way to fit a ``for`` loop, an ``if`` statement, and an assignment all in one line.\n",
    "\n",
    "A list comprehension consists of the following parts:\n",
    "\n",
    "+ An input sequence.\n",
    "+ A variable representing members of the input sequence.\n",
    "+ An optional expression.\n",
    "+ An output expression producing elements of the output list from members of the input sequence that satisfy the predicate.\n",
    "\n",
    "Map and filter can be rewrite like list comprehensions"
   ]
  },
  {
   "cell_type": "code",
   "execution_count": null,
   "metadata": {
    "scrolled": true
   },
   "outputs": [],
   "source": [
    "num = [1, 4, -5, 10, -7, 2, 3, -1]\n",
    "squared = [] #No pythonic! 4 lines, not just easy one! One iteration\n",
    "for i in num:\n",
    "     if i > 0:\n",
    "        squared.append(i**2)\n",
    "print(type(squared), squared)\n",
    "\n",
    "squared = [ x**2 for x in num if x > 0] # One itaration, first checks if it is true and then makes the computation\n",
    "print(type(squared), squared)\n",
    "\n",
    "squar2= map(lambda x: x**2 ,filter(lambda x: x>0, num))  ## Two iterations over num and over filtered list\n",
    "print(type(squared),list(squar2))"
   ]
  },
  {
   "cell_type": "markdown",
   "metadata": {},
   "source": [
    "+ Rewrite the previous map and filter examples using list comprhensions:"
   ]
  },
  {
   "cell_type": "code",
   "execution_count": null,
   "metadata": {
    "scrolled": true
   },
   "outputs": [],
   "source": [
    "#TODO here!"
   ]
  },
  {
   "cell_type": "markdown",
   "metadata": {},
   "source": [
    "\n",
    "* Iterating through two lists (using zip) vs nested fors vs Directories"
   ]
  },
  {
   "cell_type": "code",
   "execution_count": null,
   "metadata": {
    "scrolled": true
   },
   "outputs": [],
   "source": [
    "values1 = ['a','b','c','d']\n",
    "values2 = [1,2,3,4]\n",
    "\n",
    "print ([(i,j) for i in values1 for j in values2])\n",
    "\n",
    "print ([(i,j) for i,j in zip(values1,values2)])\n",
    "\n",
    "print ( {i:j for i,j in zip(values1,values2)} )\n",
    "    "
   ]
  },
  {
   "cell_type": "markdown",
   "metadata": {},
   "source": [
    "## 5. Diccionarios y tablas de frecuencia"
   ]
  },
  {
   "cell_type": "markdown",
   "metadata": {},
   "source": [
    "Los diccionarios son muy útiles para contar elementos en una lista, y crear una distribución de estos mediante una tabla de frecuencia. A continuación se puede observar un ejemplo donde se quiere saber qué número del 1 al 9 aparece más veces en una lista desordenada de números."
   ]
  },
  {
   "cell_type": "code",
   "execution_count": null,
   "metadata": {},
   "outputs": [],
   "source": [
    "mi_lista = [2,3,5,2,5,6,7,8,1,2,3,4,5,2,8,9,5,2,4,6,9,1,2,1,3,6,7,4,3,1,2,9,7,5,4,3,1,2,9,5,4,2,7,9,5,3,4,6,7,3,3,4,5]"
   ]
  },
  {
   "cell_type": "code",
   "execution_count": null,
   "metadata": {
    "scrolled": true
   },
   "outputs": [],
   "source": [
    "# Creamos un diccionario vacío \n",
    "freq = {} \n",
    "for numero in mi_lista: \n",
    "    if (numero in freq): \n",
    "        freq[numero] += 1\n",
    "    else: \n",
    "        freq[numero] = 1\n",
    "\n",
    "for key, value in freq.items(): \n",
    "    print (\"% d : % d\"%(key, value))"
   ]
  },
  {
   "cell_type": "markdown",
   "metadata": {},
   "source": [
    "De una lista de instalaciones, obtenemos estas tipologías de plantas de generación. ¿Qué tecnología tiene más plantas instaladas? \n",
    "\n",
    "¿Detectas algún problema con los nombres? ¿Cómo lo solucionarías?"
   ]
  },
  {
   "cell_type": "code",
   "execution_count": null,
   "metadata": {},
   "outputs": [],
   "source": [
    "instalaciones = ['Eólica', 'Solar', 'Hidráulica', 'Solar', 'Eólica', 'Hidráulica', 'Gas Natural', 'Solar', 'Eólica', 'Solar', 'Nuclear', 'Solar', 'Hidráulica', 'Hidráulica', 'Solar', 'Carbón', 'Eólica', 'Eólica', 'Solar', 'Solar', 'Solar', 'Hidráulica', 'Gas Natural', 'Hidráulica', 'Nuclear', 'Eólica', 'Eólica', 'Solar', 'Eólica', 'Gas Natural', 'Hidráulica', 'hidráulica', 'Solar', 'Eólica', 'Hidráulica', 'Solar', 'Eolica', 'Solar','eolica', 'Eólica', 'Solar', 'Solar', 'Hidráulica', 'Gas Natural', 'Solar', 'Gas Natural', 'Nuclear', 'eólica', 'Hidráulica', 'Hidráulica', 'Solar']\n",
    "instalaciones"
   ]
  },
  {
   "cell_type": "markdown",
   "metadata": {},
   "source": [
    "## 6. Funciones"
   ]
  },
  {
   "cell_type": "markdown",
   "metadata": {},
   "source": [
    "## 6.1 Funciones\n",
    "\n",
    "Una función es un bloque de código con un nombre asociado, que recibe cero o más argumentos como entrada, sigue una secuencia de sentencias donde se ejecutan las operaciones deseadas y devuelve un valor y/o realiza una tarea. Este bloque de código puede ser llamado cuando se necesite.\n",
    "\n",
    "En Python existen una serie de funciones integradas por defecto al lenguaje, pero también se pueden crear funciones definidas por el usuario para utilizarlas en sus propios programas. Para crear una función en python, se debe utilizar la palabra ``def`` para definir la función."
   ]
  },
  {
   "cell_type": "code",
   "execution_count": null,
   "metadata": {},
   "outputs": [],
   "source": [
    "#Ejemplo de función integrada en Python\n",
    "\n",
    "# La función input() nos permite asignar a una variable un valor ingresado por el usuario\n",
    "\n",
    "a = input()\n",
    "\n",
    "print('La variable introducida ha sido ' + a)"
   ]
  },
  {
   "cell_type": "code",
   "execution_count": null,
   "metadata": {
    "scrolled": true
   },
   "outputs": [],
   "source": [
    "def head(list):     #parameters separated by comma\n",
    "    return list[0]  #Identation means inside functions\n",
    "\n",
    "numbers=[1,2,3,4]\n",
    "print(head(numbers), numbers)"
   ]
  },
  {
   "cell_type": "code",
   "execution_count": null,
   "metadata": {
    "scrolled": true
   },
   "outputs": [],
   "source": [
    "def change_first_element(list):\n",
    "    list[0]=0 #it returns none!\n",
    "\n",
    "numbers=[1,2,3,4]\n",
    "change_first_element(numbers)\n",
    "print(numbers)"
   ]
  },
  {
   "cell_type": "markdown",
   "metadata": {},
   "source": [
    "If we return a list we are returning a reference:"
   ]
  },
  {
   "cell_type": "code",
   "execution_count": null,
   "metadata": {
    "scrolled": true
   },
   "outputs": [],
   "source": [
    "def tail(list):\n",
    "    return list[1:]     # we are creating a new list\n",
    "\n",
    "numbers=[1,2,3,4]\n",
    "rest = tail(numbers)\n",
    "print(rest, numbers)\n",
    "print(id(rest), id(numbers))"
   ]
  },
  {
   "cell_type": "code",
   "execution_count": null,
   "metadata": {
    "scrolled": true
   },
   "outputs": [],
   "source": [
    "# Press tab\n",
    "numbers.reverse()\n",
    "print(numbers)"
   ]
  },
  {
   "cell_type": "markdown",
   "metadata": {},
   "source": [
    "Sometimes it is important to perform a *sanity check* about what is doing a pre-defined function:"
   ]
  },
  {
   "cell_type": "code",
   "execution_count": null,
   "metadata": {
    "scrolled": true
   },
   "outputs": [],
   "source": [
    "numbers=[1,2,3,4]\n",
    "def test(l):\n",
    "    return l.reverse() #Reverse return NONE! \n",
    "print(numbers)\n",
    "print(numbers, test(numbers)) #Reverses changes the list INPLACE if we don't make a copy we will  alter the original numbers "
   ]
  },
  {
   "cell_type": "code",
   "execution_count": null,
   "metadata": {
    "scrolled": true
   },
   "outputs": [],
   "source": [
    "numbers=[1,2,3,4]\n",
    "\n",
    "def test(l):\n",
    "    l.reverse() #Reverse changes the list INPLACE, if we don't make a copy we will  alter the original numbers \n",
    "    return l\n",
    "\n",
    "print(numbers, test(numbers))\n",
    "print(id(numbers), id(test(numbers)))"
   ]
  },
  {
   "cell_type": "code",
   "execution_count": null,
   "metadata": {
    "scrolled": true
   },
   "outputs": [],
   "source": [
    "numbers=[1,2,3,4]\n",
    "\n",
    "def test(l):\n",
    "    a=l[:]\n",
    "    l.reverse() #Reverse changes the list INPLACE, if we don't make a copy we will alter the original numbers \n",
    "    return a\n",
    "\n",
    "print(numbers, test(numbers))\n",
    "print(id(numbers), id(test(numbers)))"
   ]
  },
  {
   "cell_type": "code",
   "execution_count": null,
   "metadata": {
    "scrolled": true
   },
   "outputs": [],
   "source": [
    "?list.reverse"
   ]
  },
  {
   "cell_type": "markdown",
   "metadata": {},
   "source": [
    "## 6.2 Ejemplos de funciones"
   ]
  },
  {
   "cell_type": "markdown",
   "metadata": {},
   "source": [
    "#### Factorial\n",
    "\n",
    "The factorial of a non-negative integer $n$, denoted by $n!$, is the product of all positive integers less than or equal to $n$.  "
   ]
  },
  {
   "cell_type": "code",
   "execution_count": null,
   "metadata": {
    "scrolled": true
   },
   "outputs": [],
   "source": [
    "def factorial(n):\n",
    "    fact = 1\n",
    "    for factor in range(n,0,-1):\n",
    "        fact = fact * factor\n",
    "    return fact"
   ]
  },
  {
   "cell_type": "code",
   "execution_count": null,
   "metadata": {
    "scrolled": true
   },
   "outputs": [],
   "source": [
    "factorial(100)"
   ]
  },
  {
   "cell_type": "markdown",
   "metadata": {},
   "source": [
    "#### Fibonacci\n",
    "\n",
    "The Fibonacci Sequence is the series of numbers: 0, 1, 1, 2, 3, 5, 8, 13, 21, 34, ...\n",
    "\n",
    "The general rule to compute the sequence is very simple: The next number is found by adding up the two numbers before it."
   ]
  },
  {
   "cell_type": "code",
   "execution_count": null,
   "metadata": {
    "scrolled": true
   },
   "outputs": [],
   "source": [
    "def fib1(n):\n",
    "    if n==1:\n",
    "        return 1\n",
    "    if n==0:\n",
    "        return 0\n",
    "    return fib1(n-1) + fib1(n-2)\n",
    "\n",
    "fib1(20)\n",
    "\n",
    "# this function cannot compute fib(100)"
   ]
  },
  {
   "cell_type": "code",
   "execution_count": null,
   "metadata": {
    "scrolled": true
   },
   "outputs": [],
   "source": [
    "def fib2(n):\n",
    "    a, b = 0, 1\n",
    "    for i in range(1,n+1):\n",
    "        a, b = b, a + b\n",
    "    return a\n",
    "\n",
    "n = 1000\n",
    "if n<15:\n",
    "    print(fib1(n))\n",
    "else: \n",
    "    print(fib2(n))"
   ]
  },
  {
   "cell_type": "markdown",
   "metadata": {},
   "source": [
    "#### Greatest Common Divisor\n",
    "\n",
    "The greatest common divisor of two positive integers $a$ and $b$ is the largest divisor common to $a$ and $b$.  The Euclidean algorithm, or Euclid's algorithm, is an interative method for computing the greatest common divisor of two integers. \n",
    "\n",
    "+ If $a<b$, exchange $a$ and $b$.\n",
    "+ Divide $a$ by $b$ and get the remainder, $r$. If $r=0$, report $b$ as the GCD of $a$ and $b$.\n",
    "+ Replace $a$ by $b$ and replace $b$ by $r$. If $r \\neq 0$ iterate.\n",
    "\n"
   ]
  },
  {
   "cell_type": "code",
   "execution_count": null,
   "metadata": {
    "scrolled": true
   },
   "outputs": [],
   "source": [
    "def gcd(a,b): # Euclides algorithm v1.0: pseudocode translation\n",
    "    r = 1\n",
    "    while r != 0:\n",
    "        if a<b:\n",
    "            c=a\n",
    "            a=b\n",
    "            b=c\n",
    "        r = a%b \n",
    "        if r == 0:\n",
    "            return b\n",
    "        else:\n",
    "            a = b\n",
    "            b = r\n",
    "\n",
    "gcd(100,16)"
   ]
  },
  {
   "cell_type": "code",
   "execution_count": null,
   "metadata": {
    "scrolled": true
   },
   "outputs": [],
   "source": [
    "def gcd(a,b):   # Euclides algorithm v2.0: idiomatic Python\n",
    "    while a:\n",
    "        a, b = b%a, a\n",
    "    return b\n",
    "\n",
    "gcd(100,16)"
   ]
  },
  {
   "cell_type": "code",
   "execution_count": null,
   "metadata": {
    "scrolled": true
   },
   "outputs": [],
   "source": [
    "a = 0\n",
    "a == False"
   ]
  },
  {
   "cell_type": "markdown",
   "metadata": {},
   "source": [
    "## 7. Funciones avanzadas"
   ]
  },
  {
   "cell_type": "markdown",
   "metadata": {},
   "source": [
    "En este apartado se verá como en alguna ocasiones, hay funciones simples que solo queremos usar una vez. Este uso no parece muy apropiado para las funciones de las que hemos hablado hasta ahora... Vamos a ver primer ejemplos dónde este tipo de funciones nos pueden ser de utilidad. Se trata de las funciones <code>map, filter y reduce<code>\n"
   ]
  },
  {
   "cell_type": "markdown",
   "metadata": {},
   "source": [
    "### 7.1 Map\n",
    "\n",
    "Con un \"map\" podemos aplicar una función a toda una lista de inputs. Por ejemplo si queremos coger una lista de números y aplicar el cuadrado a todos sus elementos podríamos hacer:\n"
   ]
  },
  {
   "cell_type": "code",
   "execution_count": null,
   "metadata": {},
   "outputs": [],
   "source": [
    "items = [1, 2, 3, 4, 5]\n",
    "squared = []\n",
    "for i in items:\n",
    "    squared.append(i**2)\n",
    "print(items)\n",
    "print(squared)"
   ]
  },
  {
   "cell_type": "markdown",
   "metadata": {},
   "source": [
    "Usando ``Map`` , tendríamos:"
   ]
  },
  {
   "cell_type": "code",
   "execution_count": null,
   "metadata": {},
   "outputs": [],
   "source": [
    "def square_item (x):\n",
    "    return x**2\n",
    "squared = list(map(square_item, items))\n",
    "print(items)\n",
    "print(squared)"
   ]
  },
  {
   "cell_type": "markdown",
   "metadata": {},
   "source": [
    "Como se puede ver ``map`` es una función que acepta una función como argumento\n",
    "\n",
    "``map(funcion a aplicar, lista de entrada)``\n",
    "\n"
   ]
  },
  {
   "cell_type": "markdown",
   "metadata": {},
   "source": [
    "### 7.2 Filter\n",
    "\n",
    "La función filter de una manera similar, devuelve una lista con aquellso elementos de una lista de entrada que cumple una cierta codició (filtra la lista de etrada con una condición determinada). Véamos como ejemplo, si queremos quitar los elementos negativos de una lista y quedarnos solo con los positivos y que sean pares"
   ]
  },
  {
   "cell_type": "code",
   "execution_count": null,
   "metadata": {},
   "outputs": [],
   "source": [
    "items=[2,5,-6,4,-1,2,7,-8,3,4,7,0,-1,-4,0,4,6,-8,0,1]\n",
    "positivos=[]\n",
    "for item in items:\n",
    "    if item>=0:\n",
    "        if item % 2 == 0:\n",
    "            positivos.append(item) \n",
    "print(items)\n",
    "print(positivos)"
   ]
  },
  {
   "cell_type": "code",
   "execution_count": null,
   "metadata": {},
   "outputs": [],
   "source": [
    "items=[2,5,-6,4,-1,2,7,-8,3,4,7,0,-1,-4,0,4,6,-8,0,1]\n",
    "def es_positivo(x):\n",
    "    return x>=0 and x%2==0\n",
    "positivos=list(filter(es_positivo, items))\n",
    "print(items)\n",
    "print(positivos)"
   ]
  },
  {
   "cell_type": "markdown",
   "metadata": {},
   "source": [
    "Se puede observar como su sitaxis es muy parecisa a la funció ``map``, pero usando ahora ``filter``\n",
    "\n",
    "``filter(funcion a aplicar, lista de entrada)``"
   ]
  },
  {
   "cell_type": "markdown",
   "metadata": {},
   "source": [
    "### 7.3 Reduce\n",
    "\n",
    "La función ``Reduce`` será muy útil cuando se quiera hacer un cálculo sobre una lista y obtener el resultado. Por ejemplo si queremos obtener el resultado de multiplicar los números de una lista haríamos:"
   ]
  },
  {
   "cell_type": "code",
   "execution_count": null,
   "metadata": {},
   "outputs": [],
   "source": [
    "producto = 1\n",
    "lista = [1,5,7,3,4,9,1,4,7,5,3,9,8,7,2]\n",
    "for num in lista:\n",
    "    producto = producto * num\n",
    "print(producto)"
   ]
  },
  {
   "cell_type": "markdown",
   "metadata": {},
   "source": [
    "Usando ``reduce``:"
   ]
  },
  {
   "cell_type": "code",
   "execution_count": null,
   "metadata": {},
   "outputs": [],
   "source": [
    "from functools import reduce\n",
    "lista = [1,5,7,3,4,9,1,4,7,5,3,9,8,7,2]\n",
    "def multiplicar(x,y):\n",
    "    return x*y\n",
    "producto = reduce(multiplicar, lista)\n",
    "print(producto)"
   ]
  },
  {
   "cell_type": "markdown",
   "metadata": {},
   "source": [
    "Vemos que para usar ``reduce`` se tiene que importar de ``functools`` y que tiene una sintaxis idética a los ateriores casos:\n",
    "``reduce(funcion a aplicar, lista de entrada)``"
   ]
  },
  {
   "cell_type": "markdown",
   "metadata": {},
   "source": [
    "### 7.4 Funciones Lambda \n",
    "\n",
    "En todos estos casos hemos visto como consegumos comprimir el código, pero siempre tenemos que definir fuciones, normalmente muy simple, solo para ser usadas una vez. Para estas ocasiones, existen las ``funciones anónimas`` o ``lambda functions``. Estas se pueden definir y usar en la misma línia, y nos ahorramos un montón de tiempo!!\n",
    "\n",
    "Su sintaxis es:\n",
    "\n",
    "``lambda entradas: salida``\n",
    "\n",
    "Vamos a volver a escribir las mismas funciones que antes, perpo usado estas funciones para verlo más claro con ejemplos:"
   ]
  },
  {
   "cell_type": "code",
   "execution_count": null,
   "metadata": {},
   "outputs": [],
   "source": [
    "items = [1, 2, 3, 4, 5]\n",
    "squared = list(map(lambda x:x**2, items))\n",
    "print(items)\n",
    "print(squared)"
   ]
  },
  {
   "cell_type": "code",
   "execution_count": null,
   "metadata": {},
   "outputs": [],
   "source": [
    "items=[2,5,-6,4,-1,2,7,-8,3,4,7,0,-1,-4,0,4,6,-8,0,1]\n",
    "positivos=list(filter(lambda x: x>=0 and x%2==0, items))\n",
    "print(items)\n",
    "print(positivos)"
   ]
  },
  {
   "cell_type": "code",
   "execution_count": null,
   "metadata": {},
   "outputs": [],
   "source": [
    "from functools import reduce\n",
    "lista = [1,5,7,3,4,9,1,4,7,5,3,9,8,7,2]\n",
    "producto = reduce(lambda x,y: x*y, lista)\n",
    "print(producto)"
   ]
  },
  {
   "cell_type": "markdown",
   "metadata": {},
   "source": [
    "#### Ejercicio\n",
    "\n",
    "Dada una lista de nombres de clientes, devolver la lista con todos los nombres con la primera letra en mayúsculas"
   ]
  },
  {
   "cell_type": "code",
   "execution_count": null,
   "metadata": {},
   "outputs": [],
   "source": [
    "nombres = ['jordi', 'arnau', 'laia', 'pedro', 'juan', 'pau', 'noemi', 'arya', 'marti', 'lyanna', 'miquel', 'joana', 'ricard', 'daenerys', 'alexandra']\n",
    "# vuestro código aquí!"
   ]
  },
  {
   "cell_type": "markdown",
   "metadata": {},
   "source": [
    "#### Otros usos\n",
    "\n",
    "Hay más ocasiones donde una función pide otra función como argumeto, dode usar una función lambda será muy útil. Por ejemplo, si miramos la documentación de la función ``sorted`` que viene en Python por defecto:\n",
    "\n",
    "https://docs.python.org/3/library/functions.html#sorted"
   ]
  },
  {
   "cell_type": "code",
   "execution_count": null,
   "metadata": {
    "scrolled": true
   },
   "outputs": [],
   "source": [
    "desordenado = ['Martí','Anna','daniel','Pau','berta','Roberto','Xavier', 'alexandra']\n",
    "sorted(desordenado)"
   ]
  },
  {
   "cell_type": "markdown",
   "metadata": {},
   "source": [
    "Si especificamos una función en el apartado ``key`` opcional:"
   ]
  },
  {
   "cell_type": "code",
   "execution_count": null,
   "metadata": {},
   "outputs": [],
   "source": [
    "sorted(desordenado, key=lambda x: x.lower())"
   ]
  },
  {
   "cell_type": "markdown",
   "metadata": {},
   "source": [
    "## 8. Lenguaje orientado a objetos"
   ]
  },
  {
   "cell_type": "markdown",
   "metadata": {},
   "source": [
    "### Objects\n",
    "\n",
    "You can define your own classes and objects."
   ]
  },
  {
   "cell_type": "code",
   "execution_count": null,
   "metadata": {
    "scrolled": true
   },
   "outputs": [],
   "source": [
    "#creating a class\n",
    "\n",
    "class Rectangle:\n",
    "    def __init__(self,x,y):\n",
    "        self.x = x\n",
    "        self.y = y\n",
    "    description = \"This shape has not been described yet\"\n",
    "    author = \"Nobody has claimed to make this shape yet\"\n",
    "    def area(self):\n",
    "        return self.x * self.y\n",
    "    def perimeter(self):\n",
    "        return 2 * self.x + 2 * self.y\n",
    "    def describe(self,text):\n",
    "        self.description = text\n",
    "    def authorName(self,text):\n",
    "        self.author = text\n",
    "    def scaleSize(self,scale):\n",
    "        self.x = self.x * scale\n",
    "        self.y = self.y * scale\n",
    "\n",
    "#creating objects\n",
    "a = Rectangle(100, 45)\n",
    "b = Rectangle(10,230)\n",
    "\n",
    "#describing the rectangles\n",
    "a.describe(\"A fat rectangle\")\n",
    "b.describe(\"A thin rectangle\")"
   ]
  },
  {
   "cell_type": "code",
   "execution_count": null,
   "metadata": {
    "scrolled": true
   },
   "outputs": [],
   "source": [
    "#finding the area of your rectangle:\n",
    "print(a.area())\n",
    " \n",
    "#finding the perimeter of your rectangle:\n",
    "print(a.perimeter())\n",
    "\n",
    "#getting the description\n",
    "print(a.description)\n",
    "print(a.author)"
   ]
  },
  {
   "cell_type": "code",
   "execution_count": null,
   "metadata": {
    "scrolled": true
   },
   "outputs": [],
   "source": [
    "#finding the area of your rectangle:\n",
    "print(b.area())\n",
    "print(b.description)\n",
    "\n",
    "#making the rectangle 50% smaller\n",
    "b.scaleSize(0.5)\n",
    "b.describe(\"A small thin rectangle\")\n",
    " \n",
    "#re-printing the new area of the rectangle\n",
    "print(b.area())\n",
    "print(b.description)"
   ]
  },
  {
   "cell_type": "markdown",
   "metadata": {},
   "source": [
    "Ejemplo de classe: https://pypi.org/project/UnladenSwallow/"
   ]
  },
  {
   "cell_type": "code",
   "execution_count": null,
   "metadata": {
    "scrolled": true
   },
   "outputs": [],
   "source": [
    "class AirSpeedVelocityOfAnUnladenSwallow:\n",
    "    \"\"\"Class for the airspeed velocity of an unladen swallow.\"\"\"\n",
    "\n",
    "    species = 'European'\n",
    "    meters_per_second = 11\n",
    "    miles_per_hour = 24\n",
    "    source = 'http://style.org/unladenswallow/'\n",
    "\n",
    "    def what_is_the_airspeed_velocity_of_an_unladen_swallow(self):\n",
    "        \"\"\"Return the airspeed velocity of an unladen swallow.\"\"\"\n",
    "        answer = (\n",
    "            'The airspeed velocity of a {0} swallow is {1} meters per '\n",
    "            'second or {2} miles per hour. See {3} for more information.'\n",
    "        ).format(\n",
    "            self.species,\n",
    "            self.meters_per_second,\n",
    "            self.miles_per_hour,\n",
    "            self.source)\n",
    "\n",
    "        return answer\n",
    "\n",
    "a = AirSpeedVelocityOfAnUnladenSwallow()\n",
    "a.what_is_the_airspeed_velocity_of_an_unladen_swallow()"
   ]
  },
  {
   "cell_type": "markdown",
   "metadata": {},
   "source": [
    "## 9. Introducción a NumPy\n",
    "\n",
    "NumPy es una librería de Python utilizada para trabajar con matrices. También tiene funciones para trabajar con álgebra lineal o transformadas de Fourier. NumPy significa Numerical Python.\n",
    "\n",
    "<img src=\"Figures/NumPy_logo.png\" alt=\"Drawing\" style=\"width: 400px;\"/>\n",
    "\n",
    "Como hemos visto, en Python ya tenemos listas que sirven al propósito de trabajar con matrices, pero su procesamiento es lento. NumPy tiene como objetivo proporcionar un objeto de matriz que sea hasta 50 veces más rápido que las listas tradicionales de Python, algo importante para la ciencia de datos donde la velocidad y los recursos son muy importantes. Además, se diferencian de las listas en que las matrices de NumPy no se pueden cambiar de tamaño, todos los elementos deben ser del mismo tipo, y se permiten ls operaciones entre matrices.\n",
    "\n",
    "El código fuente de NumPy se encuentra en este repositorio de github https://github.com/numpy/numpy\n",
    "\n",
    "El objeto de matriz en NumPy se llama ``ndarray``, proporciona muchas funciones de soporte que hacen que trabajar con ``ndarray`` sea muy fácil. Se puede crear una ndarray  con NumPy con la función ``.array()``"
   ]
  },
  {
   "cell_type": "code",
   "execution_count": null,
   "metadata": {},
   "outputs": [],
   "source": [
    "#Ejemplo\n",
    "import numpy as np #normalmente se suele importar como np\n",
    "\n",
    "arr = np.array([1, 2, 3, 4, 5])\n",
    "\n",
    "print(arr)\n",
    "\n",
    "print(type(arr))"
   ]
  },
  {
   "cell_type": "markdown",
   "metadata": {},
   "source": [
    "Para crear un ndarray, podemos utilizar una lista, tupla o cualquier objeto tipo matriz al método ``array()``, y se convertirá en un ``ndarray``. Se pueden crear ``ndarrays`` de diferentes dimensiones. Los 0-D son solo números, los 1-D son vectores, los 2-D son matrices, etc. \n",
    "\n",
    "Los principales atributos que se pueden utlizar con ``ndarrays`` son:\n",
    "\n",
    "| Atributo  | Descripción | \n",
    "|-----------|-------------|\n",
    "| ndim      |número de dimensiones de la matriz| \n",
    "| shape     |número de elementos de cada dimensión de la matriz|\n",
    "| size      |número de elementos total de la matriz|\n",
    "| dtype     |tipo de los elementos de la matriz|\n",
    "| astype    |para cambiar el tipo de los elementos de la matriz|"
   ]
  },
  {
   "cell_type": "code",
   "execution_count": null,
   "metadata": {},
   "outputs": [],
   "source": [
    "#Ejemplo\n",
    "\n",
    "a = np.array(42)\n",
    "b = np.array([1, 2, 3, 4, 5])\n",
    "c = np.array([[1, 2, 3], [4, 5, 6]])\n",
    "d = np.array([[[1, 2, 3], [4, 5, 6]], [[1, 2, 3], [4, 5, 6]]])\n",
    "\n",
    "print(a.ndim)\n",
    "print(b.ndim)\n",
    "print(c.ndim)\n",
    "print(d.ndim)\n",
    "print(d.shape)\n",
    "print(d.size)\n",
    "print(d.dtype)\n",
    "\n",
    "e = d.astype(float)\n",
    "\n",
    "print(e)\n",
    "print(e.dtype)"
   ]
  },
  {
   "cell_type": "markdown",
   "metadata": {},
   "source": [
    "### Acceder a valores de un ndarray\n",
    "\n",
    "Se puede acceder a un elemento de la matriz haciendo referencia a su número de índice. Los índices en las matrices NumPy comienzan con 0, lo que significa que el primer elemento tiene índice 0, y el segundo tiene índice 1, etc.\n",
    "\n",
    "Para acceder a elementos de matrices 2-D podemos usar enteros separados por comas que representan la dimensión y el índice del elemento. Para matrices 3-D o superior, se deben añadir tantos enteros separados por comas como dimensiones tenga la matriz."
   ]
  },
  {
   "cell_type": "code",
   "execution_count": null,
   "metadata": {},
   "outputs": [],
   "source": [
    "#Ejemplo\n",
    "\n",
    "arr = np.array([[1,2,3,4,5], [6,7,8,9,10]])\n",
    "\n",
    "print(arr[0, 1])"
   ]
  },
  {
   "cell_type": "markdown",
   "metadata": {},
   "source": [
    "También se puede utilizar el slicing en ``ndarrays``. En este caso: ``array[indice_primer_elemento:indice_final:step]``"
   ]
  },
  {
   "cell_type": "code",
   "execution_count": null,
   "metadata": {},
   "outputs": [],
   "source": [
    "#Ejercicio\n",
    "\n",
    "arr = np.array([[1, 2, 3, 4, 5], [6, 7, 8, 9, 10]])\n",
    "\n",
    "# devuelve el indice 2 de las dos dimensiones:\n",
    "\n",
    "# devuelve el intervalo entre el índice 1 y 4 (no incluido) de las dos dimensiones:\n",
    "\n",
    "# devuelve todos los elementos de posiciones pares:\n"
   ]
  },
  {
   "cell_type": "markdown",
   "metadata": {},
   "source": [
    "<img src=\"Figures/numpy_indexing.png\" alt=\"Drawing\" style=\"width: 200px;\"/>"
   ]
  },
  {
   "cell_type": "code",
   "execution_count": null,
   "metadata": {},
   "outputs": [],
   "source": [
    "#Ejercicio: seleccionar los elementos de cada uno de los conjuntos de elementos de la figura anterior:\n",
    "\n",
    "arr = np.array([[0,1,2,3,4,5],[10,11,12,13,14,15],[20,21,22,23,24,25],[30,31,32,33,34,35],[40,41,42,43,44,45],[50,51,52,53,54,55]])\n",
    "arr\n",
    "\n",
    "# Nueva array con selección elementos rojos:\n",
    "arr2[]\n",
    "# Nueva array con selección elementos naranjas:\n",
    "arr3[]\n",
    "# Nueva array con selección elementos verdes:\n",
    "arr4[]\n",
    "# Nueva array con selección elementos azules:\n",
    "arr5[]"
   ]
  },
  {
   "cell_type": "markdown",
   "metadata": {},
   "source": [
    "### Importar arrays de archivos .csv\n",
    "\n",
    "Como los archivos ** Comma-separated values (CSV) ** son un tipop de archivo .TXT, se puede importar un archivo .CSV con la función ``np.genfromtxt(ubicacion_archivo)``\n",
    "\n",
    "Los parametros opcionales de **genfromtxt** pueden consultarse en: https://numpy.org/doc/stable/reference/generated/numpy.genfromtxt.html\n",
    "\n",
    "| Función   | Tipo | Descripción | \n",
    "|-----------|----|---------|\n",
    "|skip_header | opcional |número de líneas a evitar al inicio del fichero|\n",
    "|filling_values | opcional |valores a utilizar cunado no haya valores|\n",
    "|delimiter | opcional |string utilizado para separar valores (en CSV es ',')|\n",
    "|usecols | opcional | seleciona que columnas importar, siendo 0 la primera (e.g. ``usecols = (1, 4, 5)``)|\n",
    "\n",
    "\n",
    "### Ejercicio: \n",
    "\n",
    "Observar el archivo **Data/block_13_diario_reducido.csv** y ver como se ha importado a NumPy.\n",
    "\n",
    "Sustituir valores nan por ``99999`` y evitar importar la primera fila y las dos primeras columnas."
   ]
  },
  {
   "cell_type": "code",
   "execution_count": null,
   "metadata": {},
   "outputs": [],
   "source": [
    "data = np.genfromtxt('Data/block_13_diario_reducido.csv',delimiter=',')\n",
    "print (data)\n",
    "\n",
    "# Sustituir valores nan por 99999\n",
    "\n",
    "# Evitar importar la primera fila y las dos primeras columnas\n"
   ]
  },
  {
   "cell_type": "markdown",
   "metadata": {},
   "source": [
    "### Funciones básicas con NumPy\n",
    "\n",
    "Aquí podeis ver una lista de las funciones más interesantes a mirar en la documentación, con algun ejemplo:\n",
    "\n",
    "| Función   | Descripción | \n",
    "|-----------|-------------|\n",
    "| array_name.mean()    |Media| \n",
    "| array_name.min()     |Valor mínimo|\n",
    "| array_name.max()     |Valor máximo|\n",
    "| array_name.sum()     |Suma de valores|\n",
    "| array_name.std()     |Desviación standard|\n",
    "| array_name.var()     |Varianza|\n",
    "| array_name.reshape(nueva_dimension/es) | Permite cambiar las dimensiones|\n",
    "\n",
    "Algunos ejemplos de Methods asociados a NumPy:\n",
    "\n",
    "| Method   | Descripción | \n",
    "|-----------|-------------|\n",
    "| np.amin(array_name)     | valor mínimo|\n",
    "| np.amax(array_name)     | valor máximo|\n",
    "| np.argmax(array_name)          | índice del valor máximo|\n",
    "| np.argmin(array_name)          | índice del valor mínimo|\n",
    "| np.isnan(array_name)           | identificador de valores Nan|\n",
    "\n",
    "Para una matriz multidimensional, es posible hacer el cálculo a lo largo de una sola dimensión, pasando el parámetro ``axis`` para indicar el eje. Por ejemplo, en 2-D, axis=0 es la columna  y axis=1 es la fila.\n",
    "\n",
    "### Ejercicio\n",
    "\n",
    "Practicad con alguno de estas funciones o Methods a partir del array ``data``."
   ]
  },
  {
   "cell_type": "code",
   "execution_count": null,
   "metadata": {},
   "outputs": [],
   "source": [
    "# vuestro código aquí!\n",
    "\n",
    "# Encontrar valor y posición del valor máximo\n",
    "\n",
    "# Encontrar valor y posición del valor mínimo de la segunda columna\n",
    "\n",
    "# Encontrar valor medio de cada fila\n",
    "\n",
    "# Encontrar posicion de los valores Nan\n"
   ]
  },
  {
   "cell_type": "markdown",
   "metadata": {},
   "source": [
    "### Filtrado de datos con una matriz booleana\n",
    "\n",
    "Comparaciones booleanas se pueden usar para comparar elementos en matrices de igual tamaño.\n",
    "\n",
    "La función ``where`` crea una nueva array a partir de comparar dos arrays, siguiendo la siguiente syntaxis: ``where(bool_array, true_array, false_array)``"
   ]
  },
  {
   "cell_type": "code",
   "execution_count": null,
   "metadata": {},
   "outputs": [],
   "source": [
    "# Ejemplo: evitar error al dividir por cero\n",
    "\n",
    "a = np.array([1, 3, 0], float) \n",
    "np.where(a != 0, 1/a, 0) "
   ]
  },
  {
   "cell_type": "markdown",
   "metadata": {},
   "source": [
    "Esto se puede usar para crear una máscara, extrayendo los índices de una matriz que satisfacen una condición dada."
   ]
  },
  {
   "cell_type": "code",
   "execution_count": null,
   "metadata": {},
   "outputs": [],
   "source": [
    "arr = np.array([10,8,30,40])\n",
    "print (arr)\n",
    "mask = arr < 9 # array booleana con los elementos menores a 9\n",
    "mask"
   ]
  },
  {
   "cell_type": "markdown",
   "metadata": {},
   "source": [
    "### Ejercicio\n",
    "\n",
    "Reescribir el siguiente código para obtener un array donde los valores inferiores a 9 se les imponga el valor 10 utilizando el array mak anterior y la función ``where``."
   ]
  },
  {
   "cell_type": "code",
   "execution_count": null,
   "metadata": {},
   "outputs": [],
   "source": [
    "print ('Resetting all values below 9 to 10...')\n",
    "print (arr < 9)\n",
    "arr[arr < 9] = 10\n",
    "print (arr)"
   ]
  },
  {
   "cell_type": "markdown",
   "metadata": {},
   "source": [
    "### Para más información sobre NumPy\n",
    "\n",
    "* http://numpy.scipy.org\n",
    "* http://scipy.org/Tentative_NumPy_Tutorial"
   ]
  },
  {
   "cell_type": "markdown",
   "metadata": {},
   "source": [
    "## 10. Introducción a Pandas\n",
    "\n",
    "Padas es de las librerías más importantes en Python para Data Science!!! Básicamente nso permitirá tener ``Datasets`` abiertos como si se trataran de una hoja de cálculo en el excel, es decir, en forma matricial con dos dimensiones y con columnas e idices indexados.\n",
    "\n",
    "<img src=\"Figures/Pandas.jpg\" alt=\"Drawing\" style=\"width: 800px;\"/>\n"
   ]
  },
  {
   "cell_type": "markdown",
   "metadata": {},
   "source": [
    "Pandas sirve para:\n",
    "* Operar en todo el dataset o a una fila o columna (vectores) con alta eficiencia computacional\n",
    "* Ayuda a la limpieza de datos y solucionar datos inexistentes\n",
    "* Acceder a subsets de datos\n",
    "* Añadir o eliminar columnas con nuevas características.\n",
    "* Agrupar datos por características.\n",
    "* Muy eficiente juntando datos de distintas fuentes.\n",
    "* Trabajar con series temporales."
   ]
  },
  {
   "cell_type": "markdown",
   "metadata": {},
   "source": [
    "### 10.1 Leer datos de un csv\n",
    "\n",
    "La mayoría de las veces cargaremos los archivos a través de un archivo .csv. A continuación podeis ver el código básico que se usará casi siempre:"
   ]
  },
  {
   "cell_type": "code",
   "execution_count": null,
   "metadata": {
    "scrolled": false
   },
   "outputs": [],
   "source": [
    "import pandas as pd #importamos Pandas!\n",
    "londres = pd.read_csv('Data/block_13_diario.csv')\n",
    "londres.head(5)"
   ]
  },
  {
   "cell_type": "markdown",
   "metadata": {},
   "source": [
    "### 10.2 Inspección datos"
   ]
  },
  {
   "cell_type": "markdown",
   "metadata": {},
   "source": [
    "Si queremos saber qué dimensiones tiene este DataFrame, podemos mirar su 'forma'"
   ]
  },
  {
   "cell_type": "code",
   "execution_count": null,
   "metadata": {},
   "outputs": [],
   "source": [
    "londres.shape"
   ]
  },
  {
   "cell_type": "markdown",
   "metadata": {},
   "source": [
    "Hay 32992 entradas y 9 características para cada entrada.\n",
    "\n",
    "Puede ser muy útil ver las primeras o últimas entradas del dataset para entender mejor estos datos:"
   ]
  },
  {
   "cell_type": "code",
   "execution_count": null,
   "metadata": {},
   "outputs": [],
   "source": [
    "londres.head()"
   ]
  },
  {
   "cell_type": "code",
   "execution_count": null,
   "metadata": {},
   "outputs": [],
   "source": [
    "londres.tail()"
   ]
  },
  {
   "cell_type": "markdown",
   "metadata": {},
   "source": [
    "Si queremos saber el nombre de las columnas o índices, podemos acceder a ellos:"
   ]
  },
  {
   "cell_type": "code",
   "execution_count": null,
   "metadata": {},
   "outputs": [],
   "source": [
    "londres.columns"
   ]
  },
  {
   "cell_type": "code",
   "execution_count": null,
   "metadata": {},
   "outputs": [],
   "source": [
    "londres.columns[4]"
   ]
  },
  {
   "cell_type": "code",
   "execution_count": null,
   "metadata": {},
   "outputs": [],
   "source": [
    "londres.index"
   ]
  },
  {
   "cell_type": "markdown",
   "metadata": {},
   "source": [
    "Por útlimo, para tener un resumen muy bueno, es muy util el metodo ``describe``"
   ]
  },
  {
   "cell_type": "code",
   "execution_count": null,
   "metadata": {},
   "outputs": [],
   "source": [
    "londres.describe()"
   ]
  },
  {
   "cell_type": "markdown",
   "metadata": {},
   "source": [
    "### 10.3 Seleccionar datos"
   ]
  },
  {
   "cell_type": "markdown",
   "metadata": {},
   "source": [
    "Si queremos trabajar o seleccionar solo con una parte del dataset, podemos usar **[]** después del nombre del dataset, e indicar qué columnas se desean seleccionar."
   ]
  },
  {
   "cell_type": "code",
   "execution_count": null,
   "metadata": {},
   "outputs": [],
   "source": [
    "londres['day']"
   ]
  },
  {
   "cell_type": "markdown",
   "metadata": {},
   "source": [
    "Si, por el contrario se quiere seleccionar una parte de las filas, se indicará usando *slicing* como en los strings:"
   ]
  },
  {
   "cell_type": "code",
   "execution_count": null,
   "metadata": {},
   "outputs": [],
   "source": [
    "londres[10:17]"
   ]
  },
  {
   "cell_type": "markdown",
   "metadata": {},
   "source": [
    "#### loc vs iloc\n",
    "\n",
    "Para seleccionar partes más específicas (más de una columna, varias columnas y solo unas filas de éstas,...), se usará la indexación con el loc o iloc. La única diferencia entre los dos, es que el primero se basa en el *label* de las filas o columnas, mientras que iloc se basa en el *integer* de estas. Con un ejemplo se entiende mejor:"
   ]
  },
  {
   "cell_type": "code",
   "execution_count": null,
   "metadata": {},
   "outputs": [],
   "source": [
    "londres.loc[3:5,['day', 'energy_max']]"
   ]
  },
  {
   "cell_type": "code",
   "execution_count": null,
   "metadata": {},
   "outputs": [],
   "source": [
    "londres.iloc[3:5,1:3]"
   ]
  },
  {
   "cell_type": "markdown",
   "metadata": {},
   "source": [
    "Se debe tener en cuenta que el índice no será siempre un número y puede tratar-se de otro parámetro. Por ejemplo, podemos poner el día como índice."
   ]
  },
  {
   "cell_type": "markdown",
   "metadata": {},
   "source": [
    "### 10.4 Filtrar datos\n",
    "\n",
    "Otra manera de seleccionar solo una parte del dataset es aplicar *Boolena indexing*, que no es nada más que aplicar un filtro a los datos. Por ejemplo, vamos a seleccionar solo aquellos días en los que la energia máxima ha sido mayor a 1."
   ]
  },
  {
   "cell_type": "code",
   "execution_count": null,
   "metadata": {},
   "outputs": [],
   "source": [
    "londres['energy_max'] > 1"
   ]
  },
  {
   "cell_type": "markdown",
   "metadata": {},
   "source": [
    "Como se puede observar ahora tenemos seleccionadas aquellas columnas que cumplen nuestra condición. ¿Y si lo ponemos directamente dentro del dataset cuando seleccionamos solo una part?"
   ]
  },
  {
   "cell_type": "code",
   "execution_count": null,
   "metadata": {},
   "outputs": [],
   "source": [
    "londres[londres['energy_max']>1]"
   ]
  },
  {
   "cell_type": "markdown",
   "metadata": {},
   "source": [
    "### Ejercicio\n",
    "\n",
    "Obtener un cuadro resumen de los parámetros para el contador con ID 'MAC000113'"
   ]
  },
  {
   "cell_type": "code",
   "execution_count": null,
   "metadata": {},
   "outputs": [],
   "source": [
    "# vuestro codigo aquí!\n"
   ]
  },
  {
   "cell_type": "markdown",
   "metadata": {},
   "source": [
    "### 10.5 Funciones básicas interesantes\n",
    "\n",
    "Aquí poeis ver una lista de las funciones más interesantes a mirar en la documentación, con algun ejemplo:\n",
    "\n",
    "| Función   | Descripción | \n",
    "|-----------|-------------|\n",
    "| count()   |Número de observaciones non-null|  \n",
    "| sum()     |Suma de valores|\n",
    "| mean()    |Media de las observaciones            | \n",
    "| median()  |Mediana de las observaciones             |\n",
    "| min()     |Valor mínimo|\n",
    "| max()     |Valor máximo|\n",
    "| std()     |Desviación standard|\n",
    "| var()     | Varianza|\n",
    "| value_counts()     | Valores unicos en cada columna - tabla de frec|\n",
    "| nunique()          | Número de valores distintos|\n",
    "| isnull()     | Máscara de valores null o Nan|\n",
    "\n",
    "Practicad con alguno de estos parámetros"
   ]
  },
  {
   "cell_type": "code",
   "execution_count": null,
   "metadata": {},
   "outputs": [],
   "source": [
    "# vuestro código aquí!\n",
    "\n",
    "# Valor total de energia para el Id 'MAC000113'\n",
    "\n",
    "# ¿Cuántos contadores distintos hay?\n",
    "\n",
    "# ¿Cómo se llaman?\n",
    "\n",
    "# ¿Cuál fue el valor máximo de energía en dia 15 de Mayo de 2013?"
   ]
  },
  {
   "cell_type": "markdown",
   "metadata": {},
   "source": [
    "### 10.6 Manipular dataframes\n",
    "\n",
    "Se puede aplicar una función a alguna columna usando el método *apply* y recordando las fuciones lambda!"
   ]
  },
  {
   "cell_type": "code",
   "execution_count": null,
   "metadata": {},
   "outputs": [],
   "source": [
    "londres['energy_var'] = londres['energy_std'].apply(lambda x: x**2)\n",
    "londres.head()"
   ]
  },
  {
   "cell_type": "markdown",
   "metadata": {},
   "source": [
    "#### Ejercicio\n",
    "\n",
    "Crea una columna nueva llamada 'ID' con solo las últimas 6 cifras de 'LCLid'"
   ]
  },
  {
   "cell_type": "code",
   "execution_count": null,
   "metadata": {},
   "outputs": [],
   "source": [
    "# vuestro código aquí!"
   ]
  },
  {
   "cell_type": "markdown",
   "metadata": {},
   "source": [
    "### 10.7 Ordenar\n",
    "\n",
    "Si se desea ordenar valores, se puede usar ``sort_values``. Con un ejemplo se entenderá mejor:\n"
   ]
  },
  {
   "cell_type": "code",
   "execution_count": null,
   "metadata": {},
   "outputs": [],
   "source": [
    "londres.sort_values(by='energy_max', ascending= False, inplace=True)\n",
    "londres.head()"
   ]
  },
  {
   "cell_type": "markdown",
   "metadata": {},
   "source": [
    "### 10.8 Agrupar\n",
    "\n",
    "Por último, una función muy útil es la de agrupar (group_by).\n",
    "\n",
    "Por ejemplo, imagina que quieres agrupar todos los datos por número de contador y sacar algun parámetro de este contador (máximo, mínimo, etc.).\n",
    "\n",
    "El resultado de esta operación, será otro dataframe con los datos agrupados respeto a una variable. Además también se deberá indicar qué función de *agregación* se desea usar (max, min, mean, count, sum, etc.).\n",
    "\n",
    "Vamos a implementar el ejemplo comentado!"
   ]
  },
  {
   "cell_type": "code",
   "execution_count": null,
   "metadata": {},
   "outputs": [],
   "source": [
    "contadores = londres[['LCLid','energy_max', 'energy_min', 'energy_sum']].groupby('LCLid').mean()\n",
    "contadores"
   ]
  },
  {
   "cell_type": "markdown",
   "metadata": {},
   "source": [
    "### 10.9 Otros\n",
    "\n",
    "Hay muchas más funciones que se pueden usar con Pandas. Os animamos a mirar en su documentación, foros, cheat sheets, cursos,...\n",
    "\n",
    "https://pandas.pydata.org/pandas-docs/stable/index.html"
   ]
  },
  {
   "cell_type": "markdown",
   "metadata": {},
   "source": [
    "## 11. Creación de gáficos\n",
    "\n",
    "En Python existen diversas librerías para crear gráficos como Bokeh, altair, Pandas o Matplotlib\n",
    "\n",
    "<img src=\"Figures/four_logos.png\" alt=\"Drawing\" style=\"width: 800px;\"/>\n",
    "\n",
    "En este curso aprenderemos las funciones básicas de matplotlib, ya que las otras librerías siempre estan basadas en esta y nos ayudará a luego saber usarlas también."
   ]
  },
  {
   "cell_type": "markdown",
   "metadata": {},
   "source": [
    "### 11.1 Matplotlib.pyplot\n",
    "\n",
    "El módulo que se usa es el pyplot de matplotlib. Toda su documentación se puede encontrar aquí:\n",
    "\n",
    "https://matplotlib.org/api/pyplot_api.html#module-matplotlib.pyplot\n",
    "\n",
    "Vaamos a importarla!"
   ]
  },
  {
   "cell_type": "code",
   "execution_count": null,
   "metadata": {},
   "outputs": [],
   "source": [
    "import matplotlib.pyplot as plt"
   ]
  },
  {
   "cell_type": "markdown",
   "metadata": {},
   "source": [
    "Las dos instancias más importntes en pyplot son\n",
    "* figure: en matplotlib.figure.Figure, una *figure* ser dónde iran los gráficos. Es el lienzo donde puede haber uno o varios gráficos.\n",
    "* axes: eb matplotlib.axes.Axes, econtramos dode iran los gráficos en sí\n",
    "\n",
    "Vamos a crear un primer gráfico de prueba:"
   ]
  },
  {
   "cell_type": "code",
   "execution_count": null,
   "metadata": {},
   "outputs": [],
   "source": [
    "import matplotlib.pyplot as plt\n",
    "import numpy as np\n",
    "\n",
    "plt.plot([1,2,3,4],[1,4,8,16])\n",
    "plt.show()"
   ]
  },
  {
   "cell_type": "markdown",
   "metadata": {},
   "source": [
    "En este caso hemos creado un gráfico usando *plot*, donde el primer argumento es el eje de las x y el segundo el de las y (deben ser de la smismas dimensiones). \n",
    "\n",
    "Podemos añadir otra información como título y nombre de los ejes:"
   ]
  },
  {
   "cell_type": "code",
   "execution_count": null,
   "metadata": {},
   "outputs": [],
   "source": [
    "import matplotlib.pyplot as plt\n",
    "import numpy as np\n",
    "\n",
    "plt.plot([1,2,3,4],[1,4,8,16])\n",
    "plt.title('Nuestro primer plot!')\n",
    "plt.xlabel('eje X')\n",
    "plt.ylabel('eje Y')\n",
    "plt.show()"
   ]
  },
  {
   "cell_type": "markdown",
   "metadata": {},
   "source": [
    "### 11.2 Crear ventanas\n",
    "\n",
    "Si se quiere modificar el tamaño del gráfico, es dóde tendremos que usar el término *figure* comentdo anteriormente. Recordamos que *figure* era el lienzo donde poníamos uno o más gráficos. En este caso, solo ponemos uno.\n",
    "\n",
    "Aquí podemos ver como se puede configurar una *figure* con unas medidas predeterminadas:"
   ]
  },
  {
   "cell_type": "code",
   "execution_count": null,
   "metadata": {},
   "outputs": [],
   "source": [
    "plt.figure(figsize=(20,5))\n",
    "plt.plot([1,2,3,4],[1,4,8,16])\n",
    "plt.show()"
   ]
  },
  {
   "cell_type": "markdown",
   "metadata": {},
   "source": [
    "Para cada gráfico también se puede determinar el estilo del gráfico con un tercer argumento:"
   ]
  },
  {
   "cell_type": "code",
   "execution_count": null,
   "metadata": {},
   "outputs": [],
   "source": [
    "plt.plot([1,2,3,4],[1,4,8,16],'go')\n",
    "plt.show()"
   ]
  },
  {
   "cell_type": "markdown",
   "metadata": {},
   "source": [
    "Y podemos poner más de un gráfico en el mismo plot, indicando en la leyenda que es cada cosa:"
   ]
  },
  {
   "cell_type": "code",
   "execution_count": null,
   "metadata": {},
   "outputs": [],
   "source": [
    "plt.plot([1,2,3,4],[1,4,8,16],'g-',label='primero')\n",
    "plt.plot([1,2,3,4],[1,6,12,6],'r-', label='segundo')\n",
    "plt.title('Ahora son dos!')\n",
    "plt.xlabel('eje X')\n",
    "plt.ylabel('eje Y')\n",
    "plt.legend()\n",
    "plt.show()"
   ]
  },
  {
   "cell_type": "markdown",
   "metadata": {},
   "source": [
    "### 11.3 Subplots\n",
    "\n",
    "Para poner distintos gráficos con distintos ejes se puede usar Subplots. El métdodo `subplot` tiene 3 argumentos: número de filas, número de columnas e índice. Veamos con un ejemplo como se usa:"
   ]
  },
  {
   "cell_type": "code",
   "execution_count": null,
   "metadata": {},
   "outputs": [],
   "source": [
    "plt.figure(figsize=(15,2))\n",
    "\n",
    "plt.subplot(1,2,1)\n",
    "plt.plot([1,2,3,4],[1,4,9,16],'go')\n",
    "plt.title('Izquierda')\n",
    "plt.xlabel('un eje X')\n",
    "plt.ylabel('un eje Y')\n",
    "\n",
    "plt.subplot(1,2,2)\n",
    "plt.plot([1,2,3,4],[1,6,12,6],'r-')\n",
    "plt.title('Derecha')\n",
    "plt.xlabel('otro eje X')\n",
    "plt.ylabel('otro eje Y')"
   ]
  },
  {
   "cell_type": "markdown",
   "metadata": {},
   "source": [
    "O, por ejemplo:"
   ]
  },
  {
   "cell_type": "code",
   "execution_count": null,
   "metadata": {},
   "outputs": [],
   "source": [
    "plt.figure(figsize=(10,10))\n",
    "\n",
    "plt.subplot(2,1,1)\n",
    "plt.plot([1,2,3,4],[1,4,9,16],'go')\n",
    "plt.title('Arriba')\n",
    "plt.xlabel('un eje X')\n",
    "plt.ylabel('un eje Y')\n",
    "\n",
    "plt.subplot(2,1,2)\n",
    "plt.plot([1,2,3,4],[1,6,12,6],'r-')\n",
    "plt.title('Abajo')\n",
    "plt.xlabel('otro eje X')\n",
    "plt.ylabel('otro eje Y')"
   ]
  },
  {
   "cell_type": "markdown",
   "metadata": {},
   "source": [
    "### 11.4 Gráfico de barras\n",
    "\n",
    "Para hacer un gráfico de barras en vez de `plot`usaremos `bar`, siguendo una estructura muy parecida.\n",
    "\n",
    "Recordemos el dataset de antes:"
   ]
  },
  {
   "cell_type": "code",
   "execution_count": null,
   "metadata": {},
   "outputs": [],
   "source": [
    "contadores = londres[['LCLid','energy_max', 'energy_min', 'energy_sum']].groupby('LCLid').mean()\n",
    "contadores.head(10)"
   ]
  },
  {
   "cell_type": "markdown",
   "metadata": {},
   "source": [
    "Podemo hacer una gràfica de barras:"
   ]
  },
  {
   "cell_type": "code",
   "execution_count": null,
   "metadata": {},
   "outputs": [],
   "source": [
    "divisiones=contadores.index[:10]\n",
    "marcas=contadores['energy_max'][:10]\n",
    "\n",
    "plt.figure(figsize=(20,10))\n",
    "plt.bar(divisiones, marcas, color = 'blue')\n",
    "plt.xlabel('contador')\n",
    "plt.ylabel('Energía máxima')\n",
    "plt.xticks(rotation=45, ha='right')"
   ]
  },
  {
   "cell_type": "markdown",
   "metadata": {},
   "source": [
    "O en barras horizontales, usando `barh`:"
   ]
  },
  {
   "cell_type": "code",
   "execution_count": null,
   "metadata": {},
   "outputs": [],
   "source": [
    "divisiones=contadores.index[:10]\n",
    "marcas=contadores['energy_max'][:10]\n",
    "\n",
    "plt.figure(figsize=(20,10))\n",
    "plt.barh(divisiones, marcas, color = 'blue')\n",
    "plt.ylabel('Contador')\n",
    "plt.xlabel('Energía máxima')"
   ]
  },
  {
   "cell_type": "markdown",
   "metadata": {},
   "source": [
    "### 11.5 Histograma\n",
    "\n",
    "Veamos con un ejemplo como hacer un histograma:"
   ]
  },
  {
   "cell_type": "code",
   "execution_count": null,
   "metadata": {},
   "outputs": [],
   "source": [
    "plt.hist(londres[londres['LCLid']=='MAC000113']['energy_max'],8)"
   ]
  },
  {
   "cell_type": "markdown",
   "metadata": {},
   "source": [
    "#### Ejercicio\n",
    "\n",
    "¿Qué muestra el gráfico anterior? ¿Cómo lo podemos mejorar?"
   ]
  },
  {
   "cell_type": "code",
   "execution_count": null,
   "metadata": {},
   "outputs": [],
   "source": [
    "#Vuestro código!"
   ]
  },
  {
   "cell_type": "markdown",
   "metadata": {},
   "source": [
    "# COSES QUE NO SE ON POSAR DE MOMENT"
   ]
  },
  {
   "cell_type": "markdown",
   "metadata": {},
   "source": [
    "## Data Collections\n",
    "\n",
    "We need to represent data collections: words in a text, students in a course, experimental data, etc., or to store intermediate results. The most simple data collection is the <code>list</code> (an ordered sequence of objects):"
   ]
  },
  {
   "cell_type": "markdown",
   "metadata": {},
   "source": [
    "## A program in Python\n",
    "\n",
    "General Rules:\n",
    "\n",
    "+ All text from a <code>#</code> simbol to the end of a line are considered as comments.\n",
    "+ Code must be **indented** and sometimes delineated by colons. The Python standard for indentation is four spaces. Never use tabs: it can produce hard to find errors. Set you editor to convert tabs to spaces.\n",
    "+ Typically, a statement must be on a line. You can use a backslash <code>\\</code> at the end of a line to continue a statement on to the next line.\n"
   ]
  },
  {
   "cell_type": "code",
   "execution_count": null,
   "metadata": {
    "scrolled": true
   },
   "outputs": [],
   "source": [
    "# This program computes the factorial of 100.\n",
    "\n",
    "fact = 1\n",
    "n= 100\n",
    "for factor in range(n,0,-1):\n",
    "    fact = fact * factor \n",
    "print(fact)    "
   ]
  },
  {
   "cell_type": "code",
   "execution_count": null,
   "metadata": {
    "scrolled": true
   },
   "outputs": [],
   "source": [
    "list(range(10,0,-1))"
   ]
  },
  {
   "cell_type": "markdown",
   "metadata": {},
   "source": [
    "<div class=\"alert alert-error\"> When we write a colon at the end of an iteration, all lines indented at the next level are considered *part* of the iteration. \n",
    "\n",
    "When we write a line at the same indentation as the iteration, we are closing the iteration.</div>"
   ]
  },
  {
   "cell_type": "markdown",
   "metadata": {},
   "source": [
    "## References\n",
    "\n",
    "We can inspect the reference of an object:"
   ]
  },
  {
   "cell_type": "code",
   "execution_count": null,
   "metadata": {
    "scrolled": true
   },
   "outputs": [],
   "source": [
    "a ='hello'\n",
    "print(id(a))"
   ]
  },
  {
   "cell_type": "markdown",
   "metadata": {},
   "source": [
    "Two different objects:"
   ]
  },
  {
   "cell_type": "code",
   "execution_count": null,
   "metadata": {
    "scrolled": true
   },
   "outputs": [],
   "source": [
    "a = [1,2,3]\n",
    "b = [1,2,3]\n",
    "print(id(a), id(b))\n",
    "print (a is b)\n",
    "print (a == b)"
   ]
  },
  {
   "cell_type": "markdown",
   "metadata": {},
   "source": [
    "Object alias:"
   ]
  },
  {
   "cell_type": "code",
   "execution_count": null,
   "metadata": {
    "scrolled": true
   },
   "outputs": [],
   "source": [
    "a = [1,2,3]\n",
    "b = a                     # alias\n",
    "print(id(a), id(b))"
   ]
  },
  {
   "cell_type": "markdown",
   "metadata": {},
   "source": [
    "Cloning:"
   ]
  },
  {
   "cell_type": "code",
   "execution_count": null,
   "metadata": {
    "scrolled": true
   },
   "outputs": [],
   "source": [
    "a = [1,2,3]\n",
    "b = a[:]                  # cloning with :\n",
    "\n",
    "print(a, b, b[1:], id(a), id(b), id(b[1:]))"
   ]
  },
  {
   "cell_type": "markdown",
   "metadata": {},
   "source": [
    "When a list is an argument of a function, we are sending the *reference*, not a *copy*"
   ]
  },
  {
   "cell_type": "markdown",
   "metadata": {},
   "source": [
    "### Generators"
   ]
  },
  {
   "cell_type": "markdown",
   "metadata": {},
   "source": [
    "There is a downside to list comprehensions: the entire list has to be stored in memory at once. This isn’t a problem for small lists like the ones in the above examples, or even of lists several orders of magnitude larger. But we can use **<font color=\"red\">generators</font>** to solve this problem.\n",
    "\n",
    "Generator expressions do not load the whole list into memory at once, but instead create a *generator object* so only one list element has to be loaded at any time.\n",
    "\n",
    "Generator expressions have the same syntax as list comprehensions, but with parentheses around the outside instead of brackets:"
   ]
  },
  {
   "cell_type": "code",
   "execution_count": null,
   "metadata": {
    "scrolled": true
   },
   "outputs": [],
   "source": [
    "num = [1, 4, -5, 10, -7, 2, 3, -1]\n",
    "\n",
    "squared = ( x**2 for x in num if x > 0 )\n",
    "print(type(squared), squared)"
   ]
  },
  {
   "cell_type": "code",
   "execution_count": null,
   "metadata": {
    "scrolled": true
   },
   "outputs": [],
   "source": [
    "#The elements of the generator must be accessed by an iterator because they are generated when needed:\n",
    "\n",
    "lis = []\n",
    "for item in squared:\n",
    "    lis = lis + [item]\n",
    "print(lis)"
   ]
  },
  {
   "cell_type": "markdown",
   "metadata": {},
   "source": [
    "We can define our own generators with the ``yield`` statesment. For example, let's build a generator for the binary representation of a number between 0 and 1 with arbitrary precision."
   ]
  },
  {
   "cell_type": "code",
   "execution_count": null,
   "metadata": {
    "scrolled": true
   },
   "outputs": [],
   "source": [
    "# binary representation of a number between 0 and 1 (b bits precision).\n",
    "\n",
    "def res(n,b):\n",
    "    bin_a = '.'\n",
    "    for i in range(b):\n",
    "        n *= 2\n",
    "        bin_a +=  str(int(n))\n",
    "        n = n % 1\n",
    "    return bin_a\n",
    "\n",
    "print(res(1/3.0,10))"
   ]
  },
  {
   "cell_type": "code",
   "execution_count": null,
   "metadata": {
    "scrolled": true
   },
   "outputs": [],
   "source": [
    "# binary representation of a number between 0 and 1 (precision as needed).\n",
    "\n",
    "def binRep(n):\n",
    "    while True:\n",
    "        n *= 2\n",
    "        yield int(n)\n",
    "        n = n % 1\n",
    "\n",
    "\n",
    "a = binRep(1/3.) \n",
    "a_bin = '.'\n",
    "for i in range(100):\n",
    "    a_bin +=  str(next(a))\n",
    "    \n",
    "print(a_bin)"
   ]
  },
  {
   "cell_type": "markdown",
   "metadata": {},
   "source": [
    "A more ellegant way of reading a CSV file:\n",
    "+  Wrap the CSV reader in a function that returns a generator\n",
    "+  Use context managers ``with [callable] as [name]`` to ensure that the handle to the file is closed automatically.\n",
    "+  Use the ``csv.DictReader`` class when headers are present (otherwise just use ``csv.reader``)"
   ]
  },
  {
   "cell_type": "code",
   "execution_count": null,
   "metadata": {
    "scrolled": true
   },
   "outputs": [],
   "source": [
    "import csv\n",
    "\n",
    "ADV = 'files/Advertising.csv'\n",
    "\n",
    "def read_data(path):\n",
    "    with open(path, 'r') as data:\n",
    "        reader = csv.DictReader(data)\n",
    "        for row in reader:\n",
    "            yield row\n",
    "\n",
    "for idx, row in enumerate(read_data(ADV)):\n",
    "    if idx < 15: print(row)\n",
    "    else: break"
   ]
  },
  {
   "cell_type": "markdown",
   "metadata": {},
   "source": [
    "The file is not opened, read, or parsed until you need it. This is powerful because it means that even for much larger data sets you will have efficient, portable code. "
   ]
  },
  {
   "cell_type": "code",
   "execution_count": null,
   "metadata": {
    "scrolled": false
   },
   "outputs": [],
   "source": [
    "data = read_data(ADV)\n",
    "print(data)\n",
    "for item in data:\n",
    "    print(item)"
   ]
  },
  {
   "cell_type": "markdown",
   "metadata": {},
   "source": [
    "## 12. Extras\n",
    "### 12.1 Functions and objects -> Decorators\n",
    "\n",
    "In Python, functions are first-class objects. This means that functions can be passed around and used as arguments, just like any other object (string, int, float, list, and so on). Python also allows you to use functions as return values. You can do functions that accept functions as parameters. So decorators are a wrapper for a function, modifying its behavior:\n"
   ]
  },
  {
   "cell_type": "code",
   "execution_count": null,
   "metadata": {
    "scrolled": true
   },
   "outputs": [],
   "source": [
    "def my_decorator(func):\n",
    "    def wrapper():\n",
    "        print(\"Something is happening before the function is called.\")\n",
    "        func()\n",
    "        print(\"Something is happening after the function is called.\")\n",
    "    return wrapper\n",
    "\n",
    "def say_whee():\n",
    "    print(\"Whee!\")\n",
    "\n",
    "say_whee = my_decorator(say_whee) #Overwrite say_whee using the decorator wraper\n",
    "\n",
    "say_whee()"
   ]
  },
  {
   "cell_type": "markdown",
   "metadata": {},
   "source": [
    "You can use @ sintax to define a function that will use a decorator:"
   ]
  },
  {
   "cell_type": "code",
   "execution_count": null,
   "metadata": {
    "scrolled": true
   },
   "outputs": [],
   "source": [
    "def my_decorator(func):\n",
    "    def wrapper():\n",
    "        print(\"Something is happening before the function is called.\")\n",
    "        func()\n",
    "        print(\"Something is happening after the function is called.\")\n",
    "    return wrapper\n",
    "\n",
    "@my_decorator ##  say_wee= my_decorator(say_whee)\n",
    "def say_whee():\n",
    "    print(\"Whee!\")\n",
    "    \n",
    "say_whee()"
   ]
  },
  {
   "cell_type": "markdown",
   "metadata": {},
   "source": [
    "* Can I decorate with my_decorator functions that have parameters ?"
   ]
  },
  {
   "cell_type": "code",
   "execution_count": null,
   "metadata": {
    "scrolled": true
   },
   "outputs": [],
   "source": [
    "@my_decorator\n",
    "def greet(name):\n",
    "    print(f\"Hello {name}\")\n",
    "greet(\"Eloi\")"
   ]
  },
  {
   "cell_type": "code",
   "execution_count": null,
   "metadata": {
    "scrolled": true
   },
   "outputs": [],
   "source": [
    "def my_decorator(func):\n",
    "    def wrapper(*args, **kwargs):\n",
    "        print(\"Something is happening before the function is called.\")\n",
    "        func(*args, **kwargs)\n",
    "        print(\"Something is happening after the function is called.\")\n",
    "    return wrapper\n",
    "\n",
    "@my_decorator\n",
    "def greet(name):\n",
    "    print(f\"Hello {name}\")\n",
    "greet(\"Eloi\")"
   ]
  },
  {
   "cell_type": "markdown",
   "metadata": {},
   "source": [
    "A list can be passed as a set of parameters to a function using *\n",
    "A Dictionary can be passed as a set of optional parameters to a function using **"
   ]
  },
  {
   "cell_type": "code",
   "execution_count": null,
   "metadata": {
    "scrolled": true
   },
   "outputs": [],
   "source": [
    "args= [1,2,3]\n",
    "kargs = {'d':4}\n",
    "\n",
    "def f(a,b,c,d=0):\n",
    "    print(a+b+c+d)\n",
    "f(*args,**kargs)    "
   ]
  },
  {
   "cell_type": "markdown",
   "metadata": {},
   "source": [
    "## Help: Python Tutorial"
   ]
  },
  {
   "cell_type": "code",
   "execution_count": null,
   "metadata": {
    "scrolled": true
   },
   "outputs": [],
   "source": [
    "from IPython.display import HTML\n",
    "HTML('<iframe src=http://docs.python.org/3/tutorial/index.html?useformat=mobile width=780 height=350></iframe>')"
   ]
  },
  {
   "cell_type": "code",
   "execution_count": null,
   "metadata": {
    "scrolled": true
   },
   "outputs": [],
   "source": [
    "! pip install tqdm #this will not work in Windows "
   ]
  },
  {
   "cell_type": "code",
   "execution_count": null,
   "metadata": {
    "scrolled": true
   },
   "outputs": [],
   "source": [
    "import tqdm\n",
    "from time import sleep\n",
    "text = \"\"\n",
    "for char in tqdm.tqdm(range(1000)):\n",
    "    sleep(0.01)"
   ]
  }
 ],
 "metadata": {
  "kernelspec": {
   "display_name": "Python 3",
   "language": "python",
   "name": "python3"
  },
  "language_info": {
   "codemirror_mode": {
    "name": "ipython",
    "version": 3
   },
   "file_extension": ".py",
   "mimetype": "text/x-python",
   "name": "python",
   "nbconvert_exporter": "python",
   "pygments_lexer": "ipython3",
   "version": "3.7.6"
  },
  "widgets": {
   "state": {},
   "version": "1.1.1"
  }
 },
 "nbformat": 4,
 "nbformat_minor": 1
}
